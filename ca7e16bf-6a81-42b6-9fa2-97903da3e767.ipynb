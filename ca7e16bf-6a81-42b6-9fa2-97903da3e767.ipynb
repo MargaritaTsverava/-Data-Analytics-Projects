  {
   "cell_type": "markdown",
   "metadata": {
    "id": "E0vqbgi9ay0H"
   },
   "source": [
    "# Яндекс.Музыка"
   ]
  },
  {
   "cell_type": "markdown",
   "metadata": {
    "id": "VUC88oWjTJw2"
   },
   "source": [
    "Сравнение Москвы и Петербурга окружено мифами. Например:\n",
    " * Москва — мегаполис, подчинённый жёсткому ритму рабочей недели;\n",
    " * Петербург — культурная столица, со своими вкусами.\n",
    "\n",
    "На данных Яндекс.Музыки вы сравните поведение пользователей двух столиц.\n",
    "\n",
    "**Цель исследования** — проверьте три гипотезы:\n",
    "1. Активность пользователей зависит от дня недели. Причём в Москве и Петербурге это проявляется по-разному.\n",
    "2. В понедельник утром в Москве преобладают одни жанры, а в Петербурге — другие. Так же и вечером пятницы преобладают разные жанры — в зависимости от города. \n",
    "3. Москва и Петербург предпочитают разные жанры музыки. В Москве чаще слушают поп-музыку, в Петербурге — русский рэп.\n",
    "\n",
    "**Ход исследования**\n",
    "\n",
    "Данные о поведении пользователей вы получите из файла `yandex_music_project.csv`. О качестве данных ничего не известно. Поэтому перед проверкой гипотез понадобится обзор данных. \n",
    "\n",
    "Вы проверите данные на ошибки и оцените их влияние на исследование. Затем, на этапе предобработки вы поищете возможность исправить самые критичные ошибки данных.\n",
    " \n",
    "Таким образом, исследование пройдёт в три этапа:\n",
    " 1. Обзор данных.\n",
    " 2. Предобработка данных.\n",
    " 3. Проверка гипотез.\n",
    "\n"
   ]
  },
  {
   "cell_type": "markdown",
   "metadata": {},
   "source": [
    "<font color='DarkBlue'><b>Комментарий ревьюера</b></font><br>\n",
    "<font color='DarkGreen'>👌 Хочу обратить внимание на начало оформления проекта. Здесь мы выкладываем краткую анотацию самого проекта с целями и планом исследования. В данном проекте это сделала команда Практикума, но в следующих это надо будет делать самому.</font>"
   ]
  },
  {
   "cell_type": "markdown",
   "metadata": {
    "id": "Ml1hmfXC_Zcs"
   },
   "source": [
    "## Обзор данных\n",
    "\n",
    "Составьте первое представление о данных Яндекс.Музыки.\n",
    "\n",
    "\n"
   ]
  },
  {
   "cell_type": "markdown",
   "metadata": {
    "id": "57eAOGIz_Zcs"
   },
   "source": [
    "Основной инструмент аналитика — `pandas`. Импортируйте эту библиотеку."
   ]
  },
  {
   "cell_type": "code",
   "execution_count": 1,
   "metadata": {
    "id": "AXN7PHPN_Zcs"
   },
   "outputs": [],
   "source": [
    "import pandas as pd"
   ]
  },
  {
   "cell_type": "markdown",
   "metadata": {},
   "source": [
    "<font color='DarkBlue'><b>Комментарий ревьюера</b></font><br>\n",
    "<font color='DarkGreen'>👌 Очень хорошо, что ты используешь сокращение pd при импорте библиотеки Pandas, это общепринятое сокращение для удобной дальнейшей работы.</font>"
   ]
  },
  {
   "cell_type": "markdown",
   "metadata": {
    "id": "SG23P8tt_Zcs"
   },
   "source": [
    "Прочитайте файл `yandex_music_project.csv` из папки `/datasets` и сохраните его в переменной `df`:"
   ]
  },
  {
   "cell_type": "code",
   "execution_count": 2,
   "metadata": {
    "id": "fFVu7vqh_Zct"
   },
   "outputs": [],
   "source": [
    "# чтение файла с данными и сохранение в df\n",
    "\n",
    "df = pd.read_csv('/datasets/yandex_music_project.csv')  "
   ]
  },
  {
   "cell_type": "markdown",
   "metadata": {},
   "source": [
    "<font color='DarkBlue'><b>Комментарий ревьюера</b></font><br>\n",
    "<font color='DarkGreen'>👌 Указан правильный путь к файлу: слэш в начале пути очень важен, так как указывает, что нужно искать файл в корневой папке. 👍</font>"
   ]
  },
  {
   "cell_type": "markdown",
   "metadata": {
    "id": "rDoOMd3uTqnZ"
   },
   "source": [
    "Выведите на экран первые десять строк таблицы:"
   ]
  },
  {
   "cell_type": "code",
   "execution_count": 3,
   "metadata": {
    "id": "oWTVX3gW_Zct"
   },
   "outputs": [
    {
     "data": {
      "text/html": [
       "<div>\n",
       "<style scoped>\n",
       "    .dataframe tbody tr th:only-of-type {\n",
       "        vertical-align: middle;\n",
       "    }\n",
       "\n",
       "    .dataframe tbody tr th {\n",
       "        vertical-align: top;\n",
       "    }\n",
       "\n",
       "    .dataframe thead th {\n",
       "        text-align: right;\n",
       "    }\n",
       "</style>\n",
       "<table border=\"1\" class=\"dataframe\">\n",
       "  <thead>\n",
       "    <tr style=\"text-align: right;\">\n",
       "      <th></th>\n",
       "      <th>userID</th>\n",
       "      <th>Track</th>\n",
       "      <th>artist</th>\n",
       "      <th>genre</th>\n",
       "      <th>City</th>\n",
       "      <th>time</th>\n",
       "      <th>Day</th>\n",
       "    </tr>\n",
       "  </thead>\n",
       "  <tbody>\n",
       "    <tr>\n",
       "      <td>0</td>\n",
       "      <td>FFB692EC</td>\n",
       "      <td>Kamigata To Boots</td>\n",
       "      <td>The Mass Missile</td>\n",
       "      <td>rock</td>\n",
       "      <td>Saint-Petersburg</td>\n",
       "      <td>20:28:33</td>\n",
       "      <td>Wednesday</td>\n",
       "    </tr>\n",
       "    <tr>\n",
       "      <td>1</td>\n",
       "      <td>55204538</td>\n",
       "      <td>Delayed Because of Accident</td>\n",
       "      <td>Andreas Rönnberg</td>\n",
       "      <td>rock</td>\n",
       "      <td>Moscow</td>\n",
       "      <td>14:07:09</td>\n",
       "      <td>Friday</td>\n",
       "    </tr>\n",
       "    <tr>\n",
       "      <td>2</td>\n",
       "      <td>20EC38</td>\n",
       "      <td>Funiculì funiculà</td>\n",
       "      <td>Mario Lanza</td>\n",
       "      <td>pop</td>\n",
       "      <td>Saint-Petersburg</td>\n",
       "      <td>20:58:07</td>\n",
       "      <td>Wednesday</td>\n",
       "    </tr>\n",
       "    <tr>\n",
       "      <td>3</td>\n",
       "      <td>A3DD03C9</td>\n",
       "      <td>Dragons in the Sunset</td>\n",
       "      <td>Fire + Ice</td>\n",
       "      <td>folk</td>\n",
       "      <td>Saint-Petersburg</td>\n",
       "      <td>08:37:09</td>\n",
       "      <td>Monday</td>\n",
       "    </tr>\n",
       "    <tr>\n",
       "      <td>4</td>\n",
       "      <td>E2DC1FAE</td>\n",
       "      <td>Soul People</td>\n",
       "      <td>Space Echo</td>\n",
       "      <td>dance</td>\n",
       "      <td>Moscow</td>\n",
       "      <td>08:34:34</td>\n",
       "      <td>Monday</td>\n",
       "    </tr>\n",
       "    <tr>\n",
       "      <td>5</td>\n",
       "      <td>842029A1</td>\n",
       "      <td>Преданная</td>\n",
       "      <td>IMPERVTOR</td>\n",
       "      <td>rusrap</td>\n",
       "      <td>Saint-Petersburg</td>\n",
       "      <td>13:09:41</td>\n",
       "      <td>Friday</td>\n",
       "    </tr>\n",
       "    <tr>\n",
       "      <td>6</td>\n",
       "      <td>4CB90AA5</td>\n",
       "      <td>True</td>\n",
       "      <td>Roman Messer</td>\n",
       "      <td>dance</td>\n",
       "      <td>Moscow</td>\n",
       "      <td>13:00:07</td>\n",
       "      <td>Wednesday</td>\n",
       "    </tr>\n",
       "    <tr>\n",
       "      <td>7</td>\n",
       "      <td>F03E1C1F</td>\n",
       "      <td>Feeling This Way</td>\n",
       "      <td>Polina Griffith</td>\n",
       "      <td>dance</td>\n",
       "      <td>Moscow</td>\n",
       "      <td>20:47:49</td>\n",
       "      <td>Wednesday</td>\n",
       "    </tr>\n",
       "    <tr>\n",
       "      <td>8</td>\n",
       "      <td>8FA1D3BE</td>\n",
       "      <td>И вновь продолжается бой</td>\n",
       "      <td>NaN</td>\n",
       "      <td>ruspop</td>\n",
       "      <td>Moscow</td>\n",
       "      <td>09:17:40</td>\n",
       "      <td>Friday</td>\n",
       "    </tr>\n",
       "    <tr>\n",
       "      <td>9</td>\n",
       "      <td>E772D5C0</td>\n",
       "      <td>Pessimist</td>\n",
       "      <td>NaN</td>\n",
       "      <td>dance</td>\n",
       "      <td>Saint-Petersburg</td>\n",
       "      <td>21:20:49</td>\n",
       "      <td>Wednesday</td>\n",
       "    </tr>\n",
       "  </tbody>\n",
       "</table>\n",
       "</div>"
      ],
      "text/plain": [
       "     userID                        Track            artist   genre  \\\n",
       "0  FFB692EC            Kamigata To Boots  The Mass Missile    rock   \n",
       "1  55204538  Delayed Because of Accident  Andreas Rönnberg    rock   \n",
       "2    20EC38            Funiculì funiculà       Mario Lanza     pop   \n",
       "3  A3DD03C9        Dragons in the Sunset        Fire + Ice    folk   \n",
       "4  E2DC1FAE                  Soul People        Space Echo   dance   \n",
       "5  842029A1                    Преданная         IMPERVTOR  rusrap   \n",
       "6  4CB90AA5                         True      Roman Messer   dance   \n",
       "7  F03E1C1F             Feeling This Way   Polina Griffith   dance   \n",
       "8  8FA1D3BE     И вновь продолжается бой               NaN  ruspop   \n",
       "9  E772D5C0                    Pessimist               NaN   dance   \n",
       "\n",
       "             City        time        Day  \n",
       "0  Saint-Petersburg  20:28:33  Wednesday  \n",
       "1            Moscow  14:07:09     Friday  \n",
       "2  Saint-Petersburg  20:58:07  Wednesday  \n",
       "3  Saint-Petersburg  08:37:09     Monday  \n",
       "4            Moscow  08:34:34     Monday  \n",
       "5  Saint-Petersburg  13:09:41     Friday  \n",
       "6            Moscow  13:00:07  Wednesday  \n",
       "7            Moscow  20:47:49  Wednesday  \n",
       "8            Moscow  09:17:40     Friday  \n",
       "9  Saint-Petersburg  21:20:49  Wednesday  "
      ]
     },
     "execution_count": 3,
     "metadata": {},
     "output_type": "execute_result"
    }
   ],
   "source": [
    "# получение первых 10 строк таблицы df \n",
    "\n",
    "df.head(10)"
   ]
  },
  {
   "cell_type": "markdown",
   "metadata": {},
   "source": [
    "<font color='DarkBlue'><b>Комментарий ревьюера</b></font><br>\n",
    "<font color='DarkGreen'>👌 Все правильно.</font><br>\n",
    "<font color='DarkMagenta'>👉 Если имя таблицы находится в последней строке, исполняемой ячейки, то не нужна функция display(). Если мы выводим таблицу в середине ячейки (например, в теле цикла или функции ), то используем display() 😢</font><br>\n",
    "<font color='DarkGreen'>👌 Есть еще метод tail(), который выводит последние n строк.</font>"
   ]
  },
  {
   "cell_type": "code",
   "execution_count": 4,
   "metadata": {},
   "outputs": [
    {
     "data": {
      "text/html": [
       "<div>\n",
       "<style scoped>\n",
       "    .dataframe tbody tr th:only-of-type {\n",
       "        vertical-align: middle;\n",
       "    }\n",
       "\n",
       "    .dataframe tbody tr th {\n",
       "        vertical-align: top;\n",
       "    }\n",
       "\n",
       "    .dataframe thead th {\n",
       "        text-align: right;\n",
       "    }\n",
       "</style>\n",
       "<table border=\"1\" class=\"dataframe\">\n",
       "  <thead>\n",
       "    <tr style=\"text-align: right;\">\n",
       "      <th></th>\n",
       "      <th>userID</th>\n",
       "      <th>Track</th>\n",
       "      <th>artist</th>\n",
       "      <th>genre</th>\n",
       "      <th>City</th>\n",
       "      <th>time</th>\n",
       "      <th>Day</th>\n",
       "    </tr>\n",
       "  </thead>\n",
       "  <tbody>\n",
       "    <tr>\n",
       "      <td>65074</td>\n",
       "      <td>729CBB09</td>\n",
       "      <td>My Name</td>\n",
       "      <td>McLean</td>\n",
       "      <td>rnb</td>\n",
       "      <td>Moscow</td>\n",
       "      <td>13:32:28</td>\n",
       "      <td>Wednesday</td>\n",
       "    </tr>\n",
       "    <tr>\n",
       "      <td>65075</td>\n",
       "      <td>D08D4A55</td>\n",
       "      <td>Maybe One Day (feat. Black Spade)</td>\n",
       "      <td>Blu &amp; Exile</td>\n",
       "      <td>hip</td>\n",
       "      <td>Saint-Petersburg</td>\n",
       "      <td>10:00:00</td>\n",
       "      <td>Monday</td>\n",
       "    </tr>\n",
       "    <tr>\n",
       "      <td>65076</td>\n",
       "      <td>C5E3A0D5</td>\n",
       "      <td>Jalopiina</td>\n",
       "      <td>NaN</td>\n",
       "      <td>industrial</td>\n",
       "      <td>Moscow</td>\n",
       "      <td>20:09:26</td>\n",
       "      <td>Friday</td>\n",
       "    </tr>\n",
       "    <tr>\n",
       "      <td>65077</td>\n",
       "      <td>321D0506</td>\n",
       "      <td>Freight Train</td>\n",
       "      <td>Chas McDevitt</td>\n",
       "      <td>rock</td>\n",
       "      <td>Moscow</td>\n",
       "      <td>21:43:59</td>\n",
       "      <td>Friday</td>\n",
       "    </tr>\n",
       "    <tr>\n",
       "      <td>65078</td>\n",
       "      <td>3A64EF84</td>\n",
       "      <td>Tell Me Sweet Little Lies</td>\n",
       "      <td>Monica Lopez</td>\n",
       "      <td>country</td>\n",
       "      <td>Moscow</td>\n",
       "      <td>21:59:46</td>\n",
       "      <td>Friday</td>\n",
       "    </tr>\n",
       "  </tbody>\n",
       "</table>\n",
       "</div>"
      ],
      "text/plain": [
       "         userID                              Track         artist       genre  \\\n",
       "65074  729CBB09                            My Name         McLean         rnb   \n",
       "65075  D08D4A55  Maybe One Day (feat. Black Spade)    Blu & Exile         hip   \n",
       "65076  C5E3A0D5                          Jalopiina            NaN  industrial   \n",
       "65077  321D0506                      Freight Train  Chas McDevitt        rock   \n",
       "65078  3A64EF84          Tell Me Sweet Little Lies   Monica Lopez     country   \n",
       "\n",
       "                 City        time        Day  \n",
       "65074            Moscow  13:32:28  Wednesday  \n",
       "65075  Saint-Petersburg  10:00:00     Monday  \n",
       "65076            Moscow  20:09:26     Friday  \n",
       "65077            Moscow  21:43:59     Friday  \n",
       "65078            Moscow  21:59:46     Friday  "
      ]
     },
     "execution_count": 4,
     "metadata": {},
     "output_type": "execute_result"
    }
   ],
   "source": [
    "# Комментарий ревьюера\n",
    "df.tail(5)"
   ]
  },
  {
   "cell_type": "markdown",
   "metadata": {
    "id": "EO73Kwic_Zct"
   },
   "source": [
    "Одной командой получить общую информацию о таблице:"
   ]
  },
  {
   "cell_type": "code",
   "execution_count": 5,
   "metadata": {
    "id": "DSf2kIb-_Zct"
   },
   "outputs": [
    {
     "name": "stdout",
     "output_type": "stream",
     "text": [
      "<class 'pandas.core.frame.DataFrame'>\n",
      "RangeIndex: 65079 entries, 0 to 65078\n",
      "Data columns (total 7 columns):\n",
      "  userID    65079 non-null object\n",
      "Track       63848 non-null object\n",
      "artist      57876 non-null object\n",
      "genre       63881 non-null object\n",
      "  City      65079 non-null object\n",
      "time        65079 non-null object\n",
      "Day         65079 non-null object\n",
      "dtypes: object(7)\n",
      "memory usage: 3.5+ MB\n"
     ]
    }
   ],
   "source": [
    "# получение общей информации о данных в таблице df\n",
    "\n",
    "df.info()   "
   ]
  },
  {
   "cell_type": "markdown",
   "metadata": {},
   "source": [
    "<font color='DarkBlue'><b>Комментарий ревьюера</b></font><br>\n",
    "<font color='DarkGreen'>👌 Отличный выбор, метод info действительно показывает много информации о датафрейме.</font>"
   ]
  },
  {
   "cell_type": "markdown",
   "metadata": {
    "id": "TaQ2Iwbr_Zct"
   },
   "source": [
    "Итак, в таблице семь столбцов. Тип данных во всех столбцах — `object`.\n",
    "\n",
    "Согласно документации к данным:\n",
    "* `userID` — идентификатор пользователя;\n",
    "* `Track` — название трека;  \n",
    "* `artist` — имя исполнителя;\n",
    "* `genre` — название жанра;\n",
    "* `City` — город пользователя;\n",
    "* `time` — время начала прослушивания;\n",
    "* `Day` — день недели.\n",
    "\n",
    "В названиях колонок видны три нарушения стиля:\n",
    "1. Строчные буквы сочетаются с прописными.\n",
    "2. Встречаются пробелы.\n",
    "3. Встречается «верблюжий регистр» (userID), вместо «змеиного_регистра»   #Найдите ещё одну проблему в названии колонок и опишите её в этом пункте.\n",
    "\n",
    "\n",
    "\n",
    "Количество значений в столбцах различается. Значит, в данных есть пропущенные значения.\n"
   ]
  },
  {
   "cell_type": "markdown",
   "metadata": {
    "id": "MCB6-dXG_Zct"
   },
   "source": [
    "**Выводы**\n",
    "\n",
    "В каждой строке таблицы — данные о прослушанном треке. Часть колонок описывает саму композицию: название, исполнителя и жанр. Остальные данные рассказывают о пользователе: из какого он города, когда он слушал музыку. \n",
    "\n",
    "Предварительно можно утверждать, что, данных достаточно для проверки гипотез. Но встречаются пропуски в данных, а в названиях колонок — расхождения с хорошим стилем.\n",
    "\n",
    "Чтобы двигаться дальше, нужно устранить проблемы в данных."
   ]
  },
  {
   "cell_type": "markdown",
   "metadata": {},
   "source": [
    "<font color='DarkBlue'><b>Комментарий ревьюера</b></font><br>\n",
    "<font color='DarkGreen'>👌 Очень правильно после промежуточного анализа данных делать краткие выводы и планировать дальнейшую обработку проблем. Хорошо, что найдено третье нарушение. </font><br>"
   ]
  },
  {
   "cell_type": "markdown",
   "metadata": {
    "id": "SjYF6Ub9_Zct"
   },
   "source": [
    "## Предобработка данных\n",
    "Исправьте стиль в заголовках столбцов, исключите пропуски. Затем проверьте данные на дубликаты."
   ]
  },
  {
   "cell_type": "markdown",
   "metadata": {
    "id": "dIaKXr29_Zct"
   },
   "source": [
    "### Стиль заголовков\n",
    "Выведите на экран названия столбцов:"
   ]
  },
  {
   "cell_type": "code",
   "execution_count": 6,
   "metadata": {
    "id": "oKOTdF_Q_Zct"
   },
   "outputs": [
    {
     "data": {
      "text/plain": [
       "Index(['  userID', 'Track', 'artist', 'genre', '  City  ', 'time', 'Day'], dtype='object')"
      ]
     },
     "execution_count": 6,
     "metadata": {},
     "output_type": "execute_result"
    }
   ],
   "source": [
    "# перечень названий столбцов таблицы df\n",
    "\n",
    "df.columns     "
   ]
  },
  {
   "cell_type": "markdown",
   "metadata": {},
   "source": [
    "<font color='DarkBlue'><b>Комментарий ревьюера</b></font><br>\n",
    "<font color='DarkGreen'>👌 Отлично, мы видим полностью названия колонок, включая лишние пробелы.</font>"
   ]
  },
  {
   "cell_type": "markdown",
   "metadata": {
    "id": "zj5534cv_Zct"
   },
   "source": [
    "Приведите названия в соответствие с хорошим стилем:\n",
    "* несколько слов в названии запишите в «змеином_регистре»,\n",
    "* все символы сделайте строчными,\n",
    "* устраните пробелы.\n",
    "\n",
    "Для этого переименуйте колонки так:\n",
    "* `'  userID'` → `'user_id'`;\n",
    "* `'Track'` → `'track'`;\n",
    "* `'  City  '` → `'city'`;\n",
    "* `'Day'` → `'day'`."
   ]
  },
  {
   "cell_type": "code",
   "execution_count": 7,
   "metadata": {
    "id": "ISlFqs5y_Zct"
   },
   "outputs": [],
   "source": [
    "# переименование столбцов\n",
    "\n",
    "df = df.rename(columns={'  userID': 'user_id', 'Track': 'track', '  City  ': 'city', 'Day': 'day'})  "
   ]
  },
  {
   "cell_type": "markdown",
   "metadata": {},
   "source": [
    "<font color='DarkBlue'><b>Комментарий ревьюера</b></font><br>\n",
    "<font color='DarkGreen'>👌 Хороший выбор, метод rename сработает без ошибок, даже если изменится порядок столбцов.</font>"
   ]
  },
  {
   "cell_type": "markdown",
   "metadata": {
    "id": "1dqbh00J_Zct"
   },
   "source": [
    "Проверьте результат. Для этого ещё раз выведите на экран названия столбцов:"
   ]
  },
  {
   "cell_type": "code",
   "execution_count": 8,
   "metadata": {
    "id": "d4NOAmTW_Zct"
   },
   "outputs": [
    {
     "data": {
      "text/plain": [
       "Index(['user_id', 'track', 'artist', 'genre', 'city', 'time', 'day'], dtype='object')"
      ]
     },
     "execution_count": 8,
     "metadata": {},
     "output_type": "execute_result"
    }
   ],
   "source": [
    "# проверка результатов - перечень названий столбцов\n",
    "\n",
    "df.columns     "
   ]
  },
  {
   "cell_type": "markdown",
   "metadata": {},
   "source": [
    "<font color='DarkBlue'><b>Комментарий ревьюера</b></font><br>\n",
    "<font color='DarkGreen'>👌 Действительно, замена названия колонок произошла корректно. Очень полезно после преобразования таблицы проверять результат.</font>"
   ]
  },
  {
   "cell_type": "markdown",
   "metadata": {
    "id": "5ISfbcfY_Zct"
   },
   "source": [
    "### Пропуски значений\n",
    "Сначала посчитайте, сколько в таблице пропущенных значений. Для этого достаточно двух методов `pandas`:"
   ]
  },
  {
   "cell_type": "code",
   "execution_count": 9,
   "metadata": {
    "id": "RskX29qr_Zct"
   },
   "outputs": [
    {
     "data": {
      "text/plain": [
       "user_id       0\n",
       "track      1231\n",
       "artist     7203\n",
       "genre      1198\n",
       "city          0\n",
       "time          0\n",
       "day           0\n",
       "dtype: int64"
      ]
     },
     "execution_count": 9,
     "metadata": {},
     "output_type": "execute_result"
    }
   ],
   "source": [
    "# подсчёт пропусков\n",
    "\n",
    "df.isna().sum()"
   ]
  },
  {
   "cell_type": "markdown",
   "metadata": {},
   "source": [
    "<font color='DarkBlue'><b>Комментарий ревьюера</b></font><br>\n",
    "<font color='DarkGreen'>👌 Все верно. Выбран метод isna() для нахождения пропущенных значений, это отлично! На самом деле, isnull() и isna() делают одно и то же, но использование isna() предпочтительнее.</font>"
   ]
  },
  {
   "cell_type": "markdown",
   "metadata": {
    "id": "qubhgnlO_Zct"
   },
   "source": [
    "Не все пропущенные значения влияют на исследование. Так в `track` и `artist` пропуски не важны для вашей работы. Достаточно заменить их явными обозначениями.\n",
    "\n",
    "Но пропуски в `genre` могут помешать сравнению музыкальных вкусов в Москве и Санкт-Петербурге. На практике было бы правильно установить причину пропусков и восстановить данные. Такой возможности нет в учебном проекте. Придётся:\n",
    "* заполнить и эти пропуски явными обозначениями,\n",
    "* оценить, насколько они повредят расчётам. "
   ]
  },
  {
   "cell_type": "markdown",
   "metadata": {
    "id": "fSv2laPA_Zct"
   },
   "source": [
    "Замените пропущенные значения в столбцах `track`, `artist` и `genre` на строку `'unknown'`. Для этого создайте список `columns_to_replace`, переберите его элементы циклом `for` и для каждого столбца выполните замену пропущенных значений:"
   ]
  },
  {
   "cell_type": "code",
   "execution_count": 10,
   "metadata": {
    "id": "KplB5qWs_Zct"
   },
   "outputs": [],
   "source": [
    "# перебор названий столбцов в цикле и замена пропущенных значений на 'unknown'\n",
    "\n",
    "columns_to_replace = ['track', 'artist', 'genre']   \n",
    "\n",
    "for i in columns_to_replace:\n",
    "    df[i] = df[i].fillna('unknown')"
   ]
  },
  {
   "cell_type": "markdown",
   "metadata": {},
   "source": [
    "<font color='DarkBlue'><b>Комментарий ревьюера</b></font><br>\n",
    "<font color='DarkGreen'>👌 Хорошо. Список columns_to_replace сформирован верно, цикл отработал без ошибок. 😄</font>"
   ]
  },
  {
   "cell_type": "markdown",
   "metadata": {
    "id": "Ilsm-MZo_Zct"
   },
   "source": [
    "Убедитесь, что в таблице не осталось пропусков. Для этого ещё раз посчитайте пропущенные значения."
   ]
  },
  {
   "cell_type": "code",
   "execution_count": 11,
   "metadata": {
    "id": "Tq4nYRX4_Zct"
   },
   "outputs": [
    {
     "data": {
      "text/plain": [
       "user_id    0\n",
       "track      0\n",
       "artist     0\n",
       "genre      0\n",
       "city       0\n",
       "time       0\n",
       "day        0\n",
       "dtype: int64"
      ]
     },
     "execution_count": 11,
     "metadata": {},
     "output_type": "execute_result"
    }
   ],
   "source": [
    "# подсчёт пропусков\n",
    "\n",
    "df.isna().sum()"
   ]
  },
  {
   "cell_type": "markdown",
   "metadata": {},
   "source": [
    "<font color='DarkBlue'><b>Комментарий ревьюера</b></font><br>\n",
    "<font color='DarkGreen'>👌 Замечательно, сделано все правильно.</font>"
   ]
  },
  {
   "cell_type": "markdown",
   "metadata": {
    "id": "BWKRtBJ3_Zct"
   },
   "source": [
    "### Дубликаты\n",
    "Посчитайте явные дубликаты в таблице одной командой:"
   ]
  },
  {
   "cell_type": "code",
   "execution_count": 12,
   "metadata": {
    "id": "36eES_S0_Zct"
   },
   "outputs": [
    {
     "data": {
      "text/plain": [
       "3826"
      ]
     },
     "execution_count": 12,
     "metadata": {},
     "output_type": "execute_result"
    }
   ],
   "source": [
    "# подсчёт явных дубликатов\n",
    "\n",
    "df.duplicated().sum()"
   ]
  },
  {
   "cell_type": "markdown",
   "metadata": {},
   "source": [
    "<font color='DarkBlue'><b>Комментарий ревьюера</b></font><br>\n",
    "<font color='DarkGreen'>👌 Отлично! Дубликаты найдены верно и посчитаны оптимальными методами.</font>"
   ]
  },
  {
   "cell_type": "markdown",
   "metadata": {
    "id": "Ot25h6XR_Zct"
   },
   "source": [
    "Вызовите специальный метод `pandas`, чтобы удалить явные дубликаты:"
   ]
  },
  {
   "cell_type": "code",
   "execution_count": 13,
   "metadata": {
    "id": "exFHq6tt_Zct"
   },
   "outputs": [],
   "source": [
    "# удаление явных дубликатов (с удалением старых индексов и формированием новых)\n",
    "\n",
    "df = df.drop_duplicates().reset_index(drop=True)"
   ]
  },
  {
   "cell_type": "markdown",
   "metadata": {
    "id": "Im2YwBEG_Zct"
   },
   "source": [
    "Ещё раз посчитайте явные дубликаты в таблице — убедитесь, что полностью от них избавились:"
   ]
  },
  {
   "cell_type": "code",
   "execution_count": 14,
   "metadata": {
    "id": "-8PuNWQ0_Zct"
   },
   "outputs": [
    {
     "data": {
      "text/plain": [
       "0"
      ]
     },
     "execution_count": 14,
     "metadata": {},
     "output_type": "execute_result"
    }
   ],
   "source": [
    "# проверка на отсутствие дубликатов\n",
    "\n",
    "df.duplicated().sum()"
   ]
  },
  {
   "cell_type": "markdown",
   "metadata": {},
   "source": [
    "<font color='DarkBlue'><b>Комментарий ревьюера</b></font><br>\n",
    "<font color='DarkGreen'>👌 Правильно удалены дубликаты и проверено их отсутствие.</font>"
   ]
  },
  {
   "cell_type": "markdown",
   "metadata": {
    "id": "QlFBsxAr_Zct"
   },
   "source": [
    "Теперь избавьтесь от неявных дубликатов в колонке `genre`. Например, название одного и того же жанра может быть записано немного по-разному. Такие ошибки тоже повлияют на результат исследования."
   ]
  },
  {
   "cell_type": "markdown",
   "metadata": {
    "id": "eSjWwsOh_Zct"
   },
   "source": [
    "Выведите на экран список уникальных названий жанров, отсортированный в алфавитном порядке. Для этого:\n",
    "* извлеките нужный столбец датафрейма, \n",
    "* примените к нему метод сортировки,\n",
    "* для отсортированного столбца вызовите метод, который вернёт уникальные значения из столбца."
   ]
  },
  {
   "cell_type": "code",
   "execution_count": 15,
   "metadata": {
    "id": "JIUcqzZN_Zct"
   },
   "outputs": [
    {
     "data": {
      "text/plain": [
       "array(['acid', 'acoustic', 'action', 'adult', 'africa', 'afrikaans',\n",
       "       'alternative', 'alternativepunk', 'ambient', 'americana',\n",
       "       'animated', 'anime', 'arabesk', 'arabic', 'arena',\n",
       "       'argentinetango', 'art', 'audiobook', 'author', 'avantgarde',\n",
       "       'axé', 'baile', 'balkan', 'beats', 'bigroom', 'black', 'bluegrass',\n",
       "       'blues', 'bollywood', 'bossa', 'brazilian', 'breakbeat', 'breaks',\n",
       "       'broadway', 'cantautori', 'cantopop', 'canzone', 'caribbean',\n",
       "       'caucasian', 'celtic', 'chamber', 'chanson', 'children', 'chill',\n",
       "       'chinese', 'choral', 'christian', 'christmas', 'classical',\n",
       "       'classicmetal', 'club', 'colombian', 'comedy', 'conjazz',\n",
       "       'contemporary', 'country', 'cuban', 'dance', 'dancehall',\n",
       "       'dancepop', 'dark', 'death', 'deep', 'deutschrock', 'deutschspr',\n",
       "       'dirty', 'disco', 'dnb', 'documentary', 'downbeat', 'downtempo',\n",
       "       'drum', 'dub', 'dubstep', 'eastern', 'easy', 'electronic',\n",
       "       'electropop', 'emo', 'entehno', 'epicmetal', 'estrada', 'ethnic',\n",
       "       'eurofolk', 'european', 'experimental', 'extrememetal', 'fado',\n",
       "       'fairytail', 'film', 'fitness', 'flamenco', 'folk', 'folklore',\n",
       "       'folkmetal', 'folkrock', 'folktronica', 'forró', 'frankreich',\n",
       "       'französisch', 'french', 'funk', 'future', 'gangsta', 'garage',\n",
       "       'german', 'ghazal', 'gitarre', 'glitch', 'gospel', 'gothic',\n",
       "       'grime', 'grunge', 'gypsy', 'handsup', \"hard'n'heavy\", 'hardcore',\n",
       "       'hardstyle', 'hardtechno', 'hip', 'hip-hop', 'hiphop',\n",
       "       'historisch', 'holiday', 'hop', 'horror', 'house', 'hymn', 'idm',\n",
       "       'independent', 'indian', 'indie', 'indipop', 'industrial',\n",
       "       'inspirational', 'instrumental', 'international', 'irish', 'jam',\n",
       "       'japanese', 'jazz', 'jewish', 'jpop', 'jungle', 'k-pop',\n",
       "       'karadeniz', 'karaoke', 'kayokyoku', 'korean', 'laiko', 'latin',\n",
       "       'latino', 'leftfield', 'local', 'lounge', 'loungeelectronic',\n",
       "       'lovers', 'malaysian', 'mandopop', 'marschmusik', 'meditative',\n",
       "       'mediterranean', 'melodic', 'metal', 'metalcore', 'mexican',\n",
       "       'middle', 'minimal', 'miscellaneous', 'modern', 'mood', 'mpb',\n",
       "       'muslim', 'native', 'neoklassik', 'neue', 'new', 'newage',\n",
       "       'newwave', 'nu', 'nujazz', 'numetal', 'oceania', 'old', 'opera',\n",
       "       'orchestral', 'other', 'piano', 'podcasts', 'pop', 'popdance',\n",
       "       'popelectronic', 'popeurodance', 'poprussian', 'post',\n",
       "       'posthardcore', 'postrock', 'power', 'progmetal', 'progressive',\n",
       "       'psychedelic', 'punjabi', 'punk', 'quebecois', 'ragga', 'ram',\n",
       "       'rancheras', 'rap', 'rave', 'reggae', 'reggaeton', 'regional',\n",
       "       'relax', 'religious', 'retro', 'rhythm', 'rnb', 'rnr', 'rock',\n",
       "       'rockabilly', 'rockalternative', 'rockindie', 'rockother',\n",
       "       'romance', 'roots', 'ruspop', 'rusrap', 'rusrock', 'russian',\n",
       "       'salsa', 'samba', 'scenic', 'schlager', 'self', 'sertanejo',\n",
       "       'shanson', 'shoegazing', 'showtunes', 'singer', 'ska', 'skarock',\n",
       "       'slow', 'smooth', 'soft', 'soul', 'soulful', 'sound', 'soundtrack',\n",
       "       'southern', 'specialty', 'speech', 'spiritual', 'sport',\n",
       "       'stonerrock', 'surf', 'swing', 'synthpop', 'synthrock',\n",
       "       'sängerportrait', 'tango', 'tanzorchester', 'taraftar', 'tatar',\n",
       "       'tech', 'techno', 'teen', 'thrash', 'top', 'traditional',\n",
       "       'tradjazz', 'trance', 'tribal', 'trip', 'triphop', 'tropical',\n",
       "       'türk', 'türkçe', 'ukrrock', 'unknown', 'urban', 'uzbek',\n",
       "       'variété', 'vi', 'videogame', 'vocal', 'western', 'world',\n",
       "       'worldbeat', 'ïîï', 'электроника'], dtype=object)"
      ]
     },
     "execution_count": 15,
     "metadata": {},
     "output_type": "execute_result"
    }
   ],
   "source": [
    "# Просмотр уникальных названий жанров\n",
    "\n",
    "df['genre'].sort_values().unique()"
   ]
  },
  {
   "cell_type": "markdown",
   "metadata": {},
   "source": [
    "<font color='DarkBlue'><b>Комментарий ревьюера</b></font><br>\n",
    "<font color='DarkGreen'>👌 Список с названиями жанров отсортирован успешно. </font><br>\n",
    "<font color='DarkMagenta'>👉 Но, по заданию нужно использовать не функцию, а метод sort_values(): df['genre'].sort_values().unique()</font>"
   ]
  },
  {
   "cell_type": "markdown",
   "metadata": {},
   "source": [
    "<font color='DarkBlue'><b>Комментарий ревьюера 2</b></font><br>\n",
    "<font color='DarkGreen'>👌 sorted() это функция Python, универсальная для списков, строк и т.д. .sort_values() это метод библиотеки Pandas заточенная под таблицы и поэтому работающая быстрее. На 10 млн.строк разница будет существенная. 😉</font>"
   ]
  },
  {
   "cell_type": "markdown",
   "metadata": {
    "id": "qej-Qmuo_Zct"
   },
   "source": [
    "Просмотрите список и найдите неявные дубликаты названия `hiphop`. Это могут быть названия с ошибками или альтернативные названия того же жанра.\n",
    "\n",
    "Вы увидите следующие неявные дубликаты:\n",
    "* *hip*,\n",
    "* *hop*,\n",
    "* *hip-hop*.\n",
    "\n",
    "Чтобы очистить от них таблицу, напишите функцию `replace_wrong_genres()` с двумя параметрами: \n",
    "* `wrong_genres` — список дубликатов,\n",
    "* `correct_genre` — строка с правильным значением.\n",
    "\n",
    "Функция должна исправить колонку `genre` в таблице `df`: заменить каждое значение из списка `wrong_genres` на значение из `correct_genre`."
   ]
  },
  {
   "cell_type": "markdown",
   "metadata": {},
   "source": [
    "<font color='DarkBlue'><b>Комментарий ревьюера</b></font><br>\n",
    "<font color='DarkMagenta'>👉 А попробуй найти еще неявные дубликаты, кроме указанных в задании. Вдруг получится. 😄</font><br>\n",
    "\n",
    "<font color='DarkBlue'><b>Комментарий Риты</b></font><br>\n",
    "Вот\n",
    "* *folk*,\n",
    "* *folklore*.\n",
    "\n",
    "И еще\n",
    "* *neue*,\n",
    "* *new*."
   ]
  },
  {
   "cell_type": "markdown",
   "metadata": {},
   "source": [
    "<font color='DarkBlue'><b>Комментарий ревьюера 2</b></font><br>\n",
    "<font color='DarkGreen'>👌 Отлично. 👍 Лучше на данные смотреть шире, чем их описывают в задании.</font>"
   ]
  },
  {
   "cell_type": "code",
   "execution_count": 16,
   "metadata": {
    "id": "ErNDkmns_Zct"
   },
   "outputs": [],
   "source": [
    "# Функция для замены неявных дубликатов\n",
    "\n",
    "def replace_wrong_genres(wrong_genres, correct_genre):\n",
    "    for wrong_genre in wrong_genres:\n",
    "        df['genre'] = df['genre'].replace(wrong_genre, correct_genre) "
   ]
  },
  {
   "cell_type": "markdown",
   "metadata": {},
   "source": [
    "<font color='DarkBlue'><b>Комментарий ревьюера</b></font><br>\n",
    "<font color='DarkGreen'>👌 Отлично! Функция написана верно!</font><br>"
   ]
  },
  {
   "cell_type": "markdown",
   "metadata": {
    "id": "aDoBJxbA_Zct"
   },
   "source": [
    "Вызовите `replace_wrong_genres()` и передайте ей такие аргументы, чтобы она устранила неявные дубликаты: вместо `hip`, `hop` и `hip-hop` в таблице должно быть значение `hiphop`:"
   ]
  },
  {
   "cell_type": "code",
   "execution_count": 17,
   "metadata": {
    "id": "YN5i2hpmSo09"
   },
   "outputs": [],
   "source": [
    "# Устранение неявных дубликатов\n",
    "\n",
    "duplicates = ['hip', 'hop', 'hip-hop']\n",
    "correct_genre_name = 'hiphop'\n",
    "\n",
    "replace_wrong_genres(duplicates, correct_genre_name)"
   ]
  },
  {
   "cell_type": "markdown",
   "metadata": {
    "id": "zQKF16_RG15m"
   },
   "source": [
    "Проверьте, что заменили неправильные названия:\n",
    "\n",
    "*   hip\n",
    "*   hop\n",
    "*   hip-hop\n",
    "\n",
    "Выведите отсортированный список уникальных значений столбца `genre`:"
   ]
  },
  {
   "cell_type": "code",
   "execution_count": 18,
   "metadata": {
    "id": "wvixALnFG15m"
   },
   "outputs": [
    {
     "data": {
      "text/plain": [
       "array(['acid', 'acoustic', 'action', 'adult', 'africa', 'afrikaans',\n",
       "       'alternative', 'alternativepunk', 'ambient', 'americana',\n",
       "       'animated', 'anime', 'arabesk', 'arabic', 'arena',\n",
       "       'argentinetango', 'art', 'audiobook', 'author', 'avantgarde',\n",
       "       'axé', 'baile', 'balkan', 'beats', 'bigroom', 'black', 'bluegrass',\n",
       "       'blues', 'bollywood', 'bossa', 'brazilian', 'breakbeat', 'breaks',\n",
       "       'broadway', 'cantautori', 'cantopop', 'canzone', 'caribbean',\n",
       "       'caucasian', 'celtic', 'chamber', 'chanson', 'children', 'chill',\n",
       "       'chinese', 'choral', 'christian', 'christmas', 'classical',\n",
       "       'classicmetal', 'club', 'colombian', 'comedy', 'conjazz',\n",
       "       'contemporary', 'country', 'cuban', 'dance', 'dancehall',\n",
       "       'dancepop', 'dark', 'death', 'deep', 'deutschrock', 'deutschspr',\n",
       "       'dirty', 'disco', 'dnb', 'documentary', 'downbeat', 'downtempo',\n",
       "       'drum', 'dub', 'dubstep', 'eastern', 'easy', 'electronic',\n",
       "       'electropop', 'emo', 'entehno', 'epicmetal', 'estrada', 'ethnic',\n",
       "       'eurofolk', 'european', 'experimental', 'extrememetal', 'fado',\n",
       "       'fairytail', 'film', 'fitness', 'flamenco', 'folk', 'folklore',\n",
       "       'folkmetal', 'folkrock', 'folktronica', 'forró', 'frankreich',\n",
       "       'französisch', 'french', 'funk', 'future', 'gangsta', 'garage',\n",
       "       'german', 'ghazal', 'gitarre', 'glitch', 'gospel', 'gothic',\n",
       "       'grime', 'grunge', 'gypsy', 'handsup', \"hard'n'heavy\", 'hardcore',\n",
       "       'hardstyle', 'hardtechno', 'hiphop', 'historisch', 'holiday',\n",
       "       'horror', 'house', 'hymn', 'idm', 'independent', 'indian', 'indie',\n",
       "       'indipop', 'industrial', 'inspirational', 'instrumental',\n",
       "       'international', 'irish', 'jam', 'japanese', 'jazz', 'jewish',\n",
       "       'jpop', 'jungle', 'k-pop', 'karadeniz', 'karaoke', 'kayokyoku',\n",
       "       'korean', 'laiko', 'latin', 'latino', 'leftfield', 'local',\n",
       "       'lounge', 'loungeelectronic', 'lovers', 'malaysian', 'mandopop',\n",
       "       'marschmusik', 'meditative', 'mediterranean', 'melodic', 'metal',\n",
       "       'metalcore', 'mexican', 'middle', 'minimal', 'miscellaneous',\n",
       "       'modern', 'mood', 'mpb', 'muslim', 'native', 'neoklassik', 'neue',\n",
       "       'new', 'newage', 'newwave', 'nu', 'nujazz', 'numetal', 'oceania',\n",
       "       'old', 'opera', 'orchestral', 'other', 'piano', 'podcasts', 'pop',\n",
       "       'popdance', 'popelectronic', 'popeurodance', 'poprussian', 'post',\n",
       "       'posthardcore', 'postrock', 'power', 'progmetal', 'progressive',\n",
       "       'psychedelic', 'punjabi', 'punk', 'quebecois', 'ragga', 'ram',\n",
       "       'rancheras', 'rap', 'rave', 'reggae', 'reggaeton', 'regional',\n",
       "       'relax', 'religious', 'retro', 'rhythm', 'rnb', 'rnr', 'rock',\n",
       "       'rockabilly', 'rockalternative', 'rockindie', 'rockother',\n",
       "       'romance', 'roots', 'ruspop', 'rusrap', 'rusrock', 'russian',\n",
       "       'salsa', 'samba', 'scenic', 'schlager', 'self', 'sertanejo',\n",
       "       'shanson', 'shoegazing', 'showtunes', 'singer', 'ska', 'skarock',\n",
       "       'slow', 'smooth', 'soft', 'soul', 'soulful', 'sound', 'soundtrack',\n",
       "       'southern', 'specialty', 'speech', 'spiritual', 'sport',\n",
       "       'stonerrock', 'surf', 'swing', 'synthpop', 'synthrock',\n",
       "       'sängerportrait', 'tango', 'tanzorchester', 'taraftar', 'tatar',\n",
       "       'tech', 'techno', 'teen', 'thrash', 'top', 'traditional',\n",
       "       'tradjazz', 'trance', 'tribal', 'trip', 'triphop', 'tropical',\n",
       "       'türk', 'türkçe', 'ukrrock', 'unknown', 'urban', 'uzbek',\n",
       "       'variété', 'vi', 'videogame', 'vocal', 'western', 'world',\n",
       "       'worldbeat', 'ïîï', 'электроника'], dtype=object)"
      ]
     },
     "execution_count": 18,
     "metadata": {},
     "output_type": "execute_result"
    }
   ],
   "source": [
    "# Проверка на неявные дубликаты\n",
    "\n",
    "df['genre'].sort_values().unique()"
   ]
  },
  {
   "cell_type": "markdown",
   "metadata": {},
   "source": [
    "<font color='DarkBlue'><b>Комментарий ревьюера</b></font><br>\n",
    "<font color='DarkGreen'>👌 И функция наша работает почти правильно. 🙄</font><br>\n",
    "<font color='DarkMagenta'>👉 <b>sorted()</b> 😒</font>"
   ]
  },
  {
   "cell_type": "markdown",
   "metadata": {
    "id": "jz6a9-7HQUDd"
   },
   "source": [
    "**Выводы**\n",
    "\n",
    "Предобработка обнаружила три проблемы в данных:\n",
    "\n",
    "- нарушения в стиле заголовков,\n",
    "- пропущенные значения,\n",
    "- дубликаты — явные и неявные.\n",
    "\n",
    "Вы исправили заголовки, чтобы упростить работу с таблицей. Без дубликатов исследование станет более точным.\n",
    "\n",
    "Пропущенные значения вы заменили на `'unknown'`. Ещё предстоит увидеть, не повредят ли исследованию пропуски в колонке `genre`.\n",
    "\n",
    "Теперь можно перейти к проверке гипотез. "
   ]
  },
  {
   "cell_type": "markdown",
   "metadata": {
    "id": "WttZHXH0SqKk"
   },
   "source": [
    "## Проверка гипотез"
   ]
  },
  {
   "cell_type": "markdown",
   "metadata": {
    "id": "Im936VVi_Zcu"
   },
   "source": [
    "### Сравнение поведения пользователей двух столиц"
   ]
  },
  {
   "cell_type": "markdown",
   "metadata": {
    "id": "nwt_MuaL_Zcu"
   },
   "source": [
    "Первая гипотеза утверждает, что пользователи по-разному слушают музыку в Москве и Санкт-Петербурге. Проверьте это предположение по данным о трёх днях недели — понедельнике, среде и пятнице. Для этого:\n",
    "\n",
    "* Разделите пользователей Москвы и Санкт-Петербурга\n",
    "* Сравните, сколько треков послушала каждая группа пользователей в понедельник, среду и пятницу.\n"
   ]
  },
  {
   "cell_type": "markdown",
   "metadata": {
    "id": "8Dw_YMmT_Zcu"
   },
   "source": [
    "Для тренировки сначала выполните каждый из расчётов по отдельности. \n",
    "\n",
    "Оцените активность пользователей в каждом городе. Сгруппируйте данные по городу и посчитайте прослушивания в каждой группе.\n",
    "\n"
   ]
  },
  {
   "cell_type": "code",
   "execution_count": 19,
   "metadata": {
    "id": "0_Qs96oh_Zcu"
   },
   "outputs": [
    {
     "data": {
      "text/plain": [
       "42741"
      ]
     },
     "metadata": {},
     "output_type": "display_data"
    },
    {
     "data": {
      "text/plain": [
       "18512"
      ]
     },
     "execution_count": 19,
     "metadata": {},
     "output_type": "execute_result"
    }
   ],
   "source": [
    "# Подсчёт прослушиваний в каждом городе\n",
    "\n",
    "display(df[df['city'] == 'Moscow']['city'].count())\n",
    "df[df['city'] == 'Saint-Petersburg']['city'].count()"
   ]
  },
  {
   "cell_type": "markdown",
   "metadata": {},
   "source": [
    "<font color='DarkBlue'><b>Комментарий ревьюера</b></font><br>\n",
    "<font color='DarkGreen'>👌 Все сделано почти правильно. 🙄</font><br><font color='DarkMagenta'>👉 <b>display()</b> 😒</font>"
   ]
  },
  {
   "cell_type": "markdown",
   "metadata": {
    "id": "dzli3w8o_Zcu"
   },
   "source": [
    "В Москве прослушиваний больше, чем в Петербурге. Из этого не следует, что московские пользователи чаще слушают музыку. Просто самих пользователей в Москве больше.\n",
    "\n",
    "Теперь сгруппируйте данные по дню недели и подсчитайте прослушивания в понедельник, среду и пятницу. Учтите, что в данных есть информация только о прослушиваниях только за эти дни.\n"
   ]
  },
  {
   "cell_type": "code",
   "execution_count": 20,
   "metadata": {
    "id": "uZMKjiJz_Zcu",
    "scrolled": true
   },
   "outputs": [
    {
     "data": {
      "text/plain": [
       "21354"
      ]
     },
     "metadata": {},
     "output_type": "display_data"
    },
    {
     "data": {
      "text/plain": [
       "18059"
      ]
     },
     "metadata": {},
     "output_type": "display_data"
    },
    {
     "data": {
      "text/plain": [
       "21840"
      ]
     },
     "execution_count": 20,
     "metadata": {},
     "output_type": "execute_result"
    }
   ],
   "source": [
    "# Подсчёт прослушиваний в каждый из трёх дней\n",
    "\n",
    "display(df[df['day'] == 'Monday']['day'].count())\n",
    "display(df[df['day'] == 'Wednesday']['day'].count())\n",
    "df[df['day'] == 'Friday']['day'].count()"
   ]
  },
  {
   "cell_type": "markdown",
   "metadata": {},
   "source": [
    "<font color='DarkBlue'><b>Комментарий ревьюера</b></font><br>\n",
    "<font color='DarkGreen'>👌 Все правильно!</font>"
   ]
  },
  {
   "cell_type": "markdown",
   "metadata": {
    "id": "cC2tNrlL_Zcu"
   },
   "source": [
    "В среднем пользователи из двух городов менее активны по средам. Но картина может измениться, если рассмотреть каждый город в отдельности."
   ]
  },
  {
   "cell_type": "markdown",
   "metadata": {
    "id": "POzs8bGa_Zcu"
   },
   "source": [
    "Вы видели, как работает группировка по городу и по дням недели. Теперь напишите функцию, которая объединит два эти расчёта.\n",
    "\n",
    "Создайте функцию `number_tracks()`, которая посчитает прослушивания для заданного дня и города. Ей понадобятся два параметра:\n",
    "* день недели,\n",
    "* название города.\n",
    "\n",
    "В функции сохраните в переменную строки исходной таблицы, у которых значение:\n",
    "  * в колонке `day` равно параметру `day`,\n",
    "  * в колонке `city` равно параметру `city`.\n",
    "\n",
    "Для этого примените последовательную фильтрацию с логической индексацией.\n",
    "\n",
    "Затем посчитайте значения в столбце `user_id` получившейся таблицы. Результат сохраните в новую переменную. Верните эту переменную из функции."
   ]
  },
  {
   "cell_type": "code",
   "execution_count": 21,
   "metadata": {
    "id": "Nz3GdQB1_Zcu"
   },
   "outputs": [],
   "source": [
    "# <создание функции number_tracks()>\n",
    "# Объявляется функция с двумя параметрами: day, city.\n",
    "# В переменной track_list сохраняются те строки таблицы df, для которых \n",
    "# значение в столбце 'day' равно параметру day и одновременно значение\n",
    "# в столбце 'city' равно параметру city (используйте последовательную фильтрацию\n",
    "# с помощью логической индексации).\n",
    "# В переменной track_list_count сохраняется число значений столбца 'user_id',\n",
    "# рассчитанное методом count() для таблицы track_list.\n",
    "# Функция возвращает число - значение track_list_count.\n",
    "             \n",
    "# Функция для подсчёта прослушиваний для конкретного города и дня.\n",
    "# С помощью последовательной фильтрации с логической индексацией она \n",
    "# сначала получит из исходной таблицы строки с нужным днём,\n",
    "# затем из результата отфильтрует строки с нужным городом,\n",
    "# методом count() посчитает количество значений в колонке user_id. \n",
    "# Это количество функция вернёт в качестве результата\n",
    "\n",
    "def number_tracks(day,city):\n",
    "    track_list = df[(df['day'] == day) & (df['city'] == city)]\n",
    "    track_list_count = track_list['user_id'].count()\n",
    "    return track_list_count"
   ]
  },
  {
   "cell_type": "markdown",
   "metadata": {},
   "source": [
    "<font color='DarkBlue'><b>Комментарий ревьюера</b></font><br>\n",
    "<font color='DarkGreen'>👌 Замечательно! Функция написана правильно. 👍</font>"
   ]
  },
  {
   "cell_type": "markdown",
   "metadata": {
    "id": "ytf7xFrFJQ2r"
   },
   "source": [
    "Вызовите `number_tracks()` шесть раз, меняя значение параметров — так, чтобы получить данные для каждого города в каждый из трёх дней."
   ]
  },
  {
   "cell_type": "code",
   "execution_count": 22,
   "metadata": {
    "id": "rJcRATNQ_Zcu"
   },
   "outputs": [
    {
     "data": {
      "text/plain": [
       "15740"
      ]
     },
     "execution_count": 22,
     "metadata": {},
     "output_type": "execute_result"
    }
   ],
   "source": [
    "# количество прослушиваний в Москве по понедельникам\n",
    "\n",
    "number_tracks('Monday','Moscow') "
   ]
  },
  {
   "cell_type": "code",
   "execution_count": 23,
   "metadata": {
    "id": "hq_ncZ5T_Zcu"
   },
   "outputs": [
    {
     "data": {
      "text/plain": [
       "5614"
      ]
     },
     "execution_count": 23,
     "metadata": {},
     "output_type": "execute_result"
    }
   ],
   "source": [
    "# количество прослушиваний в Санкт-Петербурге по понедельникам\n",
    "\n",
    "number_tracks('Monday','Saint-Petersburg') "
   ]
  },
  {
   "cell_type": "code",
   "execution_count": 24,
   "metadata": {
    "id": "_NTy2VPU_Zcu"
   },
   "outputs": [
    {
     "data": {
      "text/plain": [
       "11056"
      ]
     },
     "execution_count": 24,
     "metadata": {},
     "output_type": "execute_result"
    }
   ],
   "source": [
    "# количество прослушиваний в Москве по средам\n",
    "\n",
    "number_tracks('Wednesday','Moscow') "
   ]
  },
  {
   "cell_type": "code",
   "execution_count": 25,
   "metadata": {
    "id": "j2y3TAwo_Zcu"
   },
   "outputs": [
    {
     "data": {
      "text/plain": [
       "7003"
      ]
     },
     "execution_count": 25,
     "metadata": {},
     "output_type": "execute_result"
    }
   ],
   "source": [
    "# количество прослушиваний в Санкт-Петербурге по средам\n",
    "\n",
    "number_tracks('Wednesday','Saint-Petersburg') "
   ]
  },
  {
   "cell_type": "code",
   "execution_count": 26,
   "metadata": {
    "id": "vYDw5u_K_Zcu"
   },
   "outputs": [
    {
     "data": {
      "text/plain": [
       "15945"
      ]
     },
     "execution_count": 26,
     "metadata": {},
     "output_type": "execute_result"
    }
   ],
   "source": [
    "# количество прослушиваний в Москве по пятницам\n",
    "\n",
    "number_tracks('Friday','Moscow') "
   ]
  },
  {
   "cell_type": "code",
   "execution_count": 27,
   "metadata": {
    "id": "8_yzFtW3_Zcu"
   },
   "outputs": [
    {
     "data": {
      "text/plain": [
       "5895"
      ]
     },
     "execution_count": 27,
     "metadata": {},
     "output_type": "execute_result"
    }
   ],
   "source": [
    "# количество прослушиваний в Санкт-Петербурге по пятницам\n",
    "\n",
    "number_tracks('Friday','Saint-Petersburg') "
   ]
  },
  {
   "cell_type": "markdown",
   "metadata": {},
   "source": [
    "<font color='DarkBlue'><b>Комментарий ревьюера</b></font><br>\n",
    "<font color='DarkGreen'>👌 Хорошо. Все вызовы функции сделаны правильно.</font><br>\n",
    "<font color='DarkMagenta'>👉 Можно было бы сделать два списка, один с городами, второй с днем недели. И циклом с перебором по спискам вывести все значения.</font>"
   ]
  },
  {
   "cell_type": "markdown",
   "metadata": {},
   "source": [
    "<font color='DarkBlue'><b>Комментарий Риты</b></font><br>\n",
    "Написала ниже :)"
   ]
  },
  {
   "cell_type": "code",
   "execution_count": 28,
   "metadata": {},
   "outputs": [
    {
     "name": "stdout",
     "output_type": "stream",
     "text": [
      "Moscow , Monday , 15740\n",
      "Saint-Petersburg , Monday , 5614\n",
      "Moscow , Wednesday , 11056\n",
      "Saint-Petersburg , Wednesday , 7003\n",
      "Moscow , Friday , 15945\n",
      "Saint-Petersburg , Friday , 5895\n"
     ]
    }
   ],
   "source": [
    "week_days = ['Monday','Wednesday','Friday']\n",
    "cities = ['Moscow','Saint-Petersburg']\n",
    "\n",
    "for day in week_days:\n",
    "    for city in cities:\n",
    "        print(city,',',day,',',number_tracks(day,city))"
   ]
  },
  {
   "cell_type": "markdown",
   "metadata": {},
   "source": [
    "<font color='DarkBlue'><b>Комментарий ревьюера 2</b></font><br>\n",
    "<font color='DarkGreen'>👌 Не дело профи шесть раз одинаковый код писать. 😂</font>"
   ]
  },
  {
   "cell_type": "markdown",
   "metadata": {
    "id": "7QXffbO-_Zcu"
   },
   "source": [
    "Создайте c помощью конструктора `pd.DataFrame` таблицу, где\n",
    "* названия колонок — `['city', 'monday', 'wednesday', 'friday']`;\n",
    "* данные — результаты, которые вы получили с помощью `number_tracks`."
   ]
  },
  {
   "cell_type": "code",
   "execution_count": 29,
   "metadata": {
    "id": "APAcLpOr_Zcu"
   },
   "outputs": [
    {
     "data": {
      "text/html": [
       "<div>\n",
       "<style scoped>\n",
       "    .dataframe tbody tr th:only-of-type {\n",
       "        vertical-align: middle;\n",
       "    }\n",
       "\n",
       "    .dataframe tbody tr th {\n",
       "        vertical-align: top;\n",
       "    }\n",
       "\n",
       "    .dataframe thead th {\n",
       "        text-align: right;\n",
       "    }\n",
       "</style>\n",
       "<table border=\"1\" class=\"dataframe\">\n",
       "  <thead>\n",
       "    <tr style=\"text-align: right;\">\n",
       "      <th></th>\n",
       "      <th>city</th>\n",
       "      <th>monday</th>\n",
       "      <th>wednesday</th>\n",
       "      <th>friday</th>\n",
       "    </tr>\n",
       "  </thead>\n",
       "  <tbody>\n",
       "    <tr>\n",
       "      <td>0</td>\n",
       "      <td>Moscow</td>\n",
       "      <td>15740</td>\n",
       "      <td>11056</td>\n",
       "      <td>15945</td>\n",
       "    </tr>\n",
       "    <tr>\n",
       "      <td>1</td>\n",
       "      <td>Saint-Petersburg</td>\n",
       "      <td>5614</td>\n",
       "      <td>7003</td>\n",
       "      <td>5895</td>\n",
       "    </tr>\n",
       "  </tbody>\n",
       "</table>\n",
       "</div>"
      ],
      "text/plain": [
       "               city  monday  wednesday  friday\n",
       "0            Moscow   15740      11056   15945\n",
       "1  Saint-Petersburg    5614       7003    5895"
      ]
     },
     "execution_count": 29,
     "metadata": {},
     "output_type": "execute_result"
    }
   ],
   "source": [
    "# Таблица с результатами\n",
    "\n",
    "city_days = ['city', 'monday', 'wednesday', 'friday']\n",
    "number_tracks = [\n",
    "    ['Moscow', 15740, 11056,  15945],\n",
    "    ['Saint-Petersburg', 5614, 7003, 5895] \n",
    "    ]\n",
    "\n",
    "results = pd.DataFrame(data=number_tracks, columns=city_days)\n",
    "\n",
    "results"
   ]
  },
  {
   "cell_type": "markdown",
   "metadata": {},
   "source": [
    "<font color='DarkBlue'><b>Комментарий ревьюера</b></font><br>\n",
    "<font color='DarkGreen'>👌 Мы правильно используем конструктор.</font><br>\n",
    "<font color='DarkMagenta'>👉 Но мы не создали таблицу, так как не присвоили ей имя. То есть, что бы пользоваться этой таблицей нам придется опять использовать конструктор. Проект следует выполнять согласно тексту заданий. 😉</font>"
   ]
  },
  {
   "cell_type": "markdown",
   "metadata": {},
   "source": [
    "<font color='DarkBlue'><b>Комментарий ревьюера 2</b></font><br>\n",
    "<font color='DarkGreen'>👌 Очень хорошо.</font><br>\n",
    "<font color='DarkMagenta'>👉 Можно было бы сделать по другому, не вводить значения вручную, а использовать тобой написанную функцию number_tracks. А то функцию написали, но не используем. 😉</font>"
   ]
  },
  {
   "cell_type": "markdown",
   "metadata": {
    "id": "-EgPIHYu_Zcu"
   },
   "source": [
    "**Выводы**\n",
    "\n",
    "Данные показывают разницу поведения пользователей:\n",
    "\n",
    "- В Москве пик прослушиваний приходится на понедельник и пятницу, а в среду заметен спад.\n",
    "- В Петербурге, наоборот, больше слушают музыку по средам. Активность в понедельник и пятницу здесь почти в равной мере уступает среде.\n",
    "\n",
    "Значит, данные говорят в пользу первой гипотезы."
   ]
  },
  {
   "cell_type": "markdown",
   "metadata": {
    "id": "atZAxtq4_Zcu"
   },
   "source": [
    "### Музыка в начале и в конце недели"
   ]
  },
  {
   "cell_type": "markdown",
   "metadata": {
    "id": "eXrQqXFH_Zcu"
   },
   "source": [
    "Согласно второй гипотезе, утром в понедельник в Москве преобладают одни жанры, а в Петербурге — другие. Так же и вечером пятницы преобладают разные жанры — в зависимости от города."
   ]
  },
  {
   "cell_type": "markdown",
   "metadata": {
    "id": "S8UcW6Hw_Zcu"
   },
   "source": [
    "Сохраните таблицы с данными в две переменные:\n",
    "* по Москве — в `moscow_general`;\n",
    "* по Санкт-Петербургу — в `spb_general`."
   ]
  },
  {
   "cell_type": "code",
   "execution_count": 30,
   "metadata": {
    "id": "qeaFfM_P_Zcu"
   },
   "outputs": [
    {
     "data": {
      "text/html": [
       "<div>\n",
       "<style scoped>\n",
       "    .dataframe tbody tr th:only-of-type {\n",
       "        vertical-align: middle;\n",
       "    }\n",
       "\n",
       "    .dataframe tbody tr th {\n",
       "        vertical-align: top;\n",
       "    }\n",
       "\n",
       "    .dataframe thead th {\n",
       "        text-align: right;\n",
       "    }\n",
       "</style>\n",
       "<table border=\"1\" class=\"dataframe\">\n",
       "  <thead>\n",
       "    <tr style=\"text-align: right;\">\n",
       "      <th></th>\n",
       "      <th>user_id</th>\n",
       "      <th>track</th>\n",
       "      <th>artist</th>\n",
       "      <th>genre</th>\n",
       "      <th>city</th>\n",
       "      <th>time</th>\n",
       "      <th>day</th>\n",
       "    </tr>\n",
       "  </thead>\n",
       "  <tbody>\n",
       "    <tr>\n",
       "      <td>1</td>\n",
       "      <td>55204538</td>\n",
       "      <td>Delayed Because of Accident</td>\n",
       "      <td>Andreas Rönnberg</td>\n",
       "      <td>rock</td>\n",
       "      <td>Moscow</td>\n",
       "      <td>14:07:09</td>\n",
       "      <td>Friday</td>\n",
       "    </tr>\n",
       "    <tr>\n",
       "      <td>4</td>\n",
       "      <td>E2DC1FAE</td>\n",
       "      <td>Soul People</td>\n",
       "      <td>Space Echo</td>\n",
       "      <td>dance</td>\n",
       "      <td>Moscow</td>\n",
       "      <td>08:34:34</td>\n",
       "      <td>Monday</td>\n",
       "    </tr>\n",
       "    <tr>\n",
       "      <td>6</td>\n",
       "      <td>4CB90AA5</td>\n",
       "      <td>True</td>\n",
       "      <td>Roman Messer</td>\n",
       "      <td>dance</td>\n",
       "      <td>Moscow</td>\n",
       "      <td>13:00:07</td>\n",
       "      <td>Wednesday</td>\n",
       "    </tr>\n",
       "    <tr>\n",
       "      <td>7</td>\n",
       "      <td>F03E1C1F</td>\n",
       "      <td>Feeling This Way</td>\n",
       "      <td>Polina Griffith</td>\n",
       "      <td>dance</td>\n",
       "      <td>Moscow</td>\n",
       "      <td>20:47:49</td>\n",
       "      <td>Wednesday</td>\n",
       "    </tr>\n",
       "    <tr>\n",
       "      <td>8</td>\n",
       "      <td>8FA1D3BE</td>\n",
       "      <td>И вновь продолжается бой</td>\n",
       "      <td>unknown</td>\n",
       "      <td>ruspop</td>\n",
       "      <td>Moscow</td>\n",
       "      <td>09:17:40</td>\n",
       "      <td>Friday</td>\n",
       "    </tr>\n",
       "    <tr>\n",
       "      <td>...</td>\n",
       "      <td>...</td>\n",
       "      <td>...</td>\n",
       "      <td>...</td>\n",
       "      <td>...</td>\n",
       "      <td>...</td>\n",
       "      <td>...</td>\n",
       "      <td>...</td>\n",
       "    </tr>\n",
       "    <tr>\n",
       "      <td>61247</td>\n",
       "      <td>83A474E7</td>\n",
       "      <td>I Worship Only What You Bleed</td>\n",
       "      <td>The Black Dahlia Murder</td>\n",
       "      <td>extrememetal</td>\n",
       "      <td>Moscow</td>\n",
       "      <td>21:07:12</td>\n",
       "      <td>Monday</td>\n",
       "    </tr>\n",
       "    <tr>\n",
       "      <td>61248</td>\n",
       "      <td>729CBB09</td>\n",
       "      <td>My Name</td>\n",
       "      <td>McLean</td>\n",
       "      <td>rnb</td>\n",
       "      <td>Moscow</td>\n",
       "      <td>13:32:28</td>\n",
       "      <td>Wednesday</td>\n",
       "    </tr>\n",
       "    <tr>\n",
       "      <td>61250</td>\n",
       "      <td>C5E3A0D5</td>\n",
       "      <td>Jalopiina</td>\n",
       "      <td>unknown</td>\n",
       "      <td>industrial</td>\n",
       "      <td>Moscow</td>\n",
       "      <td>20:09:26</td>\n",
       "      <td>Friday</td>\n",
       "    </tr>\n",
       "    <tr>\n",
       "      <td>61251</td>\n",
       "      <td>321D0506</td>\n",
       "      <td>Freight Train</td>\n",
       "      <td>Chas McDevitt</td>\n",
       "      <td>rock</td>\n",
       "      <td>Moscow</td>\n",
       "      <td>21:43:59</td>\n",
       "      <td>Friday</td>\n",
       "    </tr>\n",
       "    <tr>\n",
       "      <td>61252</td>\n",
       "      <td>3A64EF84</td>\n",
       "      <td>Tell Me Sweet Little Lies</td>\n",
       "      <td>Monica Lopez</td>\n",
       "      <td>country</td>\n",
       "      <td>Moscow</td>\n",
       "      <td>21:59:46</td>\n",
       "      <td>Friday</td>\n",
       "    </tr>\n",
       "  </tbody>\n",
       "</table>\n",
       "<p>42741 rows × 7 columns</p>\n",
       "</div>"
      ],
      "text/plain": [
       "        user_id                          track                   artist  \\\n",
       "1      55204538    Delayed Because of Accident         Andreas Rönnberg   \n",
       "4      E2DC1FAE                    Soul People               Space Echo   \n",
       "6      4CB90AA5                           True             Roman Messer   \n",
       "7      F03E1C1F               Feeling This Way          Polina Griffith   \n",
       "8      8FA1D3BE       И вновь продолжается бой                  unknown   \n",
       "...         ...                            ...                      ...   \n",
       "61247  83A474E7  I Worship Only What You Bleed  The Black Dahlia Murder   \n",
       "61248  729CBB09                        My Name                   McLean   \n",
       "61250  C5E3A0D5                      Jalopiina                  unknown   \n",
       "61251  321D0506                  Freight Train            Chas McDevitt   \n",
       "61252  3A64EF84      Tell Me Sweet Little Lies             Monica Lopez   \n",
       "\n",
       "              genre    city      time        day  \n",
       "1              rock  Moscow  14:07:09     Friday  \n",
       "4             dance  Moscow  08:34:34     Monday  \n",
       "6             dance  Moscow  13:00:07  Wednesday  \n",
       "7             dance  Moscow  20:47:49  Wednesday  \n",
       "8            ruspop  Moscow  09:17:40     Friday  \n",
       "...             ...     ...       ...        ...  \n",
       "61247  extrememetal  Moscow  21:07:12     Monday  \n",
       "61248           rnb  Moscow  13:32:28  Wednesday  \n",
       "61250    industrial  Moscow  20:09:26     Friday  \n",
       "61251          rock  Moscow  21:43:59     Friday  \n",
       "61252       country  Moscow  21:59:46     Friday  \n",
       "\n",
       "[42741 rows x 7 columns]"
      ]
     },
     "execution_count": 30,
     "metadata": {},
     "output_type": "execute_result"
    }
   ],
   "source": [
    "# получение таблицы moscow_general из тех строк таблицы df, \n",
    "# для которых значение в столбце 'city' равно 'Moscow'\n",
    "\n",
    "moscow_general = df[df['city'] == 'Moscow'] \n",
    "\n",
    "moscow_general"
   ]
  },
  {
   "cell_type": "code",
   "execution_count": 31,
   "metadata": {
    "id": "ORaVRKto_Zcu"
   },
   "outputs": [
    {
     "data": {
      "text/html": [
       "<div>\n",
       "<style scoped>\n",
       "    .dataframe tbody tr th:only-of-type {\n",
       "        vertical-align: middle;\n",
       "    }\n",
       "\n",
       "    .dataframe tbody tr th {\n",
       "        vertical-align: top;\n",
       "    }\n",
       "\n",
       "    .dataframe thead th {\n",
       "        text-align: right;\n",
       "    }\n",
       "</style>\n",
       "<table border=\"1\" class=\"dataframe\">\n",
       "  <thead>\n",
       "    <tr style=\"text-align: right;\">\n",
       "      <th></th>\n",
       "      <th>user_id</th>\n",
       "      <th>track</th>\n",
       "      <th>artist</th>\n",
       "      <th>genre</th>\n",
       "      <th>city</th>\n",
       "      <th>time</th>\n",
       "      <th>day</th>\n",
       "    </tr>\n",
       "  </thead>\n",
       "  <tbody>\n",
       "    <tr>\n",
       "      <td>0</td>\n",
       "      <td>FFB692EC</td>\n",
       "      <td>Kamigata To Boots</td>\n",
       "      <td>The Mass Missile</td>\n",
       "      <td>rock</td>\n",
       "      <td>Saint-Petersburg</td>\n",
       "      <td>20:28:33</td>\n",
       "      <td>Wednesday</td>\n",
       "    </tr>\n",
       "    <tr>\n",
       "      <td>2</td>\n",
       "      <td>20EC38</td>\n",
       "      <td>Funiculì funiculà</td>\n",
       "      <td>Mario Lanza</td>\n",
       "      <td>pop</td>\n",
       "      <td>Saint-Petersburg</td>\n",
       "      <td>20:58:07</td>\n",
       "      <td>Wednesday</td>\n",
       "    </tr>\n",
       "    <tr>\n",
       "      <td>3</td>\n",
       "      <td>A3DD03C9</td>\n",
       "      <td>Dragons in the Sunset</td>\n",
       "      <td>Fire + Ice</td>\n",
       "      <td>folk</td>\n",
       "      <td>Saint-Petersburg</td>\n",
       "      <td>08:37:09</td>\n",
       "      <td>Monday</td>\n",
       "    </tr>\n",
       "    <tr>\n",
       "      <td>5</td>\n",
       "      <td>842029A1</td>\n",
       "      <td>Преданная</td>\n",
       "      <td>IMPERVTOR</td>\n",
       "      <td>rusrap</td>\n",
       "      <td>Saint-Petersburg</td>\n",
       "      <td>13:09:41</td>\n",
       "      <td>Friday</td>\n",
       "    </tr>\n",
       "    <tr>\n",
       "      <td>9</td>\n",
       "      <td>E772D5C0</td>\n",
       "      <td>Pessimist</td>\n",
       "      <td>unknown</td>\n",
       "      <td>dance</td>\n",
       "      <td>Saint-Petersburg</td>\n",
       "      <td>21:20:49</td>\n",
       "      <td>Wednesday</td>\n",
       "    </tr>\n",
       "    <tr>\n",
       "      <td>...</td>\n",
       "      <td>...</td>\n",
       "      <td>...</td>\n",
       "      <td>...</td>\n",
       "      <td>...</td>\n",
       "      <td>...</td>\n",
       "      <td>...</td>\n",
       "      <td>...</td>\n",
       "    </tr>\n",
       "    <tr>\n",
       "      <td>61239</td>\n",
       "      <td>D94F810B</td>\n",
       "      <td>Theme from the Walking Dead</td>\n",
       "      <td>Proyecto Halloween</td>\n",
       "      <td>film</td>\n",
       "      <td>Saint-Petersburg</td>\n",
       "      <td>21:14:40</td>\n",
       "      <td>Monday</td>\n",
       "    </tr>\n",
       "    <tr>\n",
       "      <td>61240</td>\n",
       "      <td>BC8EC5CF</td>\n",
       "      <td>Red Lips: Gta (Rover Rework)</td>\n",
       "      <td>Rover</td>\n",
       "      <td>electronic</td>\n",
       "      <td>Saint-Petersburg</td>\n",
       "      <td>21:06:50</td>\n",
       "      <td>Monday</td>\n",
       "    </tr>\n",
       "    <tr>\n",
       "      <td>61241</td>\n",
       "      <td>29E04611</td>\n",
       "      <td>Bre Petrunko</td>\n",
       "      <td>Perunika Trio</td>\n",
       "      <td>world</td>\n",
       "      <td>Saint-Petersburg</td>\n",
       "      <td>13:56:00</td>\n",
       "      <td>Monday</td>\n",
       "    </tr>\n",
       "    <tr>\n",
       "      <td>61242</td>\n",
       "      <td>1B91C621</td>\n",
       "      <td>(Hello) Cloud Mountain</td>\n",
       "      <td>sleepmakeswaves</td>\n",
       "      <td>postrock</td>\n",
       "      <td>Saint-Petersburg</td>\n",
       "      <td>09:22:13</td>\n",
       "      <td>Monday</td>\n",
       "    </tr>\n",
       "    <tr>\n",
       "      <td>61249</td>\n",
       "      <td>D08D4A55</td>\n",
       "      <td>Maybe One Day (feat. Black Spade)</td>\n",
       "      <td>Blu &amp; Exile</td>\n",
       "      <td>hiphop</td>\n",
       "      <td>Saint-Petersburg</td>\n",
       "      <td>10:00:00</td>\n",
       "      <td>Monday</td>\n",
       "    </tr>\n",
       "  </tbody>\n",
       "</table>\n",
       "<p>18512 rows × 7 columns</p>\n",
       "</div>"
      ],
      "text/plain": [
       "        user_id                              track              artist  \\\n",
       "0      FFB692EC                  Kamigata To Boots    The Mass Missile   \n",
       "2        20EC38                  Funiculì funiculà         Mario Lanza   \n",
       "3      A3DD03C9              Dragons in the Sunset          Fire + Ice   \n",
       "5      842029A1                          Преданная           IMPERVTOR   \n",
       "9      E772D5C0                          Pessimist             unknown   \n",
       "...         ...                                ...                 ...   \n",
       "61239  D94F810B        Theme from the Walking Dead  Proyecto Halloween   \n",
       "61240  BC8EC5CF       Red Lips: Gta (Rover Rework)               Rover   \n",
       "61241  29E04611                       Bre Petrunko       Perunika Trio   \n",
       "61242  1B91C621             (Hello) Cloud Mountain     sleepmakeswaves   \n",
       "61249  D08D4A55  Maybe One Day (feat. Black Spade)         Blu & Exile   \n",
       "\n",
       "            genre              city      time        day  \n",
       "0            rock  Saint-Petersburg  20:28:33  Wednesday  \n",
       "2             pop  Saint-Petersburg  20:58:07  Wednesday  \n",
       "3            folk  Saint-Petersburg  08:37:09     Monday  \n",
       "5          rusrap  Saint-Petersburg  13:09:41     Friday  \n",
       "9           dance  Saint-Petersburg  21:20:49  Wednesday  \n",
       "...           ...               ...       ...        ...  \n",
       "61239        film  Saint-Petersburg  21:14:40     Monday  \n",
       "61240  electronic  Saint-Petersburg  21:06:50     Monday  \n",
       "61241       world  Saint-Petersburg  13:56:00     Monday  \n",
       "61242    postrock  Saint-Petersburg  09:22:13     Monday  \n",
       "61249      hiphop  Saint-Petersburg  10:00:00     Monday  \n",
       "\n",
       "[18512 rows x 7 columns]"
      ]
     },
     "execution_count": 31,
     "metadata": {},
     "output_type": "execute_result"
    }
   ],
   "source": [
    "# получение таблицы spb_general из тех строк таблицы df,\n",
    "# для которых значение в столбце 'city' равно 'Saint-Petersburg'\n",
    "\n",
    "spb_general = df[df['city'] == 'Saint-Petersburg']\n",
    "\n",
    "spb_general"
   ]
  },
  {
   "cell_type": "markdown",
   "metadata": {},
   "source": [
    "<font color='DarkBlue'><b>Комментарий ревьюера</b></font><br>\n",
    "<font color='DarkGreen'>👌 Правильно используется логическая индексация.</font><br>\n",
    "<font color='DarkMagenta'>👉 При преобразованиях и извлечениях данных из таблиц рекомендуется просматривать результат преобразования.</font>"
   ]
  },
  {
   "cell_type": "markdown",
   "metadata": {},
   "source": [
    "<font color='DarkBlue'><b>Комментарий ревьюера 2</b></font><br>\n",
    "<font color='DarkGreen'>👌 Хорошо, сразу видно, что мы там натворили. 😄</font>"
   ]
  },
  {
   "cell_type": "markdown",
   "metadata": {
    "id": "MEJV-CX2_Zcu"
   },
   "source": [
    "Создайте функцию `genre_weekday()` с четырьмя параметрами:\n",
    "* таблица (датафрейм) с данными,\n",
    "* день недели,\n",
    "* начальная временная метка в формате 'hh:mm', \n",
    "* последняя временная метка в формате 'hh:mm'.\n",
    "\n",
    "Функция должна вернуть информацию о топ-10 жанров тех треков, которые прослушивали в указанный день, в промежутке между двумя отметками времени."
   ]
  },
  {
   "cell_type": "code",
   "execution_count": 32,
   "metadata": {
    "id": "laJT9BYl_Zcu"
   },
   "outputs": [],
   "source": [
    "# Объявление функции genre_weekday() с параметрами table, day, time1, time2,\n",
    "# которая возвращает информацию о самых популярных жанрах в указанный день в\n",
    "# заданное время:\n",
    "# 1) в переменную genre_df сохраняются те строки переданного датафрейма table, для\n",
    "#    которых одновременно:\n",
    "#    - значение в столбце day равно значению аргумента day\n",
    "#    - значение в столбце time больше значения аргумента time1\n",
    "#    - значение в столбце time меньше значения аргумента time2\n",
    "#    Используйте последовательную фильтрацию с помощью логической индексации.\n",
    "# 2) сгруппировать датафрейм genre_df по столбцу genre, взять один из его\n",
    "#    столбцов и посчитать методом count() количество записей для каждого из\n",
    "#    присутствующих жанров, получившийся Series записать в переменную\n",
    "#    genre_df_count\n",
    "# 3) отсортировать genre_df_count по убыванию встречаемости и сохранить\n",
    "#    в переменную genre_df_sorted\n",
    "# 4) вернуть Series из 10 первых значений genre_df_sorted, это будут топ-10\n",
    "#    популярных жанров (в указанный день, в заданное время)\n",
    "                     \n",
    "                     \n",
    "def genre_weekday(table, day, time1, time2):\n",
    "    genre_df = table[(table['day'] == day) & (table['time'] >= time1) & (table['time'] <= time2)]\n",
    "    genre_df_count = genre_df.groupby('genre')['user_id'].count()\n",
    "    genre_df_sorted = genre_df_count.sort_values(ascending=False)\n",
    "    return genre_df_sorted[:10]"
   ]
  },
  {
   "cell_type": "markdown",
   "metadata": {},
   "source": [
    "<font color='DarkBlue'><b>Комментарий ревьюера</b></font><br>\n",
    "<font color='DarkGreen'>👌 Хорошо сделана фильтрация 😉. Хочу обратить внимание, что при подаче аргументов времени данные равные этому времени не будут обработаны. Обращай внимание на операторы сравнения '<' и '=<'. </font><br>\n",
    "<font color='DarkMagenta'>👉 И не обычное применение метода .haed(10). Ожидалось использование среза. Да, результат одинаковый, но у потенциального работодателя могут возникнуть вопросы по такому коду 😒.</font>"
   ]
  },
  {
   "cell_type": "markdown",
   "metadata": {},
   "source": [
    "<font color='DarkBlue'><b>Комментарий ревьюера 2</b></font><br>\n",
    "<font color='DarkGreen'>👌 Суть в том, что метод `.head(N)` предназначен только для вывода N первых строк таблицы. А срезы предназначены для извлечения из таблицы диапазона строк. Это как гвоздь, можно забивать ботинком, но лучше молотком. А такое использование метода `.head()` может дать повод усомниться в профессионализме автора кода. 🙄</font>"
   ]
  },
  {
   "cell_type": "markdown",
   "metadata": {
    "id": "la2s2_PF_Zcu"
   },
   "source": [
    "Cравните результаты функции `genre_weekday()` для Москвы и Санкт-Петербурга в понедельник утром (с 7:00 до 11:00) и в пятницу вечером (с 17:00 до 23:00):"
   ]
  },
  {
   "cell_type": "code",
   "execution_count": 33,
   "metadata": {
    "id": "yz7itPUQ_Zcu"
   },
   "outputs": [
    {
     "data": {
      "text/plain": [
       "genre\n",
       "pop            781\n",
       "dance          549\n",
       "electronic     480\n",
       "rock           474\n",
       "hiphop         286\n",
       "ruspop         186\n",
       "world          181\n",
       "rusrap         175\n",
       "alternative    164\n",
       "unknown        161\n",
       "Name: user_id, dtype: int64"
      ]
     },
     "execution_count": 33,
     "metadata": {},
     "output_type": "execute_result"
    }
   ],
   "source": [
    "# вызов функции для утра понедельника в Москве (вместо df — таблица moscow_general)\n",
    "# объекты, хранящие время, являются строками и сравниваются как строки\n",
    "# пример вызова: genre_weekday(moscow_general, 'Monday', '07:00', '11:00')\n",
    "\n",
    "genre_weekday(moscow_general, 'Monday', '07:00', '11:00')"
   ]
  },
  {
   "cell_type": "code",
   "execution_count": 34,
   "metadata": {
    "id": "kwUcHPdy_Zcu"
   },
   "outputs": [
    {
     "data": {
      "text/plain": [
       "genre\n",
       "pop            218\n",
       "dance          182\n",
       "rock           162\n",
       "electronic     147\n",
       "hiphop          80\n",
       "ruspop          64\n",
       "alternative     58\n",
       "rusrap          55\n",
       "jazz            44\n",
       "classical       40\n",
       "Name: user_id, dtype: int64"
      ]
     },
     "execution_count": 34,
     "metadata": {},
     "output_type": "execute_result"
    }
   ],
   "source": [
    "# вызов функции для утра понедельника в Петербурге (вместо df — таблица spb_general)\n",
    "\n",
    "genre_weekday(spb_general, 'Monday', '07:00', '11:00')"
   ]
  },
  {
   "cell_type": "code",
   "execution_count": 35,
   "metadata": {
    "id": "EzXVRE1o_Zcu"
   },
   "outputs": [
    {
     "data": {
      "text/plain": [
       "genre\n",
       "pop            713\n",
       "rock           517\n",
       "dance          495\n",
       "electronic     482\n",
       "hiphop         273\n",
       "world          208\n",
       "ruspop         170\n",
       "alternative    163\n",
       "classical      163\n",
       "rusrap         142\n",
       "Name: user_id, dtype: int64"
      ]
     },
     "execution_count": 35,
     "metadata": {},
     "output_type": "execute_result"
    }
   ],
   "source": [
    "# вызов функции для вечера пятницы в Москве\n",
    "\n",
    "genre_weekday(moscow_general, 'Friday', '17:00', '23:00')  "
   ]
  },
  {
   "cell_type": "code",
   "execution_count": 36,
   "metadata": {
    "id": "JZaEKu5v_Zcu"
   },
   "outputs": [
    {
     "data": {
      "text/plain": [
       "genre\n",
       "pop            256\n",
       "rock           216\n",
       "electronic     216\n",
       "dance          210\n",
       "hiphop          97\n",
       "alternative     63\n",
       "jazz            61\n",
       "classical       60\n",
       "rusrap          59\n",
       "world           54\n",
       "Name: user_id, dtype: int64"
      ]
     },
     "execution_count": 36,
     "metadata": {},
     "output_type": "execute_result"
    }
   ],
   "source": [
    "# вызов функции для вечера пятницы в Петербурге\n",
    "\n",
    "genre_weekday(spb_general, 'Friday', '17:00', '23:00') "
   ]
  },
  {
   "cell_type": "markdown",
   "metadata": {},
   "source": [
    "<font color='DarkBlue'><b>Комментарий ревьюера</b></font><br>\n",
    "<font color='DarkGreen'>👌 Отлично! С помощью функции мы получили всю нужную информацию!</font>"
   ]
  },
  {
   "cell_type": "markdown",
   "metadata": {
    "id": "wrCe4MNX_Zcu"
   },
   "source": [
    "**Выводы**\n",
    "\n",
    "Если сравнить топ-10 жанров в понедельник утром, можно сделать такие выводы:\n",
    "\n",
    "1. В Москве и Петербурге слушают похожую музыку. Единственное отличие — в московский рейтинг вошёл жанр “world”, а в петербургский — джаз и классика.\n",
    "\n",
    "2. В Москве пропущенных значений оказалось так много, что значение `'unknown'` заняло десятое место среди самых популярных жанров. Значит, пропущенные значения занимают существенную долю в данных и угрожают достоверности исследования.\n",
    "\n",
    "Вечер пятницы не меняет эту картину. Некоторые жанры поднимаются немного выше, другие спускаются, но в целом топ-10 остаётся тем же самым.\n",
    "\n",
    "Таким образом, вторая гипотеза подтвердилась лишь частично:\n",
    "* Пользователи слушают похожую музыку в начале недели и в конце.\n",
    "* Разница между Москвой и Петербургом не слишком выражена. В Москве чаще слушают русскую популярную музыку, в Петербурге — джаз.\n",
    "\n",
    "Однако пропуски в данных ставят под сомнение этот результат. В Москве их так много, что рейтинг топ-10 мог бы выглядеть иначе, если бы не утерянные  данные о жанрах."
   ]
  },
  {
   "cell_type": "markdown",
   "metadata": {
    "id": "JolODAqr_Zcu"
   },
   "source": [
    "### Жанровые предпочтения в Москве и Петербурге\n",
    "\n",
    "Гипотеза: Петербург — столица рэпа, музыку этого жанра там слушают чаще, чем в Москве.  А Москва — город контрастов, в котором, тем не менее, преобладает поп-музыка."
   ]
  },
  {
   "cell_type": "markdown",
   "metadata": {
    "id": "DlegSvaT_Zcu"
   },
   "source": [
    "Сгруппируйте таблицу `moscow_general` по жанру и посчитайте прослушивания треков каждого жанра методом `count()`. Затем отсортируйте результат в порядке убывания и сохраните его в таблице `moscow_genres`."
   ]
  },
  {
   "cell_type": "code",
   "execution_count": 37,
   "metadata": {
    "id": "r19lIPke_Zcu"
   },
   "outputs": [],
   "source": [
    "# одной строкой: группировка таблицы moscow_general по столбцу 'genre', \n",
    "# подсчёт числа значений 'genre' в этой группировке методом count(), \n",
    "# сортировка получившегося Series в порядке убывания и сохранение в moscow_genres\n",
    "\n",
    "moscow_genres = moscow_general.groupby('genre')['genre'].count().sort_values(ascending=False)"
   ]
  },
  {
   "cell_type": "markdown",
   "metadata": {
    "id": "6kMuomxTiIr8"
   },
   "source": [
    "Выведите на экран первые десять строк `moscow_genres`:"
   ]
  },
  {
   "cell_type": "code",
   "execution_count": 38,
   "metadata": {
    "id": "WhCSooF8_Zcv"
   },
   "outputs": [
    {
     "data": {
      "text/plain": [
       "genre\n",
       "pop            5892\n",
       "dance          4435\n",
       "rock           3965\n",
       "electronic     3786\n",
       "hiphop         2096\n",
       "classical      1616\n",
       "world          1432\n",
       "alternative    1379\n",
       "ruspop         1372\n",
       "rusrap         1161\n",
       "Name: genre, dtype: int64"
      ]
     },
     "execution_count": 38,
     "metadata": {},
     "output_type": "execute_result"
    }
   ],
   "source": [
    "# просмотр первых 10 строк moscow_genres\n",
    "\n",
    "moscow_genres.head(10)"
   ]
  },
  {
   "cell_type": "markdown",
   "metadata": {
    "id": "cnPG2vnN_Zcv"
   },
   "source": [
    "Теперь повторите то же и для Петербурга.\n",
    "\n",
    "Сгруппируйте таблицу `spb_general` по жанру. Посчитайте прослушивания треков каждого жанра. Результат отсортируйте в порядке убывания и сохраните в таблице `spb_genres`:\n"
   ]
  },
  {
   "cell_type": "code",
   "execution_count": 39,
   "metadata": {
    "id": "gluLIpE7_Zcv"
   },
   "outputs": [],
   "source": [
    "# одной строкой: группировка таблицы spb_general по столбцу 'genre', \n",
    "# подсчёт числа значений 'genre' в этой группировке методом count(), \n",
    "# сортировка получившегося Series в порядке убывания и сохранение в spb_genres\n",
    "\n",
    "spb_genres = spb_general.groupby('genre')['genre'].count().sort_values(ascending=False)"
   ]
  },
  {
   "cell_type": "markdown",
   "metadata": {
    "id": "5Doha_ODgyQ8"
   },
   "source": [
    "Выведите на экран первые десять строк `spb_genres`:"
   ]
  },
  {
   "cell_type": "code",
   "execution_count": 40,
   "metadata": {
    "id": "uaGJHjVU_Zcv"
   },
   "outputs": [
    {
     "data": {
      "text/plain": [
       "genre\n",
       "pop            2431\n",
       "dance          1932\n",
       "rock           1879\n",
       "electronic     1736\n",
       "hiphop          960\n",
       "alternative     649\n",
       "classical       646\n",
       "rusrap          564\n",
       "ruspop          538\n",
       "world           515\n",
       "Name: genre, dtype: int64"
      ]
     },
     "execution_count": 40,
     "metadata": {},
     "output_type": "execute_result"
    }
   ],
   "source": [
    "# просмотр первых 10 строк spb_genres\n",
    "\n",
    "spb_genres.head(10)"
   ]
  },
  {
   "cell_type": "markdown",
   "metadata": {},
   "source": [
    "<font color='DarkBlue'><b>Комментарий ревьюера</b></font><br>\n",
    "<font color='DarkGreen'>👌 Молодец! Все правильно.</font>"
   ]
  },
  {
   "cell_type": "markdown",
   "metadata": {
    "id": "RY51YJYu_Zcv"
   },
   "source": [
    "**Выводы**"
   ]
  },
  {
   "cell_type": "markdown",
   "metadata": {
    "id": "nVhnJEm__Zcv"
   },
   "source": [
    "Гипотеза частично подтвердилась:\n",
    "* Поп-музыка — самый популярный жанр в Москве, как и предполагала гипотеза. Более того, в топ-10 жанров встречается близкий жанр — русская популярная музыка.\n",
    "* Вопреки ожиданиям, рэп одинаково популярен в Москве и Петербурге. \n"
   ]
  },
  {
   "cell_type": "markdown",
   "metadata": {
    "id": "ykKQ0N65_Zcv"
   },
   "source": [
    "## Итоги исследования"
   ]
  },
  {
   "cell_type": "markdown",
   "metadata": {
    "id": "tjUwbHb3_Zcv"
   },
   "source": [
    "Вы проверили три гипотезы и установили:\n",
    "\n",
    "1. День недели по-разному влияет на активность пользователей в Москве и Петербурге. \n",
    "\n",
    "Первая гипотеза полностью подтвердилась.\n",
    "\n",
    "2. Музыкальные предпочтения не сильно меняются в течение недели — будь то Москва или Петербург. Небольшие различия заметны в начале недели, по понедельникам:\n",
    "* в Москве слушают музыку жанра “world”,\n",
    "* в Петербурге — джаз и классику.\n",
    "\n",
    "Таким образом, вторая гипотеза подтвердилась лишь отчасти. Этот результат мог оказаться иным, если бы не пропуски в данных.\n",
    "\n",
    "3. Во вкусах пользователей Москвы и Петербурга больше общего чем различий. Вопреки ожиданиям, предпочтения жанров в Петербурге напоминают московские.\n",
    "\n",
    "Третья гипотеза не подтвердилась. Если различия в предпочтениях и существуют, на основной массе пользователей они незаметны.\n",
    "\n",
    "**На практике исследования содержат проверки статистических гипотез.**\n",
    "Из данных одного сервиса не всегда можно сделать вывод о всех жителях города.\n",
    "Проверки статистических гипотез покажут, насколько они достоверны, исходя из имеющихся данных. \n",
    "С методами проверок гипотез вы ещё познакомитесь в следующих темах."
   ]
  },
  {
   "cell_type": "markdown",
   "metadata": {},
   "source": [
    "<font color='DarkBlue'><b>Заключительный комментарий ревьюера</b></font><br><br>\n",
    "<font color='DarkGreen'>👌 Маргарита, очень хороший проект, отлично структурирован. Так держать и дальше! 😄<br></font>\n",
    "<font color='DarkMagenta'>👉 Главные проблемы начинающего Джуна: не делаем, что написано в задании или пишем лишний код. 🙄<br>\n",
    "А если мы такие огрехи допустим на тестовом задании потенциального работодателя, то могут и не пригласить на дальнейшую беседу.\n",
    "И мы даже не узнаем почему нас не взяли.  Начинаем аккуратно относиться к коду и тексту задания. 🙄</font><br>\n",
    "<font color='Red'>🛠 Что нам нужно, что бы сделать проект лучше:</font><br>\n",
    "<font color='DarkMagenta'>👉 Удалить лишние функции display(). Необходимо отсортировать список жанров. Необходимо присвоить имя таблице созданной в конструкторе. <br> Договорились? </font><br>\n",
    "<font color='DarkGreen'>👌 Жду окончательный вариант! Успехов. 😉</font>"
   ]
  },
  {
   "cell_type": "markdown",
   "metadata": {},
   "source": [
    "<font color='DarkBlue'><b>Заключительный комментарий ревьюера 2</b></font><br><br>\n",
    "<font color='DarkGreen'>👌 Маргарита, нам удалось исправить огрехи в проекте и не наделать новых.  Мы молодцы! 😄<br></font>\n",
    "<font color='DarkGreen'>👌 Теперь, вперед за новыми знаниями и навыками! Удачи! 🌷🌷🌷🌷🌷<br></font>"
   ]
  }
 ],
 "metadata": {
  "ExecuteTimeLog": [
   {
    "duration": 343,
    "start_time": "2022-02-17T09:48:36.146Z"
   },
   {
    "duration": 267,
    "start_time": "2022-02-17T09:48:44.141Z"
   },
   {
    "duration": 307,
    "start_time": "2022-02-17T09:48:57.817Z"
   },
   {
    "duration": 267,
    "start_time": "2022-02-17T09:49:28.501Z"
   },
   {
    "duration": 261,
    "start_time": "2022-02-17T09:49:37.618Z"
   },
   {
    "duration": 361,
    "start_time": "2022-02-17T09:50:21.951Z"
   },
   {
    "duration": 354,
    "start_time": "2022-02-17T09:52:12.174Z"
   },
   {
    "duration": 287,
    "start_time": "2022-02-17T09:52:50.421Z"
   },
   {
    "duration": 777,
    "start_time": "2022-02-17T09:52:56.785Z"
   },
   {
    "duration": 4,
    "start_time": "2022-02-17T09:53:07.501Z"
   },
   {
    "duration": 794,
    "start_time": "2022-02-17T09:53:20.422Z"
   },
   {
    "duration": 196,
    "start_time": "2022-02-17T09:53:23.143Z"
   },
   {
    "duration": 27,
    "start_time": "2022-02-17T09:53:29.709Z"
   },
   {
    "duration": 32,
    "start_time": "2022-02-17T09:54:13.042Z"
   },
   {
    "duration": 757,
    "start_time": "2022-02-17T09:55:10.402Z"
   },
   {
    "duration": 220,
    "start_time": "2022-02-17T09:55:11.162Z"
   },
   {
    "duration": 26,
    "start_time": "2022-02-17T09:55:11.386Z"
   },
   {
    "duration": 55,
    "start_time": "2022-02-17T09:55:11.415Z"
   },
   {
    "duration": 3,
    "start_time": "2022-02-17T09:55:11.473Z"
   },
   {
    "duration": 6,
    "start_time": "2022-02-17T09:55:11.478Z"
   },
   {
    "duration": 6,
    "start_time": "2022-02-17T09:55:11.486Z"
   },
   {
    "duration": 7,
    "start_time": "2022-02-17T09:55:11.495Z"
   },
   {
    "duration": 9,
    "start_time": "2022-02-17T09:55:11.505Z"
   },
   {
    "duration": 8,
    "start_time": "2022-02-17T09:55:11.516Z"
   },
   {
    "duration": 36,
    "start_time": "2022-02-17T09:55:11.527Z"
   },
   {
    "duration": 10,
    "start_time": "2022-02-17T09:55:11.566Z"
   },
   {
    "duration": 5,
    "start_time": "2022-02-17T09:55:11.579Z"
   },
   {
    "duration": 5,
    "start_time": "2022-02-17T09:55:11.587Z"
   },
   {
    "duration": 10,
    "start_time": "2022-02-17T09:55:11.594Z"
   },
   {
    "duration": 9,
    "start_time": "2022-02-17T09:55:11.607Z"
   },
   {
    "duration": 6,
    "start_time": "2022-02-17T09:55:11.618Z"
   },
   {
    "duration": 5,
    "start_time": "2022-02-17T09:55:11.627Z"
   },
   {
    "duration": 6,
    "start_time": "2022-02-17T09:55:11.634Z"
   },
   {
    "duration": 4,
    "start_time": "2022-02-17T09:55:11.661Z"
   },
   {
    "duration": 7,
    "start_time": "2022-02-17T09:55:11.667Z"
   },
   {
    "duration": 5,
    "start_time": "2022-02-17T09:55:11.676Z"
   },
   {
    "duration": 3,
    "start_time": "2022-02-17T09:55:11.686Z"
   },
   {
    "duration": 5,
    "start_time": "2022-02-17T09:55:11.692Z"
   },
   {
    "duration": 8,
    "start_time": "2022-02-17T09:55:11.699Z"
   },
   {
    "duration": 7,
    "start_time": "2022-02-17T09:55:11.710Z"
   },
   {
    "duration": 44,
    "start_time": "2022-02-17T09:55:11.720Z"
   },
   {
    "duration": 5,
    "start_time": "2022-02-17T09:55:11.767Z"
   },
   {
    "duration": 8,
    "start_time": "2022-02-17T09:55:11.774Z"
   },
   {
    "duration": 9,
    "start_time": "2022-02-17T09:55:11.784Z"
   },
   {
    "duration": 11,
    "start_time": "2022-02-17T09:55:11.795Z"
   },
   {
    "duration": 6,
    "start_time": "2022-02-17T09:55:11.808Z"
   },
   {
    "duration": 8,
    "start_time": "2022-02-17T09:55:11.817Z"
   },
   {
    "duration": 5,
    "start_time": "2022-02-17T09:55:11.827Z"
   },
   {
    "duration": 27,
    "start_time": "2022-02-17T09:55:11.834Z"
   },
   {
    "duration": 5,
    "start_time": "2022-02-17T09:55:11.864Z"
   },
   {
    "duration": 5,
    "start_time": "2022-02-17T09:55:11.872Z"
   },
   {
    "duration": 5,
    "start_time": "2022-02-17T09:55:11.879Z"
   },
   {
    "duration": 6,
    "start_time": "2022-02-17T10:28:28.448Z"
   },
   {
    "duration": 30,
    "start_time": "2022-02-17T10:38:32.216Z"
   },
   {
    "duration": 39,
    "start_time": "2022-02-17T10:38:50.780Z"
   },
   {
    "duration": 813,
    "start_time": "2022-02-17T10:38:58.433Z"
   },
   {
    "duration": 193,
    "start_time": "2022-02-17T10:38:59.249Z"
   },
   {
    "duration": 34,
    "start_time": "2022-02-17T10:38:59.446Z"
   },
   {
    "duration": 37,
    "start_time": "2022-02-17T10:38:59.484Z"
   },
   {
    "duration": 7,
    "start_time": "2022-02-17T10:38:59.524Z"
   },
   {
    "duration": 28,
    "start_time": "2022-02-17T10:38:59.563Z"
   },
   {
    "duration": 11,
    "start_time": "2022-02-17T10:38:59.594Z"
   },
   {
    "duration": 3,
    "start_time": "2022-02-17T10:38:59.609Z"
   },
   {
    "duration": 4,
    "start_time": "2022-02-17T10:38:59.617Z"
   },
   {
    "duration": 40,
    "start_time": "2022-02-17T10:38:59.624Z"
   },
   {
    "duration": 6,
    "start_time": "2022-02-17T10:38:59.666Z"
   },
   {
    "duration": 5,
    "start_time": "2022-02-17T10:38:59.674Z"
   },
   {
    "duration": 8,
    "start_time": "2022-02-17T10:38:59.681Z"
   },
   {
    "duration": 11,
    "start_time": "2022-02-17T10:38:59.692Z"
   },
   {
    "duration": 8,
    "start_time": "2022-02-17T10:38:59.705Z"
   },
   {
    "duration": 5,
    "start_time": "2022-02-17T10:38:59.715Z"
   },
   {
    "duration": 3,
    "start_time": "2022-02-17T10:38:59.762Z"
   },
   {
    "duration": 7,
    "start_time": "2022-02-17T10:38:59.768Z"
   },
   {
    "duration": 6,
    "start_time": "2022-02-17T10:38:59.777Z"
   },
   {
    "duration": 6,
    "start_time": "2022-02-17T10:38:59.785Z"
   },
   {
    "duration": 9,
    "start_time": "2022-02-17T10:38:59.794Z"
   },
   {
    "duration": 8,
    "start_time": "2022-02-17T10:38:59.805Z"
   },
   {
    "duration": 45,
    "start_time": "2022-02-17T10:38:59.818Z"
   },
   {
    "duration": 6,
    "start_time": "2022-02-17T10:38:59.866Z"
   },
   {
    "duration": 19,
    "start_time": "2022-02-17T10:38:59.874Z"
   },
   {
    "duration": 10,
    "start_time": "2022-02-17T10:38:59.896Z"
   },
   {
    "duration": 6,
    "start_time": "2022-02-17T10:38:59.909Z"
   },
   {
    "duration": 10,
    "start_time": "2022-02-17T10:38:59.918Z"
   },
   {
    "duration": 9,
    "start_time": "2022-02-17T10:38:59.931Z"
   },
   {
    "duration": 3,
    "start_time": "2022-02-17T10:38:59.963Z"
   },
   {
    "duration": 13,
    "start_time": "2022-02-17T10:38:59.969Z"
   },
   {
    "duration": 7,
    "start_time": "2022-02-17T10:38:59.985Z"
   },
   {
    "duration": 10,
    "start_time": "2022-02-17T10:38:59.994Z"
   },
   {
    "duration": 9,
    "start_time": "2022-02-17T10:39:00.007Z"
   },
   {
    "duration": 15,
    "start_time": "2022-02-17T10:39:00.018Z"
   },
   {
    "duration": 17,
    "start_time": "2022-02-17T10:39:00.035Z"
   },
   {
    "duration": 8,
    "start_time": "2022-02-17T10:39:00.054Z"
   },
   {
    "duration": 10,
    "start_time": "2022-02-17T10:39:00.065Z"
   },
   {
    "duration": 6,
    "start_time": "2022-02-17T10:39:40.536Z"
   },
   {
    "duration": 785,
    "start_time": "2022-02-17T10:40:10.240Z"
   },
   {
    "duration": 170,
    "start_time": "2022-02-17T10:40:11.028Z"
   },
   {
    "duration": 25,
    "start_time": "2022-02-17T10:40:11.201Z"
   },
   {
    "duration": 48,
    "start_time": "2022-02-17T10:40:11.228Z"
   },
   {
    "duration": 6,
    "start_time": "2022-02-17T10:40:11.278Z"
   },
   {
    "duration": 29,
    "start_time": "2022-02-17T10:40:11.286Z"
   },
   {
    "duration": 7,
    "start_time": "2022-02-17T10:40:11.317Z"
   },
   {
    "duration": 34,
    "start_time": "2022-02-17T10:40:11.327Z"
   },
   {
    "duration": 4,
    "start_time": "2022-02-17T10:40:11.364Z"
   },
   {
    "duration": 6,
    "start_time": "2022-02-17T10:40:11.370Z"
   },
   {
    "duration": 5,
    "start_time": "2022-02-17T10:40:11.378Z"
   },
   {
    "duration": 6,
    "start_time": "2022-02-17T10:40:11.385Z"
   },
   {
    "duration": 5,
    "start_time": "2022-02-17T10:40:11.393Z"
   },
   {
    "duration": 4,
    "start_time": "2022-02-17T10:40:11.400Z"
   },
   {
    "duration": 7,
    "start_time": "2022-02-17T10:40:11.407Z"
   },
   {
    "duration": 3,
    "start_time": "2022-02-17T10:40:11.462Z"
   },
   {
    "duration": 6,
    "start_time": "2022-02-17T10:40:11.468Z"
   },
   {
    "duration": 7,
    "start_time": "2022-02-17T10:40:11.477Z"
   },
   {
    "duration": 6,
    "start_time": "2022-02-17T10:40:11.486Z"
   },
   {
    "duration": 4,
    "start_time": "2022-02-17T10:40:11.495Z"
   },
   {
    "duration": 7,
    "start_time": "2022-02-17T10:40:11.502Z"
   },
   {
    "duration": 5,
    "start_time": "2022-02-17T10:40:11.512Z"
   },
   {
    "duration": 3,
    "start_time": "2022-02-17T10:40:11.565Z"
   },
   {
    "duration": 5,
    "start_time": "2022-02-17T10:40:11.570Z"
   },
   {
    "duration": 8,
    "start_time": "2022-02-17T10:40:11.578Z"
   },
   {
    "duration": 7,
    "start_time": "2022-02-17T10:40:11.589Z"
   },
   {
    "duration": 5,
    "start_time": "2022-02-17T10:40:11.598Z"
   },
   {
    "duration": 7,
    "start_time": "2022-02-17T10:40:11.606Z"
   },
   {
    "duration": 8,
    "start_time": "2022-02-17T10:40:11.616Z"
   },
   {
    "duration": 38,
    "start_time": "2022-02-17T10:40:11.626Z"
   },
   {
    "duration": 9,
    "start_time": "2022-02-17T10:40:11.666Z"
   },
   {
    "duration": 9,
    "start_time": "2022-02-17T10:40:11.677Z"
   },
   {
    "duration": 10,
    "start_time": "2022-02-17T10:40:11.689Z"
   },
   {
    "duration": 5,
    "start_time": "2022-02-17T10:40:11.702Z"
   },
   {
    "duration": 6,
    "start_time": "2022-02-17T10:40:11.710Z"
   },
   {
    "duration": 8,
    "start_time": "2022-02-17T10:40:11.719Z"
   },
   {
    "duration": 5,
    "start_time": "2022-02-17T10:40:11.730Z"
   },
   {
    "duration": 4,
    "start_time": "2022-02-17T10:40:11.762Z"
   },
   {
    "duration": 34,
    "start_time": "2022-02-17T10:43:17.835Z"
   },
   {
    "duration": 27,
    "start_time": "2022-02-17T10:56:00.436Z"
   },
   {
    "duration": 738,
    "start_time": "2022-02-17T10:56:13.966Z"
   },
   {
    "duration": 192,
    "start_time": "2022-02-17T10:56:14.707Z"
   },
   {
    "duration": 26,
    "start_time": "2022-02-17T10:56:14.902Z"
   },
   {
    "duration": 50,
    "start_time": "2022-02-17T10:56:14.931Z"
   },
   {
    "duration": 5,
    "start_time": "2022-02-17T10:56:14.983Z"
   },
   {
    "duration": 37,
    "start_time": "2022-02-17T10:56:14.991Z"
   },
   {
    "duration": 32,
    "start_time": "2022-02-17T10:56:15.030Z"
   },
   {
    "duration": 30,
    "start_time": "2022-02-17T10:56:15.066Z"
   },
   {
    "duration": 20,
    "start_time": "2022-02-17T10:56:15.099Z"
   },
   {
    "duration": 3,
    "start_time": "2022-02-17T10:56:15.122Z"
   },
   {
    "duration": 34,
    "start_time": "2022-02-17T10:56:15.127Z"
   },
   {
    "duration": 4,
    "start_time": "2022-02-17T10:56:15.163Z"
   },
   {
    "duration": 12,
    "start_time": "2022-02-17T10:56:15.169Z"
   },
   {
    "duration": 6,
    "start_time": "2022-02-17T10:56:15.183Z"
   },
   {
    "duration": 6,
    "start_time": "2022-02-17T10:56:15.191Z"
   },
   {
    "duration": 5,
    "start_time": "2022-02-17T10:56:15.199Z"
   },
   {
    "duration": 7,
    "start_time": "2022-02-17T10:56:15.207Z"
   },
   {
    "duration": 5,
    "start_time": "2022-02-17T10:56:15.217Z"
   },
   {
    "duration": 37,
    "start_time": "2022-02-17T10:56:15.224Z"
   },
   {
    "duration": 5,
    "start_time": "2022-02-17T10:56:15.264Z"
   },
   {
    "duration": 12,
    "start_time": "2022-02-17T10:56:15.272Z"
   },
   {
    "duration": 8,
    "start_time": "2022-02-17T10:56:15.286Z"
   },
   {
    "duration": 7,
    "start_time": "2022-02-17T10:56:15.299Z"
   },
   {
    "duration": 8,
    "start_time": "2022-02-17T10:56:15.309Z"
   },
   {
    "duration": 5,
    "start_time": "2022-02-17T10:56:15.320Z"
   },
   {
    "duration": 36,
    "start_time": "2022-02-17T10:56:15.327Z"
   },
   {
    "duration": 15,
    "start_time": "2022-02-17T10:56:15.366Z"
   },
   {
    "duration": 4,
    "start_time": "2022-02-17T10:56:15.384Z"
   },
   {
    "duration": 5,
    "start_time": "2022-02-17T10:56:15.391Z"
   },
   {
    "duration": 7,
    "start_time": "2022-02-17T10:56:15.398Z"
   },
   {
    "duration": 12,
    "start_time": "2022-02-17T10:56:15.407Z"
   },
   {
    "duration": 5,
    "start_time": "2022-02-17T10:56:15.421Z"
   },
   {
    "duration": 33,
    "start_time": "2022-02-17T10:56:15.428Z"
   },
   {
    "duration": 11,
    "start_time": "2022-02-17T10:56:15.463Z"
   },
   {
    "duration": 6,
    "start_time": "2022-02-17T10:56:15.477Z"
   },
   {
    "duration": 9,
    "start_time": "2022-02-17T10:56:15.485Z"
   },
   {
    "duration": 10,
    "start_time": "2022-02-17T10:56:15.496Z"
   },
   {
    "duration": 13,
    "start_time": "2022-02-17T10:56:15.509Z"
   },
   {
    "duration": 31,
    "start_time": "2022-02-17T10:56:44.543Z"
   },
   {
    "duration": 739,
    "start_time": "2022-02-17T10:57:51.993Z"
   },
   {
    "duration": 191,
    "start_time": "2022-02-17T10:57:52.735Z"
   },
   {
    "duration": 35,
    "start_time": "2022-02-17T10:57:52.930Z"
   },
   {
    "duration": 34,
    "start_time": "2022-02-17T10:57:52.967Z"
   },
   {
    "duration": 5,
    "start_time": "2022-02-17T10:57:53.004Z"
   },
   {
    "duration": 58,
    "start_time": "2022-02-17T10:57:53.011Z"
   },
   {
    "duration": 5,
    "start_time": "2022-02-17T10:57:53.071Z"
   },
   {
    "duration": 30,
    "start_time": "2022-02-17T10:57:53.080Z"
   },
   {
    "duration": 51,
    "start_time": "2022-02-17T10:57:53.113Z"
   },
   {
    "duration": 28,
    "start_time": "2022-02-17T10:57:53.166Z"
   },
   {
    "duration": 4,
    "start_time": "2022-02-17T10:57:53.196Z"
   },
   {
    "duration": 6,
    "start_time": "2022-02-17T10:57:53.202Z"
   },
   {
    "duration": 5,
    "start_time": "2022-02-17T10:57:53.210Z"
   },
   {
    "duration": 4,
    "start_time": "2022-02-17T10:57:53.218Z"
   },
   {
    "duration": 37,
    "start_time": "2022-02-17T10:57:53.224Z"
   },
   {
    "duration": 3,
    "start_time": "2022-02-17T10:57:53.264Z"
   },
   {
    "duration": 7,
    "start_time": "2022-02-17T10:57:53.269Z"
   },
   {
    "duration": 10,
    "start_time": "2022-02-17T10:57:53.278Z"
   },
   {
    "duration": 11,
    "start_time": "2022-02-17T10:57:53.290Z"
   },
   {
    "duration": 6,
    "start_time": "2022-02-17T10:57:53.304Z"
   },
   {
    "duration": 9,
    "start_time": "2022-02-17T10:57:53.313Z"
   },
   {
    "duration": 9,
    "start_time": "2022-02-17T10:57:53.324Z"
   },
   {
    "duration": 26,
    "start_time": "2022-02-17T10:57:53.337Z"
   },
   {
    "duration": 4,
    "start_time": "2022-02-17T10:57:53.366Z"
   },
   {
    "duration": 6,
    "start_time": "2022-02-17T10:57:53.372Z"
   },
   {
    "duration": 9,
    "start_time": "2022-02-17T10:57:53.380Z"
   },
   {
    "duration": 4,
    "start_time": "2022-02-17T10:57:53.392Z"
   },
   {
    "duration": 5,
    "start_time": "2022-02-17T10:57:53.398Z"
   },
   {
    "duration": 3,
    "start_time": "2022-02-17T10:57:53.406Z"
   },
   {
    "duration": 4,
    "start_time": "2022-02-17T10:57:53.412Z"
   },
   {
    "duration": 3,
    "start_time": "2022-02-17T10:57:53.462Z"
   },
   {
    "duration": 7,
    "start_time": "2022-02-17T10:57:53.467Z"
   },
   {
    "duration": 12,
    "start_time": "2022-02-17T10:57:53.476Z"
   },
   {
    "duration": 14,
    "start_time": "2022-02-17T10:57:53.490Z"
   },
   {
    "duration": 19,
    "start_time": "2022-02-17T10:57:53.506Z"
   },
   {
    "duration": 14,
    "start_time": "2022-02-17T10:57:53.528Z"
   },
   {
    "duration": 7,
    "start_time": "2022-02-17T10:57:53.544Z"
   },
   {
    "duration": 11,
    "start_time": "2022-02-17T10:57:53.553Z"
   },
   {
    "duration": 84,
    "start_time": "2022-02-17T11:09:24.494Z"
   },
   {
    "duration": 88,
    "start_time": "2022-02-17T11:09:45.847Z"
   },
   {
    "duration": 80,
    "start_time": "2022-02-17T11:09:52.485Z"
   },
   {
    "duration": 105,
    "start_time": "2022-02-17T11:12:24.787Z"
   },
   {
    "duration": 112,
    "start_time": "2022-02-17T11:12:40.992Z"
   },
   {
    "duration": 883,
    "start_time": "2022-02-17T11:12:48.357Z"
   },
   {
    "duration": 210,
    "start_time": "2022-02-17T11:12:49.243Z"
   },
   {
    "duration": 36,
    "start_time": "2022-02-17T11:12:49.457Z"
   },
   {
    "duration": 32,
    "start_time": "2022-02-17T11:12:49.497Z"
   },
   {
    "duration": 33,
    "start_time": "2022-02-17T11:12:49.532Z"
   },
   {
    "duration": 36,
    "start_time": "2022-02-17T11:12:49.568Z"
   },
   {
    "duration": 6,
    "start_time": "2022-02-17T11:12:49.607Z"
   },
   {
    "duration": 71,
    "start_time": "2022-02-17T11:12:49.616Z"
   },
   {
    "duration": 25,
    "start_time": "2022-02-17T11:12:49.690Z"
   },
   {
    "duration": 51,
    "start_time": "2022-02-17T11:12:49.718Z"
   },
   {
    "duration": 112,
    "start_time": "2022-02-17T11:12:49.773Z"
   },
   {
    "duration": 164,
    "start_time": "2022-02-17T11:12:49.889Z"
   },
   {
    "duration": 110,
    "start_time": "2022-02-17T11:12:50.057Z"
   },
   {
    "duration": 4,
    "start_time": "2022-02-17T11:12:50.170Z"
   },
   {
    "duration": 16,
    "start_time": "2022-02-17T11:12:50.177Z"
   },
   {
    "duration": 16,
    "start_time": "2022-02-17T11:12:50.196Z"
   },
   {
    "duration": 6,
    "start_time": "2022-02-17T11:12:50.215Z"
   },
   {
    "duration": 7,
    "start_time": "2022-02-17T11:12:50.224Z"
   },
   {
    "duration": 29,
    "start_time": "2022-02-17T11:12:50.234Z"
   },
   {
    "duration": 25,
    "start_time": "2022-02-17T11:12:50.266Z"
   },
   {
    "duration": 18,
    "start_time": "2022-02-17T11:12:50.294Z"
   },
   {
    "duration": 6,
    "start_time": "2022-02-17T11:12:50.314Z"
   },
   {
    "duration": 4,
    "start_time": "2022-02-17T11:12:50.325Z"
   },
   {
    "duration": 5,
    "start_time": "2022-02-17T11:12:50.332Z"
   },
   {
    "duration": 6,
    "start_time": "2022-02-17T11:12:50.340Z"
   },
   {
    "duration": 35,
    "start_time": "2022-02-17T11:12:50.348Z"
   },
   {
    "duration": 17,
    "start_time": "2022-02-17T11:12:50.385Z"
   },
   {
    "duration": 7,
    "start_time": "2022-02-17T11:12:50.406Z"
   },
   {
    "duration": 12,
    "start_time": "2022-02-17T11:12:50.415Z"
   },
   {
    "duration": 7,
    "start_time": "2022-02-17T11:12:50.430Z"
   },
   {
    "duration": 9,
    "start_time": "2022-02-17T11:12:50.440Z"
   },
   {
    "duration": 7,
    "start_time": "2022-02-17T11:12:50.452Z"
   },
   {
    "duration": 27,
    "start_time": "2022-02-17T11:12:50.463Z"
   },
   {
    "duration": 26,
    "start_time": "2022-02-17T11:12:50.494Z"
   },
   {
    "duration": 6,
    "start_time": "2022-02-17T11:12:50.522Z"
   },
   {
    "duration": 5,
    "start_time": "2022-02-17T11:12:50.530Z"
   },
   {
    "duration": 7,
    "start_time": "2022-02-17T11:12:50.538Z"
   },
   {
    "duration": 5,
    "start_time": "2022-02-17T11:12:50.548Z"
   },
   {
    "duration": 17,
    "start_time": "2022-02-17T11:18:34.557Z"
   },
   {
    "duration": 14,
    "start_time": "2022-02-17T11:20:35.586Z"
   },
   {
    "duration": 14,
    "start_time": "2022-02-17T11:50:19.200Z"
   },
   {
    "duration": 780,
    "start_time": "2022-02-17T11:50:51.820Z"
   },
   {
    "duration": 192,
    "start_time": "2022-02-17T11:50:52.603Z"
   },
   {
    "duration": 27,
    "start_time": "2022-02-17T11:50:52.799Z"
   },
   {
    "duration": 60,
    "start_time": "2022-02-17T11:50:52.830Z"
   },
   {
    "duration": 5,
    "start_time": "2022-02-17T11:50:52.893Z"
   },
   {
    "duration": 28,
    "start_time": "2022-02-17T11:50:52.901Z"
   },
   {
    "duration": 31,
    "start_time": "2022-02-17T11:50:52.932Z"
   },
   {
    "duration": 35,
    "start_time": "2022-02-17T11:50:52.967Z"
   },
   {
    "duration": 24,
    "start_time": "2022-02-17T11:50:53.006Z"
   },
   {
    "duration": 35,
    "start_time": "2022-02-17T11:50:53.062Z"
   },
   {
    "duration": 107,
    "start_time": "2022-02-17T11:50:53.100Z"
   },
   {
    "duration": 108,
    "start_time": "2022-02-17T11:50:53.210Z"
   },
   {
    "duration": 90,
    "start_time": "2022-02-17T11:50:53.321Z"
   },
   {
    "duration": 14,
    "start_time": "2022-02-17T11:50:53.414Z"
   },
   {
    "duration": 3,
    "start_time": "2022-02-17T11:50:53.431Z"
   },
   {
    "duration": 16,
    "start_time": "2022-02-17T11:50:53.460Z"
   },
   {
    "duration": 24,
    "start_time": "2022-02-17T11:50:53.479Z"
   },
   {
    "duration": 3,
    "start_time": "2022-02-17T11:50:53.506Z"
   },
   {
    "duration": 16,
    "start_time": "2022-02-17T11:50:53.511Z"
   },
   {
    "duration": 8,
    "start_time": "2022-02-17T11:50:53.529Z"
   },
   {
    "duration": 22,
    "start_time": "2022-02-17T11:50:53.539Z"
   },
   {
    "duration": 3,
    "start_time": "2022-02-17T11:50:53.564Z"
   },
   {
    "duration": 21,
    "start_time": "2022-02-17T11:50:53.573Z"
   },
   {
    "duration": 12,
    "start_time": "2022-02-17T11:50:53.598Z"
   },
   {
    "duration": 8,
    "start_time": "2022-02-17T11:50:53.612Z"
   },
   {
    "duration": 12,
    "start_time": "2022-02-17T11:50:53.622Z"
   },
   {
    "duration": 8,
    "start_time": "2022-02-17T11:50:53.637Z"
   },
   {
    "duration": 14,
    "start_time": "2022-02-17T11:50:53.647Z"
   },
   {
    "duration": 3,
    "start_time": "2022-02-17T11:50:53.664Z"
   },
   {
    "duration": 16,
    "start_time": "2022-02-17T11:50:53.669Z"
   },
   {
    "duration": 11,
    "start_time": "2022-02-17T11:50:53.687Z"
   },
   {
    "duration": 5,
    "start_time": "2022-02-17T11:50:53.700Z"
   },
   {
    "duration": 17,
    "start_time": "2022-02-17T11:50:53.707Z"
   },
   {
    "duration": 5,
    "start_time": "2022-02-17T11:50:53.727Z"
   },
   {
    "duration": 7,
    "start_time": "2022-02-17T11:50:53.735Z"
   },
   {
    "duration": 20,
    "start_time": "2022-02-17T11:50:53.744Z"
   },
   {
    "duration": 21,
    "start_time": "2022-02-17T11:50:53.767Z"
   },
   {
    "duration": 7,
    "start_time": "2022-02-17T11:50:53.791Z"
   },
   {
    "duration": 13,
    "start_time": "2022-02-17T11:51:49.407Z"
   },
   {
    "duration": 839,
    "start_time": "2022-02-17T11:52:10.144Z"
   },
   {
    "duration": 194,
    "start_time": "2022-02-17T11:52:10.987Z"
   },
   {
    "duration": 27,
    "start_time": "2022-02-17T11:52:11.186Z"
   },
   {
    "duration": 58,
    "start_time": "2022-02-17T11:52:11.217Z"
   },
   {
    "duration": 6,
    "start_time": "2022-02-17T11:52:11.278Z"
   },
   {
    "duration": 33,
    "start_time": "2022-02-17T11:52:11.288Z"
   },
   {
    "duration": 8,
    "start_time": "2022-02-17T11:52:11.323Z"
   },
   {
    "duration": 62,
    "start_time": "2022-02-17T11:52:11.334Z"
   },
   {
    "duration": 22,
    "start_time": "2022-02-17T11:52:11.402Z"
   },
   {
    "duration": 61,
    "start_time": "2022-02-17T11:52:11.428Z"
   },
   {
    "duration": 104,
    "start_time": "2022-02-17T11:52:11.492Z"
   },
   {
    "duration": 109,
    "start_time": "2022-02-17T11:52:11.599Z"
   },
   {
    "duration": 90,
    "start_time": "2022-02-17T11:52:11.710Z"
   },
   {
    "duration": 14,
    "start_time": "2022-02-17T11:52:11.803Z"
   },
   {
    "duration": 4,
    "start_time": "2022-02-17T11:52:11.820Z"
   },
   {
    "duration": 37,
    "start_time": "2022-02-17T11:52:11.826Z"
   },
   {
    "duration": 24,
    "start_time": "2022-02-17T11:52:11.866Z"
   },
   {
    "duration": 3,
    "start_time": "2022-02-17T11:52:11.893Z"
   },
   {
    "duration": 5,
    "start_time": "2022-02-17T11:52:11.898Z"
   },
   {
    "duration": 5,
    "start_time": "2022-02-17T11:52:11.905Z"
   },
   {
    "duration": 9,
    "start_time": "2022-02-17T11:52:11.913Z"
   },
   {
    "duration": 38,
    "start_time": "2022-02-17T11:52:11.924Z"
   },
   {
    "duration": 14,
    "start_time": "2022-02-17T11:52:11.965Z"
   },
   {
    "duration": 8,
    "start_time": "2022-02-17T11:52:11.982Z"
   },
   {
    "duration": 5,
    "start_time": "2022-02-17T11:52:11.993Z"
   },
   {
    "duration": 9,
    "start_time": "2022-02-17T11:52:12.001Z"
   },
   {
    "duration": 3,
    "start_time": "2022-02-17T11:52:12.015Z"
   },
   {
    "duration": 6,
    "start_time": "2022-02-17T11:52:12.020Z"
   },
   {
    "duration": 34,
    "start_time": "2022-02-17T11:52:12.029Z"
   },
   {
    "duration": 9,
    "start_time": "2022-02-17T11:52:12.065Z"
   },
   {
    "duration": 18,
    "start_time": "2022-02-17T11:52:12.077Z"
   },
   {
    "duration": 5,
    "start_time": "2022-02-17T11:52:12.098Z"
   },
   {
    "duration": 10,
    "start_time": "2022-02-17T11:52:12.105Z"
   },
   {
    "duration": 6,
    "start_time": "2022-02-17T11:52:12.117Z"
   },
   {
    "duration": 5,
    "start_time": "2022-02-17T11:52:12.125Z"
   },
   {
    "duration": 6,
    "start_time": "2022-02-17T11:52:12.133Z"
   },
   {
    "duration": 22,
    "start_time": "2022-02-17T11:52:12.141Z"
   },
   {
    "duration": 9,
    "start_time": "2022-02-17T11:52:12.165Z"
   },
   {
    "duration": 17,
    "start_time": "2022-02-17T11:52:25.858Z"
   },
   {
    "duration": 788,
    "start_time": "2022-02-17T12:23:11.841Z"
   },
   {
    "duration": 176,
    "start_time": "2022-02-17T12:23:12.631Z"
   },
   {
    "duration": 25,
    "start_time": "2022-02-17T12:23:12.810Z"
   },
   {
    "duration": 47,
    "start_time": "2022-02-17T12:23:12.839Z"
   },
   {
    "duration": 7,
    "start_time": "2022-02-17T12:23:12.889Z"
   },
   {
    "duration": 28,
    "start_time": "2022-02-17T12:23:12.898Z"
   },
   {
    "duration": 34,
    "start_time": "2022-02-17T12:23:12.929Z"
   },
   {
    "duration": 30,
    "start_time": "2022-02-17T12:23:12.967Z"
   },
   {
    "duration": 21,
    "start_time": "2022-02-17T12:23:13.000Z"
   },
   {
    "duration": 67,
    "start_time": "2022-02-17T12:23:13.024Z"
   },
   {
    "duration": 105,
    "start_time": "2022-02-17T12:23:13.093Z"
   },
   {
    "duration": 111,
    "start_time": "2022-02-17T12:23:13.201Z"
   },
   {
    "duration": 87,
    "start_time": "2022-02-17T12:23:13.314Z"
   },
   {
    "duration": 15,
    "start_time": "2022-02-17T12:23:13.403Z"
   },
   {
    "duration": 4,
    "start_time": "2022-02-17T12:23:13.420Z"
   },
   {
    "duration": 40,
    "start_time": "2022-02-17T12:23:13.427Z"
   },
   {
    "duration": 13,
    "start_time": "2022-02-17T12:23:13.470Z"
   },
   {
    "duration": 3,
    "start_time": "2022-02-17T12:23:13.486Z"
   },
   {
    "duration": 5,
    "start_time": "2022-02-17T12:23:13.491Z"
   },
   {
    "duration": 6,
    "start_time": "2022-02-17T12:23:13.498Z"
   },
   {
    "duration": 7,
    "start_time": "2022-02-17T12:23:13.506Z"
   },
   {
    "duration": 4,
    "start_time": "2022-02-17T12:23:13.516Z"
   },
   {
    "duration": 3,
    "start_time": "2022-02-17T12:23:13.565Z"
   },
   {
    "duration": 5,
    "start_time": "2022-02-17T12:23:13.571Z"
   },
   {
    "duration": 5,
    "start_time": "2022-02-17T12:23:13.578Z"
   },
   {
    "duration": 7,
    "start_time": "2022-02-17T12:23:13.585Z"
   },
   {
    "duration": 5,
    "start_time": "2022-02-17T12:23:13.594Z"
   },
   {
    "duration": 4,
    "start_time": "2022-02-17T12:23:13.601Z"
   },
   {
    "duration": 6,
    "start_time": "2022-02-17T12:23:13.608Z"
   },
   {
    "duration": 5,
    "start_time": "2022-02-17T12:23:13.616Z"
   },
   {
    "duration": 3,
    "start_time": "2022-02-17T12:23:13.662Z"
   },
   {
    "duration": 5,
    "start_time": "2022-02-17T12:23:13.668Z"
   },
   {
    "duration": 6,
    "start_time": "2022-02-17T12:23:13.675Z"
   },
   {
    "duration": 4,
    "start_time": "2022-02-17T12:23:13.684Z"
   },
   {
    "duration": 11,
    "start_time": "2022-02-17T12:23:13.690Z"
   },
   {
    "duration": 6,
    "start_time": "2022-02-17T12:23:13.703Z"
   },
   {
    "duration": 4,
    "start_time": "2022-02-17T12:23:13.711Z"
   },
   {
    "duration": 4,
    "start_time": "2022-02-17T12:23:13.718Z"
   },
   {
    "duration": 12,
    "start_time": "2022-02-17T12:25:59.805Z"
   },
   {
    "duration": 135,
    "start_time": "2022-02-17T12:36:24.660Z"
   },
   {
    "duration": 99,
    "start_time": "2022-02-17T12:36:42.606Z"
   },
   {
    "duration": 88,
    "start_time": "2022-02-17T12:37:24.117Z"
   },
   {
    "duration": 96,
    "start_time": "2022-02-17T12:41:06.461Z"
   },
   {
    "duration": 106,
    "start_time": "2022-02-17T12:41:31.218Z"
   },
   {
    "duration": 112,
    "start_time": "2022-02-17T12:41:38.733Z"
   },
   {
    "duration": 129,
    "start_time": "2022-02-17T12:43:36.226Z"
   },
   {
    "duration": 88,
    "start_time": "2022-02-17T12:43:56.410Z"
   },
   {
    "duration": 372,
    "start_time": "2022-02-17T12:44:12.809Z"
   },
   {
    "duration": 271,
    "start_time": "2022-02-17T12:44:39.914Z"
   },
   {
    "duration": 353,
    "start_time": "2022-02-17T12:45:09.905Z"
   },
   {
    "duration": 284,
    "start_time": "2022-02-17T12:48:07.728Z"
   },
   {
    "duration": 304,
    "start_time": "2022-02-17T12:48:32.329Z"
   },
   {
    "duration": 286,
    "start_time": "2022-02-17T12:48:45.783Z"
   },
   {
    "duration": 799,
    "start_time": "2022-02-17T12:49:37.607Z"
   },
   {
    "duration": 198,
    "start_time": "2022-02-17T12:49:38.409Z"
   },
   {
    "duration": 30,
    "start_time": "2022-02-17T12:49:38.611Z"
   },
   {
    "duration": 35,
    "start_time": "2022-02-17T12:49:38.661Z"
   },
   {
    "duration": 5,
    "start_time": "2022-02-17T12:49:38.700Z"
   },
   {
    "duration": 61,
    "start_time": "2022-02-17T12:49:38.707Z"
   },
   {
    "duration": 5,
    "start_time": "2022-02-17T12:49:38.771Z"
   },
   {
    "duration": 30,
    "start_time": "2022-02-17T12:49:38.780Z"
   },
   {
    "duration": 51,
    "start_time": "2022-02-17T12:49:38.814Z"
   },
   {
    "duration": 30,
    "start_time": "2022-02-17T12:49:38.868Z"
   },
   {
    "duration": 111,
    "start_time": "2022-02-17T12:49:38.901Z"
   },
   {
    "duration": 117,
    "start_time": "2022-02-17T12:49:39.014Z"
   },
   {
    "duration": 91,
    "start_time": "2022-02-17T12:49:39.134Z"
   },
   {
    "duration": 16,
    "start_time": "2022-02-17T12:49:39.228Z"
   },
   {
    "duration": 5,
    "start_time": "2022-02-17T12:49:39.262Z"
   },
   {
    "duration": 16,
    "start_time": "2022-02-17T12:49:39.270Z"
   },
   {
    "duration": 15,
    "start_time": "2022-02-17T12:49:39.288Z"
   },
   {
    "duration": 425,
    "start_time": "2022-02-17T12:49:39.305Z"
   },
   {
    "duration": 199,
    "start_time": "2022-02-17T12:49:39.538Z"
   },
   {
    "duration": 199,
    "start_time": "2022-02-17T12:49:39.541Z"
   },
   {
    "duration": 196,
    "start_time": "2022-02-17T12:49:39.546Z"
   },
   {
    "duration": 197,
    "start_time": "2022-02-17T12:49:39.548Z"
   },
   {
    "duration": 198,
    "start_time": "2022-02-17T12:49:39.550Z"
   },
   {
    "duration": 198,
    "start_time": "2022-02-17T12:49:39.552Z"
   },
   {
    "duration": 200,
    "start_time": "2022-02-17T12:49:39.554Z"
   },
   {
    "duration": 200,
    "start_time": "2022-02-17T12:49:39.557Z"
   },
   {
    "duration": 200,
    "start_time": "2022-02-17T12:49:39.558Z"
   },
   {
    "duration": 200,
    "start_time": "2022-02-17T12:49:39.560Z"
   },
   {
    "duration": 199,
    "start_time": "2022-02-17T12:49:39.562Z"
   },
   {
    "duration": 186,
    "start_time": "2022-02-17T12:49:39.577Z"
   },
   {
    "duration": 185,
    "start_time": "2022-02-17T12:49:39.579Z"
   },
   {
    "duration": 184,
    "start_time": "2022-02-17T12:49:39.581Z"
   },
   {
    "duration": 184,
    "start_time": "2022-02-17T12:49:39.583Z"
   },
   {
    "duration": 183,
    "start_time": "2022-02-17T12:49:39.585Z"
   },
   {
    "duration": 182,
    "start_time": "2022-02-17T12:49:39.587Z"
   },
   {
    "duration": 182,
    "start_time": "2022-02-17T12:49:39.589Z"
   },
   {
    "duration": 181,
    "start_time": "2022-02-17T12:49:39.591Z"
   },
   {
    "duration": 180,
    "start_time": "2022-02-17T12:49:39.593Z"
   },
   {
    "duration": 276,
    "start_time": "2022-02-17T12:49:48.629Z"
   },
   {
    "duration": 298,
    "start_time": "2022-02-17T12:50:17.497Z"
   },
   {
    "duration": 276,
    "start_time": "2022-02-17T13:36:33.399Z"
   },
   {
    "duration": 1246,
    "start_time": "2022-02-17T13:36:53.483Z"
   },
   {
    "duration": 715,
    "start_time": "2022-02-17T13:37:03.916Z"
   },
   {
    "duration": 188,
    "start_time": "2022-02-17T13:37:04.634Z"
   },
   {
    "duration": 36,
    "start_time": "2022-02-17T13:37:04.825Z"
   },
   {
    "duration": 39,
    "start_time": "2022-02-17T13:37:04.864Z"
   },
   {
    "duration": 7,
    "start_time": "2022-02-17T13:37:04.906Z"
   },
   {
    "duration": 49,
    "start_time": "2022-02-17T13:37:04.915Z"
   },
   {
    "duration": 8,
    "start_time": "2022-02-17T13:37:04.966Z"
   },
   {
    "duration": 31,
    "start_time": "2022-02-17T13:37:04.978Z"
   },
   {
    "duration": 49,
    "start_time": "2022-02-17T13:37:05.012Z"
   },
   {
    "duration": 34,
    "start_time": "2022-02-17T13:37:05.063Z"
   },
   {
    "duration": 104,
    "start_time": "2022-02-17T13:37:05.099Z"
   },
   {
    "duration": 112,
    "start_time": "2022-02-17T13:37:05.206Z"
   },
   {
    "duration": 92,
    "start_time": "2022-02-17T13:37:05.321Z"
   },
   {
    "duration": 14,
    "start_time": "2022-02-17T13:37:05.415Z"
   },
   {
    "duration": 4,
    "start_time": "2022-02-17T13:37:05.431Z"
   },
   {
    "duration": 15,
    "start_time": "2022-02-17T13:37:05.461Z"
   },
   {
    "duration": 17,
    "start_time": "2022-02-17T13:37:05.479Z"
   },
   {
    "duration": 1365,
    "start_time": "2022-02-17T13:37:05.499Z"
   },
   {
    "duration": 100,
    "start_time": "2022-02-17T13:37:06.767Z"
   },
   {
    "duration": 100,
    "start_time": "2022-02-17T13:37:06.769Z"
   },
   {
    "duration": 99,
    "start_time": "2022-02-17T13:37:06.771Z"
   },
   {
    "duration": 99,
    "start_time": "2022-02-17T13:37:06.773Z"
   },
   {
    "duration": 83,
    "start_time": "2022-02-17T13:37:06.790Z"
   },
   {
    "duration": 83,
    "start_time": "2022-02-17T13:37:06.792Z"
   },
   {
    "duration": 82,
    "start_time": "2022-02-17T13:37:06.795Z"
   },
   {
    "duration": 82,
    "start_time": "2022-02-17T13:37:06.796Z"
   },
   {
    "duration": 82,
    "start_time": "2022-02-17T13:37:06.798Z"
   },
   {
    "duration": 82,
    "start_time": "2022-02-17T13:37:06.800Z"
   },
   {
    "duration": 82,
    "start_time": "2022-02-17T13:37:06.802Z"
   },
   {
    "duration": 70,
    "start_time": "2022-02-17T13:37:06.816Z"
   },
   {
    "duration": 65,
    "start_time": "2022-02-17T13:37:06.822Z"
   },
   {
    "duration": 65,
    "start_time": "2022-02-17T13:37:06.824Z"
   },
   {
    "duration": 65,
    "start_time": "2022-02-17T13:37:06.826Z"
   },
   {
    "duration": 64,
    "start_time": "2022-02-17T13:37:06.829Z"
   },
   {
    "duration": 64,
    "start_time": "2022-02-17T13:37:06.831Z"
   },
   {
    "duration": 63,
    "start_time": "2022-02-17T13:37:06.833Z"
   },
   {
    "duration": 63,
    "start_time": "2022-02-17T13:37:06.835Z"
   },
   {
    "duration": 64,
    "start_time": "2022-02-17T13:37:06.836Z"
   },
   {
    "duration": 1231,
    "start_time": "2022-02-17T13:37:15.536Z"
   },
   {
    "duration": 1259,
    "start_time": "2022-02-17T13:37:46.407Z"
   },
   {
    "duration": 17,
    "start_time": "2022-02-17T13:38:41.955Z"
   },
   {
    "duration": 16,
    "start_time": "2022-02-17T13:38:47.302Z"
   },
   {
    "duration": 464,
    "start_time": "2022-02-17T13:39:21.568Z"
   },
   {
    "duration": 22,
    "start_time": "2022-02-17T13:40:23.734Z"
   },
   {
    "duration": 23,
    "start_time": "2022-02-17T13:41:12.076Z"
   },
   {
    "duration": 17,
    "start_time": "2022-02-17T13:42:12.254Z"
   },
   {
    "duration": 14,
    "start_time": "2022-02-17T13:43:16.329Z"
   },
   {
    "duration": 16,
    "start_time": "2022-02-17T13:44:10.041Z"
   },
   {
    "duration": 16,
    "start_time": "2022-02-17T13:45:20.571Z"
   },
   {
    "duration": 77,
    "start_time": "2022-02-17T13:46:56.964Z"
   },
   {
    "duration": 18,
    "start_time": "2022-02-17T13:47:14.337Z"
   },
   {
    "duration": 19,
    "start_time": "2022-02-17T13:48:21.477Z"
   },
   {
    "duration": 18,
    "start_time": "2022-02-17T13:50:13.903Z"
   },
   {
    "duration": 28,
    "start_time": "2022-02-17T13:50:25.348Z"
   },
   {
    "duration": 469,
    "start_time": "2022-02-17T13:51:20.478Z"
   },
   {
    "duration": 475,
    "start_time": "2022-02-17T13:53:06.649Z"
   },
   {
    "duration": 487,
    "start_time": "2022-02-17T13:53:26.446Z"
   },
   {
    "duration": 577,
    "start_time": "2022-02-17T13:53:51.839Z"
   },
   {
    "duration": 487,
    "start_time": "2022-02-17T13:54:03.807Z"
   },
   {
    "duration": 466,
    "start_time": "2022-02-17T13:55:13.509Z"
   },
   {
    "duration": 3991,
    "start_time": "2022-02-17T13:55:48.903Z"
   },
   {
    "duration": 3545,
    "start_time": "2022-02-17T13:56:11.915Z"
   },
   {
    "duration": 3753,
    "start_time": "2022-02-17T13:57:01.009Z"
   },
   {
    "duration": 11,
    "start_time": "2022-02-17T13:57:57.955Z"
   },
   {
    "duration": 551,
    "start_time": "2022-02-17T14:15:16.739Z"
   },
   {
    "duration": 553,
    "start_time": "2022-02-17T14:15:38.835Z"
   },
   {
    "duration": 488,
    "start_time": "2022-02-17T14:17:18.721Z"
   },
   {
    "duration": 472,
    "start_time": "2022-02-17T14:17:32.489Z"
   },
   {
    "duration": 476,
    "start_time": "2022-02-17T14:17:46.696Z"
   },
   {
    "duration": 499,
    "start_time": "2022-02-17T14:17:55.320Z"
   },
   {
    "duration": 510,
    "start_time": "2022-02-17T14:18:02.687Z"
   },
   {
    "duration": 510,
    "start_time": "2022-02-17T14:18:32.155Z"
   },
   {
    "duration": 468,
    "start_time": "2022-02-17T14:18:38.580Z"
   },
   {
    "duration": 499,
    "start_time": "2022-02-17T14:18:50.345Z"
   },
   {
    "duration": 755,
    "start_time": "2022-02-17T14:19:06.576Z"
   },
   {
    "duration": 184,
    "start_time": "2022-02-17T14:19:07.334Z"
   },
   {
    "duration": 26,
    "start_time": "2022-02-17T14:19:07.521Z"
   },
   {
    "duration": 34,
    "start_time": "2022-02-17T14:19:07.562Z"
   },
   {
    "duration": 5,
    "start_time": "2022-02-17T14:19:07.599Z"
   },
   {
    "duration": 55,
    "start_time": "2022-02-17T14:19:07.606Z"
   },
   {
    "duration": 5,
    "start_time": "2022-02-17T14:19:07.664Z"
   },
   {
    "duration": 34,
    "start_time": "2022-02-17T14:19:07.673Z"
   },
   {
    "duration": 51,
    "start_time": "2022-02-17T14:19:07.710Z"
   },
   {
    "duration": 30,
    "start_time": "2022-02-17T14:19:07.764Z"
   },
   {
    "duration": 104,
    "start_time": "2022-02-17T14:19:07.797Z"
   },
   {
    "duration": 112,
    "start_time": "2022-02-17T14:19:07.904Z"
   },
   {
    "duration": 91,
    "start_time": "2022-02-17T14:19:08.018Z"
   },
   {
    "duration": 16,
    "start_time": "2022-02-17T14:19:08.112Z"
   },
   {
    "duration": 5,
    "start_time": "2022-02-17T14:19:08.131Z"
   },
   {
    "duration": 16,
    "start_time": "2022-02-17T14:19:08.162Z"
   },
   {
    "duration": 18,
    "start_time": "2022-02-17T14:19:08.181Z"
   },
   {
    "duration": 603,
    "start_time": "2022-02-17T14:19:08.202Z"
   },
   {
    "duration": 162,
    "start_time": "2022-02-17T14:19:08.647Z"
   },
   {
    "duration": 124,
    "start_time": "2022-02-17T14:19:08.687Z"
   },
   {
    "duration": 125,
    "start_time": "2022-02-17T14:19:08.689Z"
   },
   {
    "duration": 125,
    "start_time": "2022-02-17T14:19:08.691Z"
   },
   {
    "duration": 124,
    "start_time": "2022-02-17T14:19:08.694Z"
   },
   {
    "duration": 125,
    "start_time": "2022-02-17T14:19:08.696Z"
   },
   {
    "duration": 125,
    "start_time": "2022-02-17T14:19:08.698Z"
   },
   {
    "duration": 126,
    "start_time": "2022-02-17T14:19:08.700Z"
   },
   {
    "duration": 126,
    "start_time": "2022-02-17T14:19:08.702Z"
   },
   {
    "duration": 125,
    "start_time": "2022-02-17T14:19:08.705Z"
   },
   {
    "duration": 126,
    "start_time": "2022-02-17T14:19:08.707Z"
   },
   {
    "duration": 126,
    "start_time": "2022-02-17T14:19:08.709Z"
   },
   {
    "duration": 101,
    "start_time": "2022-02-17T14:19:08.736Z"
   },
   {
    "duration": 98,
    "start_time": "2022-02-17T14:19:08.742Z"
   },
   {
    "duration": 67,
    "start_time": "2022-02-17T14:19:08.775Z"
   },
   {
    "duration": 67,
    "start_time": "2022-02-17T14:19:08.777Z"
   },
   {
    "duration": 82,
    "start_time": "2022-02-17T14:19:08.779Z"
   },
   {
    "duration": 81,
    "start_time": "2022-02-17T14:19:08.781Z"
   },
   {
    "duration": 81,
    "start_time": "2022-02-17T14:19:08.783Z"
   },
   {
    "duration": 80,
    "start_time": "2022-02-17T14:19:08.786Z"
   },
   {
    "duration": 468,
    "start_time": "2022-02-17T14:19:15.709Z"
   },
   {
    "duration": 24,
    "start_time": "2022-02-17T14:24:46.052Z"
   },
   {
    "duration": 43,
    "start_time": "2022-02-17T14:25:09.015Z"
   },
   {
    "duration": 32,
    "start_time": "2022-02-17T14:25:25.082Z"
   },
   {
    "duration": 35,
    "start_time": "2022-02-17T14:26:58.188Z"
   },
   {
    "duration": 35,
    "start_time": "2022-02-17T14:28:00.368Z"
   },
   {
    "duration": 32,
    "start_time": "2022-02-17T14:28:11.411Z"
   },
   {
    "duration": 744,
    "start_time": "2022-02-17T14:28:17.922Z"
   },
   {
    "duration": 182,
    "start_time": "2022-02-17T14:28:18.669Z"
   },
   {
    "duration": 30,
    "start_time": "2022-02-17T14:28:18.854Z"
   },
   {
    "duration": 31,
    "start_time": "2022-02-17T14:28:18.887Z"
   },
   {
    "duration": 4,
    "start_time": "2022-02-17T14:28:18.921Z"
   },
   {
    "duration": 51,
    "start_time": "2022-02-17T14:28:18.928Z"
   },
   {
    "duration": 9,
    "start_time": "2022-02-17T14:28:18.982Z"
   },
   {
    "duration": 32,
    "start_time": "2022-02-17T14:28:18.995Z"
   },
   {
    "duration": 49,
    "start_time": "2022-02-17T14:28:19.030Z"
   },
   {
    "duration": 28,
    "start_time": "2022-02-17T14:28:19.082Z"
   },
   {
    "duration": 109,
    "start_time": "2022-02-17T14:28:19.112Z"
   },
   {
    "duration": 112,
    "start_time": "2022-02-17T14:28:19.224Z"
   },
   {
    "duration": 90,
    "start_time": "2022-02-17T14:28:19.339Z"
   },
   {
    "duration": 13,
    "start_time": "2022-02-17T14:28:19.431Z"
   },
   {
    "duration": 17,
    "start_time": "2022-02-17T14:28:19.446Z"
   },
   {
    "duration": 18,
    "start_time": "2022-02-17T14:28:19.465Z"
   },
   {
    "duration": 13,
    "start_time": "2022-02-17T14:28:19.485Z"
   },
   {
    "duration": 68,
    "start_time": "2022-02-17T14:28:19.501Z"
   },
   {
    "duration": 3,
    "start_time": "2022-02-17T14:28:19.571Z"
   },
   {
    "duration": 7,
    "start_time": "2022-02-17T14:28:19.577Z"
   },
   {
    "duration": 5,
    "start_time": "2022-02-17T14:28:19.586Z"
   },
   {
    "duration": 4,
    "start_time": "2022-02-17T14:28:19.593Z"
   },
   {
    "duration": 3,
    "start_time": "2022-02-17T14:28:19.603Z"
   },
   {
    "duration": 6,
    "start_time": "2022-02-17T14:28:19.609Z"
   },
   {
    "duration": 8,
    "start_time": "2022-02-17T14:28:19.617Z"
   },
   {
    "duration": 3,
    "start_time": "2022-02-17T14:28:19.662Z"
   },
   {
    "duration": 8,
    "start_time": "2022-02-17T14:28:19.667Z"
   },
   {
    "duration": 6,
    "start_time": "2022-02-17T14:28:19.677Z"
   },
   {
    "duration": 7,
    "start_time": "2022-02-17T14:28:19.685Z"
   },
   {
    "duration": 8,
    "start_time": "2022-02-17T14:28:19.694Z"
   },
   {
    "duration": 10,
    "start_time": "2022-02-17T14:28:19.704Z"
   },
   {
    "duration": 5,
    "start_time": "2022-02-17T14:28:19.717Z"
   },
   {
    "duration": 37,
    "start_time": "2022-02-17T14:28:19.724Z"
   },
   {
    "duration": 4,
    "start_time": "2022-02-17T14:28:19.763Z"
   },
   {
    "duration": 5,
    "start_time": "2022-02-17T14:28:19.769Z"
   },
   {
    "duration": 4,
    "start_time": "2022-02-17T14:28:19.776Z"
   },
   {
    "duration": 5,
    "start_time": "2022-02-17T14:28:19.783Z"
   },
   {
    "duration": 4,
    "start_time": "2022-02-17T14:28:19.790Z"
   },
   {
    "duration": 12,
    "start_time": "2022-02-17T14:29:28.799Z"
   },
   {
    "duration": 373,
    "start_time": "2022-02-17T14:29:38.902Z"
   },
   {
    "duration": 8,
    "start_time": "2022-02-17T14:29:45.719Z"
   },
   {
    "duration": 14,
    "start_time": "2022-02-17T14:33:23.357Z"
   },
   {
    "duration": 53,
    "start_time": "2022-02-17T14:33:56.113Z"
   },
   {
    "duration": 33,
    "start_time": "2022-02-17T14:34:32.965Z"
   },
   {
    "duration": 61,
    "start_time": "2022-02-17T14:35:15.308Z"
   },
   {
    "duration": 51,
    "start_time": "2022-02-17T14:35:20.867Z"
   },
   {
    "duration": 874,
    "start_time": "2022-02-17T14:35:36.703Z"
   },
   {
    "duration": 195,
    "start_time": "2022-02-17T14:35:37.579Z"
   },
   {
    "duration": 28,
    "start_time": "2022-02-17T14:35:37.777Z"
   },
   {
    "duration": 57,
    "start_time": "2022-02-17T14:35:37.808Z"
   },
   {
    "duration": 5,
    "start_time": "2022-02-17T14:35:37.868Z"
   },
   {
    "duration": 33,
    "start_time": "2022-02-17T14:35:37.876Z"
   },
   {
    "duration": 8,
    "start_time": "2022-02-17T14:35:37.912Z"
   },
   {
    "duration": 64,
    "start_time": "2022-02-17T14:35:37.923Z"
   },
   {
    "duration": 27,
    "start_time": "2022-02-17T14:35:37.991Z"
   },
   {
    "duration": 53,
    "start_time": "2022-02-17T14:35:38.021Z"
   },
   {
    "duration": 114,
    "start_time": "2022-02-17T14:35:38.077Z"
   },
   {
    "duration": 120,
    "start_time": "2022-02-17T14:35:38.194Z"
   },
   {
    "duration": 93,
    "start_time": "2022-02-17T14:35:38.317Z"
   },
   {
    "duration": 16,
    "start_time": "2022-02-17T14:35:38.413Z"
   },
   {
    "duration": 29,
    "start_time": "2022-02-17T14:35:38.432Z"
   },
   {
    "duration": 16,
    "start_time": "2022-02-17T14:35:38.465Z"
   },
   {
    "duration": 29,
    "start_time": "2022-02-17T14:35:38.484Z"
   },
   {
    "duration": 52,
    "start_time": "2022-02-17T14:35:38.515Z"
   },
   {
    "duration": 43,
    "start_time": "2022-02-17T14:35:38.569Z"
   },
   {
    "duration": 3,
    "start_time": "2022-02-17T14:35:38.615Z"
   },
   {
    "duration": 12,
    "start_time": "2022-02-17T14:35:38.621Z"
   },
   {
    "duration": 9,
    "start_time": "2022-02-17T14:35:38.662Z"
   },
   {
    "duration": 3,
    "start_time": "2022-02-17T14:35:38.677Z"
   },
   {
    "duration": 6,
    "start_time": "2022-02-17T14:35:38.684Z"
   },
   {
    "duration": 5,
    "start_time": "2022-02-17T14:35:38.693Z"
   },
   {
    "duration": 9,
    "start_time": "2022-02-17T14:35:38.701Z"
   },
   {
    "duration": 9,
    "start_time": "2022-02-17T14:35:38.712Z"
   },
   {
    "duration": 38,
    "start_time": "2022-02-17T14:35:38.724Z"
   },
   {
    "duration": 5,
    "start_time": "2022-02-17T14:35:38.765Z"
   },
   {
    "duration": 10,
    "start_time": "2022-02-17T14:35:38.772Z"
   },
   {
    "duration": 13,
    "start_time": "2022-02-17T14:35:38.784Z"
   },
   {
    "duration": 4,
    "start_time": "2022-02-17T14:35:38.800Z"
   },
   {
    "duration": 8,
    "start_time": "2022-02-17T14:35:38.807Z"
   },
   {
    "duration": 7,
    "start_time": "2022-02-17T14:35:38.818Z"
   },
   {
    "duration": 4,
    "start_time": "2022-02-17T14:35:38.860Z"
   },
   {
    "duration": 7,
    "start_time": "2022-02-17T14:35:38.866Z"
   },
   {
    "duration": 4,
    "start_time": "2022-02-17T14:35:38.876Z"
   },
   {
    "duration": 10,
    "start_time": "2022-02-17T14:35:38.883Z"
   },
   {
    "duration": 13,
    "start_time": "2022-02-17T15:31:26.364Z"
   },
   {
    "duration": 439,
    "start_time": "2022-02-17T15:31:59.034Z"
   },
   {
    "duration": 276,
    "start_time": "2022-02-17T15:32:15.586Z"
   },
   {
    "duration": 312,
    "start_time": "2022-02-17T15:33:45.002Z"
   },
   {
    "duration": 1002,
    "start_time": "2022-02-17T15:33:52.136Z"
   },
   {
    "duration": 250,
    "start_time": "2022-02-17T15:33:53.141Z"
   },
   {
    "duration": 35,
    "start_time": "2022-02-17T15:33:53.395Z"
   },
   {
    "duration": 70,
    "start_time": "2022-02-17T15:33:53.434Z"
   },
   {
    "duration": 6,
    "start_time": "2022-02-17T15:33:53.507Z"
   },
   {
    "duration": 66,
    "start_time": "2022-02-17T15:33:53.516Z"
   },
   {
    "duration": 7,
    "start_time": "2022-02-17T15:33:53.585Z"
   },
   {
    "duration": 68,
    "start_time": "2022-02-17T15:33:53.598Z"
   },
   {
    "duration": 32,
    "start_time": "2022-02-17T15:33:53.670Z"
   },
   {
    "duration": 70,
    "start_time": "2022-02-17T15:33:53.705Z"
   },
   {
    "duration": 132,
    "start_time": "2022-02-17T15:33:53.779Z"
   },
   {
    "duration": 115,
    "start_time": "2022-02-17T15:33:53.914Z"
   },
   {
    "duration": 93,
    "start_time": "2022-02-17T15:33:54.031Z"
   },
   {
    "duration": 15,
    "start_time": "2022-02-17T15:33:54.127Z"
   },
   {
    "duration": 21,
    "start_time": "2022-02-17T15:33:54.144Z"
   },
   {
    "duration": 16,
    "start_time": "2022-02-17T15:33:54.167Z"
   },
   {
    "duration": 16,
    "start_time": "2022-02-17T15:33:54.185Z"
   },
   {
    "duration": 70,
    "start_time": "2022-02-17T15:33:54.203Z"
   },
   {
    "duration": 46,
    "start_time": "2022-02-17T15:33:54.276Z"
   },
   {
    "duration": 93,
    "start_time": "2022-02-17T15:33:54.325Z"
   },
   {
    "duration": 127,
    "start_time": "2022-02-17T15:33:54.294Z"
   },
   {
    "duration": 126,
    "start_time": "2022-02-17T15:33:54.297Z"
   },
   {
    "duration": 125,
    "start_time": "2022-02-17T15:33:54.300Z"
   },
   {
    "duration": 124,
    "start_time": "2022-02-17T15:33:54.302Z"
   },
   {
    "duration": 120,
    "start_time": "2022-02-17T15:33:54.308Z"
   },
   {
    "duration": 119,
    "start_time": "2022-02-17T15:33:54.310Z"
   },
   {
    "duration": 119,
    "start_time": "2022-02-17T15:33:54.312Z"
   },
   {
    "duration": 119,
    "start_time": "2022-02-17T15:33:54.314Z"
   },
   {
    "duration": 117,
    "start_time": "2022-02-17T15:33:54.317Z"
   },
   {
    "duration": 117,
    "start_time": "2022-02-17T15:33:54.319Z"
   },
   {
    "duration": 115,
    "start_time": "2022-02-17T15:33:54.323Z"
   },
   {
    "duration": 115,
    "start_time": "2022-02-17T15:33:54.325Z"
   },
   {
    "duration": 115,
    "start_time": "2022-02-17T15:33:54.327Z"
   },
   {
    "duration": 113,
    "start_time": "2022-02-17T15:33:54.331Z"
   },
   {
    "duration": 108,
    "start_time": "2022-02-17T15:33:54.338Z"
   },
   {
    "duration": 107,
    "start_time": "2022-02-17T15:33:54.340Z"
   },
   {
    "duration": 107,
    "start_time": "2022-02-17T15:33:54.342Z"
   },
   {
    "duration": 106,
    "start_time": "2022-02-17T15:33:54.344Z"
   },
   {
    "duration": 407,
    "start_time": "2022-02-17T15:34:05.715Z"
   },
   {
    "duration": 282,
    "start_time": "2022-02-17T15:34:18.755Z"
   },
   {
    "duration": 321,
    "start_time": "2022-02-17T15:35:56.451Z"
   },
   {
    "duration": 475,
    "start_time": "2022-02-17T15:36:15.451Z"
   },
   {
    "duration": 753,
    "start_time": "2022-02-17T15:38:19.136Z"
   },
   {
    "duration": 189,
    "start_time": "2022-02-17T15:38:19.892Z"
   },
   {
    "duration": 26,
    "start_time": "2022-02-17T15:38:20.084Z"
   },
   {
    "duration": 54,
    "start_time": "2022-02-17T15:38:20.114Z"
   },
   {
    "duration": 5,
    "start_time": "2022-02-17T15:38:20.171Z"
   },
   {
    "duration": 30,
    "start_time": "2022-02-17T15:38:20.179Z"
   },
   {
    "duration": 7,
    "start_time": "2022-02-17T15:38:20.212Z"
   },
   {
    "duration": 62,
    "start_time": "2022-02-17T15:38:20.223Z"
   },
   {
    "duration": 24,
    "start_time": "2022-02-17T15:38:20.288Z"
   },
   {
    "duration": 52,
    "start_time": "2022-02-17T15:38:20.314Z"
   },
   {
    "duration": 100,
    "start_time": "2022-02-17T15:38:20.369Z"
   },
   {
    "duration": 110,
    "start_time": "2022-02-17T15:38:20.472Z"
   },
   {
    "duration": 92,
    "start_time": "2022-02-17T15:38:20.585Z"
   },
   {
    "duration": 16,
    "start_time": "2022-02-17T15:38:20.680Z"
   },
   {
    "duration": 4,
    "start_time": "2022-02-17T15:38:20.699Z"
   },
   {
    "duration": 17,
    "start_time": "2022-02-17T15:38:20.707Z"
   },
   {
    "duration": 38,
    "start_time": "2022-02-17T15:38:20.726Z"
   },
   {
    "duration": 33,
    "start_time": "2022-02-17T15:38:20.766Z"
   },
   {
    "duration": 74,
    "start_time": "2022-02-17T15:38:20.801Z"
   },
   {
    "duration": 95,
    "start_time": "2022-02-17T15:38:20.878Z"
   },
   {
    "duration": 90,
    "start_time": "2022-02-17T15:38:20.886Z"
   },
   {
    "duration": 89,
    "start_time": "2022-02-17T15:38:20.888Z"
   },
   {
    "duration": 89,
    "start_time": "2022-02-17T15:38:20.890Z"
   },
   {
    "duration": 88,
    "start_time": "2022-02-17T15:38:20.892Z"
   },
   {
    "duration": 87,
    "start_time": "2022-02-17T15:38:20.894Z"
   },
   {
    "duration": 87,
    "start_time": "2022-02-17T15:38:20.896Z"
   },
   {
    "duration": 51,
    "start_time": "2022-02-17T15:38:20.934Z"
   },
   {
    "duration": 49,
    "start_time": "2022-02-17T15:38:20.937Z"
   },
   {
    "duration": 50,
    "start_time": "2022-02-17T15:38:20.938Z"
   },
   {
    "duration": 50,
    "start_time": "2022-02-17T15:38:20.940Z"
   },
   {
    "duration": 50,
    "start_time": "2022-02-17T15:38:20.942Z"
   },
   {
    "duration": 50,
    "start_time": "2022-02-17T15:38:20.944Z"
   },
   {
    "duration": 49,
    "start_time": "2022-02-17T15:38:20.946Z"
   },
   {
    "duration": 49,
    "start_time": "2022-02-17T15:38:20.948Z"
   },
   {
    "duration": 48,
    "start_time": "2022-02-17T15:38:20.950Z"
   },
   {
    "duration": 47,
    "start_time": "2022-02-17T15:38:20.952Z"
   },
   {
    "duration": 47,
    "start_time": "2022-02-17T15:38:20.954Z"
   },
   {
    "duration": 46,
    "start_time": "2022-02-17T15:38:20.956Z"
   },
   {
    "duration": 377,
    "start_time": "2022-02-17T15:38:30.059Z"
   },
   {
    "duration": 129,
    "start_time": "2022-02-17T15:38:36.682Z"
   },
   {
    "duration": 692,
    "start_time": "2022-02-17T15:38:51.287Z"
   },
   {
    "duration": 188,
    "start_time": "2022-02-17T15:38:51.982Z"
   },
   {
    "duration": 28,
    "start_time": "2022-02-17T15:38:52.173Z"
   },
   {
    "duration": 59,
    "start_time": "2022-02-17T15:38:52.204Z"
   },
   {
    "duration": 5,
    "start_time": "2022-02-17T15:38:52.266Z"
   },
   {
    "duration": 33,
    "start_time": "2022-02-17T15:38:52.274Z"
   },
   {
    "duration": 6,
    "start_time": "2022-02-17T15:38:52.309Z"
   },
   {
    "duration": 82,
    "start_time": "2022-02-17T15:38:52.320Z"
   },
   {
    "duration": 24,
    "start_time": "2022-02-17T15:38:52.406Z"
   },
   {
    "duration": 56,
    "start_time": "2022-02-17T15:38:52.433Z"
   },
   {
    "duration": 100,
    "start_time": "2022-02-17T15:38:52.491Z"
   },
   {
    "duration": 109,
    "start_time": "2022-02-17T15:38:52.593Z"
   },
   {
    "duration": 91,
    "start_time": "2022-02-17T15:38:52.705Z"
   },
   {
    "duration": 15,
    "start_time": "2022-02-17T15:38:52.798Z"
   },
   {
    "duration": 5,
    "start_time": "2022-02-17T15:38:52.815Z"
   },
   {
    "duration": 47,
    "start_time": "2022-02-17T15:38:52.822Z"
   },
   {
    "duration": 14,
    "start_time": "2022-02-17T15:38:52.871Z"
   },
   {
    "duration": 74,
    "start_time": "2022-02-17T15:38:52.887Z"
   },
   {
    "duration": 46,
    "start_time": "2022-02-17T15:38:52.963Z"
   },
   {
    "duration": 88,
    "start_time": "2022-02-17T15:38:53.012Z"
   },
   {
    "duration": 119,
    "start_time": "2022-02-17T15:38:52.984Z"
   },
   {
    "duration": 112,
    "start_time": "2022-02-17T15:38:52.992Z"
   },
   {
    "duration": 112,
    "start_time": "2022-02-17T15:38:52.994Z"
   },
   {
    "duration": 110,
    "start_time": "2022-02-17T15:38:52.997Z"
   },
   {
    "duration": 109,
    "start_time": "2022-02-17T15:38:53.000Z"
   },
   {
    "duration": 105,
    "start_time": "2022-02-17T15:38:53.005Z"
   },
   {
    "duration": 104,
    "start_time": "2022-02-17T15:38:53.007Z"
   },
   {
    "duration": 103,
    "start_time": "2022-02-17T15:38:53.010Z"
   },
   {
    "duration": 102,
    "start_time": "2022-02-17T15:38:53.012Z"
   },
   {
    "duration": 102,
    "start_time": "2022-02-17T15:38:53.014Z"
   },
   {
    "duration": 101,
    "start_time": "2022-02-17T15:38:53.016Z"
   },
   {
    "duration": 95,
    "start_time": "2022-02-17T15:38:53.024Z"
   },
   {
    "duration": 93,
    "start_time": "2022-02-17T15:38:53.027Z"
   },
   {
    "duration": 92,
    "start_time": "2022-02-17T15:38:53.029Z"
   },
   {
    "duration": 91,
    "start_time": "2022-02-17T15:38:53.031Z"
   },
   {
    "duration": 91,
    "start_time": "2022-02-17T15:38:53.033Z"
   },
   {
    "duration": 86,
    "start_time": "2022-02-17T15:38:53.039Z"
   },
   {
    "duration": 81,
    "start_time": "2022-02-17T15:38:53.045Z"
   },
   {
    "duration": 98,
    "start_time": "2022-02-17T15:39:08.504Z"
   },
   {
    "duration": 102,
    "start_time": "2022-02-17T15:39:39.477Z"
   },
   {
    "duration": 127,
    "start_time": "2022-02-17T15:39:56.498Z"
   },
   {
    "duration": 98,
    "start_time": "2022-02-17T15:40:16.268Z"
   },
   {
    "duration": 1052,
    "start_time": "2022-02-17T15:40:32.661Z"
   },
   {
    "duration": 249,
    "start_time": "2022-02-17T15:40:33.717Z"
   },
   {
    "duration": 39,
    "start_time": "2022-02-17T15:40:33.970Z"
   },
   {
    "duration": 54,
    "start_time": "2022-02-17T15:40:34.013Z"
   },
   {
    "duration": 6,
    "start_time": "2022-02-17T15:40:34.070Z"
   },
   {
    "duration": 34,
    "start_time": "2022-02-17T15:40:34.078Z"
   },
   {
    "duration": 7,
    "start_time": "2022-02-17T15:40:34.115Z"
   },
   {
    "duration": 31,
    "start_time": "2022-02-17T15:40:34.164Z"
   },
   {
    "duration": 25,
    "start_time": "2022-02-17T15:40:34.198Z"
   },
   {
    "duration": 63,
    "start_time": "2022-02-17T15:40:34.226Z"
   },
   {
    "duration": 118,
    "start_time": "2022-02-17T15:40:34.292Z"
   },
   {
    "duration": 127,
    "start_time": "2022-02-17T15:40:34.414Z"
   },
   {
    "duration": 95,
    "start_time": "2022-02-17T15:40:34.544Z"
   },
   {
    "duration": 29,
    "start_time": "2022-02-17T15:40:34.642Z"
   },
   {
    "duration": 7,
    "start_time": "2022-02-17T15:40:34.673Z"
   },
   {
    "duration": 27,
    "start_time": "2022-02-17T15:40:34.682Z"
   },
   {
    "duration": 35,
    "start_time": "2022-02-17T15:40:34.712Z"
   },
   {
    "duration": 49,
    "start_time": "2022-02-17T15:40:34.749Z"
   },
   {
    "duration": 77,
    "start_time": "2022-02-17T15:40:34.801Z"
   },
   {
    "duration": 138,
    "start_time": "2022-02-17T15:40:34.881Z"
   },
   {
    "duration": 119,
    "start_time": "2022-02-17T15:40:34.903Z"
   },
   {
    "duration": 119,
    "start_time": "2022-02-17T15:40:34.905Z"
   },
   {
    "duration": 113,
    "start_time": "2022-02-17T15:40:34.912Z"
   },
   {
    "duration": 113,
    "start_time": "2022-02-17T15:40:34.914Z"
   },
   {
    "duration": 113,
    "start_time": "2022-02-17T15:40:34.917Z"
   },
   {
    "duration": 113,
    "start_time": "2022-02-17T15:40:34.918Z"
   },
   {
    "duration": 110,
    "start_time": "2022-02-17T15:40:34.923Z"
   },
   {
    "duration": 109,
    "start_time": "2022-02-17T15:40:34.925Z"
   },
   {
    "duration": 108,
    "start_time": "2022-02-17T15:40:34.928Z"
   },
   {
    "duration": 106,
    "start_time": "2022-02-17T15:40:34.931Z"
   },
   {
    "duration": 105,
    "start_time": "2022-02-17T15:40:34.934Z"
   },
   {
    "duration": 105,
    "start_time": "2022-02-17T15:40:34.935Z"
   },
   {
    "duration": 105,
    "start_time": "2022-02-17T15:40:34.937Z"
   },
   {
    "duration": 97,
    "start_time": "2022-02-17T15:40:34.947Z"
   },
   {
    "duration": 95,
    "start_time": "2022-02-17T15:40:34.950Z"
   },
   {
    "duration": 95,
    "start_time": "2022-02-17T15:40:34.952Z"
   },
   {
    "duration": 94,
    "start_time": "2022-02-17T15:40:34.954Z"
   },
   {
    "duration": 94,
    "start_time": "2022-02-17T15:40:34.956Z"
   },
   {
    "duration": 5,
    "start_time": "2022-02-17T15:41:06.767Z"
   },
   {
    "duration": 673,
    "start_time": "2022-02-17T15:41:12.066Z"
   },
   {
    "duration": 578,
    "start_time": "2022-02-17T15:42:34.087Z"
   },
   {
    "duration": 574,
    "start_time": "2022-02-17T15:42:37.649Z"
   },
   {
    "duration": 860,
    "start_time": "2022-02-17T15:43:09.857Z"
   },
   {
    "duration": 196,
    "start_time": "2022-02-17T15:43:10.720Z"
   },
   {
    "duration": 29,
    "start_time": "2022-02-17T15:43:10.920Z"
   },
   {
    "duration": 35,
    "start_time": "2022-02-17T15:43:10.964Z"
   },
   {
    "duration": 7,
    "start_time": "2022-02-17T15:43:11.001Z"
   },
   {
    "duration": 65,
    "start_time": "2022-02-17T15:43:11.011Z"
   },
   {
    "duration": 17,
    "start_time": "2022-02-17T15:43:11.078Z"
   },
   {
    "duration": 56,
    "start_time": "2022-02-17T15:43:11.098Z"
   },
   {
    "duration": 25,
    "start_time": "2022-02-17T15:43:11.163Z"
   },
   {
    "duration": 31,
    "start_time": "2022-02-17T15:43:11.191Z"
   },
   {
    "duration": 123,
    "start_time": "2022-02-17T15:43:11.225Z"
   },
   {
    "duration": 120,
    "start_time": "2022-02-17T15:43:11.350Z"
   },
   {
    "duration": 95,
    "start_time": "2022-02-17T15:43:11.472Z"
   },
   {
    "duration": 15,
    "start_time": "2022-02-17T15:43:11.570Z"
   },
   {
    "duration": 4,
    "start_time": "2022-02-17T15:43:11.588Z"
   },
   {
    "duration": 17,
    "start_time": "2022-02-17T15:43:11.594Z"
   },
   {
    "duration": 52,
    "start_time": "2022-02-17T15:43:11.614Z"
   },
   {
    "duration": 39,
    "start_time": "2022-02-17T15:43:11.669Z"
   },
   {
    "duration": 86,
    "start_time": "2022-02-17T15:43:11.711Z"
   },
   {
    "duration": 6,
    "start_time": "2022-02-17T15:43:11.800Z"
   },
   {
    "duration": 730,
    "start_time": "2022-02-17T15:43:11.810Z"
   },
   {
    "duration": 120,
    "start_time": "2022-02-17T15:43:12.424Z"
   },
   {
    "duration": 91,
    "start_time": "2022-02-17T15:43:12.455Z"
   },
   {
    "duration": 92,
    "start_time": "2022-02-17T15:43:12.457Z"
   },
   {
    "duration": 91,
    "start_time": "2022-02-17T15:43:12.460Z"
   },
   {
    "duration": 91,
    "start_time": "2022-02-17T15:43:12.462Z"
   },
   {
    "duration": 91,
    "start_time": "2022-02-17T15:43:12.464Z"
   },
   {
    "duration": 91,
    "start_time": "2022-02-17T15:43:12.466Z"
   },
   {
    "duration": 92,
    "start_time": "2022-02-17T15:43:12.468Z"
   },
   {
    "duration": 92,
    "start_time": "2022-02-17T15:43:12.470Z"
   },
   {
    "duration": 92,
    "start_time": "2022-02-17T15:43:12.472Z"
   },
   {
    "duration": 93,
    "start_time": "2022-02-17T15:43:12.474Z"
   },
   {
    "duration": 93,
    "start_time": "2022-02-17T15:43:12.476Z"
   },
   {
    "duration": 93,
    "start_time": "2022-02-17T15:43:12.478Z"
   },
   {
    "duration": 93,
    "start_time": "2022-02-17T15:43:12.480Z"
   },
   {
    "duration": 93,
    "start_time": "2022-02-17T15:43:12.482Z"
   },
   {
    "duration": 94,
    "start_time": "2022-02-17T15:43:12.484Z"
   },
   {
    "duration": 93,
    "start_time": "2022-02-17T15:43:12.487Z"
   },
   {
    "duration": 303,
    "start_time": "2022-02-17T15:43:38.175Z"
   },
   {
    "duration": 331,
    "start_time": "2022-02-17T15:43:44.214Z"
   },
   {
    "duration": 659,
    "start_time": "2022-02-17T15:43:57.134Z"
   },
   {
    "duration": 562,
    "start_time": "2022-02-17T15:44:30.629Z"
   },
   {
    "duration": 588,
    "start_time": "2022-02-17T15:44:41.545Z"
   },
   {
    "duration": 7,
    "start_time": "2022-02-17T15:44:44.815Z"
   },
   {
    "duration": 5,
    "start_time": "2022-02-17T15:44:50.795Z"
   },
   {
    "duration": 697,
    "start_time": "2022-02-17T15:44:55.208Z"
   },
   {
    "duration": 834,
    "start_time": "2022-02-17T15:45:03.548Z"
   },
   {
    "duration": 198,
    "start_time": "2022-02-17T15:45:04.385Z"
   },
   {
    "duration": 27,
    "start_time": "2022-02-17T15:45:04.586Z"
   },
   {
    "duration": 57,
    "start_time": "2022-02-17T15:45:04.617Z"
   },
   {
    "duration": 6,
    "start_time": "2022-02-17T15:45:04.677Z"
   },
   {
    "duration": 28,
    "start_time": "2022-02-17T15:45:04.686Z"
   },
   {
    "duration": 11,
    "start_time": "2022-02-17T15:45:04.717Z"
   },
   {
    "duration": 33,
    "start_time": "2022-02-17T15:45:04.762Z"
   },
   {
    "duration": 23,
    "start_time": "2022-02-17T15:45:04.800Z"
   },
   {
    "duration": 52,
    "start_time": "2022-02-17T15:45:04.825Z"
   },
   {
    "duration": 110,
    "start_time": "2022-02-17T15:45:04.880Z"
   },
   {
    "duration": 130,
    "start_time": "2022-02-17T15:45:04.993Z"
   },
   {
    "duration": 94,
    "start_time": "2022-02-17T15:45:05.126Z"
   },
   {
    "duration": 16,
    "start_time": "2022-02-17T15:45:05.223Z"
   },
   {
    "duration": 21,
    "start_time": "2022-02-17T15:45:05.242Z"
   },
   {
    "duration": 22,
    "start_time": "2022-02-17T15:45:05.266Z"
   },
   {
    "duration": 18,
    "start_time": "2022-02-17T15:45:05.291Z"
   },
   {
    "duration": 69,
    "start_time": "2022-02-17T15:45:05.312Z"
   },
   {
    "duration": 78,
    "start_time": "2022-02-17T15:45:05.383Z"
   },
   {
    "duration": 5,
    "start_time": "2022-02-17T15:45:05.464Z"
   },
   {
    "duration": 698,
    "start_time": "2022-02-17T15:45:05.472Z"
   },
   {
    "duration": 112,
    "start_time": "2022-02-17T15:45:06.062Z"
   },
   {
    "duration": 111,
    "start_time": "2022-02-17T15:45:06.064Z"
   },
   {
    "duration": 71,
    "start_time": "2022-02-17T15:45:06.106Z"
   },
   {
    "duration": 67,
    "start_time": "2022-02-17T15:45:06.112Z"
   },
   {
    "duration": 66,
    "start_time": "2022-02-17T15:45:06.114Z"
   },
   {
    "duration": 66,
    "start_time": "2022-02-17T15:45:06.116Z"
   },
   {
    "duration": 65,
    "start_time": "2022-02-17T15:45:06.118Z"
   },
   {
    "duration": 65,
    "start_time": "2022-02-17T15:45:06.120Z"
   },
   {
    "duration": 65,
    "start_time": "2022-02-17T15:45:06.122Z"
   },
   {
    "duration": 64,
    "start_time": "2022-02-17T15:45:06.124Z"
   },
   {
    "duration": 63,
    "start_time": "2022-02-17T15:45:06.126Z"
   },
   {
    "duration": 62,
    "start_time": "2022-02-17T15:45:06.128Z"
   },
   {
    "duration": 62,
    "start_time": "2022-02-17T15:45:06.129Z"
   },
   {
    "duration": 61,
    "start_time": "2022-02-17T15:45:06.131Z"
   },
   {
    "duration": 60,
    "start_time": "2022-02-17T15:45:06.134Z"
   },
   {
    "duration": 59,
    "start_time": "2022-02-17T15:45:06.136Z"
   },
   {
    "duration": 57,
    "start_time": "2022-02-17T15:45:06.139Z"
   },
   {
    "duration": 11,
    "start_time": "2022-02-17T15:48:07.036Z"
   },
   {
    "duration": 575,
    "start_time": "2022-02-17T15:48:20.429Z"
   },
   {
    "duration": 583,
    "start_time": "2022-02-17T15:48:30.573Z"
   },
   {
    "duration": 600,
    "start_time": "2022-02-17T15:49:39.827Z"
   },
   {
    "duration": 731,
    "start_time": "2022-02-17T15:50:47.512Z"
   },
   {
    "duration": 193,
    "start_time": "2022-02-17T15:50:48.246Z"
   },
   {
    "duration": 36,
    "start_time": "2022-02-17T15:50:48.443Z"
   },
   {
    "duration": 34,
    "start_time": "2022-02-17T15:50:48.483Z"
   },
   {
    "duration": 7,
    "start_time": "2022-02-17T15:50:48.521Z"
   },
   {
    "duration": 62,
    "start_time": "2022-02-17T15:50:48.531Z"
   },
   {
    "duration": 6,
    "start_time": "2022-02-17T15:50:48.596Z"
   },
   {
    "duration": 33,
    "start_time": "2022-02-17T15:50:48.604Z"
   },
   {
    "duration": 26,
    "start_time": "2022-02-17T15:50:48.664Z"
   },
   {
    "duration": 31,
    "start_time": "2022-02-17T15:50:48.694Z"
   },
   {
    "duration": 115,
    "start_time": "2022-02-17T15:50:48.728Z"
   },
   {
    "duration": 121,
    "start_time": "2022-02-17T15:50:48.846Z"
   },
   {
    "duration": 93,
    "start_time": "2022-02-17T15:50:48.969Z"
   },
   {
    "duration": 15,
    "start_time": "2022-02-17T15:50:49.065Z"
   },
   {
    "duration": 3,
    "start_time": "2022-02-17T15:50:49.082Z"
   },
   {
    "duration": 14,
    "start_time": "2022-02-17T15:50:49.088Z"
   },
   {
    "duration": 56,
    "start_time": "2022-02-17T15:50:49.105Z"
   },
   {
    "duration": 38,
    "start_time": "2022-02-17T15:50:49.163Z"
   },
   {
    "duration": 73,
    "start_time": "2022-02-17T15:50:49.204Z"
   },
   {
    "duration": 5,
    "start_time": "2022-02-17T15:50:49.279Z"
   },
   {
    "duration": 820,
    "start_time": "2022-02-17T15:50:49.286Z"
   },
   {
    "duration": 112,
    "start_time": "2022-02-17T15:50:49.997Z"
   },
   {
    "duration": 83,
    "start_time": "2022-02-17T15:50:50.028Z"
   },
   {
    "duration": 82,
    "start_time": "2022-02-17T15:50:50.031Z"
   },
   {
    "duration": 81,
    "start_time": "2022-02-17T15:50:50.033Z"
   },
   {
    "duration": 80,
    "start_time": "2022-02-17T15:50:50.036Z"
   },
   {
    "duration": 79,
    "start_time": "2022-02-17T15:50:50.038Z"
   },
   {
    "duration": 79,
    "start_time": "2022-02-17T15:50:50.040Z"
   },
   {
    "duration": 79,
    "start_time": "2022-02-17T15:50:50.042Z"
   },
   {
    "duration": 79,
    "start_time": "2022-02-17T15:50:50.044Z"
   },
   {
    "duration": 80,
    "start_time": "2022-02-17T15:50:50.045Z"
   },
   {
    "duration": 81,
    "start_time": "2022-02-17T15:50:50.047Z"
   },
   {
    "duration": 80,
    "start_time": "2022-02-17T15:50:50.050Z"
   },
   {
    "duration": 79,
    "start_time": "2022-02-17T15:50:50.053Z"
   },
   {
    "duration": 80,
    "start_time": "2022-02-17T15:50:50.054Z"
   },
   {
    "duration": 78,
    "start_time": "2022-02-17T15:50:50.058Z"
   },
   {
    "duration": 77,
    "start_time": "2022-02-17T15:50:50.060Z"
   },
   {
    "duration": 79,
    "start_time": "2022-02-17T15:50:50.062Z"
   },
   {
    "duration": 569,
    "start_time": "2022-02-17T15:51:13.258Z"
   },
   {
    "duration": 847,
    "start_time": "2022-02-17T15:53:27.410Z"
   },
   {
    "duration": 198,
    "start_time": "2022-02-17T15:53:28.260Z"
   },
   {
    "duration": 32,
    "start_time": "2022-02-17T15:53:28.462Z"
   },
   {
    "duration": 64,
    "start_time": "2022-02-17T15:53:28.497Z"
   },
   {
    "duration": 9,
    "start_time": "2022-02-17T15:53:28.565Z"
   },
   {
    "duration": 42,
    "start_time": "2022-02-17T15:53:28.577Z"
   },
   {
    "duration": 33,
    "start_time": "2022-02-17T15:53:28.622Z"
   },
   {
    "duration": 47,
    "start_time": "2022-02-17T15:53:28.662Z"
   },
   {
    "duration": 32,
    "start_time": "2022-02-17T15:53:28.713Z"
   },
   {
    "duration": 46,
    "start_time": "2022-02-17T15:53:28.748Z"
   },
   {
    "duration": 101,
    "start_time": "2022-02-17T15:53:28.798Z"
   },
   {
    "duration": 112,
    "start_time": "2022-02-17T15:53:28.901Z"
   },
   {
    "duration": 112,
    "start_time": "2022-02-17T15:53:29.016Z"
   },
   {
    "duration": 31,
    "start_time": "2022-02-17T15:53:29.131Z"
   },
   {
    "duration": 4,
    "start_time": "2022-02-17T15:53:29.165Z"
   },
   {
    "duration": 37,
    "start_time": "2022-02-17T15:53:29.172Z"
   },
   {
    "duration": 16,
    "start_time": "2022-02-17T15:53:29.213Z"
   },
   {
    "duration": 51,
    "start_time": "2022-02-17T15:53:29.232Z"
   },
   {
    "duration": 76,
    "start_time": "2022-02-17T15:53:29.285Z"
   },
   {
    "duration": 4,
    "start_time": "2022-02-17T15:53:29.364Z"
   },
   {
    "duration": 802,
    "start_time": "2022-02-17T15:53:29.371Z"
   },
   {
    "duration": 107,
    "start_time": "2022-02-17T15:53:30.070Z"
   },
   {
    "duration": 107,
    "start_time": "2022-02-17T15:53:30.073Z"
   },
   {
    "duration": 67,
    "start_time": "2022-02-17T15:53:30.114Z"
   },
   {
    "duration": 67,
    "start_time": "2022-02-17T15:53:30.116Z"
   },
   {
    "duration": 67,
    "start_time": "2022-02-17T15:53:30.118Z"
   },
   {
    "duration": 66,
    "start_time": "2022-02-17T15:53:30.120Z"
   },
   {
    "duration": 67,
    "start_time": "2022-02-17T15:53:30.122Z"
   },
   {
    "duration": 67,
    "start_time": "2022-02-17T15:53:30.124Z"
   },
   {
    "duration": 66,
    "start_time": "2022-02-17T15:53:30.126Z"
   },
   {
    "duration": 66,
    "start_time": "2022-02-17T15:53:30.128Z"
   },
   {
    "duration": 66,
    "start_time": "2022-02-17T15:53:30.130Z"
   },
   {
    "duration": 65,
    "start_time": "2022-02-17T15:53:30.133Z"
   },
   {
    "duration": 64,
    "start_time": "2022-02-17T15:53:30.135Z"
   },
   {
    "duration": 63,
    "start_time": "2022-02-17T15:53:30.137Z"
   },
   {
    "duration": 62,
    "start_time": "2022-02-17T15:53:30.139Z"
   },
   {
    "duration": 62,
    "start_time": "2022-02-17T15:53:30.141Z"
   },
   {
    "duration": 61,
    "start_time": "2022-02-17T15:53:30.143Z"
   },
   {
    "duration": 6,
    "start_time": "2022-02-17T15:54:21.965Z"
   },
   {
    "duration": 7,
    "start_time": "2022-02-17T15:54:25.643Z"
   },
   {
    "duration": 1736,
    "start_time": "2022-02-17T15:54:29.396Z"
   },
   {
    "duration": 6,
    "start_time": "2022-02-17T15:55:32.805Z"
   },
   {
    "duration": 1370,
    "start_time": "2022-02-17T15:55:40.699Z"
   },
   {
    "duration": 93,
    "start_time": "2022-02-17T15:56:07.644Z"
   },
   {
    "duration": 5,
    "start_time": "2022-02-17T15:56:10.684Z"
   },
   {
    "duration": 615,
    "start_time": "2022-02-17T15:56:12.267Z"
   },
   {
    "duration": 756,
    "start_time": "2022-02-17T15:56:27.221Z"
   },
   {
    "duration": 219,
    "start_time": "2022-02-17T15:56:27.980Z"
   },
   {
    "duration": 34,
    "start_time": "2022-02-17T15:56:28.203Z"
   },
   {
    "duration": 51,
    "start_time": "2022-02-17T15:56:28.241Z"
   },
   {
    "duration": 6,
    "start_time": "2022-02-17T15:56:28.295Z"
   },
   {
    "duration": 68,
    "start_time": "2022-02-17T15:56:28.304Z"
   },
   {
    "duration": 7,
    "start_time": "2022-02-17T15:56:28.375Z"
   },
   {
    "duration": 35,
    "start_time": "2022-02-17T15:56:28.385Z"
   },
   {
    "duration": 47,
    "start_time": "2022-02-17T15:56:28.425Z"
   },
   {
    "duration": 32,
    "start_time": "2022-02-17T15:56:28.477Z"
   },
   {
    "duration": 121,
    "start_time": "2022-02-17T15:56:28.511Z"
   },
   {
    "duration": 117,
    "start_time": "2022-02-17T15:56:28.634Z"
   },
   {
    "duration": 122,
    "start_time": "2022-02-17T15:56:28.754Z"
   },
   {
    "duration": 16,
    "start_time": "2022-02-17T15:56:28.878Z"
   },
   {
    "duration": 5,
    "start_time": "2022-02-17T15:56:28.897Z"
   },
   {
    "duration": 17,
    "start_time": "2022-02-17T15:56:28.904Z"
   },
   {
    "duration": 17,
    "start_time": "2022-02-17T15:56:28.961Z"
   },
   {
    "duration": 39,
    "start_time": "2022-02-17T15:56:28.981Z"
   },
   {
    "duration": 81,
    "start_time": "2022-02-17T15:56:29.023Z"
   },
   {
    "duration": 5,
    "start_time": "2022-02-17T15:56:29.106Z"
   },
   {
    "duration": 760,
    "start_time": "2022-02-17T15:56:29.114Z"
   },
   {
    "duration": 109,
    "start_time": "2022-02-17T15:56:29.768Z"
   },
   {
    "duration": 108,
    "start_time": "2022-02-17T15:56:29.771Z"
   },
   {
    "duration": 72,
    "start_time": "2022-02-17T15:56:29.809Z"
   },
   {
    "duration": 72,
    "start_time": "2022-02-17T15:56:29.811Z"
   },
   {
    "duration": 73,
    "start_time": "2022-02-17T15:56:29.812Z"
   },
   {
    "duration": 72,
    "start_time": "2022-02-17T15:56:29.815Z"
   },
   {
    "duration": 74,
    "start_time": "2022-02-17T15:56:29.816Z"
   },
   {
    "duration": 74,
    "start_time": "2022-02-17T15:56:29.818Z"
   },
   {
    "duration": 73,
    "start_time": "2022-02-17T15:56:29.821Z"
   },
   {
    "duration": 74,
    "start_time": "2022-02-17T15:56:29.822Z"
   },
   {
    "duration": 76,
    "start_time": "2022-02-17T15:56:29.824Z"
   },
   {
    "duration": 55,
    "start_time": "2022-02-17T15:56:29.846Z"
   },
   {
    "duration": 54,
    "start_time": "2022-02-17T15:56:29.849Z"
   },
   {
    "duration": 55,
    "start_time": "2022-02-17T15:56:29.850Z"
   },
   {
    "duration": 54,
    "start_time": "2022-02-17T15:56:29.853Z"
   },
   {
    "duration": 50,
    "start_time": "2022-02-17T15:56:29.859Z"
   },
   {
    "duration": 51,
    "start_time": "2022-02-17T15:56:29.861Z"
   },
   {
    "duration": 6,
    "start_time": "2022-02-17T15:57:56.778Z"
   },
   {
    "duration": 568,
    "start_time": "2022-02-17T15:57:59.338Z"
   },
   {
    "duration": 829,
    "start_time": "2022-02-17T15:58:25.234Z"
   },
   {
    "duration": 204,
    "start_time": "2022-02-17T15:58:26.066Z"
   },
   {
    "duration": 26,
    "start_time": "2022-02-17T15:58:26.273Z"
   },
   {
    "duration": 63,
    "start_time": "2022-02-17T15:58:26.302Z"
   },
   {
    "duration": 6,
    "start_time": "2022-02-17T15:58:26.367Z"
   },
   {
    "duration": 33,
    "start_time": "2022-02-17T15:58:26.376Z"
   },
   {
    "duration": 11,
    "start_time": "2022-02-17T15:58:26.412Z"
   },
   {
    "duration": 61,
    "start_time": "2022-02-17T15:58:26.426Z"
   },
   {
    "duration": 23,
    "start_time": "2022-02-17T15:58:26.492Z"
   },
   {
    "duration": 52,
    "start_time": "2022-02-17T15:58:26.518Z"
   },
   {
    "duration": 110,
    "start_time": "2022-02-17T15:58:26.572Z"
   },
   {
    "duration": 110,
    "start_time": "2022-02-17T15:58:26.684Z"
   },
   {
    "duration": 89,
    "start_time": "2022-02-17T15:58:26.797Z"
   },
   {
    "duration": 14,
    "start_time": "2022-02-17T15:58:26.889Z"
   },
   {
    "duration": 4,
    "start_time": "2022-02-17T15:58:26.906Z"
   },
   {
    "duration": 18,
    "start_time": "2022-02-17T15:58:26.912Z"
   },
   {
    "duration": 40,
    "start_time": "2022-02-17T15:58:26.934Z"
   },
   {
    "duration": 35,
    "start_time": "2022-02-17T15:58:26.977Z"
   },
   {
    "duration": 79,
    "start_time": "2022-02-17T15:58:27.015Z"
   },
   {
    "duration": 5,
    "start_time": "2022-02-17T15:58:27.096Z"
   },
   {
    "duration": 710,
    "start_time": "2022-02-17T15:58:27.104Z"
   },
   {
    "duration": 101,
    "start_time": "2022-02-17T15:58:27.717Z"
   },
   {
    "duration": 100,
    "start_time": "2022-02-17T15:58:27.719Z"
   },
   {
    "duration": 63,
    "start_time": "2022-02-17T15:58:27.759Z"
   },
   {
    "duration": 62,
    "start_time": "2022-02-17T15:58:27.761Z"
   },
   {
    "duration": 61,
    "start_time": "2022-02-17T15:58:27.764Z"
   },
   {
    "duration": 61,
    "start_time": "2022-02-17T15:58:27.766Z"
   },
   {
    "duration": 61,
    "start_time": "2022-02-17T15:58:27.768Z"
   },
   {
    "duration": 61,
    "start_time": "2022-02-17T15:58:27.770Z"
   },
   {
    "duration": 60,
    "start_time": "2022-02-17T15:58:27.772Z"
   },
   {
    "duration": 60,
    "start_time": "2022-02-17T15:58:27.774Z"
   },
   {
    "duration": 59,
    "start_time": "2022-02-17T15:58:27.776Z"
   },
   {
    "duration": 58,
    "start_time": "2022-02-17T15:58:27.778Z"
   },
   {
    "duration": 58,
    "start_time": "2022-02-17T15:58:27.780Z"
   },
   {
    "duration": 57,
    "start_time": "2022-02-17T15:58:27.782Z"
   },
   {
    "duration": 57,
    "start_time": "2022-02-17T15:58:27.784Z"
   },
   {
    "duration": 56,
    "start_time": "2022-02-17T15:58:27.786Z"
   },
   {
    "duration": 56,
    "start_time": "2022-02-17T15:58:27.788Z"
   },
   {
    "duration": 766,
    "start_time": "2022-02-17T16:00:53.653Z"
   },
   {
    "duration": 272,
    "start_time": "2022-02-17T16:00:54.422Z"
   },
   {
    "duration": 27,
    "start_time": "2022-02-17T16:00:54.698Z"
   },
   {
    "duration": 55,
    "start_time": "2022-02-17T16:00:54.728Z"
   },
   {
    "duration": 5,
    "start_time": "2022-02-17T16:00:54.786Z"
   },
   {
    "duration": 31,
    "start_time": "2022-02-17T16:00:54.794Z"
   },
   {
    "duration": 36,
    "start_time": "2022-02-17T16:00:54.828Z"
   },
   {
    "duration": 33,
    "start_time": "2022-02-17T16:00:54.868Z"
   },
   {
    "duration": 55,
    "start_time": "2022-02-17T16:00:54.906Z"
   },
   {
    "duration": 47,
    "start_time": "2022-02-17T16:00:54.965Z"
   },
   {
    "duration": 145,
    "start_time": "2022-02-17T16:00:55.016Z"
   },
   {
    "duration": 162,
    "start_time": "2022-02-17T16:00:55.164Z"
   },
   {
    "duration": 127,
    "start_time": "2022-02-17T16:00:55.329Z"
   },
   {
    "duration": 22,
    "start_time": "2022-02-17T16:00:55.462Z"
   },
   {
    "duration": 5,
    "start_time": "2022-02-17T16:00:55.488Z"
   },
   {
    "duration": 25,
    "start_time": "2022-02-17T16:00:55.497Z"
   },
   {
    "duration": 46,
    "start_time": "2022-02-17T16:00:55.525Z"
   },
   {
    "duration": 35,
    "start_time": "2022-02-17T16:00:55.573Z"
   },
   {
    "duration": 80,
    "start_time": "2022-02-17T16:00:55.610Z"
   },
   {
    "duration": 98,
    "start_time": "2022-02-17T16:00:55.693Z"
   },
   {
    "duration": 96,
    "start_time": "2022-02-17T16:00:55.699Z"
   },
   {
    "duration": 95,
    "start_time": "2022-02-17T16:00:55.702Z"
   },
   {
    "duration": 94,
    "start_time": "2022-02-17T16:00:55.704Z"
   },
   {
    "duration": 94,
    "start_time": "2022-02-17T16:00:55.706Z"
   },
   {
    "duration": 93,
    "start_time": "2022-02-17T16:00:55.708Z"
   },
   {
    "duration": 94,
    "start_time": "2022-02-17T16:00:55.709Z"
   },
   {
    "duration": 93,
    "start_time": "2022-02-17T16:00:55.711Z"
   },
   {
    "duration": 92,
    "start_time": "2022-02-17T16:00:55.713Z"
   },
   {
    "duration": 90,
    "start_time": "2022-02-17T16:00:55.715Z"
   },
   {
    "duration": 91,
    "start_time": "2022-02-17T16:00:55.716Z"
   },
   {
    "duration": 90,
    "start_time": "2022-02-17T16:00:55.718Z"
   },
   {
    "duration": 88,
    "start_time": "2022-02-17T16:00:55.721Z"
   },
   {
    "duration": 87,
    "start_time": "2022-02-17T16:00:55.723Z"
   },
   {
    "duration": 86,
    "start_time": "2022-02-17T16:00:55.725Z"
   },
   {
    "duration": 86,
    "start_time": "2022-02-17T16:00:55.726Z"
   },
   {
    "duration": 85,
    "start_time": "2022-02-17T16:00:55.728Z"
   },
   {
    "duration": 84,
    "start_time": "2022-02-17T16:00:55.730Z"
   },
   {
    "duration": 83,
    "start_time": "2022-02-17T16:00:55.732Z"
   },
   {
    "duration": 4,
    "start_time": "2022-02-17T16:01:21.654Z"
   },
   {
    "duration": 1500,
    "start_time": "2022-02-17T16:01:25.008Z"
   },
   {
    "duration": 6,
    "start_time": "2022-02-17T16:01:58.144Z"
   },
   {
    "duration": 20,
    "start_time": "2022-02-17T16:02:02.872Z"
   },
   {
    "duration": 878,
    "start_time": "2022-02-17T16:05:35.289Z"
   },
   {
    "duration": 236,
    "start_time": "2022-02-17T16:05:36.171Z"
   },
   {
    "duration": 29,
    "start_time": "2022-02-17T16:05:36.412Z"
   },
   {
    "duration": 73,
    "start_time": "2022-02-17T16:05:36.445Z"
   },
   {
    "duration": 8,
    "start_time": "2022-02-17T16:05:36.523Z"
   },
   {
    "duration": 40,
    "start_time": "2022-02-17T16:05:36.561Z"
   },
   {
    "duration": 6,
    "start_time": "2022-02-17T16:05:36.605Z"
   },
   {
    "duration": 76,
    "start_time": "2022-02-17T16:05:36.616Z"
   },
   {
    "duration": 27,
    "start_time": "2022-02-17T16:05:36.696Z"
   },
   {
    "duration": 55,
    "start_time": "2022-02-17T16:05:36.726Z"
   },
   {
    "duration": 120,
    "start_time": "2022-02-17T16:05:36.785Z"
   },
   {
    "duration": 129,
    "start_time": "2022-02-17T16:05:36.908Z"
   },
   {
    "duration": 100,
    "start_time": "2022-02-17T16:05:37.039Z"
   },
   {
    "duration": 29,
    "start_time": "2022-02-17T16:05:37.142Z"
   },
   {
    "duration": 5,
    "start_time": "2022-02-17T16:05:37.175Z"
   },
   {
    "duration": 23,
    "start_time": "2022-02-17T16:05:37.183Z"
   },
   {
    "duration": 52,
    "start_time": "2022-02-17T16:05:37.209Z"
   },
   {
    "duration": 47,
    "start_time": "2022-02-17T16:05:37.264Z"
   },
   {
    "duration": 99,
    "start_time": "2022-02-17T16:05:37.314Z"
   },
   {
    "duration": 6,
    "start_time": "2022-02-17T16:05:37.416Z"
   },
   {
    "duration": 57,
    "start_time": "2022-02-17T16:05:37.428Z"
   },
   {
    "duration": 460,
    "start_time": "2022-02-17T16:05:37.488Z"
   },
   {
    "duration": 104,
    "start_time": "2022-02-17T16:05:37.848Z"
   },
   {
    "duration": 103,
    "start_time": "2022-02-17T16:05:37.850Z"
   },
   {
    "duration": 103,
    "start_time": "2022-02-17T16:05:37.852Z"
   },
   {
    "duration": 102,
    "start_time": "2022-02-17T16:05:37.854Z"
   },
   {
    "duration": 103,
    "start_time": "2022-02-17T16:05:37.856Z"
   },
   {
    "duration": 102,
    "start_time": "2022-02-17T16:05:37.858Z"
   },
   {
    "duration": 101,
    "start_time": "2022-02-17T16:05:37.860Z"
   },
   {
    "duration": 101,
    "start_time": "2022-02-17T16:05:37.861Z"
   },
   {
    "duration": 100,
    "start_time": "2022-02-17T16:05:37.864Z"
   },
   {
    "duration": 83,
    "start_time": "2022-02-17T16:05:37.882Z"
   },
   {
    "duration": 82,
    "start_time": "2022-02-17T16:05:37.884Z"
   },
   {
    "duration": 82,
    "start_time": "2022-02-17T16:05:37.886Z"
   },
   {
    "duration": 81,
    "start_time": "2022-02-17T16:05:37.888Z"
   },
   {
    "duration": 80,
    "start_time": "2022-02-17T16:05:37.890Z"
   },
   {
    "duration": 78,
    "start_time": "2022-02-17T16:05:37.893Z"
   },
   {
    "duration": 77,
    "start_time": "2022-02-17T16:05:37.895Z"
   },
   {
    "duration": 986,
    "start_time": "2022-02-17T16:05:51.670Z"
   },
   {
    "duration": 225,
    "start_time": "2022-02-17T16:05:52.660Z"
   },
   {
    "duration": 27,
    "start_time": "2022-02-17T16:05:52.888Z"
   },
   {
    "duration": 50,
    "start_time": "2022-02-17T16:05:52.919Z"
   },
   {
    "duration": 6,
    "start_time": "2022-02-17T16:05:52.973Z"
   },
   {
    "duration": 34,
    "start_time": "2022-02-17T16:05:52.981Z"
   },
   {
    "duration": 8,
    "start_time": "2022-02-17T16:05:53.018Z"
   },
   {
    "duration": 31,
    "start_time": "2022-02-17T16:05:53.062Z"
   },
   {
    "duration": 31,
    "start_time": "2022-02-17T16:05:53.097Z"
   },
   {
    "duration": 78,
    "start_time": "2022-02-17T16:05:53.133Z"
   },
   {
    "duration": 105,
    "start_time": "2022-02-17T16:05:53.215Z"
   },
   {
    "duration": 131,
    "start_time": "2022-02-17T16:05:53.323Z"
   },
   {
    "duration": 83,
    "start_time": "2022-02-17T16:05:53.461Z"
   },
   {
    "duration": 15,
    "start_time": "2022-02-17T16:05:53.562Z"
   },
   {
    "duration": 5,
    "start_time": "2022-02-17T16:05:53.579Z"
   },
   {
    "duration": 22,
    "start_time": "2022-02-17T16:05:53.586Z"
   },
   {
    "duration": 15,
    "start_time": "2022-02-17T16:05:53.611Z"
   },
   {
    "duration": 63,
    "start_time": "2022-02-17T16:05:53.629Z"
   },
   {
    "duration": 76,
    "start_time": "2022-02-17T16:05:53.695Z"
   },
   {
    "duration": 6,
    "start_time": "2022-02-17T16:05:53.774Z"
   },
   {
    "duration": 27,
    "start_time": "2022-02-17T16:05:53.783Z"
   },
   {
    "duration": 422,
    "start_time": "2022-02-17T16:05:53.814Z"
   },
   {
    "duration": 104,
    "start_time": "2022-02-17T16:05:54.136Z"
   },
   {
    "duration": 104,
    "start_time": "2022-02-17T16:05:54.138Z"
   },
   {
    "duration": 100,
    "start_time": "2022-02-17T16:05:54.144Z"
   },
   {
    "duration": 98,
    "start_time": "2022-02-17T16:05:54.148Z"
   },
   {
    "duration": 97,
    "start_time": "2022-02-17T16:05:54.152Z"
   },
   {
    "duration": 95,
    "start_time": "2022-02-17T16:05:54.155Z"
   },
   {
    "duration": 93,
    "start_time": "2022-02-17T16:05:54.159Z"
   },
   {
    "duration": 84,
    "start_time": "2022-02-17T16:05:54.170Z"
   },
   {
    "duration": 83,
    "start_time": "2022-02-17T16:05:54.172Z"
   },
   {
    "duration": 84,
    "start_time": "2022-02-17T16:05:54.175Z"
   },
   {
    "duration": 84,
    "start_time": "2022-02-17T16:05:54.177Z"
   },
   {
    "duration": 84,
    "start_time": "2022-02-17T16:05:54.179Z"
   },
   {
    "duration": 81,
    "start_time": "2022-02-17T16:05:54.185Z"
   },
   {
    "duration": 80,
    "start_time": "2022-02-17T16:05:54.188Z"
   },
   {
    "duration": 81,
    "start_time": "2022-02-17T16:05:54.189Z"
   },
   {
    "duration": 81,
    "start_time": "2022-02-17T16:05:54.191Z"
   },
   {
    "duration": 17,
    "start_time": "2022-02-17T16:09:21.791Z"
   },
   {
    "duration": 25,
    "start_time": "2022-02-17T16:09:40.144Z"
   },
   {
    "duration": 12,
    "start_time": "2022-02-17T16:31:10.808Z"
   },
   {
    "duration": 20,
    "start_time": "2022-02-17T16:31:39.481Z"
   },
   {
    "duration": 19,
    "start_time": "2022-02-17T16:32:01.471Z"
   },
   {
    "duration": 23,
    "start_time": "2022-02-17T16:32:17.647Z"
   },
   {
    "duration": 20,
    "start_time": "2022-02-17T16:32:34.318Z"
   },
   {
    "duration": 314,
    "start_time": "2022-02-17T16:37:54.633Z"
   },
   {
    "duration": 281,
    "start_time": "2022-02-17T16:43:47.941Z"
   },
   {
    "duration": 301,
    "start_time": "2022-02-17T16:44:01.538Z"
   },
   {
    "duration": 290,
    "start_time": "2022-02-17T16:48:09.919Z"
   },
   {
    "duration": 13,
    "start_time": "2022-02-17T16:49:39.295Z"
   },
   {
    "duration": 746,
    "start_time": "2022-02-17T16:49:46.549Z"
   },
   {
    "duration": 186,
    "start_time": "2022-02-17T16:49:47.297Z"
   },
   {
    "duration": 30,
    "start_time": "2022-02-17T16:49:47.486Z"
   },
   {
    "duration": 57,
    "start_time": "2022-02-17T16:49:47.520Z"
   },
   {
    "duration": 6,
    "start_time": "2022-02-17T16:49:47.580Z"
   },
   {
    "duration": 29,
    "start_time": "2022-02-17T16:49:47.588Z"
   },
   {
    "duration": 15,
    "start_time": "2022-02-17T16:49:47.620Z"
   },
   {
    "duration": 31,
    "start_time": "2022-02-17T16:49:47.663Z"
   },
   {
    "duration": 23,
    "start_time": "2022-02-17T16:49:47.698Z"
   },
   {
    "duration": 55,
    "start_time": "2022-02-17T16:49:47.723Z"
   },
   {
    "duration": 105,
    "start_time": "2022-02-17T16:49:47.781Z"
   },
   {
    "duration": 104,
    "start_time": "2022-02-17T16:49:47.889Z"
   },
   {
    "duration": 88,
    "start_time": "2022-02-17T16:49:47.995Z"
   },
   {
    "duration": 13,
    "start_time": "2022-02-17T16:49:48.086Z"
   },
   {
    "duration": 5,
    "start_time": "2022-02-17T16:49:48.102Z"
   },
   {
    "duration": 18,
    "start_time": "2022-02-17T16:49:48.109Z"
   },
   {
    "duration": 37,
    "start_time": "2022-02-17T16:49:48.130Z"
   },
   {
    "duration": 34,
    "start_time": "2022-02-17T16:49:48.170Z"
   },
   {
    "duration": 69,
    "start_time": "2022-02-17T16:49:48.206Z"
   },
   {
    "duration": 5,
    "start_time": "2022-02-17T16:49:48.277Z"
   },
   {
    "duration": 28,
    "start_time": "2022-02-17T16:49:48.285Z"
   },
   {
    "duration": 19,
    "start_time": "2022-02-17T16:49:48.316Z"
   },
   {
    "duration": 20,
    "start_time": "2022-02-17T16:49:48.364Z"
   },
   {
    "duration": 17,
    "start_time": "2022-02-17T16:49:48.387Z"
   },
   {
    "duration": 55,
    "start_time": "2022-02-17T16:49:48.406Z"
   },
   {
    "duration": 22,
    "start_time": "2022-02-17T16:49:48.464Z"
   },
   {
    "duration": 14,
    "start_time": "2022-02-17T16:49:48.489Z"
   },
   {
    "duration": 6,
    "start_time": "2022-02-17T16:49:48.505Z"
   },
   {
    "duration": 6,
    "start_time": "2022-02-17T16:49:48.513Z"
   },
   {
    "duration": 40,
    "start_time": "2022-02-17T16:49:48.521Z"
   },
   {
    "duration": 10,
    "start_time": "2022-02-17T16:49:48.563Z"
   },
   {
    "duration": 6,
    "start_time": "2022-02-17T16:49:48.575Z"
   },
   {
    "duration": 11,
    "start_time": "2022-02-17T16:49:48.583Z"
   },
   {
    "duration": 6,
    "start_time": "2022-02-17T16:49:48.596Z"
   },
   {
    "duration": 4,
    "start_time": "2022-02-17T16:49:48.604Z"
   },
   {
    "duration": 4,
    "start_time": "2022-02-17T16:49:48.611Z"
   },
   {
    "duration": 5,
    "start_time": "2022-02-17T16:49:48.618Z"
   },
   {
    "duration": 3,
    "start_time": "2022-02-17T16:49:48.663Z"
   },
   {
    "duration": 22,
    "start_time": "2022-02-17T17:11:33.818Z"
   },
   {
    "duration": 17,
    "start_time": "2022-02-17T17:11:43.035Z"
   },
   {
    "duration": 13,
    "start_time": "2022-02-17T17:12:09.745Z"
   },
   {
    "duration": 204,
    "start_time": "2022-02-17T17:29:05.076Z"
   },
   {
    "duration": 102,
    "start_time": "2022-02-17T17:31:22.056Z"
   },
   {
    "duration": 91,
    "start_time": "2022-02-17T17:31:54.903Z"
   },
   {
    "duration": 8,
    "start_time": "2022-02-17T17:33:11.967Z"
   },
   {
    "duration": 179,
    "start_time": "2022-02-17T17:33:59.191Z"
   },
   {
    "duration": 103,
    "start_time": "2022-02-17T17:34:19.207Z"
   },
   {
    "duration": 923,
    "start_time": "2022-02-17T17:37:08.295Z"
   },
   {
    "duration": 191,
    "start_time": "2022-02-17T17:37:09.221Z"
   },
   {
    "duration": 47,
    "start_time": "2022-02-17T17:37:09.421Z"
   },
   {
    "duration": 37,
    "start_time": "2022-02-17T17:37:09.471Z"
   },
   {
    "duration": 6,
    "start_time": "2022-02-17T17:37:09.510Z"
   },
   {
    "duration": 61,
    "start_time": "2022-02-17T17:37:09.519Z"
   },
   {
    "duration": 7,
    "start_time": "2022-02-17T17:37:09.583Z"
   },
   {
    "duration": 35,
    "start_time": "2022-02-17T17:37:09.595Z"
   },
   {
    "duration": 50,
    "start_time": "2022-02-17T17:37:09.634Z"
   },
   {
    "duration": 33,
    "start_time": "2022-02-17T17:37:09.687Z"
   },
   {
    "duration": 146,
    "start_time": "2022-02-17T17:37:09.723Z"
   },
   {
    "duration": 140,
    "start_time": "2022-02-17T17:37:09.872Z"
   },
   {
    "duration": 136,
    "start_time": "2022-02-17T17:37:10.015Z"
   },
   {
    "duration": 22,
    "start_time": "2022-02-17T17:37:10.154Z"
   },
   {
    "duration": 3,
    "start_time": "2022-02-17T17:37:10.179Z"
   },
   {
    "duration": 20,
    "start_time": "2022-02-17T17:37:10.185Z"
   },
   {
    "duration": 53,
    "start_time": "2022-02-17T17:37:10.208Z"
   },
   {
    "duration": 45,
    "start_time": "2022-02-17T17:37:10.265Z"
   },
   {
    "duration": 84,
    "start_time": "2022-02-17T17:37:10.313Z"
   },
   {
    "duration": 5,
    "start_time": "2022-02-17T17:37:10.400Z"
   },
   {
    "duration": 57,
    "start_time": "2022-02-17T17:37:10.408Z"
   },
   {
    "duration": 24,
    "start_time": "2022-02-17T17:37:10.469Z"
   },
   {
    "duration": 29,
    "start_time": "2022-02-17T17:37:10.497Z"
   },
   {
    "duration": 58,
    "start_time": "2022-02-17T17:37:10.530Z"
   },
   {
    "duration": 46,
    "start_time": "2022-02-17T17:37:10.590Z"
   },
   {
    "duration": 38,
    "start_time": "2022-02-17T17:37:10.642Z"
   },
   {
    "duration": 23,
    "start_time": "2022-02-17T17:37:10.684Z"
   },
   {
    "duration": 18,
    "start_time": "2022-02-17T17:37:10.710Z"
   },
   {
    "duration": 13,
    "start_time": "2022-02-17T17:37:10.762Z"
   },
   {
    "duration": 179,
    "start_time": "2022-02-17T17:37:10.778Z"
   },
   {
    "duration": 55,
    "start_time": "2022-02-17T17:37:10.905Z"
   },
   {
    "duration": 55,
    "start_time": "2022-02-17T17:37:10.907Z"
   },
   {
    "duration": 53,
    "start_time": "2022-02-17T17:37:10.910Z"
   },
   {
    "duration": 53,
    "start_time": "2022-02-17T17:37:10.912Z"
   },
   {
    "duration": 52,
    "start_time": "2022-02-17T17:37:10.914Z"
   },
   {
    "duration": 48,
    "start_time": "2022-02-17T17:37:10.920Z"
   },
   {
    "duration": 48,
    "start_time": "2022-02-17T17:37:10.922Z"
   },
   {
    "duration": 47,
    "start_time": "2022-02-17T17:37:10.924Z"
   },
   {
    "duration": 273,
    "start_time": "2022-02-17T17:37:16.756Z"
   },
   {
    "duration": 175,
    "start_time": "2022-02-17T17:40:10.646Z"
   },
   {
    "duration": 98,
    "start_time": "2022-02-17T17:40:20.477Z"
   },
   {
    "duration": 215,
    "start_time": "2022-02-17T17:41:55.084Z"
   },
   {
    "duration": 1012,
    "start_time": "2022-02-17T17:42:05.908Z"
   },
   {
    "duration": 202,
    "start_time": "2022-02-17T17:42:06.923Z"
   },
   {
    "duration": 35,
    "start_time": "2022-02-17T17:42:07.129Z"
   },
   {
    "duration": 39,
    "start_time": "2022-02-17T17:42:07.168Z"
   },
   {
    "duration": 10,
    "start_time": "2022-02-17T17:42:07.209Z"
   },
   {
    "duration": 61,
    "start_time": "2022-02-17T17:42:07.221Z"
   },
   {
    "duration": 16,
    "start_time": "2022-02-17T17:42:07.285Z"
   },
   {
    "duration": 42,
    "start_time": "2022-02-17T17:42:07.304Z"
   },
   {
    "duration": 23,
    "start_time": "2022-02-17T17:42:07.361Z"
   },
   {
    "duration": 30,
    "start_time": "2022-02-17T17:42:07.388Z"
   },
   {
    "duration": 109,
    "start_time": "2022-02-17T17:42:07.421Z"
   },
   {
    "duration": 108,
    "start_time": "2022-02-17T17:42:07.532Z"
   },
   {
    "duration": 83,
    "start_time": "2022-02-17T17:42:07.642Z"
   },
   {
    "duration": 35,
    "start_time": "2022-02-17T17:42:07.728Z"
   },
   {
    "duration": 5,
    "start_time": "2022-02-17T17:42:07.767Z"
   },
   {
    "duration": 20,
    "start_time": "2022-02-17T17:42:07.774Z"
   },
   {
    "duration": 16,
    "start_time": "2022-02-17T17:42:07.797Z"
   },
   {
    "duration": 65,
    "start_time": "2022-02-17T17:42:07.816Z"
   },
   {
    "duration": 40,
    "start_time": "2022-02-17T17:42:07.884Z"
   },
   {
    "duration": 4,
    "start_time": "2022-02-17T17:42:07.927Z"
   },
   {
    "duration": 23,
    "start_time": "2022-02-17T17:42:07.962Z"
   },
   {
    "duration": 17,
    "start_time": "2022-02-17T17:42:07.988Z"
   },
   {
    "duration": 60,
    "start_time": "2022-02-17T17:42:08.009Z"
   },
   {
    "duration": 19,
    "start_time": "2022-02-17T17:42:08.072Z"
   },
   {
    "duration": 19,
    "start_time": "2022-02-17T17:42:08.094Z"
   },
   {
    "duration": 46,
    "start_time": "2022-02-17T17:42:08.116Z"
   },
   {
    "duration": 13,
    "start_time": "2022-02-17T17:42:08.168Z"
   },
   {
    "duration": 15,
    "start_time": "2022-02-17T17:42:08.184Z"
   },
   {
    "duration": 12,
    "start_time": "2022-02-17T17:42:08.202Z"
   },
   {
    "duration": 157,
    "start_time": "2022-02-17T17:42:08.217Z"
   },
   {
    "duration": 39,
    "start_time": "2022-02-17T17:42:08.338Z"
   },
   {
    "duration": 37,
    "start_time": "2022-02-17T17:42:08.341Z"
   },
   {
    "duration": 37,
    "start_time": "2022-02-17T17:42:08.343Z"
   },
   {
    "duration": 36,
    "start_time": "2022-02-17T17:42:08.345Z"
   },
   {
    "duration": 36,
    "start_time": "2022-02-17T17:42:08.347Z"
   },
   {
    "duration": 36,
    "start_time": "2022-02-17T17:42:08.349Z"
   },
   {
    "duration": 36,
    "start_time": "2022-02-17T17:42:08.351Z"
   },
   {
    "duration": 34,
    "start_time": "2022-02-17T17:42:08.354Z"
   },
   {
    "duration": 7,
    "start_time": "2022-02-17T17:43:52.692Z"
   },
   {
    "duration": 8,
    "start_time": "2022-02-17T17:43:58.694Z"
   },
   {
    "duration": 855,
    "start_time": "2022-02-17T17:44:03.315Z"
   },
   {
    "duration": 258,
    "start_time": "2022-02-17T17:44:04.175Z"
   },
   {
    "duration": 50,
    "start_time": "2022-02-17T17:44:04.437Z"
   },
   {
    "duration": 35,
    "start_time": "2022-02-17T17:44:04.491Z"
   },
   {
    "duration": 5,
    "start_time": "2022-02-17T17:44:04.530Z"
   },
   {
    "duration": 36,
    "start_time": "2022-02-17T17:44:04.562Z"
   },
   {
    "duration": 10,
    "start_time": "2022-02-17T17:44:04.601Z"
   },
   {
    "duration": 63,
    "start_time": "2022-02-17T17:44:04.614Z"
   },
   {
    "duration": 27,
    "start_time": "2022-02-17T17:44:04.684Z"
   },
   {
    "duration": 56,
    "start_time": "2022-02-17T17:44:04.715Z"
   },
   {
    "duration": 107,
    "start_time": "2022-02-17T17:44:04.774Z"
   },
   {
    "duration": 108,
    "start_time": "2022-02-17T17:44:04.884Z"
   },
   {
    "duration": 95,
    "start_time": "2022-02-17T17:44:04.994Z"
   },
   {
    "duration": 15,
    "start_time": "2022-02-17T17:44:05.091Z"
   },
   {
    "duration": 7,
    "start_time": "2022-02-17T17:44:05.110Z"
   },
   {
    "duration": 46,
    "start_time": "2022-02-17T17:44:05.120Z"
   },
   {
    "duration": 16,
    "start_time": "2022-02-17T17:44:05.170Z"
   },
   {
    "duration": 38,
    "start_time": "2022-02-17T17:44:05.189Z"
   },
   {
    "duration": 78,
    "start_time": "2022-02-17T17:44:05.229Z"
   },
   {
    "duration": 5,
    "start_time": "2022-02-17T17:44:05.310Z"
   },
   {
    "duration": 56,
    "start_time": "2022-02-17T17:44:05.318Z"
   },
   {
    "duration": 26,
    "start_time": "2022-02-17T17:44:05.377Z"
   },
   {
    "duration": 24,
    "start_time": "2022-02-17T17:44:05.406Z"
   },
   {
    "duration": 46,
    "start_time": "2022-02-17T17:44:05.433Z"
   },
   {
    "duration": 21,
    "start_time": "2022-02-17T17:44:05.481Z"
   },
   {
    "duration": 20,
    "start_time": "2022-02-17T17:44:05.505Z"
   },
   {
    "duration": 13,
    "start_time": "2022-02-17T17:44:05.566Z"
   },
   {
    "duration": 17,
    "start_time": "2022-02-17T17:44:05.582Z"
   },
   {
    "duration": 15,
    "start_time": "2022-02-17T17:44:05.602Z"
   },
   {
    "duration": 44,
    "start_time": "2022-02-17T17:44:05.620Z"
   },
   {
    "duration": 11,
    "start_time": "2022-02-17T17:44:05.667Z"
   },
   {
    "duration": 9,
    "start_time": "2022-02-17T17:44:05.681Z"
   },
   {
    "duration": 9,
    "start_time": "2022-02-17T17:44:05.694Z"
   },
   {
    "duration": 9,
    "start_time": "2022-02-17T17:44:05.705Z"
   },
   {
    "duration": 8,
    "start_time": "2022-02-17T17:44:05.717Z"
   },
   {
    "duration": 10,
    "start_time": "2022-02-17T17:44:05.728Z"
   },
   {
    "duration": 20,
    "start_time": "2022-02-17T17:44:05.741Z"
   },
   {
    "duration": 7,
    "start_time": "2022-02-17T17:44:05.764Z"
   },
   {
    "duration": 26,
    "start_time": "2022-02-17T17:46:12.872Z"
   },
   {
    "duration": 19,
    "start_time": "2022-02-17T17:47:54.633Z"
   },
   {
    "duration": 27,
    "start_time": "2022-02-17T17:48:35.840Z"
   },
   {
    "duration": 19,
    "start_time": "2022-02-17T17:48:49.935Z"
   },
   {
    "duration": 23,
    "start_time": "2022-02-17T17:51:03.006Z"
   },
   {
    "duration": 20,
    "start_time": "2022-02-17T17:51:05.234Z"
   },
   {
    "duration": 377,
    "start_time": "2022-02-17T17:56:37.242Z"
   },
   {
    "duration": 35,
    "start_time": "2022-02-17T17:57:10.626Z"
   },
   {
    "duration": 37,
    "start_time": "2022-02-17T17:57:21.129Z"
   },
   {
    "duration": 33,
    "start_time": "2022-02-17T17:57:59.410Z"
   },
   {
    "duration": 35,
    "start_time": "2022-02-17T17:59:21.295Z"
   },
   {
    "duration": 852,
    "start_time": "2022-02-17T17:59:27.849Z"
   },
   {
    "duration": 202,
    "start_time": "2022-02-17T17:59:28.704Z"
   },
   {
    "duration": 51,
    "start_time": "2022-02-17T17:59:28.911Z"
   },
   {
    "duration": 58,
    "start_time": "2022-02-17T17:59:28.966Z"
   },
   {
    "duration": 6,
    "start_time": "2022-02-17T17:59:29.027Z"
   },
   {
    "duration": 58,
    "start_time": "2022-02-17T17:59:29.035Z"
   },
   {
    "duration": 7,
    "start_time": "2022-02-17T17:59:29.096Z"
   },
   {
    "duration": 60,
    "start_time": "2022-02-17T17:59:29.108Z"
   },
   {
    "duration": 25,
    "start_time": "2022-02-17T17:59:29.171Z"
   },
   {
    "duration": 33,
    "start_time": "2022-02-17T17:59:29.199Z"
   },
   {
    "duration": 106,
    "start_time": "2022-02-17T17:59:29.261Z"
   },
   {
    "duration": 161,
    "start_time": "2022-02-17T17:59:29.370Z"
   },
   {
    "duration": 90,
    "start_time": "2022-02-17T17:59:29.534Z"
   },
   {
    "duration": 33,
    "start_time": "2022-02-17T17:59:29.629Z"
   },
   {
    "duration": 5,
    "start_time": "2022-02-17T17:59:29.665Z"
   },
   {
    "duration": 24,
    "start_time": "2022-02-17T17:59:29.672Z"
   },
   {
    "duration": 17,
    "start_time": "2022-02-17T17:59:29.700Z"
   },
   {
    "duration": 64,
    "start_time": "2022-02-17T17:59:29.720Z"
   },
   {
    "duration": 81,
    "start_time": "2022-02-17T17:59:29.787Z"
   },
   {
    "duration": 6,
    "start_time": "2022-02-17T17:59:29.871Z"
   },
   {
    "duration": 33,
    "start_time": "2022-02-17T17:59:29.880Z"
   },
   {
    "duration": 47,
    "start_time": "2022-02-17T17:59:29.916Z"
   },
   {
    "duration": 30,
    "start_time": "2022-02-17T17:59:29.971Z"
   },
   {
    "duration": 27,
    "start_time": "2022-02-17T17:59:30.005Z"
   },
   {
    "duration": 22,
    "start_time": "2022-02-17T17:59:30.062Z"
   },
   {
    "duration": 22,
    "start_time": "2022-02-17T17:59:30.087Z"
   },
   {
    "duration": 50,
    "start_time": "2022-02-17T17:59:30.113Z"
   },
   {
    "duration": 18,
    "start_time": "2022-02-17T17:59:30.166Z"
   },
   {
    "duration": 18,
    "start_time": "2022-02-17T17:59:30.187Z"
   },
   {
    "duration": 7,
    "start_time": "2022-02-17T17:59:30.209Z"
   },
   {
    "duration": 64,
    "start_time": "2022-02-17T17:59:30.219Z"
   },
   {
    "duration": 18,
    "start_time": "2022-02-17T17:59:30.286Z"
   },
   {
    "duration": 63,
    "start_time": "2022-02-17T17:59:30.307Z"
   },
   {
    "duration": 27,
    "start_time": "2022-02-17T17:59:30.373Z"
   },
   {
    "duration": 68,
    "start_time": "2022-02-17T17:59:30.403Z"
   },
   {
    "duration": 3,
    "start_time": "2022-02-17T17:59:30.474Z"
   },
   {
    "duration": 16,
    "start_time": "2022-02-17T17:59:30.480Z"
   },
   {
    "duration": 17,
    "start_time": "2022-02-17T17:59:30.499Z"
   },
   {
    "duration": 12,
    "start_time": "2022-02-17T18:00:52.619Z"
   },
   {
    "duration": 18,
    "start_time": "2022-02-17T18:02:36.329Z"
   },
   {
    "duration": 12,
    "start_time": "2022-02-17T18:02:51.865Z"
   },
   {
    "duration": 31,
    "start_time": "2022-02-17T18:08:01.882Z"
   },
   {
    "duration": 46,
    "start_time": "2022-02-17T18:09:22.053Z"
   },
   {
    "duration": 933,
    "start_time": "2022-02-17T18:10:13.686Z"
   },
   {
    "duration": 253,
    "start_time": "2022-02-17T18:10:14.623Z"
   },
   {
    "duration": 35,
    "start_time": "2022-02-17T18:10:14.880Z"
   },
   {
    "duration": 50,
    "start_time": "2022-02-17T18:10:14.919Z"
   },
   {
    "duration": 5,
    "start_time": "2022-02-17T18:10:14.972Z"
   },
   {
    "duration": 28,
    "start_time": "2022-02-17T18:10:14.980Z"
   },
   {
    "duration": 26,
    "start_time": "2022-02-17T18:10:15.011Z"
   },
   {
    "duration": 32,
    "start_time": "2022-02-17T18:10:15.060Z"
   },
   {
    "duration": 27,
    "start_time": "2022-02-17T18:10:15.096Z"
   },
   {
    "duration": 55,
    "start_time": "2022-02-17T18:10:15.126Z"
   },
   {
    "duration": 141,
    "start_time": "2022-02-17T18:10:15.183Z"
   },
   {
    "duration": 123,
    "start_time": "2022-02-17T18:10:15.328Z"
   },
   {
    "duration": 77,
    "start_time": "2022-02-17T18:10:15.454Z"
   },
   {
    "duration": 29,
    "start_time": "2022-02-17T18:10:15.534Z"
   },
   {
    "duration": 4,
    "start_time": "2022-02-17T18:10:15.566Z"
   },
   {
    "duration": 15,
    "start_time": "2022-02-17T18:10:15.572Z"
   },
   {
    "duration": 13,
    "start_time": "2022-02-17T18:10:15.590Z"
   },
   {
    "duration": 77,
    "start_time": "2022-02-17T18:10:15.605Z"
   },
   {
    "duration": 46,
    "start_time": "2022-02-17T18:10:15.684Z"
   },
   {
    "duration": 29,
    "start_time": "2022-02-17T18:10:15.732Z"
   },
   {
    "duration": 22,
    "start_time": "2022-02-17T18:10:15.764Z"
   },
   {
    "duration": 17,
    "start_time": "2022-02-17T18:10:15.789Z"
   },
   {
    "duration": 55,
    "start_time": "2022-02-17T18:10:15.808Z"
   },
   {
    "duration": 18,
    "start_time": "2022-02-17T18:10:15.866Z"
   },
   {
    "duration": 21,
    "start_time": "2022-02-17T18:10:15.887Z"
   },
   {
    "duration": 59,
    "start_time": "2022-02-17T18:10:15.911Z"
   },
   {
    "duration": 16,
    "start_time": "2022-02-17T18:10:15.977Z"
   },
   {
    "duration": 22,
    "start_time": "2022-02-17T18:10:15.996Z"
   },
   {
    "duration": 46,
    "start_time": "2022-02-17T18:10:16.021Z"
   },
   {
    "duration": 6,
    "start_time": "2022-02-17T18:10:16.070Z"
   },
   {
    "duration": 28,
    "start_time": "2022-02-17T18:10:16.079Z"
   },
   {
    "duration": 17,
    "start_time": "2022-02-17T18:10:16.109Z"
   },
   {
    "duration": 25,
    "start_time": "2022-02-17T18:10:16.160Z"
   },
   {
    "duration": 27,
    "start_time": "2022-02-17T18:10:16.188Z"
   },
   {
    "duration": 58,
    "start_time": "2022-02-17T18:10:16.218Z"
   },
   {
    "duration": 12,
    "start_time": "2022-02-17T18:10:16.278Z"
   },
   {
    "duration": 19,
    "start_time": "2022-02-17T18:10:16.293Z"
   },
   {
    "duration": 11,
    "start_time": "2022-02-17T18:10:16.314Z"
   },
   {
    "duration": 873,
    "start_time": "2022-02-17T19:29:47.222Z"
   },
   {
    "duration": 211,
    "start_time": "2022-02-17T19:29:48.098Z"
   },
   {
    "duration": 27,
    "start_time": "2022-02-17T19:29:48.313Z"
   },
   {
    "duration": 33,
    "start_time": "2022-02-17T19:29:48.363Z"
   },
   {
    "duration": 8,
    "start_time": "2022-02-17T19:29:48.399Z"
   },
   {
    "duration": 53,
    "start_time": "2022-02-17T19:29:48.410Z"
   },
   {
    "duration": 5,
    "start_time": "2022-02-17T19:29:48.466Z"
   },
   {
    "duration": 31,
    "start_time": "2022-02-17T19:29:48.474Z"
   },
   {
    "duration": 60,
    "start_time": "2022-02-17T19:29:48.509Z"
   },
   {
    "duration": 33,
    "start_time": "2022-02-17T19:29:48.572Z"
   },
   {
    "duration": 125,
    "start_time": "2022-02-17T19:29:48.607Z"
   },
   {
    "duration": 117,
    "start_time": "2022-02-17T19:29:48.735Z"
   },
   {
    "duration": 74,
    "start_time": "2022-02-17T19:29:48.855Z"
   },
   {
    "duration": 30,
    "start_time": "2022-02-17T19:29:48.932Z"
   },
   {
    "duration": 3,
    "start_time": "2022-02-17T19:29:48.965Z"
   },
   {
    "duration": 16,
    "start_time": "2022-02-17T19:29:48.971Z"
   },
   {
    "duration": 13,
    "start_time": "2022-02-17T19:29:48.989Z"
   },
   {
    "duration": 80,
    "start_time": "2022-02-17T19:29:49.004Z"
   },
   {
    "duration": 42,
    "start_time": "2022-02-17T19:29:49.086Z"
   },
   {
    "duration": 32,
    "start_time": "2022-02-17T19:29:49.130Z"
   },
   {
    "duration": 26,
    "start_time": "2022-02-17T19:29:49.165Z"
   },
   {
    "duration": 20,
    "start_time": "2022-02-17T19:29:49.194Z"
   },
   {
    "duration": 49,
    "start_time": "2022-02-17T19:29:49.219Z"
   },
   {
    "duration": 21,
    "start_time": "2022-02-17T19:29:49.270Z"
   },
   {
    "duration": 22,
    "start_time": "2022-02-17T19:29:49.294Z"
   },
   {
    "duration": 50,
    "start_time": "2022-02-17T19:29:49.319Z"
   },
   {
    "duration": 12,
    "start_time": "2022-02-17T19:29:49.372Z"
   },
   {
    "duration": 15,
    "start_time": "2022-02-17T19:29:49.387Z"
   },
   {
    "duration": 12,
    "start_time": "2022-02-17T19:29:49.404Z"
   },
   {
    "duration": 42,
    "start_time": "2022-02-17T19:29:49.419Z"
   },
   {
    "duration": 26,
    "start_time": "2022-02-17T19:29:49.464Z"
   },
   {
    "duration": 20,
    "start_time": "2022-02-17T19:29:49.493Z"
   },
   {
    "duration": 62,
    "start_time": "2022-02-17T19:29:49.516Z"
   },
   {
    "duration": 18,
    "start_time": "2022-02-17T19:29:49.581Z"
   },
   {
    "duration": 59,
    "start_time": "2022-02-17T19:29:49.602Z"
   },
   {
    "duration": 14,
    "start_time": "2022-02-17T19:29:49.663Z"
   },
   {
    "duration": 21,
    "start_time": "2022-02-17T19:29:49.680Z"
   },
   {
    "duration": 13,
    "start_time": "2022-02-17T19:29:49.704Z"
   },
   {
    "duration": 776,
    "start_time": "2022-02-17T19:30:08.734Z"
   },
   {
    "duration": 188,
    "start_time": "2022-02-17T19:30:09.513Z"
   },
   {
    "duration": 28,
    "start_time": "2022-02-17T19:30:09.705Z"
   },
   {
    "duration": 63,
    "start_time": "2022-02-17T19:30:09.737Z"
   },
   {
    "duration": 7,
    "start_time": "2022-02-17T19:30:09.803Z"
   },
   {
    "duration": 57,
    "start_time": "2022-02-17T19:30:09.813Z"
   },
   {
    "duration": 5,
    "start_time": "2022-02-17T19:30:09.873Z"
   },
   {
    "duration": 39,
    "start_time": "2022-02-17T19:30:09.882Z"
   },
   {
    "duration": 42,
    "start_time": "2022-02-17T19:30:09.924Z"
   },
   {
    "duration": 30,
    "start_time": "2022-02-17T19:30:09.969Z"
   },
   {
    "duration": 111,
    "start_time": "2022-02-17T19:30:10.001Z"
   },
   {
    "duration": 110,
    "start_time": "2022-02-17T19:30:10.115Z"
   },
   {
    "duration": 90,
    "start_time": "2022-02-17T19:30:10.228Z"
   },
   {
    "duration": 15,
    "start_time": "2022-02-17T19:30:10.321Z"
   },
   {
    "duration": 3,
    "start_time": "2022-02-17T19:30:10.339Z"
   },
   {
    "duration": 28,
    "start_time": "2022-02-17T19:30:10.344Z"
   },
   {
    "duration": 16,
    "start_time": "2022-02-17T19:30:10.375Z"
   },
   {
    "duration": 74,
    "start_time": "2022-02-17T19:30:10.393Z"
   },
   {
    "duration": 45,
    "start_time": "2022-02-17T19:30:10.471Z"
   },
   {
    "duration": 6,
    "start_time": "2022-02-17T19:30:10.519Z"
   },
   {
    "duration": 54,
    "start_time": "2022-02-17T19:30:10.528Z"
   },
   {
    "duration": 17,
    "start_time": "2022-02-17T19:30:10.585Z"
   },
   {
    "duration": 19,
    "start_time": "2022-02-17T19:30:10.607Z"
   },
   {
    "duration": 19,
    "start_time": "2022-02-17T19:30:10.663Z"
   },
   {
    "duration": 21,
    "start_time": "2022-02-17T19:30:10.685Z"
   },
   {
    "duration": 56,
    "start_time": "2022-02-17T19:30:10.709Z"
   },
   {
    "duration": 12,
    "start_time": "2022-02-17T19:30:10.768Z"
   },
   {
    "duration": 18,
    "start_time": "2022-02-17T19:30:10.783Z"
   },
   {
    "duration": 14,
    "start_time": "2022-02-17T19:30:10.803Z"
   },
   {
    "duration": 43,
    "start_time": "2022-02-17T19:30:10.820Z"
   },
   {
    "duration": 29,
    "start_time": "2022-02-17T19:30:10.866Z"
   },
   {
    "duration": 19,
    "start_time": "2022-02-17T19:30:10.897Z"
   },
   {
    "duration": 52,
    "start_time": "2022-02-17T19:30:10.919Z"
   },
   {
    "duration": 18,
    "start_time": "2022-02-17T19:30:10.973Z"
   },
   {
    "duration": 30,
    "start_time": "2022-02-17T19:30:10.993Z"
   },
   {
    "duration": 38,
    "start_time": "2022-02-17T19:30:11.025Z"
   },
   {
    "duration": 18,
    "start_time": "2022-02-17T19:30:11.066Z"
   },
   {
    "duration": 11,
    "start_time": "2022-02-17T19:30:11.087Z"
   },
   {
    "duration": 5,
    "start_time": "2022-02-17T19:30:26.801Z"
   },
   {
    "duration": 22,
    "start_time": "2022-02-17T19:30:29.767Z"
   },
   {
    "duration": 4,
    "start_time": "2022-02-17T19:33:11.209Z"
   },
   {
    "duration": 5,
    "start_time": "2022-02-17T19:33:20.253Z"
   },
   {
    "duration": 5,
    "start_time": "2022-02-17T19:33:24.947Z"
   },
   {
    "duration": 535,
    "start_time": "2022-02-17T19:33:46.130Z"
   },
   {
    "duration": 4,
    "start_time": "2022-02-17T19:35:17.425Z"
   },
   {
    "duration": 960,
    "start_time": "2022-02-17T19:36:11.573Z"
   },
   {
    "duration": 192,
    "start_time": "2022-02-17T19:36:12.536Z"
   },
   {
    "duration": 35,
    "start_time": "2022-02-17T19:36:12.732Z"
   },
   {
    "duration": 58,
    "start_time": "2022-02-17T19:36:12.771Z"
   },
   {
    "duration": 29,
    "start_time": "2022-02-17T19:36:12.832Z"
   },
   {
    "duration": 35,
    "start_time": "2022-02-17T19:36:12.864Z"
   },
   {
    "duration": 14,
    "start_time": "2022-02-17T19:36:12.905Z"
   },
   {
    "duration": 59,
    "start_time": "2022-02-17T19:36:12.923Z"
   },
   {
    "duration": 34,
    "start_time": "2022-02-17T19:36:12.987Z"
   },
   {
    "duration": 60,
    "start_time": "2022-02-17T19:36:13.025Z"
   },
   {
    "duration": 118,
    "start_time": "2022-02-17T19:36:13.088Z"
   },
   {
    "duration": 119,
    "start_time": "2022-02-17T19:36:13.208Z"
   },
   {
    "duration": 96,
    "start_time": "2022-02-17T19:36:13.331Z"
   },
   {
    "duration": 34,
    "start_time": "2022-02-17T19:36:13.429Z"
   },
   {
    "duration": 6,
    "start_time": "2022-02-17T19:36:13.467Z"
   },
   {
    "duration": 23,
    "start_time": "2022-02-17T19:36:13.476Z"
   },
   {
    "duration": 17,
    "start_time": "2022-02-17T19:36:13.502Z"
   },
   {
    "duration": 81,
    "start_time": "2022-02-17T19:36:13.522Z"
   },
   {
    "duration": 67,
    "start_time": "2022-02-17T19:36:13.607Z"
   },
   {
    "duration": 5,
    "start_time": "2022-02-17T19:36:13.677Z"
   },
   {
    "duration": 36,
    "start_time": "2022-02-17T19:36:13.685Z"
   },
   {
    "duration": 41,
    "start_time": "2022-02-17T19:36:13.724Z"
   },
   {
    "duration": 20,
    "start_time": "2022-02-17T19:36:13.770Z"
   },
   {
    "duration": 22,
    "start_time": "2022-02-17T19:36:13.793Z"
   },
   {
    "duration": 57,
    "start_time": "2022-02-17T19:36:13.819Z"
   },
   {
    "duration": 20,
    "start_time": "2022-02-17T19:36:13.879Z"
   },
   {
    "duration": 13,
    "start_time": "2022-02-17T19:36:13.901Z"
   },
   {
    "duration": 56,
    "start_time": "2022-02-17T19:36:13.916Z"
   },
   {
    "duration": 13,
    "start_time": "2022-02-17T19:36:13.974Z"
   },
   {
    "duration": 6,
    "start_time": "2022-02-17T19:36:13.990Z"
   },
   {
    "duration": 31,
    "start_time": "2022-02-17T19:36:13.998Z"
   },
   {
    "duration": 42,
    "start_time": "2022-02-17T19:36:14.031Z"
   },
   {
    "duration": 25,
    "start_time": "2022-02-17T19:36:14.075Z"
   },
   {
    "duration": 22,
    "start_time": "2022-02-17T19:36:14.103Z"
   },
   {
    "duration": 61,
    "start_time": "2022-02-17T19:36:14.127Z"
   },
   {
    "duration": 16,
    "start_time": "2022-02-17T19:36:14.191Z"
   },
   {
    "duration": 36,
    "start_time": "2022-02-17T19:36:14.210Z"
   },
   {
    "duration": 28,
    "start_time": "2022-02-17T19:36:14.248Z"
   },
   {
    "duration": 714,
    "start_time": "2022-02-17T19:52:33.174Z"
   },
   {
    "duration": 163,
    "start_time": "2022-02-17T19:52:33.891Z"
   },
   {
    "duration": 28,
    "start_time": "2022-02-17T19:52:34.057Z"
   },
   {
    "duration": 36,
    "start_time": "2022-02-17T19:52:34.088Z"
   },
   {
    "duration": 5,
    "start_time": "2022-02-17T19:52:34.127Z"
   },
   {
    "duration": 36,
    "start_time": "2022-02-17T19:52:34.161Z"
   },
   {
    "duration": 6,
    "start_time": "2022-02-17T19:52:34.201Z"
   },
   {
    "duration": 75,
    "start_time": "2022-02-17T19:52:34.214Z"
   },
   {
    "duration": 27,
    "start_time": "2022-02-17T19:52:34.293Z"
   },
   {
    "duration": 49,
    "start_time": "2022-02-17T19:52:34.323Z"
   },
   {
    "duration": 95,
    "start_time": "2022-02-17T19:52:34.375Z"
   },
   {
    "duration": 101,
    "start_time": "2022-02-17T19:52:34.472Z"
   },
   {
    "duration": 69,
    "start_time": "2022-02-17T19:52:34.576Z"
   },
   {
    "duration": 27,
    "start_time": "2022-02-17T19:52:34.647Z"
   },
   {
    "duration": 4,
    "start_time": "2022-02-17T19:52:34.676Z"
   },
   {
    "duration": 19,
    "start_time": "2022-02-17T19:52:34.682Z"
   },
   {
    "duration": 13,
    "start_time": "2022-02-17T19:52:34.703Z"
   },
   {
    "duration": 62,
    "start_time": "2022-02-17T19:52:34.719Z"
   },
   {
    "duration": 37,
    "start_time": "2022-02-17T19:52:34.783Z"
   },
   {
    "duration": 5,
    "start_time": "2022-02-17T19:52:34.822Z"
   },
   {
    "duration": 21,
    "start_time": "2022-02-17T19:52:34.861Z"
   },
   {
    "duration": 17,
    "start_time": "2022-02-17T19:52:34.884Z"
   },
   {
    "duration": 18,
    "start_time": "2022-02-17T19:52:34.906Z"
   },
   {
    "duration": 18,
    "start_time": "2022-02-17T19:52:34.962Z"
   },
   {
    "duration": 18,
    "start_time": "2022-02-17T19:52:34.982Z"
   },
   {
    "duration": 16,
    "start_time": "2022-02-17T19:52:35.003Z"
   },
   {
    "duration": 47,
    "start_time": "2022-02-17T19:52:35.022Z"
   },
   {
    "duration": 17,
    "start_time": "2022-02-17T19:52:35.072Z"
   },
   {
    "duration": 11,
    "start_time": "2022-02-17T19:52:35.091Z"
   },
   {
    "duration": 5,
    "start_time": "2022-02-17T19:52:35.105Z"
   },
   {
    "duration": 63,
    "start_time": "2022-02-17T19:52:35.113Z"
   },
   {
    "duration": 19,
    "start_time": "2022-02-17T19:52:35.178Z"
   },
   {
    "duration": 24,
    "start_time": "2022-02-17T19:52:35.199Z"
   },
   {
    "duration": 43,
    "start_time": "2022-02-17T19:52:35.226Z"
   },
   {
    "duration": 31,
    "start_time": "2022-02-17T19:52:35.271Z"
   },
   {
    "duration": 11,
    "start_time": "2022-02-17T19:52:35.305Z"
   },
   {
    "duration": 56,
    "start_time": "2022-02-17T19:52:35.318Z"
   },
   {
    "duration": 13,
    "start_time": "2022-02-17T19:52:35.376Z"
   },
   {
    "duration": 6,
    "start_time": "2022-02-17T19:52:39.938Z"
   },
   {
    "duration": 23,
    "start_time": "2022-02-17T19:52:44.320Z"
   },
   {
    "duration": 377,
    "start_time": "2022-02-17T19:57:10.613Z"
   },
   {
    "duration": 320,
    "start_time": "2022-02-17T19:57:22.261Z"
   },
   {
    "duration": 32,
    "start_time": "2022-02-17T19:57:29.732Z"
   },
   {
    "duration": 41,
    "start_time": "2022-02-17T19:57:43.679Z"
   },
   {
    "duration": 15,
    "start_time": "2022-02-17T19:58:51.450Z"
   },
   {
    "duration": 40,
    "start_time": "2022-02-17T19:59:25.667Z"
   },
   {
    "duration": 24,
    "start_time": "2022-02-17T19:59:32.618Z"
   },
   {
    "duration": 15,
    "start_time": "2022-02-17T20:00:34.410Z"
   },
   {
    "duration": 15,
    "start_time": "2022-02-17T20:00:43.491Z"
   },
   {
    "duration": 13,
    "start_time": "2022-02-17T20:01:00.635Z"
   },
   {
    "duration": 7,
    "start_time": "2022-02-17T20:01:02.362Z"
   },
   {
    "duration": 8,
    "start_time": "2022-02-17T20:01:33.834Z"
   },
   {
    "duration": 6,
    "start_time": "2022-02-17T20:01:38.228Z"
   },
   {
    "duration": 744,
    "start_time": "2022-02-17T20:03:04.479Z"
   },
   {
    "duration": 186,
    "start_time": "2022-02-17T20:03:05.226Z"
   },
   {
    "duration": 26,
    "start_time": "2022-02-17T20:03:05.415Z"
   },
   {
    "duration": 47,
    "start_time": "2022-02-17T20:03:05.445Z"
   },
   {
    "duration": 6,
    "start_time": "2022-02-17T20:03:05.495Z"
   },
   {
    "duration": 59,
    "start_time": "2022-02-17T20:03:05.503Z"
   },
   {
    "duration": 6,
    "start_time": "2022-02-17T20:03:05.564Z"
   },
   {
    "duration": 39,
    "start_time": "2022-02-17T20:03:05.574Z"
   },
   {
    "duration": 47,
    "start_time": "2022-02-17T20:03:05.616Z"
   },
   {
    "duration": 31,
    "start_time": "2022-02-17T20:03:05.666Z"
   },
   {
    "duration": 103,
    "start_time": "2022-02-17T20:03:05.700Z"
   },
   {
    "duration": 107,
    "start_time": "2022-02-17T20:03:05.806Z"
   },
   {
    "duration": 86,
    "start_time": "2022-02-17T20:03:05.916Z"
   },
   {
    "duration": 15,
    "start_time": "2022-02-17T20:03:06.004Z"
   },
   {
    "duration": 4,
    "start_time": "2022-02-17T20:03:06.022Z"
   },
   {
    "duration": 43,
    "start_time": "2022-02-17T20:03:06.028Z"
   },
   {
    "duration": 19,
    "start_time": "2022-02-17T20:03:06.074Z"
   },
   {
    "duration": 34,
    "start_time": "2022-02-17T20:03:06.097Z"
   },
   {
    "duration": 72,
    "start_time": "2022-02-17T20:03:06.134Z"
   },
   {
    "duration": 6,
    "start_time": "2022-02-17T20:03:06.209Z"
   },
   {
    "duration": 56,
    "start_time": "2022-02-17T20:03:06.218Z"
   },
   {
    "duration": 20,
    "start_time": "2022-02-17T20:03:06.278Z"
   },
   {
    "duration": 18,
    "start_time": "2022-02-17T20:03:06.303Z"
   },
   {
    "duration": 45,
    "start_time": "2022-02-17T20:03:06.324Z"
   },
   {
    "duration": 22,
    "start_time": "2022-02-17T20:03:06.372Z"
   },
   {
    "duration": 16,
    "start_time": "2022-02-17T20:03:06.397Z"
   },
   {
    "duration": 45,
    "start_time": "2022-02-17T20:03:06.416Z"
   },
   {
    "duration": 15,
    "start_time": "2022-02-17T20:03:06.463Z"
   },
   {
    "duration": 12,
    "start_time": "2022-02-17T20:03:06.481Z"
   },
   {
    "duration": 5,
    "start_time": "2022-02-17T20:03:06.496Z"
   },
   {
    "duration": 63,
    "start_time": "2022-02-17T20:03:06.504Z"
   },
   {
    "duration": 17,
    "start_time": "2022-02-17T20:03:06.570Z"
   },
   {
    "duration": 22,
    "start_time": "2022-02-17T20:03:06.590Z"
   },
   {
    "duration": 48,
    "start_time": "2022-02-17T20:03:06.615Z"
   },
   {
    "duration": 11,
    "start_time": "2022-02-17T20:03:06.665Z"
   },
   {
    "duration": 7,
    "start_time": "2022-02-17T20:03:06.678Z"
   },
   {
    "duration": 11,
    "start_time": "2022-02-17T20:03:06.688Z"
   },
   {
    "duration": 7,
    "start_time": "2022-02-17T20:03:06.702Z"
   },
   {
    "duration": 544,
    "start_time": "2022-02-26T21:37:52.485Z"
   },
   {
    "duration": 123,
    "start_time": "2022-02-26T21:37:53.031Z"
   },
   {
    "duration": 14,
    "start_time": "2022-02-26T21:37:53.156Z"
   },
   {
    "duration": 23,
    "start_time": "2022-02-26T21:37:53.172Z"
   },
   {
    "duration": 4,
    "start_time": "2022-02-26T21:37:53.197Z"
   },
   {
    "duration": 21,
    "start_time": "2022-02-26T21:37:53.202Z"
   },
   {
    "duration": 6,
    "start_time": "2022-02-26T21:37:53.224Z"
   },
   {
    "duration": 23,
    "start_time": "2022-02-26T21:37:53.259Z"
   },
   {
    "duration": 16,
    "start_time": "2022-02-26T21:37:53.285Z"
   },
   {
    "duration": 24,
    "start_time": "2022-02-26T21:37:53.303Z"
   },
   {
    "duration": 75,
    "start_time": "2022-02-26T21:37:53.329Z"
   },
   {
    "duration": 76,
    "start_time": "2022-02-26T21:37:53.406Z"
   },
   {
    "duration": 47,
    "start_time": "2022-02-26T21:37:53.483Z"
   },
   {
    "duration": 8,
    "start_time": "2022-02-26T21:37:53.532Z"
   },
   {
    "duration": 18,
    "start_time": "2022-02-26T21:37:53.542Z"
   },
   {
    "duration": 15,
    "start_time": "2022-02-26T21:37:53.561Z"
   },
   {
    "duration": 9,
    "start_time": "2022-02-26T21:37:53.577Z"
   },
   {
    "duration": 21,
    "start_time": "2022-02-26T21:37:53.587Z"
   },
   {
    "duration": 50,
    "start_time": "2022-02-26T21:37:53.610Z"
   },
   {
    "duration": 3,
    "start_time": "2022-02-26T21:37:53.662Z"
   },
   {
    "duration": 19,
    "start_time": "2022-02-26T21:37:53.667Z"
   },
   {
    "duration": 14,
    "start_time": "2022-02-26T21:37:53.687Z"
   },
   {
    "duration": 14,
    "start_time": "2022-02-26T21:37:53.703Z"
   },
   {
    "duration": 42,
    "start_time": "2022-02-26T21:37:53.718Z"
   },
   {
    "duration": 14,
    "start_time": "2022-02-26T21:37:53.761Z"
   },
   {
    "duration": 13,
    "start_time": "2022-02-26T21:37:53.776Z"
   },
   {
    "duration": 7,
    "start_time": "2022-02-26T21:37:53.792Z"
   },
   {
    "duration": 9,
    "start_time": "2022-02-26T21:37:53.801Z"
   },
   {
    "duration": 8,
    "start_time": "2022-02-26T21:37:53.811Z"
   },
   {
    "duration": 3,
    "start_time": "2022-02-26T21:37:53.820Z"
   },
   {
    "duration": 51,
    "start_time": "2022-02-26T21:37:53.825Z"
   },
   {
    "duration": 11,
    "start_time": "2022-02-26T21:37:53.878Z"
   },
   {
    "duration": 22,
    "start_time": "2022-02-26T21:37:53.890Z"
   },
   {
    "duration": 12,
    "start_time": "2022-02-26T21:37:53.914Z"
   },
   {
    "duration": 36,
    "start_time": "2022-02-26T21:37:53.927Z"
   },
   {
    "duration": 4,
    "start_time": "2022-02-26T21:37:53.965Z"
   },
   {
    "duration": 7,
    "start_time": "2022-02-26T21:37:53.971Z"
   },
   {
    "duration": 5,
    "start_time": "2022-02-26T21:37:53.979Z"
   },
   {
    "duration": 9,
    "start_time": "2022-02-26T21:42:55.324Z"
   },
   {
    "duration": 292,
    "start_time": "2022-02-27T14:10:32.700Z"
   },
   {
    "duration": 737,
    "start_time": "2022-02-27T14:10:38.574Z"
   },
   {
    "duration": 730,
    "start_time": "2022-02-27T14:10:48.950Z"
   },
   {
    "duration": 184,
    "start_time": "2022-02-27T14:10:52.094Z"
   },
   {
    "duration": 28,
    "start_time": "2022-02-27T14:10:54.428Z"
   },
   {
    "duration": 15,
    "start_time": "2022-02-27T14:11:10.533Z"
   },
   {
    "duration": 35,
    "start_time": "2022-02-27T14:11:13.740Z"
   },
   {
    "duration": 6,
    "start_time": "2022-02-27T14:11:34.412Z"
   },
   {
    "duration": 27,
    "start_time": "2022-02-27T14:11:37.094Z"
   },
   {
    "duration": 7,
    "start_time": "2022-02-27T14:11:39.980Z"
   },
   {
    "duration": 34,
    "start_time": "2022-02-27T14:11:45.180Z"
   },
   {
    "duration": 23,
    "start_time": "2022-02-27T14:11:49.692Z"
   },
   {
    "duration": 31,
    "start_time": "2022-02-27T14:11:56.244Z"
   },
   {
    "duration": 88,
    "start_time": "2022-02-27T14:12:00.150Z"
   },
   {
    "duration": 108,
    "start_time": "2022-02-27T14:12:02.645Z"
   },
   {
    "duration": 79,
    "start_time": "2022-02-27T14:12:05.276Z"
   },
   {
    "duration": 58,
    "start_time": "2022-02-27T14:12:28.190Z"
   },
   {
    "duration": 4,
    "start_time": "2022-02-27T14:13:18.517Z"
   },
   {
    "duration": 4,
    "start_time": "2022-02-27T14:14:41.203Z"
   },
   {
    "duration": 4,
    "start_time": "2022-02-27T14:18:42.215Z"
   },
   {
    "duration": 14,
    "start_time": "2022-02-27T14:18:45.328Z"
   },
   {
    "duration": 15,
    "start_time": "2022-02-27T14:18:49.554Z"
   },
   {
    "duration": 329,
    "start_time": "2022-02-27T14:19:02.728Z"
   },
   {
    "duration": 229,
    "start_time": "2022-02-27T14:19:11.968Z"
   },
   {
    "duration": 58,
    "start_time": "2022-02-27T14:19:28.825Z"
   },
   {
    "duration": 34,
    "start_time": "2022-02-27T14:20:01.679Z"
   },
   {
    "duration": 33,
    "start_time": "2022-02-27T14:20:09.695Z"
   },
   {
    "duration": 33,
    "start_time": "2022-02-27T14:20:22.319Z"
   },
   {
    "duration": 39,
    "start_time": "2022-02-27T14:21:05.944Z"
   },
   {
    "duration": 34,
    "start_time": "2022-02-27T14:21:47.645Z"
   },
   {
    "duration": 36,
    "start_time": "2022-02-27T14:23:13.415Z"
   },
   {
    "duration": 45,
    "start_time": "2022-02-27T14:23:23.549Z"
   },
   {
    "duration": 47,
    "start_time": "2022-02-27T14:23:29.150Z"
   },
   {
    "duration": 49,
    "start_time": "2022-02-27T14:23:33.422Z"
   },
   {
    "duration": 5,
    "start_time": "2022-02-27T14:23:41.832Z"
   },
   {
    "duration": 21,
    "start_time": "2022-02-27T14:23:45.263Z"
   },
   {
    "duration": 20,
    "start_time": "2022-02-27T14:23:47.389Z"
   },
   {
    "duration": 20,
    "start_time": "2022-02-27T14:23:49.077Z"
   },
   {
    "duration": 24,
    "start_time": "2022-02-27T14:23:50.789Z"
   },
   {
    "duration": 22,
    "start_time": "2022-02-27T14:23:52.540Z"
   },
   {
    "duration": 18,
    "start_time": "2022-02-27T14:23:55.253Z"
   },
   {
    "duration": 107,
    "start_time": "2022-02-27T14:25:35.422Z"
   },
   {
    "duration": 4,
    "start_time": "2022-02-27T14:29:15.298Z"
   },
   {
    "duration": 90,
    "start_time": "2022-02-27T14:30:42.232Z"
   },
   {
    "duration": 91,
    "start_time": "2022-02-27T14:31:05.721Z"
   },
   {
    "duration": 89,
    "start_time": "2022-02-27T14:31:29.504Z"
   },
   {
    "duration": 15,
    "start_time": "2022-02-27T14:31:44.487Z"
   },
   {
    "duration": 6,
    "start_time": "2022-02-27T14:32:29.915Z"
   },
   {
    "duration": 13,
    "start_time": "2022-02-27T14:32:37.239Z"
   },
   {
    "duration": 16,
    "start_time": "2022-02-27T14:32:44.801Z"
   },
   {
    "duration": 14,
    "start_time": "2022-02-27T14:32:47.283Z"
   },
   {
    "duration": 32,
    "start_time": "2022-02-27T14:32:53.576Z"
   },
   {
    "duration": 29,
    "start_time": "2022-02-27T14:33:06.374Z"
   },
   {
    "duration": 6,
    "start_time": "2022-02-27T14:33:20.385Z"
   },
   {
    "duration": 6,
    "start_time": "2022-02-27T14:34:10.332Z"
   },
   {
    "duration": 27,
    "start_time": "2022-02-27T14:34:14.919Z"
   },
   {
    "duration": 6,
    "start_time": "2022-02-27T14:34:38.416Z"
   },
   {
    "duration": 7,
    "start_time": "2022-02-27T14:34:40.338Z"
   },
   {
    "duration": 38,
    "start_time": "2022-02-27T14:34:41.991Z"
   },
   {
    "duration": 18,
    "start_time": "2022-02-27T14:34:46.224Z"
   },
   {
    "duration": 24,
    "start_time": "2022-02-27T14:34:48.673Z"
   },
   {
    "duration": 17,
    "start_time": "2022-02-27T14:34:52.010Z"
   },
   {
    "duration": 11,
    "start_time": "2022-02-27T14:34:58.566Z"
   },
   {
    "duration": 8,
    "start_time": "2022-02-27T14:35:05.943Z"
   },
   {
    "duration": 8,
    "start_time": "2022-02-27T14:35:09.639Z"
   },
   {
    "duration": 6,
    "start_time": "2022-02-27T14:35:11.573Z"
   },
   {
    "duration": 741,
    "start_time": "2022-02-27T14:35:28.004Z"
   },
   {
    "duration": 193,
    "start_time": "2022-02-27T14:35:28.747Z"
   },
   {
    "duration": 31,
    "start_time": "2022-02-27T14:35:28.943Z"
   },
   {
    "duration": 15,
    "start_time": "2022-02-27T14:35:28.977Z"
   },
   {
    "duration": 38,
    "start_time": "2022-02-27T14:35:28.995Z"
   },
   {
    "duration": 41,
    "start_time": "2022-02-27T14:35:29.036Z"
   },
   {
    "duration": 33,
    "start_time": "2022-02-27T14:35:29.079Z"
   },
   {
    "duration": 9,
    "start_time": "2022-02-27T14:35:29.115Z"
   },
   {
    "duration": 51,
    "start_time": "2022-02-27T14:35:29.127Z"
   },
   {
    "duration": 23,
    "start_time": "2022-02-27T14:35:29.180Z"
   },
   {
    "duration": 32,
    "start_time": "2022-02-27T14:35:29.206Z"
   },
   {
    "duration": 115,
    "start_time": "2022-02-27T14:35:29.241Z"
   },
   {
    "duration": 111,
    "start_time": "2022-02-27T14:35:29.374Z"
   },
   {
    "duration": 98,
    "start_time": "2022-02-27T14:35:29.487Z"
   },
   {
    "duration": 100,
    "start_time": "2022-02-27T14:35:29.588Z"
   },
   {
    "duration": 5,
    "start_time": "2022-02-27T14:35:29.691Z"
   },
   {
    "duration": 24,
    "start_time": "2022-02-27T14:35:29.699Z"
   },
   {
    "duration": 88,
    "start_time": "2022-02-27T14:35:29.726Z"
   },
   {
    "duration": 34,
    "start_time": "2022-02-27T14:35:29.817Z"
   },
   {
    "duration": 64,
    "start_time": "2022-02-27T14:35:29.853Z"
   },
   {
    "duration": 5,
    "start_time": "2022-02-27T14:35:29.919Z"
   },
   {
    "duration": 60,
    "start_time": "2022-02-27T14:35:29.926Z"
   },
   {
    "duration": 23,
    "start_time": "2022-02-27T14:35:29.991Z"
   },
   {
    "duration": 25,
    "start_time": "2022-02-27T14:35:30.017Z"
   },
   {
    "duration": 43,
    "start_time": "2022-02-27T14:35:30.045Z"
   },
   {
    "duration": 21,
    "start_time": "2022-02-27T14:35:30.091Z"
   },
   {
    "duration": 23,
    "start_time": "2022-02-27T14:35:30.115Z"
   },
   {
    "duration": 124,
    "start_time": "2022-02-27T14:35:30.141Z"
   },
   {
    "duration": 19,
    "start_time": "2022-02-27T14:35:30.267Z"
   },
   {
    "duration": 39,
    "start_time": "2022-02-27T14:35:30.290Z"
   },
   {
    "duration": 59,
    "start_time": "2022-02-27T14:35:30.332Z"
   },
   {
    "duration": 6,
    "start_time": "2022-02-27T14:35:30.394Z"
   },
   {
    "duration": 38,
    "start_time": "2022-02-27T14:35:30.403Z"
   },
   {
    "duration": 36,
    "start_time": "2022-02-27T14:35:30.444Z"
   },
   {
    "duration": 27,
    "start_time": "2022-02-27T14:35:30.483Z"
   },
   {
    "duration": 60,
    "start_time": "2022-02-27T14:35:30.513Z"
   },
   {
    "duration": 17,
    "start_time": "2022-02-27T14:35:30.576Z"
   },
   {
    "duration": 8,
    "start_time": "2022-02-27T14:35:30.596Z"
   },
   {
    "duration": 23,
    "start_time": "2022-02-27T14:35:30.608Z"
   },
   {
    "duration": 8,
    "start_time": "2022-02-27T14:35:30.635Z"
   },
   {
    "duration": 321,
    "start_time": "2022-02-27T14:36:32.224Z"
   },
   {
    "duration": 829,
    "start_time": "2022-02-27T14:36:36.981Z"
   },
   {
    "duration": 187,
    "start_time": "2022-02-27T14:36:37.812Z"
   },
   {
    "duration": 24,
    "start_time": "2022-02-27T14:36:38.002Z"
   },
   {
    "duration": 15,
    "start_time": "2022-02-27T14:36:38.029Z"
   },
   {
    "duration": 57,
    "start_time": "2022-02-27T14:36:38.047Z"
   },
   {
    "duration": 5,
    "start_time": "2022-02-27T14:36:38.107Z"
   },
   {
    "duration": 66,
    "start_time": "2022-02-27T14:36:38.114Z"
   },
   {
    "duration": 6,
    "start_time": "2022-02-27T14:36:38.184Z"
   },
   {
    "duration": 32,
    "start_time": "2022-02-27T14:36:38.194Z"
   },
   {
    "duration": 56,
    "start_time": "2022-02-27T14:36:38.229Z"
   },
   {
    "duration": 35,
    "start_time": "2022-02-27T14:36:38.287Z"
   },
   {
    "duration": 107,
    "start_time": "2022-02-27T14:36:38.324Z"
   },
   {
    "duration": 116,
    "start_time": "2022-02-27T14:36:38.433Z"
   },
   {
    "duration": 85,
    "start_time": "2022-02-27T14:36:38.551Z"
   },
   {
    "duration": 66,
    "start_time": "2022-02-27T14:36:38.638Z"
   },
   {
    "duration": 3,
    "start_time": "2022-02-27T14:36:38.706Z"
   },
   {
    "duration": 18,
    "start_time": "2022-02-27T14:36:38.711Z"
   },
   {
    "duration": 78,
    "start_time": "2022-02-27T14:36:38.732Z"
   },
   {
    "duration": 39,
    "start_time": "2022-02-27T14:36:38.812Z"
   },
   {
    "duration": 44,
    "start_time": "2022-02-27T14:36:38.874Z"
   },
   {
    "duration": 5,
    "start_time": "2022-02-27T14:36:38.920Z"
   },
   {
    "duration": 53,
    "start_time": "2022-02-27T14:36:38.927Z"
   },
   {
    "duration": 19,
    "start_time": "2022-02-27T14:36:38.985Z"
   },
   {
    "duration": 20,
    "start_time": "2022-02-27T14:36:39.007Z"
   },
   {
    "duration": 46,
    "start_time": "2022-02-27T14:36:39.029Z"
   },
   {
    "duration": 21,
    "start_time": "2022-02-27T14:36:39.078Z"
   },
   {
    "duration": 20,
    "start_time": "2022-02-27T14:36:39.101Z"
   },
   {
    "duration": 71,
    "start_time": "2022-02-27T14:36:39.123Z"
   },
   {
    "duration": 1372,
    "start_time": "2022-02-27T14:36:37.825Z"
   },
   {
    "duration": 1370,
    "start_time": "2022-02-27T14:36:37.829Z"
   },
   {
    "duration": 1368,
    "start_time": "2022-02-27T14:36:37.832Z"
   },
   {
    "duration": 1366,
    "start_time": "2022-02-27T14:36:37.836Z"
   },
   {
    "duration": 1365,
    "start_time": "2022-02-27T14:36:37.839Z"
   },
   {
    "duration": 1360,
    "start_time": "2022-02-27T14:36:37.845Z"
   },
   {
    "duration": 1359,
    "start_time": "2022-02-27T14:36:37.848Z"
   },
   {
    "duration": 1358,
    "start_time": "2022-02-27T14:36:37.851Z"
   },
   {
    "duration": 1352,
    "start_time": "2022-02-27T14:36:37.858Z"
   },
   {
    "duration": 1351,
    "start_time": "2022-02-27T14:36:37.861Z"
   },
   {
    "duration": 1350,
    "start_time": "2022-02-27T14:36:37.864Z"
   },
   {
    "duration": 1350,
    "start_time": "2022-02-27T14:36:37.867Z"
   },
   {
    "duration": 1348,
    "start_time": "2022-02-27T14:36:37.870Z"
   },
   {
    "duration": 759,
    "start_time": "2022-02-27T14:36:58.800Z"
   },
   {
    "duration": 204,
    "start_time": "2022-02-27T14:36:59.562Z"
   },
   {
    "duration": 28,
    "start_time": "2022-02-27T14:36:59.769Z"
   },
   {
    "duration": 14,
    "start_time": "2022-02-27T14:36:59.800Z"
   },
   {
    "duration": 61,
    "start_time": "2022-02-27T14:36:59.816Z"
   },
   {
    "duration": 5,
    "start_time": "2022-02-27T14:36:59.880Z"
   },
   {
    "duration": 30,
    "start_time": "2022-02-27T14:36:59.888Z"
   },
   {
    "duration": 5,
    "start_time": "2022-02-27T14:36:59.922Z"
   },
   {
    "duration": 66,
    "start_time": "2022-02-27T14:36:59.930Z"
   },
   {
    "duration": 26,
    "start_time": "2022-02-27T14:36:59.998Z"
   },
   {
    "duration": 50,
    "start_time": "2022-02-27T14:37:00.026Z"
   },
   {
    "duration": 106,
    "start_time": "2022-02-27T14:37:00.079Z"
   },
   {
    "duration": 118,
    "start_time": "2022-02-27T14:37:00.189Z"
   },
   {
    "duration": 97,
    "start_time": "2022-02-27T14:37:00.311Z"
   },
   {
    "duration": 74,
    "start_time": "2022-02-27T14:37:00.410Z"
   },
   {
    "duration": 3,
    "start_time": "2022-02-27T14:37:00.487Z"
   },
   {
    "duration": 18,
    "start_time": "2022-02-27T14:37:00.493Z"
   },
   {
    "duration": 80,
    "start_time": "2022-02-27T14:37:00.513Z"
   },
   {
    "duration": 35,
    "start_time": "2022-02-27T14:37:00.595Z"
   },
   {
    "duration": 70,
    "start_time": "2022-02-27T14:37:00.632Z"
   },
   {
    "duration": 5,
    "start_time": "2022-02-27T14:37:00.705Z"
   },
   {
    "duration": 35,
    "start_time": "2022-02-27T14:37:00.712Z"
   },
   {
    "duration": 35,
    "start_time": "2022-02-27T14:37:00.752Z"
   },
   {
    "duration": 25,
    "start_time": "2022-02-27T14:37:00.790Z"
   },
   {
    "duration": 22,
    "start_time": "2022-02-27T14:37:00.817Z"
   },
   {
    "duration": 52,
    "start_time": "2022-02-27T14:37:00.841Z"
   },
   {
    "duration": 19,
    "start_time": "2022-02-27T14:37:00.895Z"
   },
   {
    "duration": 124,
    "start_time": "2022-02-27T14:37:00.916Z"
   },
   {
    "duration": 13,
    "start_time": "2022-02-27T14:37:01.042Z"
   },
   {
    "duration": 31,
    "start_time": "2022-02-27T14:37:01.073Z"
   },
   {
    "duration": 26,
    "start_time": "2022-02-27T14:37:01.107Z"
   },
   {
    "duration": 5,
    "start_time": "2022-02-27T14:37:01.135Z"
   },
   {
    "duration": 58,
    "start_time": "2022-02-27T14:37:01.143Z"
   },
   {
    "duration": 18,
    "start_time": "2022-02-27T14:37:01.204Z"
   },
   {
    "duration": 48,
    "start_time": "2022-02-27T14:37:01.225Z"
   },
   {
    "duration": 18,
    "start_time": "2022-02-27T14:37:01.276Z"
   },
   {
    "duration": 14,
    "start_time": "2022-02-27T14:37:01.297Z"
   },
   {
    "duration": 7,
    "start_time": "2022-02-27T14:37:01.313Z"
   },
   {
    "duration": 16,
    "start_time": "2022-02-27T14:37:01.323Z"
   },
   {
    "duration": 33,
    "start_time": "2022-02-27T14:37:01.342Z"
   },
   {
    "duration": 819,
    "start_time": "2022-02-27T14:39:09.497Z"
   },
   {
    "duration": 189,
    "start_time": "2022-02-27T14:39:10.318Z"
   },
   {
    "duration": 25,
    "start_time": "2022-02-27T14:39:10.509Z"
   },
   {
    "duration": 30,
    "start_time": "2022-02-27T14:39:10.537Z"
   },
   {
    "duration": 51,
    "start_time": "2022-02-27T14:39:10.574Z"
   },
   {
    "duration": 11,
    "start_time": "2022-02-27T14:39:10.628Z"
   },
   {
    "duration": 38,
    "start_time": "2022-02-27T14:39:10.642Z"
   },
   {
    "duration": 17,
    "start_time": "2022-02-27T14:39:10.685Z"
   },
   {
    "duration": 37,
    "start_time": "2022-02-27T14:39:10.706Z"
   },
   {
    "duration": 32,
    "start_time": "2022-02-27T14:39:10.746Z"
   },
   {
    "duration": 30,
    "start_time": "2022-02-27T14:39:10.780Z"
   },
   {
    "duration": 113,
    "start_time": "2022-02-27T14:39:10.812Z"
   },
   {
    "duration": 107,
    "start_time": "2022-02-27T14:39:10.927Z"
   },
   {
    "duration": 87,
    "start_time": "2022-02-27T14:39:11.036Z"
   },
   {
    "duration": 70,
    "start_time": "2022-02-27T14:39:11.125Z"
   },
   {
    "duration": 4,
    "start_time": "2022-02-27T14:39:11.197Z"
   },
   {
    "duration": 28,
    "start_time": "2022-02-27T14:39:11.203Z"
   },
   {
    "duration": 84,
    "start_time": "2022-02-27T14:39:11.234Z"
   },
   {
    "duration": 36,
    "start_time": "2022-02-27T14:39:11.321Z"
   },
   {
    "duration": 43,
    "start_time": "2022-02-27T14:39:11.373Z"
   },
   {
    "duration": 5,
    "start_time": "2022-02-27T14:39:11.418Z"
   },
   {
    "duration": 59,
    "start_time": "2022-02-27T14:39:11.425Z"
   },
   {
    "duration": 38,
    "start_time": "2022-02-27T14:39:11.489Z"
   },
   {
    "duration": 66,
    "start_time": "2022-02-27T14:39:11.530Z"
   },
   {
    "duration": 51,
    "start_time": "2022-02-27T14:39:11.598Z"
   },
   {
    "duration": 48,
    "start_time": "2022-02-27T14:39:11.652Z"
   },
   {
    "duration": 37,
    "start_time": "2022-02-27T14:39:11.703Z"
   },
   {
    "duration": 114,
    "start_time": "2022-02-27T14:39:11.743Z"
   },
   {
    "duration": 16,
    "start_time": "2022-02-27T14:39:11.859Z"
   },
   {
    "duration": 55,
    "start_time": "2022-02-27T14:39:11.878Z"
   },
   {
    "duration": 28,
    "start_time": "2022-02-27T14:39:11.936Z"
   },
   {
    "duration": 13,
    "start_time": "2022-02-27T14:39:11.966Z"
   },
   {
    "duration": 70,
    "start_time": "2022-02-27T14:39:11.981Z"
   },
   {
    "duration": 54,
    "start_time": "2022-02-27T14:39:12.053Z"
   },
   {
    "duration": 42,
    "start_time": "2022-02-27T14:39:12.110Z"
   },
   {
    "duration": 39,
    "start_time": "2022-02-27T14:39:12.155Z"
   },
   {
    "duration": 34,
    "start_time": "2022-02-27T14:39:12.196Z"
   },
   {
    "duration": 26,
    "start_time": "2022-02-27T14:39:12.232Z"
   },
   {
    "duration": 42,
    "start_time": "2022-02-27T14:39:12.260Z"
   },
   {
    "duration": 36,
    "start_time": "2022-02-27T14:39:12.305Z"
   },
   {
    "duration": 596,
    "start_time": "2022-02-27T17:03:25.638Z"
   },
   {
    "duration": 142,
    "start_time": "2022-02-27T17:03:26.236Z"
   },
   {
    "duration": 19,
    "start_time": "2022-02-27T17:03:26.380Z"
   },
   {
    "duration": 27,
    "start_time": "2022-02-27T17:03:26.401Z"
   },
   {
    "duration": 60,
    "start_time": "2022-02-27T17:03:26.430Z"
   },
   {
    "duration": 25,
    "start_time": "2022-02-27T17:03:26.491Z"
   },
   {
    "duration": 29,
    "start_time": "2022-02-27T17:03:26.518Z"
   },
   {
    "duration": 6,
    "start_time": "2022-02-27T17:03:26.550Z"
   },
   {
    "duration": 30,
    "start_time": "2022-02-27T17:03:26.558Z"
   },
   {
    "duration": 18,
    "start_time": "2022-02-27T17:03:26.590Z"
   },
   {
    "duration": 24,
    "start_time": "2022-02-27T17:03:26.610Z"
   },
   {
    "duration": 75,
    "start_time": "2022-02-27T17:03:26.635Z"
   },
   {
    "duration": 80,
    "start_time": "2022-02-27T17:03:26.712Z"
   },
   {
    "duration": 54,
    "start_time": "2022-02-27T17:03:26.793Z"
   },
   {
    "duration": 51,
    "start_time": "2022-02-27T17:03:26.849Z"
   },
   {
    "duration": 3,
    "start_time": "2022-02-27T17:03:26.902Z"
   },
   {
    "duration": 12,
    "start_time": "2022-02-27T17:03:26.906Z"
   },
   {
    "duration": 61,
    "start_time": "2022-02-27T17:03:26.919Z"
   },
   {
    "duration": 25,
    "start_time": "2022-02-27T17:03:26.981Z"
   },
   {
    "duration": 31,
    "start_time": "2022-02-27T17:03:27.007Z"
   },
   {
    "duration": 3,
    "start_time": "2022-02-27T17:03:27.040Z"
   },
   {
    "duration": 43,
    "start_time": "2022-02-27T17:03:27.044Z"
   },
   {
    "duration": 13,
    "start_time": "2022-02-27T17:03:27.090Z"
   },
   {
    "duration": 16,
    "start_time": "2022-02-27T17:03:27.105Z"
   },
   {
    "duration": 15,
    "start_time": "2022-02-27T17:03:27.122Z"
   },
   {
    "duration": 48,
    "start_time": "2022-02-27T17:03:27.139Z"
   },
   {
    "duration": 14,
    "start_time": "2022-02-27T17:03:27.188Z"
   },
   {
    "duration": 87,
    "start_time": "2022-02-27T17:03:27.204Z"
   },
   {
    "duration": 9,
    "start_time": "2022-02-27T17:03:27.293Z"
   },
   {
    "duration": 22,
    "start_time": "2022-02-27T17:03:27.304Z"
   },
   {
    "duration": 19,
    "start_time": "2022-02-27T17:03:27.328Z"
   },
   {
    "duration": 30,
    "start_time": "2022-02-27T17:03:27.349Z"
   },
   {
    "duration": 22,
    "start_time": "2022-02-27T17:03:27.381Z"
   },
   {
    "duration": 15,
    "start_time": "2022-02-27T17:03:27.405Z"
   },
   {
    "duration": 21,
    "start_time": "2022-02-27T17:03:27.422Z"
   },
   {
    "duration": 15,
    "start_time": "2022-02-27T17:03:27.478Z"
   },
   {
    "duration": 10,
    "start_time": "2022-02-27T17:03:27.495Z"
   },
   {
    "duration": 6,
    "start_time": "2022-02-27T17:03:27.507Z"
   },
   {
    "duration": 12,
    "start_time": "2022-02-27T17:03:27.515Z"
   },
   {
    "duration": 7,
    "start_time": "2022-02-27T17:03:27.529Z"
   }
  ],
  "colab": {
   "collapsed_sections": [
    "E0vqbgi9ay0H",
    "VUC88oWjTJw2"
   ],
   "name": "yandex_music_project_2021.2.ipynb",
   "provenance": []
  },
  "kernelspec": {
   "display_name": "Python 3 (ipykernel)",
   "language": "python",
   "name": "python3"
  },
  "language_info": {
   "codemirror_mode": {
    "name": "ipython",
    "version": 3
   },
   "file_extension": ".py",
   "mimetype": "text/x-python",
   "name": "python",
   "nbconvert_exporter": "python",
   "pygments_lexer": "ipython3",
   "version": "3.9.5"
  },
  "toc": {
   "base_numbering": 1,
   "nav_menu": {},
   "number_sections": true,
   "sideBar": true,
   "skip_h1_title": true,
   "title_cell": "Table of Contents",
   "title_sidebar": "Contents",
   "toc_cell": false,
   "toc_position": {
    "height": "calc(100% - 180px)",
    "left": "10px",
    "top": "150px",
    "width": "304.388px"
   },
   "toc_section_display": true,
   "toc_window_display": true
  }
 },
 "nbformat": 4,
 "nbformat_minor": 1
}
