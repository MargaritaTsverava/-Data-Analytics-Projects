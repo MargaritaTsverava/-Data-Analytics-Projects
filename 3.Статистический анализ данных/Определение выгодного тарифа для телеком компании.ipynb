{
 "cells": [
  {
   "cell_type": "markdown",
   "metadata": {},
   "source": [
    "# Определение перспективного тарифа для телеком-компании"
   ]
  },
  {
   "cell_type": "markdown",
   "metadata": {},
   "source": [
    "**Описание проекта:** \n",
    "\n",
    "В нашем распоряжении данные компании \"Мегалайн\" — федерального оператора сотовой связи. Клиентам предлагают два тарифных плана: \"Смарт\" и \"Ультра\". Чтобы скорректировать рекламный бюджет, коммерческий департамент хочет понять, какой тариф приносит больше денег.\n",
    "Нам предстоит сделать предварительный анализ тарифов на небольшой выборке клиентов. В нашем распоряжении данные 500 пользователей \"Мегалайна\": кто они, откуда, каким тарифом пользуются, сколько звонков и сообщений каждый отправил за 2018 год. Нужно проанализировать поведение клиентов и сделать вывод — какой тариф лучше.\n",
    "Для проведения анализа нам были предоставлены 5 таблиц -- таблица users (информация о пользователях), таблица calls (информация о звонках), таблица messages (информация о сообщениях), таблица internet (информация об интернет-сессиях), таблица tariffs (информация о тарифах). "
   ]
  },
  {
   "cell_type": "markdown",
   "metadata": {},
   "source": [
    "## Шаг 1. Обзор данных"
   ]
  },
  {
   "cell_type": "markdown",
   "metadata": {},
   "source": [
    "Импортируем необходимые библиотеки."
   ]
  },
  {
   "cell_type": "code",
   "execution_count": 1,
   "metadata": {},
   "outputs": [],
   "source": [
    "import pandas as pd\n",
    "import math\n",
    "from scipy import stats as st\n",
    "import numpy as np\n",
    "import seaborn as sns\n",
    "import matplotlib.pyplot as plt\n",
    "from matplotlib import pyplot"
   ]
  },
  {
   "cell_type": "markdown",
   "metadata": {},
   "source": [
    "В нашем распоряжении 5 таблиц: users, calls, messages, internet, tariffs. Рассмотрим каждую таблицу по отдельности. "
   ]
  },
  {
   "cell_type": "code",
   "execution_count": 2,
   "metadata": {},
   "outputs": [
    {
     "data": {
      "text/html": [
       "<div>\n",
       "<style scoped>\n",
       "    .dataframe tbody tr th:only-of-type {\n",
       "        vertical-align: middle;\n",
       "    }\n",
       "\n",
       "    .dataframe tbody tr th {\n",
       "        vertical-align: top;\n",
       "    }\n",
       "\n",
       "    .dataframe thead th {\n",
       "        text-align: right;\n",
       "    }\n",
       "</style>\n",
       "<table border=\"1\" class=\"dataframe\">\n",
       "  <thead>\n",
       "    <tr style=\"text-align: right;\">\n",
       "      <th></th>\n",
       "      <th>user_id</th>\n",
       "      <th>age</th>\n",
       "      <th>churn_date</th>\n",
       "      <th>city</th>\n",
       "      <th>first_name</th>\n",
       "      <th>last_name</th>\n",
       "      <th>reg_date</th>\n",
       "      <th>tariff</th>\n",
       "    </tr>\n",
       "  </thead>\n",
       "  <tbody>\n",
       "    <tr>\n",
       "      <th>0</th>\n",
       "      <td>1000</td>\n",
       "      <td>52</td>\n",
       "      <td>NaN</td>\n",
       "      <td>Краснодар</td>\n",
       "      <td>Рафаил</td>\n",
       "      <td>Верещагин</td>\n",
       "      <td>2018-05-25</td>\n",
       "      <td>ultra</td>\n",
       "    </tr>\n",
       "    <tr>\n",
       "      <th>1</th>\n",
       "      <td>1001</td>\n",
       "      <td>41</td>\n",
       "      <td>NaN</td>\n",
       "      <td>Москва</td>\n",
       "      <td>Иван</td>\n",
       "      <td>Ежов</td>\n",
       "      <td>2018-11-01</td>\n",
       "      <td>smart</td>\n",
       "    </tr>\n",
       "    <tr>\n",
       "      <th>2</th>\n",
       "      <td>1002</td>\n",
       "      <td>59</td>\n",
       "      <td>NaN</td>\n",
       "      <td>Стерлитамак</td>\n",
       "      <td>Евгений</td>\n",
       "      <td>Абрамович</td>\n",
       "      <td>2018-06-17</td>\n",
       "      <td>smart</td>\n",
       "    </tr>\n",
       "    <tr>\n",
       "      <th>3</th>\n",
       "      <td>1003</td>\n",
       "      <td>23</td>\n",
       "      <td>NaN</td>\n",
       "      <td>Москва</td>\n",
       "      <td>Белла</td>\n",
       "      <td>Белякова</td>\n",
       "      <td>2018-08-17</td>\n",
       "      <td>ultra</td>\n",
       "    </tr>\n",
       "    <tr>\n",
       "      <th>4</th>\n",
       "      <td>1004</td>\n",
       "      <td>68</td>\n",
       "      <td>NaN</td>\n",
       "      <td>Новокузнецк</td>\n",
       "      <td>Татьяна</td>\n",
       "      <td>Авдеенко</td>\n",
       "      <td>2018-05-14</td>\n",
       "      <td>ultra</td>\n",
       "    </tr>\n",
       "  </tbody>\n",
       "</table>\n",
       "</div>"
      ],
      "text/plain": [
       "   user_id  age churn_date         city first_name  last_name    reg_date  \\\n",
       "0     1000   52        NaN    Краснодар     Рафаил  Верещагин  2018-05-25   \n",
       "1     1001   41        NaN       Москва       Иван       Ежов  2018-11-01   \n",
       "2     1002   59        NaN  Стерлитамак    Евгений  Абрамович  2018-06-17   \n",
       "3     1003   23        NaN       Москва      Белла   Белякова  2018-08-17   \n",
       "4     1004   68        NaN  Новокузнецк    Татьяна   Авдеенко  2018-05-14   \n",
       "\n",
       "  tariff  \n",
       "0  ultra  \n",
       "1  smart  \n",
       "2  smart  \n",
       "3  ultra  \n",
       "4  ultra  "
      ]
     },
     "metadata": {},
     "output_type": "display_data"
    },
    {
     "name": "stdout",
     "output_type": "stream",
     "text": [
      "<class 'pandas.core.frame.DataFrame'>\n",
      "RangeIndex: 500 entries, 0 to 499\n",
      "Data columns (total 8 columns):\n",
      " #   Column      Non-Null Count  Dtype \n",
      "---  ------      --------------  ----- \n",
      " 0   user_id     500 non-null    int64 \n",
      " 1   age         500 non-null    int64 \n",
      " 2   churn_date  38 non-null     object\n",
      " 3   city        500 non-null    object\n",
      " 4   first_name  500 non-null    object\n",
      " 5   last_name   500 non-null    object\n",
      " 6   reg_date    500 non-null    object\n",
      " 7   tariff      500 non-null    object\n",
      "dtypes: int64(2), object(6)\n",
      "memory usage: 31.4+ KB\n"
     ]
    },
    {
     "data": {
      "text/plain": [
       "None"
      ]
     },
     "metadata": {},
     "output_type": "display_data"
    },
    {
     "data": {
      "text/html": [
       "<div>\n",
       "<style scoped>\n",
       "    .dataframe tbody tr th:only-of-type {\n",
       "        vertical-align: middle;\n",
       "    }\n",
       "\n",
       "    .dataframe tbody tr th {\n",
       "        vertical-align: top;\n",
       "    }\n",
       "\n",
       "    .dataframe thead th {\n",
       "        text-align: right;\n",
       "    }\n",
       "</style>\n",
       "<table border=\"1\" class=\"dataframe\">\n",
       "  <thead>\n",
       "    <tr style=\"text-align: right;\">\n",
       "      <th></th>\n",
       "      <th>user_id</th>\n",
       "      <th>age</th>\n",
       "    </tr>\n",
       "  </thead>\n",
       "  <tbody>\n",
       "    <tr>\n",
       "      <th>count</th>\n",
       "      <td>500.000000</td>\n",
       "      <td>500.00000</td>\n",
       "    </tr>\n",
       "    <tr>\n",
       "      <th>mean</th>\n",
       "      <td>1249.500000</td>\n",
       "      <td>46.58800</td>\n",
       "    </tr>\n",
       "    <tr>\n",
       "      <th>std</th>\n",
       "      <td>144.481833</td>\n",
       "      <td>16.66763</td>\n",
       "    </tr>\n",
       "    <tr>\n",
       "      <th>min</th>\n",
       "      <td>1000.000000</td>\n",
       "      <td>18.00000</td>\n",
       "    </tr>\n",
       "    <tr>\n",
       "      <th>25%</th>\n",
       "      <td>1124.750000</td>\n",
       "      <td>32.00000</td>\n",
       "    </tr>\n",
       "    <tr>\n",
       "      <th>50%</th>\n",
       "      <td>1249.500000</td>\n",
       "      <td>46.00000</td>\n",
       "    </tr>\n",
       "    <tr>\n",
       "      <th>75%</th>\n",
       "      <td>1374.250000</td>\n",
       "      <td>62.00000</td>\n",
       "    </tr>\n",
       "    <tr>\n",
       "      <th>max</th>\n",
       "      <td>1499.000000</td>\n",
       "      <td>75.00000</td>\n",
       "    </tr>\n",
       "  </tbody>\n",
       "</table>\n",
       "</div>"
      ],
      "text/plain": [
       "           user_id        age\n",
       "count   500.000000  500.00000\n",
       "mean   1249.500000   46.58800\n",
       "std     144.481833   16.66763\n",
       "min    1000.000000   18.00000\n",
       "25%    1124.750000   32.00000\n",
       "50%    1249.500000   46.00000\n",
       "75%    1374.250000   62.00000\n",
       "max    1499.000000   75.00000"
      ]
     },
     "execution_count": 2,
     "metadata": {},
     "output_type": "execute_result"
    }
   ],
   "source": [
    "users = pd.read_csv('users.csv')\n",
    "display(users.head())\n",
    "display(users.info())\n",
    "users.describe()"
   ]
  },
  {
   "cell_type": "code",
   "execution_count": 3,
   "metadata": {},
   "outputs": [
    {
     "data": {
      "text/html": [
       "<div>\n",
       "<style scoped>\n",
       "    .dataframe tbody tr th:only-of-type {\n",
       "        vertical-align: middle;\n",
       "    }\n",
       "\n",
       "    .dataframe tbody tr th {\n",
       "        vertical-align: top;\n",
       "    }\n",
       "\n",
       "    .dataframe thead th {\n",
       "        text-align: right;\n",
       "    }\n",
       "</style>\n",
       "<table border=\"1\" class=\"dataframe\">\n",
       "  <thead>\n",
       "    <tr style=\"text-align: right;\">\n",
       "      <th></th>\n",
       "      <th>id</th>\n",
       "      <th>call_date</th>\n",
       "      <th>duration</th>\n",
       "      <th>user_id</th>\n",
       "    </tr>\n",
       "  </thead>\n",
       "  <tbody>\n",
       "    <tr>\n",
       "      <th>0</th>\n",
       "      <td>1000_0</td>\n",
       "      <td>2018-07-25</td>\n",
       "      <td>0.00</td>\n",
       "      <td>1000</td>\n",
       "    </tr>\n",
       "    <tr>\n",
       "      <th>1</th>\n",
       "      <td>1000_1</td>\n",
       "      <td>2018-08-17</td>\n",
       "      <td>0.00</td>\n",
       "      <td>1000</td>\n",
       "    </tr>\n",
       "    <tr>\n",
       "      <th>2</th>\n",
       "      <td>1000_2</td>\n",
       "      <td>2018-06-11</td>\n",
       "      <td>2.85</td>\n",
       "      <td>1000</td>\n",
       "    </tr>\n",
       "    <tr>\n",
       "      <th>3</th>\n",
       "      <td>1000_3</td>\n",
       "      <td>2018-09-21</td>\n",
       "      <td>13.80</td>\n",
       "      <td>1000</td>\n",
       "    </tr>\n",
       "    <tr>\n",
       "      <th>4</th>\n",
       "      <td>1000_4</td>\n",
       "      <td>2018-12-15</td>\n",
       "      <td>5.18</td>\n",
       "      <td>1000</td>\n",
       "    </tr>\n",
       "  </tbody>\n",
       "</table>\n",
       "</div>"
      ],
      "text/plain": [
       "       id   call_date  duration  user_id\n",
       "0  1000_0  2018-07-25      0.00     1000\n",
       "1  1000_1  2018-08-17      0.00     1000\n",
       "2  1000_2  2018-06-11      2.85     1000\n",
       "3  1000_3  2018-09-21     13.80     1000\n",
       "4  1000_4  2018-12-15      5.18     1000"
      ]
     },
     "metadata": {},
     "output_type": "display_data"
    },
    {
     "name": "stdout",
     "output_type": "stream",
     "text": [
      "<class 'pandas.core.frame.DataFrame'>\n",
      "RangeIndex: 202607 entries, 0 to 202606\n",
      "Data columns (total 4 columns):\n",
      " #   Column     Non-Null Count   Dtype  \n",
      "---  ------     --------------   -----  \n",
      " 0   id         202607 non-null  object \n",
      " 1   call_date  202607 non-null  object \n",
      " 2   duration   202607 non-null  float64\n",
      " 3   user_id    202607 non-null  int64  \n",
      "dtypes: float64(1), int64(1), object(2)\n",
      "memory usage: 6.2+ MB\n"
     ]
    },
    {
     "data": {
      "text/plain": [
       "None"
      ]
     },
     "metadata": {},
     "output_type": "display_data"
    },
    {
     "data": {
      "text/html": [
       "<div>\n",
       "<style scoped>\n",
       "    .dataframe tbody tr th:only-of-type {\n",
       "        vertical-align: middle;\n",
       "    }\n",
       "\n",
       "    .dataframe tbody tr th {\n",
       "        vertical-align: top;\n",
       "    }\n",
       "\n",
       "    .dataframe thead th {\n",
       "        text-align: right;\n",
       "    }\n",
       "</style>\n",
       "<table border=\"1\" class=\"dataframe\">\n",
       "  <thead>\n",
       "    <tr style=\"text-align: right;\">\n",
       "      <th></th>\n",
       "      <th>duration</th>\n",
       "      <th>user_id</th>\n",
       "    </tr>\n",
       "  </thead>\n",
       "  <tbody>\n",
       "    <tr>\n",
       "      <th>count</th>\n",
       "      <td>202607.000000</td>\n",
       "      <td>202607.000000</td>\n",
       "    </tr>\n",
       "    <tr>\n",
       "      <th>mean</th>\n",
       "      <td>6.755887</td>\n",
       "      <td>1253.940619</td>\n",
       "    </tr>\n",
       "    <tr>\n",
       "      <th>std</th>\n",
       "      <td>5.843365</td>\n",
       "      <td>144.722751</td>\n",
       "    </tr>\n",
       "    <tr>\n",
       "      <th>min</th>\n",
       "      <td>0.000000</td>\n",
       "      <td>1000.000000</td>\n",
       "    </tr>\n",
       "    <tr>\n",
       "      <th>25%</th>\n",
       "      <td>1.300000</td>\n",
       "      <td>1126.000000</td>\n",
       "    </tr>\n",
       "    <tr>\n",
       "      <th>50%</th>\n",
       "      <td>6.000000</td>\n",
       "      <td>1260.000000</td>\n",
       "    </tr>\n",
       "    <tr>\n",
       "      <th>75%</th>\n",
       "      <td>10.700000</td>\n",
       "      <td>1379.000000</td>\n",
       "    </tr>\n",
       "    <tr>\n",
       "      <th>max</th>\n",
       "      <td>38.000000</td>\n",
       "      <td>1499.000000</td>\n",
       "    </tr>\n",
       "  </tbody>\n",
       "</table>\n",
       "</div>"
      ],
      "text/plain": [
       "            duration        user_id\n",
       "count  202607.000000  202607.000000\n",
       "mean        6.755887    1253.940619\n",
       "std         5.843365     144.722751\n",
       "min         0.000000    1000.000000\n",
       "25%         1.300000    1126.000000\n",
       "50%         6.000000    1260.000000\n",
       "75%        10.700000    1379.000000\n",
       "max        38.000000    1499.000000"
      ]
     },
     "execution_count": 3,
     "metadata": {},
     "output_type": "execute_result"
    }
   ],
   "source": [
    "calls = pd.read_csv('calls.csv')\n",
    "display(calls.head())\n",
    "display(calls.info())\n",
    "calls.describe()"
   ]
  },
  {
   "cell_type": "code",
   "execution_count": 4,
   "metadata": {},
   "outputs": [
    {
     "data": {
      "text/html": [
       "<div>\n",
       "<style scoped>\n",
       "    .dataframe tbody tr th:only-of-type {\n",
       "        vertical-align: middle;\n",
       "    }\n",
       "\n",
       "    .dataframe tbody tr th {\n",
       "        vertical-align: top;\n",
       "    }\n",
       "\n",
       "    .dataframe thead th {\n",
       "        text-align: right;\n",
       "    }\n",
       "</style>\n",
       "<table border=\"1\" class=\"dataframe\">\n",
       "  <thead>\n",
       "    <tr style=\"text-align: right;\">\n",
       "      <th></th>\n",
       "      <th>id</th>\n",
       "      <th>message_date</th>\n",
       "      <th>user_id</th>\n",
       "    </tr>\n",
       "  </thead>\n",
       "  <tbody>\n",
       "    <tr>\n",
       "      <th>0</th>\n",
       "      <td>1000_0</td>\n",
       "      <td>2018-06-27</td>\n",
       "      <td>1000</td>\n",
       "    </tr>\n",
       "    <tr>\n",
       "      <th>1</th>\n",
       "      <td>1000_1</td>\n",
       "      <td>2018-10-08</td>\n",
       "      <td>1000</td>\n",
       "    </tr>\n",
       "    <tr>\n",
       "      <th>2</th>\n",
       "      <td>1000_2</td>\n",
       "      <td>2018-08-04</td>\n",
       "      <td>1000</td>\n",
       "    </tr>\n",
       "    <tr>\n",
       "      <th>3</th>\n",
       "      <td>1000_3</td>\n",
       "      <td>2018-06-16</td>\n",
       "      <td>1000</td>\n",
       "    </tr>\n",
       "    <tr>\n",
       "      <th>4</th>\n",
       "      <td>1000_4</td>\n",
       "      <td>2018-12-05</td>\n",
       "      <td>1000</td>\n",
       "    </tr>\n",
       "  </tbody>\n",
       "</table>\n",
       "</div>"
      ],
      "text/plain": [
       "       id message_date  user_id\n",
       "0  1000_0   2018-06-27     1000\n",
       "1  1000_1   2018-10-08     1000\n",
       "2  1000_2   2018-08-04     1000\n",
       "3  1000_3   2018-06-16     1000\n",
       "4  1000_4   2018-12-05     1000"
      ]
     },
     "metadata": {},
     "output_type": "display_data"
    },
    {
     "name": "stdout",
     "output_type": "stream",
     "text": [
      "<class 'pandas.core.frame.DataFrame'>\n",
      "RangeIndex: 123036 entries, 0 to 123035\n",
      "Data columns (total 3 columns):\n",
      " #   Column        Non-Null Count   Dtype \n",
      "---  ------        --------------   ----- \n",
      " 0   id            123036 non-null  object\n",
      " 1   message_date  123036 non-null  object\n",
      " 2   user_id       123036 non-null  int64 \n",
      "dtypes: int64(1), object(2)\n",
      "memory usage: 2.8+ MB\n"
     ]
    }
   ],
   "source": [
    "messages = pd.read_csv('messages.csv')\n",
    "display(messages.head())\n",
    "messages.info()"
   ]
  },
  {
   "cell_type": "code",
   "execution_count": 5,
   "metadata": {},
   "outputs": [
    {
     "data": {
      "text/html": [
       "<div>\n",
       "<style scoped>\n",
       "    .dataframe tbody tr th:only-of-type {\n",
       "        vertical-align: middle;\n",
       "    }\n",
       "\n",
       "    .dataframe tbody tr th {\n",
       "        vertical-align: top;\n",
       "    }\n",
       "\n",
       "    .dataframe thead th {\n",
       "        text-align: right;\n",
       "    }\n",
       "</style>\n",
       "<table border=\"1\" class=\"dataframe\">\n",
       "  <thead>\n",
       "    <tr style=\"text-align: right;\">\n",
       "      <th></th>\n",
       "      <th>Unnamed: 0</th>\n",
       "      <th>id</th>\n",
       "      <th>mb_used</th>\n",
       "      <th>session_date</th>\n",
       "      <th>user_id</th>\n",
       "    </tr>\n",
       "  </thead>\n",
       "  <tbody>\n",
       "    <tr>\n",
       "      <th>0</th>\n",
       "      <td>0</td>\n",
       "      <td>1000_0</td>\n",
       "      <td>112.95</td>\n",
       "      <td>2018-11-25</td>\n",
       "      <td>1000</td>\n",
       "    </tr>\n",
       "    <tr>\n",
       "      <th>1</th>\n",
       "      <td>1</td>\n",
       "      <td>1000_1</td>\n",
       "      <td>1052.81</td>\n",
       "      <td>2018-09-07</td>\n",
       "      <td>1000</td>\n",
       "    </tr>\n",
       "    <tr>\n",
       "      <th>2</th>\n",
       "      <td>2</td>\n",
       "      <td>1000_2</td>\n",
       "      <td>1197.26</td>\n",
       "      <td>2018-06-25</td>\n",
       "      <td>1000</td>\n",
       "    </tr>\n",
       "    <tr>\n",
       "      <th>3</th>\n",
       "      <td>3</td>\n",
       "      <td>1000_3</td>\n",
       "      <td>550.27</td>\n",
       "      <td>2018-08-22</td>\n",
       "      <td>1000</td>\n",
       "    </tr>\n",
       "    <tr>\n",
       "      <th>4</th>\n",
       "      <td>4</td>\n",
       "      <td>1000_4</td>\n",
       "      <td>302.56</td>\n",
       "      <td>2018-09-24</td>\n",
       "      <td>1000</td>\n",
       "    </tr>\n",
       "  </tbody>\n",
       "</table>\n",
       "</div>"
      ],
      "text/plain": [
       "   Unnamed: 0      id  mb_used session_date  user_id\n",
       "0           0  1000_0   112.95   2018-11-25     1000\n",
       "1           1  1000_1  1052.81   2018-09-07     1000\n",
       "2           2  1000_2  1197.26   2018-06-25     1000\n",
       "3           3  1000_3   550.27   2018-08-22     1000\n",
       "4           4  1000_4   302.56   2018-09-24     1000"
      ]
     },
     "metadata": {},
     "output_type": "display_data"
    },
    {
     "name": "stdout",
     "output_type": "stream",
     "text": [
      "<class 'pandas.core.frame.DataFrame'>\n",
      "RangeIndex: 149396 entries, 0 to 149395\n",
      "Data columns (total 5 columns):\n",
      " #   Column        Non-Null Count   Dtype  \n",
      "---  ------        --------------   -----  \n",
      " 0   Unnamed: 0    149396 non-null  int64  \n",
      " 1   id            149396 non-null  object \n",
      " 2   mb_used       149396 non-null  float64\n",
      " 3   session_date  149396 non-null  object \n",
      " 4   user_id       149396 non-null  int64  \n",
      "dtypes: float64(1), int64(2), object(2)\n",
      "memory usage: 5.7+ MB\n"
     ]
    },
    {
     "data": {
      "text/plain": [
       "None"
      ]
     },
     "metadata": {},
     "output_type": "display_data"
    },
    {
     "data": {
      "text/html": [
       "<div>\n",
       "<style scoped>\n",
       "    .dataframe tbody tr th:only-of-type {\n",
       "        vertical-align: middle;\n",
       "    }\n",
       "\n",
       "    .dataframe tbody tr th {\n",
       "        vertical-align: top;\n",
       "    }\n",
       "\n",
       "    .dataframe thead th {\n",
       "        text-align: right;\n",
       "    }\n",
       "</style>\n",
       "<table border=\"1\" class=\"dataframe\">\n",
       "  <thead>\n",
       "    <tr style=\"text-align: right;\">\n",
       "      <th></th>\n",
       "      <th>Unnamed: 0</th>\n",
       "      <th>mb_used</th>\n",
       "      <th>user_id</th>\n",
       "    </tr>\n",
       "  </thead>\n",
       "  <tbody>\n",
       "    <tr>\n",
       "      <th>count</th>\n",
       "      <td>149396.000000</td>\n",
       "      <td>149396.000000</td>\n",
       "      <td>149396.000000</td>\n",
       "    </tr>\n",
       "    <tr>\n",
       "      <th>mean</th>\n",
       "      <td>74697.500000</td>\n",
       "      <td>370.192426</td>\n",
       "      <td>1252.099842</td>\n",
       "    </tr>\n",
       "    <tr>\n",
       "      <th>std</th>\n",
       "      <td>43127.054745</td>\n",
       "      <td>278.300951</td>\n",
       "      <td>144.050823</td>\n",
       "    </tr>\n",
       "    <tr>\n",
       "      <th>min</th>\n",
       "      <td>0.000000</td>\n",
       "      <td>0.000000</td>\n",
       "      <td>1000.000000</td>\n",
       "    </tr>\n",
       "    <tr>\n",
       "      <th>25%</th>\n",
       "      <td>37348.750000</td>\n",
       "      <td>138.187500</td>\n",
       "      <td>1130.000000</td>\n",
       "    </tr>\n",
       "    <tr>\n",
       "      <th>50%</th>\n",
       "      <td>74697.500000</td>\n",
       "      <td>348.015000</td>\n",
       "      <td>1251.000000</td>\n",
       "    </tr>\n",
       "    <tr>\n",
       "      <th>75%</th>\n",
       "      <td>112046.250000</td>\n",
       "      <td>559.552500</td>\n",
       "      <td>1380.000000</td>\n",
       "    </tr>\n",
       "    <tr>\n",
       "      <th>max</th>\n",
       "      <td>149395.000000</td>\n",
       "      <td>1724.830000</td>\n",
       "      <td>1499.000000</td>\n",
       "    </tr>\n",
       "  </tbody>\n",
       "</table>\n",
       "</div>"
      ],
      "text/plain": [
       "          Unnamed: 0        mb_used        user_id\n",
       "count  149396.000000  149396.000000  149396.000000\n",
       "mean    74697.500000     370.192426    1252.099842\n",
       "std     43127.054745     278.300951     144.050823\n",
       "min         0.000000       0.000000    1000.000000\n",
       "25%     37348.750000     138.187500    1130.000000\n",
       "50%     74697.500000     348.015000    1251.000000\n",
       "75%    112046.250000     559.552500    1380.000000\n",
       "max    149395.000000    1724.830000    1499.000000"
      ]
     },
     "execution_count": 5,
     "metadata": {},
     "output_type": "execute_result"
    }
   ],
   "source": [
    "internet = pd.read_csv('internet.csv')\n",
    "display(internet.head())\n",
    "display(internet.info())\n",
    "internet.describe()"
   ]
  },
  {
   "cell_type": "code",
   "execution_count": 6,
   "metadata": {},
   "outputs": [
    {
     "data": {
      "text/html": [
       "<div>\n",
       "<style scoped>\n",
       "    .dataframe tbody tr th:only-of-type {\n",
       "        vertical-align: middle;\n",
       "    }\n",
       "\n",
       "    .dataframe tbody tr th {\n",
       "        vertical-align: top;\n",
       "    }\n",
       "\n",
       "    .dataframe thead th {\n",
       "        text-align: right;\n",
       "    }\n",
       "</style>\n",
       "<table border=\"1\" class=\"dataframe\">\n",
       "  <thead>\n",
       "    <tr style=\"text-align: right;\">\n",
       "      <th></th>\n",
       "      <th>messages_included</th>\n",
       "      <th>mb_per_month_included</th>\n",
       "      <th>minutes_included</th>\n",
       "      <th>rub_monthly_fee</th>\n",
       "      <th>rub_per_gb</th>\n",
       "      <th>rub_per_message</th>\n",
       "      <th>rub_per_minute</th>\n",
       "      <th>tariff_name</th>\n",
       "    </tr>\n",
       "  </thead>\n",
       "  <tbody>\n",
       "    <tr>\n",
       "      <th>0</th>\n",
       "      <td>50</td>\n",
       "      <td>15360</td>\n",
       "      <td>500</td>\n",
       "      <td>550</td>\n",
       "      <td>200</td>\n",
       "      <td>3</td>\n",
       "      <td>3</td>\n",
       "      <td>smart</td>\n",
       "    </tr>\n",
       "    <tr>\n",
       "      <th>1</th>\n",
       "      <td>1000</td>\n",
       "      <td>30720</td>\n",
       "      <td>3000</td>\n",
       "      <td>1950</td>\n",
       "      <td>150</td>\n",
       "      <td>1</td>\n",
       "      <td>1</td>\n",
       "      <td>ultra</td>\n",
       "    </tr>\n",
       "  </tbody>\n",
       "</table>\n",
       "</div>"
      ],
      "text/plain": [
       "   messages_included  mb_per_month_included  minutes_included  \\\n",
       "0                 50                  15360               500   \n",
       "1               1000                  30720              3000   \n",
       "\n",
       "   rub_monthly_fee  rub_per_gb  rub_per_message  rub_per_minute tariff_name  \n",
       "0              550         200                3               3       smart  \n",
       "1             1950         150                1               1       ultra  "
      ]
     },
     "metadata": {},
     "output_type": "display_data"
    },
    {
     "name": "stdout",
     "output_type": "stream",
     "text": [
      "<class 'pandas.core.frame.DataFrame'>\n",
      "RangeIndex: 2 entries, 0 to 1\n",
      "Data columns (total 8 columns):\n",
      " #   Column                 Non-Null Count  Dtype \n",
      "---  ------                 --------------  ----- \n",
      " 0   messages_included      2 non-null      int64 \n",
      " 1   mb_per_month_included  2 non-null      int64 \n",
      " 2   minutes_included       2 non-null      int64 \n",
      " 3   rub_monthly_fee        2 non-null      int64 \n",
      " 4   rub_per_gb             2 non-null      int64 \n",
      " 5   rub_per_message        2 non-null      int64 \n",
      " 6   rub_per_minute         2 non-null      int64 \n",
      " 7   tariff_name            2 non-null      object\n",
      "dtypes: int64(7), object(1)\n",
      "memory usage: 256.0+ bytes\n"
     ]
    },
    {
     "data": {
      "text/plain": [
       "None"
      ]
     },
     "metadata": {},
     "output_type": "display_data"
    },
    {
     "data": {
      "text/html": [
       "<div>\n",
       "<style scoped>\n",
       "    .dataframe tbody tr th:only-of-type {\n",
       "        vertical-align: middle;\n",
       "    }\n",
       "\n",
       "    .dataframe tbody tr th {\n",
       "        vertical-align: top;\n",
       "    }\n",
       "\n",
       "    .dataframe thead th {\n",
       "        text-align: right;\n",
       "    }\n",
       "</style>\n",
       "<table border=\"1\" class=\"dataframe\">\n",
       "  <thead>\n",
       "    <tr style=\"text-align: right;\">\n",
       "      <th></th>\n",
       "      <th>messages_included</th>\n",
       "      <th>mb_per_month_included</th>\n",
       "      <th>minutes_included</th>\n",
       "      <th>rub_monthly_fee</th>\n",
       "      <th>rub_per_gb</th>\n",
       "      <th>rub_per_message</th>\n",
       "      <th>rub_per_minute</th>\n",
       "    </tr>\n",
       "  </thead>\n",
       "  <tbody>\n",
       "    <tr>\n",
       "      <th>count</th>\n",
       "      <td>2.000000</td>\n",
       "      <td>2.000000</td>\n",
       "      <td>2.000000</td>\n",
       "      <td>2.000000</td>\n",
       "      <td>2.000000</td>\n",
       "      <td>2.000000</td>\n",
       "      <td>2.000000</td>\n",
       "    </tr>\n",
       "    <tr>\n",
       "      <th>mean</th>\n",
       "      <td>525.000000</td>\n",
       "      <td>23040.000000</td>\n",
       "      <td>1750.000000</td>\n",
       "      <td>1250.000000</td>\n",
       "      <td>175.000000</td>\n",
       "      <td>2.000000</td>\n",
       "      <td>2.000000</td>\n",
       "    </tr>\n",
       "    <tr>\n",
       "      <th>std</th>\n",
       "      <td>671.751442</td>\n",
       "      <td>10861.160159</td>\n",
       "      <td>1767.766953</td>\n",
       "      <td>989.949494</td>\n",
       "      <td>35.355339</td>\n",
       "      <td>1.414214</td>\n",
       "      <td>1.414214</td>\n",
       "    </tr>\n",
       "    <tr>\n",
       "      <th>min</th>\n",
       "      <td>50.000000</td>\n",
       "      <td>15360.000000</td>\n",
       "      <td>500.000000</td>\n",
       "      <td>550.000000</td>\n",
       "      <td>150.000000</td>\n",
       "      <td>1.000000</td>\n",
       "      <td>1.000000</td>\n",
       "    </tr>\n",
       "    <tr>\n",
       "      <th>25%</th>\n",
       "      <td>287.500000</td>\n",
       "      <td>19200.000000</td>\n",
       "      <td>1125.000000</td>\n",
       "      <td>900.000000</td>\n",
       "      <td>162.500000</td>\n",
       "      <td>1.500000</td>\n",
       "      <td>1.500000</td>\n",
       "    </tr>\n",
       "    <tr>\n",
       "      <th>50%</th>\n",
       "      <td>525.000000</td>\n",
       "      <td>23040.000000</td>\n",
       "      <td>1750.000000</td>\n",
       "      <td>1250.000000</td>\n",
       "      <td>175.000000</td>\n",
       "      <td>2.000000</td>\n",
       "      <td>2.000000</td>\n",
       "    </tr>\n",
       "    <tr>\n",
       "      <th>75%</th>\n",
       "      <td>762.500000</td>\n",
       "      <td>26880.000000</td>\n",
       "      <td>2375.000000</td>\n",
       "      <td>1600.000000</td>\n",
       "      <td>187.500000</td>\n",
       "      <td>2.500000</td>\n",
       "      <td>2.500000</td>\n",
       "    </tr>\n",
       "    <tr>\n",
       "      <th>max</th>\n",
       "      <td>1000.000000</td>\n",
       "      <td>30720.000000</td>\n",
       "      <td>3000.000000</td>\n",
       "      <td>1950.000000</td>\n",
       "      <td>200.000000</td>\n",
       "      <td>3.000000</td>\n",
       "      <td>3.000000</td>\n",
       "    </tr>\n",
       "  </tbody>\n",
       "</table>\n",
       "</div>"
      ],
      "text/plain": [
       "       messages_included  mb_per_month_included  minutes_included  \\\n",
       "count           2.000000               2.000000          2.000000   \n",
       "mean          525.000000           23040.000000       1750.000000   \n",
       "std           671.751442           10861.160159       1767.766953   \n",
       "min            50.000000           15360.000000        500.000000   \n",
       "25%           287.500000           19200.000000       1125.000000   \n",
       "50%           525.000000           23040.000000       1750.000000   \n",
       "75%           762.500000           26880.000000       2375.000000   \n",
       "max          1000.000000           30720.000000       3000.000000   \n",
       "\n",
       "       rub_monthly_fee  rub_per_gb  rub_per_message  rub_per_minute  \n",
       "count         2.000000    2.000000         2.000000        2.000000  \n",
       "mean       1250.000000  175.000000         2.000000        2.000000  \n",
       "std         989.949494   35.355339         1.414214        1.414214  \n",
       "min         550.000000  150.000000         1.000000        1.000000  \n",
       "25%         900.000000  162.500000         1.500000        1.500000  \n",
       "50%        1250.000000  175.000000         2.000000        2.000000  \n",
       "75%        1600.000000  187.500000         2.500000        2.500000  \n",
       "max        1950.000000  200.000000         3.000000        3.000000  "
      ]
     },
     "execution_count": 6,
     "metadata": {},
     "output_type": "execute_result"
    }
   ],
   "source": [
    "tariffs = pd.read_csv('tariffs.csv')\n",
    "display(tariffs.head())\n",
    "display(tariffs.info())\n",
    "tariffs.describe()"
   ]
  },
  {
   "cell_type": "markdown",
   "metadata": {},
   "source": [
    "### Вывод"
   ]
  },
  {
   "cell_type": "markdown",
   "metadata": {},
   "source": [
    "После первого знакомства с данными, можно сделать выводы:\n",
    "\n",
    "* Датасет содержит данные по 500 клиентам;\n",
    "* Местами указан некорректный тип данных;\n",
    "* Необходимо проверить данные на наличие дубликатов;\n",
    "* Встречаются пропущенные значения в колонке churn_date в таблице users;\n",
    "* Необходимо будет округлить значения минут разговора и мегабайт использованного трафика в большую сторону;\n",
    "* Портрет среднестатистического пользователя, следующий: клиент в возрасте 46 лет, длительность звонка – 6-7 минут, объём потраченного за сессию интернет-трафика – 348 мегабайт.\n",
    "\n",
    "Это только первоначальные наблюдения. Проведем подробную предобработку данных, чтобы выявить возможные аномалии. "
   ]
  },
  {
   "cell_type": "markdown",
   "metadata": {},
   "source": [
    "## Шаг 2. Подготовка данных"
   ]
  },
  {
   "cell_type": "markdown",
   "metadata": {},
   "source": [
    "Для начала изменим тип данных в ряде колонок. Это нам поможет при дальнейшей обработке."
   ]
  },
  {
   "cell_type": "code",
   "execution_count": 7,
   "metadata": {},
   "outputs": [],
   "source": [
    "users['reg_date'] = pd.to_datetime(users['reg_date'], format = '%Y-%m-%d')\n",
    "users['churn_date'] = pd.to_datetime(users['churn_date'], format = '%Y-%m-%d')\n",
    "calls['call_date'] = pd.to_datetime(calls['call_date'], format = '%Y-%m-%d')\n",
    "messages['message_date'] = pd.to_datetime(messages['message_date'], format = '%Y-%m-%d')\n",
    "internet['session_date'] = pd.to_datetime(internet['session_date'], format = '%Y-%m-%d')"
   ]
  },
  {
   "cell_type": "markdown",
   "metadata": {},
   "source": [
    "Проверим несколько колонок на наличие опечаток. "
   ]
  },
  {
   "cell_type": "code",
   "execution_count": 8,
   "metadata": {},
   "outputs": [
    {
     "data": {
      "text/plain": [
       "array(['Архангельск', 'Астрахань', 'Балашиха', 'Барнаул', 'Белгород',\n",
       "       'Брянск', 'Владивосток', 'Владикавказ', 'Владимир', 'Волгоград',\n",
       "       'Волжский', 'Вологда', 'Воронеж', 'Грозный', 'Екатеринбург',\n",
       "       'Иваново', 'Ижевск', 'Иркутск', 'Казань', 'Калининград', 'Калуга',\n",
       "       'Кемерово', 'Киров', 'Кострома', 'Краснодар', 'Красноярск',\n",
       "       'Курган', 'Курск', 'Липецк', 'Магнитогорск', 'Махачкала', 'Москва',\n",
       "       'Мурманск', 'Набережные Челны', 'Нижневартовск', 'Нижний Новгород',\n",
       "       'Нижний Тагил', 'Новокузнецк', 'Новороссийск', 'Новосибирск',\n",
       "       'Омск', 'Оренбург', 'Орёл', 'Пенза', 'Пермь', 'Петрозаводск',\n",
       "       'Подольск', 'Ростов-на-Дону', 'Рязань', 'Самара',\n",
       "       'Санкт-Петербург', 'Саранск', 'Саратов', 'Севастополь', 'Смоленск',\n",
       "       'Сочи', 'Ставрополь', 'Стерлитамак', 'Сургут', 'Тамбов', 'Тверь',\n",
       "       'Тольятти', 'Томск', 'Тула', 'Тюмень', 'Улан-Удэ', 'Ульяновск',\n",
       "       'Уфа', 'Хабаровск', 'Химки', 'Чебоксары', 'Челябинск', 'Череповец',\n",
       "       'Чита', 'Якутск', 'Ярославль'], dtype=object)"
      ]
     },
     "execution_count": 8,
     "metadata": {},
     "output_type": "execute_result"
    }
   ],
   "source": [
    "users['city'].sort_values().unique()"
   ]
  },
  {
   "cell_type": "code",
   "execution_count": 9,
   "metadata": {},
   "outputs": [
    {
     "data": {
      "text/plain": [
       "array(['smart', 'ultra'], dtype=object)"
      ]
     },
     "execution_count": 9,
     "metadata": {},
     "output_type": "execute_result"
    }
   ],
   "source": [
    "users['tariff'].sort_values().unique()"
   ]
  },
  {
   "cell_type": "code",
   "execution_count": 10,
   "metadata": {},
   "outputs": [
    {
     "data": {
      "text/plain": [
       "array(['smart', 'ultra'], dtype=object)"
      ]
     },
     "execution_count": 10,
     "metadata": {},
     "output_type": "execute_result"
    }
   ],
   "source": [
    "tariffs['tariff_name'].sort_values().unique()"
   ]
  },
  {
   "cell_type": "markdown",
   "metadata": {},
   "source": [
    "Проверим данные на наличие дубликатов."
   ]
  },
  {
   "cell_type": "code",
   "execution_count": 11,
   "metadata": {},
   "outputs": [
    {
     "name": "stdout",
     "output_type": "stream",
     "text": [
      "0\n",
      "0\n",
      "0\n",
      "0\n",
      "0\n"
     ]
    }
   ],
   "source": [
    "print(users.duplicated().sum())\n",
    "print(calls.duplicated().sum())\n",
    "print(messages.duplicated().sum())\n",
    "print(internet.duplicated().sum())\n",
    "print(tariffs.duplicated().sum())"
   ]
  },
  {
   "cell_type": "markdown",
   "metadata": {},
   "source": [
    "Пропущенные значения встречаются только в таблице users в колонке churn_date. Это не ошибка. Пропущенное значение говорит, что тариф ещё действует на момент выгрузки данных."
   ]
  },
  {
   "cell_type": "code",
   "execution_count": 12,
   "metadata": {},
   "outputs": [
    {
     "data": {
      "text/plain": [
       "user_id         0\n",
       "age             0\n",
       "churn_date    462\n",
       "city            0\n",
       "first_name      0\n",
       "last_name       0\n",
       "reg_date        0\n",
       "tariff          0\n",
       "dtype: int64"
      ]
     },
     "execution_count": 12,
     "metadata": {},
     "output_type": "execute_result"
    }
   ],
   "source": [
    "users.isna().sum()"
   ]
  },
  {
   "cell_type": "markdown",
   "metadata": {},
   "source": [
    "\"Мегалайн\" всегда округляет секунды до минут, а мегабайты — до гигабайта. Каждый звонок округляется отдельно: даже если он длился всего 1 секунду, будет засчитан как 1 минута.\n",
    "\n",
    "Для веб-трафика отдельные сессии не считаются. Вместо этого общая сумма за месяц округляется в большую сторону. Если абонент использует 1025 мегабайт в этом месяце, с него возьмут плату за 2 гигабайта. "
   ]
  },
  {
   "cell_type": "markdown",
   "metadata": {},
   "source": [
    "Округлим значения в таблицах **calls** до минут. Воспользуемся методом np.ceil. \n",
    "\n",
    "В данных встречаются звонки с нулевой продолжительностью. Это не ошибка: нулями обозначены пропущенные звонки, поэтому их не нужно удалять."
   ]
  },
  {
   "cell_type": "code",
   "execution_count": 13,
   "metadata": {},
   "outputs": [],
   "source": [
    "calls['duration'] = np.ceil(calls['duration'])"
   ]
  },
  {
   "cell_type": "markdown",
   "metadata": {},
   "source": [
    "Теперь округлим значения в таблицах **internet** до гигабайта. Для веб-трафика отдельные сессии не считаются. Вместо этого общая сумма за месяц округляется в большую сторону. \n",
    "\n",
    "Для начала отсортируем данные в колонке mb_used, чтобы узнать минимально и максимальное значение. "
   ]
  },
  {
   "cell_type": "code",
   "execution_count": 14,
   "metadata": {},
   "outputs": [
    {
     "data": {
      "text/plain": [
       "0.00       19598\n",
       "0.03           1\n",
       "0.04           1\n",
       "0.06           1\n",
       "0.07           2\n",
       "           ...  \n",
       "1623.92        1\n",
       "1651.25        1\n",
       "1651.55        1\n",
       "1702.75        1\n",
       "1724.83        1\n",
       "Name: mb_used, Length: 70003, dtype: int64"
      ]
     },
     "execution_count": 14,
     "metadata": {},
     "output_type": "execute_result"
    }
   ],
   "source": [
    "internet['mb_used'].value_counts().sort_index()"
   ]
  },
  {
   "cell_type": "markdown",
   "metadata": {},
   "source": [
    "В колонке встречаются нулевые значения. Предположим, что пользователи не успели воспользоваться интернетом. Не будем удалять эти значения. "
   ]
  },
  {
   "cell_type": "code",
   "execution_count": 15,
   "metadata": {},
   "outputs": [],
   "source": [
    "def internet_mb_used (mb):\n",
    "    if mb == 0.00:\n",
    "        return 0.00\n",
    "    if 0.01 <= mb <= 1024.00:\n",
    "        return 1.00\n",
    "    if 1024.01 <= mb <= 2048.00:\n",
    "        return 2.00\n",
    "    return 3.00"
   ]
  },
  {
   "cell_type": "code",
   "execution_count": 16,
   "metadata": {},
   "outputs": [
    {
     "data": {
      "text/plain": [
       "0.0     19598\n",
       "1.0    127454\n",
       "2.0      2344\n",
       "Name: gb_used, dtype: int64"
      ]
     },
     "execution_count": 16,
     "metadata": {},
     "output_type": "execute_result"
    }
   ],
   "source": [
    "internet['gb_used'] = internet['mb_used'].apply(internet_mb_used)\n",
    "internet['gb_used'].value_counts().sort_index()"
   ]
  },
  {
   "cell_type": "markdown",
   "metadata": {},
   "source": [
    "Готово. Мы округлили объём потраченного за сессию интернет-трафика до целого гигабайта."
   ]
  },
  {
   "cell_type": "markdown",
   "metadata": {},
   "source": [
    "**Рассчитаем для каждого пользователя:**"
   ]
  },
  {
   "cell_type": "markdown",
   "metadata": {},
   "source": [
    "1. Количество сделанных звонков и израсходованных минут разговора по месяцам."
   ]
  },
  {
   "cell_type": "markdown",
   "metadata": {},
   "source": [
    "Для начала создадим новую колонку и внесем в нее номера месяцев. Данные предоставленные только за 2018 год, по этой причине мы можем воспользоваться методом .dt.month. "
   ]
  },
  {
   "cell_type": "code",
   "execution_count": 17,
   "metadata": {},
   "outputs": [
    {
     "data": {
      "text/html": [
       "<div>\n",
       "<style scoped>\n",
       "    .dataframe tbody tr th:only-of-type {\n",
       "        vertical-align: middle;\n",
       "    }\n",
       "\n",
       "    .dataframe tbody tr th {\n",
       "        vertical-align: top;\n",
       "    }\n",
       "\n",
       "    .dataframe thead th {\n",
       "        text-align: right;\n",
       "    }\n",
       "</style>\n",
       "<table border=\"1\" class=\"dataframe\">\n",
       "  <thead>\n",
       "    <tr style=\"text-align: right;\">\n",
       "      <th></th>\n",
       "      <th>id</th>\n",
       "      <th>call_date</th>\n",
       "      <th>duration</th>\n",
       "      <th>user_id</th>\n",
       "      <th>month</th>\n",
       "    </tr>\n",
       "  </thead>\n",
       "  <tbody>\n",
       "    <tr>\n",
       "      <th>0</th>\n",
       "      <td>1000_0</td>\n",
       "      <td>2018-07-25</td>\n",
       "      <td>0.0</td>\n",
       "      <td>1000</td>\n",
       "      <td>7</td>\n",
       "    </tr>\n",
       "    <tr>\n",
       "      <th>1</th>\n",
       "      <td>1000_1</td>\n",
       "      <td>2018-08-17</td>\n",
       "      <td>0.0</td>\n",
       "      <td>1000</td>\n",
       "      <td>8</td>\n",
       "    </tr>\n",
       "  </tbody>\n",
       "</table>\n",
       "</div>"
      ],
      "text/plain": [
       "       id  call_date  duration  user_id  month\n",
       "0  1000_0 2018-07-25       0.0     1000      7\n",
       "1  1000_1 2018-08-17       0.0     1000      8"
      ]
     },
     "execution_count": 17,
     "metadata": {},
     "output_type": "execute_result"
    }
   ],
   "source": [
    "calls['month'] = calls['call_date'].dt.month\n",
    "calls.head(2)"
   ]
  },
  {
   "cell_type": "markdown",
   "metadata": {},
   "source": [
    "Теперь мы можем определить количество сделанных звонков и израсходованных минут разговора по месяцам для каждого клиента. "
   ]
  },
  {
   "cell_type": "code",
   "execution_count": 18,
   "metadata": {},
   "outputs": [
    {
     "data": {
      "text/html": [
       "<div>\n",
       "<style scoped>\n",
       "    .dataframe tbody tr th:only-of-type {\n",
       "        vertical-align: middle;\n",
       "    }\n",
       "\n",
       "    .dataframe tbody tr th {\n",
       "        vertical-align: top;\n",
       "    }\n",
       "\n",
       "    .dataframe thead th {\n",
       "        text-align: right;\n",
       "    }\n",
       "</style>\n",
       "<table border=\"1\" class=\"dataframe\">\n",
       "  <thead>\n",
       "    <tr style=\"text-align: right;\">\n",
       "      <th></th>\n",
       "      <th></th>\n",
       "      <th>calls_count</th>\n",
       "      <th>calls_sum</th>\n",
       "    </tr>\n",
       "    <tr>\n",
       "      <th>user_id</th>\n",
       "      <th>month</th>\n",
       "      <th></th>\n",
       "      <th></th>\n",
       "    </tr>\n",
       "  </thead>\n",
       "  <tbody>\n",
       "    <tr>\n",
       "      <th rowspan=\"5\" valign=\"top\">1000</th>\n",
       "      <th>5</th>\n",
       "      <td>22</td>\n",
       "      <td>159.0</td>\n",
       "    </tr>\n",
       "    <tr>\n",
       "      <th>6</th>\n",
       "      <td>43</td>\n",
       "      <td>172.0</td>\n",
       "    </tr>\n",
       "    <tr>\n",
       "      <th>7</th>\n",
       "      <td>47</td>\n",
       "      <td>340.0</td>\n",
       "    </tr>\n",
       "    <tr>\n",
       "      <th>8</th>\n",
       "      <td>52</td>\n",
       "      <td>408.0</td>\n",
       "    </tr>\n",
       "    <tr>\n",
       "      <th>9</th>\n",
       "      <td>58</td>\n",
       "      <td>466.0</td>\n",
       "    </tr>\n",
       "    <tr>\n",
       "      <th>...</th>\n",
       "      <th>...</th>\n",
       "      <td>...</td>\n",
       "      <td>...</td>\n",
       "    </tr>\n",
       "    <tr>\n",
       "      <th>1498</th>\n",
       "      <th>10</th>\n",
       "      <td>41</td>\n",
       "      <td>247.0</td>\n",
       "    </tr>\n",
       "    <tr>\n",
       "      <th rowspan=\"4\" valign=\"top\">1499</th>\n",
       "      <th>9</th>\n",
       "      <td>9</td>\n",
       "      <td>70.0</td>\n",
       "    </tr>\n",
       "    <tr>\n",
       "      <th>10</th>\n",
       "      <td>68</td>\n",
       "      <td>449.0</td>\n",
       "    </tr>\n",
       "    <tr>\n",
       "      <th>11</th>\n",
       "      <td>74</td>\n",
       "      <td>612.0</td>\n",
       "    </tr>\n",
       "    <tr>\n",
       "      <th>12</th>\n",
       "      <td>69</td>\n",
       "      <td>492.0</td>\n",
       "    </tr>\n",
       "  </tbody>\n",
       "</table>\n",
       "<p>3174 rows × 2 columns</p>\n",
       "</div>"
      ],
      "text/plain": [
       "               calls_count  calls_sum\n",
       "user_id month                        \n",
       "1000    5               22      159.0\n",
       "        6               43      172.0\n",
       "        7               47      340.0\n",
       "        8               52      408.0\n",
       "        9               58      466.0\n",
       "...                    ...        ...\n",
       "1498    10              41      247.0\n",
       "1499    9                9       70.0\n",
       "        10              68      449.0\n",
       "        11              74      612.0\n",
       "        12              69      492.0\n",
       "\n",
       "[3174 rows x 2 columns]"
      ]
     },
     "execution_count": 18,
     "metadata": {},
     "output_type": "execute_result"
    }
   ],
   "source": [
    "calls_total = calls.pivot_table(index = ['user_id', 'month'], values = 'duration', aggfunc = ['count', 'sum'])\n",
    "calls_total.columns = ['calls_count', 'calls_sum']\n",
    "calls_total.sort_index()"
   ]
  },
  {
   "cell_type": "markdown",
   "metadata": {},
   "source": [
    "2. Количество отправленных сообщений по месяцам. "
   ]
  },
  {
   "cell_type": "code",
   "execution_count": 19,
   "metadata": {},
   "outputs": [
    {
     "data": {
      "text/html": [
       "<div>\n",
       "<style scoped>\n",
       "    .dataframe tbody tr th:only-of-type {\n",
       "        vertical-align: middle;\n",
       "    }\n",
       "\n",
       "    .dataframe tbody tr th {\n",
       "        vertical-align: top;\n",
       "    }\n",
       "\n",
       "    .dataframe thead th {\n",
       "        text-align: right;\n",
       "    }\n",
       "</style>\n",
       "<table border=\"1\" class=\"dataframe\">\n",
       "  <thead>\n",
       "    <tr style=\"text-align: right;\">\n",
       "      <th></th>\n",
       "      <th>id</th>\n",
       "      <th>message_date</th>\n",
       "      <th>user_id</th>\n",
       "      <th>month</th>\n",
       "    </tr>\n",
       "  </thead>\n",
       "  <tbody>\n",
       "    <tr>\n",
       "      <th>0</th>\n",
       "      <td>1000_0</td>\n",
       "      <td>2018-06-27</td>\n",
       "      <td>1000</td>\n",
       "      <td>6</td>\n",
       "    </tr>\n",
       "    <tr>\n",
       "      <th>1</th>\n",
       "      <td>1000_1</td>\n",
       "      <td>2018-10-08</td>\n",
       "      <td>1000</td>\n",
       "      <td>10</td>\n",
       "    </tr>\n",
       "    <tr>\n",
       "      <th>2</th>\n",
       "      <td>1000_2</td>\n",
       "      <td>2018-08-04</td>\n",
       "      <td>1000</td>\n",
       "      <td>8</td>\n",
       "    </tr>\n",
       "    <tr>\n",
       "      <th>3</th>\n",
       "      <td>1000_3</td>\n",
       "      <td>2018-06-16</td>\n",
       "      <td>1000</td>\n",
       "      <td>6</td>\n",
       "    </tr>\n",
       "    <tr>\n",
       "      <th>4</th>\n",
       "      <td>1000_4</td>\n",
       "      <td>2018-12-05</td>\n",
       "      <td>1000</td>\n",
       "      <td>12</td>\n",
       "    </tr>\n",
       "  </tbody>\n",
       "</table>\n",
       "</div>"
      ],
      "text/plain": [
       "       id message_date  user_id  month\n",
       "0  1000_0   2018-06-27     1000      6\n",
       "1  1000_1   2018-10-08     1000     10\n",
       "2  1000_2   2018-08-04     1000      8\n",
       "3  1000_3   2018-06-16     1000      6\n",
       "4  1000_4   2018-12-05     1000     12"
      ]
     },
     "execution_count": 19,
     "metadata": {},
     "output_type": "execute_result"
    }
   ],
   "source": [
    "messages['month'] = messages['message_date'].dt.month\n",
    "messages.head()"
   ]
  },
  {
   "cell_type": "code",
   "execution_count": 20,
   "metadata": {},
   "outputs": [
    {
     "data": {
      "text/html": [
       "<div>\n",
       "<style scoped>\n",
       "    .dataframe tbody tr th:only-of-type {\n",
       "        vertical-align: middle;\n",
       "    }\n",
       "\n",
       "    .dataframe tbody tr th {\n",
       "        vertical-align: top;\n",
       "    }\n",
       "\n",
       "    .dataframe thead th {\n",
       "        text-align: right;\n",
       "    }\n",
       "</style>\n",
       "<table border=\"1\" class=\"dataframe\">\n",
       "  <thead>\n",
       "    <tr style=\"text-align: right;\">\n",
       "      <th></th>\n",
       "      <th></th>\n",
       "      <th>messages_count</th>\n",
       "    </tr>\n",
       "    <tr>\n",
       "      <th>user_id</th>\n",
       "      <th>month</th>\n",
       "      <th></th>\n",
       "    </tr>\n",
       "  </thead>\n",
       "  <tbody>\n",
       "    <tr>\n",
       "      <th rowspan=\"5\" valign=\"top\">1000</th>\n",
       "      <th>5</th>\n",
       "      <td>22</td>\n",
       "    </tr>\n",
       "    <tr>\n",
       "      <th>6</th>\n",
       "      <td>60</td>\n",
       "    </tr>\n",
       "    <tr>\n",
       "      <th>7</th>\n",
       "      <td>75</td>\n",
       "    </tr>\n",
       "    <tr>\n",
       "      <th>8</th>\n",
       "      <td>81</td>\n",
       "    </tr>\n",
       "    <tr>\n",
       "      <th>9</th>\n",
       "      <td>57</td>\n",
       "    </tr>\n",
       "    <tr>\n",
       "      <th>...</th>\n",
       "      <th>...</th>\n",
       "      <td>...</td>\n",
       "    </tr>\n",
       "    <tr>\n",
       "      <th>1498</th>\n",
       "      <th>10</th>\n",
       "      <td>42</td>\n",
       "    </tr>\n",
       "    <tr>\n",
       "      <th rowspan=\"4\" valign=\"top\">1499</th>\n",
       "      <th>9</th>\n",
       "      <td>11</td>\n",
       "    </tr>\n",
       "    <tr>\n",
       "      <th>10</th>\n",
       "      <td>48</td>\n",
       "    </tr>\n",
       "    <tr>\n",
       "      <th>11</th>\n",
       "      <td>59</td>\n",
       "    </tr>\n",
       "    <tr>\n",
       "      <th>12</th>\n",
       "      <td>66</td>\n",
       "    </tr>\n",
       "  </tbody>\n",
       "</table>\n",
       "<p>2717 rows × 1 columns</p>\n",
       "</div>"
      ],
      "text/plain": [
       "               messages_count\n",
       "user_id month                \n",
       "1000    5                  22\n",
       "        6                  60\n",
       "        7                  75\n",
       "        8                  81\n",
       "        9                  57\n",
       "...                       ...\n",
       "1498    10                 42\n",
       "1499    9                  11\n",
       "        10                 48\n",
       "        11                 59\n",
       "        12                 66\n",
       "\n",
       "[2717 rows x 1 columns]"
      ]
     },
     "execution_count": 20,
     "metadata": {},
     "output_type": "execute_result"
    }
   ],
   "source": [
    "messages_total = messages.pivot_table(index = ['user_id', 'month'], values = 'id', aggfunc = ['count'])\n",
    "messages_total.columns = ['messages_count']\n",
    "messages_total.sort_index()"
   ]
  },
  {
   "cell_type": "markdown",
   "metadata": {},
   "source": [
    "3. Объем израсходованного интернет-трафика по месяцам.  "
   ]
  },
  {
   "cell_type": "code",
   "execution_count": 21,
   "metadata": {},
   "outputs": [
    {
     "data": {
      "text/html": [
       "<div>\n",
       "<style scoped>\n",
       "    .dataframe tbody tr th:only-of-type {\n",
       "        vertical-align: middle;\n",
       "    }\n",
       "\n",
       "    .dataframe tbody tr th {\n",
       "        vertical-align: top;\n",
       "    }\n",
       "\n",
       "    .dataframe thead th {\n",
       "        text-align: right;\n",
       "    }\n",
       "</style>\n",
       "<table border=\"1\" class=\"dataframe\">\n",
       "  <thead>\n",
       "    <tr style=\"text-align: right;\">\n",
       "      <th></th>\n",
       "      <th>Unnamed: 0</th>\n",
       "      <th>id</th>\n",
       "      <th>mb_used</th>\n",
       "      <th>session_date</th>\n",
       "      <th>user_id</th>\n",
       "      <th>gb_used</th>\n",
       "      <th>month</th>\n",
       "    </tr>\n",
       "  </thead>\n",
       "  <tbody>\n",
       "    <tr>\n",
       "      <th>0</th>\n",
       "      <td>0</td>\n",
       "      <td>1000_0</td>\n",
       "      <td>112.95</td>\n",
       "      <td>2018-11-25</td>\n",
       "      <td>1000</td>\n",
       "      <td>1.0</td>\n",
       "      <td>11</td>\n",
       "    </tr>\n",
       "    <tr>\n",
       "      <th>1</th>\n",
       "      <td>1</td>\n",
       "      <td>1000_1</td>\n",
       "      <td>1052.81</td>\n",
       "      <td>2018-09-07</td>\n",
       "      <td>1000</td>\n",
       "      <td>2.0</td>\n",
       "      <td>9</td>\n",
       "    </tr>\n",
       "    <tr>\n",
       "      <th>2</th>\n",
       "      <td>2</td>\n",
       "      <td>1000_2</td>\n",
       "      <td>1197.26</td>\n",
       "      <td>2018-06-25</td>\n",
       "      <td>1000</td>\n",
       "      <td>2.0</td>\n",
       "      <td>6</td>\n",
       "    </tr>\n",
       "    <tr>\n",
       "      <th>3</th>\n",
       "      <td>3</td>\n",
       "      <td>1000_3</td>\n",
       "      <td>550.27</td>\n",
       "      <td>2018-08-22</td>\n",
       "      <td>1000</td>\n",
       "      <td>1.0</td>\n",
       "      <td>8</td>\n",
       "    </tr>\n",
       "    <tr>\n",
       "      <th>4</th>\n",
       "      <td>4</td>\n",
       "      <td>1000_4</td>\n",
       "      <td>302.56</td>\n",
       "      <td>2018-09-24</td>\n",
       "      <td>1000</td>\n",
       "      <td>1.0</td>\n",
       "      <td>9</td>\n",
       "    </tr>\n",
       "    <tr>\n",
       "      <th>...</th>\n",
       "      <td>...</td>\n",
       "      <td>...</td>\n",
       "      <td>...</td>\n",
       "      <td>...</td>\n",
       "      <td>...</td>\n",
       "      <td>...</td>\n",
       "      <td>...</td>\n",
       "    </tr>\n",
       "    <tr>\n",
       "      <th>149391</th>\n",
       "      <td>149391</td>\n",
       "      <td>1499_152</td>\n",
       "      <td>318.90</td>\n",
       "      <td>2018-10-03</td>\n",
       "      <td>1499</td>\n",
       "      <td>1.0</td>\n",
       "      <td>10</td>\n",
       "    </tr>\n",
       "    <tr>\n",
       "      <th>149392</th>\n",
       "      <td>149392</td>\n",
       "      <td>1499_153</td>\n",
       "      <td>490.13</td>\n",
       "      <td>2018-12-14</td>\n",
       "      <td>1499</td>\n",
       "      <td>1.0</td>\n",
       "      <td>12</td>\n",
       "    </tr>\n",
       "    <tr>\n",
       "      <th>149393</th>\n",
       "      <td>149393</td>\n",
       "      <td>1499_154</td>\n",
       "      <td>0.00</td>\n",
       "      <td>2018-10-27</td>\n",
       "      <td>1499</td>\n",
       "      <td>0.0</td>\n",
       "      <td>10</td>\n",
       "    </tr>\n",
       "    <tr>\n",
       "      <th>149394</th>\n",
       "      <td>149394</td>\n",
       "      <td>1499_155</td>\n",
       "      <td>1246.32</td>\n",
       "      <td>2018-11-26</td>\n",
       "      <td>1499</td>\n",
       "      <td>2.0</td>\n",
       "      <td>11</td>\n",
       "    </tr>\n",
       "    <tr>\n",
       "      <th>149395</th>\n",
       "      <td>149395</td>\n",
       "      <td>1499_156</td>\n",
       "      <td>544.37</td>\n",
       "      <td>2018-10-26</td>\n",
       "      <td>1499</td>\n",
       "      <td>1.0</td>\n",
       "      <td>10</td>\n",
       "    </tr>\n",
       "  </tbody>\n",
       "</table>\n",
       "<p>149396 rows × 7 columns</p>\n",
       "</div>"
      ],
      "text/plain": [
       "        Unnamed: 0        id  mb_used session_date  user_id  gb_used  month\n",
       "0                0    1000_0   112.95   2018-11-25     1000      1.0     11\n",
       "1                1    1000_1  1052.81   2018-09-07     1000      2.0      9\n",
       "2                2    1000_2  1197.26   2018-06-25     1000      2.0      6\n",
       "3                3    1000_3   550.27   2018-08-22     1000      1.0      8\n",
       "4                4    1000_4   302.56   2018-09-24     1000      1.0      9\n",
       "...            ...       ...      ...          ...      ...      ...    ...\n",
       "149391      149391  1499_152   318.90   2018-10-03     1499      1.0     10\n",
       "149392      149392  1499_153   490.13   2018-12-14     1499      1.0     12\n",
       "149393      149393  1499_154     0.00   2018-10-27     1499      0.0     10\n",
       "149394      149394  1499_155  1246.32   2018-11-26     1499      2.0     11\n",
       "149395      149395  1499_156   544.37   2018-10-26     1499      1.0     10\n",
       "\n",
       "[149396 rows x 7 columns]"
      ]
     },
     "execution_count": 21,
     "metadata": {},
     "output_type": "execute_result"
    }
   ],
   "source": [
    "internet['month'] = internet['session_date'].dt.month\n",
    "internet.sort_index()"
   ]
  },
  {
   "cell_type": "code",
   "execution_count": 22,
   "metadata": {},
   "outputs": [
    {
     "data": {
      "text/html": [
       "<div>\n",
       "<style scoped>\n",
       "    .dataframe tbody tr th:only-of-type {\n",
       "        vertical-align: middle;\n",
       "    }\n",
       "\n",
       "    .dataframe tbody tr th {\n",
       "        vertical-align: top;\n",
       "    }\n",
       "\n",
       "    .dataframe thead th {\n",
       "        text-align: right;\n",
       "    }\n",
       "</style>\n",
       "<table border=\"1\" class=\"dataframe\">\n",
       "  <thead>\n",
       "    <tr style=\"text-align: right;\">\n",
       "      <th></th>\n",
       "      <th></th>\n",
       "      <th>internet_sum</th>\n",
       "    </tr>\n",
       "    <tr>\n",
       "      <th>user_id</th>\n",
       "      <th>month</th>\n",
       "      <th></th>\n",
       "    </tr>\n",
       "  </thead>\n",
       "  <tbody>\n",
       "    <tr>\n",
       "      <th rowspan=\"5\" valign=\"top\">1000</th>\n",
       "      <th>5</th>\n",
       "      <td>2253.49</td>\n",
       "    </tr>\n",
       "    <tr>\n",
       "      <th>6</th>\n",
       "      <td>23233.77</td>\n",
       "    </tr>\n",
       "    <tr>\n",
       "      <th>7</th>\n",
       "      <td>14003.64</td>\n",
       "    </tr>\n",
       "    <tr>\n",
       "      <th>8</th>\n",
       "      <td>14055.93</td>\n",
       "    </tr>\n",
       "    <tr>\n",
       "      <th>9</th>\n",
       "      <td>14568.91</td>\n",
       "    </tr>\n",
       "    <tr>\n",
       "      <th>...</th>\n",
       "      <th>...</th>\n",
       "      <td>...</td>\n",
       "    </tr>\n",
       "    <tr>\n",
       "      <th>1498</th>\n",
       "      <th>10</th>\n",
       "      <td>20579.36</td>\n",
       "    </tr>\n",
       "    <tr>\n",
       "      <th rowspan=\"4\" valign=\"top\">1499</th>\n",
       "      <th>9</th>\n",
       "      <td>1845.75</td>\n",
       "    </tr>\n",
       "    <tr>\n",
       "      <th>10</th>\n",
       "      <td>17788.51</td>\n",
       "    </tr>\n",
       "    <tr>\n",
       "      <th>11</th>\n",
       "      <td>17963.31</td>\n",
       "    </tr>\n",
       "    <tr>\n",
       "      <th>12</th>\n",
       "      <td>13055.58</td>\n",
       "    </tr>\n",
       "  </tbody>\n",
       "</table>\n",
       "<p>3203 rows × 1 columns</p>\n",
       "</div>"
      ],
      "text/plain": [
       "               internet_sum\n",
       "user_id month              \n",
       "1000    5           2253.49\n",
       "        6          23233.77\n",
       "        7          14003.64\n",
       "        8          14055.93\n",
       "        9          14568.91\n",
       "...                     ...\n",
       "1498    10         20579.36\n",
       "1499    9           1845.75\n",
       "        10         17788.51\n",
       "        11         17963.31\n",
       "        12         13055.58\n",
       "\n",
       "[3203 rows x 1 columns]"
      ]
     },
     "execution_count": 22,
     "metadata": {},
     "output_type": "execute_result"
    }
   ],
   "source": [
    "internet_total = internet.pivot_table(index = ['user_id', 'month'], values = 'mb_used', aggfunc = ['sum'])\n",
    "internet_total.columns = ['internet_sum']\n",
    "internet_total.sort_index()"
   ]
  },
  {
   "cell_type": "markdown",
   "metadata": {},
   "source": [
    "Для удобства объединим все полученные таблицы в одну. Назовем ее **total_expenses**. "
   ]
  },
  {
   "cell_type": "code",
   "execution_count": 23,
   "metadata": {},
   "outputs": [
    {
     "data": {
      "text/html": [
       "<div>\n",
       "<style scoped>\n",
       "    .dataframe tbody tr th:only-of-type {\n",
       "        vertical-align: middle;\n",
       "    }\n",
       "\n",
       "    .dataframe tbody tr th {\n",
       "        vertical-align: top;\n",
       "    }\n",
       "\n",
       "    .dataframe thead th {\n",
       "        text-align: right;\n",
       "    }\n",
       "</style>\n",
       "<table border=\"1\" class=\"dataframe\">\n",
       "  <thead>\n",
       "    <tr style=\"text-align: right;\">\n",
       "      <th></th>\n",
       "      <th></th>\n",
       "      <th>calls_count</th>\n",
       "      <th>calls_sum</th>\n",
       "      <th>messages_count</th>\n",
       "      <th>internet_sum</th>\n",
       "    </tr>\n",
       "    <tr>\n",
       "      <th>user_id</th>\n",
       "      <th>month</th>\n",
       "      <th></th>\n",
       "      <th></th>\n",
       "      <th></th>\n",
       "      <th></th>\n",
       "    </tr>\n",
       "  </thead>\n",
       "  <tbody>\n",
       "    <tr>\n",
       "      <th rowspan=\"5\" valign=\"top\">1000</th>\n",
       "      <th>5</th>\n",
       "      <td>22.0</td>\n",
       "      <td>159.0</td>\n",
       "      <td>22.0</td>\n",
       "      <td>2253.49</td>\n",
       "    </tr>\n",
       "    <tr>\n",
       "      <th>6</th>\n",
       "      <td>43.0</td>\n",
       "      <td>172.0</td>\n",
       "      <td>60.0</td>\n",
       "      <td>23233.77</td>\n",
       "    </tr>\n",
       "    <tr>\n",
       "      <th>7</th>\n",
       "      <td>47.0</td>\n",
       "      <td>340.0</td>\n",
       "      <td>75.0</td>\n",
       "      <td>14003.64</td>\n",
       "    </tr>\n",
       "    <tr>\n",
       "      <th>8</th>\n",
       "      <td>52.0</td>\n",
       "      <td>408.0</td>\n",
       "      <td>81.0</td>\n",
       "      <td>14055.93</td>\n",
       "    </tr>\n",
       "    <tr>\n",
       "      <th>9</th>\n",
       "      <td>58.0</td>\n",
       "      <td>466.0</td>\n",
       "      <td>57.0</td>\n",
       "      <td>14568.91</td>\n",
       "    </tr>\n",
       "    <tr>\n",
       "      <th>...</th>\n",
       "      <th>...</th>\n",
       "      <td>...</td>\n",
       "      <td>...</td>\n",
       "      <td>...</td>\n",
       "      <td>...</td>\n",
       "    </tr>\n",
       "    <tr>\n",
       "      <th>1498</th>\n",
       "      <th>10</th>\n",
       "      <td>41.0</td>\n",
       "      <td>247.0</td>\n",
       "      <td>42.0</td>\n",
       "      <td>20579.36</td>\n",
       "    </tr>\n",
       "    <tr>\n",
       "      <th rowspan=\"4\" valign=\"top\">1499</th>\n",
       "      <th>9</th>\n",
       "      <td>9.0</td>\n",
       "      <td>70.0</td>\n",
       "      <td>11.0</td>\n",
       "      <td>1845.75</td>\n",
       "    </tr>\n",
       "    <tr>\n",
       "      <th>10</th>\n",
       "      <td>68.0</td>\n",
       "      <td>449.0</td>\n",
       "      <td>48.0</td>\n",
       "      <td>17788.51</td>\n",
       "    </tr>\n",
       "    <tr>\n",
       "      <th>11</th>\n",
       "      <td>74.0</td>\n",
       "      <td>612.0</td>\n",
       "      <td>59.0</td>\n",
       "      <td>17963.31</td>\n",
       "    </tr>\n",
       "    <tr>\n",
       "      <th>12</th>\n",
       "      <td>69.0</td>\n",
       "      <td>492.0</td>\n",
       "      <td>66.0</td>\n",
       "      <td>13055.58</td>\n",
       "    </tr>\n",
       "  </tbody>\n",
       "</table>\n",
       "<p>3214 rows × 4 columns</p>\n",
       "</div>"
      ],
      "text/plain": [
       "               calls_count  calls_sum  messages_count  internet_sum\n",
       "user_id month                                                      \n",
       "1000    5             22.0      159.0            22.0       2253.49\n",
       "        6             43.0      172.0            60.0      23233.77\n",
       "        7             47.0      340.0            75.0      14003.64\n",
       "        8             52.0      408.0            81.0      14055.93\n",
       "        9             58.0      466.0            57.0      14568.91\n",
       "...                    ...        ...             ...           ...\n",
       "1498    10            41.0      247.0            42.0      20579.36\n",
       "1499    9              9.0       70.0            11.0       1845.75\n",
       "        10            68.0      449.0            48.0      17788.51\n",
       "        11            74.0      612.0            59.0      17963.31\n",
       "        12            69.0      492.0            66.0      13055.58\n",
       "\n",
       "[3214 rows x 4 columns]"
      ]
     },
     "execution_count": 23,
     "metadata": {},
     "output_type": "execute_result"
    }
   ],
   "source": [
    "total_expenses = pd.DataFrame()\n",
    "total_expenses = calls_total.merge(messages_total, on = ['user_id', 'month'], how = 'outer')\n",
    "total_expenses = total_expenses.merge(internet_total, on = ['user_id', 'month'], how = 'outer')\n",
    "total_expenses.sort_index()"
   ]
  },
  {
   "cell_type": "markdown",
   "metadata": {},
   "source": [
    "Так как изначально в таблицах было разное количество строк, проверим есть ли пропущенные значения после объединения трех таблиц в одну.  "
   ]
  },
  {
   "cell_type": "code",
   "execution_count": 24,
   "metadata": {},
   "outputs": [
    {
     "data": {
      "text/plain": [
       "calls_count        40\n",
       "calls_sum          40\n",
       "messages_count    497\n",
       "internet_sum       11\n",
       "dtype: int64"
      ]
     },
     "execution_count": 24,
     "metadata": {},
     "output_type": "execute_result"
    }
   ],
   "source": [
    "total_expenses.isna().sum()"
   ]
  },
  {
   "cell_type": "markdown",
   "metadata": {},
   "source": [
    "В колонках встречаются пропуски. Заменим их на значение 0. "
   ]
  },
  {
   "cell_type": "code",
   "execution_count": 25,
   "metadata": {},
   "outputs": [
    {
     "data": {
      "text/plain": [
       "calls_count       0\n",
       "calls_sum         0\n",
       "messages_count    0\n",
       "internet_sum      0\n",
       "dtype: int64"
      ]
     },
     "execution_count": 25,
     "metadata": {},
     "output_type": "execute_result"
    }
   ],
   "source": [
    "total_expenses['calls_count'] = total_expenses['calls_count'].fillna(0)\n",
    "total_expenses['calls_sum'] = total_expenses['calls_sum'].fillna(0)\n",
    "total_expenses['messages_count'] = total_expenses['messages_count'].fillna(0)\n",
    "total_expenses['internet_sum'] = total_expenses['internet_sum'].fillna(0)\n",
    "total_expenses.isna().sum()"
   ]
  },
  {
   "cell_type": "markdown",
   "metadata": {},
   "source": [
    "Пропущенных значений нет. "
   ]
  },
  {
   "cell_type": "markdown",
   "metadata": {},
   "source": [
    "4. Помесячную выручку с каждого пользователя."
   ]
  },
  {
   "cell_type": "markdown",
   "metadata": {},
   "source": [
    "Объединим таблицы total_expenses и users. "
   ]
  },
  {
   "cell_type": "code",
   "execution_count": 26,
   "metadata": {},
   "outputs": [
    {
     "data": {
      "text/html": [
       "<div>\n",
       "<style scoped>\n",
       "    .dataframe tbody tr th:only-of-type {\n",
       "        vertical-align: middle;\n",
       "    }\n",
       "\n",
       "    .dataframe tbody tr th {\n",
       "        vertical-align: top;\n",
       "    }\n",
       "\n",
       "    .dataframe thead th {\n",
       "        text-align: right;\n",
       "    }\n",
       "</style>\n",
       "<table border=\"1\" class=\"dataframe\">\n",
       "  <thead>\n",
       "    <tr style=\"text-align: right;\">\n",
       "      <th></th>\n",
       "      <th>user_id</th>\n",
       "      <th>calls_count</th>\n",
       "      <th>calls_sum</th>\n",
       "      <th>messages_count</th>\n",
       "      <th>internet_sum</th>\n",
       "      <th>age</th>\n",
       "      <th>churn_date</th>\n",
       "      <th>city</th>\n",
       "      <th>first_name</th>\n",
       "      <th>last_name</th>\n",
       "      <th>reg_date</th>\n",
       "      <th>tariff</th>\n",
       "    </tr>\n",
       "  </thead>\n",
       "  <tbody>\n",
       "    <tr>\n",
       "      <th>0</th>\n",
       "      <td>1000</td>\n",
       "      <td>22.0</td>\n",
       "      <td>159.0</td>\n",
       "      <td>22.0</td>\n",
       "      <td>2253.49</td>\n",
       "      <td>52</td>\n",
       "      <td>NaT</td>\n",
       "      <td>Краснодар</td>\n",
       "      <td>Рафаил</td>\n",
       "      <td>Верещагин</td>\n",
       "      <td>2018-05-25</td>\n",
       "      <td>ultra</td>\n",
       "    </tr>\n",
       "    <tr>\n",
       "      <th>1</th>\n",
       "      <td>1000</td>\n",
       "      <td>43.0</td>\n",
       "      <td>172.0</td>\n",
       "      <td>60.0</td>\n",
       "      <td>23233.77</td>\n",
       "      <td>52</td>\n",
       "      <td>NaT</td>\n",
       "      <td>Краснодар</td>\n",
       "      <td>Рафаил</td>\n",
       "      <td>Верещагин</td>\n",
       "      <td>2018-05-25</td>\n",
       "      <td>ultra</td>\n",
       "    </tr>\n",
       "    <tr>\n",
       "      <th>2</th>\n",
       "      <td>1000</td>\n",
       "      <td>47.0</td>\n",
       "      <td>340.0</td>\n",
       "      <td>75.0</td>\n",
       "      <td>14003.64</td>\n",
       "      <td>52</td>\n",
       "      <td>NaT</td>\n",
       "      <td>Краснодар</td>\n",
       "      <td>Рафаил</td>\n",
       "      <td>Верещагин</td>\n",
       "      <td>2018-05-25</td>\n",
       "      <td>ultra</td>\n",
       "    </tr>\n",
       "    <tr>\n",
       "      <th>3</th>\n",
       "      <td>1000</td>\n",
       "      <td>52.0</td>\n",
       "      <td>408.0</td>\n",
       "      <td>81.0</td>\n",
       "      <td>14055.93</td>\n",
       "      <td>52</td>\n",
       "      <td>NaT</td>\n",
       "      <td>Краснодар</td>\n",
       "      <td>Рафаил</td>\n",
       "      <td>Верещагин</td>\n",
       "      <td>2018-05-25</td>\n",
       "      <td>ultra</td>\n",
       "    </tr>\n",
       "    <tr>\n",
       "      <th>4</th>\n",
       "      <td>1000</td>\n",
       "      <td>58.0</td>\n",
       "      <td>466.0</td>\n",
       "      <td>57.0</td>\n",
       "      <td>14568.91</td>\n",
       "      <td>52</td>\n",
       "      <td>NaT</td>\n",
       "      <td>Краснодар</td>\n",
       "      <td>Рафаил</td>\n",
       "      <td>Верещагин</td>\n",
       "      <td>2018-05-25</td>\n",
       "      <td>ultra</td>\n",
       "    </tr>\n",
       "    <tr>\n",
       "      <th>...</th>\n",
       "      <td>...</td>\n",
       "      <td>...</td>\n",
       "      <td>...</td>\n",
       "      <td>...</td>\n",
       "      <td>...</td>\n",
       "      <td>...</td>\n",
       "      <td>...</td>\n",
       "      <td>...</td>\n",
       "      <td>...</td>\n",
       "      <td>...</td>\n",
       "      <td>...</td>\n",
       "      <td>...</td>\n",
       "    </tr>\n",
       "    <tr>\n",
       "      <th>3211</th>\n",
       "      <td>1498</td>\n",
       "      <td>41.0</td>\n",
       "      <td>247.0</td>\n",
       "      <td>42.0</td>\n",
       "      <td>20579.36</td>\n",
       "      <td>68</td>\n",
       "      <td>2018-10-25</td>\n",
       "      <td>Владикавказ</td>\n",
       "      <td>Всеволод</td>\n",
       "      <td>Акимчин</td>\n",
       "      <td>2018-07-19</td>\n",
       "      <td>smart</td>\n",
       "    </tr>\n",
       "    <tr>\n",
       "      <th>3214</th>\n",
       "      <td>1499</td>\n",
       "      <td>74.0</td>\n",
       "      <td>612.0</td>\n",
       "      <td>59.0</td>\n",
       "      <td>17963.31</td>\n",
       "      <td>35</td>\n",
       "      <td>NaT</td>\n",
       "      <td>Пермь</td>\n",
       "      <td>Гектор</td>\n",
       "      <td>Корнилов</td>\n",
       "      <td>2018-09-27</td>\n",
       "      <td>smart</td>\n",
       "    </tr>\n",
       "    <tr>\n",
       "      <th>3212</th>\n",
       "      <td>1499</td>\n",
       "      <td>9.0</td>\n",
       "      <td>70.0</td>\n",
       "      <td>11.0</td>\n",
       "      <td>1845.75</td>\n",
       "      <td>35</td>\n",
       "      <td>NaT</td>\n",
       "      <td>Пермь</td>\n",
       "      <td>Гектор</td>\n",
       "      <td>Корнилов</td>\n",
       "      <td>2018-09-27</td>\n",
       "      <td>smart</td>\n",
       "    </tr>\n",
       "    <tr>\n",
       "      <th>3213</th>\n",
       "      <td>1499</td>\n",
       "      <td>68.0</td>\n",
       "      <td>449.0</td>\n",
       "      <td>48.0</td>\n",
       "      <td>17788.51</td>\n",
       "      <td>35</td>\n",
       "      <td>NaT</td>\n",
       "      <td>Пермь</td>\n",
       "      <td>Гектор</td>\n",
       "      <td>Корнилов</td>\n",
       "      <td>2018-09-27</td>\n",
       "      <td>smart</td>\n",
       "    </tr>\n",
       "    <tr>\n",
       "      <th>3215</th>\n",
       "      <td>1499</td>\n",
       "      <td>69.0</td>\n",
       "      <td>492.0</td>\n",
       "      <td>66.0</td>\n",
       "      <td>13055.58</td>\n",
       "      <td>35</td>\n",
       "      <td>NaT</td>\n",
       "      <td>Пермь</td>\n",
       "      <td>Гектор</td>\n",
       "      <td>Корнилов</td>\n",
       "      <td>2018-09-27</td>\n",
       "      <td>smart</td>\n",
       "    </tr>\n",
       "  </tbody>\n",
       "</table>\n",
       "<p>3216 rows × 12 columns</p>\n",
       "</div>"
      ],
      "text/plain": [
       "      user_id  calls_count  calls_sum  messages_count  internet_sum  age  \\\n",
       "0        1000         22.0      159.0            22.0       2253.49   52   \n",
       "1        1000         43.0      172.0            60.0      23233.77   52   \n",
       "2        1000         47.0      340.0            75.0      14003.64   52   \n",
       "3        1000         52.0      408.0            81.0      14055.93   52   \n",
       "4        1000         58.0      466.0            57.0      14568.91   52   \n",
       "...       ...          ...        ...             ...           ...  ...   \n",
       "3211     1498         41.0      247.0            42.0      20579.36   68   \n",
       "3214     1499         74.0      612.0            59.0      17963.31   35   \n",
       "3212     1499          9.0       70.0            11.0       1845.75   35   \n",
       "3213     1499         68.0      449.0            48.0      17788.51   35   \n",
       "3215     1499         69.0      492.0            66.0      13055.58   35   \n",
       "\n",
       "     churn_date         city first_name  last_name   reg_date tariff  \n",
       "0           NaT    Краснодар     Рафаил  Верещагин 2018-05-25  ultra  \n",
       "1           NaT    Краснодар     Рафаил  Верещагин 2018-05-25  ultra  \n",
       "2           NaT    Краснодар     Рафаил  Верещагин 2018-05-25  ultra  \n",
       "3           NaT    Краснодар     Рафаил  Верещагин 2018-05-25  ultra  \n",
       "4           NaT    Краснодар     Рафаил  Верещагин 2018-05-25  ultra  \n",
       "...         ...          ...        ...        ...        ...    ...  \n",
       "3211 2018-10-25  Владикавказ   Всеволод    Акимчин 2018-07-19  smart  \n",
       "3214        NaT        Пермь     Гектор   Корнилов 2018-09-27  smart  \n",
       "3212        NaT        Пермь     Гектор   Корнилов 2018-09-27  smart  \n",
       "3213        NaT        Пермь     Гектор   Корнилов 2018-09-27  smart  \n",
       "3215        NaT        Пермь     Гектор   Корнилов 2018-09-27  smart  \n",
       "\n",
       "[3216 rows x 12 columns]"
      ]
     },
     "execution_count": 26,
     "metadata": {},
     "output_type": "execute_result"
    }
   ],
   "source": [
    "total_expenses = total_expenses.merge(users, on='user_id', how='right')\n",
    "total_expenses.sort_values(by = 'user_id')"
   ]
  },
  {
   "cell_type": "markdown",
   "metadata": {},
   "source": [
    "На этом этапе важно проверить количество уникальных пользователей, проверяя тем самым правильность работы merge. "
   ]
  },
  {
   "cell_type": "code",
   "execution_count": 27,
   "metadata": {},
   "outputs": [
    {
     "name": "stdout",
     "output_type": "stream",
     "text": [
      "500\n"
     ]
    },
    {
     "data": {
      "text/plain": [
       "500"
      ]
     },
     "execution_count": 27,
     "metadata": {},
     "output_type": "execute_result"
    }
   ],
   "source": [
    "print(users['user_id'].nunique())\n",
    "total_expenses['user_id'].nunique()"
   ]
  },
  {
   "cell_type": "markdown",
   "metadata": {},
   "source": [
    "Проверим, превышают ли потребители стоимость пакета телекоммуникационных услуг. Другими словами, хватает ли им предоставленных минут, сообщений и гигабайт."
   ]
  },
  {
   "cell_type": "code",
   "execution_count": 28,
   "metadata": {},
   "outputs": [],
   "source": [
    "rub_monthly_fee_ultra = 1950 # ежемесячная плата по тарифу «Ультра»\n",
    "rub_monthly_fee_smart = 550 # ежемесячная плата по тарифу «Смарт»\n",
    "\n",
    "minutes_included_ultra = 3000 # количество минут по тарифу «Ультра»\n",
    "minutes_included_smart = 500 # количество минут по тарифу «Смарт»\n",
    "\n",
    "def total(row):\n",
    "    tariff = row['tariff']\n",
    "    calls_sum = row['calls_sum']\n",
    "    if tariff == 'ultra':\n",
    "        if calls_sum > minutes_included_ultra:\n",
    "            return (calls_sum - minutes_included_ultra) * 1 + rub_monthly_fee_ultra\n",
    "        return rub_monthly_fee_ultra\n",
    "    if tariff == 'smart':\n",
    "        if calls_sum > minutes_included_smart:\n",
    "            return (calls_sum - minutes_included_smart) * 3 + rub_monthly_fee_smart\n",
    "        return rub_monthly_fee_smart"
   ]
  },
  {
   "cell_type": "code",
   "execution_count": 29,
   "metadata": {},
   "outputs": [
    {
     "data": {
      "text/html": [
       "<div>\n",
       "<style scoped>\n",
       "    .dataframe tbody tr th:only-of-type {\n",
       "        vertical-align: middle;\n",
       "    }\n",
       "\n",
       "    .dataframe tbody tr th {\n",
       "        vertical-align: top;\n",
       "    }\n",
       "\n",
       "    .dataframe thead th {\n",
       "        text-align: right;\n",
       "    }\n",
       "</style>\n",
       "<table border=\"1\" class=\"dataframe\">\n",
       "  <thead>\n",
       "    <tr style=\"text-align: right;\">\n",
       "      <th></th>\n",
       "      <th>user_id</th>\n",
       "      <th>calls_count</th>\n",
       "      <th>calls_sum</th>\n",
       "      <th>messages_count</th>\n",
       "      <th>internet_sum</th>\n",
       "      <th>age</th>\n",
       "      <th>churn_date</th>\n",
       "      <th>city</th>\n",
       "      <th>first_name</th>\n",
       "      <th>last_name</th>\n",
       "      <th>reg_date</th>\n",
       "      <th>tariff</th>\n",
       "      <th>calls_expenses</th>\n",
       "    </tr>\n",
       "  </thead>\n",
       "  <tbody>\n",
       "    <tr>\n",
       "      <th>0</th>\n",
       "      <td>1000</td>\n",
       "      <td>22.0</td>\n",
       "      <td>159.0</td>\n",
       "      <td>22.0</td>\n",
       "      <td>2253.49</td>\n",
       "      <td>52</td>\n",
       "      <td>NaT</td>\n",
       "      <td>Краснодар</td>\n",
       "      <td>Рафаил</td>\n",
       "      <td>Верещагин</td>\n",
       "      <td>2018-05-25</td>\n",
       "      <td>ultra</td>\n",
       "      <td>1950.0</td>\n",
       "    </tr>\n",
       "    <tr>\n",
       "      <th>1</th>\n",
       "      <td>1000</td>\n",
       "      <td>43.0</td>\n",
       "      <td>172.0</td>\n",
       "      <td>60.0</td>\n",
       "      <td>23233.77</td>\n",
       "      <td>52</td>\n",
       "      <td>NaT</td>\n",
       "      <td>Краснодар</td>\n",
       "      <td>Рафаил</td>\n",
       "      <td>Верещагин</td>\n",
       "      <td>2018-05-25</td>\n",
       "      <td>ultra</td>\n",
       "      <td>1950.0</td>\n",
       "    </tr>\n",
       "  </tbody>\n",
       "</table>\n",
       "</div>"
      ],
      "text/plain": [
       "   user_id  calls_count  calls_sum  messages_count  internet_sum  age  \\\n",
       "0     1000         22.0      159.0            22.0       2253.49   52   \n",
       "1     1000         43.0      172.0            60.0      23233.77   52   \n",
       "\n",
       "  churn_date       city first_name  last_name   reg_date tariff  \\\n",
       "0        NaT  Краснодар     Рафаил  Верещагин 2018-05-25  ultra   \n",
       "1        NaT  Краснодар     Рафаил  Верещагин 2018-05-25  ultra   \n",
       "\n",
       "   calls_expenses  \n",
       "0          1950.0  \n",
       "1          1950.0  "
      ]
     },
     "execution_count": 29,
     "metadata": {},
     "output_type": "execute_result"
    }
   ],
   "source": [
    "total_expenses['calls_expenses'] = total_expenses.apply(total, axis=1)\n",
    "total_expenses.head(2)"
   ]
  },
  {
   "cell_type": "code",
   "execution_count": 30,
   "metadata": {},
   "outputs": [],
   "source": [
    "rub_monthly_fee_ultra = 1950 # ежемесячная плата по тарифу «Ультра»\n",
    "rub_monthly_fee_smart = 550 # ежемесячная плата по тарифу «Смарт»\n",
    "\n",
    "messages_included_ultra = 1000 # количество смс по тарифу «Ультра»\n",
    "messages_included_smart = 50 # количество смс по тарифу «Смарт»\n",
    "\n",
    "def total(row):\n",
    "    tariff = row['tariff']\n",
    "    messages_count = row['messages_count']\n",
    "    if tariff == 'ultra':\n",
    "        if messages_count > messages_included_ultra:\n",
    "            return (messages_count - messages_included_ultra) * 1 + rub_monthly_fee_ultra\n",
    "        return rub_monthly_fee_ultra\n",
    "    if tariff == 'smart':\n",
    "        if messages_count > messages_included_smart:\n",
    "            return (messages_count - messages_included_smart) * 3 + rub_monthly_fee_smart\n",
    "        return rub_monthly_fee_smart"
   ]
  },
  {
   "cell_type": "code",
   "execution_count": 31,
   "metadata": {},
   "outputs": [
    {
     "data": {
      "text/plain": [
       "0    1950.0\n",
       "1    1950.0\n",
       "2    1950.0\n",
       "3    1950.0\n",
       "4    1950.0\n",
       "Name: messages_expenses, dtype: float64"
      ]
     },
     "execution_count": 31,
     "metadata": {},
     "output_type": "execute_result"
    }
   ],
   "source": [
    "total_expenses['messages_expenses'] = total_expenses.apply(total, axis=1)\n",
    "total_expenses['messages_expenses'].head()"
   ]
  },
  {
   "cell_type": "code",
   "execution_count": 32,
   "metadata": {},
   "outputs": [],
   "source": [
    "rub_monthly_fee_ultra = 1950 # ежемесячная плата по тарифу «Ультра»\n",
    "rub_monthly_fee_smart = 550 # ежемесячная плата по тарифу «Смарт»\n",
    "\n",
    "mb_included_ultra = 1024*30 # количество Гб по тарифу «Ультра» 30720\n",
    "mb_included_smart = 1024*15 # количество Гб по тарифу «Ультра» 15360\n",
    "\n",
    "rub_per_gb_ultra = 150 # стоимость 1 Гб интернет-трафика по тарифу «Ультра»\n",
    "rub_per_gb_smart = 200 # стоимость 1 Гб интернет-трафика по тарифу «Смарт»\n",
    "\n",
    "def total(row):\n",
    "    tariff = row['tariff']\n",
    "    internet_sum = row['internet_sum']\n",
    "    if tariff == 'ultra':\n",
    "        if internet_sum == 0:\n",
    "            return 0\n",
    "        if internet_sum > mb_included_ultra:\n",
    "            return rub_per_gb_ultra + rub_monthly_fee_ultra\n",
    "        return rub_monthly_fee_ultra\n",
    "    if tariff == 'smart':\n",
    "        if internet_sum == 0:\n",
    "            return 0\n",
    "        if internet_sum > mb_included_smart:\n",
    "            return rub_per_gb_smart + rub_monthly_fee_smart\n",
    "        return rub_monthly_fee_smart"
   ]
  },
  {
   "cell_type": "code",
   "execution_count": 33,
   "metadata": {},
   "outputs": [
    {
     "data": {
      "text/plain": [
       "0    1950\n",
       "1    1950\n",
       "2    1950\n",
       "3    1950\n",
       "4    1950\n",
       "Name: internet_expenses, dtype: int64"
      ]
     },
     "execution_count": 33,
     "metadata": {},
     "output_type": "execute_result"
    }
   ],
   "source": [
    "total_expenses['internet_expenses'] = total_expenses.apply(total, axis=1)\n",
    "total_expenses['internet_expenses'].head()"
   ]
  },
  {
   "cell_type": "markdown",
   "metadata": {},
   "source": [
    "Рассчитаем помесячную выручку с каждого пользователя."
   ]
  },
  {
   "cell_type": "code",
   "execution_count": 34,
   "metadata": {},
   "outputs": [
    {
     "data": {
      "text/plain": [
       "0    1950.0\n",
       "1    1950.0\n",
       "2    1950.0\n",
       "3    1950.0\n",
       "4    1950.0\n",
       "Name: total_price, dtype: float64"
      ]
     },
     "execution_count": 34,
     "metadata": {},
     "output_type": "execute_result"
    }
   ],
   "source": [
    "def total(row):\n",
    "    tariff = row['tariff']\n",
    "    calls_expenses = row['calls_expenses']\n",
    "    messages_expenses = row['messages_expenses']\n",
    "    internet_expenses = row['internet_expenses']\n",
    "    if tariff == 'ultra':\n",
    "        if (calls_expenses > messages_expenses) and (calls_expenses > internet_expenses):\n",
    "            return calls_expenses\n",
    "        if (messages_expenses > calls_expenses) and (messages_expenses > internet_expenses):\n",
    "            return messages_expenses\n",
    "        if internet_expenses > calls_expenses:\n",
    "            return internet_expenses\n",
    "        return internet_expenses\n",
    "    if tariff == 'smart':\n",
    "        if (calls_expenses > messages_expenses) and (calls_expenses > internet_expenses):\n",
    "            return calls_expenses\n",
    "        if (messages_expenses > calls_expenses) and (messages_expenses > internet_expenses):\n",
    "            return messages_expenses\n",
    "        if internet_expenses > calls_expenses:\n",
    "            return internet_expenses\n",
    "        return internet_expenses\n",
    "    \n",
    "total_expenses['total_price'] = total_expenses.apply(total, axis=1)\n",
    "total_expenses['total_price'].head()"
   ]
  },
  {
   "cell_type": "markdown",
   "metadata": {},
   "source": [
    "Добавим колонку с месяцем. "
   ]
  },
  {
   "cell_type": "code",
   "execution_count": 35,
   "metadata": {},
   "outputs": [
    {
     "data": {
      "text/plain": [
       "0    5\n",
       "1    5\n",
       "2    5\n",
       "3    5\n",
       "4    5\n",
       "Name: month, dtype: int64"
      ]
     },
     "execution_count": 35,
     "metadata": {},
     "output_type": "execute_result"
    }
   ],
   "source": [
    "total_expenses['month'] = total_expenses['reg_date'].dt.month\n",
    "total_expenses['month'].head()"
   ]
  },
  {
   "cell_type": "code",
   "execution_count": 36,
   "metadata": {},
   "outputs": [
    {
     "data": {
      "text/html": [
       "<div>\n",
       "<style scoped>\n",
       "    .dataframe tbody tr th:only-of-type {\n",
       "        vertical-align: middle;\n",
       "    }\n",
       "\n",
       "    .dataframe tbody tr th {\n",
       "        vertical-align: top;\n",
       "    }\n",
       "\n",
       "    .dataframe thead th {\n",
       "        text-align: right;\n",
       "    }\n",
       "</style>\n",
       "<table border=\"1\" class=\"dataframe\">\n",
       "  <thead>\n",
       "    <tr style=\"text-align: right;\">\n",
       "      <th></th>\n",
       "      <th></th>\n",
       "      <th>total_price_sum</th>\n",
       "    </tr>\n",
       "    <tr>\n",
       "      <th>user_id</th>\n",
       "      <th>month</th>\n",
       "      <th></th>\n",
       "    </tr>\n",
       "  </thead>\n",
       "  <tbody>\n",
       "    <tr>\n",
       "      <th>1000</th>\n",
       "      <th>5</th>\n",
       "      <td>15600.0</td>\n",
       "    </tr>\n",
       "    <tr>\n",
       "      <th>1001</th>\n",
       "      <th>11</th>\n",
       "      <td>1300.0</td>\n",
       "    </tr>\n",
       "    <tr>\n",
       "      <th>1002</th>\n",
       "      <th>6</th>\n",
       "      <td>4850.0</td>\n",
       "    </tr>\n",
       "    <tr>\n",
       "      <th>1003</th>\n",
       "      <th>8</th>\n",
       "      <td>9750.0</td>\n",
       "    </tr>\n",
       "    <tr>\n",
       "      <th>1004</th>\n",
       "      <th>5</th>\n",
       "      <td>15600.0</td>\n",
       "    </tr>\n",
       "    <tr>\n",
       "      <th>...</th>\n",
       "      <th>...</th>\n",
       "      <td>...</td>\n",
       "    </tr>\n",
       "    <tr>\n",
       "      <th>1495</th>\n",
       "      <th>8</th>\n",
       "      <td>10050.0</td>\n",
       "    </tr>\n",
       "    <tr>\n",
       "      <th>1496</th>\n",
       "      <th>1</th>\n",
       "      <td>9214.0</td>\n",
       "    </tr>\n",
       "    <tr>\n",
       "      <th>1497</th>\n",
       "      <th>10</th>\n",
       "      <td>1850.0</td>\n",
       "    </tr>\n",
       "    <tr>\n",
       "      <th>1498</th>\n",
       "      <th>7</th>\n",
       "      <td>2800.0</td>\n",
       "    </tr>\n",
       "    <tr>\n",
       "      <th>1499</th>\n",
       "      <th>9</th>\n",
       "      <td>2784.0</td>\n",
       "    </tr>\n",
       "  </tbody>\n",
       "</table>\n",
       "<p>500 rows × 1 columns</p>\n",
       "</div>"
      ],
      "text/plain": [
       "               total_price_sum\n",
       "user_id month                 \n",
       "1000    5              15600.0\n",
       "1001    11              1300.0\n",
       "1002    6               4850.0\n",
       "1003    8               9750.0\n",
       "1004    5              15600.0\n",
       "...                        ...\n",
       "1495    8              10050.0\n",
       "1496    1               9214.0\n",
       "1497    10              1850.0\n",
       "1498    7               2800.0\n",
       "1499    9               2784.0\n",
       "\n",
       "[500 rows x 1 columns]"
      ]
     },
     "execution_count": 36,
     "metadata": {},
     "output_type": "execute_result"
    }
   ],
   "source": [
    "total_price_table = total_expenses.pivot_table(index = ['user_id', 'month'], values = 'total_price', aggfunc = ['sum'])\n",
    "total_price_table.columns = ['total_price_sum']\n",
    "total_price_table.sort_values(by=['user_id'])"
   ]
  },
  {
   "cell_type": "markdown",
   "metadata": {},
   "source": [
    "Готово. Мы провели тщательную предобработку данных, изменили типы данных, добавили новые колонки и рассчитали необходимые метрики. Теперь мы готовы приступить к анализу. "
   ]
  },
  {
   "cell_type": "markdown",
   "metadata": {},
   "source": [
    "## Шаг 3. Анализ данных"
   ]
  },
  {
   "cell_type": "markdown",
   "metadata": {},
   "source": [
    "Рассмотрим сколько минут разговора, сколько сообщений и какой объём интернет-трафика требуется пользователям каждого тарифа в месяц."
   ]
  },
  {
   "cell_type": "markdown",
   "metadata": {},
   "source": [
    "Создадим таблицу medians и рассчитаем медиану."
   ]
  },
  {
   "cell_type": "code",
   "execution_count": 37,
   "metadata": {},
   "outputs": [
    {
     "data": {
      "text/html": [
       "<div>\n",
       "<style scoped>\n",
       "    .dataframe tbody tr th:only-of-type {\n",
       "        vertical-align: middle;\n",
       "    }\n",
       "\n",
       "    .dataframe tbody tr th {\n",
       "        vertical-align: top;\n",
       "    }\n",
       "\n",
       "    .dataframe thead th {\n",
       "        text-align: right;\n",
       "    }\n",
       "</style>\n",
       "<table border=\"1\" class=\"dataframe\">\n",
       "  <thead>\n",
       "    <tr style=\"text-align: right;\">\n",
       "      <th></th>\n",
       "      <th>calls_sum</th>\n",
       "      <th>internet_sum</th>\n",
       "      <th>messages_count</th>\n",
       "    </tr>\n",
       "    <tr>\n",
       "      <th>user_id</th>\n",
       "      <th></th>\n",
       "      <th></th>\n",
       "      <th></th>\n",
       "    </tr>\n",
       "  </thead>\n",
       "  <tbody>\n",
       "    <tr>\n",
       "      <th>1000</th>\n",
       "      <td>339.0</td>\n",
       "      <td>14312.42</td>\n",
       "      <td>65.0</td>\n",
       "    </tr>\n",
       "    <tr>\n",
       "      <th>1001</th>\n",
       "      <td>422.0</td>\n",
       "      <td>16233.00</td>\n",
       "      <td>0.0</td>\n",
       "    </tr>\n",
       "    <tr>\n",
       "      <th>1002</th>\n",
       "      <td>214.0</td>\n",
       "      <td>17580.10</td>\n",
       "      <td>11.0</td>\n",
       "    </tr>\n",
       "    <tr>\n",
       "      <th>1003</th>\n",
       "      <td>824.0</td>\n",
       "      <td>11356.89</td>\n",
       "      <td>83.0</td>\n",
       "    </tr>\n",
       "    <tr>\n",
       "      <th>1004</th>\n",
       "      <td>132.5</td>\n",
       "      <td>17810.53</td>\n",
       "      <td>154.5</td>\n",
       "    </tr>\n",
       "  </tbody>\n",
       "</table>\n",
       "</div>"
      ],
      "text/plain": [
       "         calls_sum  internet_sum  messages_count\n",
       "user_id                                         \n",
       "1000         339.0      14312.42            65.0\n",
       "1001         422.0      16233.00             0.0\n",
       "1002         214.0      17580.10            11.0\n",
       "1003         824.0      11356.89            83.0\n",
       "1004         132.5      17810.53           154.5"
      ]
     },
     "execution_count": 37,
     "metadata": {},
     "output_type": "execute_result"
    }
   ],
   "source": [
    "medians = total_expenses.pivot_table(index='user_id', values=['calls_sum', 'messages_count', 'internet_sum'], aggfunc='median')\n",
    "medians.head()"
   ]
  },
  {
   "cell_type": "markdown",
   "metadata": {},
   "source": [
    "Внесем в таблицу тарифные планы для каждого пользователя. "
   ]
  },
  {
   "cell_type": "code",
   "execution_count": 38,
   "metadata": {},
   "outputs": [
    {
     "data": {
      "text/html": [
       "<div>\n",
       "<style scoped>\n",
       "    .dataframe tbody tr th:only-of-type {\n",
       "        vertical-align: middle;\n",
       "    }\n",
       "\n",
       "    .dataframe tbody tr th {\n",
       "        vertical-align: top;\n",
       "    }\n",
       "\n",
       "    .dataframe thead th {\n",
       "        text-align: right;\n",
       "    }\n",
       "</style>\n",
       "<table border=\"1\" class=\"dataframe\">\n",
       "  <thead>\n",
       "    <tr style=\"text-align: right;\">\n",
       "      <th></th>\n",
       "      <th>user_id</th>\n",
       "      <th>tariff</th>\n",
       "    </tr>\n",
       "  </thead>\n",
       "  <tbody>\n",
       "    <tr>\n",
       "      <th>0</th>\n",
       "      <td>1000</td>\n",
       "      <td>ultra</td>\n",
       "    </tr>\n",
       "    <tr>\n",
       "      <th>1</th>\n",
       "      <td>1001</td>\n",
       "      <td>smart</td>\n",
       "    </tr>\n",
       "    <tr>\n",
       "      <th>2</th>\n",
       "      <td>1002</td>\n",
       "      <td>smart</td>\n",
       "    </tr>\n",
       "    <tr>\n",
       "      <th>3</th>\n",
       "      <td>1003</td>\n",
       "      <td>ultra</td>\n",
       "    </tr>\n",
       "    <tr>\n",
       "      <th>4</th>\n",
       "      <td>1004</td>\n",
       "      <td>ultra</td>\n",
       "    </tr>\n",
       "  </tbody>\n",
       "</table>\n",
       "</div>"
      ],
      "text/plain": [
       "   user_id tariff\n",
       "0     1000  ultra\n",
       "1     1001  smart\n",
       "2     1002  smart\n",
       "3     1003  ultra\n",
       "4     1004  ultra"
      ]
     },
     "execution_count": 38,
     "metadata": {},
     "output_type": "execute_result"
    }
   ],
   "source": [
    "users_tariff = users.loc[:, ['user_id', 'tariff']]\n",
    "users_tariff.columns = ['user_id', 'tariff']\n",
    "users_tariff.head()"
   ]
  },
  {
   "cell_type": "markdown",
   "metadata": {},
   "source": [
    "Объединим таблицы. "
   ]
  },
  {
   "cell_type": "code",
   "execution_count": 39,
   "metadata": {},
   "outputs": [
    {
     "data": {
      "text/html": [
       "<div>\n",
       "<style scoped>\n",
       "    .dataframe tbody tr th:only-of-type {\n",
       "        vertical-align: middle;\n",
       "    }\n",
       "\n",
       "    .dataframe tbody tr th {\n",
       "        vertical-align: top;\n",
       "    }\n",
       "\n",
       "    .dataframe thead th {\n",
       "        text-align: right;\n",
       "    }\n",
       "</style>\n",
       "<table border=\"1\" class=\"dataframe\">\n",
       "  <thead>\n",
       "    <tr style=\"text-align: right;\">\n",
       "      <th></th>\n",
       "      <th>user_id</th>\n",
       "      <th>calls_sum</th>\n",
       "      <th>internet_sum</th>\n",
       "      <th>messages_count</th>\n",
       "      <th>tariff</th>\n",
       "    </tr>\n",
       "  </thead>\n",
       "  <tbody>\n",
       "    <tr>\n",
       "      <th>0</th>\n",
       "      <td>1000</td>\n",
       "      <td>339.0</td>\n",
       "      <td>14312.42</td>\n",
       "      <td>65.0</td>\n",
       "      <td>ultra</td>\n",
       "    </tr>\n",
       "    <tr>\n",
       "      <th>1</th>\n",
       "      <td>1001</td>\n",
       "      <td>422.0</td>\n",
       "      <td>16233.00</td>\n",
       "      <td>0.0</td>\n",
       "      <td>smart</td>\n",
       "    </tr>\n",
       "    <tr>\n",
       "      <th>2</th>\n",
       "      <td>1002</td>\n",
       "      <td>214.0</td>\n",
       "      <td>17580.10</td>\n",
       "      <td>11.0</td>\n",
       "      <td>smart</td>\n",
       "    </tr>\n",
       "    <tr>\n",
       "      <th>3</th>\n",
       "      <td>1003</td>\n",
       "      <td>824.0</td>\n",
       "      <td>11356.89</td>\n",
       "      <td>83.0</td>\n",
       "      <td>ultra</td>\n",
       "    </tr>\n",
       "    <tr>\n",
       "      <th>4</th>\n",
       "      <td>1004</td>\n",
       "      <td>132.5</td>\n",
       "      <td>17810.53</td>\n",
       "      <td>154.5</td>\n",
       "      <td>ultra</td>\n",
       "    </tr>\n",
       "  </tbody>\n",
       "</table>\n",
       "</div>"
      ],
      "text/plain": [
       "   user_id  calls_sum  internet_sum  messages_count tariff\n",
       "0     1000      339.0      14312.42            65.0  ultra\n",
       "1     1001      422.0      16233.00             0.0  smart\n",
       "2     1002      214.0      17580.10            11.0  smart\n",
       "3     1003      824.0      11356.89            83.0  ultra\n",
       "4     1004      132.5      17810.53           154.5  ultra"
      ]
     },
     "execution_count": 39,
     "metadata": {},
     "output_type": "execute_result"
    }
   ],
   "source": [
    "medians = medians.merge(users_tariff, on = ['user_id'], how = 'left')\n",
    "medians.head()"
   ]
  },
  {
   "cell_type": "markdown",
   "metadata": {},
   "source": [
    "Дополнительно рассчитаем медиану для каждого тарифного плана. \n",
    "\n",
    "Для начала проанализируем потребителей тарифного плана **Ультра**. "
   ]
  },
  {
   "cell_type": "code",
   "execution_count": 40,
   "metadata": {},
   "outputs": [
    {
     "name": "stdout",
     "output_type": "stream",
     "text": [
      "Пользователь тарифа Ультра в среднем тратит 526.6 минут\n",
      "Пользователь тарифа Ультра в среднем тратит 49.4 смс\n",
      "Пользователь тарифа Ультра в среднем тратит 19468.8 мб\n"
     ]
    }
   ],
   "source": [
    "ultra_tariff_table = total_expenses[total_expenses['tariff'] == 'ultra']\n",
    "print('Пользователь тарифа Ультра в среднем тратит', round(ultra_tariff_table['calls_sum'].mean(),1), 'минут')\n",
    "print('Пользователь тарифа Ультра в среднем тратит', round(ultra_tariff_table['messages_count'].mean(),1), 'смс')\n",
    "print('Пользователь тарифа Ультра в среднем тратит', round(ultra_tariff_table['internet_sum'].mean(),1), 'мб')"
   ]
  },
  {
   "cell_type": "markdown",
   "metadata": {},
   "source": [
    "Проанализируем потребителей тарифного плана **Смарт**. "
   ]
  },
  {
   "cell_type": "code",
   "execution_count": 41,
   "metadata": {},
   "outputs": [
    {
     "name": "stdout",
     "output_type": "stream",
     "text": [
      "Пользователь тарифа Смарт в среднем тратит 422.0 минут\n",
      "Пользователь тарифа Смарт в среднем тратит 28.0 смс\n",
      "Пользователь тарифа Смарт в среднем тратит 16506.8 мб\n"
     ]
    }
   ],
   "source": [
    "smart_tariff_table = total_expenses[total_expenses['tariff'] == 'smart']\n",
    "print('Пользователь тарифа Смарт в среднем тратит', round(smart_tariff_table['calls_sum'].median(),1), 'минут')\n",
    "print('Пользователь тарифа Смарт в среднем тратит', round(smart_tariff_table['messages_count'].median(),1), 'смс')\n",
    "print('Пользователь тарифа Смарт в среднем тратит', round(smart_tariff_table['internet_sum'].median(),1), 'мб')"
   ]
  },
  {
   "cell_type": "markdown",
   "metadata": {},
   "source": [
    "**Вывод:** По проведенным расчетам можно составить среднестатистический портрет пользователей тарифных планов. Пользователи более дугового тарифа \"Ультра\" укладываются в предоставленные пакетом услуги. Они не беспокоятся, что в какой-то момент у него появится необходимость в дополнительных услугах. В свою очередь пользователям тарифа \"Смарт\" недостаточно предоставленного количества гигабайт, в связи с чем пользователям приходится их докупать."
   ]
  },
  {
   "cell_type": "markdown",
   "metadata": {},
   "source": [
    "Посчитаем среднее количество, дисперсию и стандартное отклонение для каждого тарифного плана. "
   ]
  },
  {
   "cell_type": "code",
   "execution_count": 42,
   "metadata": {},
   "outputs": [
    {
     "data": {
      "text/html": [
       "<div>\n",
       "<style scoped>\n",
       "    .dataframe tbody tr th:only-of-type {\n",
       "        vertical-align: middle;\n",
       "    }\n",
       "\n",
       "    .dataframe tbody tr th {\n",
       "        vertical-align: top;\n",
       "    }\n",
       "\n",
       "    .dataframe thead th {\n",
       "        text-align: right;\n",
       "    }\n",
       "</style>\n",
       "<table border=\"1\" class=\"dataframe\">\n",
       "  <thead>\n",
       "    <tr style=\"text-align: right;\">\n",
       "      <th></th>\n",
       "      <th>calls_mean</th>\n",
       "      <th>calls_var</th>\n",
       "      <th>calls_std</th>\n",
       "      <th>internet_mean</th>\n",
       "      <th>internet_var</th>\n",
       "      <th>internet_std</th>\n",
       "      <th>messages_mean</th>\n",
       "      <th>messages_var</th>\n",
       "      <th>messages_std</th>\n",
       "    </tr>\n",
       "    <tr>\n",
       "      <th>tariff</th>\n",
       "      <th></th>\n",
       "      <th></th>\n",
       "      <th></th>\n",
       "      <th></th>\n",
       "      <th></th>\n",
       "      <th></th>\n",
       "      <th></th>\n",
       "      <th></th>\n",
       "      <th></th>\n",
       "    </tr>\n",
       "  </thead>\n",
       "  <tbody>\n",
       "    <tr>\n",
       "      <th>smart</th>\n",
       "      <td>437.47</td>\n",
       "      <td>160.27</td>\n",
       "      <td>25685.39</td>\n",
       "      <td>16831.94</td>\n",
       "      <td>4174.2</td>\n",
       "      <td>17423974.06</td>\n",
       "      <td>33.77</td>\n",
       "      <td>28.01</td>\n",
       "      <td>784.60</td>\n",
       "    </tr>\n",
       "    <tr>\n",
       "      <th>ultra</th>\n",
       "      <td>557.50</td>\n",
       "      <td>303.79</td>\n",
       "      <td>92290.58</td>\n",
       "      <td>20303.39</td>\n",
       "      <td>8893.0</td>\n",
       "      <td>79085500.25</td>\n",
       "      <td>56.98</td>\n",
       "      <td>49.24</td>\n",
       "      <td>2424.26</td>\n",
       "    </tr>\n",
       "  </tbody>\n",
       "</table>\n",
       "</div>"
      ],
      "text/plain": [
       "        calls_mean  calls_var  calls_std  internet_mean  internet_var  \\\n",
       "tariff                                                                  \n",
       "smart       437.47     160.27   25685.39       16831.94        4174.2   \n",
       "ultra       557.50     303.79   92290.58       20303.39        8893.0   \n",
       "\n",
       "        internet_std  messages_mean  messages_var  messages_std  \n",
       "tariff                                                           \n",
       "smart    17423974.06          33.77         28.01        784.60  \n",
       "ultra    79085500.25          56.98         49.24       2424.26  "
      ]
     },
     "execution_count": 42,
     "metadata": {},
     "output_type": "execute_result"
    }
   ],
   "source": [
    "stat = np.round(medians.pivot_table(index='tariff',\n",
    "                          values=['calls_sum', 'messages_count', 'internet_sum'],\n",
    "                          aggfunc=('mean', np.var, np.std)), 2)\n",
    "stat.columns = ['calls_mean', 'calls_var', 'calls_std', 'internet_mean', 'internet_var', \n",
    "                'internet_std', 'messages_mean', 'messages_var', 'messages_std']\n",
    "stat"
   ]
  },
  {
   "cell_type": "markdown",
   "metadata": {},
   "source": [
    "**Построим гистограммы.**"
   ]
  },
  {
   "cell_type": "markdown",
   "metadata": {},
   "source": [
    "Разделим таблицу total_expenses на две по тарифным планам."
   ]
  },
  {
   "cell_type": "code",
   "execution_count": 43,
   "metadata": {},
   "outputs": [],
   "source": [
    "ultra_total_expenses = total_expenses[total_expenses['tariff'] == 'ultra']\n",
    "smart_total_expenses = total_expenses[total_expenses['tariff'] == 'smart']"
   ]
  },
  {
   "cell_type": "markdown",
   "metadata": {},
   "source": [
    "Перед построением гистограммы проверим данные на выбросы."
   ]
  },
  {
   "cell_type": "code",
   "execution_count": 44,
   "metadata": {},
   "outputs": [
    {
     "data": {
      "text/plain": [
       "count     985.000000\n",
       "mean      526.623350\n",
       "std       317.606098\n",
       "min         0.000000\n",
       "25%       284.000000\n",
       "50%       518.000000\n",
       "75%       752.000000\n",
       "max      1673.000000\n",
       "Name: calls_sum, dtype: float64"
      ]
     },
     "execution_count": 44,
     "metadata": {},
     "output_type": "execute_result"
    },
    {
     "data": {
      "image/png": "[encoded data removed]",
      "text/plain": [
       "<Figure size 432x288 with 1 Axes>"
      ]
     },
     "metadata": {
      "needs_background": "light"
     },
     "output_type": "display_data"
    }
   ],
   "source": [
    "ultra_total_expenses.plot(y = 'calls_sum', kind = 'hist', bins = 60, grid = True, range = (1,1400))\n",
    "ultra_total_expenses['calls_sum'].describe()"
   ]
  },
  {
   "cell_type": "code",
   "execution_count": 45,
   "metadata": {},
   "outputs": [
    {
     "data": {
      "text/plain": [
       "count      985.000000\n",
       "mean     19468.805208\n",
       "std      10087.170752\n",
       "min          0.000000\n",
       "25%      11770.260000\n",
       "50%      19308.010000\n",
       "75%      26837.690000\n",
       "max      49745.690000\n",
       "Name: internet_sum, dtype: float64"
      ]
     },
     "execution_count": 45,
     "metadata": {},
     "output_type": "execute_result"
    },
    {
     "data": {
      "image/png": "[encoded data removed]",
      "text/plain": [
       "<Figure size 432x288 with 1 Axes>"
      ]
     },
     "metadata": {
      "needs_background": "light"
     },
     "output_type": "display_data"
    }
   ],
   "source": [
    "ultra_total_expenses.plot(y = 'internet_sum', kind = 'hist', bins = 100, grid = True)\n",
    "ultra_total_expenses['internet_sum'].describe()"
   ]
  },
  {
   "cell_type": "code",
   "execution_count": 46,
   "metadata": {},
   "outputs": [
    {
     "data": {
      "text/plain": [
       "count    985.000000\n",
       "mean      49.363452\n",
       "std       47.804457\n",
       "min        0.000000\n",
       "25%        6.000000\n",
       "50%       38.000000\n",
       "75%       79.000000\n",
       "max      224.000000\n",
       "Name: messages_count, dtype: float64"
      ]
     },
     "execution_count": 46,
     "metadata": {},
     "output_type": "execute_result"
    },
    {
     "data": {
      "image/png": "[encoded data removed]",
      "text/plain": [
       "<Figure size 432x288 with 1 Axes>"
      ]
     },
     "metadata": {
      "needs_background": "light"
     },
     "output_type": "display_data"
    }
   ],
   "source": [
    "ultra_total_expenses.plot(y = 'messages_count', kind = 'hist', bins = 30, grid = True)\n",
    "ultra_total_expenses['messages_count'].describe()"
   ]
  },
  {
   "cell_type": "code",
   "execution_count": 47,
   "metadata": {},
   "outputs": [
    {
     "data": {
      "text/plain": [
       "count    2229.000000\n",
       "mean      417.934948\n",
       "std       190.313730\n",
       "min         0.000000\n",
       "25%       282.000000\n",
       "50%       422.000000\n",
       "75%       545.000000\n",
       "max      1435.000000\n",
       "Name: calls_sum, dtype: float64"
      ]
     },
     "execution_count": 47,
     "metadata": {},
     "output_type": "execute_result"
    },
    {
     "data": {
      "image/png": "[encoded data removed]",
      "text/plain": [
       "<Figure size 432x288 with 1 Axes>"
      ]
     },
     "metadata": {
      "needs_background": "light"
     },
     "output_type": "display_data"
    }
   ],
   "source": [
    "smart_total_expenses.plot(y = 'calls_sum', kind = 'hist', bins = 60, grid = True, range = (1,1400))\n",
    "smart_total_expenses['calls_sum'].describe()"
   ]
  },
  {
   "cell_type": "code",
   "execution_count": 48,
   "metadata": {},
   "outputs": [
    {
     "data": {
      "text/plain": [
       "count     2229.000000\n",
       "mean     16208.386990\n",
       "std       5870.476681\n",
       "min          0.000000\n",
       "25%      12643.010000\n",
       "50%      16506.840000\n",
       "75%      20042.930000\n",
       "max      38552.450000\n",
       "Name: internet_sum, dtype: float64"
      ]
     },
     "execution_count": 48,
     "metadata": {},
     "output_type": "execute_result"
    },
    {
     "data": {
      "image/png": "[encoded data removed]",
      "text/plain": [
       "<Figure size 432x288 with 1 Axes>"
      ]
     },
     "metadata": {
      "needs_background": "light"
     },
     "output_type": "display_data"
    }
   ],
   "source": [
    "smart_total_expenses.plot(y = 'internet_sum', kind = 'hist', bins = 50, grid = True)\n",
    "smart_total_expenses['internet_sum'].describe()"
   ]
  },
  {
   "cell_type": "code",
   "execution_count": 49,
   "metadata": {},
   "outputs": [
    {
     "data": {
      "text/plain": [
       "count    2229.000000\n",
       "mean       33.384029\n",
       "std        28.227876\n",
       "min         0.000000\n",
       "25%        10.000000\n",
       "50%        28.000000\n",
       "75%        51.000000\n",
       "max       143.000000\n",
       "Name: messages_count, dtype: float64"
      ]
     },
     "execution_count": 49,
     "metadata": {},
     "output_type": "execute_result"
    },
    {
     "data": {
      "image/png": "[encoded data removed]",
      "text/plain": [
       "<Figure size 432x288 with 1 Axes>"
      ]
     },
     "metadata": {
      "needs_background": "light"
     },
     "output_type": "display_data"
    }
   ],
   "source": [
    "smart_total_expenses.plot(y = 'messages_count', kind = 'hist', bins = 60, grid = True)\n",
    "smart_total_expenses['messages_count'].describe()"
   ]
  },
  {
   "cell_type": "markdown",
   "metadata": {},
   "source": [
    "Выбросов не обнаружили. Перейдем к построению гистограмм.  "
   ]
  },
  {
   "cell_type": "code",
   "execution_count": 50,
   "metadata": {},
   "outputs": [
    {
     "data": {
      "text/plain": [
       "<matplotlib.legend.Legend at 0x1ca1cc9e040>"
      ]
     },
     "execution_count": 50,
     "metadata": {},
     "output_type": "execute_result"
    },
    {
     "data": {
      "image/png": "[encoded data removed]",
      "text/plain": [
       "<Figure size 432x288 with 1 Axes>"
      ]
     },
     "metadata": {
      "needs_background": "light"
     },
     "output_type": "display_data"
    }
   ],
   "source": [
    "ultra_calls = total_expenses.loc[(total_expenses['tariff'] == 'ultra')]['calls_sum']\n",
    "smart_calls = total_expenses.loc[(total_expenses['tariff'] == 'smart')]['calls_sum']\n",
    "ultra_calls.plot(kind='hist', bins=50, alpha=0.7, legend='ultra', title = \"Минуты\")\n",
    "smart_calls.plot(kind='hist', bins=50, alpha=0.5, legend='smart', title = \"Минуты\")  \n",
    "plt.legend(['ultra', 'smart'])"
   ]
  },
  {
   "cell_type": "code",
   "execution_count": 51,
   "metadata": {},
   "outputs": [
    {
     "data": {
      "text/plain": [
       "<matplotlib.legend.Legend at 0x1ca1c25dac0>"
      ]
     },
     "execution_count": 51,
     "metadata": {},
     "output_type": "execute_result"
    },
    {
     "data": {
      "image/png": "[encoded data removed]",
      "text/plain": [
       "<Figure size 432x288 with 1 Axes>"
      ]
     },
     "metadata": {
      "needs_background": "light"
     },
     "output_type": "display_data"
    }
   ],
   "source": [
    "ultra_internet = total_expenses.loc[(total_expenses['tariff'] == 'ultra')]['internet_sum']\n",
    "smart_internet = total_expenses.loc[(total_expenses['tariff'] == 'smart')]['internet_sum']\n",
    "ultra_internet.plot(kind='hist', bins=40, alpha=0.7, legend='ultra', title = \"Интернет-трафик\")\n",
    "smart_internet.plot(kind='hist', bins=40, alpha=0.5, legend='smart', title = \"Интернет-трафик\")  \n",
    "plt.legend(['ultra', 'smart'])"
   ]
  },
  {
   "cell_type": "code",
   "execution_count": 52,
   "metadata": {},
   "outputs": [
    {
     "data": {
      "text/plain": [
       "<matplotlib.legend.Legend at 0x1ca1e91cfd0>"
      ]
     },
     "execution_count": 52,
     "metadata": {},
     "output_type": "execute_result"
    },
    {
     "data": {
      "image/png": "[encoded data removed]",
      "text/plain": [
       "<Figure size 432x288 with 1 Axes>"
      ]
     },
     "metadata": {
      "needs_background": "light"
     },
     "output_type": "display_data"
    }
   ],
   "source": [
    "ultra_messages = total_expenses.loc[(total_expenses['tariff'] == 'ultra')]['messages_count']\n",
    "smart_messages = total_expenses.loc[(total_expenses['tariff'] == 'smart')]['messages_count']\n",
    "ultra_messages.plot(kind='hist', bins=40, alpha=0.7, legend='ultra', title = \"Сообщения\")\n",
    "smart_messages.plot(kind='hist', bins=40, alpha=0.5, legend='smart', title = \"Сообщения\")  \n",
    "plt.legend(['ultra', 'smart'])"
   ]
  },
  {
   "cell_type": "markdown",
   "metadata": {},
   "source": [
    "**Вывод:** Анализ показал, что среднее, дисперсия и стандартное отклонение по тарифу \"Ультра\" больше, чем по тарифу \"Смарт\" по всем показателям: по длительности разговора, числу сообщений и использованным гигабайтам. Также можно заметить, что среднестатистическому пользователю тарифа \"Смарт\" недостаточно предоставленного количества гигабайт, в связи с чем пользователям приходится их докупать. В свою очередь среднестатистический пользователь тарифа \"Ультра\" не встречается с такой проблемой. Можно сказать, что пользователь этого тарифа чувствует себя более спокойно и уверенно, не беспокоится, что в какой-то момент у него появится необходимость в дополнительных телекоммуникационных услугах.   "
   ]
  },
  {
   "cell_type": "markdown",
   "metadata": {},
   "source": [
    "## Шаг 4. Проверка гипотез "
   ]
  },
  {
   "cell_type": "markdown",
   "metadata": {},
   "source": [
    "Необходимо проверить гипотезы:\n",
    "* средняя выручка пользователей тарифов \"Ультра\" и \"Смарт\" различаются;\n",
    "* средняя выручка пользователей из Москвы отличается от выручки пользователей из других регионов."
   ]
  },
  {
   "cell_type": "markdown",
   "metadata": {},
   "source": [
    "Определим нулевую и альтернативную гипотезы для проверки первой поставленной гипотезы:\n",
    "* средняя выручка пользователей тарифов \"Ультра\" и \"Смарт\" равны;\n",
    "* средняя выручка пользователей тарифов \"Ультра\" и \"Смарт\" различаются."
   ]
  },
  {
   "cell_type": "code",
   "execution_count": 53,
   "metadata": {},
   "outputs": [
    {
     "name": "stdout",
     "output_type": "stream",
     "text": [
      "p-значение: 0.0\n",
      "Отвергаем нулевую гипотезу\n"
     ]
    }
   ],
   "source": [
    "ultra = total_expenses.query('tariff == \"ultra\"')['total_price']\n",
    "smart = total_expenses.query('tariff == \"smart\"')['total_price']\n",
    "\n",
    "alpha = .05\n",
    "\n",
    "results = st.ttest_ind(\n",
    "    ultra, \n",
    "    smart,\n",
    "    equal_var=False)\n",
    "\n",
    "print('p-значение:', results.pvalue)\n",
    "\n",
    "if results.pvalue < alpha:\n",
    "    print(\"Отвергаем нулевую гипотезу\")\n",
    "else:\n",
    "    print(\"Не получилось отвергнуть нулевую гипотезу\") "
   ]
  },
  {
   "cell_type": "code",
   "execution_count": 54,
   "metadata": {},
   "outputs": [
    {
     "data": {
      "text/html": [
       "<div>\n",
       "<style scoped>\n",
       "    .dataframe tbody tr th:only-of-type {\n",
       "        vertical-align: middle;\n",
       "    }\n",
       "\n",
       "    .dataframe tbody tr th {\n",
       "        vertical-align: top;\n",
       "    }\n",
       "\n",
       "    .dataframe thead th {\n",
       "        text-align: right;\n",
       "    }\n",
       "</style>\n",
       "<table border=\"1\" class=\"dataframe\">\n",
       "  <thead>\n",
       "    <tr style=\"text-align: right;\">\n",
       "      <th></th>\n",
       "      <th>total_price</th>\n",
       "    </tr>\n",
       "    <tr>\n",
       "      <th>tariff</th>\n",
       "      <th></th>\n",
       "    </tr>\n",
       "  </thead>\n",
       "  <tbody>\n",
       "    <tr>\n",
       "      <th>smart</th>\n",
       "      <td>757.743498</td>\n",
       "    </tr>\n",
       "    <tr>\n",
       "      <th>ultra</th>\n",
       "      <td>1948.630832</td>\n",
       "    </tr>\n",
       "  </tbody>\n",
       "</table>\n",
       "</div>"
      ],
      "text/plain": [
       "        total_price\n",
       "tariff             \n",
       "smart    757.743498\n",
       "ultra   1948.630832"
      ]
     },
     "execution_count": 54,
     "metadata": {},
     "output_type": "execute_result"
    }
   ],
   "source": [
    "total_expenses.pivot_table(index='tariff', values='total_price', aggfunc='mean')"
   ]
  },
  {
   "cell_type": "markdown",
   "metadata": {},
   "source": [
    "**Вывод:** Мы обозначили две гипотезы: нулевая гипотеза -- Средняя выручка пользователей тарифов \"Ультра\" и \"Смарт\" равны; альтернативная гипотеза -- Средняя выручка пользователей тарифов \"Ультра\" и \"Смарт\" различаются. В ходе проверки мы отвергли нулевую гипотезу. Также мы выяснили, что среднее значения выручки по тарифному плану \"Смарт\" выше стоимости тарифа. Пользователи этого тарифного плана, скорее всего по итогам месяца заплатит больше из-за нехватки услуг в рамках тарифного пакета. Доходы компании \"Мегалайн\" с пользователей по тарифу \"Ультра\" действительно отличаются по сравнению с доходами от тарифа \"Смарт\". "
   ]
  },
  {
   "cell_type": "markdown",
   "metadata": {},
   "source": [
    "Вторая гипотеза звучит: Средняя выручка пользователей из Москвы отличается от выручки пользователей из других регионов. Проверим ее. Для начала определим нулевую и альтернативную гипотезы: \n",
    "* средняя выручка пользователей из Москвы не отличается от выручки пользователей из других регионов;\n",
    "* средняя выручка пользователей из Москвы отличается от выручки пользователей из других регионов."
   ]
  },
  {
   "cell_type": "markdown",
   "metadata": {},
   "source": [
    "Для проведения проверки разделим таблицу на две: по Москве и по остальным городам.  "
   ]
  },
  {
   "cell_type": "code",
   "execution_count": 55,
   "metadata": {},
   "outputs": [
    {
     "data": {
      "text/html": [
       "<div>\n",
       "<style scoped>\n",
       "    .dataframe tbody tr th:only-of-type {\n",
       "        vertical-align: middle;\n",
       "    }\n",
       "\n",
       "    .dataframe tbody tr th {\n",
       "        vertical-align: top;\n",
       "    }\n",
       "\n",
       "    .dataframe thead th {\n",
       "        text-align: right;\n",
       "    }\n",
       "</style>\n",
       "<table border=\"1\" class=\"dataframe\">\n",
       "  <thead>\n",
       "    <tr style=\"text-align: right;\">\n",
       "      <th></th>\n",
       "      <th>total_price</th>\n",
       "    </tr>\n",
       "    <tr>\n",
       "      <th>region</th>\n",
       "      <th></th>\n",
       "    </tr>\n",
       "  </thead>\n",
       "  <tbody>\n",
       "    <tr>\n",
       "      <th>Другой город</th>\n",
       "      <td>1104.492898</td>\n",
       "    </tr>\n",
       "    <tr>\n",
       "      <th>Москва</th>\n",
       "      <td>1201.168576</td>\n",
       "    </tr>\n",
       "  </tbody>\n",
       "</table>\n",
       "</div>"
      ],
      "text/plain": [
       "              total_price\n",
       "region                   \n",
       "Другой город  1104.492898\n",
       "Москва        1201.168576"
      ]
     },
     "execution_count": 55,
     "metadata": {},
     "output_type": "execute_result"
    }
   ],
   "source": [
    "def region(city):\n",
    "    if city == 'Москва':\n",
    "        return 'Москва'\n",
    "    else:\n",
    "        return 'Другой город'\n",
    "    \n",
    "total_expenses['region'] = total_expenses['city'].apply(region)\n",
    "total_expenses.pivot_table(index='region', values='total_price', aggfunc='mean')"
   ]
  },
  {
   "cell_type": "code",
   "execution_count": 56,
   "metadata": {},
   "outputs": [
    {
     "name": "stdout",
     "output_type": "stream",
     "text": [
      "p-значение:  0.00029190842382105807\n",
      "Принимаем альтернативную гипотезу\n"
     ]
    }
   ],
   "source": [
    "sample_1 = total_expenses[total_expenses['city'] == 'Москва']['total_price'] \n",
    "sample_2 = total_expenses[total_expenses['city'] != 'Москва']['total_price'] \n",
    "\n",
    "results = st.ttest_ind( sample_1, sample_2)\n",
    "alpha = 0.05\n",
    "\n",
    "print('p-значение: ', results.pvalue)\n",
    "if results.pvalue < alpha:\n",
    "    print('Принимаем альтернативную гипотезу')\n",
    "else:\n",
    "    print('Опровергнуть нулевую гипотезу нельзя')"
   ]
  },
  {
   "cell_type": "markdown",
   "metadata": {},
   "source": [
    "**Вывод:** Нами были обозначены две гипотезы: нулевая гипотеза -- Средняя выручка пользователей из Москвы не отличается от выручки пользователей из других регионов; альтернативная гипотеза -- Средняя выручка пользователей из Москвы отличается от выручки пользователей из других регионов. В ходе проверки мы отвергли нулевую гипотезу и приняли альтернативную гипотезу. Мы выяснили, что доходы в Московском регионе отличается от доходов в других населенных пунктов."
   ]
  },
  {
   "cell_type": "markdown",
   "metadata": {},
   "source": [
    "## Общий вывод"
   ]
  },
  {
   "cell_type": "markdown",
   "metadata": {},
   "source": [
    "В наше распоряжение попали данные компании \"Мегалайн\" — федерального оператора сотовой связи. Компания предоставляет два тарифных плана \"Смарт\" и \"Ультра\". Перед нами была задача выяснить какой тариф приносит больше денег, чтобы скорректировать рекламный бюджет. Проведя статистический анализ, мы пришли к выводу, что доходы от тарифа \"Ультра\" больше, чем от тарифа \"Смарт\": среднестатистический пользователь тарифа \"Ультра\" приносит компании в месяц 1950 рублей, тогда как другой оператор примерно 760 рубля.  \n",
    "\n",
    "Мы обнаружили следующие нюансы тарифных планов:\n",
    "\n",
    "•\tПользователям тарифа \"Смарт\" часто не хватает пакетных услуг, им приходится доплачивать за дополнительные гигабайты.\n",
    "\n",
    "•\tПользователи тарифа \"Ультра\" не испытывает подобных проблем. Пользователи не обеспокоены вопросом нехватки телекоммуникационных услуг.\n",
    "\n",
    "•\tСредние доходы от пользователей в Москве практически не отличаются от доходов в других населенных пунктах. "
   ]
  }
 ],
 "metadata": {
  "ExecuteTimeLog": [
   {
    "duration": 433,
    "start_time": "2022-04-27T08:29:02.667Z"
   },
   {
    "duration": 150,
    "start_time": "2022-04-27T08:29:53.862Z"
   },
   {
    "duration": 179,
    "start_time": "2022-04-27T08:30:06.069Z"
   },
   {
    "duration": 164,
    "start_time": "2022-04-27T08:30:22.556Z"
   },
   {
    "duration": 180,
    "start_time": "2022-04-27T08:30:36.862Z"
   },
   {
    "duration": 31,
    "start_time": "2022-04-27T08:35:26.684Z"
   },
   {
    "duration": 174,
    "start_time": "2022-04-27T08:35:54.562Z"
   },
   {
    "duration": 170,
    "start_time": "2022-04-27T08:35:58.398Z"
   },
   {
    "duration": 100,
    "start_time": "2022-04-27T08:36:45.125Z"
   },
   {
    "duration": 150,
    "start_time": "2022-04-27T08:37:24.813Z"
   },
   {
    "duration": 23,
    "start_time": "2022-04-27T08:38:01.886Z"
   },
   {
    "duration": 62,
    "start_time": "2022-04-27T08:54:54.690Z"
   },
   {
    "duration": 16,
    "start_time": "2022-04-27T08:55:26.227Z"
   },
   {
    "duration": 28,
    "start_time": "2022-04-27T08:57:49.007Z"
   },
   {
    "duration": 204,
    "start_time": "2022-04-27T08:58:29.226Z"
   },
   {
    "duration": 144,
    "start_time": "2022-04-27T08:59:05.806Z"
   },
   {
    "duration": 53,
    "start_time": "2022-04-27T08:59:37.231Z"
   },
   {
    "duration": 435,
    "start_time": "2022-04-27T08:59:46.846Z"
   },
   {
    "duration": 54,
    "start_time": "2022-04-27T08:59:47.283Z"
   },
   {
    "duration": 221,
    "start_time": "2022-04-27T08:59:47.338Z"
   },
   {
    "duration": 127,
    "start_time": "2022-04-27T08:59:47.573Z"
   },
   {
    "duration": 200,
    "start_time": "2022-04-27T08:59:47.702Z"
   },
   {
    "duration": 45,
    "start_time": "2022-04-27T08:59:47.904Z"
   },
   {
    "duration": 423,
    "start_time": "2022-04-27T08:59:47.951Z"
   },
   {
    "duration": 415,
    "start_time": "2022-04-27T09:12:20.638Z"
   },
   {
    "duration": 66,
    "start_time": "2022-04-27T09:12:21.055Z"
   },
   {
    "duration": 216,
    "start_time": "2022-04-27T09:12:21.122Z"
   },
   {
    "duration": 120,
    "start_time": "2022-04-27T09:12:21.341Z"
   },
   {
    "duration": 214,
    "start_time": "2022-04-27T09:12:21.463Z"
   },
   {
    "duration": 50,
    "start_time": "2022-04-27T09:12:21.678Z"
   },
   {
    "duration": 2,
    "start_time": "2022-04-27T09:16:13.764Z"
   },
   {
    "duration": 71,
    "start_time": "2022-04-27T09:30:55.539Z"
   },
   {
    "duration": 12,
    "start_time": "2022-04-27T09:31:04.143Z"
   },
   {
    "duration": 5,
    "start_time": "2022-04-27T09:31:52.503Z"
   },
   {
    "duration": 13,
    "start_time": "2022-04-27T09:32:11.488Z"
   },
   {
    "duration": 20,
    "start_time": "2022-04-27T09:32:26.326Z"
   },
   {
    "duration": 5,
    "start_time": "2022-04-27T09:33:30.151Z"
   },
   {
    "duration": 8,
    "start_time": "2022-04-27T09:34:19.724Z"
   },
   {
    "duration": 8,
    "start_time": "2022-04-27T09:34:27.188Z"
   },
   {
    "duration": 5,
    "start_time": "2022-04-27T09:34:31.325Z"
   },
   {
    "duration": 6,
    "start_time": "2022-04-27T09:35:56.283Z"
   },
   {
    "duration": 38,
    "start_time": "2022-04-27T09:39:43.306Z"
   },
   {
    "duration": 7,
    "start_time": "2022-04-27T09:43:52.149Z"
   },
   {
    "duration": 5,
    "start_time": "2022-04-27T09:44:45.854Z"
   },
   {
    "duration": 94,
    "start_time": "2022-04-27T09:45:22.367Z"
   },
   {
    "duration": 420,
    "start_time": "2022-04-27T09:45:27.256Z"
   },
   {
    "duration": 59,
    "start_time": "2022-04-27T09:45:27.678Z"
   },
   {
    "duration": 205,
    "start_time": "2022-04-27T09:45:27.739Z"
   },
   {
    "duration": 110,
    "start_time": "2022-04-27T09:45:27.945Z"
   },
   {
    "duration": 194,
    "start_time": "2022-04-27T09:45:28.057Z"
   },
   {
    "duration": 55,
    "start_time": "2022-04-27T09:45:28.253Z"
   },
   {
    "duration": 92,
    "start_time": "2022-04-27T09:45:28.309Z"
   },
   {
    "duration": 5,
    "start_time": "2022-04-27T09:45:28.403Z"
   },
   {
    "duration": 32,
    "start_time": "2022-04-27T09:45:28.409Z"
   },
   {
    "duration": 14,
    "start_time": "2022-04-27T09:45:28.443Z"
   },
   {
    "duration": 167,
    "start_time": "2022-04-27T09:45:28.459Z"
   },
   {
    "duration": 0,
    "start_time": "2022-04-27T09:45:28.627Z"
   },
   {
    "duration": 14,
    "start_time": "2022-04-27T09:49:43.179Z"
   },
   {
    "duration": 6,
    "start_time": "2022-04-27T09:49:51.662Z"
   },
   {
    "duration": 8,
    "start_time": "2022-04-27T09:50:05.087Z"
   },
   {
    "duration": 7,
    "start_time": "2022-04-27T09:50:08.702Z"
   },
   {
    "duration": 15,
    "start_time": "2022-04-27T09:51:14.419Z"
   },
   {
    "duration": 12,
    "start_time": "2022-04-27T09:51:16.496Z"
   },
   {
    "duration": 13,
    "start_time": "2022-04-27T09:51:19.144Z"
   },
   {
    "duration": 7,
    "start_time": "2022-04-27T09:51:21.430Z"
   },
   {
    "duration": 7,
    "start_time": "2022-04-27T09:54:02.148Z"
   },
   {
    "duration": 24,
    "start_time": "2022-04-27T09:55:14.627Z"
   },
   {
    "duration": 7,
    "start_time": "2022-04-27T09:55:53.924Z"
   },
   {
    "duration": 7,
    "start_time": "2022-04-27T09:56:13.553Z"
   },
   {
    "duration": 6,
    "start_time": "2022-04-27T09:56:24.465Z"
   },
   {
    "duration": 6,
    "start_time": "2022-04-27T09:56:38.153Z"
   },
   {
    "duration": 7,
    "start_time": "2022-04-27T09:56:53.737Z"
   },
   {
    "duration": 5,
    "start_time": "2022-04-27T09:57:38.137Z"
   },
   {
    "duration": 13,
    "start_time": "2022-04-27T09:57:49.161Z"
   },
   {
    "duration": 7,
    "start_time": "2022-04-27T09:58:29.890Z"
   },
   {
    "duration": 7,
    "start_time": "2022-04-27T09:58:50.400Z"
   },
   {
    "duration": 7,
    "start_time": "2022-04-27T09:58:54.976Z"
   },
   {
    "duration": 209,
    "start_time": "2022-04-27T09:59:33.209Z"
   },
   {
    "duration": 152,
    "start_time": "2022-04-27T09:59:36.625Z"
   },
   {
    "duration": 527,
    "start_time": "2022-04-27T09:59:46.594Z"
   },
   {
    "duration": 13,
    "start_time": "2022-04-27T09:59:55.008Z"
   },
   {
    "duration": 23,
    "start_time": "2022-04-27T10:00:44.799Z"
   },
   {
    "duration": 8,
    "start_time": "2022-04-27T10:01:00.391Z"
   },
   {
    "duration": 166,
    "start_time": "2022-04-27T10:01:53.953Z"
   },
   {
    "duration": 579,
    "start_time": "2022-04-27T10:02:12.047Z"
   },
   {
    "duration": 22,
    "start_time": "2022-04-27T10:02:27.230Z"
   },
   {
    "duration": 12,
    "start_time": "2022-04-27T10:02:34.742Z"
   },
   {
    "duration": 123,
    "start_time": "2022-04-27T10:03:07.606Z"
   },
   {
    "duration": 16,
    "start_time": "2022-04-27T10:09:51.914Z"
   },
   {
    "duration": 141,
    "start_time": "2022-04-27T10:10:13.708Z"
   },
   {
    "duration": 24,
    "start_time": "2022-04-27T10:10:28.463Z"
   },
   {
    "duration": 155,
    "start_time": "2022-04-27T10:11:25.314Z"
   },
   {
    "duration": 19,
    "start_time": "2022-04-27T10:13:07.167Z"
   },
   {
    "duration": 17,
    "start_time": "2022-04-27T10:13:34.271Z"
   },
   {
    "duration": 151,
    "start_time": "2022-04-27T10:17:55.128Z"
   },
   {
    "duration": 12,
    "start_time": "2022-04-27T10:18:10.712Z"
   },
   {
    "duration": 162,
    "start_time": "2022-04-27T10:20:32.615Z"
   },
   {
    "duration": 12,
    "start_time": "2022-04-27T10:20:34.520Z"
   },
   {
    "duration": 67,
    "start_time": "2022-04-27T10:23:31.005Z"
   },
   {
    "duration": 11,
    "start_time": "2022-04-27T10:25:23.557Z"
   },
   {
    "duration": 5,
    "start_time": "2022-04-27T10:25:55.868Z"
   },
   {
    "duration": 11,
    "start_time": "2022-04-27T10:26:09.493Z"
   },
   {
    "duration": 13,
    "start_time": "2022-04-27T10:31:44.457Z"
   },
   {
    "duration": 9,
    "start_time": "2022-04-27T10:32:08.870Z"
   },
   {
    "duration": 11,
    "start_time": "2022-04-27T10:33:14.775Z"
   },
   {
    "duration": 11,
    "start_time": "2022-04-27T10:33:29.199Z"
   },
   {
    "duration": 1002,
    "start_time": "2022-04-27T10:34:28.273Z"
   },
   {
    "duration": 9,
    "start_time": "2022-04-27T10:36:35.422Z"
   },
   {
    "duration": 9,
    "start_time": "2022-04-27T10:37:57.286Z"
   },
   {
    "duration": 8,
    "start_time": "2022-04-27T10:40:17.765Z"
   },
   {
    "duration": 105,
    "start_time": "2022-04-27T10:42:25.300Z"
   },
   {
    "duration": 135,
    "start_time": "2022-04-27T10:42:33.242Z"
   },
   {
    "duration": 8,
    "start_time": "2022-04-27T10:42:39.579Z"
   },
   {
    "duration": 11,
    "start_time": "2022-04-27T10:44:09.458Z"
   },
   {
    "duration": 9,
    "start_time": "2022-04-27T11:59:32.872Z"
   },
   {
    "duration": 9,
    "start_time": "2022-04-27T11:59:41.115Z"
   },
   {
    "duration": 10,
    "start_time": "2022-04-27T12:06:30.464Z"
   },
   {
    "duration": 421,
    "start_time": "2022-04-27T12:07:22.571Z"
   },
   {
    "duration": 56,
    "start_time": "2022-04-27T12:07:22.994Z"
   },
   {
    "duration": 227,
    "start_time": "2022-04-27T12:07:23.052Z"
   },
   {
    "duration": 116,
    "start_time": "2022-04-27T12:07:23.281Z"
   },
   {
    "duration": 205,
    "start_time": "2022-04-27T12:07:23.398Z"
   },
   {
    "duration": 49,
    "start_time": "2022-04-27T12:07:23.605Z"
   },
   {
    "duration": 95,
    "start_time": "2022-04-27T12:07:23.656Z"
   },
   {
    "duration": 21,
    "start_time": "2022-04-27T12:07:23.753Z"
   },
   {
    "duration": 10,
    "start_time": "2022-04-27T12:07:23.776Z"
   },
   {
    "duration": 12,
    "start_time": "2022-04-27T12:07:23.788Z"
   },
   {
    "duration": 10,
    "start_time": "2022-04-27T12:07:23.802Z"
   },
   {
    "duration": 183,
    "start_time": "2022-04-27T12:07:23.814Z"
   },
   {
    "duration": 12,
    "start_time": "2022-04-27T12:07:23.999Z"
   },
   {
    "duration": 82,
    "start_time": "2022-04-27T12:07:24.012Z"
   },
   {
    "duration": 0,
    "start_time": "2022-04-27T12:07:24.096Z"
   },
   {
    "duration": 0,
    "start_time": "2022-04-27T12:07:24.098Z"
   },
   {
    "duration": 0,
    "start_time": "2022-04-27T12:07:24.100Z"
   },
   {
    "duration": 0,
    "start_time": "2022-04-27T12:07:24.101Z"
   },
   {
    "duration": 0,
    "start_time": "2022-04-27T12:07:24.103Z"
   },
   {
    "duration": 0,
    "start_time": "2022-04-27T12:07:24.105Z"
   },
   {
    "duration": 11,
    "start_time": "2022-04-27T12:07:49.588Z"
   },
   {
    "duration": 12,
    "start_time": "2022-04-27T12:07:53.083Z"
   },
   {
    "duration": 12,
    "start_time": "2022-04-27T12:07:56.490Z"
   },
   {
    "duration": 13,
    "start_time": "2022-04-27T12:08:01.443Z"
   },
   {
    "duration": 9,
    "start_time": "2022-04-27T12:08:20.051Z"
   },
   {
    "duration": 7,
    "start_time": "2022-04-27T12:12:32.297Z"
   },
   {
    "duration": 9,
    "start_time": "2022-04-27T12:13:28.944Z"
   },
   {
    "duration": 404,
    "start_time": "2022-04-27T12:16:07.382Z"
   },
   {
    "duration": 3,
    "start_time": "2022-04-27T12:16:22.407Z"
   },
   {
    "duration": 8,
    "start_time": "2022-04-27T12:16:31.999Z"
   },
   {
    "duration": 8,
    "start_time": "2022-04-27T12:18:46.661Z"
   },
   {
    "duration": 60,
    "start_time": "2022-04-27T12:19:09.015Z"
   },
   {
    "duration": 59,
    "start_time": "2022-04-27T12:19:32.493Z"
   },
   {
    "duration": 53,
    "start_time": "2022-04-27T12:19:43.589Z"
   },
   {
    "duration": 42,
    "start_time": "2022-04-27T12:25:30.386Z"
   },
   {
    "duration": 13,
    "start_time": "2022-04-27T12:25:34.590Z"
   },
   {
    "duration": 11,
    "start_time": "2022-04-27T12:26:13.034Z"
   },
   {
    "duration": 13,
    "start_time": "2022-04-27T12:26:29.059Z"
   },
   {
    "duration": 44,
    "start_time": "2022-04-27T12:27:02.273Z"
   },
   {
    "duration": 15,
    "start_time": "2022-04-27T12:34:52.159Z"
   },
   {
    "duration": 424,
    "start_time": "2022-04-27T12:35:00.166Z"
   },
   {
    "duration": 60,
    "start_time": "2022-04-27T12:35:00.592Z"
   },
   {
    "duration": 225,
    "start_time": "2022-04-27T12:35:00.653Z"
   },
   {
    "duration": 110,
    "start_time": "2022-04-27T12:35:00.880Z"
   },
   {
    "duration": 200,
    "start_time": "2022-04-27T12:35:00.991Z"
   },
   {
    "duration": 45,
    "start_time": "2022-04-27T12:35:01.192Z"
   },
   {
    "duration": 87,
    "start_time": "2022-04-27T12:35:01.238Z"
   },
   {
    "duration": 6,
    "start_time": "2022-04-27T12:35:01.326Z"
   },
   {
    "duration": 9,
    "start_time": "2022-04-27T12:35:01.334Z"
   },
   {
    "duration": 11,
    "start_time": "2022-04-27T12:35:01.345Z"
   },
   {
    "duration": 8,
    "start_time": "2022-04-27T12:35:01.358Z"
   },
   {
    "duration": 207,
    "start_time": "2022-04-27T12:35:01.368Z"
   },
   {
    "duration": 11,
    "start_time": "2022-04-27T12:35:01.577Z"
   },
   {
    "duration": 20,
    "start_time": "2022-04-27T12:35:01.590Z"
   },
   {
    "duration": 23,
    "start_time": "2022-04-27T12:35:01.611Z"
   },
   {
    "duration": 207,
    "start_time": "2022-04-27T12:35:01.635Z"
   },
   {
    "duration": 42,
    "start_time": "2022-04-27T12:35:01.845Z"
   },
   {
    "duration": 176,
    "start_time": "2022-04-27T12:35:01.890Z"
   },
   {
    "duration": 13,
    "start_time": "2022-04-27T12:35:02.074Z"
   },
   {
    "duration": 137,
    "start_time": "2022-04-27T12:35:02.090Z"
   },
   {
    "duration": 25,
    "start_time": "2022-04-27T12:35:45.501Z"
   },
   {
    "duration": 423,
    "start_time": "2022-04-27T12:37:35.285Z"
   },
   {
    "duration": 57,
    "start_time": "2022-04-27T12:37:35.710Z"
   },
   {
    "duration": 225,
    "start_time": "2022-04-27T12:37:35.769Z"
   },
   {
    "duration": 119,
    "start_time": "2022-04-27T12:37:35.996Z"
   },
   {
    "duration": 405,
    "start_time": "2022-04-27T12:37:36.117Z"
   },
   {
    "duration": 66,
    "start_time": "2022-04-27T12:37:36.524Z"
   },
   {
    "duration": 93,
    "start_time": "2022-04-27T12:37:36.591Z"
   },
   {
    "duration": 6,
    "start_time": "2022-04-27T12:37:36.686Z"
   },
   {
    "duration": 11,
    "start_time": "2022-04-27T12:37:36.693Z"
   },
   {
    "duration": 7,
    "start_time": "2022-04-27T12:37:36.707Z"
   },
   {
    "duration": 9,
    "start_time": "2022-04-27T12:37:36.715Z"
   },
   {
    "duration": 98,
    "start_time": "2022-04-27T12:37:36.726Z"
   },
   {
    "duration": 0,
    "start_time": "2022-04-27T12:37:36.826Z"
   },
   {
    "duration": 0,
    "start_time": "2022-04-27T12:37:36.827Z"
   },
   {
    "duration": 0,
    "start_time": "2022-04-27T12:37:36.828Z"
   },
   {
    "duration": 0,
    "start_time": "2022-04-27T12:37:36.829Z"
   },
   {
    "duration": 0,
    "start_time": "2022-04-27T12:37:36.831Z"
   },
   {
    "duration": 0,
    "start_time": "2022-04-27T12:37:36.832Z"
   },
   {
    "duration": 0,
    "start_time": "2022-04-27T12:37:36.833Z"
   },
   {
    "duration": 0,
    "start_time": "2022-04-27T12:37:36.834Z"
   },
   {
    "duration": 0,
    "start_time": "2022-04-27T12:37:36.835Z"
   },
   {
    "duration": 14,
    "start_time": "2022-04-27T12:38:01.520Z"
   },
   {
    "duration": 10,
    "start_time": "2022-04-27T12:38:05.640Z"
   },
   {
    "duration": 11,
    "start_time": "2022-04-27T12:38:13.967Z"
   },
   {
    "duration": 361,
    "start_time": "2022-04-27T12:38:36.977Z"
   },
   {
    "duration": 21,
    "start_time": "2022-04-27T12:39:42.395Z"
   },
   {
    "duration": 431,
    "start_time": "2022-04-27T12:41:09.639Z"
   },
   {
    "duration": 69,
    "start_time": "2022-04-27T12:41:10.073Z"
   },
   {
    "duration": 214,
    "start_time": "2022-04-27T12:41:10.143Z"
   },
   {
    "duration": 123,
    "start_time": "2022-04-27T12:41:10.359Z"
   },
   {
    "duration": 205,
    "start_time": "2022-04-27T12:41:10.483Z"
   },
   {
    "duration": 47,
    "start_time": "2022-04-27T12:41:10.690Z"
   },
   {
    "duration": 97,
    "start_time": "2022-04-27T12:41:10.739Z"
   },
   {
    "duration": 6,
    "start_time": "2022-04-27T12:41:10.838Z"
   },
   {
    "duration": 8,
    "start_time": "2022-04-27T12:41:10.845Z"
   },
   {
    "duration": 6,
    "start_time": "2022-04-27T12:41:10.872Z"
   },
   {
    "duration": 14,
    "start_time": "2022-04-27T12:41:10.879Z"
   },
   {
    "duration": 4,
    "start_time": "2022-04-27T12:41:10.895Z"
   },
   {
    "duration": 82,
    "start_time": "2022-04-27T12:41:10.901Z"
   },
   {
    "duration": 0,
    "start_time": "2022-04-27T12:41:10.984Z"
   },
   {
    "duration": 0,
    "start_time": "2022-04-27T12:41:10.986Z"
   },
   {
    "duration": 0,
    "start_time": "2022-04-27T12:41:10.986Z"
   },
   {
    "duration": 8,
    "start_time": "2022-04-27T12:44:06.883Z"
   },
   {
    "duration": 38,
    "start_time": "2022-04-27T12:44:16.564Z"
   },
   {
    "duration": 17,
    "start_time": "2022-04-27T12:44:27.860Z"
   },
   {
    "duration": 51,
    "start_time": "2022-04-27T12:44:50.981Z"
   },
   {
    "duration": 18,
    "start_time": "2022-04-27T12:44:52.772Z"
   },
   {
    "duration": 26,
    "start_time": "2022-04-27T12:45:09.195Z"
   },
   {
    "duration": 452,
    "start_time": "2022-04-27T12:45:29.272Z"
   },
   {
    "duration": 61,
    "start_time": "2022-04-27T12:45:29.726Z"
   },
   {
    "duration": 222,
    "start_time": "2022-04-27T12:45:29.789Z"
   },
   {
    "duration": 125,
    "start_time": "2022-04-27T12:45:30.013Z"
   },
   {
    "duration": 199,
    "start_time": "2022-04-27T12:45:30.142Z"
   },
   {
    "duration": 57,
    "start_time": "2022-04-27T12:45:30.342Z"
   },
   {
    "duration": 96,
    "start_time": "2022-04-27T12:45:30.401Z"
   },
   {
    "duration": 7,
    "start_time": "2022-04-27T12:45:30.499Z"
   },
   {
    "duration": 12,
    "start_time": "2022-04-27T12:45:30.507Z"
   },
   {
    "duration": 16,
    "start_time": "2022-04-27T12:45:30.520Z"
   },
   {
    "duration": 15,
    "start_time": "2022-04-27T12:45:30.538Z"
   },
   {
    "duration": 5,
    "start_time": "2022-04-27T12:45:30.554Z"
   },
   {
    "duration": 161,
    "start_time": "2022-04-27T12:45:30.561Z"
   },
   {
    "duration": 21,
    "start_time": "2022-04-27T12:45:30.725Z"
   },
   {
    "duration": 57,
    "start_time": "2022-04-27T12:45:30.748Z"
   },
   {
    "duration": 23,
    "start_time": "2022-04-27T12:45:30.807Z"
   },
   {
    "duration": 43,
    "start_time": "2022-04-27T12:45:30.832Z"
   },
   {
    "duration": 158,
    "start_time": "2022-04-27T12:45:30.876Z"
   },
   {
    "duration": 41,
    "start_time": "2022-04-27T12:46:05.870Z"
   },
   {
    "duration": 23,
    "start_time": "2022-04-27T12:46:08.839Z"
   },
   {
    "duration": 23,
    "start_time": "2022-04-27T12:46:12.491Z"
   },
   {
    "duration": 42,
    "start_time": "2022-04-27T12:46:29.560Z"
   },
   {
    "duration": 29,
    "start_time": "2022-04-27T12:46:31.143Z"
   },
   {
    "duration": 23,
    "start_time": "2022-04-27T12:46:32.808Z"
   },
   {
    "duration": 171,
    "start_time": "2022-04-27T12:47:35.694Z"
   },
   {
    "duration": 24,
    "start_time": "2022-04-27T12:47:38.396Z"
   },
   {
    "duration": 67,
    "start_time": "2022-04-27T12:48:48.384Z"
   },
   {
    "duration": 381,
    "start_time": "2022-04-27T12:52:34.003Z"
   },
   {
    "duration": 60,
    "start_time": "2022-04-27T12:52:34.386Z"
   },
   {
    "duration": 215,
    "start_time": "2022-04-27T12:52:34.448Z"
   },
   {
    "duration": 113,
    "start_time": "2022-04-27T12:52:34.672Z"
   },
   {
    "duration": 203,
    "start_time": "2022-04-27T12:52:34.787Z"
   },
   {
    "duration": 49,
    "start_time": "2022-04-27T12:52:34.992Z"
   },
   {
    "duration": 92,
    "start_time": "2022-04-27T12:52:35.043Z"
   },
   {
    "duration": 6,
    "start_time": "2022-04-27T12:52:35.137Z"
   },
   {
    "duration": 20,
    "start_time": "2022-04-27T12:52:35.144Z"
   },
   {
    "duration": 10,
    "start_time": "2022-04-27T12:52:35.166Z"
   },
   {
    "duration": 8,
    "start_time": "2022-04-27T12:52:35.178Z"
   },
   {
    "duration": 7,
    "start_time": "2022-04-27T12:52:35.187Z"
   },
   {
    "duration": 173,
    "start_time": "2022-04-27T12:52:35.195Z"
   },
   {
    "duration": 22,
    "start_time": "2022-04-27T12:52:35.374Z"
   },
   {
    "duration": 190,
    "start_time": "2022-04-27T12:52:35.398Z"
   },
   {
    "duration": 63,
    "start_time": "2022-04-27T12:55:16.928Z"
   },
   {
    "duration": 9,
    "start_time": "2022-04-27T12:56:08.422Z"
   },
   {
    "duration": 50,
    "start_time": "2022-04-27T13:17:24.299Z"
   },
   {
    "duration": 65,
    "start_time": "2022-04-27T13:17:38.596Z"
   },
   {
    "duration": 423,
    "start_time": "2022-04-27T13:17:57.263Z"
   },
   {
    "duration": 49,
    "start_time": "2022-04-27T13:17:57.688Z"
   },
   {
    "duration": 209,
    "start_time": "2022-04-27T13:17:57.739Z"
   },
   {
    "duration": 115,
    "start_time": "2022-04-27T13:17:57.950Z"
   },
   {
    "duration": 186,
    "start_time": "2022-04-27T13:17:58.073Z"
   },
   {
    "duration": 51,
    "start_time": "2022-04-27T13:17:58.261Z"
   },
   {
    "duration": 96,
    "start_time": "2022-04-27T13:17:58.314Z"
   },
   {
    "duration": 6,
    "start_time": "2022-04-27T13:17:58.412Z"
   },
   {
    "duration": 32,
    "start_time": "2022-04-27T13:17:58.419Z"
   },
   {
    "duration": 10,
    "start_time": "2022-04-27T13:17:58.453Z"
   },
   {
    "duration": 16,
    "start_time": "2022-04-27T13:17:58.465Z"
   },
   {
    "duration": 22,
    "start_time": "2022-04-27T13:17:58.483Z"
   },
   {
    "duration": 177,
    "start_time": "2022-04-27T13:17:58.507Z"
   },
   {
    "duration": 25,
    "start_time": "2022-04-27T13:17:58.687Z"
   },
   {
    "duration": 82,
    "start_time": "2022-04-27T13:17:58.714Z"
   },
   {
    "duration": 128,
    "start_time": "2022-04-27T13:17:58.798Z"
   },
   {
    "duration": 134,
    "start_time": "2022-04-27T13:20:47.888Z"
   },
   {
    "duration": 16,
    "start_time": "2022-04-28T09:57:13.791Z"
   },
   {
    "duration": 506,
    "start_time": "2022-04-28T09:57:17.896Z"
   },
   {
    "duration": 67,
    "start_time": "2022-04-28T09:57:18.404Z"
   },
   {
    "duration": 279,
    "start_time": "2022-04-28T09:57:18.474Z"
   },
   {
    "duration": 138,
    "start_time": "2022-04-28T09:57:18.756Z"
   },
   {
    "duration": 237,
    "start_time": "2022-04-28T09:57:18.896Z"
   },
   {
    "duration": 71,
    "start_time": "2022-04-28T09:57:19.135Z"
   },
   {
    "duration": 125,
    "start_time": "2022-04-28T09:57:19.209Z"
   },
   {
    "duration": 8,
    "start_time": "2022-04-28T09:57:19.336Z"
   },
   {
    "duration": 8,
    "start_time": "2022-04-28T09:57:19.353Z"
   },
   {
    "duration": 10,
    "start_time": "2022-04-28T09:57:19.366Z"
   },
   {
    "duration": 10,
    "start_time": "2022-04-28T09:57:19.378Z"
   },
   {
    "duration": 6,
    "start_time": "2022-04-28T09:57:19.390Z"
   },
   {
    "duration": 234,
    "start_time": "2022-04-28T09:57:19.398Z"
   },
   {
    "duration": 41,
    "start_time": "2022-04-28T09:57:19.635Z"
   },
   {
    "duration": 4,
    "start_time": "2022-04-28T09:57:19.679Z"
   },
   {
    "duration": 95,
    "start_time": "2022-04-28T09:57:19.685Z"
   },
   {
    "duration": 1675,
    "start_time": "2022-04-28T09:57:46.572Z"
   },
   {
    "duration": 97,
    "start_time": "2022-04-28T09:57:56.319Z"
   },
   {
    "duration": 79,
    "start_time": "2022-04-28T09:58:05.905Z"
   },
   {
    "duration": 89,
    "start_time": "2022-04-28T09:58:25.566Z"
   },
   {
    "duration": 5,
    "start_time": "2022-04-28T09:58:46.024Z"
   },
   {
    "duration": 5,
    "start_time": "2022-04-28T09:59:16.853Z"
   },
   {
    "duration": 85,
    "start_time": "2022-04-28T09:59:18.445Z"
   },
   {
    "duration": 199,
    "start_time": "2022-04-28T10:00:35.197Z"
   },
   {
    "duration": 11,
    "start_time": "2022-04-28T10:03:32.864Z"
   },
   {
    "duration": 10,
    "start_time": "2022-04-28T10:03:47.332Z"
   },
   {
    "duration": 4,
    "start_time": "2022-04-28T10:04:03.605Z"
   },
   {
    "duration": 76,
    "start_time": "2022-04-28T10:04:05.381Z"
   },
   {
    "duration": 90,
    "start_time": "2022-04-28T10:04:14.916Z"
   },
   {
    "duration": 577,
    "start_time": "2022-04-28T10:04:27.224Z"
   },
   {
    "duration": 70,
    "start_time": "2022-04-28T10:04:27.805Z"
   },
   {
    "duration": 301,
    "start_time": "2022-04-28T10:04:27.877Z"
   },
   {
    "duration": 150,
    "start_time": "2022-04-28T10:04:28.181Z"
   },
   {
    "duration": 256,
    "start_time": "2022-04-28T10:04:28.336Z"
   },
   {
    "duration": 92,
    "start_time": "2022-04-28T10:04:28.594Z"
   },
   {
    "duration": 185,
    "start_time": "2022-04-28T10:04:28.688Z"
   },
   {
    "duration": 9,
    "start_time": "2022-04-28T10:04:28.876Z"
   },
   {
    "duration": 8,
    "start_time": "2022-04-28T10:04:28.887Z"
   },
   {
    "duration": 8,
    "start_time": "2022-04-28T10:04:28.898Z"
   },
   {
    "duration": 44,
    "start_time": "2022-04-28T10:04:28.909Z"
   },
   {
    "duration": 15,
    "start_time": "2022-04-28T10:04:28.956Z"
   },
   {
    "duration": 222,
    "start_time": "2022-04-28T10:04:28.973Z"
   },
   {
    "duration": 4,
    "start_time": "2022-04-28T10:04:29.199Z"
   },
   {
    "duration": 115,
    "start_time": "2022-04-28T10:04:29.205Z"
   },
   {
    "duration": 287,
    "start_time": "2022-04-28T10:04:29.322Z"
   },
   {
    "duration": 56,
    "start_time": "2022-04-28T10:04:29.611Z"
   },
   {
    "duration": 5,
    "start_time": "2022-04-28T10:04:29.670Z"
   },
   {
    "duration": 159,
    "start_time": "2022-04-28T10:04:29.677Z"
   },
   {
    "duration": 92,
    "start_time": "2022-04-28T10:04:29.838Z"
   },
   {
    "duration": 3,
    "start_time": "2022-04-28T10:05:15.465Z"
   },
   {
    "duration": 4,
    "start_time": "2022-04-28T10:05:20.233Z"
   },
   {
    "duration": 507,
    "start_time": "2022-04-28T10:37:49.265Z"
   },
   {
    "duration": 91,
    "start_time": "2022-04-28T10:37:49.775Z"
   },
   {
    "duration": 296,
    "start_time": "2022-04-28T10:37:49.868Z"
   },
   {
    "duration": 140,
    "start_time": "2022-04-28T10:37:50.167Z"
   },
   {
    "duration": 283,
    "start_time": "2022-04-28T10:37:50.309Z"
   },
   {
    "duration": 91,
    "start_time": "2022-04-28T10:37:50.595Z"
   },
   {
    "duration": 130,
    "start_time": "2022-04-28T10:37:50.689Z"
   },
   {
    "duration": 7,
    "start_time": "2022-04-28T10:37:50.822Z"
   },
   {
    "duration": 26,
    "start_time": "2022-04-28T10:37:50.831Z"
   },
   {
    "duration": 40,
    "start_time": "2022-04-28T10:37:50.860Z"
   },
   {
    "duration": 10,
    "start_time": "2022-04-28T10:37:50.903Z"
   },
   {
    "duration": 14,
    "start_time": "2022-04-28T10:37:50.916Z"
   },
   {
    "duration": 9,
    "start_time": "2022-04-28T10:37:50.932Z"
   },
   {
    "duration": 8,
    "start_time": "2022-04-28T10:37:50.944Z"
   },
   {
    "duration": 161,
    "start_time": "2022-04-28T10:37:50.955Z"
   },
   {
    "duration": 159,
    "start_time": "2022-04-28T10:37:51.119Z"
   },
   {
    "duration": 0,
    "start_time": "2022-04-28T10:37:51.281Z"
   },
   {
    "duration": 0,
    "start_time": "2022-04-28T10:37:51.283Z"
   },
   {
    "duration": 0,
    "start_time": "2022-04-28T10:37:51.285Z"
   },
   {
    "duration": 0,
    "start_time": "2022-04-28T10:37:51.287Z"
   },
   {
    "duration": 0,
    "start_time": "2022-04-28T10:37:51.289Z"
   },
   {
    "duration": 12,
    "start_time": "2022-04-28T12:40:41.584Z"
   },
   {
    "duration": 1522,
    "start_time": "2022-04-28T12:42:16.111Z"
   },
   {
    "duration": 14,
    "start_time": "2022-04-28T12:42:41.977Z"
   },
   {
    "duration": 15,
    "start_time": "2022-04-28T12:42:57.512Z"
   },
   {
    "duration": 13,
    "start_time": "2022-04-28T12:43:05.127Z"
   },
   {
    "duration": 14,
    "start_time": "2022-04-28T12:43:21.431Z"
   },
   {
    "duration": 5,
    "start_time": "2022-04-28T12:44:35.399Z"
   },
   {
    "duration": 17,
    "start_time": "2022-04-28T12:45:12.574Z"
   },
   {
    "duration": 276,
    "start_time": "2022-04-28T13:57:17.523Z"
   },
   {
    "duration": 517,
    "start_time": "2022-04-28T14:00:37.835Z"
   },
   {
    "duration": 74,
    "start_time": "2022-04-28T14:00:38.355Z"
   },
   {
    "duration": 288,
    "start_time": "2022-04-28T14:00:38.432Z"
   },
   {
    "duration": 160,
    "start_time": "2022-04-28T14:00:38.723Z"
   },
   {
    "duration": 256,
    "start_time": "2022-04-28T14:00:38.885Z"
   },
   {
    "duration": 64,
    "start_time": "2022-04-28T14:00:39.157Z"
   },
   {
    "duration": 135,
    "start_time": "2022-04-28T14:00:39.223Z"
   },
   {
    "duration": 10,
    "start_time": "2022-04-28T14:00:39.360Z"
   },
   {
    "duration": 15,
    "start_time": "2022-04-28T14:00:39.372Z"
   },
   {
    "duration": 11,
    "start_time": "2022-04-28T14:00:39.391Z"
   },
   {
    "duration": 20,
    "start_time": "2022-04-28T14:00:39.404Z"
   },
   {
    "duration": 6,
    "start_time": "2022-04-28T14:00:39.426Z"
   },
   {
    "duration": 6,
    "start_time": "2022-04-28T14:00:39.456Z"
   },
   {
    "duration": 1915,
    "start_time": "2022-04-28T14:00:39.464Z"
   },
   {
    "duration": 0,
    "start_time": "2022-04-28T14:00:41.381Z"
   },
   {
    "duration": 0,
    "start_time": "2022-04-28T14:00:41.383Z"
   },
   {
    "duration": 0,
    "start_time": "2022-04-28T14:00:41.384Z"
   },
   {
    "duration": 0,
    "start_time": "2022-04-28T14:00:41.386Z"
   },
   {
    "duration": 0,
    "start_time": "2022-04-28T14:00:41.387Z"
   },
   {
    "duration": 0,
    "start_time": "2022-04-28T14:00:41.389Z"
   },
   {
    "duration": 0,
    "start_time": "2022-04-28T14:00:41.390Z"
   },
   {
    "duration": 0,
    "start_time": "2022-04-28T14:00:41.392Z"
   },
   {
    "duration": 2903,
    "start_time": "2022-04-28T14:01:13.228Z"
   },
   {
    "duration": 5,
    "start_time": "2022-04-28T14:06:16.953Z"
   },
   {
    "duration": 136,
    "start_time": "2022-04-28T14:06:18.714Z"
   },
   {
    "duration": 499,
    "start_time": "2022-04-28T14:06:36.999Z"
   },
   {
    "duration": 71,
    "start_time": "2022-04-28T14:06:37.500Z"
   },
   {
    "duration": 312,
    "start_time": "2022-04-28T14:06:37.574Z"
   },
   {
    "duration": 209,
    "start_time": "2022-04-28T14:06:37.889Z"
   },
   {
    "duration": 368,
    "start_time": "2022-04-28T14:06:38.101Z"
   },
   {
    "duration": 82,
    "start_time": "2022-04-28T14:06:38.471Z"
   },
   {
    "duration": 185,
    "start_time": "2022-04-28T14:06:38.556Z"
   },
   {
    "duration": 14,
    "start_time": "2022-04-28T14:06:38.744Z"
   },
   {
    "duration": 22,
    "start_time": "2022-04-28T14:06:38.761Z"
   },
   {
    "duration": 15,
    "start_time": "2022-04-28T14:06:38.787Z"
   },
   {
    "duration": 21,
    "start_time": "2022-04-28T14:06:38.804Z"
   },
   {
    "duration": 11,
    "start_time": "2022-04-28T14:06:38.828Z"
   },
   {
    "duration": 24,
    "start_time": "2022-04-28T14:06:38.841Z"
   },
   {
    "duration": 171,
    "start_time": "2022-04-28T14:06:38.868Z"
   },
   {
    "duration": 169,
    "start_time": "2022-04-28T14:06:39.042Z"
   },
   {
    "duration": 0,
    "start_time": "2022-04-28T14:06:39.213Z"
   },
   {
    "duration": 0,
    "start_time": "2022-04-28T14:06:39.216Z"
   },
   {
    "duration": 0,
    "start_time": "2022-04-28T14:06:39.219Z"
   },
   {
    "duration": 0,
    "start_time": "2022-04-28T14:06:39.220Z"
   },
   {
    "duration": 0,
    "start_time": "2022-04-28T14:06:39.222Z"
   },
   {
    "duration": 0,
    "start_time": "2022-04-28T14:06:39.225Z"
   },
   {
    "duration": 0,
    "start_time": "2022-04-28T14:06:39.226Z"
   },
   {
    "duration": 103,
    "start_time": "2022-04-28T14:07:15.886Z"
   },
   {
    "duration": 99,
    "start_time": "2022-04-28T14:07:18.789Z"
   },
   {
    "duration": 113,
    "start_time": "2022-04-28T14:07:22.052Z"
   },
   {
    "duration": 4,
    "start_time": "2022-04-28T14:07:25.780Z"
   },
   {
    "duration": 95,
    "start_time": "2022-04-28T14:07:28.023Z"
   },
   {
    "duration": 15,
    "start_time": "2022-04-28T14:08:31.740Z"
   },
   {
    "duration": 9,
    "start_time": "2022-04-28T14:08:40.173Z"
   },
   {
    "duration": 9,
    "start_time": "2022-04-28T14:08:48.788Z"
   },
   {
    "duration": 9,
    "start_time": "2022-04-28T14:08:53.229Z"
   },
   {
    "duration": 9,
    "start_time": "2022-04-28T14:09:11.925Z"
   },
   {
    "duration": 14,
    "start_time": "2022-04-28T14:09:31.215Z"
   },
   {
    "duration": 91,
    "start_time": "2022-04-28T14:11:48.267Z"
   },
   {
    "duration": 7,
    "start_time": "2022-04-28T14:12:01.539Z"
   },
   {
    "duration": 224,
    "start_time": "2022-04-28T14:12:03.011Z"
   },
   {
    "duration": 134,
    "start_time": "2022-04-28T14:12:24.811Z"
   },
   {
    "duration": 561,
    "start_time": "2022-04-28T14:12:30.206Z"
   },
   {
    "duration": 82,
    "start_time": "2022-04-28T14:12:30.770Z"
   },
   {
    "duration": 327,
    "start_time": "2022-04-28T14:12:30.855Z"
   },
   {
    "duration": 151,
    "start_time": "2022-04-28T14:12:31.184Z"
   },
   {
    "duration": 244,
    "start_time": "2022-04-28T14:12:31.338Z"
   },
   {
    "duration": 100,
    "start_time": "2022-04-28T14:12:31.585Z"
   },
   {
    "duration": 148,
    "start_time": "2022-04-28T14:12:31.688Z"
   },
   {
    "duration": 14,
    "start_time": "2022-04-28T14:12:31.838Z"
   },
   {
    "duration": 19,
    "start_time": "2022-04-28T14:12:31.854Z"
   },
   {
    "duration": 17,
    "start_time": "2022-04-28T14:12:31.876Z"
   },
   {
    "duration": 26,
    "start_time": "2022-04-28T14:12:31.895Z"
   },
   {
    "duration": 12,
    "start_time": "2022-04-28T14:12:31.924Z"
   },
   {
    "duration": 16,
    "start_time": "2022-04-28T14:12:31.938Z"
   },
   {
    "duration": 214,
    "start_time": "2022-04-28T14:12:31.959Z"
   },
   {
    "duration": 137,
    "start_time": "2022-04-28T14:12:32.175Z"
   },
   {
    "duration": 0,
    "start_time": "2022-04-28T14:12:32.315Z"
   },
   {
    "duration": 0,
    "start_time": "2022-04-28T14:12:32.317Z"
   },
   {
    "duration": 0,
    "start_time": "2022-04-28T14:12:32.319Z"
   },
   {
    "duration": 0,
    "start_time": "2022-04-28T14:12:32.322Z"
   },
   {
    "duration": 0,
    "start_time": "2022-04-28T14:12:32.323Z"
   },
   {
    "duration": 0,
    "start_time": "2022-04-28T14:12:32.325Z"
   },
   {
    "duration": 0,
    "start_time": "2022-04-28T14:12:32.326Z"
   },
   {
    "duration": 591,
    "start_time": "2022-04-28T14:12:58.500Z"
   },
   {
    "duration": 77,
    "start_time": "2022-04-28T14:12:59.094Z"
   },
   {
    "duration": 344,
    "start_time": "2022-04-28T14:12:59.177Z"
   },
   {
    "duration": 210,
    "start_time": "2022-04-28T14:12:59.525Z"
   },
   {
    "duration": 343,
    "start_time": "2022-04-28T14:12:59.738Z"
   },
   {
    "duration": 102,
    "start_time": "2022-04-28T14:13:00.083Z"
   },
   {
    "duration": 152,
    "start_time": "2022-04-28T14:13:00.187Z"
   },
   {
    "duration": 19,
    "start_time": "2022-04-28T14:13:00.341Z"
   },
   {
    "duration": 27,
    "start_time": "2022-04-28T14:13:00.363Z"
   },
   {
    "duration": 18,
    "start_time": "2022-04-28T14:13:00.394Z"
   },
   {
    "duration": 19,
    "start_time": "2022-04-28T14:13:00.414Z"
   },
   {
    "duration": 8,
    "start_time": "2022-04-28T14:13:00.435Z"
   },
   {
    "duration": 206,
    "start_time": "2022-04-28T14:13:00.445Z"
   },
   {
    "duration": 148,
    "start_time": "2022-04-28T14:13:00.654Z"
   },
   {
    "duration": 0,
    "start_time": "2022-04-28T14:13:00.805Z"
   },
   {
    "duration": 0,
    "start_time": "2022-04-28T14:13:00.807Z"
   },
   {
    "duration": 0,
    "start_time": "2022-04-28T14:13:00.810Z"
   },
   {
    "duration": 0,
    "start_time": "2022-04-28T14:13:00.812Z"
   },
   {
    "duration": 0,
    "start_time": "2022-04-28T14:13:00.814Z"
   },
   {
    "duration": 0,
    "start_time": "2022-04-28T14:13:00.816Z"
   },
   {
    "duration": 0,
    "start_time": "2022-04-28T14:13:00.818Z"
   },
   {
    "duration": 206,
    "start_time": "2022-04-28T14:13:21.677Z"
   },
   {
    "duration": 208,
    "start_time": "2022-04-28T14:13:28.921Z"
   },
   {
    "duration": 162,
    "start_time": "2022-04-28T14:15:18.103Z"
   },
   {
    "duration": 222,
    "start_time": "2022-04-28T14:18:24.373Z"
   },
   {
    "duration": 29,
    "start_time": "2022-04-28T14:21:58.096Z"
   },
   {
    "duration": 22,
    "start_time": "2022-04-28T14:23:37.443Z"
   },
   {
    "duration": 31,
    "start_time": "2022-04-28T14:23:45.938Z"
   },
   {
    "duration": 4,
    "start_time": "2022-04-28T14:23:52.229Z"
   },
   {
    "duration": 60,
    "start_time": "2022-04-28T14:24:10.787Z"
   },
   {
    "duration": 68,
    "start_time": "2022-04-28T14:24:17.394Z"
   },
   {
    "duration": 23,
    "start_time": "2022-04-28T14:27:46.492Z"
   },
   {
    "duration": 28,
    "start_time": "2022-04-28T14:28:05.257Z"
   },
   {
    "duration": 44,
    "start_time": "2022-04-28T14:35:26.132Z"
   },
   {
    "duration": 9,
    "start_time": "2022-04-28T14:39:43.322Z"
   },
   {
    "duration": 10,
    "start_time": "2022-04-28T14:40:03.072Z"
   },
   {
    "duration": 13,
    "start_time": "2022-04-28T14:40:10.394Z"
   },
   {
    "duration": 11,
    "start_time": "2022-04-28T14:40:52.587Z"
   },
   {
    "duration": 15,
    "start_time": "2022-04-28T14:40:58.246Z"
   },
   {
    "duration": 28,
    "start_time": "2022-04-28T14:41:05.449Z"
   },
   {
    "duration": 33,
    "start_time": "2022-04-28T14:41:47.352Z"
   },
   {
    "duration": 28,
    "start_time": "2022-04-28T14:41:52.696Z"
   },
   {
    "duration": 18,
    "start_time": "2022-04-28T14:42:09.401Z"
   },
   {
    "duration": 26,
    "start_time": "2022-04-28T14:42:15.633Z"
   },
   {
    "duration": 13,
    "start_time": "2022-04-28T14:43:34.160Z"
   },
   {
    "duration": 90,
    "start_time": "2022-04-28T14:44:48.000Z"
   },
   {
    "duration": 17,
    "start_time": "2022-04-28T14:45:04.081Z"
   },
   {
    "duration": 14,
    "start_time": "2022-04-28T14:45:28.233Z"
   },
   {
    "duration": 25,
    "start_time": "2022-04-28T14:45:33.454Z"
   },
   {
    "duration": 83,
    "start_time": "2022-04-28T14:46:53.195Z"
   },
   {
    "duration": 18,
    "start_time": "2022-04-28T14:46:59.702Z"
   },
   {
    "duration": 6,
    "start_time": "2022-04-28T14:47:20.326Z"
   },
   {
    "duration": 18,
    "start_time": "2022-04-28T14:47:26.397Z"
   },
   {
    "duration": 16,
    "start_time": "2022-04-28T14:48:09.990Z"
   },
   {
    "duration": 18,
    "start_time": "2022-04-28T14:48:21.486Z"
   },
   {
    "duration": 18,
    "start_time": "2022-04-28T14:49:07.154Z"
   },
   {
    "duration": 20,
    "start_time": "2022-04-28T14:49:23.414Z"
   },
   {
    "duration": 7,
    "start_time": "2022-04-28T14:52:31.501Z"
   },
   {
    "duration": 71,
    "start_time": "2022-04-29T11:22:11.252Z"
   },
   {
    "duration": 531,
    "start_time": "2022-04-29T11:22:19.672Z"
   },
   {
    "duration": 90,
    "start_time": "2022-04-29T11:22:20.206Z"
   },
   {
    "duration": 269,
    "start_time": "2022-04-29T11:22:20.298Z"
   },
   {
    "duration": 145,
    "start_time": "2022-04-29T11:22:20.570Z"
   },
   {
    "duration": 250,
    "start_time": "2022-04-29T11:22:20.717Z"
   },
   {
    "duration": 92,
    "start_time": "2022-04-29T11:22:20.970Z"
   },
   {
    "duration": 114,
    "start_time": "2022-04-29T11:22:21.065Z"
   },
   {
    "duration": 16,
    "start_time": "2022-04-29T11:22:21.182Z"
   },
   {
    "duration": 17,
    "start_time": "2022-04-29T11:22:21.200Z"
   },
   {
    "duration": 8,
    "start_time": "2022-04-29T11:22:21.221Z"
   },
   {
    "duration": 10,
    "start_time": "2022-04-29T11:22:21.231Z"
   },
   {
    "duration": 4,
    "start_time": "2022-04-29T11:22:21.243Z"
   },
   {
    "duration": 156,
    "start_time": "2022-04-29T11:22:21.249Z"
   },
   {
    "duration": 31,
    "start_time": "2022-04-29T11:22:21.407Z"
   },
   {
    "duration": 4,
    "start_time": "2022-04-29T11:22:21.440Z"
   },
   {
    "duration": 99,
    "start_time": "2022-04-29T11:22:21.447Z"
   },
   {
    "duration": 103,
    "start_time": "2022-04-29T11:22:21.548Z"
   },
   {
    "duration": 0,
    "start_time": "2022-04-29T11:22:21.653Z"
   },
   {
    "duration": 0,
    "start_time": "2022-04-29T11:22:21.655Z"
   },
   {
    "duration": 0,
    "start_time": "2022-04-29T11:22:21.657Z"
   },
   {
    "duration": 0,
    "start_time": "2022-04-29T11:22:21.658Z"
   },
   {
    "duration": 3,
    "start_time": "2022-04-29T11:22:30.866Z"
   },
   {
    "duration": 26,
    "start_time": "2022-04-29T11:22:32.383Z"
   },
   {
    "duration": 22,
    "start_time": "2022-04-29T11:22:34.784Z"
   },
   {
    "duration": 245,
    "start_time": "2022-04-29T11:23:17.455Z"
   },
   {
    "duration": 310,
    "start_time": "2022-04-29T11:23:22.816Z"
   },
   {
    "duration": 13,
    "start_time": "2022-04-29T11:23:32.274Z"
   },
   {
    "duration": 26,
    "start_time": "2022-04-29T11:24:09.424Z"
   },
   {
    "duration": 8,
    "start_time": "2022-04-29T11:26:32.431Z"
   },
   {
    "duration": 20,
    "start_time": "2022-04-29T11:26:48.639Z"
   },
   {
    "duration": 14,
    "start_time": "2022-04-29T11:27:01.703Z"
   },
   {
    "duration": 125,
    "start_time": "2022-04-29T11:27:16.296Z"
   },
   {
    "duration": 3482,
    "start_time": "2022-04-29T11:27:33.079Z"
   },
   {
    "duration": 10,
    "start_time": "2022-04-29T11:28:01.647Z"
   },
   {
    "duration": 35,
    "start_time": "2022-04-29T11:34:04.610Z"
   },
   {
    "duration": 4331,
    "start_time": "2022-04-29T11:35:09.299Z"
   },
   {
    "duration": 2990,
    "start_time": "2022-04-29T11:35:18.275Z"
   },
   {
    "duration": 5,
    "start_time": "2022-04-29T11:35:23.275Z"
   },
   {
    "duration": 26,
    "start_time": "2022-04-29T11:35:30.171Z"
   },
   {
    "duration": 3431,
    "start_time": "2022-04-29T11:37:30.027Z"
   },
   {
    "duration": 3871,
    "start_time": "2022-04-29T11:37:45.003Z"
   },
   {
    "duration": 3830,
    "start_time": "2022-04-29T11:38:23.738Z"
   },
   {
    "duration": 3905,
    "start_time": "2022-04-29T11:38:30.251Z"
   },
   {
    "duration": 3409,
    "start_time": "2022-04-29T11:38:39.632Z"
   },
   {
    "duration": 28,
    "start_time": "2022-04-29T11:39:47.938Z"
   },
   {
    "duration": 64,
    "start_time": "2022-04-29T11:40:09.952Z"
   },
   {
    "duration": 36,
    "start_time": "2022-04-29T11:40:19.563Z"
   },
   {
    "duration": 4,
    "start_time": "2022-04-29T11:43:44.166Z"
   },
   {
    "duration": 18,
    "start_time": "2022-04-29T11:43:46.420Z"
   },
   {
    "duration": 18,
    "start_time": "2022-04-29T11:44:10.432Z"
   },
   {
    "duration": 30,
    "start_time": "2022-04-29T11:45:15.934Z"
   },
   {
    "duration": 44,
    "start_time": "2022-04-29T11:45:22.518Z"
   },
   {
    "duration": 62,
    "start_time": "2022-04-29T11:45:40.686Z"
   },
   {
    "duration": 48,
    "start_time": "2022-04-29T11:56:40.690Z"
   },
   {
    "duration": 64,
    "start_time": "2022-04-29T11:56:57.073Z"
   },
   {
    "duration": 47,
    "start_time": "2022-04-29T11:57:09.968Z"
   },
   {
    "duration": 44,
    "start_time": "2022-04-29T11:57:43.258Z"
   },
   {
    "duration": 46,
    "start_time": "2022-04-29T11:58:06.505Z"
   },
   {
    "duration": 43,
    "start_time": "2022-04-29T11:58:15.488Z"
   },
   {
    "duration": 39,
    "start_time": "2022-04-29T11:58:19.785Z"
   },
   {
    "duration": 46,
    "start_time": "2022-04-29T11:58:23.738Z"
   },
   {
    "duration": 53,
    "start_time": "2022-04-29T11:58:44.992Z"
   },
   {
    "duration": 45,
    "start_time": "2022-04-29T11:58:52.952Z"
   },
   {
    "duration": 1072,
    "start_time": "2022-04-29T12:01:38.671Z"
   },
   {
    "duration": 80,
    "start_time": "2022-04-29T12:01:50.513Z"
   },
   {
    "duration": 76,
    "start_time": "2022-04-29T12:03:41.774Z"
   },
   {
    "duration": 29,
    "start_time": "2022-04-29T12:04:57.195Z"
   },
   {
    "duration": 33,
    "start_time": "2022-04-29T12:05:36.485Z"
   },
   {
    "duration": 77,
    "start_time": "2022-04-29T12:07:19.836Z"
   },
   {
    "duration": 34,
    "start_time": "2022-04-29T12:08:19.755Z"
   },
   {
    "duration": 47,
    "start_time": "2022-04-29T12:08:24.083Z"
   },
   {
    "duration": 44,
    "start_time": "2022-04-29T12:08:50.228Z"
   },
   {
    "duration": 33,
    "start_time": "2022-04-29T12:09:55.755Z"
   },
   {
    "duration": 40,
    "start_time": "2022-04-29T12:10:21.914Z"
   },
   {
    "duration": 34,
    "start_time": "2022-04-29T12:10:29.458Z"
   },
   {
    "duration": 40,
    "start_time": "2022-04-29T12:10:46.355Z"
   },
   {
    "duration": 48,
    "start_time": "2022-04-29T12:12:26.091Z"
   },
   {
    "duration": 19,
    "start_time": "2022-04-29T12:56:56.211Z"
   },
   {
    "duration": 13,
    "start_time": "2022-04-29T12:56:57.860Z"
   },
   {
    "duration": 32,
    "start_time": "2022-04-29T12:58:02.218Z"
   },
   {
    "duration": 11,
    "start_time": "2022-04-29T12:58:30.011Z"
   },
   {
    "duration": 29,
    "start_time": "2022-04-29T12:58:34.477Z"
   },
   {
    "duration": 13,
    "start_time": "2022-04-29T12:59:11.746Z"
   },
   {
    "duration": 33,
    "start_time": "2022-04-29T12:59:15.704Z"
   },
   {
    "duration": 35,
    "start_time": "2022-04-29T12:59:38.434Z"
   },
   {
    "duration": 514,
    "start_time": "2022-04-29T13:00:03.972Z"
   },
   {
    "duration": 82,
    "start_time": "2022-04-29T13:00:04.488Z"
   },
   {
    "duration": 279,
    "start_time": "2022-04-29T13:00:04.572Z"
   },
   {
    "duration": 148,
    "start_time": "2022-04-29T13:00:04.854Z"
   },
   {
    "duration": 243,
    "start_time": "2022-04-29T13:00:05.005Z"
   },
   {
    "duration": 81,
    "start_time": "2022-04-29T13:00:05.250Z"
   },
   {
    "duration": 131,
    "start_time": "2022-04-29T13:00:05.333Z"
   },
   {
    "duration": 8,
    "start_time": "2022-04-29T13:00:05.467Z"
   },
   {
    "duration": 23,
    "start_time": "2022-04-29T13:00:05.478Z"
   },
   {
    "duration": 8,
    "start_time": "2022-04-29T13:00:05.505Z"
   },
   {
    "duration": 14,
    "start_time": "2022-04-29T13:00:05.516Z"
   },
   {
    "duration": 12,
    "start_time": "2022-04-29T13:00:05.532Z"
   },
   {
    "duration": 143,
    "start_time": "2022-04-29T13:00:05.546Z"
   },
   {
    "duration": 29,
    "start_time": "2022-04-29T13:00:05.691Z"
   },
   {
    "duration": 5,
    "start_time": "2022-04-29T13:00:05.722Z"
   },
   {
    "duration": 95,
    "start_time": "2022-04-29T13:00:05.729Z"
   },
   {
    "duration": 41,
    "start_time": "2022-04-29T13:00:05.826Z"
   },
   {
    "duration": 107,
    "start_time": "2022-04-29T13:00:05.869Z"
   },
   {
    "duration": 33,
    "start_time": "2022-04-29T13:00:05.979Z"
   },
   {
    "duration": 52,
    "start_time": "2022-04-29T13:00:06.014Z"
   },
   {
    "duration": 33,
    "start_time": "2022-04-29T13:00:06.093Z"
   },
   {
    "duration": 72,
    "start_time": "2022-04-29T13:00:06.129Z"
   },
   {
    "duration": 29,
    "start_time": "2022-04-29T13:00:06.203Z"
   },
   {
    "duration": 30,
    "start_time": "2022-04-29T13:00:06.234Z"
   },
   {
    "duration": 69,
    "start_time": "2022-04-29T13:00:06.266Z"
   },
   {
    "duration": 202,
    "start_time": "2022-04-29T13:00:06.338Z"
   },
   {
    "duration": 505,
    "start_time": "2022-04-29T13:00:47.209Z"
   },
   {
    "duration": 80,
    "start_time": "2022-04-29T13:00:47.716Z"
   },
   {
    "duration": 271,
    "start_time": "2022-04-29T13:00:47.798Z"
   },
   {
    "duration": 156,
    "start_time": "2022-04-29T13:00:48.073Z"
   },
   {
    "duration": 368,
    "start_time": "2022-04-29T13:00:48.232Z"
   },
   {
    "duration": 68,
    "start_time": "2022-04-29T13:00:48.602Z"
   },
   {
    "duration": 131,
    "start_time": "2022-04-29T13:00:48.672Z"
   },
   {
    "duration": 7,
    "start_time": "2022-04-29T13:00:48.806Z"
   },
   {
    "duration": 10,
    "start_time": "2022-04-29T13:00:48.815Z"
   },
   {
    "duration": 7,
    "start_time": "2022-04-29T13:00:48.829Z"
   },
   {
    "duration": 12,
    "start_time": "2022-04-29T13:00:48.838Z"
   },
   {
    "duration": 41,
    "start_time": "2022-04-29T13:00:48.852Z"
   },
   {
    "duration": 139,
    "start_time": "2022-04-29T13:00:48.895Z"
   },
   {
    "duration": 29,
    "start_time": "2022-04-29T13:00:49.036Z"
   },
   {
    "duration": 4,
    "start_time": "2022-04-29T13:00:49.068Z"
   },
   {
    "duration": 73,
    "start_time": "2022-04-29T13:00:49.096Z"
   },
   {
    "duration": 56,
    "start_time": "2022-04-29T13:00:49.172Z"
   },
   {
    "duration": 104,
    "start_time": "2022-04-29T13:00:49.230Z"
   },
   {
    "duration": 26,
    "start_time": "2022-04-29T13:00:49.336Z"
   },
   {
    "duration": 70,
    "start_time": "2022-04-29T13:00:49.365Z"
   },
   {
    "duration": 33,
    "start_time": "2022-04-29T13:00:49.437Z"
   },
   {
    "duration": 88,
    "start_time": "2022-04-29T13:00:49.472Z"
   },
   {
    "duration": 69,
    "start_time": "2022-04-29T13:00:49.563Z"
   },
   {
    "duration": 4,
    "start_time": "2022-04-29T13:00:49.635Z"
   },
   {
    "duration": 211,
    "start_time": "2022-04-29T13:00:49.641Z"
   },
   {
    "duration": 28,
    "start_time": "2022-04-29T13:03:50.271Z"
   },
   {
    "duration": 11,
    "start_time": "2022-04-29T13:04:07.567Z"
   },
   {
    "duration": 91,
    "start_time": "2022-04-29T13:04:29.318Z"
   },
   {
    "duration": 8,
    "start_time": "2022-04-29T13:04:33.991Z"
   },
   {
    "duration": 5,
    "start_time": "2022-04-29T13:07:44.935Z"
   },
   {
    "duration": 10,
    "start_time": "2022-04-29T13:07:52.502Z"
   },
   {
    "duration": 11,
    "start_time": "2022-04-29T13:08:38.963Z"
   },
   {
    "duration": 14,
    "start_time": "2022-04-29T13:09:16.180Z"
   },
   {
    "duration": 24,
    "start_time": "2022-04-29T13:22:55.534Z"
   },
   {
    "duration": 25,
    "start_time": "2022-04-29T13:23:05.710Z"
   },
   {
    "duration": 27,
    "start_time": "2022-04-29T13:23:57.669Z"
   },
   {
    "duration": 26,
    "start_time": "2022-04-29T13:24:17.390Z"
   },
   {
    "duration": 39,
    "start_time": "2022-04-29T13:27:12.564Z"
   },
   {
    "duration": 22,
    "start_time": "2022-04-29T13:29:16.035Z"
   },
   {
    "duration": 23,
    "start_time": "2022-04-29T13:29:24.778Z"
   },
   {
    "duration": 27,
    "start_time": "2022-04-29T13:29:34.165Z"
   },
   {
    "duration": 35,
    "start_time": "2022-04-29T13:30:10.681Z"
   },
   {
    "duration": 78,
    "start_time": "2022-04-29T13:30:18.212Z"
   },
   {
    "duration": 13,
    "start_time": "2022-04-29T13:30:28.243Z"
   },
   {
    "duration": 29,
    "start_time": "2022-04-29T13:30:59.368Z"
   },
   {
    "duration": 467,
    "start_time": "2022-04-29T13:31:07.313Z"
   },
   {
    "duration": 88,
    "start_time": "2022-04-29T13:31:07.783Z"
   },
   {
    "duration": 264,
    "start_time": "2022-04-29T13:31:07.873Z"
   },
   {
    "duration": 144,
    "start_time": "2022-04-29T13:31:08.140Z"
   },
   {
    "duration": 246,
    "start_time": "2022-04-29T13:31:08.286Z"
   },
   {
    "duration": 82,
    "start_time": "2022-04-29T13:31:08.534Z"
   },
   {
    "duration": 120,
    "start_time": "2022-04-29T13:31:08.618Z"
   },
   {
    "duration": 7,
    "start_time": "2022-04-29T13:31:08.741Z"
   },
   {
    "duration": 8,
    "start_time": "2022-04-29T13:31:08.750Z"
   },
   {
    "duration": 31,
    "start_time": "2022-04-29T13:31:08.762Z"
   },
   {
    "duration": 12,
    "start_time": "2022-04-29T13:31:08.796Z"
   },
   {
    "duration": 5,
    "start_time": "2022-04-29T13:31:08.810Z"
   },
   {
    "duration": 141,
    "start_time": "2022-04-29T13:31:08.818Z"
   },
   {
    "duration": 41,
    "start_time": "2022-04-29T13:31:08.961Z"
   },
   {
    "duration": 5,
    "start_time": "2022-04-29T13:31:09.004Z"
   },
   {
    "duration": 83,
    "start_time": "2022-04-29T13:31:09.011Z"
   },
   {
    "duration": 40,
    "start_time": "2022-04-29T13:31:09.096Z"
   },
   {
    "duration": 113,
    "start_time": "2022-04-29T13:31:09.138Z"
   },
   {
    "duration": 41,
    "start_time": "2022-04-29T13:31:09.253Z"
   },
   {
    "duration": 53,
    "start_time": "2022-04-29T13:31:09.296Z"
   },
   {
    "duration": 52,
    "start_time": "2022-04-29T13:31:09.351Z"
   },
   {
    "duration": 52,
    "start_time": "2022-04-29T13:31:09.405Z"
   },
   {
    "duration": 57,
    "start_time": "2022-04-29T13:31:09.459Z"
   },
   {
    "duration": 7,
    "start_time": "2022-04-29T13:31:09.519Z"
   },
   {
    "duration": 12,
    "start_time": "2022-04-29T13:31:09.529Z"
   },
   {
    "duration": 13,
    "start_time": "2022-04-29T13:31:09.543Z"
   },
   {
    "duration": 68,
    "start_time": "2022-04-29T13:31:09.558Z"
   },
   {
    "duration": 19,
    "start_time": "2022-04-29T13:31:09.631Z"
   },
   {
    "duration": 120,
    "start_time": "2022-04-29T13:31:09.652Z"
   },
   {
    "duration": 0,
    "start_time": "2022-04-29T13:31:09.774Z"
   },
   {
    "duration": 0,
    "start_time": "2022-04-29T13:31:09.776Z"
   },
   {
    "duration": 13,
    "start_time": "2022-04-29T13:31:30.735Z"
   },
   {
    "duration": 475,
    "start_time": "2022-04-29T13:31:52.108Z"
   },
   {
    "duration": 91,
    "start_time": "2022-04-29T13:31:52.585Z"
   },
   {
    "duration": 259,
    "start_time": "2022-04-29T13:31:52.678Z"
   },
   {
    "duration": 134,
    "start_time": "2022-04-29T13:31:52.940Z"
   },
   {
    "duration": 247,
    "start_time": "2022-04-29T13:31:53.076Z"
   },
   {
    "duration": 85,
    "start_time": "2022-04-29T13:31:53.326Z"
   },
   {
    "duration": 128,
    "start_time": "2022-04-29T13:31:53.414Z"
   },
   {
    "duration": 9,
    "start_time": "2022-04-29T13:31:53.544Z"
   },
   {
    "duration": 9,
    "start_time": "2022-04-29T13:31:53.556Z"
   },
   {
    "duration": 7,
    "start_time": "2022-04-29T13:31:53.593Z"
   },
   {
    "duration": 11,
    "start_time": "2022-04-29T13:31:53.602Z"
   },
   {
    "duration": 6,
    "start_time": "2022-04-29T13:31:53.615Z"
   },
   {
    "duration": 155,
    "start_time": "2022-04-29T13:31:53.623Z"
   },
   {
    "duration": 36,
    "start_time": "2022-04-29T13:31:53.781Z"
   },
   {
    "duration": 4,
    "start_time": "2022-04-29T13:31:53.820Z"
   },
   {
    "duration": 83,
    "start_time": "2022-04-29T13:31:53.826Z"
   },
   {
    "duration": 38,
    "start_time": "2022-04-29T13:31:53.911Z"
   },
   {
    "duration": 113,
    "start_time": "2022-04-29T13:31:53.952Z"
   },
   {
    "duration": 30,
    "start_time": "2022-04-29T13:31:54.067Z"
   },
   {
    "duration": 46,
    "start_time": "2022-04-29T13:31:54.100Z"
   },
   {
    "duration": 59,
    "start_time": "2022-04-29T13:31:54.148Z"
   },
   {
    "duration": 50,
    "start_time": "2022-04-29T13:31:54.209Z"
   },
   {
    "duration": 56,
    "start_time": "2022-04-29T13:31:54.261Z"
   },
   {
    "duration": 8,
    "start_time": "2022-04-29T13:31:54.319Z"
   },
   {
    "duration": 16,
    "start_time": "2022-04-29T13:31:54.329Z"
   },
   {
    "duration": 14,
    "start_time": "2022-04-29T13:31:54.347Z"
   },
   {
    "duration": 70,
    "start_time": "2022-04-29T13:31:54.363Z"
   },
   {
    "duration": 20,
    "start_time": "2022-04-29T13:31:54.437Z"
   },
   {
    "duration": 133,
    "start_time": "2022-04-29T13:31:54.459Z"
   },
   {
    "duration": 0,
    "start_time": "2022-04-29T13:31:54.595Z"
   },
   {
    "duration": 0,
    "start_time": "2022-04-29T13:31:54.596Z"
   },
   {
    "duration": 10,
    "start_time": "2022-04-29T13:33:26.494Z"
   },
   {
    "duration": 459,
    "start_time": "2022-04-29T13:34:39.029Z"
   },
   {
    "duration": 89,
    "start_time": "2022-04-29T13:34:39.491Z"
   },
   {
    "duration": 267,
    "start_time": "2022-04-29T13:34:39.582Z"
   },
   {
    "duration": 142,
    "start_time": "2022-04-29T13:34:39.851Z"
   },
   {
    "duration": 365,
    "start_time": "2022-04-29T13:34:39.996Z"
   },
   {
    "duration": 94,
    "start_time": "2022-04-29T13:34:40.363Z"
   },
   {
    "duration": 204,
    "start_time": "2022-04-29T13:34:40.460Z"
   },
   {
    "duration": 10,
    "start_time": "2022-04-29T13:34:40.667Z"
   },
   {
    "duration": 20,
    "start_time": "2022-04-29T13:34:40.679Z"
   },
   {
    "duration": 7,
    "start_time": "2022-04-29T13:34:40.701Z"
   },
   {
    "duration": 10,
    "start_time": "2022-04-29T13:34:40.710Z"
   },
   {
    "duration": 5,
    "start_time": "2022-04-29T13:34:40.722Z"
   },
   {
    "duration": 167,
    "start_time": "2022-04-29T13:34:40.729Z"
   },
   {
    "duration": 30,
    "start_time": "2022-04-29T13:34:40.900Z"
   },
   {
    "duration": 4,
    "start_time": "2022-04-29T13:34:40.933Z"
   },
   {
    "duration": 104,
    "start_time": "2022-04-29T13:34:40.939Z"
   },
   {
    "duration": 69,
    "start_time": "2022-04-29T13:34:41.046Z"
   },
   {
    "duration": 103,
    "start_time": "2022-04-29T13:34:41.118Z"
   },
   {
    "duration": 28,
    "start_time": "2022-04-29T13:34:41.223Z"
   },
   {
    "duration": 70,
    "start_time": "2022-04-29T13:34:41.253Z"
   },
   {
    "duration": 34,
    "start_time": "2022-04-29T13:34:41.326Z"
   },
   {
    "duration": 74,
    "start_time": "2022-04-29T13:34:41.363Z"
   },
   {
    "duration": 60,
    "start_time": "2022-04-29T13:34:41.440Z"
   },
   {
    "duration": 10,
    "start_time": "2022-04-29T13:34:41.503Z"
   },
   {
    "duration": 13,
    "start_time": "2022-04-29T13:34:41.515Z"
   },
   {
    "duration": 15,
    "start_time": "2022-04-29T13:34:41.530Z"
   },
   {
    "duration": 79,
    "start_time": "2022-04-29T13:34:41.548Z"
   },
   {
    "duration": 30,
    "start_time": "2022-04-29T13:34:41.630Z"
   },
   {
    "duration": 130,
    "start_time": "2022-04-29T13:34:41.663Z"
   },
   {
    "duration": 1,
    "start_time": "2022-04-29T13:34:41.796Z"
   },
   {
    "duration": 0,
    "start_time": "2022-04-29T13:34:41.799Z"
   },
   {
    "duration": 319,
    "start_time": "2022-04-29T13:36:11.158Z"
   },
   {
    "duration": 19,
    "start_time": "2022-04-29T13:36:14.256Z"
   },
   {
    "duration": 7,
    "start_time": "2022-04-29T13:38:50.075Z"
   },
   {
    "duration": 19,
    "start_time": "2022-04-29T13:38:53.904Z"
   },
   {
    "duration": 15,
    "start_time": "2022-04-29T13:39:06.894Z"
   },
   {
    "duration": 15,
    "start_time": "2022-04-29T13:39:20.141Z"
   },
   {
    "duration": 16,
    "start_time": "2022-04-29T13:39:26.173Z"
   },
   {
    "duration": 17,
    "start_time": "2022-04-29T13:39:38.284Z"
   },
   {
    "duration": 15906,
    "start_time": "2022-04-29T13:40:14.646Z"
   },
   {
    "duration": 27,
    "start_time": "2022-04-29T13:40:44.486Z"
   },
   {
    "duration": 463,
    "start_time": "2022-04-29T13:41:12.417Z"
   },
   {
    "duration": 92,
    "start_time": "2022-04-29T13:41:12.883Z"
   },
   {
    "duration": 256,
    "start_time": "2022-04-29T13:41:12.977Z"
   },
   {
    "duration": 141,
    "start_time": "2022-04-29T13:41:13.237Z"
   },
   {
    "duration": 239,
    "start_time": "2022-04-29T13:41:13.381Z"
   },
   {
    "duration": 76,
    "start_time": "2022-04-29T13:41:13.623Z"
   },
   {
    "duration": 121,
    "start_time": "2022-04-29T13:41:13.701Z"
   },
   {
    "duration": 7,
    "start_time": "2022-04-29T13:41:13.825Z"
   },
   {
    "duration": 8,
    "start_time": "2022-04-29T13:41:13.835Z"
   },
   {
    "duration": 6,
    "start_time": "2022-04-29T13:41:13.847Z"
   },
   {
    "duration": 39,
    "start_time": "2022-04-29T13:41:13.855Z"
   },
   {
    "duration": 4,
    "start_time": "2022-04-29T13:41:13.896Z"
   },
   {
    "duration": 135,
    "start_time": "2022-04-29T13:41:13.902Z"
   },
   {
    "duration": 27,
    "start_time": "2022-04-29T13:41:14.039Z"
   },
   {
    "duration": 5,
    "start_time": "2022-04-29T13:41:14.068Z"
   },
   {
    "duration": 81,
    "start_time": "2022-04-29T13:41:14.074Z"
   },
   {
    "duration": 60,
    "start_time": "2022-04-29T13:41:14.157Z"
   },
   {
    "duration": 95,
    "start_time": "2022-04-29T13:41:14.219Z"
   },
   {
    "duration": 26,
    "start_time": "2022-04-29T13:41:14.316Z"
   },
   {
    "duration": 70,
    "start_time": "2022-04-29T13:41:14.345Z"
   },
   {
    "duration": 32,
    "start_time": "2022-04-29T13:41:14.417Z"
   },
   {
    "duration": 71,
    "start_time": "2022-04-29T13:41:14.451Z"
   },
   {
    "duration": 36,
    "start_time": "2022-04-29T13:41:14.524Z"
   },
   {
    "duration": 9,
    "start_time": "2022-04-29T13:41:14.562Z"
   },
   {
    "duration": 30,
    "start_time": "2022-04-29T13:41:14.572Z"
   },
   {
    "duration": 13,
    "start_time": "2022-04-29T13:41:14.604Z"
   },
   {
    "duration": 38,
    "start_time": "2022-04-29T13:41:14.619Z"
   },
   {
    "duration": 45,
    "start_time": "2022-04-29T13:41:14.662Z"
   },
   {
    "duration": 5548,
    "start_time": "2022-04-29T13:41:14.709Z"
   },
   {
    "duration": 0,
    "start_time": "2022-04-29T13:41:20.259Z"
   },
   {
    "duration": 0,
    "start_time": "2022-04-29T13:41:20.261Z"
   },
   {
    "duration": 268,
    "start_time": "2022-04-29T13:41:53.476Z"
   },
   {
    "duration": 3240,
    "start_time": "2022-04-29T13:42:14.457Z"
   },
   {
    "duration": 462,
    "start_time": "2022-04-29T13:42:37.718Z"
   },
   {
    "duration": 99,
    "start_time": "2022-04-29T13:42:38.183Z"
   },
   {
    "duration": 270,
    "start_time": "2022-04-29T13:42:38.284Z"
   },
   {
    "duration": 144,
    "start_time": "2022-04-29T13:42:38.557Z"
   },
   {
    "duration": 248,
    "start_time": "2022-04-29T13:42:38.703Z"
   },
   {
    "duration": 71,
    "start_time": "2022-04-29T13:42:38.953Z"
   },
   {
    "duration": 121,
    "start_time": "2022-04-29T13:42:39.026Z"
   },
   {
    "duration": 8,
    "start_time": "2022-04-29T13:42:39.149Z"
   },
   {
    "duration": 9,
    "start_time": "2022-04-29T13:42:39.160Z"
   },
   {
    "duration": 6,
    "start_time": "2022-04-29T13:42:39.193Z"
   },
   {
    "duration": 12,
    "start_time": "2022-04-29T13:42:39.201Z"
   },
   {
    "duration": 5,
    "start_time": "2022-04-29T13:42:39.215Z"
   },
   {
    "duration": 145,
    "start_time": "2022-04-29T13:42:39.222Z"
   },
   {
    "duration": 41,
    "start_time": "2022-04-29T13:42:39.370Z"
   },
   {
    "duration": 5,
    "start_time": "2022-04-29T13:42:39.413Z"
   },
   {
    "duration": 84,
    "start_time": "2022-04-29T13:42:39.420Z"
   },
   {
    "duration": 40,
    "start_time": "2022-04-29T13:42:39.506Z"
   },
   {
    "duration": 106,
    "start_time": "2022-04-29T13:42:39.548Z"
   },
   {
    "duration": 37,
    "start_time": "2022-04-29T13:42:39.657Z"
   },
   {
    "duration": 46,
    "start_time": "2022-04-29T13:42:39.696Z"
   },
   {
    "duration": 50,
    "start_time": "2022-04-29T13:42:39.744Z"
   },
   {
    "duration": 49,
    "start_time": "2022-04-29T13:42:39.796Z"
   },
   {
    "duration": 55,
    "start_time": "2022-04-29T13:42:39.847Z"
   },
   {
    "duration": 9,
    "start_time": "2022-04-29T13:42:39.905Z"
   },
   {
    "duration": 11,
    "start_time": "2022-04-29T13:42:39.917Z"
   },
   {
    "duration": 14,
    "start_time": "2022-04-29T13:42:39.931Z"
   },
   {
    "duration": 86,
    "start_time": "2022-04-29T13:42:39.947Z"
   },
   {
    "duration": 18,
    "start_time": "2022-04-29T13:42:40.039Z"
   },
   {
    "duration": 3605,
    "start_time": "2022-04-29T13:42:40.060Z"
   },
   {
    "duration": 0,
    "start_time": "2022-04-29T13:42:43.667Z"
   },
   {
    "duration": 0,
    "start_time": "2022-04-29T13:42:43.669Z"
   },
   {
    "duration": 32,
    "start_time": "2022-04-29T13:43:21.167Z"
   },
   {
    "duration": 467,
    "start_time": "2022-04-29T13:44:21.913Z"
   },
   {
    "duration": 89,
    "start_time": "2022-04-29T13:44:22.382Z"
   },
   {
    "duration": 257,
    "start_time": "2022-04-29T13:44:22.474Z"
   },
   {
    "duration": 138,
    "start_time": "2022-04-29T13:44:22.734Z"
   },
   {
    "duration": 243,
    "start_time": "2022-04-29T13:44:22.874Z"
   },
   {
    "duration": 75,
    "start_time": "2022-04-29T13:44:23.119Z"
   },
   {
    "duration": 115,
    "start_time": "2022-04-29T13:44:23.196Z"
   },
   {
    "duration": 8,
    "start_time": "2022-04-29T13:44:23.313Z"
   },
   {
    "duration": 7,
    "start_time": "2022-04-29T13:44:23.323Z"
   },
   {
    "duration": 7,
    "start_time": "2022-04-29T13:44:23.334Z"
   },
   {
    "duration": 9,
    "start_time": "2022-04-29T13:44:23.343Z"
   },
   {
    "duration": 39,
    "start_time": "2022-04-29T13:44:23.354Z"
   },
   {
    "duration": 128,
    "start_time": "2022-04-29T13:44:23.395Z"
   },
   {
    "duration": 29,
    "start_time": "2022-04-29T13:44:23.525Z"
   },
   {
    "duration": 5,
    "start_time": "2022-04-29T13:44:23.556Z"
   },
   {
    "duration": 90,
    "start_time": "2022-04-29T13:44:23.563Z"
   },
   {
    "duration": 60,
    "start_time": "2022-04-29T13:44:23.655Z"
   },
   {
    "duration": 95,
    "start_time": "2022-04-29T13:44:23.717Z"
   },
   {
    "duration": 27,
    "start_time": "2022-04-29T13:44:23.814Z"
   },
   {
    "duration": 69,
    "start_time": "2022-04-29T13:44:23.843Z"
   },
   {
    "duration": 32,
    "start_time": "2022-04-29T13:44:23.914Z"
   },
   {
    "duration": 72,
    "start_time": "2022-04-29T13:44:23.948Z"
   },
   {
    "duration": 37,
    "start_time": "2022-04-29T13:44:24.022Z"
   },
   {
    "duration": 8,
    "start_time": "2022-04-29T13:44:24.061Z"
   },
   {
    "duration": 10,
    "start_time": "2022-04-29T13:44:24.094Z"
   },
   {
    "duration": 17,
    "start_time": "2022-04-29T13:44:24.106Z"
   },
   {
    "duration": 39,
    "start_time": "2022-04-29T13:44:24.125Z"
   },
   {
    "duration": 18,
    "start_time": "2022-04-29T13:44:24.193Z"
   },
   {
    "duration": 32,
    "start_time": "2022-04-29T13:44:24.213Z"
   },
   {
    "duration": 3,
    "start_time": "2022-04-29T13:44:24.247Z"
   },
   {
    "duration": 62,
    "start_time": "2022-04-29T13:44:24.252Z"
   },
   {
    "duration": 213,
    "start_time": "2022-04-29T13:44:24.316Z"
   },
   {
    "duration": 6,
    "start_time": "2022-04-29T13:47:35.496Z"
   },
   {
    "duration": 6,
    "start_time": "2022-04-29T13:49:28.076Z"
   },
   {
    "duration": 92,
    "start_time": "2022-04-29T13:49:52.781Z"
   },
   {
    "duration": 30,
    "start_time": "2022-04-29T14:09:43.324Z"
   },
   {
    "duration": 535,
    "start_time": "2022-04-29T14:09:54.563Z"
   },
   {
    "duration": 83,
    "start_time": "2022-04-29T14:09:55.101Z"
   },
   {
    "duration": 283,
    "start_time": "2022-04-29T14:09:55.187Z"
   },
   {
    "duration": 161,
    "start_time": "2022-04-29T14:09:55.473Z"
   },
   {
    "duration": 258,
    "start_time": "2022-04-29T14:09:55.637Z"
   },
   {
    "duration": 70,
    "start_time": "2022-04-29T14:09:55.898Z"
   },
   {
    "duration": 129,
    "start_time": "2022-04-29T14:09:55.970Z"
   },
   {
    "duration": 7,
    "start_time": "2022-04-29T14:09:56.101Z"
   },
   {
    "duration": 8,
    "start_time": "2022-04-29T14:09:56.110Z"
   },
   {
    "duration": 10,
    "start_time": "2022-04-29T14:09:56.121Z"
   },
   {
    "duration": 13,
    "start_time": "2022-04-29T14:09:56.133Z"
   },
   {
    "duration": 6,
    "start_time": "2022-04-29T14:09:56.148Z"
   },
   {
    "duration": 161,
    "start_time": "2022-04-29T14:09:56.156Z"
   },
   {
    "duration": 32,
    "start_time": "2022-04-29T14:09:56.319Z"
   },
   {
    "duration": 5,
    "start_time": "2022-04-29T14:09:56.354Z"
   },
   {
    "duration": 100,
    "start_time": "2022-04-29T14:09:56.362Z"
   },
   {
    "duration": 59,
    "start_time": "2022-04-29T14:09:56.465Z"
   },
   {
    "duration": 108,
    "start_time": "2022-04-29T14:09:56.526Z"
   },
   {
    "duration": 29,
    "start_time": "2022-04-29T14:09:56.636Z"
   },
   {
    "duration": 76,
    "start_time": "2022-04-29T14:09:56.667Z"
   },
   {
    "duration": 60,
    "start_time": "2022-04-29T14:09:56.745Z"
   },
   {
    "duration": 59,
    "start_time": "2022-04-29T14:09:56.807Z"
   },
   {
    "duration": 60,
    "start_time": "2022-04-29T14:09:56.869Z"
   },
   {
    "duration": 8,
    "start_time": "2022-04-29T14:09:56.932Z"
   },
   {
    "duration": 18,
    "start_time": "2022-04-29T14:09:56.942Z"
   },
   {
    "duration": 41,
    "start_time": "2022-04-29T14:09:56.963Z"
   },
   {
    "duration": 127,
    "start_time": "2022-04-29T14:09:57.006Z"
   },
   {
    "duration": 0,
    "start_time": "2022-04-29T14:09:57.135Z"
   },
   {
    "duration": 0,
    "start_time": "2022-04-29T14:09:57.137Z"
   },
   {
    "duration": 0,
    "start_time": "2022-04-29T14:09:57.138Z"
   },
   {
    "duration": 0,
    "start_time": "2022-04-29T14:09:57.140Z"
   },
   {
    "duration": 64,
    "start_time": "2022-04-29T14:10:17.739Z"
   },
   {
    "duration": 553,
    "start_time": "2022-04-29T14:11:07.548Z"
   },
   {
    "duration": 1660,
    "start_time": "2022-04-29T14:11:08.103Z"
   },
   {
    "duration": 421,
    "start_time": "2022-04-29T14:11:09.765Z"
   },
   {
    "duration": 225,
    "start_time": "2022-04-29T14:11:10.196Z"
   },
   {
    "duration": 378,
    "start_time": "2022-04-29T14:11:10.424Z"
   },
   {
    "duration": 106,
    "start_time": "2022-04-29T14:11:10.805Z"
   },
   {
    "duration": 182,
    "start_time": "2022-04-29T14:11:10.914Z"
   },
   {
    "duration": 11,
    "start_time": "2022-04-29T14:11:11.099Z"
   },
   {
    "duration": 11,
    "start_time": "2022-04-29T14:11:11.113Z"
   },
   {
    "duration": 8,
    "start_time": "2022-04-29T14:11:11.131Z"
   },
   {
    "duration": 12,
    "start_time": "2022-04-29T14:11:11.141Z"
   },
   {
    "duration": 5,
    "start_time": "2022-04-29T14:11:11.194Z"
   },
   {
    "duration": 134,
    "start_time": "2022-04-29T14:11:11.203Z"
   },
   {
    "duration": 28,
    "start_time": "2022-04-29T14:11:11.339Z"
   },
   {
    "duration": 23,
    "start_time": "2022-04-29T14:11:11.370Z"
   },
   {
    "duration": 69,
    "start_time": "2022-04-29T14:11:11.395Z"
   },
   {
    "duration": 57,
    "start_time": "2022-04-29T14:11:11.466Z"
   },
   {
    "duration": 103,
    "start_time": "2022-04-29T14:11:11.525Z"
   },
   {
    "duration": 26,
    "start_time": "2022-04-29T14:11:11.630Z"
   },
   {
    "duration": 66,
    "start_time": "2022-04-29T14:11:11.659Z"
   },
   {
    "duration": 30,
    "start_time": "2022-04-29T14:11:11.728Z"
   },
   {
    "duration": 71,
    "start_time": "2022-04-29T14:11:11.761Z"
   },
   {
    "duration": 38,
    "start_time": "2022-04-29T14:11:11.834Z"
   },
   {
    "duration": 25,
    "start_time": "2022-04-29T14:11:11.874Z"
   },
   {
    "duration": 10,
    "start_time": "2022-04-29T14:11:11.901Z"
   },
   {
    "duration": 13,
    "start_time": "2022-04-29T14:11:11.914Z"
   },
   {
    "duration": 4,
    "start_time": "2022-04-29T14:11:11.929Z"
   },
   {
    "duration": 3,
    "start_time": "2022-04-29T14:11:11.939Z"
   },
   {
    "duration": 50,
    "start_time": "2022-04-29T14:11:11.944Z"
   },
   {
    "duration": 99,
    "start_time": "2022-04-29T14:11:11.997Z"
   },
   {
    "duration": 0,
    "start_time": "2022-04-29T14:11:12.098Z"
   },
   {
    "duration": 0,
    "start_time": "2022-04-29T14:11:12.100Z"
   },
   {
    "duration": 16,
    "start_time": "2022-04-29T14:11:48.406Z"
   },
   {
    "duration": 32,
    "start_time": "2022-04-29T14:12:06.915Z"
   },
   {
    "duration": 19,
    "start_time": "2022-04-29T14:16:35.576Z"
   },
   {
    "duration": 12,
    "start_time": "2022-04-29T14:16:41.023Z"
   },
   {
    "duration": 543,
    "start_time": "2022-04-29T14:16:46.199Z"
   },
   {
    "duration": 115,
    "start_time": "2022-04-29T14:16:46.745Z"
   },
   {
    "duration": 389,
    "start_time": "2022-04-29T14:16:46.864Z"
   },
   {
    "duration": 150,
    "start_time": "2022-04-29T14:16:47.258Z"
   },
   {
    "duration": 286,
    "start_time": "2022-04-29T14:16:47.411Z"
   },
   {
    "duration": 84,
    "start_time": "2022-04-29T14:16:47.701Z"
   },
   {
    "duration": 180,
    "start_time": "2022-04-29T14:16:47.793Z"
   },
   {
    "duration": 7,
    "start_time": "2022-04-29T14:16:47.975Z"
   },
   {
    "duration": 9,
    "start_time": "2022-04-29T14:16:47.994Z"
   },
   {
    "duration": 11,
    "start_time": "2022-04-29T14:16:48.009Z"
   },
   {
    "duration": 15,
    "start_time": "2022-04-29T14:16:48.023Z"
   },
   {
    "duration": 7,
    "start_time": "2022-04-29T14:16:48.041Z"
   },
   {
    "duration": 252,
    "start_time": "2022-04-29T14:16:48.051Z"
   },
   {
    "duration": 42,
    "start_time": "2022-04-29T14:16:48.306Z"
   },
   {
    "duration": 5,
    "start_time": "2022-04-29T14:16:48.351Z"
   },
   {
    "duration": 148,
    "start_time": "2022-04-29T14:16:48.359Z"
   },
   {
    "duration": 57,
    "start_time": "2022-04-29T14:16:48.510Z"
   },
   {
    "duration": 154,
    "start_time": "2022-04-29T14:16:48.570Z"
   },
   {
    "duration": 39,
    "start_time": "2022-04-29T14:16:48.727Z"
   },
   {
    "duration": 93,
    "start_time": "2022-04-29T14:16:48.770Z"
   },
   {
    "duration": 52,
    "start_time": "2022-04-29T14:16:48.866Z"
   },
   {
    "duration": 51,
    "start_time": "2022-04-29T14:16:48.920Z"
   },
   {
    "duration": 68,
    "start_time": "2022-04-29T14:16:48.975Z"
   },
   {
    "duration": 11,
    "start_time": "2022-04-29T14:16:49.047Z"
   },
   {
    "duration": 41,
    "start_time": "2022-04-29T14:16:49.062Z"
   },
   {
    "duration": 15,
    "start_time": "2022-04-29T14:16:49.106Z"
   },
   {
    "duration": 120,
    "start_time": "2022-04-29T14:16:49.124Z"
   },
   {
    "duration": 0,
    "start_time": "2022-04-29T14:16:49.248Z"
   },
   {
    "duration": 0,
    "start_time": "2022-04-29T14:16:49.249Z"
   },
   {
    "duration": 0,
    "start_time": "2022-04-29T14:16:49.251Z"
   },
   {
    "duration": 0,
    "start_time": "2022-04-29T14:16:49.252Z"
   },
   {
    "duration": 0,
    "start_time": "2022-04-29T14:16:49.254Z"
   },
   {
    "duration": 0,
    "start_time": "2022-04-29T14:16:49.255Z"
   },
   {
    "duration": 0,
    "start_time": "2022-04-29T14:16:49.257Z"
   },
   {
    "duration": 11,
    "start_time": "2022-04-29T14:18:34.581Z"
   },
   {
    "duration": 41,
    "start_time": "2022-04-29T14:24:56.842Z"
   },
   {
    "duration": 492,
    "start_time": "2022-04-29T14:25:21.288Z"
   },
   {
    "duration": 91,
    "start_time": "2022-04-29T14:25:21.783Z"
   },
   {
    "duration": 256,
    "start_time": "2022-04-29T14:25:21.876Z"
   },
   {
    "duration": 141,
    "start_time": "2022-04-29T14:25:22.136Z"
   },
   {
    "duration": 246,
    "start_time": "2022-04-29T14:25:22.279Z"
   },
   {
    "duration": 92,
    "start_time": "2022-04-29T14:25:22.528Z"
   },
   {
    "duration": 130,
    "start_time": "2022-04-29T14:25:22.623Z"
   },
   {
    "duration": 9,
    "start_time": "2022-04-29T14:25:22.755Z"
   },
   {
    "duration": 27,
    "start_time": "2022-04-29T14:25:22.767Z"
   },
   {
    "duration": 7,
    "start_time": "2022-04-29T14:25:22.798Z"
   },
   {
    "duration": 20,
    "start_time": "2022-04-29T14:25:22.807Z"
   },
   {
    "duration": 16,
    "start_time": "2022-04-29T14:25:22.829Z"
   },
   {
    "duration": 133,
    "start_time": "2022-04-29T14:25:22.847Z"
   },
   {
    "duration": 39,
    "start_time": "2022-04-29T14:25:22.982Z"
   },
   {
    "duration": 4,
    "start_time": "2022-04-29T14:25:23.023Z"
   },
   {
    "duration": 89,
    "start_time": "2022-04-29T14:25:23.029Z"
   },
   {
    "duration": 41,
    "start_time": "2022-04-29T14:25:23.120Z"
   },
   {
    "duration": 109,
    "start_time": "2022-04-29T14:25:23.163Z"
   },
   {
    "duration": 36,
    "start_time": "2022-04-29T14:25:23.274Z"
   },
   {
    "duration": 49,
    "start_time": "2022-04-29T14:25:23.313Z"
   },
   {
    "duration": 39,
    "start_time": "2022-04-29T14:25:23.392Z"
   },
   {
    "duration": 66,
    "start_time": "2022-04-29T14:25:23.433Z"
   },
   {
    "duration": 40,
    "start_time": "2022-04-29T14:25:23.501Z"
   },
   {
    "duration": 9,
    "start_time": "2022-04-29T14:25:23.543Z"
   },
   {
    "duration": 43,
    "start_time": "2022-04-29T14:25:23.554Z"
   },
   {
    "duration": 21,
    "start_time": "2022-04-29T14:25:23.599Z"
   },
   {
    "duration": 41,
    "start_time": "2022-04-29T14:25:23.622Z"
   },
   {
    "duration": 37,
    "start_time": "2022-04-29T14:25:23.668Z"
   },
   {
    "duration": 6,
    "start_time": "2022-04-29T14:25:23.707Z"
   },
   {
    "duration": 6,
    "start_time": "2022-04-29T14:25:23.716Z"
   },
   {
    "duration": 6,
    "start_time": "2022-04-29T14:25:23.724Z"
   },
   {
    "duration": 121,
    "start_time": "2022-04-29T14:25:23.732Z"
   },
   {
    "duration": 0,
    "start_time": "2022-04-29T14:25:23.856Z"
   },
   {
    "duration": 0,
    "start_time": "2022-04-29T14:25:23.857Z"
   },
   {
    "duration": 33,
    "start_time": "2022-04-29T14:26:01.245Z"
   },
   {
    "duration": 512,
    "start_time": "2022-04-29T14:26:08.032Z"
   },
   {
    "duration": 91,
    "start_time": "2022-04-29T14:26:08.546Z"
   },
   {
    "duration": 262,
    "start_time": "2022-04-29T14:26:08.639Z"
   },
   {
    "duration": 131,
    "start_time": "2022-04-29T14:26:08.904Z"
   },
   {
    "duration": 226,
    "start_time": "2022-04-29T14:26:09.037Z"
   },
   {
    "duration": 76,
    "start_time": "2022-04-29T14:26:09.266Z"
   },
   {
    "duration": 123,
    "start_time": "2022-04-29T14:26:09.344Z"
   },
   {
    "duration": 7,
    "start_time": "2022-04-29T14:26:09.470Z"
   },
   {
    "duration": 19,
    "start_time": "2022-04-29T14:26:09.479Z"
   },
   {
    "duration": 7,
    "start_time": "2022-04-29T14:26:09.502Z"
   },
   {
    "duration": 13,
    "start_time": "2022-04-29T14:26:09.511Z"
   },
   {
    "duration": 7,
    "start_time": "2022-04-29T14:26:09.526Z"
   },
   {
    "duration": 146,
    "start_time": "2022-04-29T14:26:09.535Z"
   },
   {
    "duration": 34,
    "start_time": "2022-04-29T14:26:09.684Z"
   },
   {
    "duration": 5,
    "start_time": "2022-04-29T14:26:09.720Z"
   },
   {
    "duration": 92,
    "start_time": "2022-04-29T14:26:09.727Z"
   },
   {
    "duration": 39,
    "start_time": "2022-04-29T14:26:09.821Z"
   },
   {
    "duration": 103,
    "start_time": "2022-04-29T14:26:09.862Z"
   },
   {
    "duration": 35,
    "start_time": "2022-04-29T14:26:09.967Z"
   },
   {
    "duration": 47,
    "start_time": "2022-04-29T14:26:10.004Z"
   },
   {
    "duration": 51,
    "start_time": "2022-04-29T14:26:10.053Z"
   },
   {
    "duration": 48,
    "start_time": "2022-04-29T14:26:10.107Z"
   },
   {
    "duration": 60,
    "start_time": "2022-04-29T14:26:10.158Z"
   },
   {
    "duration": 8,
    "start_time": "2022-04-29T14:26:10.220Z"
   },
   {
    "duration": 10,
    "start_time": "2022-04-29T14:26:10.231Z"
   },
   {
    "duration": 17,
    "start_time": "2022-04-29T14:26:10.243Z"
   },
   {
    "duration": 49,
    "start_time": "2022-04-29T14:26:10.262Z"
   },
   {
    "duration": 14,
    "start_time": "2022-04-29T14:26:10.315Z"
   },
   {
    "duration": 9,
    "start_time": "2022-04-29T14:26:10.331Z"
   },
   {
    "duration": 6,
    "start_time": "2022-04-29T14:26:10.342Z"
   },
   {
    "duration": 6,
    "start_time": "2022-04-29T14:26:10.350Z"
   },
   {
    "duration": 121,
    "start_time": "2022-04-29T14:26:10.358Z"
   },
   {
    "duration": 0,
    "start_time": "2022-04-29T14:26:10.492Z"
   },
   {
    "duration": 0,
    "start_time": "2022-04-29T14:26:10.494Z"
   },
   {
    "duration": 3,
    "start_time": "2022-04-29T14:28:29.461Z"
   },
   {
    "duration": 3,
    "start_time": "2022-04-29T14:28:33.989Z"
   },
   {
    "duration": 508,
    "start_time": "2022-04-29T14:28:45.191Z"
   },
   {
    "duration": 92,
    "start_time": "2022-04-29T14:28:45.702Z"
   },
   {
    "duration": 279,
    "start_time": "2022-04-29T14:28:45.796Z"
   },
   {
    "duration": 145,
    "start_time": "2022-04-29T14:28:46.077Z"
   },
   {
    "duration": 248,
    "start_time": "2022-04-29T14:28:46.224Z"
   },
   {
    "duration": 75,
    "start_time": "2022-04-29T14:28:46.475Z"
   },
   {
    "duration": 130,
    "start_time": "2022-04-29T14:28:46.552Z"
   },
   {
    "duration": 14,
    "start_time": "2022-04-29T14:28:46.684Z"
   },
   {
    "duration": 8,
    "start_time": "2022-04-29T14:28:46.700Z"
   },
   {
    "duration": 5,
    "start_time": "2022-04-29T14:28:46.714Z"
   },
   {
    "duration": 12,
    "start_time": "2022-04-29T14:28:46.722Z"
   },
   {
    "duration": 5,
    "start_time": "2022-04-29T14:28:46.737Z"
   },
   {
    "duration": 263,
    "start_time": "2022-04-29T14:28:46.744Z"
   },
   {
    "duration": 38,
    "start_time": "2022-04-29T14:28:47.009Z"
   },
   {
    "duration": 5,
    "start_time": "2022-04-29T14:28:47.050Z"
   },
   {
    "duration": 97,
    "start_time": "2022-04-29T14:28:47.057Z"
   },
   {
    "duration": 51,
    "start_time": "2022-04-29T14:28:47.157Z"
   },
   {
    "duration": 95,
    "start_time": "2022-04-29T14:28:47.211Z"
   },
   {
    "duration": 27,
    "start_time": "2022-04-29T14:28:47.308Z"
   },
   {
    "duration": 75,
    "start_time": "2022-04-29T14:28:47.337Z"
   },
   {
    "duration": 33,
    "start_time": "2022-04-29T14:28:47.415Z"
   },
   {
    "duration": 77,
    "start_time": "2022-04-29T14:28:47.451Z"
   },
   {
    "duration": 38,
    "start_time": "2022-04-29T14:28:47.530Z"
   },
   {
    "duration": 24,
    "start_time": "2022-04-29T14:28:47.570Z"
   },
   {
    "duration": 10,
    "start_time": "2022-04-29T14:28:47.596Z"
   },
   {
    "duration": 14,
    "start_time": "2022-04-29T14:28:47.608Z"
   },
   {
    "duration": 4,
    "start_time": "2022-04-29T14:28:47.625Z"
   },
   {
    "duration": 4,
    "start_time": "2022-04-29T14:28:47.633Z"
   },
   {
    "duration": 5,
    "start_time": "2022-04-29T14:28:47.639Z"
   },
   {
    "duration": 7,
    "start_time": "2022-04-29T14:28:47.647Z"
   },
   {
    "duration": 4,
    "start_time": "2022-04-29T14:28:47.695Z"
   },
   {
    "duration": 226,
    "start_time": "2022-04-29T14:28:47.701Z"
   },
   {
    "duration": 15,
    "start_time": "2022-04-29T14:33:10.159Z"
   },
   {
    "duration": 8,
    "start_time": "2022-04-29T14:34:34.794Z"
   },
   {
    "duration": 8,
    "start_time": "2022-04-29T14:34:49.179Z"
   },
   {
    "duration": 12377,
    "start_time": "2022-04-29T14:35:01.200Z"
   },
   {
    "duration": 9,
    "start_time": "2022-04-29T14:36:16.866Z"
   },
   {
    "duration": 13,
    "start_time": "2022-04-29T14:36:32.403Z"
   },
   {
    "duration": 13,
    "start_time": "2022-04-29T14:36:34.642Z"
   },
   {
    "duration": 15,
    "start_time": "2022-04-29T14:36:41.089Z"
   },
   {
    "duration": 16,
    "start_time": "2022-04-29T14:37:21.579Z"
   },
   {
    "duration": 13,
    "start_time": "2022-04-29T14:37:53.897Z"
   },
   {
    "duration": 26,
    "start_time": "2022-04-29T14:38:18.763Z"
   },
   {
    "duration": 32,
    "start_time": "2022-04-29T14:38:46.585Z"
   },
   {
    "duration": 541,
    "start_time": "2022-04-29T14:38:56.946Z"
   },
   {
    "duration": 94,
    "start_time": "2022-04-29T14:38:57.489Z"
   },
   {
    "duration": 311,
    "start_time": "2022-04-29T14:38:57.585Z"
   },
   {
    "duration": 194,
    "start_time": "2022-04-29T14:38:57.901Z"
   },
   {
    "duration": 270,
    "start_time": "2022-04-29T14:38:58.097Z"
   },
   {
    "duration": 71,
    "start_time": "2022-04-29T14:38:58.370Z"
   },
   {
    "duration": 142,
    "start_time": "2022-04-29T14:38:58.443Z"
   },
   {
    "duration": 7,
    "start_time": "2022-04-29T14:38:58.588Z"
   },
   {
    "duration": 11,
    "start_time": "2022-04-29T14:38:58.597Z"
   },
   {
    "duration": 6,
    "start_time": "2022-04-29T14:38:58.612Z"
   },
   {
    "duration": 11,
    "start_time": "2022-04-29T14:38:58.619Z"
   },
   {
    "duration": 8,
    "start_time": "2022-04-29T14:38:58.633Z"
   },
   {
    "duration": 150,
    "start_time": "2022-04-29T14:38:58.644Z"
   },
   {
    "duration": 30,
    "start_time": "2022-04-29T14:38:58.796Z"
   },
   {
    "duration": 4,
    "start_time": "2022-04-29T14:38:58.829Z"
   },
   {
    "duration": 130,
    "start_time": "2022-04-29T14:38:58.836Z"
   },
   {
    "duration": 56,
    "start_time": "2022-04-29T14:38:58.969Z"
   },
   {
    "duration": 99,
    "start_time": "2022-04-29T14:38:59.027Z"
   },
   {
    "duration": 28,
    "start_time": "2022-04-29T14:38:59.128Z"
   },
   {
    "duration": 146,
    "start_time": "2022-04-29T14:38:59.159Z"
   },
   {
    "duration": 47,
    "start_time": "2022-04-29T14:38:59.308Z"
   },
   {
    "duration": 99,
    "start_time": "2022-04-29T14:38:59.358Z"
   },
   {
    "duration": 55,
    "start_time": "2022-04-29T14:38:59.459Z"
   },
   {
    "duration": 9,
    "start_time": "2022-04-29T14:38:59.516Z"
   },
   {
    "duration": 11,
    "start_time": "2022-04-29T14:38:59.527Z"
   },
   {
    "duration": 55,
    "start_time": "2022-04-29T14:38:59.540Z"
   },
   {
    "duration": 17,
    "start_time": "2022-04-29T14:38:59.597Z"
   },
   {
    "duration": 12,
    "start_time": "2022-04-29T14:38:59.619Z"
   },
   {
    "duration": 82,
    "start_time": "2022-04-29T14:38:59.634Z"
   },
   {
    "duration": 3,
    "start_time": "2022-04-29T14:38:59.718Z"
   },
   {
    "duration": 6,
    "start_time": "2022-04-29T14:38:59.723Z"
   },
   {
    "duration": 7,
    "start_time": "2022-04-29T14:38:59.731Z"
   },
   {
    "duration": 14,
    "start_time": "2022-04-29T14:38:59.794Z"
   },
   {
    "duration": 6,
    "start_time": "2022-04-29T14:38:59.810Z"
   },
   {
    "duration": 295,
    "start_time": "2022-04-29T14:38:59.818Z"
   },
   {
    "duration": 15,
    "start_time": "2022-04-29T14:45:16.698Z"
   },
   {
    "duration": 15,
    "start_time": "2022-04-29T14:45:19.593Z"
   },
   {
    "duration": 15,
    "start_time": "2022-04-29T14:46:22.074Z"
   },
   {
    "duration": 11,
    "start_time": "2022-04-29T14:47:11.115Z"
   },
   {
    "duration": 11,
    "start_time": "2022-04-29T14:52:24.047Z"
   },
   {
    "duration": 498,
    "start_time": "2022-04-29T14:53:04.979Z"
   },
   {
    "duration": 99,
    "start_time": "2022-04-29T14:53:05.480Z"
   },
   {
    "duration": 264,
    "start_time": "2022-04-29T14:53:05.581Z"
   },
   {
    "duration": 153,
    "start_time": "2022-04-29T14:53:05.848Z"
   },
   {
    "duration": 245,
    "start_time": "2022-04-29T14:53:06.003Z"
   },
   {
    "duration": 77,
    "start_time": "2022-04-29T14:53:06.251Z"
   },
   {
    "duration": 126,
    "start_time": "2022-04-29T14:53:06.330Z"
   },
   {
    "duration": 8,
    "start_time": "2022-04-29T14:53:06.458Z"
   },
   {
    "duration": 28,
    "start_time": "2022-04-29T14:53:06.468Z"
   },
   {
    "duration": 6,
    "start_time": "2022-04-29T14:53:06.501Z"
   },
   {
    "duration": 15,
    "start_time": "2022-04-29T14:53:06.509Z"
   },
   {
    "duration": 6,
    "start_time": "2022-04-29T14:53:06.526Z"
   },
   {
    "duration": 141,
    "start_time": "2022-04-29T14:53:06.534Z"
   },
   {
    "duration": 39,
    "start_time": "2022-04-29T14:53:06.677Z"
   },
   {
    "duration": 5,
    "start_time": "2022-04-29T14:53:06.718Z"
   },
   {
    "duration": 85,
    "start_time": "2022-04-29T14:53:06.725Z"
   },
   {
    "duration": 11,
    "start_time": "2022-04-29T14:53:06.812Z"
   },
   {
    "duration": 110,
    "start_time": "2022-04-29T14:53:06.825Z"
   },
   {
    "duration": 0,
    "start_time": "2022-04-29T14:53:06.937Z"
   },
   {
    "duration": 0,
    "start_time": "2022-04-29T14:53:06.939Z"
   },
   {
    "duration": 0,
    "start_time": "2022-04-29T14:53:06.940Z"
   },
   {
    "duration": 0,
    "start_time": "2022-04-29T14:53:06.941Z"
   },
   {
    "duration": 0,
    "start_time": "2022-04-29T14:53:06.943Z"
   },
   {
    "duration": 0,
    "start_time": "2022-04-29T14:53:06.945Z"
   },
   {
    "duration": 0,
    "start_time": "2022-04-29T14:53:06.946Z"
   },
   {
    "duration": 0,
    "start_time": "2022-04-29T14:53:06.947Z"
   },
   {
    "duration": 0,
    "start_time": "2022-04-29T14:53:06.948Z"
   },
   {
    "duration": 0,
    "start_time": "2022-04-29T14:53:06.949Z"
   },
   {
    "duration": 0,
    "start_time": "2022-04-29T14:53:06.950Z"
   },
   {
    "duration": 0,
    "start_time": "2022-04-29T14:53:06.952Z"
   },
   {
    "duration": 0,
    "start_time": "2022-04-29T14:53:06.953Z"
   },
   {
    "duration": 0,
    "start_time": "2022-04-29T14:53:06.954Z"
   },
   {
    "duration": 0,
    "start_time": "2022-04-29T14:53:06.955Z"
   },
   {
    "duration": 0,
    "start_time": "2022-04-29T14:53:06.993Z"
   },
   {
    "duration": 0,
    "start_time": "2022-04-29T14:53:06.995Z"
   },
   {
    "duration": 0,
    "start_time": "2022-04-29T14:53:06.996Z"
   },
   {
    "duration": 0,
    "start_time": "2022-04-29T14:53:06.998Z"
   },
   {
    "duration": 0,
    "start_time": "2022-04-29T14:53:06.999Z"
   },
   {
    "duration": 28,
    "start_time": "2022-04-29T14:53:42.358Z"
   },
   {
    "duration": 42,
    "start_time": "2022-04-29T14:53:59.991Z"
   },
   {
    "duration": 88,
    "start_time": "2022-04-29T14:54:07.517Z"
   },
   {
    "duration": 60,
    "start_time": "2022-04-29T14:55:43.749Z"
   },
   {
    "duration": 518,
    "start_time": "2022-04-29T14:55:50.344Z"
   },
   {
    "duration": 102,
    "start_time": "2022-04-29T14:55:50.864Z"
   },
   {
    "duration": 264,
    "start_time": "2022-04-29T14:55:50.968Z"
   },
   {
    "duration": 136,
    "start_time": "2022-04-29T14:55:51.235Z"
   },
   {
    "duration": 234,
    "start_time": "2022-04-29T14:55:51.373Z"
   },
   {
    "duration": 66,
    "start_time": "2022-04-29T14:55:51.610Z"
   },
   {
    "duration": 111,
    "start_time": "2022-04-29T14:55:51.692Z"
   },
   {
    "duration": 7,
    "start_time": "2022-04-29T14:55:51.806Z"
   },
   {
    "duration": 9,
    "start_time": "2022-04-29T14:55:51.816Z"
   },
   {
    "duration": 6,
    "start_time": "2022-04-29T14:55:51.829Z"
   },
   {
    "duration": 14,
    "start_time": "2022-04-29T14:55:51.838Z"
   },
   {
    "duration": 41,
    "start_time": "2022-04-29T14:55:51.854Z"
   },
   {
    "duration": 126,
    "start_time": "2022-04-29T14:55:51.897Z"
   },
   {
    "duration": 28,
    "start_time": "2022-04-29T14:55:52.026Z"
   },
   {
    "duration": 4,
    "start_time": "2022-04-29T14:55:52.056Z"
   },
   {
    "duration": 89,
    "start_time": "2022-04-29T14:55:52.062Z"
   },
   {
    "duration": 10,
    "start_time": "2022-04-29T14:55:52.153Z"
   },
   {
    "duration": 109,
    "start_time": "2022-04-29T14:55:52.166Z"
   },
   {
    "duration": 0,
    "start_time": "2022-04-29T14:55:52.279Z"
   },
   {
    "duration": 0,
    "start_time": "2022-04-29T14:55:52.281Z"
   },
   {
    "duration": 0,
    "start_time": "2022-04-29T14:55:52.293Z"
   },
   {
    "duration": 0,
    "start_time": "2022-04-29T14:55:52.294Z"
   },
   {
    "duration": 0,
    "start_time": "2022-04-29T14:55:52.296Z"
   },
   {
    "duration": 0,
    "start_time": "2022-04-29T14:55:52.297Z"
   },
   {
    "duration": 0,
    "start_time": "2022-04-29T14:55:52.299Z"
   },
   {
    "duration": 1,
    "start_time": "2022-04-29T14:55:52.300Z"
   },
   {
    "duration": 0,
    "start_time": "2022-04-29T14:55:52.302Z"
   },
   {
    "duration": 0,
    "start_time": "2022-04-29T14:55:52.304Z"
   },
   {
    "duration": 0,
    "start_time": "2022-04-29T14:55:52.305Z"
   },
   {
    "duration": 0,
    "start_time": "2022-04-29T14:55:52.306Z"
   },
   {
    "duration": 0,
    "start_time": "2022-04-29T14:55:52.308Z"
   },
   {
    "duration": 0,
    "start_time": "2022-04-29T14:55:52.309Z"
   },
   {
    "duration": 0,
    "start_time": "2022-04-29T14:55:52.311Z"
   },
   {
    "duration": 0,
    "start_time": "2022-04-29T14:55:52.312Z"
   },
   {
    "duration": 0,
    "start_time": "2022-04-29T14:55:52.314Z"
   },
   {
    "duration": 0,
    "start_time": "2022-04-29T14:55:52.316Z"
   },
   {
    "duration": 0,
    "start_time": "2022-04-29T14:55:52.317Z"
   },
   {
    "duration": 0,
    "start_time": "2022-04-29T14:55:52.318Z"
   },
   {
    "duration": 0,
    "start_time": "2022-04-29T14:55:52.320Z"
   },
   {
    "duration": 0,
    "start_time": "2022-04-29T14:55:52.321Z"
   },
   {
    "duration": 62,
    "start_time": "2022-04-29T14:56:10.441Z"
   },
   {
    "duration": 41,
    "start_time": "2022-04-29T14:57:27.457Z"
   },
   {
    "duration": 118,
    "start_time": "2022-04-29T14:57:56.118Z"
   },
   {
    "duration": 137,
    "start_time": "2022-04-29T14:58:15.129Z"
   },
   {
    "duration": 27,
    "start_time": "2022-04-29T14:59:20.802Z"
   },
   {
    "duration": 48,
    "start_time": "2022-04-29T14:59:26.626Z"
   },
   {
    "duration": 27,
    "start_time": "2022-04-29T14:59:40.983Z"
   },
   {
    "duration": 51,
    "start_time": "2022-04-29T14:59:55.033Z"
   },
   {
    "duration": 34,
    "start_time": "2022-04-29T15:00:06.095Z"
   },
   {
    "duration": 54,
    "start_time": "2022-04-29T15:00:10.557Z"
   },
   {
    "duration": 39,
    "start_time": "2022-04-29T15:00:21.165Z"
   },
   {
    "duration": 40,
    "start_time": "2022-04-29T15:01:27.783Z"
   },
   {
    "duration": 76,
    "start_time": "2022-04-29T15:02:06.855Z"
   },
   {
    "duration": 52,
    "start_time": "2022-04-29T15:02:26.215Z"
   },
   {
    "duration": 71,
    "start_time": "2022-04-29T15:02:48.341Z"
   },
   {
    "duration": 47,
    "start_time": "2022-04-29T15:03:00.166Z"
   },
   {
    "duration": 525,
    "start_time": "2022-04-29T15:03:18.151Z"
   },
   {
    "duration": 82,
    "start_time": "2022-04-29T15:03:18.679Z"
   },
   {
    "duration": 266,
    "start_time": "2022-04-29T15:03:18.764Z"
   },
   {
    "duration": 151,
    "start_time": "2022-04-29T15:03:19.034Z"
   },
   {
    "duration": 249,
    "start_time": "2022-04-29T15:03:19.187Z"
   },
   {
    "duration": 85,
    "start_time": "2022-04-29T15:03:19.438Z"
   },
   {
    "duration": 122,
    "start_time": "2022-04-29T15:03:19.525Z"
   },
   {
    "duration": 8,
    "start_time": "2022-04-29T15:03:19.650Z"
   },
   {
    "duration": 8,
    "start_time": "2022-04-29T15:03:19.660Z"
   },
   {
    "duration": 26,
    "start_time": "2022-04-29T15:03:19.672Z"
   },
   {
    "duration": 11,
    "start_time": "2022-04-29T15:03:19.700Z"
   },
   {
    "duration": 6,
    "start_time": "2022-04-29T15:03:19.713Z"
   },
   {
    "duration": 146,
    "start_time": "2022-04-29T15:03:19.721Z"
   },
   {
    "duration": 37,
    "start_time": "2022-04-29T15:03:19.869Z"
   },
   {
    "duration": 4,
    "start_time": "2022-04-29T15:03:19.909Z"
   },
   {
    "duration": 83,
    "start_time": "2022-04-29T15:03:19.915Z"
   },
   {
    "duration": 11,
    "start_time": "2022-04-29T15:03:20.000Z"
   },
   {
    "duration": 85,
    "start_time": "2022-04-29T15:03:20.013Z"
   },
   {
    "duration": 41,
    "start_time": "2022-04-29T15:03:20.100Z"
   },
   {
    "duration": 189,
    "start_time": "2022-04-29T15:03:20.144Z"
   },
   {
    "duration": 59,
    "start_time": "2022-04-29T15:03:20.335Z"
   },
   {
    "duration": 31,
    "start_time": "2022-04-29T15:03:20.397Z"
   },
   {
    "duration": 104,
    "start_time": "2022-04-29T15:03:20.431Z"
   },
   {
    "duration": 60,
    "start_time": "2022-04-29T15:03:20.537Z"
   },
   {
    "duration": 34,
    "start_time": "2022-04-29T15:03:20.599Z"
   },
   {
    "duration": 107,
    "start_time": "2022-04-29T15:03:20.635Z"
   },
   {
    "duration": 55,
    "start_time": "2022-04-29T15:03:20.744Z"
   },
   {
    "duration": 9,
    "start_time": "2022-04-29T15:03:20.803Z"
   },
   {
    "duration": 12,
    "start_time": "2022-04-29T15:03:20.815Z"
   },
   {
    "duration": 4,
    "start_time": "2022-04-29T15:03:20.829Z"
   },
   {
    "duration": 135,
    "start_time": "2022-04-29T15:03:20.835Z"
   },
   {
    "duration": 0,
    "start_time": "2022-04-29T15:03:20.973Z"
   },
   {
    "duration": 0,
    "start_time": "2022-04-29T15:03:20.974Z"
   },
   {
    "duration": 0,
    "start_time": "2022-04-29T15:03:20.976Z"
   },
   {
    "duration": 0,
    "start_time": "2022-04-29T15:03:20.977Z"
   },
   {
    "duration": 0,
    "start_time": "2022-04-29T15:03:20.979Z"
   },
   {
    "duration": 0,
    "start_time": "2022-04-29T15:03:20.993Z"
   },
   {
    "duration": 0,
    "start_time": "2022-04-29T15:03:20.995Z"
   },
   {
    "duration": 0,
    "start_time": "2022-04-29T15:03:20.997Z"
   },
   {
    "duration": 0,
    "start_time": "2022-04-29T15:03:20.998Z"
   },
   {
    "duration": 0,
    "start_time": "2022-04-29T15:03:21.000Z"
   },
   {
    "duration": 14,
    "start_time": "2022-04-29T15:03:50.768Z"
   },
   {
    "duration": 13,
    "start_time": "2022-04-29T15:07:12.489Z"
   },
   {
    "duration": 11,
    "start_time": "2022-04-29T15:07:21.034Z"
   },
   {
    "duration": 11,
    "start_time": "2022-04-29T15:07:25.851Z"
   },
   {
    "duration": 20,
    "start_time": "2022-04-29T15:10:00.877Z"
   },
   {
    "duration": 537,
    "start_time": "2022-04-29T15:21:10.865Z"
   },
   {
    "duration": 327,
    "start_time": "2022-04-29T15:21:27.180Z"
   },
   {
    "duration": 228,
    "start_time": "2022-04-29T15:21:42.450Z"
   },
   {
    "duration": 202,
    "start_time": "2022-04-29T15:21:54.531Z"
   },
   {
    "duration": 5,
    "start_time": "2022-04-29T15:22:11.249Z"
   },
   {
    "duration": 2474,
    "start_time": "2022-04-29T15:23:17.337Z"
   },
   {
    "duration": 566,
    "start_time": "2022-04-29T15:45:30.781Z"
   },
   {
    "duration": 112,
    "start_time": "2022-04-29T15:45:31.351Z"
   },
   {
    "duration": 330,
    "start_time": "2022-04-29T15:45:31.465Z"
   },
   {
    "duration": 197,
    "start_time": "2022-04-29T15:45:31.798Z"
   },
   {
    "duration": 265,
    "start_time": "2022-04-29T15:45:31.997Z"
   },
   {
    "duration": 91,
    "start_time": "2022-04-29T15:45:32.265Z"
   },
   {
    "duration": 144,
    "start_time": "2022-04-29T15:45:32.359Z"
   },
   {
    "duration": 8,
    "start_time": "2022-04-29T15:45:32.506Z"
   },
   {
    "duration": 13,
    "start_time": "2022-04-29T15:45:32.516Z"
   },
   {
    "duration": 8,
    "start_time": "2022-04-29T15:45:32.535Z"
   },
   {
    "duration": 48,
    "start_time": "2022-04-29T15:45:32.546Z"
   },
   {
    "duration": 4,
    "start_time": "2022-04-29T15:45:32.597Z"
   },
   {
    "duration": 150,
    "start_time": "2022-04-29T15:45:32.603Z"
   },
   {
    "duration": 43,
    "start_time": "2022-04-29T15:45:32.756Z"
   },
   {
    "duration": 4,
    "start_time": "2022-04-29T15:45:32.802Z"
   },
   {
    "duration": 86,
    "start_time": "2022-04-29T15:45:32.808Z"
   },
   {
    "duration": 196,
    "start_time": "2022-04-29T15:45:32.897Z"
   },
   {
    "duration": 0,
    "start_time": "2022-04-29T15:45:33.098Z"
   },
   {
    "duration": 0,
    "start_time": "2022-04-29T15:45:33.100Z"
   },
   {
    "duration": 0,
    "start_time": "2022-04-29T15:45:33.102Z"
   },
   {
    "duration": 0,
    "start_time": "2022-04-29T15:45:33.104Z"
   },
   {
    "duration": 0,
    "start_time": "2022-04-29T15:45:33.107Z"
   },
   {
    "duration": 0,
    "start_time": "2022-04-29T15:45:33.109Z"
   },
   {
    "duration": 0,
    "start_time": "2022-04-29T15:45:33.111Z"
   },
   {
    "duration": 0,
    "start_time": "2022-04-29T15:45:33.115Z"
   },
   {
    "duration": 0,
    "start_time": "2022-04-29T15:45:33.117Z"
   },
   {
    "duration": 0,
    "start_time": "2022-04-29T15:45:33.120Z"
   },
   {
    "duration": 0,
    "start_time": "2022-04-29T15:45:33.124Z"
   },
   {
    "duration": 0,
    "start_time": "2022-04-29T15:45:33.126Z"
   },
   {
    "duration": 0,
    "start_time": "2022-04-29T15:45:33.129Z"
   },
   {
    "duration": 0,
    "start_time": "2022-04-29T15:45:33.131Z"
   },
   {
    "duration": 0,
    "start_time": "2022-04-29T15:45:33.133Z"
   },
   {
    "duration": 0,
    "start_time": "2022-04-29T15:45:33.135Z"
   },
   {
    "duration": 0,
    "start_time": "2022-04-29T15:45:33.137Z"
   },
   {
    "duration": 1,
    "start_time": "2022-04-29T15:45:33.193Z"
   },
   {
    "duration": 0,
    "start_time": "2022-04-29T15:45:33.196Z"
   },
   {
    "duration": 0,
    "start_time": "2022-04-29T15:45:33.198Z"
   },
   {
    "duration": 0,
    "start_time": "2022-04-29T15:45:33.200Z"
   },
   {
    "duration": 0,
    "start_time": "2022-04-29T15:45:33.203Z"
   },
   {
    "duration": 0,
    "start_time": "2022-04-29T15:45:33.205Z"
   },
   {
    "duration": 0,
    "start_time": "2022-04-29T15:45:33.206Z"
   },
   {
    "duration": 0,
    "start_time": "2022-04-29T15:45:33.208Z"
   },
   {
    "duration": 0,
    "start_time": "2022-04-29T15:45:33.211Z"
   },
   {
    "duration": 26,
    "start_time": "2022-04-29T15:46:21.392Z"
   },
   {
    "duration": 11,
    "start_time": "2022-04-29T15:48:50.716Z"
   },
   {
    "duration": 12,
    "start_time": "2022-04-29T15:49:52.322Z"
   },
   {
    "duration": 74,
    "start_time": "2022-04-29T15:49:56.829Z"
   },
   {
    "duration": 40,
    "start_time": "2022-04-29T15:50:02.418Z"
   },
   {
    "duration": 243,
    "start_time": "2022-04-29T15:50:08.608Z"
   },
   {
    "duration": 43,
    "start_time": "2022-04-29T15:50:20.456Z"
   },
   {
    "duration": 497,
    "start_time": "2022-04-29T15:50:31.622Z"
   },
   {
    "duration": 95,
    "start_time": "2022-04-29T15:50:32.122Z"
   },
   {
    "duration": 305,
    "start_time": "2022-04-29T15:50:32.219Z"
   },
   {
    "duration": 167,
    "start_time": "2022-04-29T15:50:32.526Z"
   },
   {
    "duration": 256,
    "start_time": "2022-04-29T15:50:32.696Z"
   },
   {
    "duration": 77,
    "start_time": "2022-04-29T15:50:32.955Z"
   },
   {
    "duration": 139,
    "start_time": "2022-04-29T15:50:33.034Z"
   },
   {
    "duration": 7,
    "start_time": "2022-04-29T15:50:33.176Z"
   },
   {
    "duration": 12,
    "start_time": "2022-04-29T15:50:33.185Z"
   },
   {
    "duration": 9,
    "start_time": "2022-04-29T15:50:33.199Z"
   },
   {
    "duration": 13,
    "start_time": "2022-04-29T15:50:33.211Z"
   },
   {
    "duration": 6,
    "start_time": "2022-04-29T15:50:33.228Z"
   },
   {
    "duration": 168,
    "start_time": "2022-04-29T15:50:33.236Z"
   },
   {
    "duration": 32,
    "start_time": "2022-04-29T15:50:33.410Z"
   },
   {
    "duration": 5,
    "start_time": "2022-04-29T15:50:33.445Z"
   },
   {
    "duration": 110,
    "start_time": "2022-04-29T15:50:33.453Z"
   },
   {
    "duration": 47,
    "start_time": "2022-04-29T15:50:33.566Z"
   },
   {
    "duration": 17,
    "start_time": "2022-04-29T15:50:33.617Z"
   },
   {
    "duration": 96,
    "start_time": "2022-04-29T15:50:33.636Z"
   },
   {
    "duration": 59,
    "start_time": "2022-04-29T15:50:33.735Z"
   },
   {
    "duration": 175,
    "start_time": "2022-04-29T15:50:33.796Z"
   },
   {
    "duration": 52,
    "start_time": "2022-04-29T15:50:33.973Z"
   },
   {
    "duration": 29,
    "start_time": "2022-04-29T15:50:34.027Z"
   },
   {
    "duration": 106,
    "start_time": "2022-04-29T15:50:34.059Z"
   },
   {
    "duration": 74,
    "start_time": "2022-04-29T15:50:34.167Z"
   },
   {
    "duration": 51,
    "start_time": "2022-04-29T15:50:34.243Z"
   },
   {
    "duration": 100,
    "start_time": "2022-04-29T15:50:34.296Z"
   },
   {
    "duration": 51,
    "start_time": "2022-04-29T15:50:34.398Z"
   },
   {
    "duration": 8,
    "start_time": "2022-04-29T15:50:34.451Z"
   },
   {
    "duration": 36,
    "start_time": "2022-04-29T15:50:34.462Z"
   },
   {
    "duration": 17,
    "start_time": "2022-04-29T15:50:34.500Z"
   },
   {
    "duration": 16,
    "start_time": "2022-04-29T15:50:34.520Z"
   },
   {
    "duration": 138,
    "start_time": "2022-04-29T15:50:34.538Z"
   },
   {
    "duration": 0,
    "start_time": "2022-04-29T15:50:34.679Z"
   },
   {
    "duration": 0,
    "start_time": "2022-04-29T15:50:34.681Z"
   },
   {
    "duration": 0,
    "start_time": "2022-04-29T15:50:34.682Z"
   },
   {
    "duration": 0,
    "start_time": "2022-04-29T15:50:34.684Z"
   },
   {
    "duration": 0,
    "start_time": "2022-04-29T15:50:34.693Z"
   },
   {
    "duration": 0,
    "start_time": "2022-04-29T15:50:34.695Z"
   },
   {
    "duration": 0,
    "start_time": "2022-04-29T15:50:34.697Z"
   },
   {
    "duration": 0,
    "start_time": "2022-04-29T15:50:34.698Z"
   },
   {
    "duration": 0,
    "start_time": "2022-04-29T15:50:34.699Z"
   },
   {
    "duration": 0,
    "start_time": "2022-04-29T15:50:34.700Z"
   },
   {
    "duration": 0,
    "start_time": "2022-04-29T15:50:34.701Z"
   },
   {
    "duration": 18,
    "start_time": "2022-04-29T15:52:28.128Z"
   },
   {
    "duration": 14,
    "start_time": "2022-04-29T15:52:39.512Z"
   },
   {
    "duration": 39,
    "start_time": "2022-04-29T15:52:43.570Z"
   },
   {
    "duration": 601,
    "start_time": "2022-04-29T15:52:59.708Z"
   },
   {
    "duration": 86,
    "start_time": "2022-04-29T15:53:00.312Z"
   },
   {
    "duration": 305,
    "start_time": "2022-04-29T15:53:00.400Z"
   },
   {
    "duration": 162,
    "start_time": "2022-04-29T15:53:00.710Z"
   },
   {
    "duration": 289,
    "start_time": "2022-04-29T15:53:00.875Z"
   },
   {
    "duration": 87,
    "start_time": "2022-04-29T15:53:01.167Z"
   },
   {
    "duration": 150,
    "start_time": "2022-04-29T15:53:01.257Z"
   },
   {
    "duration": 9,
    "start_time": "2022-04-29T15:53:01.410Z"
   },
   {
    "duration": 18,
    "start_time": "2022-04-29T15:53:01.422Z"
   },
   {
    "duration": 31,
    "start_time": "2022-04-29T15:53:01.444Z"
   },
   {
    "duration": 21,
    "start_time": "2022-04-29T15:53:01.477Z"
   },
   {
    "duration": 22,
    "start_time": "2022-04-29T15:53:01.501Z"
   },
   {
    "duration": 138,
    "start_time": "2022-04-29T15:53:01.526Z"
   },
   {
    "duration": 43,
    "start_time": "2022-04-29T15:53:01.667Z"
   },
   {
    "duration": 5,
    "start_time": "2022-04-29T15:53:01.712Z"
   },
   {
    "duration": 99,
    "start_time": "2022-04-29T15:53:01.719Z"
   },
   {
    "duration": 27,
    "start_time": "2022-04-29T15:53:01.820Z"
   },
   {
    "duration": 17,
    "start_time": "2022-04-29T15:53:01.850Z"
   },
   {
    "duration": 92,
    "start_time": "2022-04-29T15:53:01.870Z"
   },
   {
    "duration": 58,
    "start_time": "2022-04-29T15:53:01.964Z"
   },
   {
    "duration": 183,
    "start_time": "2022-04-29T15:53:02.025Z"
   },
   {
    "duration": 40,
    "start_time": "2022-04-29T15:53:02.211Z"
   },
   {
    "duration": 58,
    "start_time": "2022-04-29T15:53:02.253Z"
   },
   {
    "duration": 128,
    "start_time": "2022-04-29T15:53:02.314Z"
   },
   {
    "duration": 78,
    "start_time": "2022-04-29T15:53:02.444Z"
   },
   {
    "duration": 37,
    "start_time": "2022-04-29T15:53:02.524Z"
   },
   {
    "duration": 103,
    "start_time": "2022-04-29T15:53:02.563Z"
   },
   {
    "duration": 67,
    "start_time": "2022-04-29T15:53:02.671Z"
   },
   {
    "duration": 10,
    "start_time": "2022-04-29T15:53:02.740Z"
   },
   {
    "duration": 12,
    "start_time": "2022-04-29T15:53:02.752Z"
   },
   {
    "duration": 16,
    "start_time": "2022-04-29T15:53:02.794Z"
   },
   {
    "duration": 14,
    "start_time": "2022-04-29T15:53:02.812Z"
   },
   {
    "duration": 8,
    "start_time": "2022-04-29T15:53:02.828Z"
   },
   {
    "duration": 2597,
    "start_time": "2022-04-29T15:53:02.838Z"
   },
   {
    "duration": 0,
    "start_time": "2022-04-29T15:53:05.439Z"
   },
   {
    "duration": 0,
    "start_time": "2022-04-29T15:53:05.441Z"
   },
   {
    "duration": 0,
    "start_time": "2022-04-29T15:53:05.444Z"
   },
   {
    "duration": 0,
    "start_time": "2022-04-29T15:53:05.446Z"
   },
   {
    "duration": 0,
    "start_time": "2022-04-29T15:53:05.449Z"
   },
   {
    "duration": 1,
    "start_time": "2022-04-29T15:53:05.451Z"
   },
   {
    "duration": 0,
    "start_time": "2022-04-29T15:53:05.454Z"
   },
   {
    "duration": 0,
    "start_time": "2022-04-29T15:53:05.457Z"
   },
   {
    "duration": 0,
    "start_time": "2022-04-29T15:53:05.459Z"
   },
   {
    "duration": 561,
    "start_time": "2022-04-29T15:53:49.270Z"
   },
   {
    "duration": 84,
    "start_time": "2022-04-29T15:53:49.834Z"
   },
   {
    "duration": 304,
    "start_time": "2022-04-29T15:53:49.924Z"
   },
   {
    "duration": 163,
    "start_time": "2022-04-29T15:53:50.230Z"
   },
   {
    "duration": 272,
    "start_time": "2022-04-29T15:53:50.395Z"
   },
   {
    "duration": 82,
    "start_time": "2022-04-29T15:53:50.669Z"
   },
   {
    "duration": 156,
    "start_time": "2022-04-29T15:53:50.753Z"
   },
   {
    "duration": 9,
    "start_time": "2022-04-29T15:53:50.911Z"
   },
   {
    "duration": 10,
    "start_time": "2022-04-29T15:53:50.927Z"
   },
   {
    "duration": 16,
    "start_time": "2022-04-29T15:53:50.940Z"
   },
   {
    "duration": 39,
    "start_time": "2022-04-29T15:53:50.959Z"
   },
   {
    "duration": 4,
    "start_time": "2022-04-29T15:53:51.001Z"
   },
   {
    "duration": 154,
    "start_time": "2022-04-29T15:53:51.007Z"
   },
   {
    "duration": 46,
    "start_time": "2022-04-29T15:53:51.163Z"
   },
   {
    "duration": 4,
    "start_time": "2022-04-29T15:53:51.212Z"
   },
   {
    "duration": 97,
    "start_time": "2022-04-29T15:53:51.219Z"
   },
   {
    "duration": 26,
    "start_time": "2022-04-29T15:53:51.318Z"
   },
   {
    "duration": 13,
    "start_time": "2022-04-29T15:53:51.346Z"
   },
   {
    "duration": 70,
    "start_time": "2022-04-29T15:53:51.393Z"
   },
   {
    "duration": 58,
    "start_time": "2022-04-29T15:53:51.465Z"
   },
   {
    "duration": 185,
    "start_time": "2022-04-29T15:53:51.526Z"
   },
   {
    "duration": 41,
    "start_time": "2022-04-29T15:53:51.713Z"
   },
   {
    "duration": 62,
    "start_time": "2022-04-29T15:53:51.757Z"
   },
   {
    "duration": 131,
    "start_time": "2022-04-29T15:53:51.822Z"
   },
   {
    "duration": 98,
    "start_time": "2022-04-29T15:53:51.956Z"
   },
   {
    "duration": 51,
    "start_time": "2022-04-29T15:53:52.057Z"
   },
   {
    "duration": 100,
    "start_time": "2022-04-29T15:53:52.113Z"
   },
   {
    "duration": 95,
    "start_time": "2022-04-29T15:53:52.216Z"
   },
   {
    "duration": 13,
    "start_time": "2022-04-29T15:53:52.314Z"
   },
   {
    "duration": 14,
    "start_time": "2022-04-29T15:53:52.329Z"
   },
   {
    "duration": 49,
    "start_time": "2022-04-29T15:53:52.345Z"
   },
   {
    "duration": 12,
    "start_time": "2022-04-29T15:53:52.396Z"
   },
   {
    "duration": 127,
    "start_time": "2022-04-29T15:53:52.411Z"
   },
   {
    "duration": 0,
    "start_time": "2022-04-29T15:53:52.540Z"
   },
   {
    "duration": 0,
    "start_time": "2022-04-29T15:53:52.542Z"
   },
   {
    "duration": 0,
    "start_time": "2022-04-29T15:53:52.544Z"
   },
   {
    "duration": 0,
    "start_time": "2022-04-29T15:53:52.545Z"
   },
   {
    "duration": 0,
    "start_time": "2022-04-29T15:53:52.547Z"
   },
   {
    "duration": 0,
    "start_time": "2022-04-29T15:53:52.548Z"
   },
   {
    "duration": 0,
    "start_time": "2022-04-29T15:53:52.550Z"
   },
   {
    "duration": 0,
    "start_time": "2022-04-29T15:53:52.551Z"
   },
   {
    "duration": 0,
    "start_time": "2022-04-29T15:53:52.552Z"
   },
   {
    "duration": 0,
    "start_time": "2022-04-29T15:53:52.554Z"
   },
   {
    "duration": 0,
    "start_time": "2022-04-29T15:53:52.556Z"
   },
   {
    "duration": 5,
    "start_time": "2022-04-29T16:03:42.303Z"
   },
   {
    "duration": 383,
    "start_time": "2022-05-03T12:17:48.248Z"
   },
   {
    "duration": 70,
    "start_time": "2022-05-03T12:17:48.632Z"
   },
   {
    "duration": 221,
    "start_time": "2022-05-03T12:17:48.704Z"
   },
   {
    "duration": 114,
    "start_time": "2022-05-03T12:17:48.928Z"
   },
   {
    "duration": 212,
    "start_time": "2022-05-03T12:17:49.044Z"
   },
   {
    "duration": 67,
    "start_time": "2022-05-03T12:17:49.259Z"
   },
   {
    "duration": 92,
    "start_time": "2022-05-03T12:17:49.328Z"
   },
   {
    "duration": 6,
    "start_time": "2022-05-03T12:17:49.422Z"
   },
   {
    "duration": 6,
    "start_time": "2022-05-03T12:17:49.429Z"
   },
   {
    "duration": 5,
    "start_time": "2022-05-03T12:17:49.438Z"
   },
   {
    "duration": 7,
    "start_time": "2022-05-03T12:17:49.445Z"
   },
   {
    "duration": 7,
    "start_time": "2022-05-03T12:17:49.454Z"
   },
   {
    "duration": 120,
    "start_time": "2022-05-03T12:17:49.463Z"
   },
   {
    "duration": 36,
    "start_time": "2022-05-03T12:17:49.585Z"
   },
   {
    "duration": 3,
    "start_time": "2022-05-03T12:17:49.623Z"
   },
   {
    "duration": 54,
    "start_time": "2022-05-03T12:17:49.629Z"
   },
   {
    "duration": 31,
    "start_time": "2022-05-03T12:17:49.684Z"
   },
   {
    "duration": 9,
    "start_time": "2022-05-03T12:17:49.717Z"
   },
   {
    "duration": 50,
    "start_time": "2022-05-03T12:17:49.728Z"
   },
   {
    "duration": 54,
    "start_time": "2022-05-03T12:17:49.780Z"
   },
   {
    "duration": 126,
    "start_time": "2022-05-03T12:17:49.836Z"
   },
   {
    "duration": 28,
    "start_time": "2022-05-03T12:17:49.964Z"
   },
   {
    "duration": 22,
    "start_time": "2022-05-03T12:17:50.008Z"
   },
   {
    "duration": 54,
    "start_time": "2022-05-03T12:17:50.032Z"
   },
   {
    "duration": 39,
    "start_time": "2022-05-03T12:17:50.107Z"
   },
   {
    "duration": 25,
    "start_time": "2022-05-03T12:17:50.148Z"
   },
   {
    "duration": 84,
    "start_time": "2022-05-03T12:17:50.175Z"
   },
   {
    "duration": 45,
    "start_time": "2022-05-03T12:17:50.263Z"
   },
   {
    "duration": 7,
    "start_time": "2022-05-03T12:17:50.310Z"
   },
   {
    "duration": 9,
    "start_time": "2022-05-03T12:17:50.319Z"
   },
   {
    "duration": 11,
    "start_time": "2022-05-03T12:17:50.330Z"
   },
   {
    "duration": 9,
    "start_time": "2022-05-03T12:17:50.343Z"
   },
   {
    "duration": 4,
    "start_time": "2022-05-03T12:17:50.354Z"
   },
   {
    "duration": 905,
    "start_time": "2022-05-03T12:17:50.360Z"
   },
   {
    "duration": 0,
    "start_time": "2022-05-03T12:17:51.267Z"
   },
   {
    "duration": 0,
    "start_time": "2022-05-03T12:17:51.268Z"
   },
   {
    "duration": 0,
    "start_time": "2022-05-03T12:17:51.269Z"
   },
   {
    "duration": 0,
    "start_time": "2022-05-03T12:17:51.271Z"
   },
   {
    "duration": 0,
    "start_time": "2022-05-03T12:17:51.272Z"
   },
   {
    "duration": 0,
    "start_time": "2022-05-03T12:17:51.273Z"
   },
   {
    "duration": 0,
    "start_time": "2022-05-03T12:17:51.274Z"
   },
   {
    "duration": 0,
    "start_time": "2022-05-03T12:17:51.275Z"
   },
   {
    "duration": 0,
    "start_time": "2022-05-03T12:17:51.276Z"
   },
   {
    "duration": 427,
    "start_time": "2022-05-03T12:23:12.643Z"
   },
   {
    "duration": 64,
    "start_time": "2022-05-03T12:23:13.073Z"
   },
   {
    "duration": 232,
    "start_time": "2022-05-03T12:23:13.139Z"
   },
   {
    "duration": 120,
    "start_time": "2022-05-03T12:23:13.373Z"
   },
   {
    "duration": 200,
    "start_time": "2022-05-03T12:23:13.494Z"
   },
   {
    "duration": 49,
    "start_time": "2022-05-03T12:23:13.707Z"
   },
   {
    "duration": 101,
    "start_time": "2022-05-03T12:23:13.758Z"
   },
   {
    "duration": 6,
    "start_time": "2022-05-03T12:23:13.861Z"
   },
   {
    "duration": 9,
    "start_time": "2022-05-03T12:23:13.869Z"
   },
   {
    "duration": 5,
    "start_time": "2022-05-03T12:23:13.881Z"
   },
   {
    "duration": 8,
    "start_time": "2022-05-03T12:23:13.906Z"
   },
   {
    "duration": 5,
    "start_time": "2022-05-03T12:23:13.915Z"
   },
   {
    "duration": 102,
    "start_time": "2022-05-03T12:23:13.921Z"
   },
   {
    "duration": 24,
    "start_time": "2022-05-03T12:23:14.024Z"
   },
   {
    "duration": 3,
    "start_time": "2022-05-03T12:23:14.050Z"
   },
   {
    "duration": 67,
    "start_time": "2022-05-03T12:23:14.055Z"
   },
   {
    "duration": 18,
    "start_time": "2022-05-03T12:23:14.124Z"
   },
   {
    "duration": 13,
    "start_time": "2022-05-03T12:23:14.144Z"
   },
   {
    "duration": 78,
    "start_time": "2022-05-03T12:23:14.158Z"
   },
   {
    "duration": 31,
    "start_time": "2022-05-03T12:23:14.238Z"
   },
   {
    "duration": 137,
    "start_time": "2022-05-03T12:23:14.271Z"
   },
   {
    "duration": 28,
    "start_time": "2022-05-03T12:23:14.410Z"
   },
   {
    "duration": 22,
    "start_time": "2022-05-03T12:23:14.439Z"
   },
   {
    "duration": 84,
    "start_time": "2022-05-03T12:23:14.463Z"
   },
   {
    "duration": 41,
    "start_time": "2022-05-03T12:23:14.549Z"
   },
   {
    "duration": 39,
    "start_time": "2022-05-03T12:23:14.593Z"
   },
   {
    "duration": 79,
    "start_time": "2022-05-03T12:23:14.635Z"
   },
   {
    "duration": 34,
    "start_time": "2022-05-03T12:23:14.718Z"
   },
   {
    "duration": 7,
    "start_time": "2022-05-03T12:23:14.754Z"
   },
   {
    "duration": 11,
    "start_time": "2022-05-03T12:23:14.763Z"
   },
   {
    "duration": 37,
    "start_time": "2022-05-03T12:23:14.776Z"
   },
   {
    "duration": 9,
    "start_time": "2022-05-03T12:23:14.815Z"
   },
   {
    "duration": 5,
    "start_time": "2022-05-03T12:23:14.826Z"
   },
   {
    "duration": 833,
    "start_time": "2022-05-03T12:23:14.833Z"
   },
   {
    "duration": 0,
    "start_time": "2022-05-03T12:23:15.669Z"
   },
   {
    "duration": 0,
    "start_time": "2022-05-03T12:23:15.670Z"
   },
   {
    "duration": 0,
    "start_time": "2022-05-03T12:23:15.671Z"
   },
   {
    "duration": 0,
    "start_time": "2022-05-03T12:23:15.672Z"
   },
   {
    "duration": 0,
    "start_time": "2022-05-03T12:23:15.673Z"
   },
   {
    "duration": 0,
    "start_time": "2022-05-03T12:23:15.675Z"
   },
   {
    "duration": 0,
    "start_time": "2022-05-03T12:23:15.675Z"
   },
   {
    "duration": 0,
    "start_time": "2022-05-03T12:23:15.676Z"
   },
   {
    "duration": 0,
    "start_time": "2022-05-03T12:23:15.678Z"
   },
   {
    "duration": 12,
    "start_time": "2022-05-03T12:30:14.514Z"
   },
   {
    "duration": 441,
    "start_time": "2022-05-03T12:36:03.395Z"
   },
   {
    "duration": 63,
    "start_time": "2022-05-03T12:36:03.837Z"
   },
   {
    "duration": 221,
    "start_time": "2022-05-03T12:36:03.901Z"
   },
   {
    "duration": 115,
    "start_time": "2022-05-03T12:36:04.123Z"
   },
   {
    "duration": 207,
    "start_time": "2022-05-03T12:36:04.240Z"
   },
   {
    "duration": 69,
    "start_time": "2022-05-03T12:36:04.449Z"
   },
   {
    "duration": 100,
    "start_time": "2022-05-03T12:36:04.520Z"
   },
   {
    "duration": 7,
    "start_time": "2022-05-03T12:36:04.622Z"
   },
   {
    "duration": 5,
    "start_time": "2022-05-03T12:36:04.631Z"
   },
   {
    "duration": 6,
    "start_time": "2022-05-03T12:36:04.638Z"
   },
   {
    "duration": 7,
    "start_time": "2022-05-03T12:36:04.646Z"
   },
   {
    "duration": 7,
    "start_time": "2022-05-03T12:36:04.655Z"
   },
   {
    "duration": 115,
    "start_time": "2022-05-03T12:36:04.664Z"
   },
   {
    "duration": 32,
    "start_time": "2022-05-03T12:36:04.783Z"
   },
   {
    "duration": 3,
    "start_time": "2022-05-03T12:36:04.817Z"
   },
   {
    "duration": 54,
    "start_time": "2022-05-03T12:36:04.821Z"
   },
   {
    "duration": 3,
    "start_time": "2022-05-03T12:36:04.877Z"
   },
   {
    "duration": 7,
    "start_time": "2022-05-03T12:36:04.881Z"
   },
   {
    "duration": 18,
    "start_time": "2022-05-03T12:36:04.890Z"
   },
   {
    "duration": 36,
    "start_time": "2022-05-03T12:36:04.910Z"
   },
   {
    "duration": 87,
    "start_time": "2022-05-03T12:36:04.948Z"
   },
   {
    "duration": 3,
    "start_time": "2022-05-03T12:36:05.037Z"
   },
   {
    "duration": 13,
    "start_time": "2022-05-03T12:36:05.042Z"
   },
   {
    "duration": 25,
    "start_time": "2022-05-03T12:36:05.057Z"
   },
   {
    "duration": 52,
    "start_time": "2022-05-03T12:36:05.084Z"
   },
   {
    "duration": 3,
    "start_time": "2022-05-03T12:36:05.138Z"
   },
   {
    "duration": 5,
    "start_time": "2022-05-03T12:36:05.143Z"
   },
   {
    "duration": 28,
    "start_time": "2022-05-03T12:36:05.149Z"
   },
   {
    "duration": 69,
    "start_time": "2022-05-03T12:36:05.179Z"
   },
   {
    "duration": 3,
    "start_time": "2022-05-03T12:36:05.250Z"
   },
   {
    "duration": 29,
    "start_time": "2022-05-03T12:36:05.255Z"
   },
   {
    "duration": 8,
    "start_time": "2022-05-03T12:36:05.308Z"
   },
   {
    "duration": 10,
    "start_time": "2022-05-03T12:36:05.318Z"
   },
   {
    "duration": 11,
    "start_time": "2022-05-03T12:36:05.330Z"
   },
   {
    "duration": 11,
    "start_time": "2022-05-03T12:36:05.342Z"
   },
   {
    "duration": 17,
    "start_time": "2022-05-03T12:36:05.354Z"
   },
   {
    "duration": 58,
    "start_time": "2022-05-03T12:36:05.372Z"
   },
   {
    "duration": 0,
    "start_time": "2022-05-03T12:36:05.432Z"
   },
   {
    "duration": 0,
    "start_time": "2022-05-03T12:36:05.433Z"
   },
   {
    "duration": 0,
    "start_time": "2022-05-03T12:36:05.434Z"
   },
   {
    "duration": 0,
    "start_time": "2022-05-03T12:36:05.435Z"
   },
   {
    "duration": 0,
    "start_time": "2022-05-03T12:36:05.436Z"
   },
   {
    "duration": 0,
    "start_time": "2022-05-03T12:36:05.437Z"
   },
   {
    "duration": 0,
    "start_time": "2022-05-03T12:36:05.438Z"
   },
   {
    "duration": 0,
    "start_time": "2022-05-03T12:36:05.440Z"
   },
   {
    "duration": 0,
    "start_time": "2022-05-03T12:36:05.441Z"
   },
   {
    "duration": 0,
    "start_time": "2022-05-03T12:36:05.442Z"
   },
   {
    "duration": 0,
    "start_time": "2022-05-03T12:36:05.444Z"
   },
   {
    "duration": 10,
    "start_time": "2022-05-03T12:38:12.942Z"
   },
   {
    "duration": 29,
    "start_time": "2022-05-03T12:41:18.734Z"
   },
   {
    "duration": 14,
    "start_time": "2022-05-03T12:41:34.559Z"
   },
   {
    "duration": 12,
    "start_time": "2022-05-03T12:42:39.565Z"
   },
   {
    "duration": 9,
    "start_time": "2022-05-03T12:44:48.204Z"
   },
   {
    "duration": 3,
    "start_time": "2022-05-03T12:46:35.555Z"
   },
   {
    "duration": 928,
    "start_time": "2022-05-03T12:46:52.444Z"
   },
   {
    "duration": 3,
    "start_time": "2022-05-03T12:47:17.003Z"
   },
   {
    "duration": 792,
    "start_time": "2022-05-03T12:47:19.084Z"
   },
   {
    "duration": 49,
    "start_time": "2022-05-03T12:59:09.876Z"
   },
   {
    "duration": 100,
    "start_time": "2022-05-03T12:59:17.124Z"
   },
   {
    "duration": 3,
    "start_time": "2022-05-03T13:06:57.423Z"
   },
   {
    "duration": 58,
    "start_time": "2022-05-03T13:06:59.288Z"
   },
   {
    "duration": 3,
    "start_time": "2022-05-03T13:09:33.820Z"
   },
   {
    "duration": 55,
    "start_time": "2022-05-03T13:09:35.318Z"
   },
   {
    "duration": 8,
    "start_time": "2022-05-03T13:10:56.987Z"
   },
   {
    "duration": 3,
    "start_time": "2022-05-03T13:12:13.193Z"
   },
   {
    "duration": 12,
    "start_time": "2022-05-03T13:12:37.227Z"
   },
   {
    "duration": 68,
    "start_time": "2022-05-03T13:13:04.452Z"
   },
   {
    "duration": 8,
    "start_time": "2022-05-03T13:13:40.005Z"
   },
   {
    "duration": 5,
    "start_time": "2022-05-03T13:16:09.400Z"
   },
   {
    "duration": 62,
    "start_time": "2022-05-03T13:16:25.146Z"
   },
   {
    "duration": 60,
    "start_time": "2022-05-03T13:18:54.606Z"
   },
   {
    "duration": 61,
    "start_time": "2022-05-03T13:19:10.081Z"
   },
   {
    "duration": 386,
    "start_time": "2022-05-03T13:34:58.348Z"
   },
   {
    "duration": 62,
    "start_time": "2022-05-03T13:34:58.736Z"
   },
   {
    "duration": 226,
    "start_time": "2022-05-03T13:34:58.800Z"
   },
   {
    "duration": 118,
    "start_time": "2022-05-03T13:34:59.028Z"
   },
   {
    "duration": 206,
    "start_time": "2022-05-03T13:34:59.147Z"
   },
   {
    "duration": 66,
    "start_time": "2022-05-03T13:34:59.355Z"
   },
   {
    "duration": 88,
    "start_time": "2022-05-03T13:34:59.422Z"
   },
   {
    "duration": 6,
    "start_time": "2022-05-03T13:34:59.512Z"
   },
   {
    "duration": 7,
    "start_time": "2022-05-03T13:34:59.519Z"
   },
   {
    "duration": 5,
    "start_time": "2022-05-03T13:34:59.529Z"
   },
   {
    "duration": 7,
    "start_time": "2022-05-03T13:34:59.536Z"
   },
   {
    "duration": 5,
    "start_time": "2022-05-03T13:34:59.544Z"
   },
   {
    "duration": 122,
    "start_time": "2022-05-03T13:34:59.551Z"
   },
   {
    "duration": 33,
    "start_time": "2022-05-03T13:34:59.675Z"
   },
   {
    "duration": 3,
    "start_time": "2022-05-03T13:34:59.710Z"
   },
   {
    "duration": 54,
    "start_time": "2022-05-03T13:34:59.715Z"
   },
   {
    "duration": 3,
    "start_time": "2022-05-03T13:34:59.771Z"
   },
   {
    "duration": 6,
    "start_time": "2022-05-03T13:34:59.775Z"
   },
   {
    "duration": 5,
    "start_time": "2022-05-03T13:34:59.783Z"
   },
   {
    "duration": 32,
    "start_time": "2022-05-03T13:34:59.808Z"
   },
   {
    "duration": 82,
    "start_time": "2022-05-03T13:34:59.842Z"
   },
   {
    "duration": 3,
    "start_time": "2022-05-03T13:34:59.925Z"
   },
   {
    "duration": 6,
    "start_time": "2022-05-03T13:34:59.929Z"
   },
   {
    "duration": 23,
    "start_time": "2022-05-03T13:34:59.937Z"
   },
   {
    "duration": 60,
    "start_time": "2022-05-03T13:34:59.961Z"
   },
   {
    "duration": 3,
    "start_time": "2022-05-03T13:35:00.023Z"
   },
   {
    "duration": 19,
    "start_time": "2022-05-03T13:35:00.027Z"
   },
   {
    "duration": 28,
    "start_time": "2022-05-03T13:35:00.050Z"
   },
   {
    "duration": 50,
    "start_time": "2022-05-03T13:35:00.080Z"
   },
   {
    "duration": 3,
    "start_time": "2022-05-03T13:35:00.131Z"
   },
   {
    "duration": 32,
    "start_time": "2022-05-03T13:35:00.136Z"
   },
   {
    "duration": 6,
    "start_time": "2022-05-03T13:35:00.170Z"
   },
   {
    "duration": 30,
    "start_time": "2022-05-03T13:35:00.178Z"
   },
   {
    "duration": 20,
    "start_time": "2022-05-03T13:35:00.210Z"
   },
   {
    "duration": 13,
    "start_time": "2022-05-03T13:35:00.232Z"
   },
   {
    "duration": 26,
    "start_time": "2022-05-03T13:35:00.246Z"
   },
   {
    "duration": 70,
    "start_time": "2022-05-03T13:35:00.274Z"
   },
   {
    "duration": 4,
    "start_time": "2022-05-03T13:35:00.346Z"
   },
   {
    "duration": 104,
    "start_time": "2022-05-03T13:35:00.352Z"
   },
   {
    "duration": 8,
    "start_time": "2022-05-03T13:35:00.458Z"
   },
   {
    "duration": 16,
    "start_time": "2022-05-03T13:35:00.467Z"
   },
   {
    "duration": 74,
    "start_time": "2022-05-03T13:35:00.485Z"
   },
   {
    "duration": 20,
    "start_time": "2022-05-03T13:35:00.561Z"
   },
   {
    "duration": 29,
    "start_time": "2022-05-03T13:35:00.582Z"
   },
   {
    "duration": 72,
    "start_time": "2022-05-03T13:35:00.612Z"
   },
   {
    "duration": 0,
    "start_time": "2022-05-03T13:35:00.686Z"
   },
   {
    "duration": 0,
    "start_time": "2022-05-03T13:35:00.687Z"
   },
   {
    "duration": 0,
    "start_time": "2022-05-03T13:35:00.688Z"
   },
   {
    "duration": 0,
    "start_time": "2022-05-03T13:35:00.689Z"
   },
   {
    "duration": 0,
    "start_time": "2022-05-03T13:35:00.708Z"
   },
   {
    "duration": 0,
    "start_time": "2022-05-03T13:35:00.709Z"
   },
   {
    "duration": 7,
    "start_time": "2022-05-03T13:36:35.483Z"
   },
   {
    "duration": 14,
    "start_time": "2022-05-03T13:36:46.701Z"
   },
   {
    "duration": 406,
    "start_time": "2022-05-03T13:37:50.020Z"
   },
   {
    "duration": 59,
    "start_time": "2022-05-03T13:37:50.428Z"
   },
   {
    "duration": 234,
    "start_time": "2022-05-03T13:37:50.492Z"
   },
   {
    "duration": 128,
    "start_time": "2022-05-03T13:37:50.728Z"
   },
   {
    "duration": 217,
    "start_time": "2022-05-03T13:37:50.857Z"
   },
   {
    "duration": 59,
    "start_time": "2022-05-03T13:37:51.076Z"
   },
   {
    "duration": 106,
    "start_time": "2022-05-03T13:37:51.137Z"
   },
   {
    "duration": 7,
    "start_time": "2022-05-03T13:37:51.246Z"
   },
   {
    "duration": 6,
    "start_time": "2022-05-03T13:37:51.257Z"
   },
   {
    "duration": 7,
    "start_time": "2022-05-03T13:37:51.266Z"
   },
   {
    "duration": 34,
    "start_time": "2022-05-03T13:37:51.275Z"
   },
   {
    "duration": 3,
    "start_time": "2022-05-03T13:37:51.312Z"
   },
   {
    "duration": 102,
    "start_time": "2022-05-03T13:37:51.317Z"
   },
   {
    "duration": 23,
    "start_time": "2022-05-03T13:37:51.421Z"
   },
   {
    "duration": 4,
    "start_time": "2022-05-03T13:37:51.446Z"
   },
   {
    "duration": 73,
    "start_time": "2022-05-03T13:37:51.452Z"
   },
   {
    "duration": 2,
    "start_time": "2022-05-03T13:37:51.527Z"
   },
   {
    "duration": 7,
    "start_time": "2022-05-03T13:37:51.531Z"
   },
   {
    "duration": 5,
    "start_time": "2022-05-03T13:37:51.539Z"
   },
   {
    "duration": 61,
    "start_time": "2022-05-03T13:37:51.546Z"
   },
   {
    "duration": 74,
    "start_time": "2022-05-03T13:37:51.609Z"
   },
   {
    "duration": 3,
    "start_time": "2022-05-03T13:37:51.684Z"
   },
   {
    "duration": 3,
    "start_time": "2022-05-03T13:37:51.707Z"
   },
   {
    "duration": 28,
    "start_time": "2022-05-03T13:37:51.712Z"
   },
   {
    "duration": 68,
    "start_time": "2022-05-03T13:37:51.742Z"
   },
   {
    "duration": 3,
    "start_time": "2022-05-03T13:37:51.813Z"
   },
   {
    "duration": 3,
    "start_time": "2022-05-03T13:37:51.820Z"
   },
   {
    "duration": 27,
    "start_time": "2022-05-03T13:37:51.825Z"
   },
   {
    "duration": 72,
    "start_time": "2022-05-03T13:37:51.854Z"
   },
   {
    "duration": 3,
    "start_time": "2022-05-03T13:37:51.928Z"
   },
   {
    "duration": 28,
    "start_time": "2022-05-03T13:37:51.933Z"
   },
   {
    "duration": 6,
    "start_time": "2022-05-03T13:37:51.963Z"
   },
   {
    "duration": 36,
    "start_time": "2022-05-03T13:37:51.972Z"
   },
   {
    "duration": 22,
    "start_time": "2022-05-03T13:37:52.010Z"
   },
   {
    "duration": 15,
    "start_time": "2022-05-03T13:37:52.033Z"
   },
   {
    "duration": 5,
    "start_time": "2022-05-03T13:37:52.050Z"
   },
   {
    "duration": 95,
    "start_time": "2022-05-03T13:37:52.057Z"
   },
   {
    "duration": 3,
    "start_time": "2022-05-03T13:37:52.154Z"
   },
   {
    "duration": 113,
    "start_time": "2022-05-03T13:37:52.159Z"
   },
   {
    "duration": 8,
    "start_time": "2022-05-03T13:37:52.275Z"
   },
   {
    "duration": 4,
    "start_time": "2022-05-03T13:37:52.285Z"
   },
   {
    "duration": 61,
    "start_time": "2022-05-03T13:37:52.308Z"
   },
   {
    "duration": 13,
    "start_time": "2022-05-03T13:37:52.371Z"
   },
   {
    "duration": 3,
    "start_time": "2022-05-03T13:37:52.407Z"
   },
   {
    "duration": 7,
    "start_time": "2022-05-03T13:37:52.412Z"
   },
   {
    "duration": 5,
    "start_time": "2022-05-03T13:37:52.421Z"
   },
   {
    "duration": 5,
    "start_time": "2022-05-03T13:37:52.428Z"
   },
   {
    "duration": 8,
    "start_time": "2022-05-03T13:37:52.435Z"
   },
   {
    "duration": 4,
    "start_time": "2022-05-03T13:37:52.445Z"
   },
   {
    "duration": 10,
    "start_time": "2022-05-03T13:37:52.452Z"
   },
   {
    "duration": 4,
    "start_time": "2022-05-03T13:37:52.464Z"
   },
   {
    "duration": 62,
    "start_time": "2022-05-03T13:37:52.470Z"
   },
   {
    "duration": 14,
    "start_time": "2022-05-03T13:38:44.353Z"
   },
   {
    "duration": 4,
    "start_time": "2022-05-03T13:39:13.612Z"
   },
   {
    "duration": 50,
    "start_time": "2022-05-03T13:39:15.275Z"
   },
   {
    "duration": 14,
    "start_time": "2022-05-03T13:39:16.135Z"
   },
   {
    "duration": 418,
    "start_time": "2022-05-03T13:39:29.315Z"
   },
   {
    "duration": 58,
    "start_time": "2022-05-03T13:39:29.735Z"
   },
   {
    "duration": 225,
    "start_time": "2022-05-03T13:39:29.795Z"
   },
   {
    "duration": 121,
    "start_time": "2022-05-03T13:39:30.023Z"
   },
   {
    "duration": 205,
    "start_time": "2022-05-03T13:39:30.146Z"
   },
   {
    "duration": 60,
    "start_time": "2022-05-03T13:39:30.353Z"
   },
   {
    "duration": 93,
    "start_time": "2022-05-03T13:39:30.414Z"
   },
   {
    "duration": 6,
    "start_time": "2022-05-03T13:39:30.509Z"
   },
   {
    "duration": 12,
    "start_time": "2022-05-03T13:39:30.516Z"
   },
   {
    "duration": 9,
    "start_time": "2022-05-03T13:39:30.531Z"
   },
   {
    "duration": 17,
    "start_time": "2022-05-03T13:39:30.542Z"
   },
   {
    "duration": 6,
    "start_time": "2022-05-03T13:39:30.561Z"
   },
   {
    "duration": 98,
    "start_time": "2022-05-03T13:39:30.569Z"
   },
   {
    "duration": 23,
    "start_time": "2022-05-03T13:39:30.669Z"
   },
   {
    "duration": 14,
    "start_time": "2022-05-03T13:39:30.694Z"
   },
   {
    "duration": 58,
    "start_time": "2022-05-03T13:39:30.710Z"
   },
   {
    "duration": 3,
    "start_time": "2022-05-03T13:39:30.770Z"
   },
   {
    "duration": 29,
    "start_time": "2022-05-03T13:39:30.775Z"
   },
   {
    "duration": 28,
    "start_time": "2022-05-03T13:39:30.807Z"
   },
   {
    "duration": 63,
    "start_time": "2022-05-03T13:39:30.838Z"
   },
   {
    "duration": 79,
    "start_time": "2022-05-03T13:39:30.902Z"
   },
   {
    "duration": 2,
    "start_time": "2022-05-03T13:39:30.983Z"
   },
   {
    "duration": 11,
    "start_time": "2022-05-03T13:39:30.987Z"
   },
   {
    "duration": 26,
    "start_time": "2022-05-03T13:39:31.000Z"
   },
   {
    "duration": 40,
    "start_time": "2022-05-03T13:39:31.027Z"
   },
   {
    "duration": 3,
    "start_time": "2022-05-03T13:39:31.068Z"
   },
   {
    "duration": 21,
    "start_time": "2022-05-03T13:39:31.073Z"
   },
   {
    "duration": 27,
    "start_time": "2022-05-03T13:39:31.107Z"
   },
   {
    "duration": 46,
    "start_time": "2022-05-03T13:39:31.135Z"
   },
   {
    "duration": 3,
    "start_time": "2022-05-03T13:39:31.183Z"
   },
   {
    "duration": 30,
    "start_time": "2022-05-03T13:39:31.207Z"
   },
   {
    "duration": 7,
    "start_time": "2022-05-03T13:39:31.238Z"
   },
   {
    "duration": 21,
    "start_time": "2022-05-03T13:39:31.247Z"
   },
   {
    "duration": 51,
    "start_time": "2022-05-03T13:39:31.270Z"
   },
   {
    "duration": 19,
    "start_time": "2022-05-03T13:39:31.323Z"
   },
   {
    "duration": 5,
    "start_time": "2022-05-03T13:39:31.344Z"
   },
   {
    "duration": 101,
    "start_time": "2022-05-03T13:39:31.351Z"
   },
   {
    "duration": 4,
    "start_time": "2022-05-03T13:39:31.454Z"
   },
   {
    "duration": 131,
    "start_time": "2022-05-03T13:39:31.459Z"
   },
   {
    "duration": 7,
    "start_time": "2022-05-03T13:39:31.591Z"
   },
   {
    "duration": 3,
    "start_time": "2022-05-03T13:39:31.608Z"
   },
   {
    "duration": 77,
    "start_time": "2022-05-03T13:39:31.613Z"
   },
   {
    "duration": 22,
    "start_time": "2022-05-03T13:39:31.693Z"
   },
   {
    "duration": 3,
    "start_time": "2022-05-03T13:39:31.716Z"
   },
   {
    "duration": 4,
    "start_time": "2022-05-03T13:39:31.721Z"
   },
   {
    "duration": 7,
    "start_time": "2022-05-03T13:39:31.727Z"
   },
   {
    "duration": 6,
    "start_time": "2022-05-03T13:39:31.736Z"
   },
   {
    "duration": 6,
    "start_time": "2022-05-03T13:39:31.743Z"
   },
   {
    "duration": 6,
    "start_time": "2022-05-03T13:39:31.751Z"
   },
   {
    "duration": 7,
    "start_time": "2022-05-03T13:39:31.759Z"
   },
   {
    "duration": 40,
    "start_time": "2022-05-03T13:39:31.768Z"
   },
   {
    "duration": 62,
    "start_time": "2022-05-03T13:39:31.810Z"
   },
   {
    "duration": 29,
    "start_time": "2022-05-03T13:40:18.265Z"
   },
   {
    "duration": 28,
    "start_time": "2022-05-03T13:40:24.877Z"
   },
   {
    "duration": 4,
    "start_time": "2022-05-03T13:43:07.410Z"
   },
   {
    "duration": 62,
    "start_time": "2022-05-03T13:43:09.274Z"
   },
   {
    "duration": 29,
    "start_time": "2022-05-03T13:43:15.056Z"
   },
   {
    "duration": 3,
    "start_time": "2022-05-03T13:45:59.810Z"
   },
   {
    "duration": 5,
    "start_time": "2022-05-03T13:46:44.457Z"
   },
   {
    "duration": 65,
    "start_time": "2022-05-03T13:46:45.458Z"
   },
   {
    "duration": 4,
    "start_time": "2022-05-03T13:47:00.198Z"
   },
   {
    "duration": 92,
    "start_time": "2022-05-03T13:47:01.025Z"
   },
   {
    "duration": 28,
    "start_time": "2022-05-03T13:47:04.228Z"
   },
   {
    "duration": 24,
    "start_time": "2022-05-03T13:47:12.118Z"
   },
   {
    "duration": 8,
    "start_time": "2022-05-03T13:48:59.775Z"
   },
   {
    "duration": 464,
    "start_time": "2022-05-03T13:51:10.015Z"
   },
   {
    "duration": 712,
    "start_time": "2022-05-03T13:51:10.481Z"
   },
   {
    "duration": 228,
    "start_time": "2022-05-03T13:51:11.195Z"
   },
   {
    "duration": 122,
    "start_time": "2022-05-03T13:51:11.425Z"
   },
   {
    "duration": 202,
    "start_time": "2022-05-03T13:51:11.548Z"
   },
   {
    "duration": 73,
    "start_time": "2022-05-03T13:51:11.751Z"
   },
   {
    "duration": 105,
    "start_time": "2022-05-03T13:51:11.826Z"
   },
   {
    "duration": 7,
    "start_time": "2022-05-03T13:51:11.934Z"
   },
   {
    "duration": 7,
    "start_time": "2022-05-03T13:51:11.944Z"
   },
   {
    "duration": 7,
    "start_time": "2022-05-03T13:51:11.955Z"
   },
   {
    "duration": 35,
    "start_time": "2022-05-03T13:51:11.972Z"
   },
   {
    "duration": 3,
    "start_time": "2022-05-03T13:51:12.009Z"
   },
   {
    "duration": 109,
    "start_time": "2022-05-03T13:51:12.014Z"
   },
   {
    "duration": 25,
    "start_time": "2022-05-03T13:51:12.124Z"
   },
   {
    "duration": 4,
    "start_time": "2022-05-03T13:51:12.150Z"
   },
   {
    "duration": 76,
    "start_time": "2022-05-03T13:51:12.156Z"
   },
   {
    "duration": 3,
    "start_time": "2022-05-03T13:51:12.233Z"
   },
   {
    "duration": 6,
    "start_time": "2022-05-03T13:51:12.237Z"
   },
   {
    "duration": 5,
    "start_time": "2022-05-03T13:51:12.244Z"
   },
   {
    "duration": 57,
    "start_time": "2022-05-03T13:51:12.251Z"
   },
   {
    "duration": 69,
    "start_time": "2022-05-03T13:51:12.310Z"
   },
   {
    "duration": 3,
    "start_time": "2022-05-03T13:51:12.381Z"
   },
   {
    "duration": 23,
    "start_time": "2022-05-03T13:51:12.385Z"
   },
   {
    "duration": 23,
    "start_time": "2022-05-03T13:51:12.409Z"
   },
   {
    "duration": 40,
    "start_time": "2022-05-03T13:51:12.434Z"
   },
   {
    "duration": 3,
    "start_time": "2022-05-03T13:51:12.476Z"
   },
   {
    "duration": 3,
    "start_time": "2022-05-03T13:51:12.508Z"
   },
   {
    "duration": 26,
    "start_time": "2022-05-03T13:51:12.515Z"
   },
   {
    "duration": 70,
    "start_time": "2022-05-03T13:51:12.543Z"
   },
   {
    "duration": 3,
    "start_time": "2022-05-03T13:51:12.615Z"
   },
   {
    "duration": 30,
    "start_time": "2022-05-03T13:51:12.619Z"
   },
   {
    "duration": 8,
    "start_time": "2022-05-03T13:51:12.651Z"
   },
   {
    "duration": 8,
    "start_time": "2022-05-03T13:51:12.661Z"
   },
   {
    "duration": 54,
    "start_time": "2022-05-03T13:51:12.671Z"
   },
   {
    "duration": 8,
    "start_time": "2022-05-03T13:51:12.727Z"
   },
   {
    "duration": 6,
    "start_time": "2022-05-03T13:51:12.737Z"
   },
   {
    "duration": 92,
    "start_time": "2022-05-03T13:51:12.745Z"
   },
   {
    "duration": 4,
    "start_time": "2022-05-03T13:51:12.839Z"
   },
   {
    "duration": 115,
    "start_time": "2022-05-03T13:51:12.844Z"
   },
   {
    "duration": 8,
    "start_time": "2022-05-03T13:51:12.960Z"
   },
   {
    "duration": 3,
    "start_time": "2022-05-03T13:51:12.971Z"
   },
   {
    "duration": 78,
    "start_time": "2022-05-03T13:51:12.976Z"
   },
   {
    "duration": 3,
    "start_time": "2022-05-03T13:51:13.055Z"
   },
   {
    "duration": 5,
    "start_time": "2022-05-03T13:51:13.060Z"
   },
   {
    "duration": 5,
    "start_time": "2022-05-03T13:51:13.067Z"
   },
   {
    "duration": 5,
    "start_time": "2022-05-03T13:51:13.073Z"
   },
   {
    "duration": 8,
    "start_time": "2022-05-03T13:51:13.079Z"
   },
   {
    "duration": 19,
    "start_time": "2022-05-03T13:51:13.089Z"
   },
   {
    "duration": 5,
    "start_time": "2022-05-03T13:51:13.110Z"
   },
   {
    "duration": 7,
    "start_time": "2022-05-03T13:51:13.117Z"
   },
   {
    "duration": 5,
    "start_time": "2022-05-03T13:51:13.125Z"
   },
   {
    "duration": 8,
    "start_time": "2022-05-03T13:51:36.806Z"
   },
   {
    "duration": 5,
    "start_time": "2022-05-03T13:53:14.415Z"
   },
   {
    "duration": 71,
    "start_time": "2022-05-03T13:53:16.586Z"
   },
   {
    "duration": 6,
    "start_time": "2022-05-03T13:53:39.069Z"
   },
   {
    "duration": 59,
    "start_time": "2022-05-03T13:53:40.959Z"
   },
   {
    "duration": 4,
    "start_time": "2022-05-03T13:56:23.443Z"
   },
   {
    "duration": 60,
    "start_time": "2022-05-03T13:56:24.958Z"
   },
   {
    "duration": 451,
    "start_time": "2022-05-03T13:56:50.148Z"
   },
   {
    "duration": 70,
    "start_time": "2022-05-03T13:56:50.603Z"
   },
   {
    "duration": 287,
    "start_time": "2022-05-03T13:56:50.675Z"
   },
   {
    "duration": 127,
    "start_time": "2022-05-03T13:56:50.965Z"
   },
   {
    "duration": 236,
    "start_time": "2022-05-03T13:56:51.095Z"
   },
   {
    "duration": 77,
    "start_time": "2022-05-03T13:56:51.333Z"
   },
   {
    "duration": 145,
    "start_time": "2022-05-03T13:56:51.413Z"
   },
   {
    "duration": 7,
    "start_time": "2022-05-03T13:56:51.562Z"
   },
   {
    "duration": 10,
    "start_time": "2022-05-03T13:56:51.571Z"
   },
   {
    "duration": 24,
    "start_time": "2022-05-03T13:56:51.586Z"
   },
   {
    "duration": 12,
    "start_time": "2022-05-03T13:56:51.612Z"
   },
   {
    "duration": 5,
    "start_time": "2022-05-03T13:56:51.627Z"
   },
   {
    "duration": 173,
    "start_time": "2022-05-03T13:56:51.634Z"
   },
   {
    "duration": 34,
    "start_time": "2022-05-03T13:56:51.809Z"
   },
   {
    "duration": 5,
    "start_time": "2022-05-03T13:56:51.845Z"
   },
   {
    "duration": 107,
    "start_time": "2022-05-03T13:56:51.852Z"
   },
   {
    "duration": 4,
    "start_time": "2022-05-03T13:56:51.961Z"
   },
   {
    "duration": 4,
    "start_time": "2022-05-03T13:56:51.967Z"
   },
   {
    "duration": 7,
    "start_time": "2022-05-03T13:56:51.973Z"
   },
   {
    "duration": 59,
    "start_time": "2022-05-03T13:56:51.982Z"
   },
   {
    "duration": 81,
    "start_time": "2022-05-03T13:56:52.043Z"
   },
   {
    "duration": 3,
    "start_time": "2022-05-03T13:56:52.127Z"
   },
   {
    "duration": 41,
    "start_time": "2022-05-03T13:56:52.132Z"
   },
   {
    "duration": 43,
    "start_time": "2022-05-03T13:56:52.176Z"
   },
   {
    "duration": 64,
    "start_time": "2022-05-03T13:56:52.221Z"
   },
   {
    "duration": 2,
    "start_time": "2022-05-03T13:56:52.288Z"
   },
   {
    "duration": 6,
    "start_time": "2022-05-03T13:56:52.292Z"
   },
   {
    "duration": 36,
    "start_time": "2022-05-03T13:56:52.311Z"
   },
   {
    "duration": 82,
    "start_time": "2022-05-03T13:56:52.349Z"
   },
   {
    "duration": 6,
    "start_time": "2022-05-03T13:56:52.433Z"
   },
   {
    "duration": 40,
    "start_time": "2022-05-03T13:56:52.441Z"
   },
   {
    "duration": 29,
    "start_time": "2022-05-03T13:56:52.483Z"
   },
   {
    "duration": 9,
    "start_time": "2022-05-03T13:56:52.514Z"
   },
   {
    "duration": 22,
    "start_time": "2022-05-03T13:56:52.525Z"
   },
   {
    "duration": 5,
    "start_time": "2022-05-03T13:56:52.549Z"
   },
   {
    "duration": 87,
    "start_time": "2022-05-03T13:56:52.556Z"
   },
   {
    "duration": 5,
    "start_time": "2022-05-03T13:56:52.646Z"
   },
   {
    "duration": 160,
    "start_time": "2022-05-03T13:56:52.653Z"
   },
   {
    "duration": 5,
    "start_time": "2022-05-03T13:56:52.816Z"
   },
   {
    "duration": 110,
    "start_time": "2022-05-03T13:56:52.823Z"
   },
   {
    "duration": 5,
    "start_time": "2022-05-03T13:56:52.935Z"
   },
   {
    "duration": 5,
    "start_time": "2022-05-03T13:56:52.950Z"
   },
   {
    "duration": 8,
    "start_time": "2022-05-03T13:56:52.957Z"
   },
   {
    "duration": 4,
    "start_time": "2022-05-03T13:56:52.968Z"
   },
   {
    "duration": 5,
    "start_time": "2022-05-03T13:56:52.974Z"
   },
   {
    "duration": 3,
    "start_time": "2022-05-03T13:56:53.009Z"
   },
   {
    "duration": 7,
    "start_time": "2022-05-03T13:56:53.014Z"
   },
   {
    "duration": 7,
    "start_time": "2022-05-03T13:56:53.023Z"
   },
   {
    "duration": 6,
    "start_time": "2022-05-03T13:56:53.032Z"
   },
   {
    "duration": 2,
    "start_time": "2022-05-03T13:58:15.733Z"
   },
   {
    "duration": 12,
    "start_time": "2022-05-03T13:59:20.298Z"
   },
   {
    "duration": 4,
    "start_time": "2022-05-03T14:00:54.932Z"
   },
   {
    "duration": 13,
    "start_time": "2022-05-03T14:00:56.567Z"
   },
   {
    "duration": 4,
    "start_time": "2022-05-03T14:01:10.790Z"
   },
   {
    "duration": 13,
    "start_time": "2022-05-03T14:01:11.662Z"
   },
   {
    "duration": 64,
    "start_time": "2022-05-03T14:01:35.593Z"
   },
   {
    "duration": 23,
    "start_time": "2022-05-03T14:37:43.470Z"
   },
   {
    "duration": 10,
    "start_time": "2022-05-03T14:39:43.892Z"
   },
   {
    "duration": 48,
    "start_time": "2022-05-03T14:39:50.707Z"
   },
   {
    "duration": 74,
    "start_time": "2022-05-03T14:40:57.778Z"
   },
   {
    "duration": 10,
    "start_time": "2022-05-03T14:41:07.087Z"
   },
   {
    "duration": 6,
    "start_time": "2022-05-03T14:41:12.449Z"
   },
   {
    "duration": 10,
    "start_time": "2022-05-03T14:41:24.241Z"
   },
   {
    "duration": 12,
    "start_time": "2022-05-03T14:41:29.953Z"
   },
   {
    "duration": 8,
    "start_time": "2022-05-03T14:41:59.380Z"
   },
   {
    "duration": 5,
    "start_time": "2022-05-03T14:44:39.486Z"
   },
   {
    "duration": 28,
    "start_time": "2022-05-03T14:44:44.979Z"
   },
   {
    "duration": 27,
    "start_time": "2022-05-03T14:44:56.365Z"
   },
   {
    "duration": 25,
    "start_time": "2022-05-03T14:45:00.632Z"
   },
   {
    "duration": 6,
    "start_time": "2022-05-03T14:45:08.366Z"
   },
   {
    "duration": 7,
    "start_time": "2022-05-03T14:45:25.982Z"
   },
   {
    "duration": 5,
    "start_time": "2022-05-03T14:46:33.926Z"
   },
   {
    "duration": 6,
    "start_time": "2022-05-03T14:46:41.639Z"
   },
   {
    "duration": 10,
    "start_time": "2022-05-03T14:47:23.758Z"
   },
   {
    "duration": 26,
    "start_time": "2022-05-03T14:52:24.788Z"
   },
   {
    "duration": 13,
    "start_time": "2022-05-03T14:52:53.723Z"
   },
   {
    "duration": 6,
    "start_time": "2022-05-03T14:52:54.202Z"
   },
   {
    "duration": 6,
    "start_time": "2022-05-03T14:52:54.652Z"
   },
   {
    "duration": 12,
    "start_time": "2022-05-03T14:53:07.416Z"
   },
   {
    "duration": 8,
    "start_time": "2022-05-03T14:55:14.319Z"
   },
   {
    "duration": 6,
    "start_time": "2022-05-03T14:55:14.680Z"
   },
   {
    "duration": 6,
    "start_time": "2022-05-03T14:55:14.961Z"
   },
   {
    "duration": 9,
    "start_time": "2022-05-03T14:55:27.599Z"
   },
   {
    "duration": 6,
    "start_time": "2022-05-03T14:56:11.241Z"
   },
   {
    "duration": 10,
    "start_time": "2022-05-03T14:56:11.505Z"
   },
   {
    "duration": 11,
    "start_time": "2022-05-03T14:56:11.769Z"
   },
   {
    "duration": 13,
    "start_time": "2022-05-03T14:56:12.293Z"
   },
   {
    "duration": 8,
    "start_time": "2022-05-03T15:06:38.921Z"
   },
   {
    "duration": 365,
    "start_time": "2022-05-04T11:27:53.758Z"
   },
   {
    "duration": 52,
    "start_time": "2022-05-04T11:27:54.126Z"
   },
   {
    "duration": 192,
    "start_time": "2022-05-04T11:27:54.180Z"
   },
   {
    "duration": 103,
    "start_time": "2022-05-04T11:27:54.374Z"
   },
   {
    "duration": 173,
    "start_time": "2022-05-04T11:27:54.479Z"
   },
   {
    "duration": 42,
    "start_time": "2022-05-04T11:27:54.653Z"
   },
   {
    "duration": 90,
    "start_time": "2022-05-04T11:27:54.696Z"
   },
   {
    "duration": 5,
    "start_time": "2022-05-04T11:27:54.787Z"
   },
   {
    "duration": 9,
    "start_time": "2022-05-04T11:27:54.794Z"
   },
   {
    "duration": 19,
    "start_time": "2022-05-04T11:27:54.805Z"
   },
   {
    "duration": 7,
    "start_time": "2022-05-04T11:27:54.826Z"
   },
   {
    "duration": 10,
    "start_time": "2022-05-04T11:27:54.834Z"
   },
   {
    "duration": 88,
    "start_time": "2022-05-04T11:27:54.846Z"
   },
   {
    "duration": 21,
    "start_time": "2022-05-04T11:27:54.936Z"
   },
   {
    "duration": 3,
    "start_time": "2022-05-04T11:27:54.959Z"
   },
   {
    "duration": 65,
    "start_time": "2022-05-04T11:27:54.963Z"
   },
   {
    "duration": 2,
    "start_time": "2022-05-04T11:27:55.030Z"
   },
   {
    "duration": 13,
    "start_time": "2022-05-04T11:27:55.034Z"
   },
   {
    "duration": 6,
    "start_time": "2022-05-04T11:27:55.048Z"
   },
   {
    "duration": 31,
    "start_time": "2022-05-04T11:27:55.055Z"
   },
   {
    "duration": 72,
    "start_time": "2022-05-04T11:27:55.088Z"
   },
   {
    "duration": 2,
    "start_time": "2022-05-04T11:27:55.161Z"
   },
   {
    "duration": 5,
    "start_time": "2022-05-04T11:27:55.165Z"
   },
   {
    "duration": 26,
    "start_time": "2022-05-04T11:27:55.171Z"
   },
   {
    "duration": 45,
    "start_time": "2022-05-04T11:27:55.198Z"
   },
   {
    "duration": 2,
    "start_time": "2022-05-04T11:27:55.244Z"
   },
   {
    "duration": 4,
    "start_time": "2022-05-04T11:27:55.248Z"
   },
   {
    "duration": 23,
    "start_time": "2022-05-04T11:27:55.256Z"
   },
   {
    "duration": 59,
    "start_time": "2022-05-04T11:27:55.281Z"
   },
   {
    "duration": 2,
    "start_time": "2022-05-04T11:27:55.342Z"
   },
   {
    "duration": 27,
    "start_time": "2022-05-04T11:27:55.345Z"
   },
   {
    "duration": 6,
    "start_time": "2022-05-04T11:27:55.373Z"
   },
   {
    "duration": 7,
    "start_time": "2022-05-04T11:27:55.381Z"
   },
   {
    "duration": 47,
    "start_time": "2022-05-04T11:27:55.389Z"
   },
   {
    "duration": 5,
    "start_time": "2022-05-04T11:27:55.437Z"
   },
   {
    "duration": 59,
    "start_time": "2022-05-04T11:27:55.443Z"
   },
   {
    "duration": 3,
    "start_time": "2022-05-04T11:27:55.504Z"
   },
   {
    "duration": 87,
    "start_time": "2022-05-04T11:27:55.523Z"
   },
   {
    "duration": 14,
    "start_time": "2022-05-04T11:27:55.611Z"
   },
   {
    "duration": 77,
    "start_time": "2022-05-04T11:27:55.626Z"
   },
   {
    "duration": 11,
    "start_time": "2022-05-04T11:27:55.705Z"
   },
   {
    "duration": 6,
    "start_time": "2022-05-04T11:27:55.717Z"
   },
   {
    "duration": 32,
    "start_time": "2022-05-04T11:27:55.725Z"
   },
   {
    "duration": 22,
    "start_time": "2022-05-04T11:27:55.759Z"
   },
   {
    "duration": 4,
    "start_time": "2022-05-04T11:27:55.783Z"
   },
   {
    "duration": 18,
    "start_time": "2022-05-04T11:27:55.789Z"
   },
   {
    "duration": 13,
    "start_time": "2022-05-04T11:27:55.809Z"
   },
   {
    "duration": 28,
    "start_time": "2022-05-04T11:27:55.824Z"
   },
   {
    "duration": 5,
    "start_time": "2022-05-04T11:27:55.854Z"
   },
   {
    "duration": 7,
    "start_time": "2022-05-04T11:27:55.861Z"
   },
   {
    "duration": 6,
    "start_time": "2022-05-04T11:27:55.869Z"
   },
   {
    "duration": 10,
    "start_time": "2022-05-04T11:27:55.876Z"
   },
   {
    "duration": 5,
    "start_time": "2022-05-04T11:32:57.458Z"
   },
   {
    "duration": 4,
    "start_time": "2022-05-04T11:33:02.109Z"
   },
   {
    "duration": 5,
    "start_time": "2022-05-04T11:33:04.557Z"
   },
   {
    "duration": 4,
    "start_time": "2022-05-04T11:33:11.590Z"
   },
   {
    "duration": 4,
    "start_time": "2022-05-04T11:33:14.382Z"
   },
   {
    "duration": 16,
    "start_time": "2022-05-04T11:38:27.171Z"
   },
   {
    "duration": 19,
    "start_time": "2022-05-04T11:38:46.511Z"
   },
   {
    "duration": 8,
    "start_time": "2022-05-04T11:42:23.145Z"
   },
   {
    "duration": 671,
    "start_time": "2022-05-04T11:43:12.543Z"
   },
   {
    "duration": 28,
    "start_time": "2022-05-04T11:44:40.755Z"
   },
   {
    "duration": 11,
    "start_time": "2022-05-04T11:44:45.200Z"
   },
   {
    "duration": 2258,
    "start_time": "2022-05-04T11:45:36.835Z"
   },
   {
    "duration": 81,
    "start_time": "2022-05-04T11:48:05.224Z"
   },
   {
    "duration": 11,
    "start_time": "2022-05-04T11:48:08.166Z"
   },
   {
    "duration": 13,
    "start_time": "2022-05-04T11:48:11.221Z"
   },
   {
    "duration": 32,
    "start_time": "2022-05-04T11:52:44.309Z"
   },
   {
    "duration": 11,
    "start_time": "2022-05-04T11:52:46.604Z"
   },
   {
    "duration": 444,
    "start_time": "2022-05-04T11:54:46.508Z"
   },
   {
    "duration": 36,
    "start_time": "2022-05-04T11:54:51.643Z"
   },
   {
    "duration": 9,
    "start_time": "2022-05-04T11:55:09.466Z"
   },
   {
    "duration": 9,
    "start_time": "2022-05-04T11:57:58.483Z"
   },
   {
    "duration": 22,
    "start_time": "2022-05-04T11:58:07.017Z"
   },
   {
    "duration": 28,
    "start_time": "2022-05-04T11:58:18.145Z"
   },
   {
    "duration": 9,
    "start_time": "2022-05-04T12:00:35.088Z"
   },
   {
    "duration": 12,
    "start_time": "2022-05-04T12:00:53.416Z"
   },
   {
    "duration": 12,
    "start_time": "2022-05-04T12:00:59.119Z"
   },
   {
    "duration": 9,
    "start_time": "2022-05-04T12:01:06.359Z"
   },
   {
    "duration": 10,
    "start_time": "2022-05-04T12:01:18.264Z"
   },
   {
    "duration": 600,
    "start_time": "2022-05-04T12:04:19.173Z"
   },
   {
    "duration": 32,
    "start_time": "2022-05-04T12:05:30.830Z"
   },
   {
    "duration": 28,
    "start_time": "2022-05-04T12:05:59.742Z"
   },
   {
    "duration": 9,
    "start_time": "2022-05-04T12:06:02.262Z"
   },
   {
    "duration": 10,
    "start_time": "2022-05-04T12:08:14.919Z"
   },
   {
    "duration": 13,
    "start_time": "2022-05-04T12:08:19.725Z"
   },
   {
    "duration": 457,
    "start_time": "2022-05-04T14:17:49.144Z"
   },
   {
    "duration": 52,
    "start_time": "2022-05-04T14:17:49.603Z"
   },
   {
    "duration": 201,
    "start_time": "2022-05-04T14:17:49.656Z"
   },
   {
    "duration": 102,
    "start_time": "2022-05-04T14:17:49.859Z"
   },
   {
    "duration": 174,
    "start_time": "2022-05-04T14:17:49.963Z"
   },
   {
    "duration": 47,
    "start_time": "2022-05-04T14:17:50.139Z"
   },
   {
    "duration": 105,
    "start_time": "2022-05-04T14:17:50.188Z"
   },
   {
    "duration": 6,
    "start_time": "2022-05-04T14:17:50.295Z"
   },
   {
    "duration": 9,
    "start_time": "2022-05-04T14:17:50.302Z"
   },
   {
    "duration": 9,
    "start_time": "2022-05-04T14:17:50.312Z"
   },
   {
    "duration": 30,
    "start_time": "2022-05-04T14:17:50.322Z"
   },
   {
    "duration": 11,
    "start_time": "2022-05-04T14:17:50.353Z"
   },
   {
    "duration": 91,
    "start_time": "2022-05-04T14:17:50.365Z"
   },
   {
    "duration": 22,
    "start_time": "2022-05-04T14:17:50.459Z"
   },
   {
    "duration": 3,
    "start_time": "2022-05-04T14:17:50.483Z"
   },
   {
    "duration": 49,
    "start_time": "2022-05-04T14:17:50.488Z"
   },
   {
    "duration": 3,
    "start_time": "2022-05-04T14:17:50.555Z"
   },
   {
    "duration": 9,
    "start_time": "2022-05-04T14:17:50.560Z"
   },
   {
    "duration": 8,
    "start_time": "2022-05-04T14:17:50.571Z"
   },
   {
    "duration": 38,
    "start_time": "2022-05-04T14:17:50.581Z"
   },
   {
    "duration": 87,
    "start_time": "2022-05-04T14:17:50.621Z"
   },
   {
    "duration": 3,
    "start_time": "2022-05-04T14:17:50.709Z"
   },
   {
    "duration": 5,
    "start_time": "2022-05-04T14:17:50.713Z"
   },
   {
    "duration": 26,
    "start_time": "2022-05-04T14:17:50.720Z"
   },
   {
    "duration": 38,
    "start_time": "2022-05-04T14:17:50.755Z"
   },
   {
    "duration": 3,
    "start_time": "2022-05-04T14:17:50.795Z"
   },
   {
    "duration": 6,
    "start_time": "2022-05-04T14:17:50.800Z"
   },
   {
    "duration": 47,
    "start_time": "2022-05-04T14:17:50.809Z"
   },
   {
    "duration": 55,
    "start_time": "2022-05-04T14:17:50.858Z"
   },
   {
    "duration": 2,
    "start_time": "2022-05-04T14:17:50.916Z"
   },
   {
    "duration": 55,
    "start_time": "2022-05-04T14:17:50.920Z"
   },
   {
    "duration": 7,
    "start_time": "2022-05-04T14:17:50.977Z"
   },
   {
    "duration": 9,
    "start_time": "2022-05-04T14:17:50.986Z"
   },
   {
    "duration": 28,
    "start_time": "2022-05-04T14:17:50.997Z"
   },
   {
    "duration": 29,
    "start_time": "2022-05-04T14:17:51.027Z"
   },
   {
    "duration": 61,
    "start_time": "2022-05-04T14:17:51.058Z"
   },
   {
    "duration": 3,
    "start_time": "2022-05-04T14:17:51.121Z"
   },
   {
    "duration": 95,
    "start_time": "2022-05-04T14:17:51.125Z"
   },
   {
    "duration": 3,
    "start_time": "2022-05-04T14:17:51.222Z"
   },
   {
    "duration": 59,
    "start_time": "2022-05-04T14:17:51.227Z"
   },
   {
    "duration": 10,
    "start_time": "2022-05-04T14:17:51.290Z"
   },
   {
    "duration": 6,
    "start_time": "2022-05-04T14:17:51.301Z"
   },
   {
    "duration": 13,
    "start_time": "2022-05-04T14:17:51.309Z"
   },
   {
    "duration": 35,
    "start_time": "2022-05-04T14:17:51.323Z"
   },
   {
    "duration": 4,
    "start_time": "2022-05-04T14:17:51.359Z"
   },
   {
    "duration": 6,
    "start_time": "2022-05-04T14:17:51.365Z"
   },
   {
    "duration": 5,
    "start_time": "2022-05-04T14:17:51.373Z"
   },
   {
    "duration": 14,
    "start_time": "2022-05-04T14:17:51.380Z"
   },
   {
    "duration": 4,
    "start_time": "2022-05-04T14:17:51.396Z"
   },
   {
    "duration": 5,
    "start_time": "2022-05-04T14:17:51.402Z"
   },
   {
    "duration": 6,
    "start_time": "2022-05-04T14:17:51.408Z"
   },
   {
    "duration": 41,
    "start_time": "2022-05-04T14:17:51.415Z"
   },
   {
    "duration": 30,
    "start_time": "2022-05-04T14:17:51.458Z"
   },
   {
    "duration": 9,
    "start_time": "2022-05-04T14:17:51.490Z"
   },
   {
    "duration": 941,
    "start_time": "2022-05-04T14:17:51.501Z"
   },
   {
    "duration": 100,
    "start_time": "2022-05-04T14:17:52.444Z"
   },
   {
    "duration": 0,
    "start_time": "2022-05-04T14:17:52.545Z"
   },
   {
    "duration": 3,
    "start_time": "2022-05-04T14:32:45.200Z"
   },
   {
    "duration": 3,
    "start_time": "2022-05-04T14:32:49.353Z"
   },
   {
    "duration": 3,
    "start_time": "2022-05-04T14:33:18.288Z"
   },
   {
    "duration": 606,
    "start_time": "2022-05-04T14:33:53.358Z"
   },
   {
    "duration": 17,
    "start_time": "2022-05-04T14:34:02.936Z"
   },
   {
    "duration": 17,
    "start_time": "2022-05-04T14:34:11.891Z"
   },
   {
    "duration": 8,
    "start_time": "2022-05-04T14:35:51.733Z"
   },
   {
    "duration": 11,
    "start_time": "2022-05-04T14:36:25.395Z"
   },
   {
    "duration": 399,
    "start_time": "2022-05-04T14:47:37.225Z"
   },
   {
    "duration": 3057,
    "start_time": "2022-05-04T14:49:11.560Z"
   },
   {
    "duration": 13,
    "start_time": "2022-05-04T14:54:40.295Z"
   },
   {
    "duration": 9,
    "start_time": "2022-05-04T14:55:42.653Z"
   },
   {
    "duration": 10,
    "start_time": "2022-05-04T14:55:47.624Z"
   },
   {
    "duration": 23,
    "start_time": "2022-05-04T14:55:59.282Z"
   },
   {
    "duration": 25,
    "start_time": "2022-05-04T14:56:08.507Z"
   },
   {
    "duration": 16,
    "start_time": "2022-05-04T14:56:28.941Z"
   },
   {
    "duration": 5,
    "start_time": "2022-05-04T14:58:32.305Z"
   },
   {
    "duration": 5,
    "start_time": "2022-05-04T14:58:41.402Z"
   },
   {
    "duration": 18,
    "start_time": "2022-05-04T14:59:10.440Z"
   },
   {
    "duration": 2,
    "start_time": "2022-05-04T15:01:57.066Z"
   },
   {
    "duration": 3,
    "start_time": "2022-05-04T15:02:09.244Z"
   },
   {
    "duration": 3,
    "start_time": "2022-05-04T15:02:13.156Z"
   },
   {
    "duration": 29,
    "start_time": "2022-05-04T15:02:52.249Z"
   },
   {
    "duration": 3,
    "start_time": "2022-05-04T15:05:14.033Z"
   },
   {
    "duration": 12,
    "start_time": "2022-05-04T15:05:17.286Z"
   },
   {
    "duration": 12,
    "start_time": "2022-05-04T15:05:41.672Z"
   },
   {
    "duration": 13,
    "start_time": "2022-05-04T15:05:50.516Z"
   },
   {
    "duration": 11,
    "start_time": "2022-05-04T15:05:53.537Z"
   },
   {
    "duration": 3,
    "start_time": "2022-05-04T15:10:56.188Z"
   },
   {
    "duration": 32,
    "start_time": "2022-05-04T15:26:05.662Z"
   },
   {
    "duration": 29,
    "start_time": "2022-05-04T15:27:57.534Z"
   },
   {
    "duration": 141,
    "start_time": "2022-05-04T15:32:59.492Z"
   },
   {
    "duration": 274,
    "start_time": "2022-05-04T15:33:42.845Z"
   },
   {
    "duration": 342,
    "start_time": "2022-05-04T15:33:59.189Z"
   },
   {
    "duration": 247,
    "start_time": "2022-05-04T15:34:06.482Z"
   },
   {
    "duration": 264,
    "start_time": "2022-05-04T15:34:13.193Z"
   },
   {
    "duration": 259,
    "start_time": "2022-05-04T15:34:16.401Z"
   },
   {
    "duration": 264,
    "start_time": "2022-05-04T15:34:22.551Z"
   },
   {
    "duration": 261,
    "start_time": "2022-05-04T15:34:28.090Z"
   },
   {
    "duration": 253,
    "start_time": "2022-05-04T15:34:36.050Z"
   },
   {
    "duration": 141,
    "start_time": "2022-05-04T15:35:06.570Z"
   },
   {
    "duration": 147,
    "start_time": "2022-05-04T15:35:24.224Z"
   },
   {
    "duration": 150,
    "start_time": "2022-05-04T15:35:50.220Z"
   },
   {
    "duration": 160,
    "start_time": "2022-05-04T15:35:54.023Z"
   },
   {
    "duration": 141,
    "start_time": "2022-05-04T15:35:59.284Z"
   },
   {
    "duration": 140,
    "start_time": "2022-05-04T15:36:02.373Z"
   },
   {
    "duration": 148,
    "start_time": "2022-05-04T15:36:16.858Z"
   },
   {
    "duration": 139,
    "start_time": "2022-05-04T15:36:21.563Z"
   },
   {
    "duration": 322,
    "start_time": "2022-05-04T15:36:42.262Z"
   },
   {
    "duration": 268,
    "start_time": "2022-05-04T15:38:11.125Z"
   },
   {
    "duration": 179,
    "start_time": "2022-05-04T15:38:28.596Z"
   },
   {
    "duration": 153,
    "start_time": "2022-05-04T15:38:51.536Z"
   },
   {
    "duration": 406,
    "start_time": "2022-05-04T15:42:32.787Z"
   },
   {
    "duration": 42,
    "start_time": "2022-05-04T15:46:22.668Z"
   },
   {
    "duration": 4,
    "start_time": "2022-05-04T16:09:35.630Z"
   },
   {
    "duration": 11,
    "start_time": "2022-05-04T16:23:38.653Z"
   },
   {
    "duration": 19,
    "start_time": "2022-05-04T16:23:51.204Z"
   },
   {
    "duration": 141,
    "start_time": "2022-05-04T16:24:28.361Z"
   },
   {
    "duration": 24,
    "start_time": "2022-05-04T16:24:51.340Z"
   },
   {
    "duration": 16,
    "start_time": "2022-05-04T16:24:59.614Z"
   },
   {
    "duration": 10,
    "start_time": "2022-05-04T16:25:30.757Z"
   },
   {
    "duration": 15,
    "start_time": "2022-05-04T16:26:24.100Z"
   },
   {
    "duration": 14,
    "start_time": "2022-05-04T16:26:29.061Z"
   },
   {
    "duration": 10,
    "start_time": "2022-05-04T16:26:31.404Z"
   },
   {
    "duration": 16,
    "start_time": "2022-05-04T16:27:17.796Z"
   },
   {
    "duration": 9,
    "start_time": "2022-05-04T16:27:57.312Z"
   },
   {
    "duration": 17,
    "start_time": "2022-05-04T16:30:34.354Z"
   },
   {
    "duration": 10,
    "start_time": "2022-05-04T16:33:02.729Z"
   },
   {
    "duration": 8,
    "start_time": "2022-05-04T16:33:29.328Z"
   },
   {
    "duration": 8,
    "start_time": "2022-05-04T16:33:47.888Z"
   },
   {
    "duration": 8,
    "start_time": "2022-05-04T16:33:49.952Z"
   },
   {
    "duration": 129,
    "start_time": "2022-05-04T16:36:17.400Z"
   },
   {
    "duration": 128,
    "start_time": "2022-05-04T16:36:54.287Z"
   },
   {
    "duration": 134,
    "start_time": "2022-05-04T16:37:04.696Z"
   },
   {
    "duration": 142,
    "start_time": "2022-05-04T16:37:20.527Z"
   },
   {
    "duration": 15,
    "start_time": "2022-05-04T16:43:35.213Z"
   },
   {
    "duration": 8,
    "start_time": "2022-05-04T16:43:54.199Z"
   },
   {
    "duration": 16,
    "start_time": "2022-05-04T16:44:05.210Z"
   },
   {
    "duration": 15,
    "start_time": "2022-05-04T16:48:02.320Z"
   },
   {
    "duration": 16,
    "start_time": "2022-05-04T16:49:54.119Z"
   },
   {
    "duration": 7,
    "start_time": "2022-05-04T16:50:12.368Z"
   },
   {
    "duration": 9,
    "start_time": "2022-05-04T16:50:29.445Z"
   },
   {
    "duration": 10,
    "start_time": "2022-05-04T16:50:38.039Z"
   },
   {
    "duration": 12,
    "start_time": "2022-05-04T16:51:46.285Z"
   },
   {
    "duration": 27,
    "start_time": "2022-05-04T16:54:14.750Z"
   },
   {
    "duration": 4281,
    "start_time": "2022-05-04T16:55:01.467Z"
   },
   {
    "duration": 224,
    "start_time": "2022-05-04T16:55:12.955Z"
   },
   {
    "duration": 14,
    "start_time": "2022-05-04T16:57:34.316Z"
   },
   {
    "duration": 14,
    "start_time": "2022-05-04T16:58:13.179Z"
   },
   {
    "duration": 415,
    "start_time": "2022-05-04T16:58:21.243Z"
   },
   {
    "duration": 50,
    "start_time": "2022-05-04T16:58:21.660Z"
   },
   {
    "duration": 200,
    "start_time": "2022-05-04T16:58:21.711Z"
   },
   {
    "duration": 114,
    "start_time": "2022-05-04T16:58:21.914Z"
   },
   {
    "duration": 183,
    "start_time": "2022-05-04T16:58:22.030Z"
   },
   {
    "duration": 55,
    "start_time": "2022-05-04T16:58:22.215Z"
   },
   {
    "duration": 82,
    "start_time": "2022-05-04T16:58:22.272Z"
   },
   {
    "duration": 7,
    "start_time": "2022-05-04T16:58:22.356Z"
   },
   {
    "duration": 7,
    "start_time": "2022-05-04T16:58:22.364Z"
   },
   {
    "duration": 7,
    "start_time": "2022-05-04T16:58:22.373Z"
   },
   {
    "duration": 24,
    "start_time": "2022-05-04T16:58:22.381Z"
   },
   {
    "duration": 7,
    "start_time": "2022-05-04T16:58:22.407Z"
   },
   {
    "duration": 88,
    "start_time": "2022-05-04T16:58:22.416Z"
   },
   {
    "duration": 22,
    "start_time": "2022-05-04T16:58:22.506Z"
   },
   {
    "duration": 4,
    "start_time": "2022-05-04T16:58:22.529Z"
   },
   {
    "duration": 61,
    "start_time": "2022-05-04T16:58:22.535Z"
   },
   {
    "duration": 2,
    "start_time": "2022-05-04T16:58:22.598Z"
   },
   {
    "duration": 42,
    "start_time": "2022-05-04T16:58:22.602Z"
   },
   {
    "duration": 67,
    "start_time": "2022-05-04T16:58:22.646Z"
   },
   {
    "duration": 2,
    "start_time": "2022-05-04T16:58:22.715Z"
   },
   {
    "duration": 8,
    "start_time": "2022-05-04T16:58:22.719Z"
   },
   {
    "duration": 32,
    "start_time": "2022-05-04T16:58:22.728Z"
   },
   {
    "duration": 34,
    "start_time": "2022-05-04T16:58:22.761Z"
   },
   {
    "duration": 2,
    "start_time": "2022-05-04T16:58:22.797Z"
   },
   {
    "duration": 8,
    "start_time": "2022-05-04T16:58:22.801Z"
   },
   {
    "duration": 45,
    "start_time": "2022-05-04T16:58:22.810Z"
   },
   {
    "duration": 38,
    "start_time": "2022-05-04T16:58:22.856Z"
   },
   {
    "duration": 3,
    "start_time": "2022-05-04T16:58:22.898Z"
   },
   {
    "duration": 30,
    "start_time": "2022-05-04T16:58:22.902Z"
   },
   {
    "duration": 21,
    "start_time": "2022-05-04T16:58:22.934Z"
   },
   {
    "duration": 10,
    "start_time": "2022-05-04T16:58:22.957Z"
   },
   {
    "duration": 59,
    "start_time": "2022-05-04T16:58:22.968Z"
   },
   {
    "duration": 4,
    "start_time": "2022-05-04T16:58:23.028Z"
   },
   {
    "duration": 71,
    "start_time": "2022-05-04T16:58:23.034Z"
   },
   {
    "duration": 4,
    "start_time": "2022-05-04T16:58:23.107Z"
   },
   {
    "duration": 97,
    "start_time": "2022-05-04T16:58:23.112Z"
   },
   {
    "duration": 4,
    "start_time": "2022-05-04T16:58:23.211Z"
   },
   {
    "duration": 67,
    "start_time": "2022-05-04T16:58:23.216Z"
   },
   {
    "duration": 17,
    "start_time": "2022-05-04T16:58:23.285Z"
   },
   {
    "duration": 5,
    "start_time": "2022-05-04T16:58:23.304Z"
   },
   {
    "duration": 13,
    "start_time": "2022-05-04T16:58:23.310Z"
   },
   {
    "duration": 35,
    "start_time": "2022-05-04T16:58:23.325Z"
   },
   {
    "duration": 8,
    "start_time": "2022-05-04T16:58:23.361Z"
   },
   {
    "duration": 19,
    "start_time": "2022-05-04T16:58:23.371Z"
   },
   {
    "duration": 38,
    "start_time": "2022-05-04T16:58:23.392Z"
   },
   {
    "duration": 16,
    "start_time": "2022-05-04T16:58:23.432Z"
   },
   {
    "duration": 12,
    "start_time": "2022-05-04T16:58:23.451Z"
   },
   {
    "duration": 73,
    "start_time": "2022-05-04T16:58:23.465Z"
   },
   {
    "duration": 0,
    "start_time": "2022-05-04T16:58:23.555Z"
   },
   {
    "duration": 0,
    "start_time": "2022-05-04T16:58:23.556Z"
   },
   {
    "duration": 0,
    "start_time": "2022-05-04T16:58:23.557Z"
   },
   {
    "duration": 0,
    "start_time": "2022-05-04T16:58:23.558Z"
   },
   {
    "duration": 0,
    "start_time": "2022-05-04T16:58:23.559Z"
   },
   {
    "duration": 0,
    "start_time": "2022-05-04T16:58:23.560Z"
   },
   {
    "duration": 14,
    "start_time": "2022-05-04T16:58:48.766Z"
   },
   {
    "duration": 8,
    "start_time": "2022-05-04T16:59:15.952Z"
   },
   {
    "duration": 12,
    "start_time": "2022-05-04T16:59:19.587Z"
   },
   {
    "duration": 11,
    "start_time": "2022-05-04T16:59:22.612Z"
   },
   {
    "duration": 424,
    "start_time": "2022-05-04T16:59:36.730Z"
   },
   {
    "duration": 49,
    "start_time": "2022-05-04T16:59:37.156Z"
   },
   {
    "duration": 208,
    "start_time": "2022-05-04T16:59:37.207Z"
   },
   {
    "duration": 103,
    "start_time": "2022-05-04T16:59:37.417Z"
   },
   {
    "duration": 178,
    "start_time": "2022-05-04T16:59:37.522Z"
   },
   {
    "duration": 62,
    "start_time": "2022-05-04T16:59:37.702Z"
   },
   {
    "duration": 71,
    "start_time": "2022-05-04T16:59:37.766Z"
   },
   {
    "duration": 16,
    "start_time": "2022-05-04T16:59:37.839Z"
   },
   {
    "duration": 21,
    "start_time": "2022-05-04T16:59:37.856Z"
   },
   {
    "duration": 31,
    "start_time": "2022-05-04T16:59:37.880Z"
   },
   {
    "duration": 26,
    "start_time": "2022-05-04T16:59:37.912Z"
   },
   {
    "duration": 26,
    "start_time": "2022-05-04T16:59:37.939Z"
   },
   {
    "duration": 115,
    "start_time": "2022-05-04T16:59:37.967Z"
   },
   {
    "duration": 22,
    "start_time": "2022-05-04T16:59:38.083Z"
   },
   {
    "duration": 4,
    "start_time": "2022-05-04T16:59:38.107Z"
   },
   {
    "duration": 160,
    "start_time": "2022-05-04T16:59:38.112Z"
   },
   {
    "duration": 3,
    "start_time": "2022-05-04T16:59:38.274Z"
   },
   {
    "duration": 61,
    "start_time": "2022-05-04T16:59:38.279Z"
   },
   {
    "duration": 77,
    "start_time": "2022-05-04T16:59:38.342Z"
   },
   {
    "duration": 3,
    "start_time": "2022-05-04T16:59:38.421Z"
   },
   {
    "duration": 25,
    "start_time": "2022-05-04T16:59:38.426Z"
   },
   {
    "duration": 46,
    "start_time": "2022-05-04T16:59:38.453Z"
   },
   {
    "duration": 43,
    "start_time": "2022-05-04T16:59:38.500Z"
   },
   {
    "duration": 2,
    "start_time": "2022-05-04T16:59:38.545Z"
   },
   {
    "duration": 27,
    "start_time": "2022-05-04T16:59:38.548Z"
   },
   {
    "duration": 38,
    "start_time": "2022-05-04T16:59:38.576Z"
   },
   {
    "duration": 43,
    "start_time": "2022-05-04T16:59:38.615Z"
   },
   {
    "duration": 2,
    "start_time": "2022-05-04T16:59:38.662Z"
   },
   {
    "duration": 53,
    "start_time": "2022-05-04T16:59:38.665Z"
   },
   {
    "duration": 25,
    "start_time": "2022-05-04T16:59:38.720Z"
   },
   {
    "duration": 35,
    "start_time": "2022-05-04T16:59:38.746Z"
   },
   {
    "duration": 28,
    "start_time": "2022-05-04T16:59:38.783Z"
   },
   {
    "duration": 5,
    "start_time": "2022-05-04T16:59:38.813Z"
   },
   {
    "duration": 59,
    "start_time": "2022-05-04T16:59:38.819Z"
   },
   {
    "duration": 3,
    "start_time": "2022-05-04T16:59:38.880Z"
   },
   {
    "duration": 94,
    "start_time": "2022-05-04T16:59:38.885Z"
   },
   {
    "duration": 4,
    "start_time": "2022-05-04T16:59:38.981Z"
   },
   {
    "duration": 56,
    "start_time": "2022-05-04T16:59:38.986Z"
   },
   {
    "duration": 19,
    "start_time": "2022-05-04T16:59:39.043Z"
   },
   {
    "duration": 12,
    "start_time": "2022-05-04T16:59:39.063Z"
   },
   {
    "duration": 15,
    "start_time": "2022-05-04T16:59:39.076Z"
   },
   {
    "duration": 15,
    "start_time": "2022-05-04T16:59:39.093Z"
   },
   {
    "duration": 8,
    "start_time": "2022-05-04T16:59:39.109Z"
   },
   {
    "duration": 21,
    "start_time": "2022-05-04T16:59:39.119Z"
   },
   {
    "duration": 18,
    "start_time": "2022-05-04T16:59:39.142Z"
   },
   {
    "duration": 14,
    "start_time": "2022-05-04T16:59:39.161Z"
   },
   {
    "duration": 21,
    "start_time": "2022-05-04T16:59:39.176Z"
   },
   {
    "duration": 29,
    "start_time": "2022-05-04T16:59:39.198Z"
   },
   {
    "duration": 35,
    "start_time": "2022-05-04T16:59:39.229Z"
   },
   {
    "duration": 65,
    "start_time": "2022-05-04T16:59:39.266Z"
   },
   {
    "duration": 0,
    "start_time": "2022-05-04T16:59:39.332Z"
   },
   {
    "duration": 0,
    "start_time": "2022-05-04T16:59:39.333Z"
   },
   {
    "duration": 0,
    "start_time": "2022-05-04T16:59:39.334Z"
   },
   {
    "duration": 0,
    "start_time": "2022-05-04T16:59:39.335Z"
   },
   {
    "duration": 0,
    "start_time": "2022-05-04T16:59:39.336Z"
   },
   {
    "duration": 742,
    "start_time": "2022-05-04T17:00:53.189Z"
   },
   {
    "duration": 2430,
    "start_time": "2022-05-04T17:00:54.835Z"
   },
   {
    "duration": 12,
    "start_time": "2022-05-04T17:01:27.212Z"
   },
   {
    "duration": 10,
    "start_time": "2022-05-04T17:01:32.081Z"
   },
   {
    "duration": 155,
    "start_time": "2022-05-04T17:01:48.416Z"
   },
   {
    "duration": 3,
    "start_time": "2022-05-04T17:02:18.992Z"
   },
   {
    "duration": 150,
    "start_time": "2022-05-04T17:02:21.324Z"
   },
   {
    "duration": 30,
    "start_time": "2022-05-04T17:24:13.860Z"
   },
   {
    "duration": 12,
    "start_time": "2022-05-04T17:27:18.739Z"
   },
   {
    "duration": 10,
    "start_time": "2022-05-04T17:27:29.291Z"
   },
   {
    "duration": 3,
    "start_time": "2022-05-04T17:27:43.858Z"
   },
   {
    "duration": 11,
    "start_time": "2022-05-04T17:27:45.249Z"
   },
   {
    "duration": 10,
    "start_time": "2022-05-04T17:27:49.105Z"
   },
   {
    "duration": 9,
    "start_time": "2022-05-04T17:27:58.537Z"
   },
   {
    "duration": 9,
    "start_time": "2022-05-04T17:28:12.364Z"
   },
   {
    "duration": 111,
    "start_time": "2022-05-04T17:28:23.674Z"
   },
   {
    "duration": 118,
    "start_time": "2022-05-04T17:29:06.291Z"
   },
   {
    "duration": 23,
    "start_time": "2022-05-04T17:31:35.329Z"
   },
   {
    "duration": 9,
    "start_time": "2022-05-04T17:34:31.879Z"
   },
   {
    "duration": 207,
    "start_time": "2022-05-04T17:34:44.087Z"
   },
   {
    "duration": 344,
    "start_time": "2022-05-04T17:39:43.699Z"
   },
   {
    "duration": 583,
    "start_time": "2022-05-04T17:40:14.419Z"
   },
   {
    "duration": 248,
    "start_time": "2022-05-04T17:40:26.931Z"
   },
   {
    "duration": 202,
    "start_time": "2022-05-04T17:40:29.578Z"
   },
   {
    "duration": 183,
    "start_time": "2022-05-04T17:40:52.706Z"
   },
   {
    "duration": 184,
    "start_time": "2022-05-04T17:40:57.874Z"
   },
   {
    "duration": 245,
    "start_time": "2022-05-04T17:42:25.025Z"
   },
   {
    "duration": 10,
    "start_time": "2022-05-04T17:49:13.005Z"
   },
   {
    "duration": 15,
    "start_time": "2022-05-04T17:49:17.574Z"
   },
   {
    "duration": 367,
    "start_time": "2022-05-04T17:49:31.491Z"
   },
   {
    "duration": 263,
    "start_time": "2022-05-04T17:49:36.574Z"
   },
   {
    "duration": 137,
    "start_time": "2022-05-04T17:49:41.989Z"
   },
   {
    "duration": 266,
    "start_time": "2022-05-04T17:49:45.940Z"
   },
   {
    "duration": 226,
    "start_time": "2022-05-04T17:49:51.285Z"
   },
   {
    "duration": 382,
    "start_time": "2022-05-04T17:49:55.548Z"
   },
   {
    "duration": 1576,
    "start_time": "2022-05-04T17:49:59.365Z"
   },
   {
    "duration": 1120,
    "start_time": "2022-05-04T17:50:11.222Z"
   },
   {
    "duration": 953,
    "start_time": "2022-05-04T17:50:18.015Z"
   },
   {
    "duration": 1090,
    "start_time": "2022-05-04T17:50:22.470Z"
   },
   {
    "duration": 967,
    "start_time": "2022-05-04T17:50:25.837Z"
   },
   {
    "duration": 935,
    "start_time": "2022-05-04T17:50:30.132Z"
   },
   {
    "duration": 624,
    "start_time": "2022-05-04T17:51:18.133Z"
   },
   {
    "duration": 514,
    "start_time": "2022-05-04T17:51:25.581Z"
   },
   {
    "duration": 599,
    "start_time": "2022-05-04T17:51:29.628Z"
   },
   {
    "duration": 520,
    "start_time": "2022-05-04T17:51:46.308Z"
   },
   {
    "duration": 664,
    "start_time": "2022-05-04T17:52:01.339Z"
   },
   {
    "duration": 519,
    "start_time": "2022-05-04T17:52:06.940Z"
   },
   {
    "duration": 628,
    "start_time": "2022-05-04T17:52:10.732Z"
   },
   {
    "duration": 492,
    "start_time": "2022-05-04T17:52:19.020Z"
   },
   {
    "duration": 601,
    "start_time": "2022-05-04T17:52:37.219Z"
   },
   {
    "duration": 494,
    "start_time": "2022-05-04T17:52:47.460Z"
   },
   {
    "duration": 488,
    "start_time": "2022-05-04T17:52:53.620Z"
   },
   {
    "duration": 624,
    "start_time": "2022-05-04T17:54:16.987Z"
   },
   {
    "duration": 495,
    "start_time": "2022-05-04T17:54:24.964Z"
   },
   {
    "duration": 167,
    "start_time": "2022-05-04T17:54:32.972Z"
   },
   {
    "duration": 279,
    "start_time": "2022-05-04T17:54:39.067Z"
   },
   {
    "duration": 183,
    "start_time": "2022-05-04T17:54:45.973Z"
   },
   {
    "duration": 211,
    "start_time": "2022-05-04T17:54:51.163Z"
   },
   {
    "duration": 154,
    "start_time": "2022-05-04T17:54:57.828Z"
   },
   {
    "duration": 258,
    "start_time": "2022-05-04T17:55:00.379Z"
   },
   {
    "duration": 187,
    "start_time": "2022-05-04T17:55:05.261Z"
   },
   {
    "duration": 203,
    "start_time": "2022-05-04T17:55:11.995Z"
   },
   {
    "duration": 320,
    "start_time": "2022-05-04T17:55:19.284Z"
   },
   {
    "duration": 255,
    "start_time": "2022-05-04T17:55:23.811Z"
   },
   {
    "duration": 213,
    "start_time": "2022-05-04T17:55:27.195Z"
   },
   {
    "duration": 200,
    "start_time": "2022-05-04T17:55:30.330Z"
   },
   {
    "duration": 272,
    "start_time": "2022-05-04T17:55:40.634Z"
   },
   {
    "duration": 254,
    "start_time": "2022-05-04T17:55:57.115Z"
   },
   {
    "duration": 310,
    "start_time": "2022-05-04T17:56:02.851Z"
   },
   {
    "duration": 196,
    "start_time": "2022-05-04T17:56:09.082Z"
   },
   {
    "duration": 196,
    "start_time": "2022-05-04T17:56:25.849Z"
   },
   {
    "duration": 274,
    "start_time": "2022-05-04T17:56:38.803Z"
   },
   {
    "duration": 212,
    "start_time": "2022-05-04T17:56:45.114Z"
   },
   {
    "duration": 231,
    "start_time": "2022-05-04T17:56:53.150Z"
   },
   {
    "duration": 13,
    "start_time": "2022-05-04T17:58:14.289Z"
   },
   {
    "duration": 18,
    "start_time": "2022-05-04T17:58:42.763Z"
   },
   {
    "duration": 548,
    "start_time": "2022-05-04T17:59:44.226Z"
   },
   {
    "duration": 521,
    "start_time": "2022-05-04T18:00:23.825Z"
   },
   {
    "duration": 426,
    "start_time": "2022-05-04T18:00:29.512Z"
   },
   {
    "duration": 3280,
    "start_time": "2022-05-04T18:00:40.257Z"
   },
   {
    "duration": 213,
    "start_time": "2022-05-04T18:00:48.825Z"
   },
   {
    "duration": 726,
    "start_time": "2022-05-04T18:00:53.619Z"
   },
   {
    "duration": 525,
    "start_time": "2022-05-04T18:01:00.408Z"
   },
   {
    "duration": 630,
    "start_time": "2022-05-04T18:01:11.407Z"
   },
   {
    "duration": 712,
    "start_time": "2022-05-04T18:02:40.248Z"
   },
   {
    "duration": 1245,
    "start_time": "2022-05-04T18:10:36.124Z"
   },
   {
    "duration": 312,
    "start_time": "2022-05-04T18:13:20.283Z"
   },
   {
    "duration": 434,
    "start_time": "2022-05-04T18:13:36.227Z"
   },
   {
    "duration": 206,
    "start_time": "2022-05-04T18:13:40.490Z"
   },
   {
    "duration": 289,
    "start_time": "2022-05-04T18:13:59.899Z"
   },
   {
    "duration": 228,
    "start_time": "2022-05-04T18:14:59.243Z"
   },
   {
    "duration": 241,
    "start_time": "2022-05-04T18:15:02.147Z"
   },
   {
    "duration": 178,
    "start_time": "2022-05-04T18:15:09.281Z"
   },
   {
    "duration": 150,
    "start_time": "2022-05-04T18:15:24.657Z"
   },
   {
    "duration": 302,
    "start_time": "2022-05-04T18:15:37.897Z"
   },
   {
    "duration": 536,
    "start_time": "2022-05-04T18:16:01.169Z"
   },
   {
    "duration": 261,
    "start_time": "2022-05-04T18:16:09.009Z"
   },
   {
    "duration": 200,
    "start_time": "2022-05-04T18:16:27.962Z"
   },
   {
    "duration": 229,
    "start_time": "2022-05-04T18:16:48.345Z"
   },
   {
    "duration": 1841,
    "start_time": "2022-05-04T18:16:53.465Z"
   },
   {
    "duration": 282,
    "start_time": "2022-05-04T18:16:58.391Z"
   },
   {
    "duration": 141,
    "start_time": "2022-05-04T18:17:01.434Z"
   },
   {
    "duration": 574,
    "start_time": "2022-05-04T18:17:05.402Z"
   },
   {
    "duration": 157,
    "start_time": "2022-05-04T18:17:34.882Z"
   },
   {
    "duration": 133,
    "start_time": "2022-05-04T18:17:39.480Z"
   },
   {
    "duration": 147,
    "start_time": "2022-05-04T18:17:43.081Z"
   },
   {
    "duration": 162,
    "start_time": "2022-05-04T18:17:50.521Z"
   },
   {
    "duration": 183,
    "start_time": "2022-05-04T18:17:54.561Z"
   },
   {
    "duration": 324,
    "start_time": "2022-05-04T18:18:00.808Z"
   },
   {
    "duration": 155,
    "start_time": "2022-05-04T18:19:22.153Z"
   },
   {
    "duration": 175,
    "start_time": "2022-05-04T18:19:29.056Z"
   },
   {
    "duration": 405,
    "start_time": "2022-05-04T18:19:36.600Z"
   },
   {
    "duration": 260,
    "start_time": "2022-05-04T18:20:15.532Z"
   },
   {
    "duration": 267,
    "start_time": "2022-05-04T18:20:33.352Z"
   },
   {
    "duration": 256,
    "start_time": "2022-05-04T18:20:49.431Z"
   },
   {
    "duration": 557,
    "start_time": "2022-05-04T18:20:57.718Z"
   },
   {
    "duration": 862,
    "start_time": "2022-05-04T18:21:02.440Z"
   },
   {
    "duration": 398,
    "start_time": "2022-05-04T18:21:08.423Z"
   },
   {
    "duration": 426,
    "start_time": "2022-05-04T18:21:13.895Z"
   },
   {
    "duration": 186,
    "start_time": "2022-05-04T18:21:34.526Z"
   },
   {
    "duration": 192,
    "start_time": "2022-05-04T18:21:50.045Z"
   },
   {
    "duration": 441,
    "start_time": "2022-05-04T18:22:00.542Z"
   },
   {
    "duration": 191,
    "start_time": "2022-05-04T18:22:41.212Z"
   },
   {
    "duration": 245,
    "start_time": "2022-05-04T18:22:53.634Z"
   },
   {
    "duration": 155,
    "start_time": "2022-05-04T18:22:59.758Z"
   },
   {
    "duration": 172,
    "start_time": "2022-05-04T18:23:06.494Z"
   },
   {
    "duration": 696,
    "start_time": "2022-05-04T18:23:16.694Z"
   },
   {
    "duration": 261,
    "start_time": "2022-05-04T18:23:59.974Z"
   },
   {
    "duration": 1022,
    "start_time": "2022-05-04T18:24:14.086Z"
   },
   {
    "duration": 1299,
    "start_time": "2022-05-04T18:24:19.965Z"
   },
   {
    "duration": 274,
    "start_time": "2022-05-04T18:24:27.373Z"
   },
   {
    "duration": 204,
    "start_time": "2022-05-04T18:24:46.876Z"
   },
   {
    "duration": 378,
    "start_time": "2022-05-04T18:25:10.814Z"
   },
   {
    "duration": 315,
    "start_time": "2022-05-04T18:25:30.398Z"
   },
   {
    "duration": 167,
    "start_time": "2022-05-04T18:35:18.674Z"
   },
   {
    "duration": 15,
    "start_time": "2022-05-04T18:39:10.397Z"
   },
   {
    "duration": 6,
    "start_time": "2022-05-04T18:39:18.599Z"
   },
   {
    "duration": 144,
    "start_time": "2022-05-04T18:40:23.568Z"
   },
   {
    "duration": 148,
    "start_time": "2022-05-04T18:40:47.846Z"
   },
   {
    "duration": 136,
    "start_time": "2022-05-04T18:40:50.733Z"
   },
   {
    "duration": 8,
    "start_time": "2022-05-04T18:45:34.873Z"
   },
   {
    "duration": 129,
    "start_time": "2022-05-04T18:45:48.102Z"
   },
   {
    "duration": 134,
    "start_time": "2022-05-04T18:46:24.911Z"
   },
   {
    "duration": 139,
    "start_time": "2022-05-04T18:46:35.982Z"
   },
   {
    "duration": 1160,
    "start_time": "2022-05-04T18:46:45.379Z"
   },
   {
    "duration": 766,
    "start_time": "2022-05-04T18:47:10.694Z"
   },
   {
    "duration": 827,
    "start_time": "2022-05-04T18:47:18.183Z"
   },
   {
    "duration": 3,
    "start_time": "2022-05-04T18:48:28.812Z"
   },
   {
    "duration": 3,
    "start_time": "2022-05-04T18:48:29.180Z"
   },
   {
    "duration": 9,
    "start_time": "2022-05-04T18:54:41.150Z"
   },
   {
    "duration": 150,
    "start_time": "2022-05-04T18:57:58.164Z"
   },
   {
    "duration": 145,
    "start_time": "2022-05-04T18:58:34.722Z"
   },
   {
    "duration": 278,
    "start_time": "2022-05-04T18:59:07.379Z"
   },
   {
    "duration": 293,
    "start_time": "2022-05-04T19:01:09.196Z"
   },
   {
    "duration": 681,
    "start_time": "2022-05-04T19:02:47.054Z"
   },
   {
    "duration": 313,
    "start_time": "2022-05-04T19:05:05.698Z"
   },
   {
    "duration": 341,
    "start_time": "2022-05-04T19:06:14.025Z"
   },
   {
    "duration": 281,
    "start_time": "2022-05-04T19:06:20.066Z"
   },
   {
    "duration": 480,
    "start_time": "2022-05-04T19:06:42.475Z"
   },
   {
    "duration": 328,
    "start_time": "2022-05-04T19:06:52.114Z"
   },
   {
    "duration": 460,
    "start_time": "2022-05-04T19:07:39.438Z"
   },
   {
    "duration": 55,
    "start_time": "2022-05-04T19:07:39.900Z"
   },
   {
    "duration": 217,
    "start_time": "2022-05-04T19:07:39.957Z"
   },
   {
    "duration": 109,
    "start_time": "2022-05-04T19:07:40.177Z"
   },
   {
    "duration": 195,
    "start_time": "2022-05-04T19:07:40.287Z"
   },
   {
    "duration": 48,
    "start_time": "2022-05-04T19:07:40.484Z"
   },
   {
    "duration": 96,
    "start_time": "2022-05-04T19:07:40.533Z"
   },
   {
    "duration": 5,
    "start_time": "2022-05-04T19:07:40.631Z"
   },
   {
    "duration": 26,
    "start_time": "2022-05-04T19:07:40.638Z"
   },
   {
    "duration": 9,
    "start_time": "2022-05-04T19:07:40.667Z"
   },
   {
    "duration": 15,
    "start_time": "2022-05-04T19:07:40.678Z"
   },
   {
    "duration": 7,
    "start_time": "2022-05-04T19:07:40.695Z"
   },
   {
    "duration": 97,
    "start_time": "2022-05-04T19:07:40.705Z"
   },
   {
    "duration": 23,
    "start_time": "2022-05-04T19:07:40.804Z"
   },
   {
    "duration": 4,
    "start_time": "2022-05-04T19:07:40.828Z"
   },
   {
    "duration": 45,
    "start_time": "2022-05-04T19:07:40.854Z"
   },
   {
    "duration": 3,
    "start_time": "2022-05-04T19:07:40.901Z"
   },
   {
    "duration": 51,
    "start_time": "2022-05-04T19:07:40.905Z"
   },
   {
    "duration": 70,
    "start_time": "2022-05-04T19:07:40.957Z"
   },
   {
    "duration": 2,
    "start_time": "2022-05-04T19:07:41.029Z"
   },
   {
    "duration": 10,
    "start_time": "2022-05-04T19:07:41.033Z"
   },
   {
    "duration": 27,
    "start_time": "2022-05-04T19:07:41.055Z"
   },
   {
    "duration": 38,
    "start_time": "2022-05-04T19:07:41.083Z"
   },
   {
    "duration": 3,
    "start_time": "2022-05-04T19:07:41.123Z"
   },
   {
    "duration": 28,
    "start_time": "2022-05-04T19:07:41.127Z"
   },
   {
    "duration": 29,
    "start_time": "2022-05-04T19:07:41.158Z"
   },
   {
    "duration": 40,
    "start_time": "2022-05-04T19:07:41.189Z"
   },
   {
    "duration": 2,
    "start_time": "2022-05-04T19:07:41.233Z"
   },
   {
    "duration": 27,
    "start_time": "2022-05-04T19:07:41.255Z"
   },
   {
    "duration": 7,
    "start_time": "2022-05-04T19:07:41.284Z"
   },
   {
    "duration": 10,
    "start_time": "2022-05-04T19:07:41.293Z"
   },
   {
    "duration": 29,
    "start_time": "2022-05-04T19:07:41.304Z"
   },
   {
    "duration": 20,
    "start_time": "2022-05-04T19:07:41.335Z"
   },
   {
    "duration": 60,
    "start_time": "2022-05-04T19:07:41.356Z"
   },
   {
    "duration": 4,
    "start_time": "2022-05-04T19:07:41.417Z"
   },
   {
    "duration": 118,
    "start_time": "2022-05-04T19:07:41.423Z"
   },
   {
    "duration": 4,
    "start_time": "2022-05-04T19:07:41.542Z"
   },
   {
    "duration": 72,
    "start_time": "2022-05-04T19:07:41.555Z"
   },
   {
    "duration": 10,
    "start_time": "2022-05-04T19:07:41.629Z"
   },
   {
    "duration": 6,
    "start_time": "2022-05-04T19:07:41.655Z"
   },
   {
    "duration": 19,
    "start_time": "2022-05-04T19:07:41.662Z"
   },
   {
    "duration": 16,
    "start_time": "2022-05-04T19:07:41.682Z"
   },
   {
    "duration": 9,
    "start_time": "2022-05-04T19:07:41.700Z"
   },
   {
    "duration": 45,
    "start_time": "2022-05-04T19:07:41.711Z"
   },
   {
    "duration": 13,
    "start_time": "2022-05-04T19:07:41.758Z"
   },
   {
    "duration": 17,
    "start_time": "2022-05-04T19:07:41.773Z"
   },
   {
    "duration": 16,
    "start_time": "2022-05-04T19:07:41.792Z"
   },
   {
    "duration": 72,
    "start_time": "2022-05-04T19:07:41.810Z"
   },
   {
    "duration": 13,
    "start_time": "2022-05-04T19:07:41.884Z"
   },
   {
    "duration": 874,
    "start_time": "2022-05-04T19:07:41.899Z"
   },
   {
    "duration": 25,
    "start_time": "2022-05-04T19:07:42.775Z"
   },
   {
    "duration": 315,
    "start_time": "2022-05-04T19:07:42.802Z"
   },
   {
    "duration": 222,
    "start_time": "2022-05-04T19:07:43.119Z"
   },
   {
    "duration": 252,
    "start_time": "2022-05-04T19:07:43.343Z"
   },
   {
    "duration": 4,
    "start_time": "2022-05-04T19:07:43.597Z"
   },
   {
    "duration": 315,
    "start_time": "2022-05-04T19:07:43.603Z"
   },
   {
    "duration": 295,
    "start_time": "2022-05-04T19:07:43.920Z"
   },
   {
    "duration": 308,
    "start_time": "2022-05-04T19:07:44.217Z"
   },
   {
    "duration": 9,
    "start_time": "2022-05-04T19:07:44.526Z"
   },
   {
    "duration": 370,
    "start_time": "2022-05-04T19:07:44.537Z"
   },
   {
    "duration": 306,
    "start_time": "2022-05-04T19:07:44.909Z"
   },
   {
    "duration": 3,
    "start_time": "2022-05-04T19:07:45.217Z"
   },
   {
    "duration": 513,
    "start_time": "2022-05-04T19:07:45.221Z"
   },
   {
    "duration": 3,
    "start_time": "2022-05-04T19:07:45.736Z"
   },
   {
    "duration": 16,
    "start_time": "2022-05-04T19:07:45.740Z"
   },
   {
    "duration": 6,
    "start_time": "2022-05-04T19:07:45.758Z"
   },
   {
    "duration": 9,
    "start_time": "2022-05-04T19:07:45.766Z"
   },
   {
    "duration": 308,
    "start_time": "2022-05-04T19:09:09.649Z"
   },
   {
    "duration": 414,
    "start_time": "2022-05-04T19:09:13.864Z"
   },
   {
    "duration": 407,
    "start_time": "2022-05-04T19:10:20.840Z"
   },
   {
    "duration": 1164,
    "start_time": "2022-05-04T19:21:07.803Z"
   },
   {
    "duration": 43,
    "start_time": "2022-05-04T19:21:08.969Z"
   },
   {
    "duration": 189,
    "start_time": "2022-05-04T19:21:09.014Z"
   },
   {
    "duration": 105,
    "start_time": "2022-05-04T19:21:09.205Z"
   },
   {
    "duration": 172,
    "start_time": "2022-05-04T19:21:09.312Z"
   },
   {
    "duration": 41,
    "start_time": "2022-05-04T19:21:09.487Z"
   },
   {
    "duration": 95,
    "start_time": "2022-05-04T19:21:09.530Z"
   },
   {
    "duration": 5,
    "start_time": "2022-05-04T19:21:09.626Z"
   },
   {
    "duration": 7,
    "start_time": "2022-05-04T19:21:09.633Z"
   },
   {
    "duration": 4,
    "start_time": "2022-05-04T19:21:09.656Z"
   },
   {
    "duration": 10,
    "start_time": "2022-05-04T19:21:09.661Z"
   },
   {
    "duration": 5,
    "start_time": "2022-05-04T19:21:09.673Z"
   },
   {
    "duration": 89,
    "start_time": "2022-05-04T19:21:09.679Z"
   },
   {
    "duration": 20,
    "start_time": "2022-05-04T19:21:09.769Z"
   },
   {
    "duration": 3,
    "start_time": "2022-05-04T19:21:09.791Z"
   },
   {
    "duration": 63,
    "start_time": "2022-05-04T19:21:09.795Z"
   },
   {
    "duration": 3,
    "start_time": "2022-05-04T19:21:09.860Z"
   },
   {
    "duration": 43,
    "start_time": "2022-05-04T19:21:09.864Z"
   },
   {
    "duration": 111,
    "start_time": "2022-05-04T19:21:09.909Z"
   },
   {
    "duration": 3,
    "start_time": "2022-05-04T19:21:10.022Z"
   },
   {
    "duration": 11,
    "start_time": "2022-05-04T19:21:10.027Z"
   },
   {
    "duration": 30,
    "start_time": "2022-05-04T19:21:10.040Z"
   },
   {
    "duration": 37,
    "start_time": "2022-05-04T19:21:10.071Z"
   },
   {
    "duration": 2,
    "start_time": "2022-05-04T19:21:10.110Z"
   },
   {
    "duration": 5,
    "start_time": "2022-05-04T19:21:10.114Z"
   },
   {
    "duration": 46,
    "start_time": "2022-05-04T19:21:10.121Z"
   },
   {
    "duration": 40,
    "start_time": "2022-05-04T19:21:10.169Z"
   },
   {
    "duration": 2,
    "start_time": "2022-05-04T19:21:10.213Z"
   },
   {
    "duration": 50,
    "start_time": "2022-05-04T19:21:10.217Z"
   },
   {
    "duration": 6,
    "start_time": "2022-05-04T19:21:10.269Z"
   },
   {
    "duration": 10,
    "start_time": "2022-05-04T19:21:10.276Z"
   },
   {
    "duration": 18,
    "start_time": "2022-05-04T19:21:10.287Z"
   },
   {
    "duration": 4,
    "start_time": "2022-05-04T19:21:10.306Z"
   },
   {
    "duration": 99,
    "start_time": "2022-05-04T19:21:10.312Z"
   },
   {
    "duration": 4,
    "start_time": "2022-05-04T19:21:10.413Z"
   },
   {
    "duration": 69,
    "start_time": "2022-05-04T19:21:10.418Z"
   },
   {
    "duration": 5,
    "start_time": "2022-05-04T19:21:10.489Z"
   },
   {
    "duration": 68,
    "start_time": "2022-05-04T19:21:10.495Z"
   },
   {
    "duration": 11,
    "start_time": "2022-05-04T19:21:10.565Z"
   },
   {
    "duration": 5,
    "start_time": "2022-05-04T19:21:10.578Z"
   },
   {
    "duration": 17,
    "start_time": "2022-05-04T19:21:10.584Z"
   },
   {
    "duration": 20,
    "start_time": "2022-05-04T19:21:10.603Z"
   },
   {
    "duration": 40,
    "start_time": "2022-05-04T19:21:10.625Z"
   },
   {
    "duration": 17,
    "start_time": "2022-05-04T19:21:10.667Z"
   },
   {
    "duration": 14,
    "start_time": "2022-05-04T19:21:10.686Z"
   },
   {
    "duration": 11,
    "start_time": "2022-05-04T19:21:10.702Z"
   },
   {
    "duration": 45,
    "start_time": "2022-05-04T19:21:10.715Z"
   },
   {
    "duration": 30,
    "start_time": "2022-05-04T19:21:10.762Z"
   },
   {
    "duration": 17,
    "start_time": "2022-05-04T19:21:10.793Z"
   },
   {
    "duration": 302,
    "start_time": "2022-05-04T19:21:10.812Z"
   },
   {
    "duration": 206,
    "start_time": "2022-05-04T19:21:11.116Z"
   },
   {
    "duration": 192,
    "start_time": "2022-05-04T19:21:11.324Z"
   },
   {
    "duration": 479,
    "start_time": "2022-05-04T19:21:11.519Z"
   },
   {
    "duration": 439,
    "start_time": "2022-05-04T19:21:12.001Z"
   },
   {
    "duration": 351,
    "start_time": "2022-05-04T19:21:12.442Z"
   },
   {
    "duration": 13,
    "start_time": "2022-05-04T19:21:12.795Z"
   },
   {
    "duration": 292,
    "start_time": "2022-05-04T19:21:12.810Z"
   },
   {
    "duration": 412,
    "start_time": "2022-05-04T19:21:13.105Z"
   },
   {
    "duration": 3,
    "start_time": "2022-05-04T19:21:13.518Z"
   },
   {
    "duration": 266,
    "start_time": "2022-05-04T19:21:13.522Z"
   },
   {
    "duration": 1381,
    "start_time": "2022-05-11T10:54:06.194Z"
   },
   {
    "duration": 50,
    "start_time": "2022-05-11T10:54:07.577Z"
   },
   {
    "duration": 215,
    "start_time": "2022-05-11T10:54:07.628Z"
   },
   {
    "duration": 116,
    "start_time": "2022-05-11T10:54:07.845Z"
   },
   {
    "duration": 195,
    "start_time": "2022-05-11T10:54:07.963Z"
   },
   {
    "duration": 63,
    "start_time": "2022-05-11T10:54:08.159Z"
   },
   {
    "duration": 92,
    "start_time": "2022-05-11T10:54:08.224Z"
   },
   {
    "duration": 7,
    "start_time": "2022-05-11T10:54:08.318Z"
   },
   {
    "duration": 13,
    "start_time": "2022-05-11T10:54:08.327Z"
   },
   {
    "duration": 6,
    "start_time": "2022-05-11T10:54:08.344Z"
   },
   {
    "duration": 16,
    "start_time": "2022-05-11T10:54:08.351Z"
   },
   {
    "duration": 11,
    "start_time": "2022-05-11T10:54:08.369Z"
   },
   {
    "duration": 100,
    "start_time": "2022-05-11T10:54:08.382Z"
   },
   {
    "duration": 32,
    "start_time": "2022-05-11T10:54:08.483Z"
   },
   {
    "duration": 3,
    "start_time": "2022-05-11T10:54:08.516Z"
   },
   {
    "duration": 55,
    "start_time": "2022-05-11T10:54:08.521Z"
   },
   {
    "duration": 2,
    "start_time": "2022-05-11T10:54:08.578Z"
   },
   {
    "duration": 52,
    "start_time": "2022-05-11T10:54:08.582Z"
   },
   {
    "duration": 76,
    "start_time": "2022-05-11T10:54:08.635Z"
   },
   {
    "duration": 2,
    "start_time": "2022-05-11T10:54:08.713Z"
   },
   {
    "duration": 14,
    "start_time": "2022-05-11T10:54:08.717Z"
   },
   {
    "duration": 29,
    "start_time": "2022-05-11T10:54:08.733Z"
   },
   {
    "duration": 44,
    "start_time": "2022-05-11T10:54:08.764Z"
   },
   {
    "duration": 2,
    "start_time": "2022-05-11T10:54:08.810Z"
   },
   {
    "duration": 6,
    "start_time": "2022-05-11T10:54:08.814Z"
   },
   {
    "duration": 31,
    "start_time": "2022-05-11T10:54:08.821Z"
   },
   {
    "duration": 55,
    "start_time": "2022-05-11T10:54:08.853Z"
   },
   {
    "duration": 2,
    "start_time": "2022-05-11T10:54:08.913Z"
   },
   {
    "duration": 34,
    "start_time": "2022-05-11T10:54:08.917Z"
   },
   {
    "duration": 6,
    "start_time": "2022-05-11T10:54:08.952Z"
   },
   {
    "duration": 11,
    "start_time": "2022-05-11T10:54:08.960Z"
   },
   {
    "duration": 45,
    "start_time": "2022-05-11T10:54:08.973Z"
   },
   {
    "duration": 4,
    "start_time": "2022-05-11T10:54:09.020Z"
   },
   {
    "duration": 65,
    "start_time": "2022-05-11T10:54:09.026Z"
   },
   {
    "duration": 4,
    "start_time": "2022-05-11T10:54:09.107Z"
   },
   {
    "duration": 65,
    "start_time": "2022-05-11T10:54:09.113Z"
   },
   {
    "duration": 4,
    "start_time": "2022-05-11T10:54:09.180Z"
   },
   {
    "duration": 80,
    "start_time": "2022-05-11T10:54:09.186Z"
   },
   {
    "duration": 13,
    "start_time": "2022-05-11T10:54:09.268Z"
   },
   {
    "duration": 5,
    "start_time": "2022-05-11T10:54:09.283Z"
   },
   {
    "duration": 31,
    "start_time": "2022-05-11T10:54:09.290Z"
   },
   {
    "duration": 19,
    "start_time": "2022-05-11T10:54:09.323Z"
   },
   {
    "duration": 9,
    "start_time": "2022-05-11T10:54:09.344Z"
   },
   {
    "duration": 16,
    "start_time": "2022-05-11T10:54:09.355Z"
   },
   {
    "duration": 44,
    "start_time": "2022-05-11T10:54:09.373Z"
   },
   {
    "duration": 16,
    "start_time": "2022-05-11T10:54:09.420Z"
   },
   {
    "duration": 13,
    "start_time": "2022-05-11T10:54:09.438Z"
   },
   {
    "duration": 69,
    "start_time": "2022-05-11T10:54:09.453Z"
   },
   {
    "duration": 19,
    "start_time": "2022-05-11T10:54:09.524Z"
   },
   {
    "duration": 348,
    "start_time": "2022-05-11T10:54:09.544Z"
   },
   {
    "duration": 245,
    "start_time": "2022-05-11T10:54:09.894Z"
   },
   {
    "duration": 219,
    "start_time": "2022-05-11T10:54:10.140Z"
   },
   {
    "duration": 330,
    "start_time": "2022-05-11T10:54:10.361Z"
   },
   {
    "duration": 325,
    "start_time": "2022-05-11T10:54:10.693Z"
   },
   {
    "duration": 276,
    "start_time": "2022-05-11T10:54:11.019Z"
   },
   {
    "duration": 15,
    "start_time": "2022-05-11T10:54:11.296Z"
   },
   {
    "duration": 340,
    "start_time": "2022-05-11T10:54:11.313Z"
   },
   {
    "duration": 305,
    "start_time": "2022-05-11T10:54:11.655Z"
   },
   {
    "duration": 3,
    "start_time": "2022-05-11T10:54:11.962Z"
   },
   {
    "duration": 320,
    "start_time": "2022-05-11T10:54:11.967Z"
   },
   {
    "duration": 8,
    "start_time": "2022-05-11T11:08:07.874Z"
   },
   {
    "duration": 8,
    "start_time": "2022-05-11T11:08:47.666Z"
   },
   {
    "duration": 8,
    "start_time": "2022-05-11T11:11:20.116Z"
   },
   {
    "duration": 2,
    "start_time": "2022-05-11T11:18:33.383Z"
   },
   {
    "duration": 2,
    "start_time": "2022-05-11T11:18:41.313Z"
   },
   {
    "duration": 3,
    "start_time": "2022-05-11T11:18:47.854Z"
   },
   {
    "duration": 1487,
    "start_time": "2022-05-11T11:19:02.166Z"
   },
   {
    "duration": 55,
    "start_time": "2022-05-11T11:19:03.655Z"
   },
   {
    "duration": 223,
    "start_time": "2022-05-11T11:19:03.712Z"
   },
   {
    "duration": 126,
    "start_time": "2022-05-11T11:19:03.938Z"
   },
   {
    "duration": 198,
    "start_time": "2022-05-11T11:19:04.066Z"
   },
   {
    "duration": 64,
    "start_time": "2022-05-11T11:19:04.265Z"
   },
   {
    "duration": 100,
    "start_time": "2022-05-11T11:19:04.330Z"
   },
   {
    "duration": 5,
    "start_time": "2022-05-11T11:19:04.432Z"
   },
   {
    "duration": 26,
    "start_time": "2022-05-11T11:19:04.439Z"
   },
   {
    "duration": 18,
    "start_time": "2022-05-11T11:19:04.468Z"
   },
   {
    "duration": 30,
    "start_time": "2022-05-11T11:19:04.488Z"
   },
   {
    "duration": 12,
    "start_time": "2022-05-11T11:19:04.521Z"
   },
   {
    "duration": 108,
    "start_time": "2022-05-11T11:19:04.535Z"
   },
   {
    "duration": 29,
    "start_time": "2022-05-11T11:19:04.645Z"
   },
   {
    "duration": 4,
    "start_time": "2022-05-11T11:19:04.676Z"
   },
   {
    "duration": 64,
    "start_time": "2022-05-11T11:19:04.682Z"
   },
   {
    "duration": 2,
    "start_time": "2022-05-11T11:19:04.748Z"
   },
   {
    "duration": 49,
    "start_time": "2022-05-11T11:19:04.752Z"
   },
   {
    "duration": 71,
    "start_time": "2022-05-11T11:19:04.803Z"
   },
   {
    "duration": 3,
    "start_time": "2022-05-11T11:19:04.875Z"
   },
   {
    "duration": 14,
    "start_time": "2022-05-11T11:19:04.879Z"
   },
   {
    "duration": 35,
    "start_time": "2022-05-11T11:19:04.896Z"
   },
   {
    "duration": 38,
    "start_time": "2022-05-11T11:19:04.933Z"
   },
   {
    "duration": 3,
    "start_time": "2022-05-11T11:19:04.973Z"
   },
   {
    "duration": 30,
    "start_time": "2022-05-11T11:19:04.977Z"
   },
   {
    "duration": 29,
    "start_time": "2022-05-11T11:19:05.009Z"
   },
   {
    "duration": 44,
    "start_time": "2022-05-11T11:19:05.040Z"
   },
   {
    "duration": 2,
    "start_time": "2022-05-11T11:19:05.088Z"
   },
   {
    "duration": 29,
    "start_time": "2022-05-11T11:19:05.108Z"
   },
   {
    "duration": 6,
    "start_time": "2022-05-11T11:19:05.139Z"
   },
   {
    "duration": 17,
    "start_time": "2022-05-11T11:19:05.147Z"
   },
   {
    "duration": 51,
    "start_time": "2022-05-11T11:19:05.165Z"
   },
   {
    "duration": 4,
    "start_time": "2022-05-11T11:19:05.218Z"
   },
   {
    "duration": 63,
    "start_time": "2022-05-11T11:19:05.224Z"
   },
   {
    "duration": 18,
    "start_time": "2022-05-11T11:19:05.289Z"
   },
   {
    "duration": 61,
    "start_time": "2022-05-11T11:19:05.309Z"
   },
   {
    "duration": 5,
    "start_time": "2022-05-11T11:19:05.371Z"
   },
   {
    "duration": 135,
    "start_time": "2022-05-11T11:19:05.377Z"
   },
   {
    "duration": 12,
    "start_time": "2022-05-11T11:19:05.514Z"
   },
   {
    "duration": 6,
    "start_time": "2022-05-11T11:19:05.528Z"
   },
   {
    "duration": 15,
    "start_time": "2022-05-11T11:19:05.536Z"
   },
   {
    "duration": 20,
    "start_time": "2022-05-11T11:19:05.552Z"
   },
   {
    "duration": 41,
    "start_time": "2022-05-11T11:19:05.574Z"
   },
   {
    "duration": 14,
    "start_time": "2022-05-11T11:19:05.617Z"
   },
   {
    "duration": 11,
    "start_time": "2022-05-11T11:19:05.633Z"
   },
   {
    "duration": 13,
    "start_time": "2022-05-11T11:19:05.645Z"
   },
   {
    "duration": 3,
    "start_time": "2022-05-11T11:19:05.659Z"
   },
   {
    "duration": 51,
    "start_time": "2022-05-11T11:19:05.663Z"
   },
   {
    "duration": 3,
    "start_time": "2022-05-11T11:19:05.715Z"
   },
   {
    "duration": 34,
    "start_time": "2022-05-11T11:19:05.720Z"
   },
   {
    "duration": 3,
    "start_time": "2022-05-11T11:19:05.756Z"
   },
   {
    "duration": 51,
    "start_time": "2022-05-11T11:19:05.761Z"
   },
   {
    "duration": 352,
    "start_time": "2022-05-11T11:19:05.815Z"
   },
   {
    "duration": 247,
    "start_time": "2022-05-11T11:19:06.169Z"
   },
   {
    "duration": 224,
    "start_time": "2022-05-11T11:19:06.418Z"
   },
   {
    "duration": 337,
    "start_time": "2022-05-11T11:19:06.644Z"
   },
   {
    "duration": 335,
    "start_time": "2022-05-11T11:19:06.984Z"
   },
   {
    "duration": 269,
    "start_time": "2022-05-11T11:19:07.321Z"
   },
   {
    "duration": 19,
    "start_time": "2022-05-11T11:19:07.592Z"
   },
   {
    "duration": 341,
    "start_time": "2022-05-11T11:19:07.613Z"
   },
   {
    "duration": 312,
    "start_time": "2022-05-11T11:19:07.956Z"
   },
   {
    "duration": 2,
    "start_time": "2022-05-11T11:19:08.271Z"
   },
   {
    "duration": 347,
    "start_time": "2022-05-11T11:19:08.275Z"
   },
   {
    "duration": 22,
    "start_time": "2022-05-11T11:41:46.298Z"
   },
   {
    "duration": 16,
    "start_time": "2022-05-11T11:41:58.373Z"
   },
   {
    "duration": 13,
    "start_time": "2022-05-11T11:45:57.719Z"
   },
   {
    "duration": 26,
    "start_time": "2022-05-11T11:48:31.932Z"
   },
   {
    "duration": 67,
    "start_time": "2022-05-11T11:48:51.565Z"
   },
   {
    "duration": 25,
    "start_time": "2022-05-11T11:48:56.614Z"
   },
   {
    "duration": 5,
    "start_time": "2022-05-11T11:49:08.757Z"
   },
   {
    "duration": 6,
    "start_time": "2022-05-11T11:49:12.290Z"
   },
   {
    "duration": 7,
    "start_time": "2022-05-11T11:49:24.116Z"
   },
   {
    "duration": 23,
    "start_time": "2022-05-11T11:50:42.951Z"
   },
   {
    "duration": 4,
    "start_time": "2022-05-11T11:51:26.300Z"
   },
   {
    "duration": 6,
    "start_time": "2022-05-11T11:51:31.411Z"
   },
   {
    "duration": 115,
    "start_time": "2022-05-11T11:51:47.796Z"
   },
   {
    "duration": 9,
    "start_time": "2022-05-11T11:52:09.756Z"
   },
   {
    "duration": 5,
    "start_time": "2022-05-11T11:52:18.301Z"
   },
   {
    "duration": 33,
    "start_time": "2022-05-11T12:01:10.508Z"
   },
   {
    "duration": 9,
    "start_time": "2022-05-11T12:03:11.037Z"
   },
   {
    "duration": 1177,
    "start_time": "2022-05-11T12:03:52.959Z"
   },
   {
    "duration": 48,
    "start_time": "2022-05-11T12:03:54.138Z"
   },
   {
    "duration": 219,
    "start_time": "2022-05-11T12:03:54.188Z"
   },
   {
    "duration": 114,
    "start_time": "2022-05-11T12:03:54.409Z"
   },
   {
    "duration": 195,
    "start_time": "2022-05-11T12:03:54.525Z"
   },
   {
    "duration": 45,
    "start_time": "2022-05-11T12:03:54.722Z"
   },
   {
    "duration": 103,
    "start_time": "2022-05-11T12:03:54.769Z"
   },
   {
    "duration": 6,
    "start_time": "2022-05-11T12:03:54.873Z"
   },
   {
    "duration": 14,
    "start_time": "2022-05-11T12:03:54.880Z"
   },
   {
    "duration": 14,
    "start_time": "2022-05-11T12:03:54.896Z"
   },
   {
    "duration": 7,
    "start_time": "2022-05-11T12:03:54.912Z"
   },
   {
    "duration": 4,
    "start_time": "2022-05-11T12:03:54.921Z"
   },
   {
    "duration": 106,
    "start_time": "2022-05-11T12:03:54.926Z"
   },
   {
    "duration": 22,
    "start_time": "2022-05-11T12:03:55.034Z"
   },
   {
    "duration": 3,
    "start_time": "2022-05-11T12:03:55.057Z"
   },
   {
    "duration": 72,
    "start_time": "2022-05-11T12:03:55.062Z"
   },
   {
    "duration": 3,
    "start_time": "2022-05-11T12:03:55.135Z"
   },
   {
    "duration": 36,
    "start_time": "2022-05-11T12:03:55.139Z"
   },
   {
    "duration": 79,
    "start_time": "2022-05-11T12:03:55.177Z"
   },
   {
    "duration": 2,
    "start_time": "2022-05-11T12:03:55.257Z"
   },
   {
    "duration": 7,
    "start_time": "2022-05-11T12:03:55.261Z"
   },
   {
    "duration": 21,
    "start_time": "2022-05-11T12:03:55.270Z"
   },
   {
    "duration": 37,
    "start_time": "2022-05-11T12:03:55.307Z"
   },
   {
    "duration": 2,
    "start_time": "2022-05-11T12:03:55.345Z"
   },
   {
    "duration": 5,
    "start_time": "2022-05-11T12:03:55.349Z"
   },
   {
    "duration": 52,
    "start_time": "2022-05-11T12:03:55.355Z"
   },
   {
    "duration": 43,
    "start_time": "2022-05-11T12:03:55.409Z"
   },
   {
    "duration": 2,
    "start_time": "2022-05-11T12:03:55.456Z"
   },
   {
    "duration": 50,
    "start_time": "2022-05-11T12:03:55.460Z"
   },
   {
    "duration": 5,
    "start_time": "2022-05-11T12:03:55.512Z"
   },
   {
    "duration": 8,
    "start_time": "2022-05-11T12:03:55.519Z"
   },
   {
    "duration": 18,
    "start_time": "2022-05-11T12:03:55.529Z"
   },
   {
    "duration": 7,
    "start_time": "2022-05-11T12:03:55.549Z"
   },
   {
    "duration": 13,
    "start_time": "2022-05-11T12:03:55.558Z"
   },
   {
    "duration": 92,
    "start_time": "2022-05-11T12:03:55.572Z"
   },
   {
    "duration": 4,
    "start_time": "2022-05-11T12:03:55.666Z"
   },
   {
    "duration": 79,
    "start_time": "2022-05-11T12:03:55.672Z"
   },
   {
    "duration": 4,
    "start_time": "2022-05-11T12:03:55.752Z"
   },
   {
    "duration": 74,
    "start_time": "2022-05-11T12:03:55.757Z"
   },
   {
    "duration": 12,
    "start_time": "2022-05-11T12:03:55.833Z"
   },
   {
    "duration": 12,
    "start_time": "2022-05-11T12:03:55.847Z"
   },
   {
    "duration": 13,
    "start_time": "2022-05-11T12:03:55.860Z"
   },
   {
    "duration": 40,
    "start_time": "2022-05-11T12:03:55.875Z"
   },
   {
    "duration": 9,
    "start_time": "2022-05-11T12:03:55.916Z"
   },
   {
    "duration": 14,
    "start_time": "2022-05-11T12:03:55.926Z"
   },
   {
    "duration": 14,
    "start_time": "2022-05-11T12:03:55.941Z"
   },
   {
    "duration": 10,
    "start_time": "2022-05-11T12:03:55.957Z"
   },
   {
    "duration": 38,
    "start_time": "2022-05-11T12:03:55.969Z"
   },
   {
    "duration": 11,
    "start_time": "2022-05-11T12:03:56.009Z"
   },
   {
    "duration": 3,
    "start_time": "2022-05-11T12:03:56.021Z"
   },
   {
    "duration": 31,
    "start_time": "2022-05-11T12:03:56.025Z"
   },
   {
    "duration": 3,
    "start_time": "2022-05-11T12:03:56.057Z"
   },
   {
    "duration": 58,
    "start_time": "2022-05-11T12:03:56.062Z"
   },
   {
    "duration": 324,
    "start_time": "2022-05-11T12:03:56.121Z"
   },
   {
    "duration": 237,
    "start_time": "2022-05-11T12:03:56.447Z"
   },
   {
    "duration": 213,
    "start_time": "2022-05-11T12:03:56.686Z"
   },
   {
    "duration": 315,
    "start_time": "2022-05-11T12:03:56.901Z"
   },
   {
    "duration": 306,
    "start_time": "2022-05-11T12:03:57.218Z"
   },
   {
    "duration": 259,
    "start_time": "2022-05-11T12:03:57.526Z"
   },
   {
    "duration": 10,
    "start_time": "2022-05-11T12:03:57.787Z"
   },
   {
    "duration": 334,
    "start_time": "2022-05-11T12:03:57.807Z"
   },
   {
    "duration": 298,
    "start_time": "2022-05-11T12:03:58.143Z"
   },
   {
    "duration": 3,
    "start_time": "2022-05-11T12:03:58.442Z"
   },
   {
    "duration": 299,
    "start_time": "2022-05-11T12:03:58.447Z"
   },
   {
    "duration": 21,
    "start_time": "2022-05-11T12:03:58.747Z"
   },
   {
    "duration": 6,
    "start_time": "2022-05-11T12:03:58.770Z"
   },
   {
    "duration": 5,
    "start_time": "2022-05-11T12:03:58.778Z"
   },
   {
    "duration": 130,
    "start_time": "2022-05-11T12:03:58.785Z"
   },
   {
    "duration": 4,
    "start_time": "2022-05-11T12:05:55.681Z"
   },
   {
    "duration": 4,
    "start_time": "2022-05-11T12:06:07.206Z"
   },
   {
    "duration": 4,
    "start_time": "2022-05-11T12:06:20.539Z"
   },
   {
    "duration": 25,
    "start_time": "2022-05-11T12:06:55.647Z"
   },
   {
    "duration": 6,
    "start_time": "2022-05-11T12:17:21.940Z"
   },
   {
    "duration": 5,
    "start_time": "2022-05-11T12:18:17.381Z"
   },
   {
    "duration": 5,
    "start_time": "2022-05-11T12:18:28.167Z"
   },
   {
    "duration": 5,
    "start_time": "2022-05-11T12:18:29.831Z"
   },
   {
    "duration": 6,
    "start_time": "2022-05-11T12:19:46.999Z"
   },
   {
    "duration": 6,
    "start_time": "2022-05-11T12:19:47.405Z"
   },
   {
    "duration": 5,
    "start_time": "2022-05-11T12:19:47.765Z"
   },
   {
    "duration": 14,
    "start_time": "2022-05-11T12:20:50.110Z"
   },
   {
    "duration": 1262,
    "start_time": "2022-05-11T12:28:59.725Z"
   },
   {
    "duration": 58,
    "start_time": "2022-05-11T12:29:00.989Z"
   },
   {
    "duration": 226,
    "start_time": "2022-05-11T12:29:01.049Z"
   },
   {
    "duration": 130,
    "start_time": "2022-05-11T12:29:01.277Z"
   },
   {
    "duration": 212,
    "start_time": "2022-05-11T12:29:01.410Z"
   },
   {
    "duration": 47,
    "start_time": "2022-05-11T12:29:01.624Z"
   },
   {
    "duration": 109,
    "start_time": "2022-05-11T12:29:01.673Z"
   },
   {
    "duration": 6,
    "start_time": "2022-05-11T12:29:01.784Z"
   },
   {
    "duration": 21,
    "start_time": "2022-05-11T12:29:01.792Z"
   },
   {
    "duration": 8,
    "start_time": "2022-05-11T12:29:01.818Z"
   },
   {
    "duration": 11,
    "start_time": "2022-05-11T12:29:01.828Z"
   },
   {
    "duration": 10,
    "start_time": "2022-05-11T12:29:01.841Z"
   },
   {
    "duration": 121,
    "start_time": "2022-05-11T12:29:01.852Z"
   },
   {
    "duration": 33,
    "start_time": "2022-05-11T12:29:01.975Z"
   },
   {
    "duration": 5,
    "start_time": "2022-05-11T12:29:02.011Z"
   },
   {
    "duration": 72,
    "start_time": "2022-05-11T12:29:02.018Z"
   },
   {
    "duration": 3,
    "start_time": "2022-05-11T12:29:02.092Z"
   },
   {
    "duration": 43,
    "start_time": "2022-05-11T12:29:02.096Z"
   },
   {
    "duration": 79,
    "start_time": "2022-05-11T12:29:02.141Z"
   },
   {
    "duration": 3,
    "start_time": "2022-05-11T12:29:02.222Z"
   },
   {
    "duration": 14,
    "start_time": "2022-05-11T12:29:02.227Z"
   },
   {
    "duration": 31,
    "start_time": "2022-05-11T12:29:02.243Z"
   },
   {
    "duration": 52,
    "start_time": "2022-05-11T12:29:02.276Z"
   },
   {
    "duration": 2,
    "start_time": "2022-05-11T12:29:02.330Z"
   },
   {
    "duration": 18,
    "start_time": "2022-05-11T12:29:02.334Z"
   },
   {
    "duration": 32,
    "start_time": "2022-05-11T12:29:02.354Z"
   },
   {
    "duration": 61,
    "start_time": "2022-05-11T12:29:02.388Z"
   },
   {
    "duration": 2,
    "start_time": "2022-05-11T12:29:02.454Z"
   },
   {
    "duration": 30,
    "start_time": "2022-05-11T12:29:02.457Z"
   },
   {
    "duration": 24,
    "start_time": "2022-05-11T12:29:02.489Z"
   },
   {
    "duration": 11,
    "start_time": "2022-05-11T12:29:02.516Z"
   },
   {
    "duration": 19,
    "start_time": "2022-05-11T12:29:02.529Z"
   },
   {
    "duration": 4,
    "start_time": "2022-05-11T12:29:02.550Z"
   },
   {
    "duration": 107,
    "start_time": "2022-05-11T12:29:02.555Z"
   },
   {
    "duration": 4,
    "start_time": "2022-05-11T12:29:02.663Z"
   },
   {
    "duration": 85,
    "start_time": "2022-05-11T12:29:02.669Z"
   },
   {
    "duration": 4,
    "start_time": "2022-05-11T12:29:02.756Z"
   },
   {
    "duration": 78,
    "start_time": "2022-05-11T12:29:02.762Z"
   },
   {
    "duration": 13,
    "start_time": "2022-05-11T12:29:02.842Z"
   },
   {
    "duration": 5,
    "start_time": "2022-05-11T12:29:02.856Z"
   },
   {
    "duration": 14,
    "start_time": "2022-05-11T12:29:02.862Z"
   },
   {
    "duration": 49,
    "start_time": "2022-05-11T12:29:02.878Z"
   },
   {
    "duration": 9,
    "start_time": "2022-05-11T12:29:02.929Z"
   },
   {
    "duration": 15,
    "start_time": "2022-05-11T12:29:02.939Z"
   },
   {
    "duration": 11,
    "start_time": "2022-05-11T12:29:02.956Z"
   },
   {
    "duration": 50,
    "start_time": "2022-05-11T12:29:02.968Z"
   },
   {
    "duration": 4,
    "start_time": "2022-05-11T12:29:03.021Z"
   },
   {
    "duration": 14,
    "start_time": "2022-05-11T12:29:03.027Z"
   },
   {
    "duration": 2,
    "start_time": "2022-05-11T12:29:03.043Z"
   },
   {
    "duration": 73,
    "start_time": "2022-05-11T12:29:03.047Z"
   },
   {
    "duration": 3,
    "start_time": "2022-05-11T12:29:03.123Z"
   },
   {
    "duration": 21,
    "start_time": "2022-05-11T12:29:03.128Z"
   },
   {
    "duration": 380,
    "start_time": "2022-05-11T12:29:03.150Z"
   },
   {
    "duration": 261,
    "start_time": "2022-05-11T12:29:03.532Z"
   },
   {
    "duration": 241,
    "start_time": "2022-05-11T12:29:03.794Z"
   },
   {
    "duration": 351,
    "start_time": "2022-05-11T12:29:04.037Z"
   },
   {
    "duration": 343,
    "start_time": "2022-05-11T12:29:04.390Z"
   },
   {
    "duration": 294,
    "start_time": "2022-05-11T12:29:04.735Z"
   },
   {
    "duration": 10,
    "start_time": "2022-05-11T12:29:05.031Z"
   },
   {
    "duration": 367,
    "start_time": "2022-05-11T12:29:05.043Z"
   },
   {
    "duration": 317,
    "start_time": "2022-05-11T12:29:05.413Z"
   },
   {
    "duration": 3,
    "start_time": "2022-05-11T12:29:05.732Z"
   },
   {
    "duration": 341,
    "start_time": "2022-05-11T12:29:05.737Z"
   },
   {
    "duration": 42,
    "start_time": "2022-05-11T12:29:06.080Z"
   },
   {
    "duration": 7,
    "start_time": "2022-05-11T12:29:06.124Z"
   },
   {
    "duration": 7,
    "start_time": "2022-05-11T12:29:06.132Z"
   },
   {
    "duration": 8,
    "start_time": "2022-05-11T12:29:06.141Z"
   },
   {
    "duration": 8,
    "start_time": "2022-05-11T12:29:06.151Z"
   },
   {
    "duration": 9,
    "start_time": "2022-05-11T12:29:06.160Z"
   },
   {
    "duration": 6,
    "start_time": "2022-05-11T12:29:06.170Z"
   },
   {
    "duration": 32,
    "start_time": "2022-05-11T12:29:06.178Z"
   },
   {
    "duration": 21,
    "start_time": "2022-05-11T12:33:00.507Z"
   },
   {
    "duration": 16,
    "start_time": "2022-05-11T12:34:57.906Z"
   },
   {
    "duration": 71,
    "start_time": "2022-05-11T12:42:02.651Z"
   },
   {
    "duration": 16,
    "start_time": "2022-05-11T12:42:22.069Z"
   },
   {
    "duration": 71,
    "start_time": "2022-05-11T12:51:30.559Z"
   },
   {
    "duration": 14,
    "start_time": "2022-05-11T12:52:59.258Z"
   },
   {
    "duration": 1261,
    "start_time": "2022-05-11T12:55:32.903Z"
   },
   {
    "duration": 1818,
    "start_time": "2022-05-11T12:55:34.166Z"
   },
   {
    "duration": 226,
    "start_time": "2022-05-11T12:55:35.986Z"
   },
   {
    "duration": 110,
    "start_time": "2022-05-11T12:55:36.214Z"
   },
   {
    "duration": 195,
    "start_time": "2022-05-11T12:55:36.327Z"
   },
   {
    "duration": 52,
    "start_time": "2022-05-11T12:55:36.524Z"
   },
   {
    "duration": 142,
    "start_time": "2022-05-11T12:55:36.578Z"
   },
   {
    "duration": 7,
    "start_time": "2022-05-11T12:55:36.721Z"
   },
   {
    "duration": 7,
    "start_time": "2022-05-11T12:55:36.729Z"
   },
   {
    "duration": 6,
    "start_time": "2022-05-11T12:55:36.738Z"
   },
   {
    "duration": 9,
    "start_time": "2022-05-11T12:55:36.747Z"
   },
   {
    "duration": 4,
    "start_time": "2022-05-11T12:55:36.758Z"
   },
   {
    "duration": 88,
    "start_time": "2022-05-11T12:55:36.807Z"
   },
   {
    "duration": 31,
    "start_time": "2022-05-11T12:55:36.911Z"
   },
   {
    "duration": 3,
    "start_time": "2022-05-11T12:55:36.945Z"
   },
   {
    "duration": 111,
    "start_time": "2022-05-11T12:55:36.951Z"
   },
   {
    "duration": 3,
    "start_time": "2022-05-11T12:55:37.064Z"
   },
   {
    "duration": 51,
    "start_time": "2022-05-11T12:55:37.069Z"
   },
   {
    "duration": 66,
    "start_time": "2022-05-11T12:55:37.122Z"
   },
   {
    "duration": 2,
    "start_time": "2022-05-11T12:55:37.207Z"
   },
   {
    "duration": 6,
    "start_time": "2022-05-11T12:55:37.211Z"
   },
   {
    "duration": 23,
    "start_time": "2022-05-11T12:55:37.219Z"
   },
   {
    "duration": 37,
    "start_time": "2022-05-11T12:55:37.245Z"
   },
   {
    "duration": 26,
    "start_time": "2022-05-11T12:55:37.283Z"
   },
   {
    "duration": 5,
    "start_time": "2022-05-11T12:55:37.311Z"
   },
   {
    "duration": 36,
    "start_time": "2022-05-11T12:55:37.318Z"
   },
   {
    "duration": 70,
    "start_time": "2022-05-11T12:55:37.357Z"
   },
   {
    "duration": 4,
    "start_time": "2022-05-11T12:55:37.429Z"
   },
   {
    "duration": 28,
    "start_time": "2022-05-11T12:55:37.435Z"
   },
   {
    "duration": 8,
    "start_time": "2022-05-11T12:55:37.465Z"
   },
   {
    "duration": 41,
    "start_time": "2022-05-11T12:55:37.475Z"
   },
   {
    "duration": 27,
    "start_time": "2022-05-11T12:55:37.518Z"
   },
   {
    "duration": 5,
    "start_time": "2022-05-11T12:55:37.548Z"
   },
   {
    "duration": 91,
    "start_time": "2022-05-11T12:55:37.555Z"
   },
   {
    "duration": 4,
    "start_time": "2022-05-11T12:55:37.648Z"
   },
   {
    "duration": 86,
    "start_time": "2022-05-11T12:55:37.654Z"
   },
   {
    "duration": 5,
    "start_time": "2022-05-11T12:55:37.742Z"
   },
   {
    "duration": 77,
    "start_time": "2022-05-11T12:55:37.748Z"
   },
   {
    "duration": 13,
    "start_time": "2022-05-11T12:55:37.827Z"
   },
   {
    "duration": 5,
    "start_time": "2022-05-11T12:55:37.843Z"
   },
   {
    "duration": 14,
    "start_time": "2022-05-11T12:55:37.852Z"
   },
   {
    "duration": 61,
    "start_time": "2022-05-11T12:55:37.868Z"
   },
   {
    "duration": 9,
    "start_time": "2022-05-11T12:55:37.933Z"
   },
   {
    "duration": 17,
    "start_time": "2022-05-11T12:55:37.945Z"
   },
   {
    "duration": 12,
    "start_time": "2022-05-11T12:55:37.964Z"
   },
   {
    "duration": 42,
    "start_time": "2022-05-11T12:55:37.978Z"
   },
   {
    "duration": 3,
    "start_time": "2022-05-11T12:55:38.021Z"
   },
   {
    "duration": 17,
    "start_time": "2022-05-11T12:55:38.027Z"
   },
   {
    "duration": 3,
    "start_time": "2022-05-11T12:55:38.046Z"
   },
   {
    "duration": 80,
    "start_time": "2022-05-11T12:55:38.051Z"
   },
   {
    "duration": 3,
    "start_time": "2022-05-11T12:55:38.133Z"
   },
   {
    "duration": 30,
    "start_time": "2022-05-11T12:55:38.138Z"
   },
   {
    "duration": 350,
    "start_time": "2022-05-11T12:55:38.170Z"
   },
   {
    "duration": 257,
    "start_time": "2022-05-11T12:55:38.522Z"
   },
   {
    "duration": 225,
    "start_time": "2022-05-11T12:55:38.781Z"
   },
   {
    "duration": 339,
    "start_time": "2022-05-11T12:55:39.008Z"
   },
   {
    "duration": 332,
    "start_time": "2022-05-11T12:55:39.350Z"
   },
   {
    "duration": 413,
    "start_time": "2022-05-11T12:55:39.684Z"
   },
   {
    "duration": 21,
    "start_time": "2022-05-11T12:55:40.100Z"
   },
   {
    "duration": 605,
    "start_time": "2022-05-11T12:55:40.126Z"
   },
   {
    "duration": 482,
    "start_time": "2022-05-11T12:55:40.733Z"
   },
   {
    "duration": 3,
    "start_time": "2022-05-11T12:55:41.218Z"
   },
   {
    "duration": 546,
    "start_time": "2022-05-11T12:55:41.224Z"
   },
   {
    "duration": 8,
    "start_time": "2022-05-11T12:55:41.772Z"
   },
   {
    "duration": 151,
    "start_time": "2022-05-11T12:55:41.783Z"
   },
   {
    "duration": 6,
    "start_time": "2022-05-11T12:55:41.936Z"
   },
   {
    "duration": 128,
    "start_time": "2022-05-11T12:59:15.908Z"
   },
   {
    "duration": 16,
    "start_time": "2022-05-11T12:59:30.163Z"
   },
   {
    "duration": 18,
    "start_time": "2022-05-11T13:01:45.444Z"
   },
   {
    "duration": 20,
    "start_time": "2022-05-11T13:02:19.122Z"
   },
   {
    "duration": 12,
    "start_time": "2022-05-11T13:03:30.291Z"
   },
   {
    "duration": 9,
    "start_time": "2022-05-11T13:03:57.448Z"
   },
   {
    "duration": 7,
    "start_time": "2022-05-11T13:04:17.609Z"
   },
   {
    "duration": 12,
    "start_time": "2022-05-11T13:04:29.855Z"
   },
   {
    "duration": 14,
    "start_time": "2022-05-11T13:08:16.110Z"
   },
   {
    "duration": 15,
    "start_time": "2022-05-11T13:15:00.929Z"
   },
   {
    "duration": 12,
    "start_time": "2022-05-11T13:15:03.716Z"
   },
   {
    "duration": 16,
    "start_time": "2022-05-11T13:16:03.787Z"
   },
   {
    "duration": 16,
    "start_time": "2022-05-11T13:16:06.634Z"
   },
   {
    "duration": 15,
    "start_time": "2022-05-11T13:18:41.067Z"
   },
   {
    "duration": 17,
    "start_time": "2022-05-11T13:18:50.045Z"
   },
   {
    "duration": 1356,
    "start_time": "2022-05-11T15:46:49.918Z"
   },
   {
    "duration": 59,
    "start_time": "2022-05-11T15:46:51.277Z"
   },
   {
    "duration": 216,
    "start_time": "2022-05-11T15:46:51.338Z"
   },
   {
    "duration": 116,
    "start_time": "2022-05-11T15:46:51.556Z"
   },
   {
    "duration": 194,
    "start_time": "2022-05-11T15:46:51.673Z"
   },
   {
    "duration": 57,
    "start_time": "2022-05-11T15:46:51.869Z"
   },
   {
    "duration": 90,
    "start_time": "2022-05-11T15:46:51.928Z"
   },
   {
    "duration": 6,
    "start_time": "2022-05-11T15:46:52.019Z"
   },
   {
    "duration": 7,
    "start_time": "2022-05-11T15:46:52.026Z"
   },
   {
    "duration": 4,
    "start_time": "2022-05-11T15:46:52.035Z"
   },
   {
    "duration": 6,
    "start_time": "2022-05-11T15:46:52.041Z"
   },
   {
    "duration": 3,
    "start_time": "2022-05-11T15:46:52.049Z"
   },
   {
    "duration": 120,
    "start_time": "2022-05-11T15:46:52.053Z"
   },
   {
    "duration": 21,
    "start_time": "2022-05-11T15:46:52.175Z"
   },
   {
    "duration": 9,
    "start_time": "2022-05-11T15:46:52.198Z"
   },
   {
    "duration": 47,
    "start_time": "2022-05-11T15:46:52.209Z"
   },
   {
    "duration": 2,
    "start_time": "2022-05-11T15:46:52.258Z"
   },
   {
    "duration": 54,
    "start_time": "2022-05-11T15:46:52.262Z"
   },
   {
    "duration": 63,
    "start_time": "2022-05-11T15:46:52.318Z"
   },
   {
    "duration": 3,
    "start_time": "2022-05-11T15:46:52.382Z"
   },
   {
    "duration": 6,
    "start_time": "2022-05-11T15:46:52.386Z"
   },
   {
    "duration": 23,
    "start_time": "2022-05-11T15:46:52.408Z"
   },
   {
    "duration": 35,
    "start_time": "2022-05-11T15:46:52.433Z"
   },
   {
    "duration": 2,
    "start_time": "2022-05-11T15:46:52.469Z"
   },
   {
    "duration": 4,
    "start_time": "2022-05-11T15:46:52.473Z"
   },
   {
    "duration": 47,
    "start_time": "2022-05-11T15:46:52.479Z"
   },
   {
    "duration": 43,
    "start_time": "2022-05-11T15:46:52.528Z"
   },
   {
    "duration": 2,
    "start_time": "2022-05-11T15:46:52.575Z"
   },
   {
    "duration": 47,
    "start_time": "2022-05-11T15:46:52.579Z"
   },
   {
    "duration": 6,
    "start_time": "2022-05-11T15:46:52.628Z"
   },
   {
    "duration": 14,
    "start_time": "2022-05-11T15:46:52.635Z"
   },
   {
    "duration": 19,
    "start_time": "2022-05-11T15:46:52.650Z"
   },
   {
    "duration": 3,
    "start_time": "2022-05-11T15:46:52.671Z"
   },
   {
    "duration": 77,
    "start_time": "2022-05-11T15:46:52.676Z"
   },
   {
    "duration": 4,
    "start_time": "2022-05-11T15:46:52.754Z"
   },
   {
    "duration": 66,
    "start_time": "2022-05-11T15:46:52.760Z"
   },
   {
    "duration": 4,
    "start_time": "2022-05-11T15:46:52.828Z"
   },
   {
    "duration": 73,
    "start_time": "2022-05-11T15:46:52.834Z"
   },
   {
    "duration": 11,
    "start_time": "2022-05-11T15:46:52.909Z"
   },
   {
    "duration": 4,
    "start_time": "2022-05-11T15:46:52.922Z"
   },
   {
    "duration": 12,
    "start_time": "2022-05-11T15:46:52.927Z"
   },
   {
    "duration": 14,
    "start_time": "2022-05-11T15:46:52.940Z"
   },
   {
    "duration": 8,
    "start_time": "2022-05-11T15:46:52.955Z"
   },
   {
    "duration": 49,
    "start_time": "2022-05-11T15:46:52.964Z"
   },
   {
    "duration": 11,
    "start_time": "2022-05-11T15:46:53.015Z"
   },
   {
    "duration": 9,
    "start_time": "2022-05-11T15:46:53.028Z"
   },
   {
    "duration": 3,
    "start_time": "2022-05-11T15:46:53.039Z"
   },
   {
    "duration": 12,
    "start_time": "2022-05-11T15:46:53.044Z"
   },
   {
    "duration": 3,
    "start_time": "2022-05-11T15:46:53.057Z"
   },
   {
    "duration": 74,
    "start_time": "2022-05-11T15:46:53.061Z"
   },
   {
    "duration": 3,
    "start_time": "2022-05-11T15:46:53.137Z"
   },
   {
    "duration": 28,
    "start_time": "2022-05-11T15:46:53.142Z"
   },
   {
    "duration": 323,
    "start_time": "2022-05-11T15:46:53.172Z"
   },
   {
    "duration": 236,
    "start_time": "2022-05-11T15:46:53.497Z"
   },
   {
    "duration": 207,
    "start_time": "2022-05-11T15:46:53.735Z"
   },
   {
    "duration": 318,
    "start_time": "2022-05-11T15:46:53.943Z"
   },
   {
    "duration": 316,
    "start_time": "2022-05-11T15:46:54.262Z"
   },
   {
    "duration": 265,
    "start_time": "2022-05-11T15:46:54.579Z"
   },
   {
    "duration": 10,
    "start_time": "2022-05-11T15:46:54.846Z"
   },
   {
    "duration": 326,
    "start_time": "2022-05-11T15:46:54.858Z"
   },
   {
    "duration": 280,
    "start_time": "2022-05-11T15:46:55.185Z"
   },
   {
    "duration": 3,
    "start_time": "2022-05-11T15:46:55.466Z"
   },
   {
    "duration": 296,
    "start_time": "2022-05-11T15:46:55.470Z"
   },
   {
    "duration": 5,
    "start_time": "2022-05-11T15:46:55.769Z"
   },
   {
    "duration": 86,
    "start_time": "2022-05-11T15:46:55.776Z"
   },
   {
    "duration": 13,
    "start_time": "2022-05-11T15:46:55.865Z"
   },
   {
    "duration": 29,
    "start_time": "2022-05-11T15:46:55.879Z"
   },
   {
    "duration": 23,
    "start_time": "2022-05-11T15:47:59.150Z"
   },
   {
    "duration": 16,
    "start_time": "2022-05-11T15:48:06.902Z"
   },
   {
    "duration": 25,
    "start_time": "2022-05-11T15:51:50.168Z"
   },
   {
    "duration": 23,
    "start_time": "2022-05-11T15:52:25.185Z"
   },
   {
    "duration": 24,
    "start_time": "2022-05-11T15:52:45.393Z"
   },
   {
    "duration": 24,
    "start_time": "2022-05-11T15:52:59.219Z"
   },
   {
    "duration": 68,
    "start_time": "2022-05-11T15:53:26.466Z"
   },
   {
    "duration": 298,
    "start_time": "2022-05-11T15:53:28.522Z"
   },
   {
    "duration": 122,
    "start_time": "2022-05-11T15:53:49.354Z"
   },
   {
    "duration": 7,
    "start_time": "2022-05-11T15:53:52.970Z"
   },
   {
    "duration": 6,
    "start_time": "2022-05-11T15:54:34.121Z"
   },
   {
    "duration": 18,
    "start_time": "2022-05-11T15:56:07.063Z"
   },
   {
    "duration": 17,
    "start_time": "2022-05-11T15:56:41.344Z"
   },
   {
    "duration": 1178,
    "start_time": "2022-05-11T15:56:47.184Z"
   },
   {
    "duration": 50,
    "start_time": "2022-05-11T15:56:48.364Z"
   },
   {
    "duration": 207,
    "start_time": "2022-05-11T15:56:48.416Z"
   },
   {
    "duration": 104,
    "start_time": "2022-05-11T15:56:48.625Z"
   },
   {
    "duration": 188,
    "start_time": "2022-05-11T15:56:48.731Z"
   },
   {
    "duration": 47,
    "start_time": "2022-05-11T15:56:48.921Z"
   },
   {
    "duration": 97,
    "start_time": "2022-05-11T15:56:48.970Z"
   },
   {
    "duration": 6,
    "start_time": "2022-05-11T15:56:49.069Z"
   },
   {
    "duration": 7,
    "start_time": "2022-05-11T15:56:49.076Z"
   },
   {
    "duration": 22,
    "start_time": "2022-05-11T15:56:49.086Z"
   },
   {
    "duration": 6,
    "start_time": "2022-05-11T15:56:49.110Z"
   },
   {
    "duration": 3,
    "start_time": "2022-05-11T15:56:49.118Z"
   },
   {
    "duration": 102,
    "start_time": "2022-05-11T15:56:49.122Z"
   },
   {
    "duration": 23,
    "start_time": "2022-05-11T15:56:49.226Z"
   },
   {
    "duration": 4,
    "start_time": "2022-05-11T15:56:49.251Z"
   },
   {
    "duration": 69,
    "start_time": "2022-05-11T15:56:49.257Z"
   },
   {
    "duration": 3,
    "start_time": "2022-05-11T15:56:49.328Z"
   },
   {
    "duration": 35,
    "start_time": "2022-05-11T15:56:49.333Z"
   },
   {
    "duration": 86,
    "start_time": "2022-05-11T15:56:49.370Z"
   },
   {
    "duration": 3,
    "start_time": "2022-05-11T15:56:49.457Z"
   },
   {
    "duration": 6,
    "start_time": "2022-05-11T15:56:49.461Z"
   },
   {
    "duration": 22,
    "start_time": "2022-05-11T15:56:49.469Z"
   },
   {
    "duration": 49,
    "start_time": "2022-05-11T15:56:49.493Z"
   },
   {
    "duration": 3,
    "start_time": "2022-05-11T15:56:49.543Z"
   },
   {
    "duration": 5,
    "start_time": "2022-05-11T15:56:49.547Z"
   },
   {
    "duration": 28,
    "start_time": "2022-05-11T15:56:49.553Z"
   },
   {
    "duration": 63,
    "start_time": "2022-05-11T15:56:49.582Z"
   },
   {
    "duration": 2,
    "start_time": "2022-05-11T15:56:49.650Z"
   },
   {
    "duration": 29,
    "start_time": "2022-05-11T15:56:49.653Z"
   },
   {
    "duration": 24,
    "start_time": "2022-05-11T15:56:49.684Z"
   },
   {
    "duration": 7,
    "start_time": "2022-05-11T15:56:49.710Z"
   },
   {
    "duration": 19,
    "start_time": "2022-05-11T15:56:49.719Z"
   },
   {
    "duration": 4,
    "start_time": "2022-05-11T15:56:49.739Z"
   },
   {
    "duration": 84,
    "start_time": "2022-05-11T15:56:49.745Z"
   },
   {
    "duration": 4,
    "start_time": "2022-05-11T15:56:49.830Z"
   },
   {
    "duration": 57,
    "start_time": "2022-05-11T15:56:49.836Z"
   },
   {
    "duration": 4,
    "start_time": "2022-05-11T15:56:49.908Z"
   },
   {
    "duration": 63,
    "start_time": "2022-05-11T15:56:49.914Z"
   },
   {
    "duration": 12,
    "start_time": "2022-05-11T15:56:49.978Z"
   },
   {
    "duration": 19,
    "start_time": "2022-05-11T15:56:49.992Z"
   },
   {
    "duration": 13,
    "start_time": "2022-05-11T15:56:50.013Z"
   },
   {
    "duration": 16,
    "start_time": "2022-05-11T15:56:50.028Z"
   },
   {
    "duration": 9,
    "start_time": "2022-05-11T15:56:50.046Z"
   },
   {
    "duration": 52,
    "start_time": "2022-05-11T15:56:50.057Z"
   },
   {
    "duration": 12,
    "start_time": "2022-05-11T15:56:50.111Z"
   },
   {
    "duration": 17,
    "start_time": "2022-05-11T15:56:50.125Z"
   },
   {
    "duration": 3,
    "start_time": "2022-05-11T15:56:50.144Z"
   },
   {
    "duration": 15,
    "start_time": "2022-05-11T15:56:50.149Z"
   },
   {
    "duration": 3,
    "start_time": "2022-05-11T15:56:50.166Z"
   },
   {
    "duration": 65,
    "start_time": "2022-05-11T15:56:50.170Z"
   },
   {
    "duration": 2,
    "start_time": "2022-05-11T15:56:50.237Z"
   },
   {
    "duration": 19,
    "start_time": "2022-05-11T15:56:50.241Z"
   },
   {
    "duration": 333,
    "start_time": "2022-05-11T15:56:50.261Z"
   },
   {
    "duration": 224,
    "start_time": "2022-05-11T15:56:50.595Z"
   },
   {
    "duration": 205,
    "start_time": "2022-05-11T15:56:50.821Z"
   },
   {
    "duration": 318,
    "start_time": "2022-05-11T15:56:51.028Z"
   },
   {
    "duration": 299,
    "start_time": "2022-05-11T15:56:51.347Z"
   },
   {
    "duration": 255,
    "start_time": "2022-05-11T15:56:51.647Z"
   },
   {
    "duration": 10,
    "start_time": "2022-05-11T15:56:51.906Z"
   },
   {
    "duration": 323,
    "start_time": "2022-05-11T15:56:51.918Z"
   },
   {
    "duration": 285,
    "start_time": "2022-05-11T15:56:52.243Z"
   },
   {
    "duration": 2,
    "start_time": "2022-05-11T15:56:52.529Z"
   },
   {
    "duration": 292,
    "start_time": "2022-05-11T15:56:52.533Z"
   },
   {
    "duration": 4,
    "start_time": "2022-05-11T15:56:52.827Z"
   },
   {
    "duration": 86,
    "start_time": "2022-05-11T15:56:52.833Z"
   },
   {
    "duration": 13,
    "start_time": "2022-05-11T15:56:52.920Z"
   },
   {
    "duration": 14,
    "start_time": "2022-05-11T15:56:52.935Z"
   },
   {
    "duration": 16,
    "start_time": "2022-05-11T15:56:52.951Z"
   },
   {
    "duration": 120,
    "start_time": "2022-05-11T15:56:52.969Z"
   },
   {
    "duration": 0,
    "start_time": "2022-05-11T15:56:53.092Z"
   },
   {
    "duration": 17,
    "start_time": "2022-05-11T15:56:57.995Z"
   },
   {
    "duration": 10,
    "start_time": "2022-05-11T15:57:47.076Z"
   },
   {
    "duration": 1330,
    "start_time": "2022-05-11T15:58:19.488Z"
   },
   {
    "duration": 55,
    "start_time": "2022-05-11T15:58:20.820Z"
   },
   {
    "duration": 213,
    "start_time": "2022-05-11T15:58:20.876Z"
   },
   {
    "duration": 116,
    "start_time": "2022-05-11T15:58:21.091Z"
   },
   {
    "duration": 211,
    "start_time": "2022-05-11T15:58:21.209Z"
   },
   {
    "duration": 47,
    "start_time": "2022-05-11T15:58:21.423Z"
   },
   {
    "duration": 94,
    "start_time": "2022-05-11T15:58:21.472Z"
   },
   {
    "duration": 5,
    "start_time": "2022-05-11T15:58:21.568Z"
   },
   {
    "duration": 12,
    "start_time": "2022-05-11T15:58:21.575Z"
   },
   {
    "duration": 21,
    "start_time": "2022-05-11T15:58:21.590Z"
   },
   {
    "duration": 6,
    "start_time": "2022-05-11T15:58:21.613Z"
   },
   {
    "duration": 3,
    "start_time": "2022-05-11T15:58:21.621Z"
   },
   {
    "duration": 109,
    "start_time": "2022-05-11T15:58:21.625Z"
   },
   {
    "duration": 23,
    "start_time": "2022-05-11T15:58:21.735Z"
   },
   {
    "duration": 2,
    "start_time": "2022-05-11T15:58:21.760Z"
   },
   {
    "duration": 66,
    "start_time": "2022-05-11T15:58:21.764Z"
   },
   {
    "duration": 2,
    "start_time": "2022-05-11T15:58:21.832Z"
   },
   {
    "duration": 33,
    "start_time": "2022-05-11T15:58:21.836Z"
   },
   {
    "duration": 88,
    "start_time": "2022-05-11T15:58:21.871Z"
   },
   {
    "duration": 2,
    "start_time": "2022-05-11T15:58:21.961Z"
   },
   {
    "duration": 4,
    "start_time": "2022-05-11T15:58:21.965Z"
   },
   {
    "duration": 39,
    "start_time": "2022-05-11T15:58:21.971Z"
   },
   {
    "duration": 37,
    "start_time": "2022-05-11T15:58:22.013Z"
   },
   {
    "duration": 2,
    "start_time": "2022-05-11T15:58:22.053Z"
   },
   {
    "duration": 6,
    "start_time": "2022-05-11T15:58:22.057Z"
   },
   {
    "duration": 50,
    "start_time": "2022-05-11T15:58:22.064Z"
   },
   {
    "duration": 43,
    "start_time": "2022-05-11T15:58:22.117Z"
   },
   {
    "duration": 3,
    "start_time": "2022-05-11T15:58:22.164Z"
   },
   {
    "duration": 62,
    "start_time": "2022-05-11T15:58:22.169Z"
   },
   {
    "duration": 6,
    "start_time": "2022-05-11T15:58:22.234Z"
   },
   {
    "duration": 9,
    "start_time": "2022-05-11T15:58:22.241Z"
   },
   {
    "duration": 20,
    "start_time": "2022-05-11T15:58:22.251Z"
   },
   {
    "duration": 4,
    "start_time": "2022-05-11T15:58:22.273Z"
   },
   {
    "duration": 59,
    "start_time": "2022-05-11T15:58:22.307Z"
   },
   {
    "duration": 4,
    "start_time": "2022-05-11T15:58:22.368Z"
   },
   {
    "duration": 78,
    "start_time": "2022-05-11T15:58:22.374Z"
   },
   {
    "duration": 4,
    "start_time": "2022-05-11T15:58:22.454Z"
   },
   {
    "duration": 73,
    "start_time": "2022-05-11T15:58:22.460Z"
   },
   {
    "duration": 14,
    "start_time": "2022-05-11T15:58:22.535Z"
   },
   {
    "duration": 8,
    "start_time": "2022-05-11T15:58:22.550Z"
   },
   {
    "duration": 13,
    "start_time": "2022-05-11T15:58:22.560Z"
   },
   {
    "duration": 42,
    "start_time": "2022-05-11T15:58:22.575Z"
   },
   {
    "duration": 9,
    "start_time": "2022-05-11T15:58:22.619Z"
   },
   {
    "duration": 14,
    "start_time": "2022-05-11T15:58:22.631Z"
   },
   {
    "duration": 20,
    "start_time": "2022-05-11T15:58:22.647Z"
   },
   {
    "duration": 39,
    "start_time": "2022-05-11T15:58:22.669Z"
   },
   {
    "duration": 3,
    "start_time": "2022-05-11T15:58:22.710Z"
   },
   {
    "duration": 14,
    "start_time": "2022-05-11T15:58:22.715Z"
   },
   {
    "duration": 2,
    "start_time": "2022-05-11T15:58:22.731Z"
   },
   {
    "duration": 32,
    "start_time": "2022-05-11T15:58:22.735Z"
   },
   {
    "duration": 3,
    "start_time": "2022-05-11T15:58:22.769Z"
   },
   {
    "duration": 53,
    "start_time": "2022-05-11T15:58:22.773Z"
   },
   {
    "duration": 357,
    "start_time": "2022-05-11T15:58:22.828Z"
   },
   {
    "duration": 254,
    "start_time": "2022-05-11T15:58:23.188Z"
   },
   {
    "duration": 227,
    "start_time": "2022-05-11T15:58:23.444Z"
   },
   {
    "duration": 348,
    "start_time": "2022-05-11T15:58:23.673Z"
   },
   {
    "duration": 317,
    "start_time": "2022-05-11T15:58:24.023Z"
   },
   {
    "duration": 266,
    "start_time": "2022-05-11T15:58:24.341Z"
   },
   {
    "duration": 10,
    "start_time": "2022-05-11T15:58:24.609Z"
   },
   {
    "duration": 333,
    "start_time": "2022-05-11T15:58:24.620Z"
   },
   {
    "duration": 293,
    "start_time": "2022-05-11T15:58:24.954Z"
   },
   {
    "duration": 3,
    "start_time": "2022-05-11T15:58:25.248Z"
   },
   {
    "duration": 300,
    "start_time": "2022-05-11T15:58:25.252Z"
   },
   {
    "duration": 5,
    "start_time": "2022-05-11T15:58:25.553Z"
   },
   {
    "duration": 88,
    "start_time": "2022-05-11T15:58:25.560Z"
   },
   {
    "duration": 12,
    "start_time": "2022-05-11T15:58:25.649Z"
   },
   {
    "duration": 13,
    "start_time": "2022-05-11T15:58:25.662Z"
   },
   {
    "duration": 40,
    "start_time": "2022-05-11T15:58:25.677Z"
   },
   {
    "duration": 17,
    "start_time": "2022-05-11T15:58:25.719Z"
   },
   {
    "duration": 10,
    "start_time": "2022-05-11T15:58:25.738Z"
   },
   {
    "duration": 25,
    "start_time": "2022-05-11T15:59:13.123Z"
   },
   {
    "duration": 18,
    "start_time": "2022-05-11T15:59:32.297Z"
   },
   {
    "duration": 2,
    "start_time": "2022-05-11T16:04:24.281Z"
   },
   {
    "duration": 2,
    "start_time": "2022-05-11T16:04:28.451Z"
   },
   {
    "duration": 2,
    "start_time": "2022-05-11T16:04:32.020Z"
   },
   {
    "duration": 11,
    "start_time": "2022-05-11T16:05:23.721Z"
   },
   {
    "duration": 9,
    "start_time": "2022-05-11T16:13:53.641Z"
   },
   {
    "duration": 17,
    "start_time": "2022-05-11T16:14:25.950Z"
   },
   {
    "duration": 17,
    "start_time": "2022-05-11T16:14:27.779Z"
   },
   {
    "duration": 10,
    "start_time": "2022-05-11T16:14:39.477Z"
   },
   {
    "duration": 13,
    "start_time": "2022-05-11T16:15:03.508Z"
   },
   {
    "duration": 11,
    "start_time": "2022-05-11T16:15:21.154Z"
   },
   {
    "duration": 10,
    "start_time": "2022-05-11T16:16:29.873Z"
   },
   {
    "duration": 79,
    "start_time": "2022-05-11T16:20:30.293Z"
   },
   {
    "duration": 114,
    "start_time": "2022-05-11T16:21:14.817Z"
   },
   {
    "duration": 3,
    "start_time": "2022-05-11T16:21:54.961Z"
   },
   {
    "duration": 33,
    "start_time": "2022-05-11T16:21:56.351Z"
   },
   {
    "duration": 268,
    "start_time": "2022-05-11T16:22:28.945Z"
   },
   {
    "duration": 19,
    "start_time": "2022-05-11T16:23:16.663Z"
   },
   {
    "duration": 72,
    "start_time": "2022-05-11T16:23:44.999Z"
   },
   {
    "duration": 7,
    "start_time": "2022-05-11T16:23:50.053Z"
   },
   {
    "duration": 13,
    "start_time": "2022-05-11T16:24:30.575Z"
   },
   {
    "duration": 1144,
    "start_time": "2022-05-11T16:44:33.854Z"
   },
   {
    "duration": 50,
    "start_time": "2022-05-11T16:44:35.000Z"
   },
   {
    "duration": 229,
    "start_time": "2022-05-11T16:44:35.052Z"
   },
   {
    "duration": 114,
    "start_time": "2022-05-11T16:44:35.284Z"
   },
   {
    "duration": 189,
    "start_time": "2022-05-11T16:44:35.407Z"
   },
   {
    "duration": 47,
    "start_time": "2022-05-11T16:44:35.606Z"
   },
   {
    "duration": 107,
    "start_time": "2022-05-11T16:44:35.654Z"
   },
   {
    "duration": 5,
    "start_time": "2022-05-11T16:44:35.763Z"
   },
   {
    "duration": 8,
    "start_time": "2022-05-11T16:44:35.770Z"
   },
   {
    "duration": 5,
    "start_time": "2022-05-11T16:44:35.781Z"
   },
   {
    "duration": 29,
    "start_time": "2022-05-11T16:44:35.787Z"
   },
   {
    "duration": 8,
    "start_time": "2022-05-11T16:44:35.818Z"
   },
   {
    "duration": 101,
    "start_time": "2022-05-11T16:44:35.828Z"
   },
   {
    "duration": 24,
    "start_time": "2022-05-11T16:44:35.930Z"
   },
   {
    "duration": 5,
    "start_time": "2022-05-11T16:44:35.956Z"
   },
   {
    "duration": 74,
    "start_time": "2022-05-11T16:44:35.962Z"
   },
   {
    "duration": 2,
    "start_time": "2022-05-11T16:44:36.038Z"
   },
   {
    "duration": 39,
    "start_time": "2022-05-11T16:44:36.042Z"
   },
   {
    "duration": 91,
    "start_time": "2022-05-11T16:44:36.084Z"
   },
   {
    "duration": 3,
    "start_time": "2022-05-11T16:44:36.176Z"
   },
   {
    "duration": 9,
    "start_time": "2022-05-11T16:44:36.181Z"
   },
   {
    "duration": 24,
    "start_time": "2022-05-11T16:44:36.206Z"
   },
   {
    "duration": 41,
    "start_time": "2022-05-11T16:44:36.232Z"
   },
   {
    "duration": 3,
    "start_time": "2022-05-11T16:44:36.275Z"
   },
   {
    "duration": 3,
    "start_time": "2022-05-11T16:44:36.308Z"
   },
   {
    "duration": 38,
    "start_time": "2022-05-11T16:44:36.313Z"
   },
   {
    "duration": 67,
    "start_time": "2022-05-11T16:44:36.353Z"
   },
   {
    "duration": 3,
    "start_time": "2022-05-11T16:44:36.426Z"
   },
   {
    "duration": 32,
    "start_time": "2022-05-11T16:44:36.431Z"
   },
   {
    "duration": 8,
    "start_time": "2022-05-11T16:44:36.464Z"
   },
   {
    "duration": 35,
    "start_time": "2022-05-11T16:44:36.474Z"
   },
   {
    "duration": 28,
    "start_time": "2022-05-11T16:44:36.511Z"
   },
   {
    "duration": 7,
    "start_time": "2022-05-11T16:44:36.541Z"
   },
   {
    "duration": 93,
    "start_time": "2022-05-11T16:44:36.550Z"
   },
   {
    "duration": 4,
    "start_time": "2022-05-11T16:44:36.645Z"
   },
   {
    "duration": 79,
    "start_time": "2022-05-11T16:44:36.652Z"
   },
   {
    "duration": 4,
    "start_time": "2022-05-11T16:44:36.732Z"
   },
   {
    "duration": 83,
    "start_time": "2022-05-11T16:44:36.738Z"
   },
   {
    "duration": 13,
    "start_time": "2022-05-11T16:44:36.824Z"
   },
   {
    "duration": 9,
    "start_time": "2022-05-11T16:44:36.839Z"
   },
   {
    "duration": 12,
    "start_time": "2022-05-11T16:44:36.849Z"
   },
   {
    "duration": 45,
    "start_time": "2022-05-11T16:44:36.863Z"
   },
   {
    "duration": 9,
    "start_time": "2022-05-11T16:44:36.910Z"
   },
   {
    "duration": 15,
    "start_time": "2022-05-11T16:44:36.920Z"
   },
   {
    "duration": 11,
    "start_time": "2022-05-11T16:44:36.937Z"
   },
   {
    "duration": 15,
    "start_time": "2022-05-11T16:44:36.949Z"
   },
   {
    "duration": 43,
    "start_time": "2022-05-11T16:44:36.966Z"
   },
   {
    "duration": 13,
    "start_time": "2022-05-11T16:44:37.011Z"
   },
   {
    "duration": 3,
    "start_time": "2022-05-11T16:44:37.026Z"
   },
   {
    "duration": 33,
    "start_time": "2022-05-11T16:44:37.031Z"
   },
   {
    "duration": 3,
    "start_time": "2022-05-11T16:44:37.066Z"
   },
   {
    "duration": 51,
    "start_time": "2022-05-11T16:44:37.072Z"
   },
   {
    "duration": 372,
    "start_time": "2022-05-11T16:44:37.125Z"
   },
   {
    "duration": 268,
    "start_time": "2022-05-11T16:44:37.506Z"
   },
   {
    "duration": 217,
    "start_time": "2022-05-11T16:44:37.777Z"
   },
   {
    "duration": 342,
    "start_time": "2022-05-11T16:44:37.996Z"
   },
   {
    "duration": 327,
    "start_time": "2022-05-11T16:44:38.340Z"
   },
   {
    "duration": 266,
    "start_time": "2022-05-11T16:44:38.669Z"
   },
   {
    "duration": 11,
    "start_time": "2022-05-11T16:44:38.937Z"
   },
   {
    "duration": 341,
    "start_time": "2022-05-11T16:44:38.949Z"
   },
   {
    "duration": 318,
    "start_time": "2022-05-11T16:44:39.292Z"
   },
   {
    "duration": 2,
    "start_time": "2022-05-11T16:44:39.612Z"
   },
   {
    "duration": 336,
    "start_time": "2022-05-11T16:44:39.615Z"
   },
   {
    "duration": 5,
    "start_time": "2022-05-11T16:44:39.953Z"
   },
   {
    "duration": 91,
    "start_time": "2022-05-11T16:44:39.960Z"
   },
   {
    "duration": 19,
    "start_time": "2022-05-11T16:44:40.054Z"
   },
   {
    "duration": 34,
    "start_time": "2022-05-11T16:44:40.075Z"
   },
   {
    "duration": 16,
    "start_time": "2022-05-11T16:44:40.112Z"
   },
   {
    "duration": 3,
    "start_time": "2022-05-11T16:44:40.129Z"
   },
   {
    "duration": 15,
    "start_time": "2022-05-11T16:44:40.134Z"
   },
   {
    "duration": 2377,
    "start_time": "2022-05-12T12:05:22.875Z"
   },
   {
    "duration": 94,
    "start_time": "2022-05-12T12:05:25.256Z"
   },
   {
    "duration": 418,
    "start_time": "2022-05-12T12:05:25.354Z"
   },
   {
    "duration": 217,
    "start_time": "2022-05-12T12:05:25.784Z"
   },
   {
    "duration": 329,
    "start_time": "2022-05-12T12:05:26.004Z"
   },
   {
    "duration": 110,
    "start_time": "2022-05-12T12:05:26.336Z"
   },
   {
    "duration": 154,
    "start_time": "2022-05-12T12:05:26.450Z"
   },
   {
    "duration": 16,
    "start_time": "2022-05-12T12:05:26.606Z"
   },
   {
    "duration": 11,
    "start_time": "2022-05-12T12:05:26.625Z"
   },
   {
    "duration": 16,
    "start_time": "2022-05-12T12:05:26.641Z"
   },
   {
    "duration": 13,
    "start_time": "2022-05-12T12:05:26.683Z"
   },
   {
    "duration": 8,
    "start_time": "2022-05-12T12:05:26.699Z"
   },
   {
    "duration": 264,
    "start_time": "2022-05-12T12:05:26.710Z"
   },
   {
    "duration": 96,
    "start_time": "2022-05-12T12:05:26.977Z"
   },
   {
    "duration": 59,
    "start_time": "2022-05-12T12:05:27.086Z"
   },
   {
    "duration": 110,
    "start_time": "2022-05-12T12:05:27.153Z"
   },
   {
    "duration": 16,
    "start_time": "2022-05-12T12:05:27.266Z"
   },
   {
    "duration": 51,
    "start_time": "2022-05-12T12:05:27.293Z"
   },
   {
    "duration": 141,
    "start_time": "2022-05-12T12:05:27.347Z"
   },
   {
    "duration": 8,
    "start_time": "2022-05-12T12:05:27.494Z"
   },
   {
    "duration": 5,
    "start_time": "2022-05-12T12:05:27.504Z"
   },
   {
    "duration": 50,
    "start_time": "2022-05-12T12:05:27.516Z"
   },
   {
    "duration": 82,
    "start_time": "2022-05-12T12:05:27.569Z"
   },
   {
    "duration": 3,
    "start_time": "2022-05-12T12:05:27.654Z"
   },
   {
    "duration": 23,
    "start_time": "2022-05-12T12:05:27.660Z"
   },
   {
    "duration": 59,
    "start_time": "2022-05-12T12:05:27.686Z"
   },
   {
    "duration": 87,
    "start_time": "2022-05-12T12:05:27.747Z"
   },
   {
    "duration": 7,
    "start_time": "2022-05-12T12:05:27.842Z"
   },
   {
    "duration": 69,
    "start_time": "2022-05-12T12:05:27.852Z"
   },
   {
    "duration": 12,
    "start_time": "2022-05-12T12:05:27.923Z"
   },
   {
    "duration": 22,
    "start_time": "2022-05-12T12:05:27.937Z"
   },
   {
    "duration": 41,
    "start_time": "2022-05-12T12:05:27.981Z"
   },
   {
    "duration": 7,
    "start_time": "2022-05-12T12:05:28.025Z"
   },
   {
    "duration": 179,
    "start_time": "2022-05-12T12:05:28.035Z"
   },
   {
    "duration": 9,
    "start_time": "2022-05-12T12:05:28.217Z"
   },
   {
    "duration": 156,
    "start_time": "2022-05-12T12:05:28.229Z"
   },
   {
    "duration": 8,
    "start_time": "2022-05-12T12:05:28.388Z"
   },
   {
    "duration": 163,
    "start_time": "2022-05-12T12:05:28.400Z"
   },
   {
    "duration": 32,
    "start_time": "2022-05-12T12:05:28.566Z"
   },
   {
    "duration": 11,
    "start_time": "2022-05-12T12:05:28.601Z"
   },
   {
    "duration": 34,
    "start_time": "2022-05-12T12:05:28.614Z"
   },
   {
    "duration": 52,
    "start_time": "2022-05-12T12:05:28.651Z"
   },
   {
    "duration": 22,
    "start_time": "2022-05-12T12:05:28.706Z"
   },
   {
    "duration": 54,
    "start_time": "2022-05-12T12:05:28.731Z"
   },
   {
    "duration": 28,
    "start_time": "2022-05-12T12:05:28.788Z"
   },
   {
    "duration": 28,
    "start_time": "2022-05-12T12:05:28.819Z"
   },
   {
    "duration": 10,
    "start_time": "2022-05-12T12:05:28.850Z"
   },
   {
    "duration": 26,
    "start_time": "2022-05-12T12:05:28.883Z"
   },
   {
    "duration": 8,
    "start_time": "2022-05-12T12:05:28.912Z"
   },
   {
    "duration": 91,
    "start_time": "2022-05-12T12:05:28.922Z"
   },
   {
    "duration": 4,
    "start_time": "2022-05-12T12:05:29.016Z"
   },
   {
    "duration": 47,
    "start_time": "2022-05-12T12:05:29.022Z"
   },
   {
    "duration": 848,
    "start_time": "2022-05-12T12:05:29.083Z"
   },
   {
    "duration": 471,
    "start_time": "2022-05-12T12:05:29.934Z"
   },
   {
    "duration": 448,
    "start_time": "2022-05-12T12:05:30.408Z"
   },
   {
    "duration": 663,
    "start_time": "2022-05-12T12:05:30.861Z"
   },
   {
    "duration": 707,
    "start_time": "2022-05-12T12:05:31.527Z"
   },
   {
    "duration": 554,
    "start_time": "2022-05-12T12:05:32.237Z"
   },
   {
    "duration": 15,
    "start_time": "2022-05-12T12:05:32.794Z"
   },
   {
    "duration": 629,
    "start_time": "2022-05-12T12:05:32.812Z"
   },
   {
    "duration": 442,
    "start_time": "2022-05-12T12:05:33.444Z"
   },
   {
    "duration": 4,
    "start_time": "2022-05-12T12:05:33.888Z"
   },
   {
    "duration": 648,
    "start_time": "2022-05-12T12:05:33.895Z"
   },
   {
    "duration": 9,
    "start_time": "2022-05-12T12:05:34.546Z"
   },
   {
    "duration": 196,
    "start_time": "2022-05-12T12:05:34.557Z"
   },
   {
    "duration": 35,
    "start_time": "2022-05-12T12:05:34.756Z"
   },
   {
    "duration": 30,
    "start_time": "2022-05-12T12:05:34.795Z"
   },
   {
    "duration": 21,
    "start_time": "2022-05-12T12:05:34.827Z"
   },
   {
    "duration": 31,
    "start_time": "2022-05-12T12:05:34.852Z"
   },
   {
    "duration": 25,
    "start_time": "2022-05-12T12:05:34.886Z"
   },
   {
    "duration": 1991,
    "start_time": "2022-05-12T12:25:52.849Z"
   },
   {
    "duration": 92,
    "start_time": "2022-05-12T12:25:54.843Z"
   },
   {
    "duration": 397,
    "start_time": "2022-05-12T12:25:54.939Z"
   },
   {
    "duration": 177,
    "start_time": "2022-05-12T12:25:55.341Z"
   },
   {
    "duration": 283,
    "start_time": "2022-05-12T12:25:55.521Z"
   },
   {
    "duration": 79,
    "start_time": "2022-05-12T12:25:55.806Z"
   },
   {
    "duration": 187,
    "start_time": "2022-05-12T12:25:55.888Z"
   },
   {
    "duration": 9,
    "start_time": "2022-05-12T12:25:56.078Z"
   },
   {
    "duration": 8,
    "start_time": "2022-05-12T12:25:56.090Z"
   },
   {
    "duration": 9,
    "start_time": "2022-05-12T12:25:56.102Z"
   },
   {
    "duration": 14,
    "start_time": "2022-05-12T12:25:56.114Z"
   },
   {
    "duration": 51,
    "start_time": "2022-05-12T12:25:56.131Z"
   },
   {
    "duration": 231,
    "start_time": "2022-05-12T12:25:56.185Z"
   },
   {
    "duration": 42,
    "start_time": "2022-05-12T12:25:56.418Z"
   },
   {
    "duration": 21,
    "start_time": "2022-05-12T12:25:56.463Z"
   },
   {
    "duration": 73,
    "start_time": "2022-05-12T12:25:56.487Z"
   },
   {
    "duration": 41,
    "start_time": "2022-05-12T12:25:56.582Z"
   },
   {
    "duration": 163,
    "start_time": "2022-05-12T12:25:56.625Z"
   },
   {
    "duration": 54,
    "start_time": "2022-05-12T12:25:56.790Z"
   },
   {
    "duration": 107,
    "start_time": "2022-05-12T12:25:56.847Z"
   },
   {
    "duration": 46,
    "start_time": "2022-05-12T12:25:56.957Z"
   },
   {
    "duration": 88,
    "start_time": "2022-05-12T12:25:57.005Z"
   },
   {
    "duration": 41,
    "start_time": "2022-05-12T12:25:57.095Z"
   },
   {
    "duration": 10,
    "start_time": "2022-05-12T12:25:57.138Z"
   },
   {
    "duration": 10,
    "start_time": "2022-05-12T12:25:57.182Z"
   },
   {
    "duration": 37,
    "start_time": "2022-05-12T12:25:57.195Z"
   },
   {
    "duration": 9,
    "start_time": "2022-05-12T12:25:57.237Z"
   },
   {
    "duration": 162,
    "start_time": "2022-05-12T12:25:57.283Z"
   },
   {
    "duration": 7,
    "start_time": "2022-05-12T12:25:57.448Z"
   },
   {
    "duration": 159,
    "start_time": "2022-05-12T12:25:57.458Z"
   },
   {
    "duration": 8,
    "start_time": "2022-05-12T12:25:57.620Z"
   },
   {
    "duration": 163,
    "start_time": "2022-05-12T12:25:57.631Z"
   },
   {
    "duration": 7,
    "start_time": "2022-05-12T12:25:57.796Z"
   },
   {
    "duration": 198,
    "start_time": "2022-05-12T12:25:57.806Z"
   },
   {
    "duration": 23,
    "start_time": "2022-05-12T12:25:58.007Z"
   },
   {
    "duration": 7,
    "start_time": "2022-05-12T12:25:58.033Z"
   },
   {
    "duration": 57,
    "start_time": "2022-05-12T12:25:58.043Z"
   },
   {
    "duration": 42,
    "start_time": "2022-05-12T12:25:58.102Z"
   },
   {
    "duration": 17,
    "start_time": "2022-05-12T12:25:58.147Z"
   },
   {
    "duration": 39,
    "start_time": "2022-05-12T12:25:58.166Z"
   },
   {
    "duration": 19,
    "start_time": "2022-05-12T12:25:58.208Z"
   },
   {
    "duration": 55,
    "start_time": "2022-05-12T12:25:58.229Z"
   },
   {
    "duration": 4,
    "start_time": "2022-05-12T12:25:58.286Z"
   },
   {
    "duration": 20,
    "start_time": "2022-05-12T12:25:58.292Z"
   },
   {
    "duration": 3,
    "start_time": "2022-05-12T12:25:58.315Z"
   },
   {
    "duration": 82,
    "start_time": "2022-05-12T12:25:58.320Z"
   },
   {
    "duration": 5,
    "start_time": "2022-05-12T12:25:58.404Z"
   },
   {
    "duration": 41,
    "start_time": "2022-05-12T12:25:58.412Z"
   },
   {
    "duration": 504,
    "start_time": "2022-05-12T12:25:58.483Z"
   },
   {
    "duration": 358,
    "start_time": "2022-05-12T12:25:58.990Z"
   },
   {
    "duration": 432,
    "start_time": "2022-05-12T12:25:59.351Z"
   },
   {
    "duration": 703,
    "start_time": "2022-05-12T12:25:59.787Z"
   },
   {
    "duration": 709,
    "start_time": "2022-05-12T12:26:00.493Z"
   },
   {
    "duration": 408,
    "start_time": "2022-05-12T12:26:01.205Z"
   },
   {
    "duration": 16,
    "start_time": "2022-05-12T12:26:01.615Z"
   },
   {
    "duration": 781,
    "start_time": "2022-05-12T12:26:01.634Z"
   },
   {
    "duration": 606,
    "start_time": "2022-05-12T12:26:02.417Z"
   },
   {
    "duration": 5,
    "start_time": "2022-05-12T12:26:03.025Z"
   },
   {
    "duration": 761,
    "start_time": "2022-05-12T12:26:03.033Z"
   },
   {
    "duration": 5,
    "start_time": "2022-05-12T12:26:03.796Z"
   },
   {
    "duration": 13,
    "start_time": "2022-05-12T12:26:03.803Z"
   },
   {
    "duration": 24,
    "start_time": "2022-05-12T12:26:03.819Z"
   },
   {
    "duration": 51,
    "start_time": "2022-05-12T12:26:03.845Z"
   },
   {
    "duration": 20,
    "start_time": "2022-05-12T12:26:03.899Z"
   },
   {
    "duration": 6,
    "start_time": "2022-05-12T12:26:03.922Z"
   },
   {
    "duration": 62,
    "start_time": "2022-05-12T12:26:03.931Z"
   },
   {
    "duration": 27,
    "start_time": "2022-05-12T12:35:47.041Z"
   },
   {
    "duration": 16,
    "start_time": "2022-05-12T12:36:03.353Z"
   },
   {
    "duration": 38,
    "start_time": "2022-05-12T12:36:20.383Z"
   },
   {
    "duration": 41,
    "start_time": "2022-05-12T12:38:08.847Z"
   },
   {
    "duration": 31,
    "start_time": "2022-05-12T12:38:25.929Z"
   },
   {
    "duration": 184,
    "start_time": "2022-05-12T12:38:52.152Z"
   },
   {
    "duration": 1893,
    "start_time": "2022-05-12T12:39:17.985Z"
   },
   {
    "duration": 82,
    "start_time": "2022-05-12T12:39:19.883Z"
   },
   {
    "duration": 402,
    "start_time": "2022-05-12T12:39:19.984Z"
   },
   {
    "duration": 215,
    "start_time": "2022-05-12T12:39:20.390Z"
   },
   {
    "duration": 343,
    "start_time": "2022-05-12T12:39:20.608Z"
   },
   {
    "duration": 96,
    "start_time": "2022-05-12T12:39:20.953Z"
   },
   {
    "duration": 185,
    "start_time": "2022-05-12T12:39:21.052Z"
   },
   {
    "duration": 9,
    "start_time": "2022-05-12T12:39:21.240Z"
   },
   {
    "duration": 16,
    "start_time": "2022-05-12T12:39:21.251Z"
   },
   {
    "duration": 7,
    "start_time": "2022-05-12T12:39:21.284Z"
   },
   {
    "duration": 13,
    "start_time": "2022-05-12T12:39:21.294Z"
   },
   {
    "duration": 9,
    "start_time": "2022-05-12T12:39:21.310Z"
   },
   {
    "duration": 149,
    "start_time": "2022-05-12T12:39:21.322Z"
   },
   {
    "duration": 30,
    "start_time": "2022-05-12T12:39:21.482Z"
   },
   {
    "duration": 5,
    "start_time": "2022-05-12T12:39:21.515Z"
   },
   {
    "duration": 139,
    "start_time": "2022-05-12T12:39:21.522Z"
   },
   {
    "duration": 63,
    "start_time": "2022-05-12T12:39:21.663Z"
   },
   {
    "duration": 99,
    "start_time": "2022-05-12T12:39:21.729Z"
   },
   {
    "duration": 29,
    "start_time": "2022-05-12T12:39:21.831Z"
   },
   {
    "duration": 48,
    "start_time": "2022-05-12T12:39:21.882Z"
   },
   {
    "duration": 55,
    "start_time": "2022-05-12T12:39:21.933Z"
   },
   {
    "duration": 54,
    "start_time": "2022-05-12T12:39:21.991Z"
   },
   {
    "duration": 79,
    "start_time": "2022-05-12T12:39:22.048Z"
   },
   {
    "duration": 11,
    "start_time": "2022-05-12T12:39:22.130Z"
   },
   {
    "duration": 39,
    "start_time": "2022-05-12T12:39:22.145Z"
   },
   {
    "duration": 39,
    "start_time": "2022-05-12T12:39:22.187Z"
   },
   {
    "duration": 10,
    "start_time": "2022-05-12T12:39:22.229Z"
   },
   {
    "duration": 125,
    "start_time": "2022-05-12T12:39:22.246Z"
   },
   {
    "duration": 11,
    "start_time": "2022-05-12T12:39:22.373Z"
   },
   {
    "duration": 152,
    "start_time": "2022-05-12T12:39:22.387Z"
   },
   {
    "duration": 7,
    "start_time": "2022-05-12T12:39:22.542Z"
   },
   {
    "duration": 156,
    "start_time": "2022-05-12T12:39:22.552Z"
   },
   {
    "duration": 8,
    "start_time": "2022-05-12T12:39:22.711Z"
   },
   {
    "duration": 151,
    "start_time": "2022-05-12T12:39:22.722Z"
   },
   {
    "duration": 44,
    "start_time": "2022-05-12T12:39:22.875Z"
   },
   {
    "duration": 62,
    "start_time": "2022-05-12T12:39:22.922Z"
   },
   {
    "duration": 253,
    "start_time": "2022-05-12T12:39:22.986Z"
   },
   {
    "duration": 0,
    "start_time": "2022-05-12T12:39:23.242Z"
   },
   {
    "duration": 0,
    "start_time": "2022-05-12T12:39:23.244Z"
   },
   {
    "duration": 0,
    "start_time": "2022-05-12T12:39:23.247Z"
   },
   {
    "duration": 0,
    "start_time": "2022-05-12T12:39:23.248Z"
   },
   {
    "duration": 0,
    "start_time": "2022-05-12T12:39:23.250Z"
   },
   {
    "duration": 0,
    "start_time": "2022-05-12T12:39:23.256Z"
   },
   {
    "duration": 0,
    "start_time": "2022-05-12T12:39:23.258Z"
   },
   {
    "duration": 0,
    "start_time": "2022-05-12T12:39:23.260Z"
   },
   {
    "duration": 0,
    "start_time": "2022-05-12T12:39:23.282Z"
   },
   {
    "duration": 0,
    "start_time": "2022-05-12T12:39:23.284Z"
   },
   {
    "duration": 0,
    "start_time": "2022-05-12T12:39:23.287Z"
   },
   {
    "duration": 0,
    "start_time": "2022-05-12T12:39:23.289Z"
   },
   {
    "duration": 0,
    "start_time": "2022-05-12T12:39:23.291Z"
   },
   {
    "duration": 0,
    "start_time": "2022-05-12T12:39:23.293Z"
   },
   {
    "duration": 0,
    "start_time": "2022-05-12T12:39:23.296Z"
   },
   {
    "duration": 0,
    "start_time": "2022-05-12T12:39:23.298Z"
   },
   {
    "duration": 0,
    "start_time": "2022-05-12T12:39:23.300Z"
   },
   {
    "duration": 0,
    "start_time": "2022-05-12T12:39:23.303Z"
   },
   {
    "duration": 0,
    "start_time": "2022-05-12T12:39:23.306Z"
   },
   {
    "duration": 0,
    "start_time": "2022-05-12T12:39:23.309Z"
   },
   {
    "duration": 0,
    "start_time": "2022-05-12T12:39:23.310Z"
   },
   {
    "duration": 0,
    "start_time": "2022-05-12T12:39:23.312Z"
   },
   {
    "duration": 0,
    "start_time": "2022-05-12T12:39:23.314Z"
   },
   {
    "duration": 0,
    "start_time": "2022-05-12T12:39:23.316Z"
   },
   {
    "duration": 1,
    "start_time": "2022-05-12T12:39:23.317Z"
   },
   {
    "duration": 0,
    "start_time": "2022-05-12T12:39:23.320Z"
   },
   {
    "duration": 0,
    "start_time": "2022-05-12T12:39:23.321Z"
   },
   {
    "duration": 0,
    "start_time": "2022-05-12T12:39:23.383Z"
   },
   {
    "duration": 0,
    "start_time": "2022-05-12T12:39:23.385Z"
   },
   {
    "duration": 0,
    "start_time": "2022-05-12T12:39:23.388Z"
   },
   {
    "duration": 0,
    "start_time": "2022-05-12T12:39:23.390Z"
   },
   {
    "duration": 0,
    "start_time": "2022-05-12T12:39:23.392Z"
   },
   {
    "duration": 61,
    "start_time": "2022-05-12T12:40:01.703Z"
   },
   {
    "duration": 1508,
    "start_time": "2022-05-12T12:41:48.806Z"
   },
   {
    "duration": 74,
    "start_time": "2022-05-12T12:41:50.318Z"
   },
   {
    "duration": 292,
    "start_time": "2022-05-12T12:41:50.395Z"
   },
   {
    "duration": 226,
    "start_time": "2022-05-12T12:41:50.692Z"
   },
   {
    "duration": 346,
    "start_time": "2022-05-12T12:41:50.920Z"
   },
   {
    "duration": 67,
    "start_time": "2022-05-12T12:41:51.282Z"
   },
   {
    "duration": 153,
    "start_time": "2022-05-12T12:41:51.351Z"
   },
   {
    "duration": 8,
    "start_time": "2022-05-12T12:41:51.507Z"
   },
   {
    "duration": 8,
    "start_time": "2022-05-12T12:41:51.517Z"
   },
   {
    "duration": 12,
    "start_time": "2022-05-12T12:41:51.529Z"
   },
   {
    "duration": 43,
    "start_time": "2022-05-12T12:41:51.543Z"
   },
   {
    "duration": 5,
    "start_time": "2022-05-12T12:41:51.589Z"
   },
   {
    "duration": 147,
    "start_time": "2022-05-12T12:41:51.596Z"
   },
   {
    "duration": 45,
    "start_time": "2022-05-12T12:41:51.745Z"
   },
   {
    "duration": 5,
    "start_time": "2022-05-12T12:41:51.792Z"
   },
   {
    "duration": 91,
    "start_time": "2022-05-12T12:41:51.800Z"
   },
   {
    "duration": 41,
    "start_time": "2022-05-12T12:41:51.893Z"
   },
   {
    "duration": 158,
    "start_time": "2022-05-12T12:41:51.937Z"
   },
   {
    "duration": 45,
    "start_time": "2022-05-12T12:41:52.099Z"
   },
   {
    "duration": 102,
    "start_time": "2022-05-12T12:41:52.147Z"
   },
   {
    "duration": 52,
    "start_time": "2022-05-12T12:41:52.251Z"
   },
   {
    "duration": 89,
    "start_time": "2022-05-12T12:41:52.306Z"
   },
   {
    "duration": 54,
    "start_time": "2022-05-12T12:41:52.398Z"
   },
   {
    "duration": 29,
    "start_time": "2022-05-12T12:41:52.455Z"
   },
   {
    "duration": 15,
    "start_time": "2022-05-12T12:41:52.486Z"
   },
   {
    "duration": 43,
    "start_time": "2022-05-12T12:41:52.504Z"
   },
   {
    "duration": 36,
    "start_time": "2022-05-12T12:41:52.549Z"
   },
   {
    "duration": 160,
    "start_time": "2022-05-12T12:41:52.595Z"
   },
   {
    "duration": 9,
    "start_time": "2022-05-12T12:41:52.758Z"
   },
   {
    "duration": 138,
    "start_time": "2022-05-12T12:41:52.769Z"
   },
   {
    "duration": 7,
    "start_time": "2022-05-12T12:41:52.910Z"
   },
   {
    "duration": 126,
    "start_time": "2022-05-12T12:41:52.919Z"
   },
   {
    "duration": 8,
    "start_time": "2022-05-12T12:41:53.047Z"
   },
   {
    "duration": 210,
    "start_time": "2022-05-12T12:41:53.057Z"
   },
   {
    "duration": 45,
    "start_time": "2022-05-12T12:41:53.271Z"
   },
   {
    "duration": 65,
    "start_time": "2022-05-12T12:41:53.319Z"
   },
   {
    "duration": 3,
    "start_time": "2022-05-12T12:41:53.387Z"
   },
   {
    "duration": 12,
    "start_time": "2022-05-12T12:41:53.393Z"
   },
   {
    "duration": 7,
    "start_time": "2022-05-12T12:41:53.408Z"
   },
   {
    "duration": 49,
    "start_time": "2022-05-12T12:41:53.419Z"
   },
   {
    "duration": 22,
    "start_time": "2022-05-12T12:41:53.483Z"
   },
   {
    "duration": 37,
    "start_time": "2022-05-12T12:41:53.508Z"
   },
   {
    "duration": 34,
    "start_time": "2022-05-12T12:41:53.548Z"
   },
   {
    "duration": 24,
    "start_time": "2022-05-12T12:41:53.585Z"
   },
   {
    "duration": 3,
    "start_time": "2022-05-12T12:41:53.612Z"
   },
   {
    "duration": 25,
    "start_time": "2022-05-12T12:41:53.618Z"
   },
   {
    "duration": 37,
    "start_time": "2022-05-12T12:41:53.647Z"
   },
   {
    "duration": 69,
    "start_time": "2022-05-12T12:41:53.687Z"
   },
   {
    "duration": 4,
    "start_time": "2022-05-12T12:41:53.759Z"
   },
   {
    "duration": 58,
    "start_time": "2022-05-12T12:41:53.766Z"
   },
   {
    "duration": 778,
    "start_time": "2022-05-12T12:41:53.828Z"
   },
   {
    "duration": 562,
    "start_time": "2022-05-12T12:41:54.608Z"
   },
   {
    "duration": 327,
    "start_time": "2022-05-12T12:41:55.173Z"
   },
   {
    "duration": 675,
    "start_time": "2022-05-12T12:41:55.502Z"
   },
   {
    "duration": 544,
    "start_time": "2022-05-12T12:41:56.183Z"
   },
   {
    "duration": 621,
    "start_time": "2022-05-12T12:41:56.729Z"
   },
   {
    "duration": 30,
    "start_time": "2022-05-12T12:41:57.354Z"
   },
   {
    "duration": 489,
    "start_time": "2022-05-12T12:41:57.387Z"
   },
   {
    "duration": 551,
    "start_time": "2022-05-12T12:41:57.882Z"
   },
   {
    "duration": 4,
    "start_time": "2022-05-12T12:41:58.435Z"
   },
   {
    "duration": 452,
    "start_time": "2022-05-12T12:41:58.442Z"
   },
   {
    "duration": 4,
    "start_time": "2022-05-12T12:41:58.897Z"
   },
   {
    "duration": 8,
    "start_time": "2022-05-12T12:41:58.903Z"
   },
   {
    "duration": 20,
    "start_time": "2022-05-12T12:41:58.914Z"
   },
   {
    "duration": 51,
    "start_time": "2022-05-12T12:41:58.937Z"
   },
   {
    "duration": 23,
    "start_time": "2022-05-12T12:41:58.991Z"
   },
   {
    "duration": 10,
    "start_time": "2022-05-12T12:41:59.016Z"
   },
   {
    "duration": 54,
    "start_time": "2022-05-12T12:41:59.029Z"
   },
   {
    "duration": 21,
    "start_time": "2022-05-12T12:42:24.221Z"
   },
   {
    "duration": 1751,
    "start_time": "2022-05-12T13:08:30.878Z"
   },
   {
    "duration": 88,
    "start_time": "2022-05-12T13:08:32.631Z"
   },
   {
    "duration": 320,
    "start_time": "2022-05-12T13:08:32.721Z"
   },
   {
    "duration": 177,
    "start_time": "2022-05-12T13:08:33.044Z"
   },
   {
    "duration": 304,
    "start_time": "2022-05-12T13:08:33.224Z"
   },
   {
    "duration": 111,
    "start_time": "2022-05-12T13:08:33.531Z"
   },
   {
    "duration": 139,
    "start_time": "2022-05-12T13:08:33.644Z"
   },
   {
    "duration": 11,
    "start_time": "2022-05-12T13:08:33.786Z"
   },
   {
    "duration": 18,
    "start_time": "2022-05-12T13:08:33.800Z"
   },
   {
    "duration": 8,
    "start_time": "2022-05-12T13:08:33.825Z"
   },
   {
    "duration": 14,
    "start_time": "2022-05-12T13:08:33.836Z"
   },
   {
    "duration": 46,
    "start_time": "2022-05-12T13:08:33.853Z"
   },
   {
    "duration": 220,
    "start_time": "2022-05-12T13:08:33.903Z"
   },
   {
    "duration": 60,
    "start_time": "2022-05-12T13:08:34.126Z"
   },
   {
    "duration": 6,
    "start_time": "2022-05-12T13:08:34.188Z"
   },
   {
    "duration": 134,
    "start_time": "2022-05-12T13:08:34.196Z"
   },
   {
    "duration": 74,
    "start_time": "2022-05-12T13:08:34.333Z"
   },
   {
    "duration": 132,
    "start_time": "2022-05-12T13:08:34.410Z"
   },
   {
    "duration": 47,
    "start_time": "2022-05-12T13:08:34.545Z"
   },
   {
    "duration": 57,
    "start_time": "2022-05-12T13:08:34.595Z"
   },
   {
    "duration": 61,
    "start_time": "2022-05-12T13:08:34.655Z"
   },
   {
    "duration": 90,
    "start_time": "2022-05-12T13:08:34.718Z"
   },
   {
    "duration": 55,
    "start_time": "2022-05-12T13:08:34.811Z"
   },
   {
    "duration": 12,
    "start_time": "2022-05-12T13:08:34.882Z"
   },
   {
    "duration": 28,
    "start_time": "2022-05-12T13:08:34.898Z"
   },
   {
    "duration": 56,
    "start_time": "2022-05-12T13:08:34.929Z"
   },
   {
    "duration": 10,
    "start_time": "2022-05-12T13:08:34.988Z"
   },
   {
    "duration": 149,
    "start_time": "2022-05-12T13:08:35.005Z"
   },
   {
    "duration": 6,
    "start_time": "2022-05-12T13:08:35.157Z"
   },
   {
    "duration": 109,
    "start_time": "2022-05-12T13:08:35.165Z"
   },
   {
    "duration": 7,
    "start_time": "2022-05-12T13:08:35.276Z"
   },
   {
    "duration": 124,
    "start_time": "2022-05-12T13:08:35.286Z"
   },
   {
    "duration": 7,
    "start_time": "2022-05-12T13:08:35.413Z"
   },
   {
    "duration": 145,
    "start_time": "2022-05-12T13:08:35.422Z"
   },
   {
    "duration": 41,
    "start_time": "2022-05-12T13:08:35.571Z"
   },
   {
    "duration": 33,
    "start_time": "2022-05-12T13:08:35.614Z"
   },
   {
    "duration": 53,
    "start_time": "2022-05-12T13:08:35.650Z"
   },
   {
    "duration": 38,
    "start_time": "2022-05-12T13:08:35.706Z"
   },
   {
    "duration": 26,
    "start_time": "2022-05-12T13:08:35.748Z"
   },
   {
    "duration": 27,
    "start_time": "2022-05-12T13:08:35.776Z"
   },
   {
    "duration": 24,
    "start_time": "2022-05-12T13:08:35.806Z"
   },
   {
    "duration": 83,
    "start_time": "2022-05-12T13:08:35.832Z"
   },
   {
    "duration": 27,
    "start_time": "2022-05-12T13:08:35.918Z"
   },
   {
    "duration": 590,
    "start_time": "2022-05-12T13:08:35.948Z"
   },
   {
    "duration": 400,
    "start_time": "2022-05-12T13:08:36.540Z"
   },
   {
    "duration": 423,
    "start_time": "2022-05-12T13:08:36.943Z"
   },
   {
    "duration": 549,
    "start_time": "2022-05-12T13:08:37.369Z"
   },
   {
    "duration": 536,
    "start_time": "2022-05-12T13:08:37.921Z"
   },
   {
    "duration": 587,
    "start_time": "2022-05-12T13:08:38.466Z"
   },
   {
    "duration": 664,
    "start_time": "2022-05-12T13:08:39.056Z"
   },
   {
    "duration": 505,
    "start_time": "2022-05-12T13:08:39.723Z"
   },
   {
    "duration": 525,
    "start_time": "2022-05-12T13:08:40.230Z"
   },
   {
    "duration": 32,
    "start_time": "2022-05-12T13:08:40.758Z"
   },
   {
    "duration": 39,
    "start_time": "2022-05-12T13:08:40.793Z"
   },
   {
    "duration": 17,
    "start_time": "2022-05-12T13:08:40.834Z"
   },
   {
    "duration": 5,
    "start_time": "2022-05-12T13:08:40.853Z"
   },
   {
    "duration": 27,
    "start_time": "2022-05-12T13:08:40.881Z"
   },
   {
    "duration": 1316,
    "start_time": "2022-05-12T16:20:50.196Z"
   },
   {
    "duration": 77,
    "start_time": "2022-05-12T16:20:51.514Z"
   },
   {
    "duration": 285,
    "start_time": "2022-05-12T16:20:51.593Z"
   },
   {
    "duration": 152,
    "start_time": "2022-05-12T16:20:51.881Z"
   },
   {
    "duration": 184,
    "start_time": "2022-05-12T16:20:52.034Z"
   },
   {
    "duration": 48,
    "start_time": "2022-05-12T16:20:52.220Z"
   },
   {
    "duration": 4,
    "start_time": "2022-05-12T16:22:46.328Z"
   },
   {
    "duration": 76,
    "start_time": "2022-05-12T16:22:46.754Z"
   },
   {
    "duration": 207,
    "start_time": "2022-05-12T16:22:46.931Z"
   },
   {
    "duration": 159,
    "start_time": "2022-05-12T16:22:47.141Z"
   },
   {
    "duration": 184,
    "start_time": "2022-05-12T16:22:47.303Z"
   },
   {
    "duration": 53,
    "start_time": "2022-05-12T16:22:47.489Z"
   },
   {
    "duration": 84,
    "start_time": "2022-05-12T16:22:51.585Z"
   },
   {
    "duration": 6,
    "start_time": "2022-05-12T16:23:01.840Z"
   },
   {
    "duration": 5,
    "start_time": "2022-05-12T16:23:06.233Z"
   },
   {
    "duration": 4,
    "start_time": "2022-05-12T16:23:07.677Z"
   },
   {
    "duration": 3,
    "start_time": "2022-05-12T16:29:24.114Z"
   },
   {
    "duration": 75,
    "start_time": "2022-05-12T16:29:24.537Z"
   },
   {
    "duration": 25,
    "start_time": "2022-05-12T16:29:26.038Z"
   },
   {
    "duration": 6,
    "start_time": "2022-05-12T16:29:26.917Z"
   },
   {
    "duration": 73,
    "start_time": "2022-05-12T16:29:27.891Z"
   },
   {
    "duration": 34,
    "start_time": "2022-05-12T16:31:15.452Z"
   },
   {
    "duration": 25,
    "start_time": "2022-05-12T16:32:11.883Z"
   },
   {
    "duration": 64,
    "start_time": "2022-05-12T16:34:45.819Z"
   },
   {
    "duration": 33,
    "start_time": "2022-05-12T16:35:31.899Z"
   },
   {
    "duration": 47,
    "start_time": "2022-05-12T16:35:32.391Z"
   },
   {
    "duration": 26,
    "start_time": "2022-05-12T16:35:44.014Z"
   },
   {
    "duration": 38,
    "start_time": "2022-05-12T16:35:45.771Z"
   },
   {
    "duration": 24,
    "start_time": "2022-05-12T16:36:00.558Z"
   },
   {
    "duration": 24,
    "start_time": "2022-05-12T16:42:48.131Z"
   },
   {
    "duration": 23,
    "start_time": "2022-05-12T16:50:54.403Z"
   },
   {
    "duration": 23,
    "start_time": "2022-05-12T16:51:02.871Z"
   },
   {
    "duration": 23,
    "start_time": "2022-05-12T16:51:07.064Z"
   },
   {
    "duration": 8,
    "start_time": "2022-05-12T16:54:45.722Z"
   },
   {
    "duration": 9,
    "start_time": "2022-05-12T16:54:47.943Z"
   },
   {
    "duration": 17,
    "start_time": "2022-05-12T16:55:29.483Z"
   },
   {
    "duration": 29,
    "start_time": "2022-05-12T16:55:33.268Z"
   },
   {
    "duration": 22,
    "start_time": "2022-05-12T16:55:47.141Z"
   },
   {
    "duration": 6,
    "start_time": "2022-05-12T16:55:47.888Z"
   },
   {
    "duration": 7,
    "start_time": "2022-05-12T16:55:48.454Z"
   },
   {
    "duration": 189,
    "start_time": "2022-05-12T16:55:55.051Z"
   },
   {
    "duration": 24,
    "start_time": "2022-05-12T16:55:59.556Z"
   },
   {
    "duration": 174,
    "start_time": "2022-05-12T16:56:05.101Z"
   },
   {
    "duration": 23,
    "start_time": "2022-05-12T16:56:09.713Z"
   },
   {
    "duration": 31,
    "start_time": "2022-05-12T16:57:48.378Z"
   },
   {
    "duration": 7,
    "start_time": "2022-05-12T16:57:48.931Z"
   },
   {
    "duration": 8,
    "start_time": "2022-05-12T16:57:49.436Z"
   },
   {
    "duration": 23,
    "start_time": "2022-05-12T16:57:56.416Z"
   },
   {
    "duration": 24,
    "start_time": "2022-05-12T16:58:04.668Z"
   },
   {
    "duration": 23,
    "start_time": "2022-05-12T16:58:08.106Z"
   },
   {
    "duration": 22,
    "start_time": "2022-05-12T16:58:11.885Z"
   },
   {
    "duration": 23,
    "start_time": "2022-05-12T16:58:14.292Z"
   },
   {
    "duration": 24,
    "start_time": "2022-05-12T16:58:20.010Z"
   },
   {
    "duration": 5,
    "start_time": "2022-05-12T17:00:12.452Z"
   },
   {
    "duration": 4,
    "start_time": "2022-05-12T17:00:18.791Z"
   },
   {
    "duration": 5,
    "start_time": "2022-05-12T17:03:17.179Z"
   },
   {
    "duration": 54,
    "start_time": "2022-05-12T17:03:21.720Z"
   },
   {
    "duration": 3,
    "start_time": "2022-05-12T17:07:02.883Z"
   },
   {
    "duration": 54,
    "start_time": "2022-05-12T17:07:03.066Z"
   },
   {
    "duration": 4,
    "start_time": "2022-05-12T17:07:03.284Z"
   },
   {
    "duration": 53,
    "start_time": "2022-05-12T17:07:03.739Z"
   },
   {
    "duration": 4,
    "start_time": "2022-05-12T17:07:04.496Z"
   },
   {
    "duration": 188,
    "start_time": "2022-05-12T17:08:47.804Z"
   },
   {
    "duration": 4,
    "start_time": "2022-05-12T17:08:52.334Z"
   },
   {
    "duration": 4,
    "start_time": "2022-05-12T17:10:19.373Z"
   },
   {
    "duration": 8,
    "start_time": "2022-05-12T17:15:07.028Z"
   },
   {
    "duration": 71,
    "start_time": "2022-05-12T17:16:29.805Z"
   },
   {
    "duration": 16,
    "start_time": "2022-05-12T17:16:31.705Z"
   },
   {
    "duration": 18,
    "start_time": "2022-05-12T17:16:33.919Z"
   },
   {
    "duration": 13,
    "start_time": "2022-05-12T17:17:49.543Z"
   },
   {
    "duration": 10,
    "start_time": "2022-05-12T17:17:51.925Z"
   },
   {
    "duration": 16,
    "start_time": "2022-05-12T17:17:56.122Z"
   },
   {
    "duration": 11,
    "start_time": "2022-05-12T17:17:58.044Z"
   },
   {
    "duration": 11,
    "start_time": "2022-05-12T17:18:59.367Z"
   },
   {
    "duration": 26,
    "start_time": "2022-05-12T17:20:54.625Z"
   },
   {
    "duration": 16,
    "start_time": "2022-05-12T17:20:58.849Z"
   },
   {
    "duration": 256,
    "start_time": "2022-05-12T17:20:58.867Z"
   },
   {
    "duration": 197,
    "start_time": "2022-05-12T17:20:59.124Z"
   },
   {
    "duration": 184,
    "start_time": "2022-05-12T17:20:59.323Z"
   },
   {
    "duration": 265,
    "start_time": "2022-05-12T17:20:59.510Z"
   },
   {
    "duration": 266,
    "start_time": "2022-05-12T17:20:59.777Z"
   },
   {
    "duration": 217,
    "start_time": "2022-05-12T17:21:00.045Z"
   },
   {
    "duration": 316,
    "start_time": "2022-05-12T17:21:01.234Z"
   },
   {
    "duration": 233,
    "start_time": "2022-05-12T17:21:03.232Z"
   },
   {
    "duration": 239,
    "start_time": "2022-05-12T17:21:03.520Z"
   },
   {
    "duration": 201,
    "start_time": "2022-05-12T17:21:28.141Z"
   },
   {
    "duration": 12,
    "start_time": "2022-05-12T17:24:59.735Z"
   },
   {
    "duration": 15,
    "start_time": "2022-05-12T17:25:00.165Z"
   },
   {
    "duration": 12,
    "start_time": "2022-05-12T17:26:23.234Z"
   },
   {
    "duration": 11,
    "start_time": "2022-05-12T17:26:28.287Z"
   },
   {
    "duration": 3,
    "start_time": "2022-05-12T17:26:28.794Z"
   },
   {
    "duration": 12,
    "start_time": "2022-05-12T17:26:29.568Z"
   },
   {
    "duration": 231,
    "start_time": "2022-05-12T17:30:49.346Z"
   },
   {
    "duration": 14,
    "start_time": "2022-05-12T17:32:01.990Z"
   },
   {
    "duration": 145,
    "start_time": "2022-05-12T17:32:03.481Z"
   },
   {
    "duration": 2998,
    "start_time": "2022-05-12T17:32:11.243Z"
   },
   {
    "duration": 8,
    "start_time": "2022-05-12T17:32:20.803Z"
   },
   {
    "duration": 12,
    "start_time": "2022-05-12T17:32:43.526Z"
   },
   {
    "duration": 12,
    "start_time": "2022-05-12T17:32:45.074Z"
   },
   {
    "duration": 10,
    "start_time": "2022-05-12T17:33:01.280Z"
   },
   {
    "duration": 7,
    "start_time": "2022-05-12T17:33:01.685Z"
   },
   {
    "duration": 10,
    "start_time": "2022-05-12T17:35:20.779Z"
   },
   {
    "duration": 251,
    "start_time": "2022-05-12T17:41:05.975Z"
   },
   {
    "duration": 320,
    "start_time": "2022-05-12T17:41:08.219Z"
   },
   {
    "duration": 13,
    "start_time": "2022-05-12T17:41:37.358Z"
   },
   {
    "duration": 14,
    "start_time": "2022-05-12T17:41:41.716Z"
   },
   {
    "duration": 13,
    "start_time": "2022-05-12T17:43:24.266Z"
   },
   {
    "duration": 11,
    "start_time": "2022-05-12T17:43:26.783Z"
   },
   {
    "duration": 3,
    "start_time": "2022-05-12T17:46:03.920Z"
   },
   {
    "duration": 12,
    "start_time": "2022-05-12T17:46:08.508Z"
   },
   {
    "duration": 13,
    "start_time": "2022-05-12T17:46:37.292Z"
   },
   {
    "duration": 211,
    "start_time": "2022-05-13T07:45:06.873Z"
   },
   {
    "duration": 60,
    "start_time": "2022-05-13T07:46:47.520Z"
   },
   {
    "duration": 11,
    "start_time": "2022-05-13T07:46:47.749Z"
   },
   {
    "duration": 9,
    "start_time": "2022-05-13T07:46:48.099Z"
   },
   {
    "duration": 1529,
    "start_time": "2022-05-13T08:48:21.213Z"
   },
   {
    "duration": 56,
    "start_time": "2022-05-13T08:48:22.744Z"
   },
   {
    "duration": 225,
    "start_time": "2022-05-13T08:48:22.802Z"
   },
   {
    "duration": 115,
    "start_time": "2022-05-13T08:48:23.028Z"
   },
   {
    "duration": 207,
    "start_time": "2022-05-13T08:48:23.144Z"
   },
   {
    "duration": 57,
    "start_time": "2022-05-13T08:48:23.363Z"
   },
   {
    "duration": 126,
    "start_time": "2022-05-13T08:48:23.422Z"
   },
   {
    "duration": 15,
    "start_time": "2022-05-13T08:48:23.550Z"
   },
   {
    "duration": 6,
    "start_time": "2022-05-13T08:48:23.569Z"
   },
   {
    "duration": 18,
    "start_time": "2022-05-13T08:48:23.579Z"
   },
   {
    "duration": 16,
    "start_time": "2022-05-13T08:48:23.599Z"
   },
   {
    "duration": 4,
    "start_time": "2022-05-13T08:48:23.617Z"
   },
   {
    "duration": 91,
    "start_time": "2022-05-13T08:48:23.623Z"
   },
   {
    "duration": 22,
    "start_time": "2022-05-13T08:48:23.716Z"
   },
   {
    "duration": 3,
    "start_time": "2022-05-13T08:48:23.739Z"
   },
   {
    "duration": 68,
    "start_time": "2022-05-13T08:48:23.744Z"
   },
   {
    "duration": 28,
    "start_time": "2022-05-13T08:48:23.814Z"
   },
   {
    "duration": 82,
    "start_time": "2022-05-13T08:48:23.844Z"
   },
   {
    "duration": 37,
    "start_time": "2022-05-13T08:48:23.927Z"
   },
   {
    "duration": 39,
    "start_time": "2022-05-13T08:48:23.966Z"
   },
   {
    "duration": 31,
    "start_time": "2022-05-13T08:48:24.007Z"
   },
   {
    "duration": 65,
    "start_time": "2022-05-13T08:48:24.040Z"
   },
   {
    "duration": 33,
    "start_time": "2022-05-13T08:48:24.107Z"
   },
   {
    "duration": 31,
    "start_time": "2022-05-13T08:48:24.142Z"
   },
   {
    "duration": 18,
    "start_time": "2022-05-13T08:48:24.176Z"
   },
   {
    "duration": 26,
    "start_time": "2022-05-13T08:48:24.196Z"
   },
   {
    "duration": 4,
    "start_time": "2022-05-13T08:48:24.223Z"
   },
   {
    "duration": 84,
    "start_time": "2022-05-13T08:48:24.231Z"
   },
   {
    "duration": 5,
    "start_time": "2022-05-13T08:48:24.316Z"
   },
   {
    "duration": 69,
    "start_time": "2022-05-13T08:48:24.322Z"
   },
   {
    "duration": 5,
    "start_time": "2022-05-13T08:48:24.392Z"
   },
   {
    "duration": 73,
    "start_time": "2022-05-13T08:48:24.398Z"
   },
   {
    "duration": 12,
    "start_time": "2022-05-13T08:48:24.473Z"
   },
   {
    "duration": 76,
    "start_time": "2022-05-13T08:48:24.487Z"
   },
   {
    "duration": 21,
    "start_time": "2022-05-13T08:48:24.565Z"
   },
   {
    "duration": 22,
    "start_time": "2022-05-13T08:48:24.587Z"
   },
   {
    "duration": 15,
    "start_time": "2022-05-13T08:48:24.611Z"
   },
   {
    "duration": 36,
    "start_time": "2022-05-13T08:48:24.628Z"
   },
   {
    "duration": 20,
    "start_time": "2022-05-13T08:48:24.666Z"
   },
   {
    "duration": 13,
    "start_time": "2022-05-13T08:48:24.688Z"
   },
   {
    "duration": 22,
    "start_time": "2022-05-13T08:48:24.703Z"
   },
   {
    "duration": 47,
    "start_time": "2022-05-13T08:48:24.727Z"
   },
   {
    "duration": 18,
    "start_time": "2022-05-13T08:48:24.776Z"
   },
   {
    "duration": 300,
    "start_time": "2022-05-13T08:48:24.796Z"
   },
   {
    "duration": 207,
    "start_time": "2022-05-13T08:48:25.098Z"
   },
   {
    "duration": 233,
    "start_time": "2022-05-13T08:48:25.307Z"
   },
   {
    "duration": 323,
    "start_time": "2022-05-13T08:48:25.543Z"
   },
   {
    "duration": 286,
    "start_time": "2022-05-13T08:48:25.868Z"
   },
   {
    "duration": 352,
    "start_time": "2022-05-13T08:48:26.156Z"
   },
   {
    "duration": 468,
    "start_time": "2022-05-13T08:48:26.510Z"
   },
   {
    "duration": 354,
    "start_time": "2022-05-13T08:48:26.980Z"
   },
   {
    "duration": 370,
    "start_time": "2022-05-13T08:48:27.336Z"
   },
   {
    "duration": 15,
    "start_time": "2022-05-13T08:48:27.708Z"
   },
   {
    "duration": 16,
    "start_time": "2022-05-13T08:48:27.725Z"
   },
   {
    "duration": 13,
    "start_time": "2022-05-13T08:48:27.767Z"
   },
   {
    "duration": 15,
    "start_time": "2022-05-13T08:48:27.782Z"
   },
   {
    "duration": 22,
    "start_time": "2022-05-13T08:48:27.799Z"
   },
   {
    "duration": 1242,
    "start_time": "2022-05-13T08:49:35.586Z"
   },
   {
    "duration": 53,
    "start_time": "2022-05-13T08:49:36.831Z"
   },
   {
    "duration": 206,
    "start_time": "2022-05-13T08:49:36.886Z"
   },
   {
    "duration": 170,
    "start_time": "2022-05-13T08:49:37.095Z"
   },
   {
    "duration": 279,
    "start_time": "2022-05-13T08:49:37.267Z"
   },
   {
    "duration": 82,
    "start_time": "2022-05-13T08:49:37.548Z"
   },
   {
    "duration": 131,
    "start_time": "2022-05-13T08:49:37.632Z"
   },
   {
    "duration": 6,
    "start_time": "2022-05-13T08:49:37.766Z"
   },
   {
    "duration": 22,
    "start_time": "2022-05-13T08:49:37.773Z"
   },
   {
    "duration": 9,
    "start_time": "2022-05-13T08:49:37.799Z"
   },
   {
    "duration": 14,
    "start_time": "2022-05-13T08:49:37.811Z"
   },
   {
    "duration": 8,
    "start_time": "2022-05-13T08:49:37.827Z"
   },
   {
    "duration": 120,
    "start_time": "2022-05-13T08:49:37.837Z"
   },
   {
    "duration": 26,
    "start_time": "2022-05-13T08:49:37.961Z"
   },
   {
    "duration": 4,
    "start_time": "2022-05-13T08:49:37.989Z"
   },
   {
    "duration": 84,
    "start_time": "2022-05-13T08:49:37.994Z"
   },
   {
    "duration": 37,
    "start_time": "2022-05-13T08:49:38.080Z"
   },
   {
    "duration": 101,
    "start_time": "2022-05-13T08:49:38.119Z"
   },
   {
    "duration": 21,
    "start_time": "2022-05-13T08:49:38.222Z"
   },
   {
    "duration": 65,
    "start_time": "2022-05-13T08:49:38.245Z"
   },
   {
    "duration": 31,
    "start_time": "2022-05-13T08:49:38.312Z"
   },
   {
    "duration": 56,
    "start_time": "2022-05-13T08:49:38.345Z"
   },
   {
    "duration": 36,
    "start_time": "2022-05-13T08:49:38.404Z"
   },
   {
    "duration": 153,
    "start_time": "2022-05-13T08:49:38.442Z"
   },
   {
    "duration": 0,
    "start_time": "2022-05-13T08:49:38.598Z"
   },
   {
    "duration": 0,
    "start_time": "2022-05-13T08:49:38.600Z"
   },
   {
    "duration": 0,
    "start_time": "2022-05-13T08:49:38.602Z"
   },
   {
    "duration": 0,
    "start_time": "2022-05-13T08:49:38.604Z"
   },
   {
    "duration": 0,
    "start_time": "2022-05-13T08:49:38.605Z"
   },
   {
    "duration": 0,
    "start_time": "2022-05-13T08:49:38.606Z"
   },
   {
    "duration": 0,
    "start_time": "2022-05-13T08:49:38.607Z"
   },
   {
    "duration": 0,
    "start_time": "2022-05-13T08:49:38.609Z"
   },
   {
    "duration": 0,
    "start_time": "2022-05-13T08:49:38.610Z"
   },
   {
    "duration": 0,
    "start_time": "2022-05-13T08:49:38.611Z"
   },
   {
    "duration": 0,
    "start_time": "2022-05-13T08:49:38.612Z"
   },
   {
    "duration": 0,
    "start_time": "2022-05-13T08:49:38.613Z"
   },
   {
    "duration": 0,
    "start_time": "2022-05-13T08:49:38.615Z"
   },
   {
    "duration": 0,
    "start_time": "2022-05-13T08:49:38.616Z"
   },
   {
    "duration": 0,
    "start_time": "2022-05-13T08:49:38.618Z"
   },
   {
    "duration": 0,
    "start_time": "2022-05-13T08:49:38.619Z"
   },
   {
    "duration": 0,
    "start_time": "2022-05-13T08:49:38.620Z"
   },
   {
    "duration": 1,
    "start_time": "2022-05-13T08:49:38.665Z"
   },
   {
    "duration": 0,
    "start_time": "2022-05-13T08:49:38.667Z"
   },
   {
    "duration": 0,
    "start_time": "2022-05-13T08:49:38.668Z"
   },
   {
    "duration": 0,
    "start_time": "2022-05-13T08:49:38.669Z"
   },
   {
    "duration": 0,
    "start_time": "2022-05-13T08:49:38.673Z"
   },
   {
    "duration": 0,
    "start_time": "2022-05-13T08:49:38.674Z"
   },
   {
    "duration": 0,
    "start_time": "2022-05-13T08:49:38.676Z"
   },
   {
    "duration": 0,
    "start_time": "2022-05-13T08:49:38.677Z"
   },
   {
    "duration": 0,
    "start_time": "2022-05-13T08:49:38.679Z"
   },
   {
    "duration": 0,
    "start_time": "2022-05-13T08:49:38.680Z"
   },
   {
    "duration": 0,
    "start_time": "2022-05-13T08:49:38.682Z"
   },
   {
    "duration": 0,
    "start_time": "2022-05-13T08:49:38.683Z"
   },
   {
    "duration": 0,
    "start_time": "2022-05-13T08:49:38.685Z"
   },
   {
    "duration": 0,
    "start_time": "2022-05-13T08:49:38.686Z"
   },
   {
    "duration": 0,
    "start_time": "2022-05-13T08:49:38.688Z"
   },
   {
    "duration": 0,
    "start_time": "2022-05-13T08:49:38.689Z"
   },
   {
    "duration": 0,
    "start_time": "2022-05-13T08:49:38.690Z"
   },
   {
    "duration": 1226,
    "start_time": "2022-05-13T08:50:27.483Z"
   },
   {
    "duration": 57,
    "start_time": "2022-05-13T08:50:28.711Z"
   },
   {
    "duration": 222,
    "start_time": "2022-05-13T08:50:28.770Z"
   },
   {
    "duration": 268,
    "start_time": "2022-05-13T08:50:28.994Z"
   },
   {
    "duration": 313,
    "start_time": "2022-05-13T08:50:29.267Z"
   },
   {
    "duration": 45,
    "start_time": "2022-05-13T08:50:29.583Z"
   },
   {
    "duration": 128,
    "start_time": "2022-05-13T08:50:29.630Z"
   },
   {
    "duration": 7,
    "start_time": "2022-05-13T08:50:29.760Z"
   },
   {
    "duration": 26,
    "start_time": "2022-05-13T08:50:29.769Z"
   },
   {
    "duration": 5,
    "start_time": "2022-05-13T08:50:29.797Z"
   },
   {
    "duration": 9,
    "start_time": "2022-05-13T08:50:29.804Z"
   },
   {
    "duration": 4,
    "start_time": "2022-05-13T08:50:29.815Z"
   },
   {
    "duration": 109,
    "start_time": "2022-05-13T08:50:29.820Z"
   },
   {
    "duration": 32,
    "start_time": "2022-05-13T08:50:29.933Z"
   },
   {
    "duration": 4,
    "start_time": "2022-05-13T08:50:29.967Z"
   },
   {
    "duration": 65,
    "start_time": "2022-05-13T08:50:29.974Z"
   },
   {
    "duration": 40,
    "start_time": "2022-05-13T08:50:30.041Z"
   },
   {
    "duration": 95,
    "start_time": "2022-05-13T08:50:30.085Z"
   },
   {
    "duration": 25,
    "start_time": "2022-05-13T08:50:30.186Z"
   },
   {
    "duration": 50,
    "start_time": "2022-05-13T08:50:30.214Z"
   },
   {
    "duration": 35,
    "start_time": "2022-05-13T08:50:30.267Z"
   },
   {
    "duration": 69,
    "start_time": "2022-05-13T08:50:30.305Z"
   },
   {
    "duration": 35,
    "start_time": "2022-05-13T08:50:30.377Z"
   },
   {
    "duration": 124,
    "start_time": "2022-05-13T08:50:30.414Z"
   },
   {
    "duration": 0,
    "start_time": "2022-05-13T08:50:30.540Z"
   },
   {
    "duration": 0,
    "start_time": "2022-05-13T08:50:30.542Z"
   },
   {
    "duration": 0,
    "start_time": "2022-05-13T08:50:30.543Z"
   },
   {
    "duration": 0,
    "start_time": "2022-05-13T08:50:30.544Z"
   },
   {
    "duration": 0,
    "start_time": "2022-05-13T08:50:30.545Z"
   },
   {
    "duration": 0,
    "start_time": "2022-05-13T08:50:30.546Z"
   },
   {
    "duration": 0,
    "start_time": "2022-05-13T08:50:30.547Z"
   },
   {
    "duration": 0,
    "start_time": "2022-05-13T08:50:30.548Z"
   },
   {
    "duration": 0,
    "start_time": "2022-05-13T08:50:30.549Z"
   },
   {
    "duration": 0,
    "start_time": "2022-05-13T08:50:30.549Z"
   },
   {
    "duration": 0,
    "start_time": "2022-05-13T08:50:30.550Z"
   },
   {
    "duration": 0,
    "start_time": "2022-05-13T08:50:30.550Z"
   },
   {
    "duration": 0,
    "start_time": "2022-05-13T08:50:30.551Z"
   },
   {
    "duration": 0,
    "start_time": "2022-05-13T08:50:30.551Z"
   },
   {
    "duration": 0,
    "start_time": "2022-05-13T08:50:30.552Z"
   },
   {
    "duration": 0,
    "start_time": "2022-05-13T08:50:30.552Z"
   },
   {
    "duration": 0,
    "start_time": "2022-05-13T08:50:30.561Z"
   },
   {
    "duration": 0,
    "start_time": "2022-05-13T08:50:30.566Z"
   },
   {
    "duration": 0,
    "start_time": "2022-05-13T08:50:30.567Z"
   },
   {
    "duration": 0,
    "start_time": "2022-05-13T08:50:30.569Z"
   },
   {
    "duration": 0,
    "start_time": "2022-05-13T08:50:30.570Z"
   },
   {
    "duration": 0,
    "start_time": "2022-05-13T08:50:30.571Z"
   },
   {
    "duration": 0,
    "start_time": "2022-05-13T08:50:30.572Z"
   },
   {
    "duration": 0,
    "start_time": "2022-05-13T08:50:30.574Z"
   },
   {
    "duration": 0,
    "start_time": "2022-05-13T08:50:30.575Z"
   },
   {
    "duration": 0,
    "start_time": "2022-05-13T08:50:30.576Z"
   },
   {
    "duration": 0,
    "start_time": "2022-05-13T08:50:30.577Z"
   },
   {
    "duration": 0,
    "start_time": "2022-05-13T08:50:30.578Z"
   },
   {
    "duration": 0,
    "start_time": "2022-05-13T08:50:30.579Z"
   },
   {
    "duration": 0,
    "start_time": "2022-05-13T08:50:30.580Z"
   },
   {
    "duration": 0,
    "start_time": "2022-05-13T08:50:30.582Z"
   },
   {
    "duration": 0,
    "start_time": "2022-05-13T08:50:30.583Z"
   },
   {
    "duration": 0,
    "start_time": "2022-05-13T08:50:30.584Z"
   },
   {
    "duration": 0,
    "start_time": "2022-05-13T08:50:30.585Z"
   },
   {
    "duration": 0,
    "start_time": "2022-05-13T08:50:30.593Z"
   },
   {
    "duration": 0,
    "start_time": "2022-05-13T08:50:30.594Z"
   },
   {
    "duration": 39,
    "start_time": "2022-05-13T08:50:53.961Z"
   },
   {
    "duration": 2588,
    "start_time": "2022-05-13T08:51:53.308Z"
   },
   {
    "duration": 2560,
    "start_time": "2022-05-13T08:52:06.782Z"
   },
   {
    "duration": 13,
    "start_time": "2022-05-13T08:52:34.185Z"
   },
   {
    "duration": 1186,
    "start_time": "2022-05-13T09:05:29.639Z"
   },
   {
    "duration": 52,
    "start_time": "2022-05-13T09:05:30.826Z"
   },
   {
    "duration": 214,
    "start_time": "2022-05-13T09:05:30.881Z"
   },
   {
    "duration": 115,
    "start_time": "2022-05-13T09:05:31.098Z"
   },
   {
    "duration": 194,
    "start_time": "2022-05-13T09:05:31.215Z"
   },
   {
    "duration": 69,
    "start_time": "2022-05-13T09:05:31.410Z"
   },
   {
    "duration": 81,
    "start_time": "2022-05-13T09:05:31.481Z"
   },
   {
    "duration": 11,
    "start_time": "2022-05-13T09:05:31.564Z"
   },
   {
    "duration": 19,
    "start_time": "2022-05-13T09:05:31.576Z"
   },
   {
    "duration": 30,
    "start_time": "2022-05-13T09:05:31.597Z"
   },
   {
    "duration": 24,
    "start_time": "2022-05-13T09:05:31.629Z"
   },
   {
    "duration": 35,
    "start_time": "2022-05-13T09:05:31.654Z"
   },
   {
    "duration": 114,
    "start_time": "2022-05-13T09:05:31.691Z"
   },
   {
    "duration": 22,
    "start_time": "2022-05-13T09:05:31.806Z"
   },
   {
    "duration": 5,
    "start_time": "2022-05-13T09:05:31.830Z"
   },
   {
    "duration": 70,
    "start_time": "2022-05-13T09:05:31.837Z"
   },
   {
    "duration": 30,
    "start_time": "2022-05-13T09:05:31.909Z"
   },
   {
    "duration": 92,
    "start_time": "2022-05-13T09:05:31.941Z"
   },
   {
    "duration": 31,
    "start_time": "2022-05-13T09:05:32.035Z"
   },
   {
    "duration": 40,
    "start_time": "2022-05-13T09:05:32.067Z"
   },
   {
    "duration": 24,
    "start_time": "2022-05-13T09:05:32.109Z"
   },
   {
    "duration": 63,
    "start_time": "2022-05-13T09:05:32.135Z"
   },
   {
    "duration": 25,
    "start_time": "2022-05-13T09:05:32.200Z"
   },
   {
    "duration": 5,
    "start_time": "2022-05-13T09:05:32.227Z"
   },
   {
    "duration": 12,
    "start_time": "2022-05-13T09:05:32.234Z"
   },
   {
    "duration": 43,
    "start_time": "2022-05-13T09:05:32.247Z"
   },
   {
    "duration": 49,
    "start_time": "2022-05-13T09:05:32.291Z"
   },
   {
    "duration": 4,
    "start_time": "2022-05-13T09:05:32.343Z"
   },
   {
    "duration": 93,
    "start_time": "2022-05-13T09:05:32.349Z"
   },
   {
    "duration": 4,
    "start_time": "2022-05-13T09:05:32.443Z"
   },
   {
    "duration": 87,
    "start_time": "2022-05-13T09:05:32.449Z"
   },
   {
    "duration": 5,
    "start_time": "2022-05-13T09:05:32.539Z"
   },
   {
    "duration": 78,
    "start_time": "2022-05-13T09:05:32.546Z"
   },
   {
    "duration": 4,
    "start_time": "2022-05-13T09:05:32.626Z"
   },
   {
    "duration": 87,
    "start_time": "2022-05-13T09:05:32.632Z"
   },
   {
    "duration": 20,
    "start_time": "2022-05-13T09:05:32.720Z"
   },
   {
    "duration": 35,
    "start_time": "2022-05-13T09:05:32.742Z"
   },
   {
    "duration": 14,
    "start_time": "2022-05-13T09:05:32.779Z"
   },
   {
    "duration": 10,
    "start_time": "2022-05-13T09:05:32.795Z"
   },
   {
    "duration": 18,
    "start_time": "2022-05-13T09:05:32.807Z"
   },
   {
    "duration": 35,
    "start_time": "2022-05-13T09:05:32.827Z"
   },
   {
    "duration": 14,
    "start_time": "2022-05-13T09:05:32.864Z"
   },
   {
    "duration": 36,
    "start_time": "2022-05-13T09:05:32.880Z"
   },
   {
    "duration": 18,
    "start_time": "2022-05-13T09:05:32.918Z"
   },
   {
    "duration": 299,
    "start_time": "2022-05-13T09:05:32.938Z"
   },
   {
    "duration": 208,
    "start_time": "2022-05-13T09:05:33.239Z"
   },
   {
    "duration": 190,
    "start_time": "2022-05-13T09:05:33.449Z"
   },
   {
    "duration": 283,
    "start_time": "2022-05-13T09:05:33.640Z"
   },
   {
    "duration": 303,
    "start_time": "2022-05-13T09:05:33.925Z"
   },
   {
    "duration": 259,
    "start_time": "2022-05-13T09:05:34.231Z"
   },
   {
    "duration": 309,
    "start_time": "2022-05-13T09:05:34.491Z"
   },
   {
    "duration": 261,
    "start_time": "2022-05-13T09:05:34.802Z"
   },
   {
    "duration": 259,
    "start_time": "2022-05-13T09:05:35.065Z"
   },
   {
    "duration": 11,
    "start_time": "2022-05-13T09:05:35.325Z"
   },
   {
    "duration": 29,
    "start_time": "2022-05-13T09:05:35.338Z"
   },
   {
    "duration": 24,
    "start_time": "2022-05-13T09:05:35.369Z"
   },
   {
    "duration": 6,
    "start_time": "2022-05-13T09:05:35.395Z"
   },
   {
    "duration": 16,
    "start_time": "2022-05-13T09:05:35.403Z"
   },
   {
    "duration": 5,
    "start_time": "2022-05-13T09:13:11.806Z"
   },
   {
    "duration": 6,
    "start_time": "2022-05-13T09:13:21.611Z"
   },
   {
    "duration": 21,
    "start_time": "2022-05-13T09:14:21.679Z"
   },
   {
    "duration": 436,
    "start_time": "2022-05-13T09:26:24.854Z"
   },
   {
    "duration": 483,
    "start_time": "2022-05-13T09:27:00.708Z"
   },
   {
    "duration": 323,
    "start_time": "2022-05-13T09:27:15.617Z"
   },
   {
    "duration": 115,
    "start_time": "2022-05-13T09:31:07.807Z"
   },
   {
    "duration": 1425,
    "start_time": "2022-05-13T09:33:55.028Z"
   },
   {
    "duration": 75,
    "start_time": "2022-05-13T09:33:56.455Z"
   },
   {
    "duration": 250,
    "start_time": "2022-05-13T09:33:56.531Z"
   },
   {
    "duration": 126,
    "start_time": "2022-05-13T09:33:56.783Z"
   },
   {
    "duration": 223,
    "start_time": "2022-05-13T09:33:56.911Z"
   },
   {
    "duration": 68,
    "start_time": "2022-05-13T09:33:57.136Z"
   },
   {
    "duration": 111,
    "start_time": "2022-05-13T09:33:57.205Z"
   },
   {
    "duration": 7,
    "start_time": "2022-05-13T09:33:57.318Z"
   },
   {
    "duration": 13,
    "start_time": "2022-05-13T09:33:57.327Z"
   },
   {
    "duration": 7,
    "start_time": "2022-05-13T09:33:57.343Z"
   },
   {
    "duration": 14,
    "start_time": "2022-05-13T09:33:57.364Z"
   },
   {
    "duration": 20,
    "start_time": "2022-05-13T09:33:57.380Z"
   },
   {
    "duration": 121,
    "start_time": "2022-05-13T09:33:57.403Z"
   },
   {
    "duration": 26,
    "start_time": "2022-05-13T09:33:57.526Z"
   },
   {
    "duration": 6,
    "start_time": "2022-05-13T09:33:57.562Z"
   },
   {
    "duration": 90,
    "start_time": "2022-05-13T09:33:57.570Z"
   },
   {
    "duration": 36,
    "start_time": "2022-05-13T09:33:57.662Z"
   },
   {
    "duration": 87,
    "start_time": "2022-05-13T09:33:57.701Z"
   },
   {
    "duration": 23,
    "start_time": "2022-05-13T09:33:57.790Z"
   },
   {
    "duration": 61,
    "start_time": "2022-05-13T09:33:57.815Z"
   },
   {
    "duration": 33,
    "start_time": "2022-05-13T09:33:57.877Z"
   },
   {
    "duration": 67,
    "start_time": "2022-05-13T09:33:57.912Z"
   },
   {
    "duration": 35,
    "start_time": "2022-05-13T09:33:57.981Z"
   },
   {
    "duration": 3,
    "start_time": "2022-05-13T09:33:58.019Z"
   },
   {
    "duration": 22,
    "start_time": "2022-05-13T09:33:58.024Z"
   },
   {
    "duration": 23,
    "start_time": "2022-05-13T09:33:58.049Z"
   },
   {
    "duration": 55,
    "start_time": "2022-05-13T09:33:58.073Z"
   },
   {
    "duration": 5,
    "start_time": "2022-05-13T09:33:58.133Z"
   },
   {
    "duration": 95,
    "start_time": "2022-05-13T09:33:58.140Z"
   },
   {
    "duration": 6,
    "start_time": "2022-05-13T09:33:58.237Z"
   },
   {
    "duration": 114,
    "start_time": "2022-05-13T09:33:58.245Z"
   },
   {
    "duration": 7,
    "start_time": "2022-05-13T09:33:58.361Z"
   },
   {
    "duration": 116,
    "start_time": "2022-05-13T09:33:58.374Z"
   },
   {
    "duration": 7,
    "start_time": "2022-05-13T09:33:58.492Z"
   },
   {
    "duration": 118,
    "start_time": "2022-05-13T09:33:58.503Z"
   },
   {
    "duration": 23,
    "start_time": "2022-05-13T09:33:58.623Z"
   },
   {
    "duration": 70,
    "start_time": "2022-05-13T09:33:58.648Z"
   },
   {
    "duration": 21,
    "start_time": "2022-05-13T09:33:58.720Z"
   },
   {
    "duration": 12,
    "start_time": "2022-05-13T09:33:58.743Z"
   },
   {
    "duration": 43,
    "start_time": "2022-05-13T09:33:58.758Z"
   },
   {
    "duration": 13,
    "start_time": "2022-05-13T09:33:58.803Z"
   },
   {
    "duration": 16,
    "start_time": "2022-05-13T09:33:58.817Z"
   },
   {
    "duration": 44,
    "start_time": "2022-05-13T09:33:58.835Z"
   },
   {
    "duration": 6,
    "start_time": "2022-05-13T09:33:58.881Z"
   },
   {
    "duration": 10,
    "start_time": "2022-05-13T09:33:58.889Z"
   },
   {
    "duration": 159,
    "start_time": "2022-05-13T09:33:58.901Z"
   },
   {
    "duration": 0,
    "start_time": "2022-05-13T09:33:59.064Z"
   },
   {
    "duration": 0,
    "start_time": "2022-05-13T09:33:59.065Z"
   },
   {
    "duration": 0,
    "start_time": "2022-05-13T09:33:59.066Z"
   },
   {
    "duration": 0,
    "start_time": "2022-05-13T09:33:59.068Z"
   },
   {
    "duration": 0,
    "start_time": "2022-05-13T09:33:59.070Z"
   },
   {
    "duration": 0,
    "start_time": "2022-05-13T09:33:59.071Z"
   },
   {
    "duration": 0,
    "start_time": "2022-05-13T09:33:59.073Z"
   },
   {
    "duration": 0,
    "start_time": "2022-05-13T09:33:59.074Z"
   },
   {
    "duration": 0,
    "start_time": "2022-05-13T09:33:59.076Z"
   },
   {
    "duration": 0,
    "start_time": "2022-05-13T09:33:59.077Z"
   },
   {
    "duration": 0,
    "start_time": "2022-05-13T09:33:59.080Z"
   },
   {
    "duration": 0,
    "start_time": "2022-05-13T09:33:59.082Z"
   },
   {
    "duration": 0,
    "start_time": "2022-05-13T09:33:59.083Z"
   },
   {
    "duration": 0,
    "start_time": "2022-05-13T09:33:59.084Z"
   },
   {
    "duration": 0,
    "start_time": "2022-05-13T09:33:59.086Z"
   },
   {
    "duration": 0,
    "start_time": "2022-05-13T09:33:59.087Z"
   },
   {
    "duration": 159,
    "start_time": "2022-05-13T09:36:18.008Z"
   },
   {
    "duration": 46,
    "start_time": "2022-05-13T09:36:22.742Z"
   },
   {
    "duration": 3,
    "start_time": "2022-05-13T09:37:39.870Z"
   },
   {
    "duration": 339,
    "start_time": "2022-05-13T09:41:22.229Z"
   },
   {
    "duration": 8,
    "start_time": "2022-05-13T09:41:36.504Z"
   },
   {
    "duration": 327,
    "start_time": "2022-05-13T09:41:41.119Z"
   },
   {
    "duration": 225,
    "start_time": "2022-05-13T09:42:17.596Z"
   },
   {
    "duration": 197,
    "start_time": "2022-05-13T09:42:18.139Z"
   },
   {
    "duration": 243,
    "start_time": "2022-05-13T09:42:21.506Z"
   },
   {
    "duration": 318,
    "start_time": "2022-05-13T09:42:22.310Z"
   },
   {
    "duration": 232,
    "start_time": "2022-05-13T09:42:55.788Z"
   },
   {
    "duration": 253,
    "start_time": "2022-05-13T09:43:01.707Z"
   },
   {
    "duration": 3,
    "start_time": "2022-05-13T09:43:18.944Z"
   },
   {
    "duration": 304,
    "start_time": "2022-05-13T09:43:42.097Z"
   },
   {
    "duration": 258,
    "start_time": "2022-05-13T09:43:52.267Z"
   },
   {
    "duration": 318,
    "start_time": "2022-05-13T09:44:08.399Z"
   },
   {
    "duration": 3,
    "start_time": "2022-05-13T09:44:32.552Z"
   },
   {
    "duration": 357,
    "start_time": "2022-05-13T09:44:47.499Z"
   },
   {
    "duration": 188,
    "start_time": "2022-05-13T09:44:54.554Z"
   },
   {
    "duration": 228,
    "start_time": "2022-05-13T09:45:01.918Z"
   },
   {
    "duration": 228,
    "start_time": "2022-05-13T09:45:11.247Z"
   },
   {
    "duration": 3,
    "start_time": "2022-05-13T09:46:26.987Z"
   },
   {
    "duration": 315,
    "start_time": "2022-05-13T09:47:00.873Z"
   },
   {
    "duration": 333,
    "start_time": "2022-05-13T09:47:08.543Z"
   },
   {
    "duration": 443,
    "start_time": "2022-05-13T09:47:41.713Z"
   },
   {
    "duration": 406,
    "start_time": "2022-05-13T09:47:46.487Z"
   },
   {
    "duration": 265,
    "start_time": "2022-05-13T09:47:55.217Z"
   },
   {
    "duration": 3,
    "start_time": "2022-05-13T09:48:22.537Z"
   },
   {
    "duration": 247,
    "start_time": "2022-05-13T09:48:23.993Z"
   },
   {
    "duration": 229,
    "start_time": "2022-05-13T09:48:32.614Z"
   },
   {
    "duration": 315,
    "start_time": "2022-05-13T09:48:45.281Z"
   },
   {
    "duration": 8,
    "start_time": "2022-05-13T09:48:50.703Z"
   },
   {
    "duration": 438,
    "start_time": "2022-05-13T09:48:51.966Z"
   },
   {
    "duration": 281,
    "start_time": "2022-05-13T09:49:05.942Z"
   },
   {
    "duration": 292,
    "start_time": "2022-05-13T09:49:11.311Z"
   },
   {
    "duration": 10,
    "start_time": "2022-05-13T09:49:19.361Z"
   },
   {
    "duration": 332,
    "start_time": "2022-05-13T10:05:29.842Z"
   },
   {
    "duration": 351,
    "start_time": "2022-05-13T10:05:33.011Z"
   },
   {
    "duration": 3,
    "start_time": "2022-05-13T10:05:47.748Z"
   },
   {
    "duration": 430,
    "start_time": "2022-05-13T10:06:30.121Z"
   },
   {
    "duration": 439,
    "start_time": "2022-05-13T10:06:32.999Z"
   },
   {
    "duration": 4,
    "start_time": "2022-05-13T10:06:44.399Z"
   },
   {
    "duration": 272,
    "start_time": "2022-05-13T10:07:17.499Z"
   },
   {
    "duration": 281,
    "start_time": "2022-05-13T10:07:21.563Z"
   },
   {
    "duration": 2,
    "start_time": "2022-05-13T10:07:30.761Z"
   },
   {
    "duration": 14,
    "start_time": "2022-05-13T10:08:34.023Z"
   },
   {
    "duration": 13,
    "start_time": "2022-05-13T10:08:36.531Z"
   },
   {
    "duration": 14,
    "start_time": "2022-05-13T10:09:02.094Z"
   },
   {
    "duration": 4,
    "start_time": "2022-05-13T10:09:02.885Z"
   },
   {
    "duration": 20,
    "start_time": "2022-05-13T10:09:06.246Z"
   },
   {
    "duration": 23,
    "start_time": "2022-05-13T10:10:28.269Z"
   },
   {
    "duration": 17,
    "start_time": "2022-05-13T10:10:34.801Z"
   },
   {
    "duration": 22,
    "start_time": "2022-05-13T10:10:43.990Z"
   },
   {
    "duration": 17,
    "start_time": "2022-05-13T10:11:33.589Z"
   },
   {
    "duration": 1352,
    "start_time": "2022-05-13T10:13:01.835Z"
   },
   {
    "duration": 64,
    "start_time": "2022-05-13T10:13:03.192Z"
   },
   {
    "duration": 488,
    "start_time": "2022-05-13T10:13:03.258Z"
   },
   {
    "duration": 186,
    "start_time": "2022-05-13T10:13:03.748Z"
   },
   {
    "duration": 552,
    "start_time": "2022-05-13T10:13:03.936Z"
   },
   {
    "duration": 61,
    "start_time": "2022-05-13T10:13:04.490Z"
   },
   {
    "duration": 97,
    "start_time": "2022-05-13T10:13:04.553Z"
   },
   {
    "duration": 5,
    "start_time": "2022-05-13T10:13:04.652Z"
   },
   {
    "duration": 6,
    "start_time": "2022-05-13T10:13:04.665Z"
   },
   {
    "duration": 28,
    "start_time": "2022-05-13T10:13:04.676Z"
   },
   {
    "duration": 13,
    "start_time": "2022-05-13T10:13:04.705Z"
   },
   {
    "duration": 6,
    "start_time": "2022-05-13T10:13:04.721Z"
   },
   {
    "duration": 102,
    "start_time": "2022-05-13T10:13:04.731Z"
   },
   {
    "duration": 24,
    "start_time": "2022-05-13T10:13:04.835Z"
   },
   {
    "duration": 6,
    "start_time": "2022-05-13T10:13:04.866Z"
   },
   {
    "duration": 70,
    "start_time": "2022-05-13T10:13:04.876Z"
   },
   {
    "duration": 31,
    "start_time": "2022-05-13T10:13:04.948Z"
   },
   {
    "duration": 72,
    "start_time": "2022-05-13T10:13:04.983Z"
   },
   {
    "duration": 34,
    "start_time": "2022-05-13T10:13:05.057Z"
   },
   {
    "duration": 41,
    "start_time": "2022-05-13T10:13:05.101Z"
   },
   {
    "duration": 25,
    "start_time": "2022-05-13T10:13:05.144Z"
   },
   {
    "duration": 47,
    "start_time": "2022-05-13T10:13:05.171Z"
   },
   {
    "duration": 46,
    "start_time": "2022-05-13T10:13:05.220Z"
   },
   {
    "duration": 4,
    "start_time": "2022-05-13T10:13:05.268Z"
   },
   {
    "duration": 39,
    "start_time": "2022-05-13T10:13:05.273Z"
   },
   {
    "duration": 17,
    "start_time": "2022-05-13T10:13:05.314Z"
   },
   {
    "duration": 39,
    "start_time": "2022-05-13T10:13:05.332Z"
   },
   {
    "duration": 7,
    "start_time": "2022-05-13T10:13:05.377Z"
   },
   {
    "duration": 79,
    "start_time": "2022-05-13T10:13:05.386Z"
   },
   {
    "duration": 7,
    "start_time": "2022-05-13T10:13:05.471Z"
   },
   {
    "duration": 101,
    "start_time": "2022-05-13T10:13:05.483Z"
   },
   {
    "duration": 8,
    "start_time": "2022-05-13T10:13:05.587Z"
   },
   {
    "duration": 73,
    "start_time": "2022-05-13T10:13:05.598Z"
   },
   {
    "duration": 5,
    "start_time": "2022-05-13T10:13:05.677Z"
   },
   {
    "duration": 102,
    "start_time": "2022-05-13T10:13:05.685Z"
   },
   {
    "duration": 21,
    "start_time": "2022-05-13T10:13:05.789Z"
   },
   {
    "duration": 28,
    "start_time": "2022-05-13T10:13:05.812Z"
   },
   {
    "duration": 35,
    "start_time": "2022-05-13T10:13:05.842Z"
   },
   {
    "duration": 19,
    "start_time": "2022-05-13T10:13:05.879Z"
   },
   {
    "duration": 17,
    "start_time": "2022-05-13T10:13:05.900Z"
   },
   {
    "duration": 12,
    "start_time": "2022-05-13T10:13:05.918Z"
   },
   {
    "duration": 10,
    "start_time": "2022-05-13T10:13:05.932Z"
   },
   {
    "duration": 56,
    "start_time": "2022-05-13T10:13:05.943Z"
   },
   {
    "duration": 4,
    "start_time": "2022-05-13T10:13:06.001Z"
   },
   {
    "duration": 60,
    "start_time": "2022-05-13T10:13:06.007Z"
   },
   {
    "duration": 272,
    "start_time": "2022-05-13T10:13:06.072Z"
   },
   {
    "duration": 318,
    "start_time": "2022-05-13T10:13:06.346Z"
   },
   {
    "duration": 192,
    "start_time": "2022-05-13T10:13:06.666Z"
   },
   {
    "duration": 262,
    "start_time": "2022-05-13T10:13:06.860Z"
   },
   {
    "duration": 395,
    "start_time": "2022-05-13T10:13:07.123Z"
   },
   {
    "duration": 281,
    "start_time": "2022-05-13T10:13:07.520Z"
   },
   {
    "duration": 3,
    "start_time": "2022-05-13T10:13:07.803Z"
   },
   {
    "duration": 14,
    "start_time": "2022-05-13T10:13:07.808Z"
   },
   {
    "duration": 16,
    "start_time": "2022-05-13T10:13:07.824Z"
   },
   {
    "duration": 27,
    "start_time": "2022-05-13T10:13:07.842Z"
   },
   {
    "duration": 30,
    "start_time": "2022-05-13T10:13:07.871Z"
   },
   {
    "duration": 16,
    "start_time": "2022-05-13T10:13:07.904Z"
   },
   {
    "duration": 367,
    "start_time": "2022-05-13T10:13:07.923Z"
   },
   {
    "duration": 310,
    "start_time": "2022-05-13T10:13:08.292Z"
   },
   {
    "duration": 340,
    "start_time": "2022-05-13T10:13:08.604Z"
   },
   {
    "duration": 3,
    "start_time": "2022-05-13T10:13:08.946Z"
   },
   {
    "duration": 35,
    "start_time": "2022-05-13T10:13:08.951Z"
   },
   {
    "duration": 21,
    "start_time": "2022-05-13T10:13:08.995Z"
   },
   {
    "duration": 61,
    "start_time": "2022-05-13T10:13:09.018Z"
   },
   {
    "duration": 34,
    "start_time": "2022-05-13T10:13:09.081Z"
   },
   {
    "duration": 26,
    "start_time": "2022-05-13T10:13:09.117Z"
   },
   {
    "duration": 10,
    "start_time": "2022-05-13T10:13:09.144Z"
   },
   {
    "duration": 54,
    "start_time": "2022-05-13T10:13:09.155Z"
   },
   {
    "duration": 118,
    "start_time": "2022-05-13T10:17:21.927Z"
   },
   {
    "duration": 1428,
    "start_time": "2022-05-13T10:17:25.794Z"
   },
   {
    "duration": 57,
    "start_time": "2022-05-13T10:17:27.225Z"
   },
   {
    "duration": 261,
    "start_time": "2022-05-13T10:17:27.292Z"
   },
   {
    "duration": 162,
    "start_time": "2022-05-13T10:17:27.555Z"
   },
   {
    "duration": 218,
    "start_time": "2022-05-13T10:17:27.719Z"
   },
   {
    "duration": 63,
    "start_time": "2022-05-13T10:17:27.939Z"
   },
   {
    "duration": 108,
    "start_time": "2022-05-13T10:17:28.005Z"
   },
   {
    "duration": 9,
    "start_time": "2022-05-13T10:17:28.115Z"
   },
   {
    "duration": 13,
    "start_time": "2022-05-13T10:17:28.126Z"
   },
   {
    "duration": 10,
    "start_time": "2022-05-13T10:17:28.142Z"
   },
   {
    "duration": 23,
    "start_time": "2022-05-13T10:17:28.154Z"
   },
   {
    "duration": 33,
    "start_time": "2022-05-13T10:17:28.178Z"
   },
   {
    "duration": 10,
    "start_time": "2022-05-13T10:17:28.214Z"
   },
   {
    "duration": 156,
    "start_time": "2022-05-13T10:17:28.227Z"
   },
   {
    "duration": 0,
    "start_time": "2022-05-13T10:17:28.387Z"
   },
   {
    "duration": 1,
    "start_time": "2022-05-13T10:17:28.388Z"
   },
   {
    "duration": 0,
    "start_time": "2022-05-13T10:17:28.390Z"
   },
   {
    "duration": 0,
    "start_time": "2022-05-13T10:17:28.390Z"
   },
   {
    "duration": 0,
    "start_time": "2022-05-13T10:17:28.392Z"
   },
   {
    "duration": 0,
    "start_time": "2022-05-13T10:17:28.393Z"
   },
   {
    "duration": 0,
    "start_time": "2022-05-13T10:17:28.394Z"
   },
   {
    "duration": 0,
    "start_time": "2022-05-13T10:17:28.395Z"
   },
   {
    "duration": 0,
    "start_time": "2022-05-13T10:17:28.397Z"
   },
   {
    "duration": 0,
    "start_time": "2022-05-13T10:17:28.398Z"
   },
   {
    "duration": 0,
    "start_time": "2022-05-13T10:17:28.399Z"
   },
   {
    "duration": 0,
    "start_time": "2022-05-13T10:17:28.400Z"
   },
   {
    "duration": 0,
    "start_time": "2022-05-13T10:17:28.401Z"
   },
   {
    "duration": 0,
    "start_time": "2022-05-13T10:17:28.403Z"
   },
   {
    "duration": 0,
    "start_time": "2022-05-13T10:17:28.404Z"
   },
   {
    "duration": 0,
    "start_time": "2022-05-13T10:17:28.406Z"
   },
   {
    "duration": 0,
    "start_time": "2022-05-13T10:17:28.407Z"
   },
   {
    "duration": 0,
    "start_time": "2022-05-13T10:17:28.409Z"
   },
   {
    "duration": 0,
    "start_time": "2022-05-13T10:17:28.410Z"
   },
   {
    "duration": 0,
    "start_time": "2022-05-13T10:17:28.412Z"
   },
   {
    "duration": 0,
    "start_time": "2022-05-13T10:17:28.413Z"
   },
   {
    "duration": 0,
    "start_time": "2022-05-13T10:17:28.414Z"
   },
   {
    "duration": 0,
    "start_time": "2022-05-13T10:17:28.416Z"
   },
   {
    "duration": 0,
    "start_time": "2022-05-13T10:17:28.417Z"
   },
   {
    "duration": 0,
    "start_time": "2022-05-13T10:17:28.418Z"
   },
   {
    "duration": 0,
    "start_time": "2022-05-13T10:17:28.420Z"
   },
   {
    "duration": 0,
    "start_time": "2022-05-13T10:17:28.421Z"
   },
   {
    "duration": 0,
    "start_time": "2022-05-13T10:17:28.422Z"
   },
   {
    "duration": 0,
    "start_time": "2022-05-13T10:17:28.424Z"
   },
   {
    "duration": 0,
    "start_time": "2022-05-13T10:17:28.465Z"
   },
   {
    "duration": 0,
    "start_time": "2022-05-13T10:17:28.466Z"
   },
   {
    "duration": 0,
    "start_time": "2022-05-13T10:17:28.468Z"
   },
   {
    "duration": 0,
    "start_time": "2022-05-13T10:17:28.469Z"
   },
   {
    "duration": 0,
    "start_time": "2022-05-13T10:17:28.471Z"
   },
   {
    "duration": 0,
    "start_time": "2022-05-13T10:17:28.472Z"
   },
   {
    "duration": 0,
    "start_time": "2022-05-13T10:17:28.474Z"
   },
   {
    "duration": 0,
    "start_time": "2022-05-13T10:17:28.475Z"
   },
   {
    "duration": 0,
    "start_time": "2022-05-13T10:17:28.477Z"
   },
   {
    "duration": 0,
    "start_time": "2022-05-13T10:17:28.479Z"
   },
   {
    "duration": 0,
    "start_time": "2022-05-13T10:17:28.480Z"
   },
   {
    "duration": 0,
    "start_time": "2022-05-13T10:17:28.482Z"
   },
   {
    "duration": 0,
    "start_time": "2022-05-13T10:17:28.484Z"
   },
   {
    "duration": 0,
    "start_time": "2022-05-13T10:17:28.485Z"
   },
   {
    "duration": 0,
    "start_time": "2022-05-13T10:17:28.487Z"
   },
   {
    "duration": 0,
    "start_time": "2022-05-13T10:17:28.488Z"
   },
   {
    "duration": 0,
    "start_time": "2022-05-13T10:17:28.490Z"
   },
   {
    "duration": 0,
    "start_time": "2022-05-13T10:17:28.491Z"
   },
   {
    "duration": 7,
    "start_time": "2022-05-13T10:17:46.720Z"
   },
   {
    "duration": 3,
    "start_time": "2022-05-13T10:18:30.697Z"
   },
   {
    "duration": 2,
    "start_time": "2022-05-13T10:18:33.337Z"
   },
   {
    "duration": 109,
    "start_time": "2022-05-13T10:18:34.400Z"
   },
   {
    "duration": 112,
    "start_time": "2022-05-13T10:18:39.915Z"
   },
   {
    "duration": 1367,
    "start_time": "2022-05-13T10:19:07.989Z"
   },
   {
    "duration": 84,
    "start_time": "2022-05-13T10:19:09.358Z"
   },
   {
    "duration": 279,
    "start_time": "2022-05-13T10:19:09.444Z"
   },
   {
    "duration": 194,
    "start_time": "2022-05-13T10:19:09.725Z"
   },
   {
    "duration": 218,
    "start_time": "2022-05-13T10:19:09.923Z"
   },
   {
    "duration": 81,
    "start_time": "2022-05-13T10:19:10.143Z"
   },
   {
    "duration": 103,
    "start_time": "2022-05-13T10:19:10.227Z"
   },
   {
    "duration": 8,
    "start_time": "2022-05-13T10:19:10.332Z"
   },
   {
    "duration": 19,
    "start_time": "2022-05-13T10:19:10.342Z"
   },
   {
    "duration": 6,
    "start_time": "2022-05-13T10:19:10.373Z"
   },
   {
    "duration": 33,
    "start_time": "2022-05-13T10:19:10.381Z"
   },
   {
    "duration": 8,
    "start_time": "2022-05-13T10:19:10.415Z"
   },
   {
    "duration": 15,
    "start_time": "2022-05-13T10:19:10.425Z"
   },
   {
    "duration": 116,
    "start_time": "2022-05-13T10:19:10.442Z"
   },
   {
    "duration": 0,
    "start_time": "2022-05-13T10:19:10.560Z"
   },
   {
    "duration": 0,
    "start_time": "2022-05-13T10:19:10.561Z"
   },
   {
    "duration": 0,
    "start_time": "2022-05-13T10:19:10.561Z"
   },
   {
    "duration": 0,
    "start_time": "2022-05-13T10:19:10.562Z"
   },
   {
    "duration": 0,
    "start_time": "2022-05-13T10:19:10.563Z"
   },
   {
    "duration": 0,
    "start_time": "2022-05-13T10:19:10.563Z"
   },
   {
    "duration": 0,
    "start_time": "2022-05-13T10:19:10.564Z"
   },
   {
    "duration": 0,
    "start_time": "2022-05-13T10:19:10.567Z"
   },
   {
    "duration": 0,
    "start_time": "2022-05-13T10:19:10.568Z"
   },
   {
    "duration": 0,
    "start_time": "2022-05-13T10:19:10.569Z"
   },
   {
    "duration": 0,
    "start_time": "2022-05-13T10:19:10.571Z"
   },
   {
    "duration": 0,
    "start_time": "2022-05-13T10:19:10.572Z"
   },
   {
    "duration": 1,
    "start_time": "2022-05-13T10:19:10.573Z"
   },
   {
    "duration": 0,
    "start_time": "2022-05-13T10:19:10.575Z"
   },
   {
    "duration": 0,
    "start_time": "2022-05-13T10:19:10.576Z"
   },
   {
    "duration": 0,
    "start_time": "2022-05-13T10:19:10.577Z"
   },
   {
    "duration": 0,
    "start_time": "2022-05-13T10:19:10.579Z"
   },
   {
    "duration": 0,
    "start_time": "2022-05-13T10:19:10.580Z"
   },
   {
    "duration": 0,
    "start_time": "2022-05-13T10:19:10.582Z"
   },
   {
    "duration": 0,
    "start_time": "2022-05-13T10:19:10.583Z"
   },
   {
    "duration": 0,
    "start_time": "2022-05-13T10:19:10.584Z"
   },
   {
    "duration": 0,
    "start_time": "2022-05-13T10:19:10.585Z"
   },
   {
    "duration": 0,
    "start_time": "2022-05-13T10:19:10.587Z"
   },
   {
    "duration": 0,
    "start_time": "2022-05-13T10:19:10.588Z"
   },
   {
    "duration": 0,
    "start_time": "2022-05-13T10:19:10.590Z"
   },
   {
    "duration": 0,
    "start_time": "2022-05-13T10:19:10.591Z"
   },
   {
    "duration": 0,
    "start_time": "2022-05-13T10:19:10.592Z"
   },
   {
    "duration": 0,
    "start_time": "2022-05-13T10:19:10.594Z"
   },
   {
    "duration": 0,
    "start_time": "2022-05-13T10:19:10.595Z"
   },
   {
    "duration": 0,
    "start_time": "2022-05-13T10:19:10.596Z"
   },
   {
    "duration": 0,
    "start_time": "2022-05-13T10:19:10.598Z"
   },
   {
    "duration": 0,
    "start_time": "2022-05-13T10:19:10.599Z"
   },
   {
    "duration": 0,
    "start_time": "2022-05-13T10:19:10.600Z"
   },
   {
    "duration": 0,
    "start_time": "2022-05-13T10:19:10.601Z"
   },
   {
    "duration": 0,
    "start_time": "2022-05-13T10:19:10.603Z"
   },
   {
    "duration": 0,
    "start_time": "2022-05-13T10:19:10.604Z"
   },
   {
    "duration": 0,
    "start_time": "2022-05-13T10:19:10.605Z"
   },
   {
    "duration": 0,
    "start_time": "2022-05-13T10:19:10.607Z"
   },
   {
    "duration": 0,
    "start_time": "2022-05-13T10:19:10.608Z"
   },
   {
    "duration": 0,
    "start_time": "2022-05-13T10:19:10.609Z"
   },
   {
    "duration": 0,
    "start_time": "2022-05-13T10:19:10.610Z"
   },
   {
    "duration": 0,
    "start_time": "2022-05-13T10:19:10.610Z"
   },
   {
    "duration": 0,
    "start_time": "2022-05-13T10:19:10.611Z"
   },
   {
    "duration": 0,
    "start_time": "2022-05-13T10:19:10.611Z"
   },
   {
    "duration": 0,
    "start_time": "2022-05-13T10:19:10.612Z"
   },
   {
    "duration": 0,
    "start_time": "2022-05-13T10:19:10.613Z"
   },
   {
    "duration": 0,
    "start_time": "2022-05-13T10:19:10.664Z"
   },
   {
    "duration": 1482,
    "start_time": "2022-05-13T10:20:54.155Z"
   },
   {
    "duration": 62,
    "start_time": "2022-05-13T10:20:55.640Z"
   },
   {
    "duration": 294,
    "start_time": "2022-05-13T10:20:55.704Z"
   },
   {
    "duration": 137,
    "start_time": "2022-05-13T10:20:56.001Z"
   },
   {
    "duration": 250,
    "start_time": "2022-05-13T10:20:56.140Z"
   },
   {
    "duration": 61,
    "start_time": "2022-05-13T10:20:56.393Z"
   },
   {
    "duration": 107,
    "start_time": "2022-05-13T10:20:56.456Z"
   },
   {
    "duration": 6,
    "start_time": "2022-05-13T10:20:56.572Z"
   },
   {
    "duration": 39,
    "start_time": "2022-05-13T10:20:56.581Z"
   },
   {
    "duration": 11,
    "start_time": "2022-05-13T10:20:56.623Z"
   },
   {
    "duration": 10,
    "start_time": "2022-05-13T10:20:56.636Z"
   },
   {
    "duration": 7,
    "start_time": "2022-05-13T10:20:56.648Z"
   },
   {
    "duration": 127,
    "start_time": "2022-05-13T10:20:56.656Z"
   },
   {
    "duration": 28,
    "start_time": "2022-05-13T10:20:56.789Z"
   },
   {
    "duration": 4,
    "start_time": "2022-05-13T10:20:56.819Z"
   },
   {
    "duration": 85,
    "start_time": "2022-05-13T10:20:56.826Z"
   },
   {
    "duration": 54,
    "start_time": "2022-05-13T10:20:56.913Z"
   },
   {
    "duration": 115,
    "start_time": "2022-05-13T10:20:56.968Z"
   },
   {
    "duration": 27,
    "start_time": "2022-05-13T10:20:57.085Z"
   },
   {
    "duration": 91,
    "start_time": "2022-05-13T10:20:57.114Z"
   },
   {
    "duration": 34,
    "start_time": "2022-05-13T10:20:57.207Z"
   },
   {
    "duration": 52,
    "start_time": "2022-05-13T10:20:57.242Z"
   },
   {
    "duration": 29,
    "start_time": "2022-05-13T10:20:57.297Z"
   },
   {
    "duration": 9,
    "start_time": "2022-05-13T10:20:57.328Z"
   },
   {
    "duration": 14,
    "start_time": "2022-05-13T10:20:57.339Z"
   },
   {
    "duration": 12,
    "start_time": "2022-05-13T10:20:57.355Z"
   },
   {
    "duration": 82,
    "start_time": "2022-05-13T10:20:57.369Z"
   },
   {
    "duration": 5,
    "start_time": "2022-05-13T10:20:57.456Z"
   },
   {
    "duration": 128,
    "start_time": "2022-05-13T10:20:57.463Z"
   },
   {
    "duration": 4,
    "start_time": "2022-05-13T10:20:57.593Z"
   },
   {
    "duration": 103,
    "start_time": "2022-05-13T10:20:57.599Z"
   },
   {
    "duration": 8,
    "start_time": "2022-05-13T10:20:57.704Z"
   },
   {
    "duration": 79,
    "start_time": "2022-05-13T10:20:57.714Z"
   },
   {
    "duration": 6,
    "start_time": "2022-05-13T10:20:57.795Z"
   },
   {
    "duration": 114,
    "start_time": "2022-05-13T10:20:57.805Z"
   },
   {
    "duration": 23,
    "start_time": "2022-05-13T10:20:57.922Z"
   },
   {
    "duration": 33,
    "start_time": "2022-05-13T10:20:57.947Z"
   },
   {
    "duration": 22,
    "start_time": "2022-05-13T10:20:57.985Z"
   },
   {
    "duration": 12,
    "start_time": "2022-05-13T10:20:58.010Z"
   },
   {
    "duration": 25,
    "start_time": "2022-05-13T10:20:58.024Z"
   },
   {
    "duration": 12,
    "start_time": "2022-05-13T10:20:58.051Z"
   },
   {
    "duration": 55,
    "start_time": "2022-05-13T10:20:58.068Z"
   },
   {
    "duration": 62,
    "start_time": "2022-05-13T10:20:58.125Z"
   },
   {
    "duration": 52,
    "start_time": "2022-05-13T10:20:58.188Z"
   },
   {
    "duration": 325,
    "start_time": "2022-05-13T10:20:58.241Z"
   },
   {
    "duration": 693,
    "start_time": "2022-05-13T10:20:58.570Z"
   },
   {
    "duration": 408,
    "start_time": "2022-05-13T10:20:59.265Z"
   },
   {
    "duration": 372,
    "start_time": "2022-05-13T10:20:59.675Z"
   },
   {
    "duration": 645,
    "start_time": "2022-05-13T10:21:00.049Z"
   },
   {
    "duration": 354,
    "start_time": "2022-05-13T10:21:00.696Z"
   },
   {
    "duration": 363,
    "start_time": "2022-05-13T10:21:01.052Z"
   },
   {
    "duration": 327,
    "start_time": "2022-05-13T10:21:01.418Z"
   },
   {
    "duration": 405,
    "start_time": "2022-05-13T10:21:01.746Z"
   },
   {
    "duration": 32,
    "start_time": "2022-05-13T10:21:02.153Z"
   },
   {
    "duration": 43,
    "start_time": "2022-05-13T10:21:02.187Z"
   },
   {
    "duration": 13,
    "start_time": "2022-05-13T10:21:02.232Z"
   },
   {
    "duration": 6,
    "start_time": "2022-05-13T10:21:02.247Z"
   },
   {
    "duration": 19,
    "start_time": "2022-05-13T10:21:02.255Z"
   },
   {
    "duration": 116,
    "start_time": "2022-05-13T10:21:28.262Z"
   },
   {
    "duration": 1395,
    "start_time": "2022-05-13T10:21:35.089Z"
   },
   {
    "duration": 72,
    "start_time": "2022-05-13T10:21:36.487Z"
   },
   {
    "duration": 282,
    "start_time": "2022-05-13T10:21:36.561Z"
   },
   {
    "duration": 164,
    "start_time": "2022-05-13T10:21:36.845Z"
   },
   {
    "duration": 218,
    "start_time": "2022-05-13T10:21:37.011Z"
   },
   {
    "duration": 79,
    "start_time": "2022-05-13T10:21:37.231Z"
   },
   {
    "duration": 113,
    "start_time": "2022-05-13T10:21:37.311Z"
   },
   {
    "duration": 6,
    "start_time": "2022-05-13T10:21:37.428Z"
   },
   {
    "duration": 11,
    "start_time": "2022-05-13T10:21:37.436Z"
   },
   {
    "duration": 6,
    "start_time": "2022-05-13T10:21:37.448Z"
   },
   {
    "duration": 58,
    "start_time": "2022-05-13T10:21:37.462Z"
   },
   {
    "duration": 7,
    "start_time": "2022-05-13T10:21:37.522Z"
   },
   {
    "duration": 124,
    "start_time": "2022-05-13T10:21:37.531Z"
   },
   {
    "duration": 22,
    "start_time": "2022-05-13T10:21:37.658Z"
   },
   {
    "duration": 38,
    "start_time": "2022-05-13T10:21:37.681Z"
   },
   {
    "duration": 65,
    "start_time": "2022-05-13T10:21:37.721Z"
   },
   {
    "duration": 39,
    "start_time": "2022-05-13T10:21:37.788Z"
   },
   {
    "duration": 92,
    "start_time": "2022-05-13T10:21:37.829Z"
   },
   {
    "duration": 23,
    "start_time": "2022-05-13T10:21:37.923Z"
   },
   {
    "duration": 58,
    "start_time": "2022-05-13T10:21:37.948Z"
   },
   {
    "duration": 44,
    "start_time": "2022-05-13T10:21:38.010Z"
   },
   {
    "duration": 52,
    "start_time": "2022-05-13T10:21:38.055Z"
   },
   {
    "duration": 47,
    "start_time": "2022-05-13T10:21:38.109Z"
   },
   {
    "duration": 15,
    "start_time": "2022-05-13T10:21:38.158Z"
   },
   {
    "duration": 52,
    "start_time": "2022-05-13T10:21:38.174Z"
   },
   {
    "duration": 9,
    "start_time": "2022-05-13T10:21:38.228Z"
   },
   {
    "duration": 35,
    "start_time": "2022-05-13T10:21:38.239Z"
   },
   {
    "duration": 6,
    "start_time": "2022-05-13T10:21:38.277Z"
   },
   {
    "duration": 93,
    "start_time": "2022-05-13T10:21:38.284Z"
   },
   {
    "duration": 6,
    "start_time": "2022-05-13T10:21:38.384Z"
   },
   {
    "duration": 94,
    "start_time": "2022-05-13T10:21:38.398Z"
   },
   {
    "duration": 7,
    "start_time": "2022-05-13T10:21:38.496Z"
   },
   {
    "duration": 93,
    "start_time": "2022-05-13T10:21:38.508Z"
   },
   {
    "duration": 7,
    "start_time": "2022-05-13T10:21:38.607Z"
   },
   {
    "duration": 138,
    "start_time": "2022-05-13T10:21:38.616Z"
   },
   {
    "duration": 32,
    "start_time": "2022-05-13T10:21:38.757Z"
   },
   {
    "duration": 58,
    "start_time": "2022-05-13T10:21:38.792Z"
   },
   {
    "duration": 22,
    "start_time": "2022-05-13T10:21:38.851Z"
   },
   {
    "duration": 48,
    "start_time": "2022-05-13T10:21:38.874Z"
   },
   {
    "duration": 17,
    "start_time": "2022-05-13T10:21:38.925Z"
   },
   {
    "duration": 16,
    "start_time": "2022-05-13T10:21:38.947Z"
   },
   {
    "duration": 70,
    "start_time": "2022-05-13T10:21:38.970Z"
   },
   {
    "duration": 34,
    "start_time": "2022-05-13T10:21:39.042Z"
   },
   {
    "duration": 64,
    "start_time": "2022-05-13T10:21:39.082Z"
   },
   {
    "duration": 316,
    "start_time": "2022-05-13T10:21:39.148Z"
   },
   {
    "duration": 354,
    "start_time": "2022-05-13T10:21:39.468Z"
   },
   {
    "duration": 210,
    "start_time": "2022-05-13T10:21:39.824Z"
   },
   {
    "duration": 374,
    "start_time": "2022-05-13T10:21:40.039Z"
   },
   {
    "duration": 387,
    "start_time": "2022-05-13T10:21:40.419Z"
   },
   {
    "duration": 360,
    "start_time": "2022-05-13T10:21:40.808Z"
   },
   {
    "duration": 375,
    "start_time": "2022-05-13T10:21:41.173Z"
   },
   {
    "duration": 330,
    "start_time": "2022-05-13T10:21:41.550Z"
   },
   {
    "duration": 430,
    "start_time": "2022-05-13T10:21:41.884Z"
   },
   {
    "duration": 17,
    "start_time": "2022-05-13T10:21:42.316Z"
   },
   {
    "duration": 33,
    "start_time": "2022-05-13T10:21:42.336Z"
   },
   {
    "duration": 53,
    "start_time": "2022-05-13T10:21:42.371Z"
   },
   {
    "duration": 38,
    "start_time": "2022-05-13T10:21:42.426Z"
   },
   {
    "duration": 75,
    "start_time": "2022-05-13T10:21:42.466Z"
   },
   {
    "duration": 118,
    "start_time": "2022-05-13T10:28:53.214Z"
   },
   {
    "duration": 1340,
    "start_time": "2022-05-13T10:29:04.497Z"
   },
   {
    "duration": 61,
    "start_time": "2022-05-13T10:29:05.839Z"
   },
   {
    "duration": 238,
    "start_time": "2022-05-13T10:29:05.901Z"
   },
   {
    "duration": 142,
    "start_time": "2022-05-13T10:29:06.141Z"
   },
   {
    "duration": 238,
    "start_time": "2022-05-13T10:29:06.287Z"
   },
   {
    "duration": 56,
    "start_time": "2022-05-13T10:29:06.527Z"
   },
   {
    "duration": 99,
    "start_time": "2022-05-13T10:29:06.584Z"
   },
   {
    "duration": 9,
    "start_time": "2022-05-13T10:29:06.685Z"
   },
   {
    "duration": 16,
    "start_time": "2022-05-13T10:29:06.696Z"
   },
   {
    "duration": 12,
    "start_time": "2022-05-13T10:29:06.715Z"
   },
   {
    "duration": 30,
    "start_time": "2022-05-13T10:29:06.728Z"
   },
   {
    "duration": 42,
    "start_time": "2022-05-13T10:29:06.760Z"
   },
   {
    "duration": 114,
    "start_time": "2022-05-13T10:29:06.804Z"
   },
   {
    "duration": 24,
    "start_time": "2022-05-13T10:29:06.920Z"
   },
   {
    "duration": 25,
    "start_time": "2022-05-13T10:29:06.946Z"
   },
   {
    "duration": 78,
    "start_time": "2022-05-13T10:29:06.972Z"
   },
   {
    "duration": 33,
    "start_time": "2022-05-13T10:29:07.051Z"
   },
   {
    "duration": 896,
    "start_time": "2022-05-13T10:29:07.086Z"
   },
   {
    "duration": 0,
    "start_time": "2022-05-13T10:29:07.985Z"
   },
   {
    "duration": 0,
    "start_time": "2022-05-13T10:29:07.987Z"
   },
   {
    "duration": 0,
    "start_time": "2022-05-13T10:29:07.988Z"
   },
   {
    "duration": 0,
    "start_time": "2022-05-13T10:29:07.989Z"
   },
   {
    "duration": 0,
    "start_time": "2022-05-13T10:29:07.991Z"
   },
   {
    "duration": 0,
    "start_time": "2022-05-13T10:29:07.994Z"
   },
   {
    "duration": 0,
    "start_time": "2022-05-13T10:29:07.995Z"
   },
   {
    "duration": 0,
    "start_time": "2022-05-13T10:29:07.997Z"
   },
   {
    "duration": 0,
    "start_time": "2022-05-13T10:29:07.998Z"
   },
   {
    "duration": 0,
    "start_time": "2022-05-13T10:29:08.000Z"
   },
   {
    "duration": 0,
    "start_time": "2022-05-13T10:29:08.002Z"
   },
   {
    "duration": 0,
    "start_time": "2022-05-13T10:29:08.003Z"
   },
   {
    "duration": 0,
    "start_time": "2022-05-13T10:29:08.005Z"
   },
   {
    "duration": 0,
    "start_time": "2022-05-13T10:29:08.006Z"
   },
   {
    "duration": 0,
    "start_time": "2022-05-13T10:29:08.007Z"
   },
   {
    "duration": 0,
    "start_time": "2022-05-13T10:29:08.009Z"
   },
   {
    "duration": 0,
    "start_time": "2022-05-13T10:29:08.011Z"
   },
   {
    "duration": 0,
    "start_time": "2022-05-13T10:29:08.012Z"
   },
   {
    "duration": 0,
    "start_time": "2022-05-13T10:29:08.014Z"
   },
   {
    "duration": 0,
    "start_time": "2022-05-13T10:29:08.016Z"
   },
   {
    "duration": 0,
    "start_time": "2022-05-13T10:29:08.018Z"
   },
   {
    "duration": 0,
    "start_time": "2022-05-13T10:29:08.019Z"
   },
   {
    "duration": 0,
    "start_time": "2022-05-13T10:29:08.020Z"
   },
   {
    "duration": 0,
    "start_time": "2022-05-13T10:29:08.022Z"
   },
   {
    "duration": 0,
    "start_time": "2022-05-13T10:29:08.024Z"
   },
   {
    "duration": 0,
    "start_time": "2022-05-13T10:29:08.025Z"
   },
   {
    "duration": 0,
    "start_time": "2022-05-13T10:29:08.026Z"
   },
   {
    "duration": 0,
    "start_time": "2022-05-13T10:29:08.028Z"
   },
   {
    "duration": 0,
    "start_time": "2022-05-13T10:29:08.067Z"
   },
   {
    "duration": 0,
    "start_time": "2022-05-13T10:29:08.069Z"
   },
   {
    "duration": 0,
    "start_time": "2022-05-13T10:29:08.071Z"
   },
   {
    "duration": 0,
    "start_time": "2022-05-13T10:29:08.073Z"
   },
   {
    "duration": 0,
    "start_time": "2022-05-13T10:29:08.075Z"
   },
   {
    "duration": 0,
    "start_time": "2022-05-13T10:29:08.076Z"
   },
   {
    "duration": 0,
    "start_time": "2022-05-13T10:29:08.078Z"
   },
   {
    "duration": 0,
    "start_time": "2022-05-13T10:29:08.079Z"
   },
   {
    "duration": 0,
    "start_time": "2022-05-13T10:29:08.082Z"
   },
   {
    "duration": 0,
    "start_time": "2022-05-13T10:29:08.083Z"
   },
   {
    "duration": 0,
    "start_time": "2022-05-13T10:29:08.086Z"
   },
   {
    "duration": 0,
    "start_time": "2022-05-13T10:29:08.088Z"
   },
   {
    "duration": 0,
    "start_time": "2022-05-13T10:29:08.090Z"
   },
   {
    "duration": 0,
    "start_time": "2022-05-13T10:29:08.092Z"
   },
   {
    "duration": 64,
    "start_time": "2022-05-13T10:29:32.242Z"
   },
   {
    "duration": 751,
    "start_time": "2022-05-13T10:29:54.310Z"
   },
   {
    "duration": 59,
    "start_time": "2022-05-13T10:30:21.701Z"
   },
   {
    "duration": 69,
    "start_time": "2022-05-13T10:30:31.582Z"
   },
   {
    "duration": 59,
    "start_time": "2022-05-13T10:30:37.124Z"
   },
   {
    "duration": 15,
    "start_time": "2022-05-13T10:30:40.007Z"
   },
   {
    "duration": 62,
    "start_time": "2022-05-13T10:31:12.890Z"
   },
   {
    "duration": 1356,
    "start_time": "2022-05-13T10:31:39.188Z"
   },
   {
    "duration": 60,
    "start_time": "2022-05-13T10:31:40.546Z"
   },
   {
    "duration": 231,
    "start_time": "2022-05-13T10:31:40.608Z"
   },
   {
    "duration": 163,
    "start_time": "2022-05-13T10:31:40.841Z"
   },
   {
    "duration": 239,
    "start_time": "2022-05-13T10:31:41.006Z"
   },
   {
    "duration": 69,
    "start_time": "2022-05-13T10:31:41.247Z"
   },
   {
    "duration": 106,
    "start_time": "2022-05-13T10:31:41.318Z"
   },
   {
    "duration": 8,
    "start_time": "2022-05-13T10:31:41.426Z"
   },
   {
    "duration": 6,
    "start_time": "2022-05-13T10:31:41.437Z"
   },
   {
    "duration": 5,
    "start_time": "2022-05-13T10:31:41.445Z"
   },
   {
    "duration": 39,
    "start_time": "2022-05-13T10:31:41.464Z"
   },
   {
    "duration": 8,
    "start_time": "2022-05-13T10:31:41.505Z"
   },
   {
    "duration": 103,
    "start_time": "2022-05-13T10:31:41.515Z"
   },
   {
    "duration": 22,
    "start_time": "2022-05-13T10:31:41.620Z"
   },
   {
    "duration": 4,
    "start_time": "2022-05-13T10:31:41.644Z"
   },
   {
    "duration": 70,
    "start_time": "2022-05-13T10:31:41.661Z"
   },
   {
    "duration": 45,
    "start_time": "2022-05-13T10:31:41.732Z"
   },
   {
    "duration": 73,
    "start_time": "2022-05-13T10:31:41.779Z"
   },
   {
    "duration": 27,
    "start_time": "2022-05-13T10:31:41.854Z"
   },
   {
    "duration": 46,
    "start_time": "2022-05-13T10:31:41.889Z"
   },
   {
    "duration": 32,
    "start_time": "2022-05-13T10:31:41.937Z"
   },
   {
    "duration": 49,
    "start_time": "2022-05-13T10:31:41.974Z"
   },
   {
    "duration": 25,
    "start_time": "2022-05-13T10:31:42.025Z"
   },
   {
    "duration": 13,
    "start_time": "2022-05-13T10:31:42.052Z"
   },
   {
    "duration": 38,
    "start_time": "2022-05-13T10:31:42.066Z"
   },
   {
    "duration": 12,
    "start_time": "2022-05-13T10:31:42.106Z"
   },
   {
    "duration": 28,
    "start_time": "2022-05-13T10:31:42.121Z"
   },
   {
    "duration": 4,
    "start_time": "2022-05-13T10:31:42.153Z"
   },
   {
    "duration": 86,
    "start_time": "2022-05-13T10:31:42.158Z"
   },
   {
    "duration": 4,
    "start_time": "2022-05-13T10:31:42.246Z"
   },
   {
    "duration": 77,
    "start_time": "2022-05-13T10:31:42.251Z"
   },
   {
    "duration": 4,
    "start_time": "2022-05-13T10:31:42.330Z"
   },
   {
    "duration": 92,
    "start_time": "2022-05-13T10:31:42.335Z"
   },
   {
    "duration": 5,
    "start_time": "2022-05-13T10:31:42.429Z"
   },
   {
    "duration": 112,
    "start_time": "2022-05-13T10:31:42.436Z"
   },
   {
    "duration": 41,
    "start_time": "2022-05-13T10:31:42.550Z"
   },
   {
    "duration": 26,
    "start_time": "2022-05-13T10:31:42.593Z"
   },
   {
    "duration": 16,
    "start_time": "2022-05-13T10:31:42.621Z"
   },
   {
    "duration": 9,
    "start_time": "2022-05-13T10:31:42.638Z"
   },
   {
    "duration": 21,
    "start_time": "2022-05-13T10:31:42.664Z"
   },
   {
    "duration": 24,
    "start_time": "2022-05-13T10:31:42.687Z"
   },
   {
    "duration": 12,
    "start_time": "2022-05-13T10:31:42.712Z"
   },
   {
    "duration": 41,
    "start_time": "2022-05-13T10:31:42.726Z"
   },
   {
    "duration": 39,
    "start_time": "2022-05-13T10:31:42.771Z"
   },
   {
    "duration": 287,
    "start_time": "2022-05-13T10:31:42.812Z"
   },
   {
    "duration": 351,
    "start_time": "2022-05-13T10:31:43.102Z"
   },
   {
    "duration": 231,
    "start_time": "2022-05-13T10:31:43.455Z"
   },
   {
    "duration": 312,
    "start_time": "2022-05-13T10:31:43.688Z"
   },
   {
    "duration": 346,
    "start_time": "2022-05-13T10:31:44.002Z"
   },
   {
    "duration": 286,
    "start_time": "2022-05-13T10:31:44.350Z"
   },
   {
    "duration": 363,
    "start_time": "2022-05-13T10:31:44.637Z"
   },
   {
    "duration": 301,
    "start_time": "2022-05-13T10:31:45.003Z"
   },
   {
    "duration": 316,
    "start_time": "2022-05-13T10:31:45.306Z"
   },
   {
    "duration": 13,
    "start_time": "2022-05-13T10:31:45.624Z"
   },
   {
    "duration": 34,
    "start_time": "2022-05-13T10:31:45.639Z"
   },
   {
    "duration": 36,
    "start_time": "2022-05-13T10:31:45.675Z"
   },
   {
    "duration": 7,
    "start_time": "2022-05-13T10:31:45.712Z"
   },
   {
    "duration": 17,
    "start_time": "2022-05-13T10:31:45.721Z"
   },
   {
    "duration": 46,
    "start_time": "2022-05-13T10:32:46.231Z"
   },
   {
    "duration": 57,
    "start_time": "2022-05-13T10:33:09.367Z"
   },
   {
    "duration": 34,
    "start_time": "2022-05-13T10:33:21.458Z"
   },
   {
    "duration": 1309,
    "start_time": "2022-05-13T10:33:48.189Z"
   },
   {
    "duration": 53,
    "start_time": "2022-05-13T10:33:49.500Z"
   },
   {
    "duration": 283,
    "start_time": "2022-05-13T10:33:49.554Z"
   },
   {
    "duration": 140,
    "start_time": "2022-05-13T10:33:49.839Z"
   },
   {
    "duration": 234,
    "start_time": "2022-05-13T10:33:49.985Z"
   },
   {
    "duration": 66,
    "start_time": "2022-05-13T10:33:50.220Z"
   },
   {
    "duration": 115,
    "start_time": "2022-05-13T10:33:50.292Z"
   },
   {
    "duration": 6,
    "start_time": "2022-05-13T10:33:50.410Z"
   },
   {
    "duration": 15,
    "start_time": "2022-05-13T10:33:50.418Z"
   },
   {
    "duration": 8,
    "start_time": "2022-05-13T10:33:50.435Z"
   },
   {
    "duration": 12,
    "start_time": "2022-05-13T10:33:50.444Z"
   },
   {
    "duration": 21,
    "start_time": "2022-05-13T10:33:50.462Z"
   },
   {
    "duration": 119,
    "start_time": "2022-05-13T10:33:50.486Z"
   },
   {
    "duration": 25,
    "start_time": "2022-05-13T10:33:50.609Z"
   },
   {
    "duration": 3,
    "start_time": "2022-05-13T10:33:50.635Z"
   },
   {
    "duration": 82,
    "start_time": "2022-05-13T10:33:50.640Z"
   },
   {
    "duration": 44,
    "start_time": "2022-05-13T10:33:50.725Z"
   },
   {
    "duration": 84,
    "start_time": "2022-05-13T10:33:50.770Z"
   },
   {
    "duration": 24,
    "start_time": "2022-05-13T10:33:50.856Z"
   },
   {
    "duration": 61,
    "start_time": "2022-05-13T10:33:50.884Z"
   },
   {
    "duration": 27,
    "start_time": "2022-05-13T10:33:50.947Z"
   },
   {
    "duration": 46,
    "start_time": "2022-05-13T10:33:50.977Z"
   },
   {
    "duration": 24,
    "start_time": "2022-05-13T10:33:51.026Z"
   },
   {
    "duration": 2823,
    "start_time": "2022-05-13T10:33:51.062Z"
   },
   {
    "duration": 0,
    "start_time": "2022-05-13T10:33:53.892Z"
   },
   {
    "duration": 0,
    "start_time": "2022-05-13T10:33:53.895Z"
   },
   {
    "duration": 0,
    "start_time": "2022-05-13T10:33:53.897Z"
   },
   {
    "duration": 0,
    "start_time": "2022-05-13T10:33:53.898Z"
   },
   {
    "duration": 0,
    "start_time": "2022-05-13T10:33:53.900Z"
   },
   {
    "duration": 0,
    "start_time": "2022-05-13T10:33:53.901Z"
   },
   {
    "duration": 0,
    "start_time": "2022-05-13T10:33:53.902Z"
   },
   {
    "duration": 0,
    "start_time": "2022-05-13T10:33:53.904Z"
   },
   {
    "duration": 0,
    "start_time": "2022-05-13T10:33:53.905Z"
   },
   {
    "duration": 0,
    "start_time": "2022-05-13T10:33:53.906Z"
   },
   {
    "duration": 0,
    "start_time": "2022-05-13T10:33:53.907Z"
   },
   {
    "duration": 0,
    "start_time": "2022-05-13T10:33:53.908Z"
   },
   {
    "duration": 0,
    "start_time": "2022-05-13T10:33:53.910Z"
   },
   {
    "duration": 0,
    "start_time": "2022-05-13T10:33:53.911Z"
   },
   {
    "duration": 0,
    "start_time": "2022-05-13T10:33:53.912Z"
   },
   {
    "duration": 0,
    "start_time": "2022-05-13T10:33:53.914Z"
   },
   {
    "duration": 0,
    "start_time": "2022-05-13T10:33:53.915Z"
   },
   {
    "duration": 0,
    "start_time": "2022-05-13T10:33:53.916Z"
   },
   {
    "duration": 1,
    "start_time": "2022-05-13T10:33:53.917Z"
   },
   {
    "duration": 0,
    "start_time": "2022-05-13T10:33:53.919Z"
   },
   {
    "duration": 0,
    "start_time": "2022-05-13T10:33:53.920Z"
   },
   {
    "duration": 0,
    "start_time": "2022-05-13T10:33:53.921Z"
   },
   {
    "duration": 0,
    "start_time": "2022-05-13T10:33:53.923Z"
   },
   {
    "duration": 0,
    "start_time": "2022-05-13T10:33:53.924Z"
   },
   {
    "duration": 0,
    "start_time": "2022-05-13T10:33:53.925Z"
   },
   {
    "duration": 0,
    "start_time": "2022-05-13T10:33:53.927Z"
   },
   {
    "duration": 0,
    "start_time": "2022-05-13T10:33:53.928Z"
   },
   {
    "duration": 0,
    "start_time": "2022-05-13T10:33:53.930Z"
   },
   {
    "duration": 0,
    "start_time": "2022-05-13T10:33:53.962Z"
   },
   {
    "duration": 0,
    "start_time": "2022-05-13T10:33:53.963Z"
   },
   {
    "duration": 0,
    "start_time": "2022-05-13T10:33:53.970Z"
   },
   {
    "duration": 0,
    "start_time": "2022-05-13T10:33:53.971Z"
   },
   {
    "duration": 0,
    "start_time": "2022-05-13T10:33:53.971Z"
   },
   {
    "duration": 0,
    "start_time": "2022-05-13T10:33:53.972Z"
   },
   {
    "duration": 0,
    "start_time": "2022-05-13T10:33:53.973Z"
   },
   {
    "duration": 0,
    "start_time": "2022-05-13T10:33:53.973Z"
   },
   {
    "duration": 0,
    "start_time": "2022-05-13T10:33:53.974Z"
   },
   {
    "duration": 0,
    "start_time": "2022-05-13T10:33:53.975Z"
   },
   {
    "duration": 29,
    "start_time": "2022-05-13T10:34:02.116Z"
   },
   {
    "duration": 12,
    "start_time": "2022-05-13T10:34:16.020Z"
   },
   {
    "duration": 31,
    "start_time": "2022-05-13T10:34:29.036Z"
   },
   {
    "duration": 11,
    "start_time": "2022-05-13T10:34:31.635Z"
   },
   {
    "duration": 2616,
    "start_time": "2022-05-13T10:35:21.458Z"
   },
   {
    "duration": 2632,
    "start_time": "2022-05-13T10:35:51.170Z"
   },
   {
    "duration": 2864,
    "start_time": "2022-05-13T10:35:59.425Z"
   },
   {
    "duration": 1288,
    "start_time": "2022-05-13T10:37:14.993Z"
   },
   {
    "duration": 63,
    "start_time": "2022-05-13T10:37:16.283Z"
   },
   {
    "duration": 239,
    "start_time": "2022-05-13T10:37:16.348Z"
   },
   {
    "duration": 126,
    "start_time": "2022-05-13T10:37:16.592Z"
   },
   {
    "duration": 219,
    "start_time": "2022-05-13T10:37:16.720Z"
   },
   {
    "duration": 53,
    "start_time": "2022-05-13T10:37:16.941Z"
   },
   {
    "duration": 103,
    "start_time": "2022-05-13T10:37:16.996Z"
   },
   {
    "duration": 6,
    "start_time": "2022-05-13T10:37:17.101Z"
   },
   {
    "duration": 23,
    "start_time": "2022-05-13T10:37:17.110Z"
   },
   {
    "duration": 8,
    "start_time": "2022-05-13T10:37:17.136Z"
   },
   {
    "duration": 7,
    "start_time": "2022-05-13T10:37:17.145Z"
   },
   {
    "duration": 17,
    "start_time": "2022-05-13T10:37:17.154Z"
   },
   {
    "duration": 141,
    "start_time": "2022-05-13T10:37:17.173Z"
   },
   {
    "duration": 23,
    "start_time": "2022-05-13T10:37:17.316Z"
   },
   {
    "duration": 3,
    "start_time": "2022-05-13T10:37:17.341Z"
   },
   {
    "duration": 65,
    "start_time": "2022-05-13T10:37:17.362Z"
   },
   {
    "duration": 48,
    "start_time": "2022-05-13T10:37:17.429Z"
   },
   {
    "duration": 73,
    "start_time": "2022-05-13T10:37:17.479Z"
   },
   {
    "duration": 30,
    "start_time": "2022-05-13T10:37:17.553Z"
   },
   {
    "duration": 51,
    "start_time": "2022-05-13T10:37:17.586Z"
   },
   {
    "duration": 38,
    "start_time": "2022-05-13T10:37:17.639Z"
   },
   {
    "duration": 49,
    "start_time": "2022-05-13T10:37:17.680Z"
   },
   {
    "duration": 44,
    "start_time": "2022-05-13T10:37:17.731Z"
   },
   {
    "duration": 6,
    "start_time": "2022-05-13T10:37:17.776Z"
   },
   {
    "duration": 30,
    "start_time": "2022-05-13T10:37:17.784Z"
   },
   {
    "duration": 14,
    "start_time": "2022-05-13T10:37:17.816Z"
   },
   {
    "duration": 41,
    "start_time": "2022-05-13T10:37:17.832Z"
   },
   {
    "duration": 10,
    "start_time": "2022-05-13T10:37:17.877Z"
   },
   {
    "duration": 64,
    "start_time": "2022-05-13T10:37:17.894Z"
   },
   {
    "duration": 5,
    "start_time": "2022-05-13T10:37:17.960Z"
   },
   {
    "duration": 106,
    "start_time": "2022-05-13T10:37:17.966Z"
   },
   {
    "duration": 5,
    "start_time": "2022-05-13T10:37:18.076Z"
   },
   {
    "duration": 108,
    "start_time": "2022-05-13T10:37:18.082Z"
   },
   {
    "duration": 6,
    "start_time": "2022-05-13T10:37:18.192Z"
   },
   {
    "duration": 100,
    "start_time": "2022-05-13T10:37:18.200Z"
   },
   {
    "duration": 22,
    "start_time": "2022-05-13T10:37:18.303Z"
   },
   {
    "duration": 45,
    "start_time": "2022-05-13T10:37:18.327Z"
   },
   {
    "duration": 23,
    "start_time": "2022-05-13T10:37:18.373Z"
   },
   {
    "duration": 13,
    "start_time": "2022-05-13T10:37:18.400Z"
   },
   {
    "duration": 24,
    "start_time": "2022-05-13T10:37:18.415Z"
   },
   {
    "duration": 17,
    "start_time": "2022-05-13T10:37:18.440Z"
   },
   {
    "duration": 14,
    "start_time": "2022-05-13T10:37:18.464Z"
   },
   {
    "duration": 55,
    "start_time": "2022-05-13T10:37:18.480Z"
   },
   {
    "duration": 38,
    "start_time": "2022-05-13T10:37:18.537Z"
   },
   {
    "duration": 311,
    "start_time": "2022-05-13T10:37:18.582Z"
   },
   {
    "duration": 339,
    "start_time": "2022-05-13T10:37:18.897Z"
   },
   {
    "duration": 203,
    "start_time": "2022-05-13T10:37:19.238Z"
   },
   {
    "duration": 275,
    "start_time": "2022-05-13T10:37:19.443Z"
   },
   {
    "duration": 447,
    "start_time": "2022-05-13T10:37:19.720Z"
   },
   {
    "duration": 278,
    "start_time": "2022-05-13T10:37:20.169Z"
   },
   {
    "duration": 353,
    "start_time": "2022-05-13T10:37:20.449Z"
   },
   {
    "duration": 353,
    "start_time": "2022-05-13T10:37:20.804Z"
   },
   {
    "duration": 438,
    "start_time": "2022-05-13T10:37:21.159Z"
   },
   {
    "duration": 14,
    "start_time": "2022-05-13T10:37:21.599Z"
   },
   {
    "duration": 56,
    "start_time": "2022-05-13T10:37:21.616Z"
   },
   {
    "duration": 36,
    "start_time": "2022-05-13T10:37:21.675Z"
   },
   {
    "duration": 8,
    "start_time": "2022-05-13T10:37:21.713Z"
   },
   {
    "duration": 72,
    "start_time": "2022-05-13T10:37:21.724Z"
   },
   {
    "duration": 9,
    "start_time": "2022-05-13T11:20:27.776Z"
   },
   {
    "duration": 49,
    "start_time": "2022-05-13T11:21:52.392Z"
   },
   {
    "duration": 1290,
    "start_time": "2022-05-13T11:23:01.261Z"
   },
   {
    "duration": 82,
    "start_time": "2022-05-13T11:23:02.552Z"
   },
   {
    "duration": 236,
    "start_time": "2022-05-13T11:23:02.636Z"
   },
   {
    "duration": 142,
    "start_time": "2022-05-13T11:23:02.874Z"
   },
   {
    "duration": 215,
    "start_time": "2022-05-13T11:23:03.017Z"
   },
   {
    "duration": 51,
    "start_time": "2022-05-13T11:23:03.233Z"
   },
   {
    "duration": 109,
    "start_time": "2022-05-13T11:23:03.286Z"
   },
   {
    "duration": 9,
    "start_time": "2022-05-13T11:23:03.397Z"
   },
   {
    "duration": 28,
    "start_time": "2022-05-13T11:23:03.407Z"
   },
   {
    "duration": 17,
    "start_time": "2022-05-13T11:23:03.439Z"
   },
   {
    "duration": 32,
    "start_time": "2022-05-13T11:23:03.457Z"
   },
   {
    "duration": 24,
    "start_time": "2022-05-13T11:23:03.491Z"
   },
   {
    "duration": 118,
    "start_time": "2022-05-13T11:23:03.517Z"
   },
   {
    "duration": 19,
    "start_time": "2022-05-13T11:23:03.637Z"
   },
   {
    "duration": 3,
    "start_time": "2022-05-13T11:23:03.658Z"
   },
   {
    "duration": 73,
    "start_time": "2022-05-13T11:23:03.678Z"
   },
   {
    "duration": 46,
    "start_time": "2022-05-13T11:23:03.752Z"
   },
   {
    "duration": 103,
    "start_time": "2022-05-13T11:23:03.801Z"
   },
   {
    "duration": 20,
    "start_time": "2022-05-13T11:23:03.906Z"
   },
   {
    "duration": 40,
    "start_time": "2022-05-13T11:23:03.928Z"
   },
   {
    "duration": 47,
    "start_time": "2022-05-13T11:23:03.971Z"
   },
   {
    "duration": 37,
    "start_time": "2022-05-13T11:23:04.020Z"
   },
   {
    "duration": 110,
    "start_time": "2022-05-13T11:23:04.066Z"
   },
   {
    "duration": 0,
    "start_time": "2022-05-13T11:23:04.184Z"
   },
   {
    "duration": 0,
    "start_time": "2022-05-13T11:23:04.186Z"
   },
   {
    "duration": 0,
    "start_time": "2022-05-13T11:23:04.187Z"
   },
   {
    "duration": 0,
    "start_time": "2022-05-13T11:23:04.189Z"
   },
   {
    "duration": 0,
    "start_time": "2022-05-13T11:23:04.192Z"
   },
   {
    "duration": 0,
    "start_time": "2022-05-13T11:23:04.193Z"
   },
   {
    "duration": 0,
    "start_time": "2022-05-13T11:23:04.195Z"
   },
   {
    "duration": 0,
    "start_time": "2022-05-13T11:23:04.196Z"
   },
   {
    "duration": 0,
    "start_time": "2022-05-13T11:23:04.197Z"
   },
   {
    "duration": 0,
    "start_time": "2022-05-13T11:23:04.198Z"
   },
   {
    "duration": 0,
    "start_time": "2022-05-13T11:23:04.199Z"
   },
   {
    "duration": 0,
    "start_time": "2022-05-13T11:23:04.204Z"
   },
   {
    "duration": 0,
    "start_time": "2022-05-13T11:23:04.211Z"
   },
   {
    "duration": 0,
    "start_time": "2022-05-13T11:23:04.212Z"
   },
   {
    "duration": 0,
    "start_time": "2022-05-13T11:23:04.213Z"
   },
   {
    "duration": 0,
    "start_time": "2022-05-13T11:23:04.215Z"
   },
   {
    "duration": 0,
    "start_time": "2022-05-13T11:23:04.216Z"
   },
   {
    "duration": 0,
    "start_time": "2022-05-13T11:23:04.217Z"
   },
   {
    "duration": 0,
    "start_time": "2022-05-13T11:23:04.219Z"
   },
   {
    "duration": 0,
    "start_time": "2022-05-13T11:23:04.222Z"
   },
   {
    "duration": 0,
    "start_time": "2022-05-13T11:23:04.223Z"
   },
   {
    "duration": 0,
    "start_time": "2022-05-13T11:23:04.224Z"
   },
   {
    "duration": 0,
    "start_time": "2022-05-13T11:23:04.225Z"
   },
   {
    "duration": 0,
    "start_time": "2022-05-13T11:23:04.226Z"
   },
   {
    "duration": 0,
    "start_time": "2022-05-13T11:23:04.227Z"
   },
   {
    "duration": 0,
    "start_time": "2022-05-13T11:23:04.228Z"
   },
   {
    "duration": 0,
    "start_time": "2022-05-13T11:23:04.229Z"
   },
   {
    "duration": 0,
    "start_time": "2022-05-13T11:23:04.230Z"
   },
   {
    "duration": 0,
    "start_time": "2022-05-13T11:23:04.231Z"
   },
   {
    "duration": 0,
    "start_time": "2022-05-13T11:23:04.231Z"
   },
   {
    "duration": 0,
    "start_time": "2022-05-13T11:23:04.232Z"
   },
   {
    "duration": 0,
    "start_time": "2022-05-13T11:23:04.232Z"
   },
   {
    "duration": 0,
    "start_time": "2022-05-13T11:23:04.277Z"
   },
   {
    "duration": 0,
    "start_time": "2022-05-13T11:23:04.282Z"
   },
   {
    "duration": 1,
    "start_time": "2022-05-13T11:23:04.282Z"
   },
   {
    "duration": 0,
    "start_time": "2022-05-13T11:23:04.283Z"
   },
   {
    "duration": 0,
    "start_time": "2022-05-13T11:23:04.284Z"
   },
   {
    "duration": 25,
    "start_time": "2022-05-13T11:23:15.428Z"
   },
   {
    "duration": 15,
    "start_time": "2022-05-13T11:23:51.532Z"
   },
   {
    "duration": 1310,
    "start_time": "2022-05-13T11:23:59.645Z"
   },
   {
    "duration": 58,
    "start_time": "2022-05-13T11:24:00.957Z"
   },
   {
    "duration": 233,
    "start_time": "2022-05-13T11:24:01.016Z"
   },
   {
    "duration": 136,
    "start_time": "2022-05-13T11:24:01.251Z"
   },
   {
    "duration": 245,
    "start_time": "2022-05-13T11:24:01.389Z"
   },
   {
    "duration": 73,
    "start_time": "2022-05-13T11:24:01.636Z"
   },
   {
    "duration": 100,
    "start_time": "2022-05-13T11:24:01.711Z"
   },
   {
    "duration": 5,
    "start_time": "2022-05-13T11:24:01.813Z"
   },
   {
    "duration": 22,
    "start_time": "2022-05-13T11:24:01.820Z"
   },
   {
    "duration": 25,
    "start_time": "2022-05-13T11:24:01.844Z"
   },
   {
    "duration": 56,
    "start_time": "2022-05-13T11:24:01.871Z"
   },
   {
    "duration": 62,
    "start_time": "2022-05-13T11:24:01.929Z"
   },
   {
    "duration": 136,
    "start_time": "2022-05-13T11:24:01.993Z"
   },
   {
    "duration": 22,
    "start_time": "2022-05-13T11:24:02.131Z"
   },
   {
    "duration": 9,
    "start_time": "2022-05-13T11:24:02.166Z"
   },
   {
    "duration": 74,
    "start_time": "2022-05-13T11:24:02.177Z"
   },
   {
    "duration": 43,
    "start_time": "2022-05-13T11:24:02.253Z"
   },
   {
    "duration": 119,
    "start_time": "2022-05-13T11:24:02.299Z"
   },
   {
    "duration": 19,
    "start_time": "2022-05-13T11:24:02.420Z"
   },
   {
    "duration": 53,
    "start_time": "2022-05-13T11:24:02.440Z"
   },
   {
    "duration": 47,
    "start_time": "2022-05-13T11:24:02.494Z"
   },
   {
    "duration": 57,
    "start_time": "2022-05-13T11:24:02.543Z"
   },
   {
    "duration": 125,
    "start_time": "2022-05-13T11:24:02.608Z"
   },
   {
    "duration": 0,
    "start_time": "2022-05-13T11:24:02.735Z"
   },
   {
    "duration": 0,
    "start_time": "2022-05-13T11:24:02.737Z"
   },
   {
    "duration": 0,
    "start_time": "2022-05-13T11:24:02.738Z"
   },
   {
    "duration": 0,
    "start_time": "2022-05-13T11:24:02.741Z"
   },
   {
    "duration": 0,
    "start_time": "2022-05-13T11:24:02.743Z"
   },
   {
    "duration": 0,
    "start_time": "2022-05-13T11:24:02.766Z"
   },
   {
    "duration": 0,
    "start_time": "2022-05-13T11:24:02.767Z"
   },
   {
    "duration": 0,
    "start_time": "2022-05-13T11:24:02.767Z"
   },
   {
    "duration": 0,
    "start_time": "2022-05-13T11:24:02.768Z"
   },
   {
    "duration": 0,
    "start_time": "2022-05-13T11:24:02.774Z"
   },
   {
    "duration": 0,
    "start_time": "2022-05-13T11:24:02.775Z"
   },
   {
    "duration": 0,
    "start_time": "2022-05-13T11:24:02.776Z"
   },
   {
    "duration": 0,
    "start_time": "2022-05-13T11:24:02.778Z"
   },
   {
    "duration": 0,
    "start_time": "2022-05-13T11:24:02.779Z"
   },
   {
    "duration": 0,
    "start_time": "2022-05-13T11:24:02.780Z"
   },
   {
    "duration": 0,
    "start_time": "2022-05-13T11:24:02.781Z"
   },
   {
    "duration": 0,
    "start_time": "2022-05-13T11:24:02.782Z"
   },
   {
    "duration": 0,
    "start_time": "2022-05-13T11:24:02.783Z"
   },
   {
    "duration": 0,
    "start_time": "2022-05-13T11:24:02.783Z"
   },
   {
    "duration": 0,
    "start_time": "2022-05-13T11:24:02.784Z"
   },
   {
    "duration": 0,
    "start_time": "2022-05-13T11:24:02.784Z"
   },
   {
    "duration": 0,
    "start_time": "2022-05-13T11:24:02.785Z"
   },
   {
    "duration": 0,
    "start_time": "2022-05-13T11:24:02.786Z"
   },
   {
    "duration": 0,
    "start_time": "2022-05-13T11:24:02.786Z"
   },
   {
    "duration": 0,
    "start_time": "2022-05-13T11:24:02.787Z"
   },
   {
    "duration": 0,
    "start_time": "2022-05-13T11:24:02.798Z"
   },
   {
    "duration": 0,
    "start_time": "2022-05-13T11:24:02.799Z"
   },
   {
    "duration": 0,
    "start_time": "2022-05-13T11:24:02.806Z"
   },
   {
    "duration": 0,
    "start_time": "2022-05-13T11:24:02.809Z"
   },
   {
    "duration": 0,
    "start_time": "2022-05-13T11:24:02.813Z"
   },
   {
    "duration": 0,
    "start_time": "2022-05-13T11:24:02.814Z"
   },
   {
    "duration": 0,
    "start_time": "2022-05-13T11:24:02.816Z"
   },
   {
    "duration": 0,
    "start_time": "2022-05-13T11:24:02.817Z"
   },
   {
    "duration": 0,
    "start_time": "2022-05-13T11:24:02.818Z"
   },
   {
    "duration": 0,
    "start_time": "2022-05-13T11:24:02.820Z"
   },
   {
    "duration": 0,
    "start_time": "2022-05-13T11:24:02.823Z"
   },
   {
    "duration": 0,
    "start_time": "2022-05-13T11:24:02.824Z"
   },
   {
    "duration": 21,
    "start_time": "2022-05-13T11:24:12.489Z"
   },
   {
    "duration": 39,
    "start_time": "2022-05-13T11:24:32.651Z"
   },
   {
    "duration": 24,
    "start_time": "2022-05-13T11:32:24.824Z"
   },
   {
    "duration": 29,
    "start_time": "2022-05-13T11:33:08.292Z"
   },
   {
    "duration": 1120,
    "start_time": "2022-05-13T11:34:01.423Z"
   },
   {
    "duration": 51,
    "start_time": "2022-05-13T11:34:02.545Z"
   },
   {
    "duration": 213,
    "start_time": "2022-05-13T11:34:02.600Z"
   },
   {
    "duration": 114,
    "start_time": "2022-05-13T11:34:02.815Z"
   },
   {
    "duration": 206,
    "start_time": "2022-05-13T11:34:02.930Z"
   },
   {
    "duration": 58,
    "start_time": "2022-05-13T11:34:03.138Z"
   },
   {
    "duration": 95,
    "start_time": "2022-05-13T11:34:03.198Z"
   },
   {
    "duration": 5,
    "start_time": "2022-05-13T11:34:03.295Z"
   },
   {
    "duration": 7,
    "start_time": "2022-05-13T11:34:03.302Z"
   },
   {
    "duration": 6,
    "start_time": "2022-05-13T11:34:03.312Z"
   },
   {
    "duration": 10,
    "start_time": "2022-05-13T11:34:03.320Z"
   },
   {
    "duration": 6,
    "start_time": "2022-05-13T11:34:03.331Z"
   },
   {
    "duration": 108,
    "start_time": "2022-05-13T11:34:03.338Z"
   },
   {
    "duration": 33,
    "start_time": "2022-05-13T11:34:03.448Z"
   },
   {
    "duration": 8,
    "start_time": "2022-05-13T11:34:03.485Z"
   },
   {
    "duration": 44,
    "start_time": "2022-05-13T11:34:03.495Z"
   },
   {
    "duration": 35,
    "start_time": "2022-05-13T11:34:03.541Z"
   },
   {
    "duration": 95,
    "start_time": "2022-05-13T11:34:03.580Z"
   },
   {
    "duration": 23,
    "start_time": "2022-05-13T11:34:03.680Z"
   },
   {
    "duration": 34,
    "start_time": "2022-05-13T11:34:03.705Z"
   },
   {
    "duration": 54,
    "start_time": "2022-05-13T11:34:03.740Z"
   },
   {
    "duration": 36,
    "start_time": "2022-05-13T11:34:03.796Z"
   },
   {
    "duration": 36,
    "start_time": "2022-05-13T11:34:03.834Z"
   },
   {
    "duration": 104,
    "start_time": "2022-05-13T11:34:03.873Z"
   },
   {
    "duration": 0,
    "start_time": "2022-05-13T11:34:03.985Z"
   },
   {
    "duration": 0,
    "start_time": "2022-05-13T11:34:03.986Z"
   },
   {
    "duration": 0,
    "start_time": "2022-05-13T11:34:03.988Z"
   },
   {
    "duration": 0,
    "start_time": "2022-05-13T11:34:03.989Z"
   },
   {
    "duration": 0,
    "start_time": "2022-05-13T11:34:03.992Z"
   },
   {
    "duration": 0,
    "start_time": "2022-05-13T11:34:03.993Z"
   },
   {
    "duration": 0,
    "start_time": "2022-05-13T11:34:03.994Z"
   },
   {
    "duration": 0,
    "start_time": "2022-05-13T11:34:03.995Z"
   },
   {
    "duration": 0,
    "start_time": "2022-05-13T11:34:03.996Z"
   },
   {
    "duration": 0,
    "start_time": "2022-05-13T11:34:03.997Z"
   },
   {
    "duration": 0,
    "start_time": "2022-05-13T11:34:03.998Z"
   },
   {
    "duration": 0,
    "start_time": "2022-05-13T11:34:03.999Z"
   },
   {
    "duration": 0,
    "start_time": "2022-05-13T11:34:03.999Z"
   },
   {
    "duration": 0,
    "start_time": "2022-05-13T11:34:04.000Z"
   },
   {
    "duration": 0,
    "start_time": "2022-05-13T11:34:04.000Z"
   },
   {
    "duration": 0,
    "start_time": "2022-05-13T11:34:04.002Z"
   },
   {
    "duration": 0,
    "start_time": "2022-05-13T11:34:04.003Z"
   },
   {
    "duration": 0,
    "start_time": "2022-05-13T11:34:04.003Z"
   },
   {
    "duration": 0,
    "start_time": "2022-05-13T11:34:04.004Z"
   },
   {
    "duration": 0,
    "start_time": "2022-05-13T11:34:04.005Z"
   },
   {
    "duration": 0,
    "start_time": "2022-05-13T11:34:04.006Z"
   },
   {
    "duration": 0,
    "start_time": "2022-05-13T11:34:04.007Z"
   },
   {
    "duration": 0,
    "start_time": "2022-05-13T11:34:04.008Z"
   },
   {
    "duration": 0,
    "start_time": "2022-05-13T11:34:04.009Z"
   },
   {
    "duration": 0,
    "start_time": "2022-05-13T11:34:04.010Z"
   },
   {
    "duration": 0,
    "start_time": "2022-05-13T11:34:04.011Z"
   },
   {
    "duration": 0,
    "start_time": "2022-05-13T11:34:04.012Z"
   },
   {
    "duration": 0,
    "start_time": "2022-05-13T11:34:04.013Z"
   },
   {
    "duration": 0,
    "start_time": "2022-05-13T11:34:04.014Z"
   },
   {
    "duration": 0,
    "start_time": "2022-05-13T11:34:04.015Z"
   },
   {
    "duration": 0,
    "start_time": "2022-05-13T11:34:04.016Z"
   },
   {
    "duration": 0,
    "start_time": "2022-05-13T11:34:04.016Z"
   },
   {
    "duration": 0,
    "start_time": "2022-05-13T11:34:04.018Z"
   },
   {
    "duration": 0,
    "start_time": "2022-05-13T11:34:04.066Z"
   },
   {
    "duration": 0,
    "start_time": "2022-05-13T11:34:04.070Z"
   },
   {
    "duration": 6,
    "start_time": "2022-05-13T11:34:49.212Z"
   },
   {
    "duration": 6,
    "start_time": "2022-05-13T11:37:22.356Z"
   },
   {
    "duration": 1296,
    "start_time": "2022-05-13T11:37:54.988Z"
   },
   {
    "duration": 55,
    "start_time": "2022-05-13T11:37:56.286Z"
   },
   {
    "duration": 231,
    "start_time": "2022-05-13T11:37:56.342Z"
   },
   {
    "duration": 125,
    "start_time": "2022-05-13T11:37:56.575Z"
   },
   {
    "duration": 193,
    "start_time": "2022-05-13T11:37:56.702Z"
   },
   {
    "duration": 48,
    "start_time": "2022-05-13T11:37:56.898Z"
   },
   {
    "duration": 101,
    "start_time": "2022-05-13T11:37:56.947Z"
   },
   {
    "duration": 5,
    "start_time": "2022-05-13T11:37:57.050Z"
   },
   {
    "duration": 31,
    "start_time": "2022-05-13T11:37:57.057Z"
   },
   {
    "duration": 12,
    "start_time": "2022-05-13T11:37:57.093Z"
   },
   {
    "duration": 18,
    "start_time": "2022-05-13T11:37:57.106Z"
   },
   {
    "duration": 5,
    "start_time": "2022-05-13T11:37:57.125Z"
   },
   {
    "duration": 101,
    "start_time": "2022-05-13T11:37:57.131Z"
   },
   {
    "duration": 20,
    "start_time": "2022-05-13T11:37:57.233Z"
   },
   {
    "duration": 11,
    "start_time": "2022-05-13T11:37:57.255Z"
   },
   {
    "duration": 54,
    "start_time": "2022-05-13T11:37:57.267Z"
   },
   {
    "duration": 42,
    "start_time": "2022-05-13T11:37:57.322Z"
   },
   {
    "duration": 91,
    "start_time": "2022-05-13T11:37:57.365Z"
   },
   {
    "duration": 27,
    "start_time": "2022-05-13T11:37:57.461Z"
   },
   {
    "duration": 40,
    "start_time": "2022-05-13T11:37:57.490Z"
   },
   {
    "duration": 65,
    "start_time": "2022-05-13T11:37:57.531Z"
   },
   {
    "duration": 37,
    "start_time": "2022-05-13T11:37:57.597Z"
   },
   {
    "duration": 36,
    "start_time": "2022-05-13T11:37:57.635Z"
   },
   {
    "duration": 8,
    "start_time": "2022-05-13T11:37:57.673Z"
   },
   {
    "duration": 21,
    "start_time": "2022-05-13T11:37:57.683Z"
   },
   {
    "duration": 8,
    "start_time": "2022-05-13T11:37:57.705Z"
   },
   {
    "duration": 104,
    "start_time": "2022-05-13T11:37:57.714Z"
   },
   {
    "duration": 0,
    "start_time": "2022-05-13T11:37:57.822Z"
   },
   {
    "duration": 0,
    "start_time": "2022-05-13T11:37:57.823Z"
   },
   {
    "duration": 0,
    "start_time": "2022-05-13T11:37:57.824Z"
   },
   {
    "duration": 0,
    "start_time": "2022-05-13T11:37:57.825Z"
   },
   {
    "duration": 0,
    "start_time": "2022-05-13T11:37:57.827Z"
   },
   {
    "duration": 0,
    "start_time": "2022-05-13T11:37:57.828Z"
   },
   {
    "duration": 0,
    "start_time": "2022-05-13T11:37:57.829Z"
   },
   {
    "duration": 0,
    "start_time": "2022-05-13T11:37:57.830Z"
   },
   {
    "duration": 0,
    "start_time": "2022-05-13T11:37:57.831Z"
   },
   {
    "duration": 0,
    "start_time": "2022-05-13T11:37:57.832Z"
   },
   {
    "duration": 0,
    "start_time": "2022-05-13T11:37:57.833Z"
   },
   {
    "duration": 0,
    "start_time": "2022-05-13T11:37:57.834Z"
   },
   {
    "duration": 0,
    "start_time": "2022-05-13T11:37:57.835Z"
   },
   {
    "duration": 0,
    "start_time": "2022-05-13T11:37:57.864Z"
   },
   {
    "duration": 0,
    "start_time": "2022-05-13T11:37:57.864Z"
   },
   {
    "duration": 0,
    "start_time": "2022-05-13T11:37:57.865Z"
   },
   {
    "duration": 0,
    "start_time": "2022-05-13T11:37:57.865Z"
   },
   {
    "duration": 0,
    "start_time": "2022-05-13T11:37:57.866Z"
   },
   {
    "duration": 0,
    "start_time": "2022-05-13T11:37:57.868Z"
   },
   {
    "duration": 0,
    "start_time": "2022-05-13T11:37:57.868Z"
   },
   {
    "duration": 0,
    "start_time": "2022-05-13T11:37:57.869Z"
   },
   {
    "duration": 0,
    "start_time": "2022-05-13T11:37:57.869Z"
   },
   {
    "duration": 0,
    "start_time": "2022-05-13T11:37:57.870Z"
   },
   {
    "duration": 0,
    "start_time": "2022-05-13T11:37:57.871Z"
   },
   {
    "duration": 0,
    "start_time": "2022-05-13T11:37:57.871Z"
   },
   {
    "duration": 0,
    "start_time": "2022-05-13T11:37:57.872Z"
   },
   {
    "duration": 0,
    "start_time": "2022-05-13T11:37:57.872Z"
   },
   {
    "duration": 0,
    "start_time": "2022-05-13T11:37:57.873Z"
   },
   {
    "duration": 0,
    "start_time": "2022-05-13T11:37:57.874Z"
   },
   {
    "duration": 0,
    "start_time": "2022-05-13T11:37:57.874Z"
   },
   {
    "duration": 0,
    "start_time": "2022-05-13T11:37:57.875Z"
   },
   {
    "duration": 0,
    "start_time": "2022-05-13T11:37:57.879Z"
   },
   {
    "duration": 0,
    "start_time": "2022-05-13T11:37:57.883Z"
   },
   {
    "duration": 8,
    "start_time": "2022-05-13T11:43:03.752Z"
   },
   {
    "duration": 8,
    "start_time": "2022-05-13T11:43:16.118Z"
   },
   {
    "duration": 27,
    "start_time": "2022-05-13T11:43:30.621Z"
   },
   {
    "duration": 32,
    "start_time": "2022-05-13T11:43:49.428Z"
   },
   {
    "duration": 49,
    "start_time": "2022-05-13T11:44:11.016Z"
   },
   {
    "duration": 15,
    "start_time": "2022-05-13T11:44:36.268Z"
   },
   {
    "duration": 28,
    "start_time": "2022-05-13T11:44:54.894Z"
   },
   {
    "duration": 38,
    "start_time": "2022-05-13T11:45:31.696Z"
   },
   {
    "duration": 42,
    "start_time": "2022-05-13T11:45:44.793Z"
   },
   {
    "duration": 49,
    "start_time": "2022-05-13T11:46:13.364Z"
   },
   {
    "duration": 1212,
    "start_time": "2022-05-13T11:46:38.842Z"
   },
   {
    "duration": 50,
    "start_time": "2022-05-13T11:46:40.056Z"
   },
   {
    "duration": 217,
    "start_time": "2022-05-13T11:46:40.108Z"
   },
   {
    "duration": 144,
    "start_time": "2022-05-13T11:46:40.327Z"
   },
   {
    "duration": 237,
    "start_time": "2022-05-13T11:46:40.473Z"
   },
   {
    "duration": 80,
    "start_time": "2022-05-13T11:46:40.712Z"
   },
   {
    "duration": 123,
    "start_time": "2022-05-13T11:46:40.794Z"
   },
   {
    "duration": 8,
    "start_time": "2022-05-13T11:46:40.919Z"
   },
   {
    "duration": 8,
    "start_time": "2022-05-13T11:46:40.928Z"
   },
   {
    "duration": 6,
    "start_time": "2022-05-13T11:46:40.939Z"
   },
   {
    "duration": 7,
    "start_time": "2022-05-13T11:46:40.967Z"
   },
   {
    "duration": 10,
    "start_time": "2022-05-13T11:46:40.976Z"
   },
   {
    "duration": 84,
    "start_time": "2022-05-13T11:46:40.988Z"
   },
   {
    "duration": 22,
    "start_time": "2022-05-13T11:46:41.074Z"
   },
   {
    "duration": 2,
    "start_time": "2022-05-13T11:46:41.098Z"
   },
   {
    "duration": 62,
    "start_time": "2022-05-13T11:46:41.102Z"
   },
   {
    "duration": 32,
    "start_time": "2022-05-13T11:46:41.165Z"
   },
   {
    "duration": 83,
    "start_time": "2022-05-13T11:46:41.199Z"
   },
   {
    "duration": 19,
    "start_time": "2022-05-13T11:46:41.284Z"
   },
   {
    "duration": 34,
    "start_time": "2022-05-13T11:46:41.305Z"
   },
   {
    "duration": 60,
    "start_time": "2022-05-13T11:46:41.341Z"
   },
   {
    "duration": 40,
    "start_time": "2022-05-13T11:46:41.403Z"
   },
   {
    "duration": 39,
    "start_time": "2022-05-13T11:46:41.461Z"
   },
   {
    "duration": 5,
    "start_time": "2022-05-13T11:46:41.502Z"
   },
   {
    "duration": 7,
    "start_time": "2022-05-13T11:46:41.509Z"
   },
   {
    "duration": 13,
    "start_time": "2022-05-13T11:46:41.517Z"
   },
   {
    "duration": 52,
    "start_time": "2022-05-13T11:46:41.531Z"
   },
   {
    "duration": 24,
    "start_time": "2022-05-13T11:46:41.588Z"
   },
   {
    "duration": 107,
    "start_time": "2022-05-13T11:46:41.613Z"
   },
   {
    "duration": 0,
    "start_time": "2022-05-13T11:46:41.721Z"
   },
   {
    "duration": 0,
    "start_time": "2022-05-13T11:46:41.722Z"
   },
   {
    "duration": 0,
    "start_time": "2022-05-13T11:46:41.723Z"
   },
   {
    "duration": 0,
    "start_time": "2022-05-13T11:46:41.724Z"
   },
   {
    "duration": 0,
    "start_time": "2022-05-13T11:46:41.725Z"
   },
   {
    "duration": 0,
    "start_time": "2022-05-13T11:46:41.726Z"
   },
   {
    "duration": 0,
    "start_time": "2022-05-13T11:46:41.727Z"
   },
   {
    "duration": 0,
    "start_time": "2022-05-13T11:46:41.729Z"
   },
   {
    "duration": 0,
    "start_time": "2022-05-13T11:46:41.730Z"
   },
   {
    "duration": 0,
    "start_time": "2022-05-13T11:46:41.731Z"
   },
   {
    "duration": 0,
    "start_time": "2022-05-13T11:46:41.732Z"
   },
   {
    "duration": 0,
    "start_time": "2022-05-13T11:46:41.733Z"
   },
   {
    "duration": 0,
    "start_time": "2022-05-13T11:46:41.734Z"
   },
   {
    "duration": 0,
    "start_time": "2022-05-13T11:46:41.763Z"
   },
   {
    "duration": 0,
    "start_time": "2022-05-13T11:46:41.764Z"
   },
   {
    "duration": 0,
    "start_time": "2022-05-13T11:46:41.765Z"
   },
   {
    "duration": 0,
    "start_time": "2022-05-13T11:46:41.766Z"
   },
   {
    "duration": 0,
    "start_time": "2022-05-13T11:46:41.768Z"
   },
   {
    "duration": 0,
    "start_time": "2022-05-13T11:46:41.769Z"
   },
   {
    "duration": 0,
    "start_time": "2022-05-13T11:46:41.770Z"
   },
   {
    "duration": 0,
    "start_time": "2022-05-13T11:46:41.770Z"
   },
   {
    "duration": 0,
    "start_time": "2022-05-13T11:46:41.772Z"
   },
   {
    "duration": 0,
    "start_time": "2022-05-13T11:46:41.773Z"
   },
   {
    "duration": 0,
    "start_time": "2022-05-13T11:46:41.774Z"
   },
   {
    "duration": 0,
    "start_time": "2022-05-13T11:46:41.775Z"
   },
   {
    "duration": 0,
    "start_time": "2022-05-13T11:46:41.776Z"
   },
   {
    "duration": 0,
    "start_time": "2022-05-13T11:46:41.777Z"
   },
   {
    "duration": 0,
    "start_time": "2022-05-13T11:46:41.778Z"
   },
   {
    "duration": 0,
    "start_time": "2022-05-13T11:46:41.779Z"
   },
   {
    "duration": 0,
    "start_time": "2022-05-13T11:46:41.780Z"
   },
   {
    "duration": 0,
    "start_time": "2022-05-13T11:46:41.781Z"
   },
   {
    "duration": 0,
    "start_time": "2022-05-13T11:46:41.782Z"
   },
   {
    "duration": 1223,
    "start_time": "2022-05-13T11:48:29.417Z"
   },
   {
    "duration": 60,
    "start_time": "2022-05-13T11:48:30.642Z"
   },
   {
    "duration": 242,
    "start_time": "2022-05-13T11:48:30.703Z"
   },
   {
    "duration": 122,
    "start_time": "2022-05-13T11:48:30.947Z"
   },
   {
    "duration": 208,
    "start_time": "2022-05-13T11:48:31.071Z"
   },
   {
    "duration": 45,
    "start_time": "2022-05-13T11:48:31.280Z"
   },
   {
    "duration": 106,
    "start_time": "2022-05-13T11:48:31.326Z"
   },
   {
    "duration": 5,
    "start_time": "2022-05-13T11:48:31.434Z"
   },
   {
    "duration": 10,
    "start_time": "2022-05-13T11:48:31.441Z"
   },
   {
    "duration": 32,
    "start_time": "2022-05-13T11:48:31.463Z"
   },
   {
    "duration": 16,
    "start_time": "2022-05-13T11:48:31.497Z"
   },
   {
    "duration": 15,
    "start_time": "2022-05-13T11:48:31.515Z"
   },
   {
    "duration": 112,
    "start_time": "2022-05-13T11:48:31.532Z"
   },
   {
    "duration": 22,
    "start_time": "2022-05-13T11:48:31.645Z"
   },
   {
    "duration": 7,
    "start_time": "2022-05-13T11:48:31.669Z"
   },
   {
    "duration": 64,
    "start_time": "2022-05-13T11:48:31.679Z"
   },
   {
    "duration": 31,
    "start_time": "2022-05-13T11:48:31.745Z"
   },
   {
    "duration": 63,
    "start_time": "2022-05-13T11:48:31.781Z"
   },
   {
    "duration": 25,
    "start_time": "2022-05-13T11:48:31.846Z"
   },
   {
    "duration": 58,
    "start_time": "2022-05-13T11:48:31.874Z"
   },
   {
    "duration": 48,
    "start_time": "2022-05-13T11:48:31.934Z"
   },
   {
    "duration": 49,
    "start_time": "2022-05-13T11:48:31.984Z"
   },
   {
    "duration": 46,
    "start_time": "2022-05-13T11:48:32.034Z"
   },
   {
    "duration": 9,
    "start_time": "2022-05-13T11:48:32.084Z"
   },
   {
    "duration": 12,
    "start_time": "2022-05-13T11:48:32.095Z"
   },
   {
    "duration": 13,
    "start_time": "2022-05-13T11:48:32.109Z"
   },
   {
    "duration": 16,
    "start_time": "2022-05-13T11:48:32.124Z"
   },
   {
    "duration": 52,
    "start_time": "2022-05-13T11:48:32.145Z"
   },
   {
    "duration": 4,
    "start_time": "2022-05-13T11:48:32.199Z"
   },
   {
    "duration": 64,
    "start_time": "2022-05-13T11:48:32.204Z"
   },
   {
    "duration": 4,
    "start_time": "2022-05-13T11:48:32.271Z"
   },
   {
    "duration": 73,
    "start_time": "2022-05-13T11:48:32.276Z"
   },
   {
    "duration": 4,
    "start_time": "2022-05-13T11:48:32.351Z"
   },
   {
    "duration": 76,
    "start_time": "2022-05-13T11:48:32.357Z"
   },
   {
    "duration": 6,
    "start_time": "2022-05-13T11:48:32.436Z"
   },
   {
    "duration": 96,
    "start_time": "2022-05-13T11:48:32.443Z"
   },
   {
    "duration": 22,
    "start_time": "2022-05-13T11:48:32.541Z"
   },
   {
    "duration": 51,
    "start_time": "2022-05-13T11:48:32.565Z"
   },
   {
    "duration": 13,
    "start_time": "2022-05-13T11:48:32.618Z"
   },
   {
    "duration": 8,
    "start_time": "2022-05-13T11:48:32.633Z"
   },
   {
    "duration": 17,
    "start_time": "2022-05-13T11:48:32.643Z"
   },
   {
    "duration": 14,
    "start_time": "2022-05-13T11:48:32.675Z"
   },
   {
    "duration": 20,
    "start_time": "2022-05-13T11:48:32.691Z"
   },
   {
    "duration": 31,
    "start_time": "2022-05-13T11:48:32.712Z"
   },
   {
    "duration": 55,
    "start_time": "2022-05-13T11:48:32.745Z"
   },
   {
    "duration": 258,
    "start_time": "2022-05-13T11:48:32.802Z"
   },
   {
    "duration": 343,
    "start_time": "2022-05-13T11:48:33.061Z"
   },
   {
    "duration": 194,
    "start_time": "2022-05-13T11:48:33.406Z"
   },
   {
    "duration": 228,
    "start_time": "2022-05-13T11:48:33.602Z"
   },
   {
    "duration": 304,
    "start_time": "2022-05-13T11:48:33.831Z"
   },
   {
    "duration": 263,
    "start_time": "2022-05-13T11:48:34.136Z"
   },
   {
    "duration": 442,
    "start_time": "2022-05-13T11:48:34.401Z"
   },
   {
    "duration": 276,
    "start_time": "2022-05-13T11:48:34.844Z"
   },
   {
    "duration": 281,
    "start_time": "2022-05-13T11:48:35.122Z"
   },
   {
    "duration": 11,
    "start_time": "2022-05-13T11:48:35.405Z"
   },
   {
    "duration": 16,
    "start_time": "2022-05-13T11:48:35.418Z"
   },
   {
    "duration": 10,
    "start_time": "2022-05-13T11:48:35.435Z"
   },
   {
    "duration": 3,
    "start_time": "2022-05-13T11:48:35.463Z"
   },
   {
    "duration": 29,
    "start_time": "2022-05-13T11:48:35.478Z"
   },
   {
    "duration": 1640,
    "start_time": "2022-05-13T13:02:42.988Z"
   },
   {
    "duration": 66,
    "start_time": "2022-05-13T13:02:44.630Z"
   },
   {
    "duration": 294,
    "start_time": "2022-05-13T13:02:44.699Z"
   },
   {
    "duration": 150,
    "start_time": "2022-05-13T13:02:44.995Z"
   },
   {
    "duration": 279,
    "start_time": "2022-05-13T13:02:45.148Z"
   },
   {
    "duration": 64,
    "start_time": "2022-05-13T13:02:45.430Z"
   },
   {
    "duration": 136,
    "start_time": "2022-05-13T13:02:45.496Z"
   },
   {
    "duration": 7,
    "start_time": "2022-05-13T13:02:45.634Z"
   },
   {
    "duration": 7,
    "start_time": "2022-05-13T13:02:45.643Z"
   },
   {
    "duration": 9,
    "start_time": "2022-05-13T13:02:45.652Z"
   },
   {
    "duration": 74,
    "start_time": "2022-05-13T13:02:45.663Z"
   },
   {
    "duration": 6,
    "start_time": "2022-05-13T13:02:45.739Z"
   },
   {
    "duration": 131,
    "start_time": "2022-05-13T13:02:45.747Z"
   },
   {
    "duration": 43,
    "start_time": "2022-05-13T13:02:45.882Z"
   },
   {
    "duration": 16,
    "start_time": "2022-05-13T13:02:45.927Z"
   },
   {
    "duration": 90,
    "start_time": "2022-05-13T13:02:45.944Z"
   },
   {
    "duration": 43,
    "start_time": "2022-05-13T13:02:46.035Z"
   },
   {
    "duration": 99,
    "start_time": "2022-05-13T13:02:46.080Z"
   },
   {
    "duration": 25,
    "start_time": "2022-05-13T13:02:46.181Z"
   },
   {
    "duration": 85,
    "start_time": "2022-05-13T13:02:46.208Z"
   },
   {
    "duration": 54,
    "start_time": "2022-05-13T13:02:46.295Z"
   },
   {
    "duration": 61,
    "start_time": "2022-05-13T13:02:46.353Z"
   },
   {
    "duration": 73,
    "start_time": "2022-05-13T13:02:46.418Z"
   },
   {
    "duration": 7,
    "start_time": "2022-05-13T13:02:46.493Z"
   },
   {
    "duration": 38,
    "start_time": "2022-05-13T13:02:46.502Z"
   },
   {
    "duration": 11,
    "start_time": "2022-05-13T13:02:46.541Z"
   },
   {
    "duration": 27,
    "start_time": "2022-05-13T13:02:46.554Z"
   },
   {
    "duration": 43,
    "start_time": "2022-05-13T13:02:46.583Z"
   },
   {
    "duration": 12,
    "start_time": "2022-05-13T13:02:46.628Z"
   },
   {
    "duration": 82,
    "start_time": "2022-05-13T13:02:46.642Z"
   },
   {
    "duration": 6,
    "start_time": "2022-05-13T13:02:46.727Z"
   },
   {
    "duration": 113,
    "start_time": "2022-05-13T13:02:46.734Z"
   },
   {
    "duration": 6,
    "start_time": "2022-05-13T13:02:46.848Z"
   },
   {
    "duration": 105,
    "start_time": "2022-05-13T13:02:46.855Z"
   },
   {
    "duration": 39,
    "start_time": "2022-05-13T13:02:46.963Z"
   },
   {
    "duration": 207,
    "start_time": "2022-05-13T13:02:47.004Z"
   },
   {
    "duration": 0,
    "start_time": "2022-05-13T13:02:47.215Z"
   },
   {
    "duration": 0,
    "start_time": "2022-05-13T13:02:47.217Z"
   },
   {
    "duration": 0,
    "start_time": "2022-05-13T13:02:47.219Z"
   },
   {
    "duration": 0,
    "start_time": "2022-05-13T13:02:47.222Z"
   },
   {
    "duration": 0,
    "start_time": "2022-05-13T13:02:47.223Z"
   },
   {
    "duration": 0,
    "start_time": "2022-05-13T13:02:47.224Z"
   },
   {
    "duration": 0,
    "start_time": "2022-05-13T13:02:47.226Z"
   },
   {
    "duration": 0,
    "start_time": "2022-05-13T13:02:47.227Z"
   },
   {
    "duration": 0,
    "start_time": "2022-05-13T13:02:47.229Z"
   },
   {
    "duration": 0,
    "start_time": "2022-05-13T13:02:47.230Z"
   },
   {
    "duration": 0,
    "start_time": "2022-05-13T13:02:47.232Z"
   },
   {
    "duration": 0,
    "start_time": "2022-05-13T13:02:47.233Z"
   },
   {
    "duration": 0,
    "start_time": "2022-05-13T13:02:47.235Z"
   },
   {
    "duration": 0,
    "start_time": "2022-05-13T13:02:47.237Z"
   },
   {
    "duration": 0,
    "start_time": "2022-05-13T13:02:47.238Z"
   },
   {
    "duration": 0,
    "start_time": "2022-05-13T13:02:47.239Z"
   },
   {
    "duration": 0,
    "start_time": "2022-05-13T13:02:47.240Z"
   },
   {
    "duration": 0,
    "start_time": "2022-05-13T13:02:47.242Z"
   },
   {
    "duration": 0,
    "start_time": "2022-05-13T13:02:47.243Z"
   },
   {
    "duration": 0,
    "start_time": "2022-05-13T13:02:47.244Z"
   },
   {
    "duration": 0,
    "start_time": "2022-05-13T13:02:47.246Z"
   },
   {
    "duration": 0,
    "start_time": "2022-05-13T13:02:47.280Z"
   },
   {
    "duration": 0,
    "start_time": "2022-05-13T13:02:47.282Z"
   },
   {
    "duration": 0,
    "start_time": "2022-05-13T13:02:47.283Z"
   },
   {
    "duration": 0,
    "start_time": "2022-05-13T13:02:47.284Z"
   },
   {
    "duration": 25,
    "start_time": "2022-05-13T13:03:24.411Z"
   },
   {
    "duration": 121,
    "start_time": "2022-05-13T13:03:56.828Z"
   },
   {
    "duration": 4,
    "start_time": "2022-05-13T13:05:47.503Z"
   },
   {
    "duration": 4,
    "start_time": "2022-05-13T13:06:34.845Z"
   },
   {
    "duration": 131,
    "start_time": "2022-05-13T13:06:48.397Z"
   },
   {
    "duration": 10,
    "start_time": "2022-05-13T13:07:43.661Z"
   },
   {
    "duration": 90,
    "start_time": "2022-05-13T13:07:46.038Z"
   },
   {
    "duration": 5,
    "start_time": "2022-05-13T13:08:10.084Z"
   },
   {
    "duration": 87,
    "start_time": "2022-05-13T13:08:12.864Z"
   },
   {
    "duration": 114,
    "start_time": "2022-05-13T13:10:07.300Z"
   },
   {
    "duration": 29,
    "start_time": "2022-05-13T13:10:27.678Z"
   },
   {
    "duration": 35,
    "start_time": "2022-05-13T13:10:28.458Z"
   },
   {
    "duration": 1378,
    "start_time": "2022-05-13T13:11:14.332Z"
   },
   {
    "duration": 57,
    "start_time": "2022-05-13T13:11:15.712Z"
   },
   {
    "duration": 284,
    "start_time": "2022-05-13T13:11:15.771Z"
   },
   {
    "duration": 165,
    "start_time": "2022-05-13T13:11:16.057Z"
   },
   {
    "duration": 258,
    "start_time": "2022-05-13T13:11:16.224Z"
   },
   {
    "duration": 62,
    "start_time": "2022-05-13T13:11:16.484Z"
   },
   {
    "duration": 104,
    "start_time": "2022-05-13T13:11:16.547Z"
   },
   {
    "duration": 6,
    "start_time": "2022-05-13T13:11:16.653Z"
   },
   {
    "duration": 48,
    "start_time": "2022-05-13T13:11:16.660Z"
   },
   {
    "duration": 16,
    "start_time": "2022-05-13T13:11:16.711Z"
   },
   {
    "duration": 18,
    "start_time": "2022-05-13T13:11:16.728Z"
   },
   {
    "duration": 8,
    "start_time": "2022-05-13T13:11:16.748Z"
   },
   {
    "duration": 158,
    "start_time": "2022-05-13T13:11:16.758Z"
   },
   {
    "duration": 22,
    "start_time": "2022-05-13T13:11:16.918Z"
   },
   {
    "duration": 14,
    "start_time": "2022-05-13T13:11:16.942Z"
   },
   {
    "duration": 98,
    "start_time": "2022-05-13T13:11:16.958Z"
   },
   {
    "duration": 46,
    "start_time": "2022-05-13T13:11:17.058Z"
   },
   {
    "duration": 94,
    "start_time": "2022-05-13T13:11:17.108Z"
   },
   {
    "duration": 25,
    "start_time": "2022-05-13T13:11:17.203Z"
   },
   {
    "duration": 63,
    "start_time": "2022-05-13T13:11:17.230Z"
   },
   {
    "duration": 44,
    "start_time": "2022-05-13T13:11:17.296Z"
   },
   {
    "duration": 65,
    "start_time": "2022-05-13T13:11:17.342Z"
   },
   {
    "duration": 33,
    "start_time": "2022-05-13T13:11:17.409Z"
   },
   {
    "duration": 18,
    "start_time": "2022-05-13T13:11:17.444Z"
   },
   {
    "duration": 9,
    "start_time": "2022-05-13T13:11:17.471Z"
   },
   {
    "duration": 43,
    "start_time": "2022-05-13T13:11:17.482Z"
   },
   {
    "duration": 16,
    "start_time": "2022-05-13T13:11:17.526Z"
   },
   {
    "duration": 43,
    "start_time": "2022-05-13T13:11:17.548Z"
   },
   {
    "duration": 23,
    "start_time": "2022-05-13T13:11:17.593Z"
   },
   {
    "duration": 79,
    "start_time": "2022-05-13T13:11:17.618Z"
   },
   {
    "duration": 5,
    "start_time": "2022-05-13T13:11:17.699Z"
   },
   {
    "duration": 99,
    "start_time": "2022-05-13T13:11:17.706Z"
   },
   {
    "duration": 10,
    "start_time": "2022-05-13T13:11:17.811Z"
   },
   {
    "duration": 116,
    "start_time": "2022-05-13T13:11:17.823Z"
   },
   {
    "duration": 7,
    "start_time": "2022-05-13T13:11:17.941Z"
   },
   {
    "duration": 124,
    "start_time": "2022-05-13T13:11:17.950Z"
   },
   {
    "duration": 46,
    "start_time": "2022-05-13T13:11:18.076Z"
   },
   {
    "duration": 19,
    "start_time": "2022-05-13T13:11:18.124Z"
   },
   {
    "duration": 16,
    "start_time": "2022-05-13T13:11:18.145Z"
   },
   {
    "duration": 17,
    "start_time": "2022-05-13T13:11:18.170Z"
   },
   {
    "duration": 45,
    "start_time": "2022-05-13T13:11:18.188Z"
   },
   {
    "duration": 10,
    "start_time": "2022-05-13T13:11:18.235Z"
   },
   {
    "duration": 11,
    "start_time": "2022-05-13T13:11:18.247Z"
   },
   {
    "duration": 79,
    "start_time": "2022-05-13T13:11:18.260Z"
   },
   {
    "duration": 54,
    "start_time": "2022-05-13T13:11:18.343Z"
   },
   {
    "duration": 318,
    "start_time": "2022-05-13T13:11:18.398Z"
   },
   {
    "duration": 385,
    "start_time": "2022-05-13T13:11:18.718Z"
   },
   {
    "duration": 198,
    "start_time": "2022-05-13T13:11:19.105Z"
   },
   {
    "duration": 247,
    "start_time": "2022-05-13T13:11:19.304Z"
   },
   {
    "duration": 431,
    "start_time": "2022-05-13T13:11:19.553Z"
   },
   {
    "duration": 413,
    "start_time": "2022-05-13T13:11:19.987Z"
   },
   {
    "duration": 466,
    "start_time": "2022-05-13T13:11:20.403Z"
   },
   {
    "duration": 347,
    "start_time": "2022-05-13T13:11:20.871Z"
   },
   {
    "duration": 548,
    "start_time": "2022-05-13T13:11:21.220Z"
   },
   {
    "duration": 16,
    "start_time": "2022-05-13T13:11:21.770Z"
   },
   {
    "duration": 34,
    "start_time": "2022-05-13T13:11:21.794Z"
   },
   {
    "duration": 50,
    "start_time": "2022-05-13T13:11:21.832Z"
   },
   {
    "duration": 36,
    "start_time": "2022-05-13T13:11:21.884Z"
   },
   {
    "duration": 45,
    "start_time": "2022-05-13T13:11:21.922Z"
   },
   {
    "duration": 20,
    "start_time": "2022-05-13T13:13:59.564Z"
   },
   {
    "duration": 293,
    "start_time": "2022-05-13T13:23:52.461Z"
   },
   {
    "duration": 537,
    "start_time": "2022-05-13T13:25:14.497Z"
   },
   {
    "duration": 385,
    "start_time": "2022-05-13T13:25:39.890Z"
   },
   {
    "duration": 36,
    "start_time": "2022-05-13T13:29:46.676Z"
   },
   {
    "duration": 6,
    "start_time": "2022-05-13T13:31:07.503Z"
   },
   {
    "duration": 115,
    "start_time": "2022-05-13T13:31:10.058Z"
   },
   {
    "duration": 1375,
    "start_time": "2022-05-13T13:31:17.652Z"
   },
   {
    "duration": 53,
    "start_time": "2022-05-13T13:31:19.030Z"
   },
   {
    "duration": 240,
    "start_time": "2022-05-13T13:31:19.085Z"
   },
   {
    "duration": 128,
    "start_time": "2022-05-13T13:31:19.327Z"
   },
   {
    "duration": 222,
    "start_time": "2022-05-13T13:31:19.457Z"
   },
   {
    "duration": 60,
    "start_time": "2022-05-13T13:31:19.681Z"
   },
   {
    "duration": 101,
    "start_time": "2022-05-13T13:31:19.742Z"
   },
   {
    "duration": 6,
    "start_time": "2022-05-13T13:31:19.844Z"
   },
   {
    "duration": 61,
    "start_time": "2022-05-13T13:31:19.851Z"
   },
   {
    "duration": 8,
    "start_time": "2022-05-13T13:31:19.914Z"
   },
   {
    "duration": 22,
    "start_time": "2022-05-13T13:31:19.924Z"
   },
   {
    "duration": 67,
    "start_time": "2022-05-13T13:31:19.948Z"
   },
   {
    "duration": 160,
    "start_time": "2022-05-13T13:31:20.016Z"
   },
   {
    "duration": 29,
    "start_time": "2022-05-13T13:31:20.180Z"
   },
   {
    "duration": 10,
    "start_time": "2022-05-13T13:31:20.210Z"
   },
   {
    "duration": 79,
    "start_time": "2022-05-13T13:31:20.221Z"
   },
   {
    "duration": 37,
    "start_time": "2022-05-13T13:31:20.301Z"
   },
   {
    "duration": 72,
    "start_time": "2022-05-13T13:31:20.340Z"
   },
   {
    "duration": 19,
    "start_time": "2022-05-13T13:31:20.414Z"
   },
   {
    "duration": 116,
    "start_time": "2022-05-13T13:31:20.435Z"
   },
   {
    "duration": 49,
    "start_time": "2022-05-13T13:31:20.553Z"
   },
   {
    "duration": 56,
    "start_time": "2022-05-13T13:31:20.604Z"
   },
   {
    "duration": 86,
    "start_time": "2022-05-13T13:31:20.666Z"
   },
   {
    "duration": 53,
    "start_time": "2022-05-13T13:31:20.753Z"
   },
   {
    "duration": 42,
    "start_time": "2022-05-13T13:31:20.808Z"
   },
   {
    "duration": 57,
    "start_time": "2022-05-13T13:31:20.852Z"
   },
   {
    "duration": 18,
    "start_time": "2022-05-13T13:31:20.911Z"
   },
   {
    "duration": 24,
    "start_time": "2022-05-13T13:31:20.934Z"
   },
   {
    "duration": 10,
    "start_time": "2022-05-13T13:31:20.959Z"
   },
   {
    "duration": 111,
    "start_time": "2022-05-13T13:31:20.971Z"
   },
   {
    "duration": 6,
    "start_time": "2022-05-13T13:31:21.084Z"
   },
   {
    "duration": 116,
    "start_time": "2022-05-13T13:31:21.094Z"
   },
   {
    "duration": 4,
    "start_time": "2022-05-13T13:31:21.212Z"
   },
   {
    "duration": 99,
    "start_time": "2022-05-13T13:31:21.218Z"
   },
   {
    "duration": 5,
    "start_time": "2022-05-13T13:31:21.319Z"
   },
   {
    "duration": 188,
    "start_time": "2022-05-13T13:31:21.326Z"
   },
   {
    "duration": 19,
    "start_time": "2022-05-13T13:31:21.516Z"
   },
   {
    "duration": 42,
    "start_time": "2022-05-13T13:31:21.536Z"
   },
   {
    "duration": 46,
    "start_time": "2022-05-13T13:31:21.580Z"
   },
   {
    "duration": 8,
    "start_time": "2022-05-13T13:31:21.628Z"
   },
   {
    "duration": 41,
    "start_time": "2022-05-13T13:31:21.638Z"
   },
   {
    "duration": 37,
    "start_time": "2022-05-13T13:31:21.680Z"
   },
   {
    "duration": 14,
    "start_time": "2022-05-13T13:31:21.718Z"
   },
   {
    "duration": 43,
    "start_time": "2022-05-13T13:31:21.735Z"
   },
   {
    "duration": 42,
    "start_time": "2022-05-13T13:31:21.780Z"
   },
   {
    "duration": 488,
    "start_time": "2022-05-13T13:31:21.824Z"
   },
   {
    "duration": 563,
    "start_time": "2022-05-13T13:31:22.316Z"
   },
   {
    "duration": 210,
    "start_time": "2022-05-13T13:31:22.889Z"
   },
   {
    "duration": 239,
    "start_time": "2022-05-13T13:31:23.102Z"
   },
   {
    "duration": 324,
    "start_time": "2022-05-13T13:31:23.342Z"
   },
   {
    "duration": 245,
    "start_time": "2022-05-13T13:31:23.673Z"
   },
   {
    "duration": 329,
    "start_time": "2022-05-13T13:31:23.920Z"
   },
   {
    "duration": 317,
    "start_time": "2022-05-13T13:31:24.251Z"
   },
   {
    "duration": 325,
    "start_time": "2022-05-13T13:31:24.570Z"
   },
   {
    "duration": 29,
    "start_time": "2022-05-13T13:31:24.897Z"
   },
   {
    "duration": 16,
    "start_time": "2022-05-13T13:31:24.927Z"
   },
   {
    "duration": 28,
    "start_time": "2022-05-13T13:31:24.945Z"
   },
   {
    "duration": 42,
    "start_time": "2022-05-13T13:31:24.979Z"
   },
   {
    "duration": 6,
    "start_time": "2022-05-13T13:31:25.023Z"
   },
   {
    "duration": 17,
    "start_time": "2022-05-13T13:31:25.030Z"
   },
   {
    "duration": 1341,
    "start_time": "2022-05-13T13:48:29.928Z"
   },
   {
    "duration": 71,
    "start_time": "2022-05-13T13:48:31.273Z"
   },
   {
    "duration": 343,
    "start_time": "2022-05-13T13:48:31.345Z"
   },
   {
    "duration": 135,
    "start_time": "2022-05-13T13:48:31.690Z"
   },
   {
    "duration": 246,
    "start_time": "2022-05-13T13:48:31.827Z"
   },
   {
    "duration": 65,
    "start_time": "2022-05-13T13:48:32.076Z"
   },
   {
    "duration": 127,
    "start_time": "2022-05-13T13:48:32.142Z"
   },
   {
    "duration": 7,
    "start_time": "2022-05-13T13:48:32.272Z"
   },
   {
    "duration": 35,
    "start_time": "2022-05-13T13:48:32.281Z"
   },
   {
    "duration": 9,
    "start_time": "2022-05-13T13:48:32.319Z"
   },
   {
    "duration": 12,
    "start_time": "2022-05-13T13:48:32.329Z"
   },
   {
    "duration": 5,
    "start_time": "2022-05-13T13:48:32.343Z"
   },
   {
    "duration": 158,
    "start_time": "2022-05-13T13:48:32.350Z"
   },
   {
    "duration": 37,
    "start_time": "2022-05-13T13:48:32.510Z"
   },
   {
    "duration": 5,
    "start_time": "2022-05-13T13:48:32.550Z"
   },
   {
    "duration": 117,
    "start_time": "2022-05-13T13:48:32.562Z"
   },
   {
    "duration": 42,
    "start_time": "2022-05-13T13:48:32.682Z"
   },
   {
    "duration": 123,
    "start_time": "2022-05-13T13:48:32.726Z"
   },
   {
    "duration": 29,
    "start_time": "2022-05-13T13:48:32.851Z"
   },
   {
    "duration": 70,
    "start_time": "2022-05-13T13:48:32.882Z"
   },
   {
    "duration": 53,
    "start_time": "2022-05-13T13:48:32.954Z"
   },
   {
    "duration": 78,
    "start_time": "2022-05-13T13:48:33.010Z"
   },
   {
    "duration": 33,
    "start_time": "2022-05-13T13:48:33.094Z"
   },
   {
    "duration": 5,
    "start_time": "2022-05-13T13:48:33.129Z"
   },
   {
    "duration": 39,
    "start_time": "2022-05-13T13:48:33.135Z"
   },
   {
    "duration": 41,
    "start_time": "2022-05-13T13:48:33.175Z"
   },
   {
    "duration": 22,
    "start_time": "2022-05-13T13:48:33.218Z"
   },
   {
    "duration": 31,
    "start_time": "2022-05-13T13:48:33.245Z"
   },
   {
    "duration": 4,
    "start_time": "2022-05-13T13:48:33.277Z"
   },
   {
    "duration": 81,
    "start_time": "2022-05-13T13:48:33.287Z"
   },
   {
    "duration": 5,
    "start_time": "2022-05-13T13:48:33.370Z"
   },
   {
    "duration": 123,
    "start_time": "2022-05-13T13:48:33.376Z"
   },
   {
    "duration": 6,
    "start_time": "2022-05-13T13:48:33.501Z"
   },
   {
    "duration": 147,
    "start_time": "2022-05-13T13:48:33.510Z"
   },
   {
    "duration": 7,
    "start_time": "2022-05-13T13:48:33.661Z"
   },
   {
    "duration": 106,
    "start_time": "2022-05-13T13:48:33.670Z"
   },
   {
    "duration": 24,
    "start_time": "2022-05-13T13:48:33.778Z"
   },
   {
    "duration": 39,
    "start_time": "2022-05-13T13:48:33.804Z"
   },
   {
    "duration": 37,
    "start_time": "2022-05-13T13:48:33.845Z"
   },
   {
    "duration": 13,
    "start_time": "2022-05-13T13:48:33.884Z"
   },
   {
    "duration": 26,
    "start_time": "2022-05-13T13:48:33.899Z"
   },
   {
    "duration": 19,
    "start_time": "2022-05-13T13:48:33.928Z"
   },
   {
    "duration": 39,
    "start_time": "2022-05-13T13:48:33.949Z"
   },
   {
    "duration": 50,
    "start_time": "2022-05-13T13:48:33.989Z"
   },
   {
    "duration": 37,
    "start_time": "2022-05-13T13:48:34.042Z"
   },
   {
    "duration": 300,
    "start_time": "2022-05-13T13:48:34.081Z"
   },
   {
    "duration": 318,
    "start_time": "2022-05-13T13:48:34.383Z"
   },
   {
    "duration": 243,
    "start_time": "2022-05-13T13:48:34.706Z"
   },
   {
    "duration": 267,
    "start_time": "2022-05-13T13:48:34.951Z"
   },
   {
    "duration": 405,
    "start_time": "2022-05-13T13:48:35.221Z"
   },
   {
    "duration": 277,
    "start_time": "2022-05-13T13:48:35.628Z"
   },
   {
    "duration": 356,
    "start_time": "2022-05-13T13:48:35.908Z"
   },
   {
    "duration": 521,
    "start_time": "2022-05-13T13:48:36.269Z"
   },
   {
    "duration": 518,
    "start_time": "2022-05-13T13:48:36.793Z"
   },
   {
    "duration": 18,
    "start_time": "2022-05-13T13:48:37.319Z"
   },
   {
    "duration": 34,
    "start_time": "2022-05-13T13:48:37.339Z"
   },
   {
    "duration": 21,
    "start_time": "2022-05-13T13:48:37.379Z"
   },
   {
    "duration": 22,
    "start_time": "2022-05-13T13:48:37.403Z"
   },
   {
    "duration": 25,
    "start_time": "2022-05-13T13:48:37.428Z"
   },
   {
    "duration": 1300,
    "start_time": "2022-05-13T13:50:15.329Z"
   },
   {
    "duration": 56,
    "start_time": "2022-05-13T13:50:16.631Z"
   },
   {
    "duration": 236,
    "start_time": "2022-05-13T13:50:16.688Z"
   },
   {
    "duration": 115,
    "start_time": "2022-05-13T13:50:16.927Z"
   },
   {
    "duration": 249,
    "start_time": "2022-05-13T13:50:17.044Z"
   },
   {
    "duration": 48,
    "start_time": "2022-05-13T13:50:17.295Z"
   },
   {
    "duration": 109,
    "start_time": "2022-05-13T13:50:17.345Z"
   },
   {
    "duration": 5,
    "start_time": "2022-05-13T13:50:17.455Z"
   },
   {
    "duration": 36,
    "start_time": "2022-05-13T13:50:17.470Z"
   },
   {
    "duration": 8,
    "start_time": "2022-05-13T13:50:17.509Z"
   },
   {
    "duration": 13,
    "start_time": "2022-05-13T13:50:17.519Z"
   },
   {
    "duration": 6,
    "start_time": "2022-05-13T13:50:17.533Z"
   },
   {
    "duration": 108,
    "start_time": "2022-05-13T13:50:17.540Z"
   },
   {
    "duration": 24,
    "start_time": "2022-05-13T13:50:17.650Z"
   },
   {
    "duration": 6,
    "start_time": "2022-05-13T13:50:17.676Z"
   },
   {
    "duration": 61,
    "start_time": "2022-05-13T13:50:17.684Z"
   },
   {
    "duration": 40,
    "start_time": "2022-05-13T13:50:17.748Z"
   },
   {
    "duration": 106,
    "start_time": "2022-05-13T13:50:17.791Z"
   },
   {
    "duration": 19,
    "start_time": "2022-05-13T13:50:17.901Z"
   },
   {
    "duration": 57,
    "start_time": "2022-05-13T13:50:17.922Z"
   },
   {
    "duration": 37,
    "start_time": "2022-05-13T13:50:17.986Z"
   },
   {
    "duration": 46,
    "start_time": "2022-05-13T13:50:18.025Z"
   },
   {
    "duration": 31,
    "start_time": "2022-05-13T13:50:18.073Z"
   },
   {
    "duration": 6,
    "start_time": "2022-05-13T13:50:18.106Z"
   },
   {
    "duration": 13,
    "start_time": "2022-05-13T13:50:18.114Z"
   },
   {
    "duration": 40,
    "start_time": "2022-05-13T13:50:18.129Z"
   },
   {
    "duration": 20,
    "start_time": "2022-05-13T13:50:18.170Z"
   },
   {
    "duration": 39,
    "start_time": "2022-05-13T13:50:18.195Z"
   },
   {
    "duration": 4,
    "start_time": "2022-05-13T13:50:18.236Z"
   },
   {
    "duration": 85,
    "start_time": "2022-05-13T13:50:18.242Z"
   },
   {
    "duration": 6,
    "start_time": "2022-05-13T13:50:18.328Z"
   },
   {
    "duration": 100,
    "start_time": "2022-05-13T13:50:18.336Z"
   },
   {
    "duration": 6,
    "start_time": "2022-05-13T13:50:18.438Z"
   },
   {
    "duration": 127,
    "start_time": "2022-05-13T13:50:18.445Z"
   },
   {
    "duration": 7,
    "start_time": "2022-05-13T13:50:18.574Z"
   },
   {
    "duration": 139,
    "start_time": "2022-05-13T13:50:18.583Z"
   },
   {
    "duration": 18,
    "start_time": "2022-05-13T13:50:18.724Z"
   },
   {
    "duration": 40,
    "start_time": "2022-05-13T13:50:18.744Z"
   },
   {
    "duration": 19,
    "start_time": "2022-05-13T13:50:18.787Z"
   },
   {
    "duration": 9,
    "start_time": "2022-05-13T13:50:18.807Z"
   },
   {
    "duration": 13,
    "start_time": "2022-05-13T13:50:18.818Z"
   },
   {
    "duration": 45,
    "start_time": "2022-05-13T13:50:18.833Z"
   },
   {
    "duration": 14,
    "start_time": "2022-05-13T13:50:18.879Z"
   },
   {
    "duration": 39,
    "start_time": "2022-05-13T13:50:18.894Z"
   },
   {
    "duration": 53,
    "start_time": "2022-05-13T13:50:18.934Z"
   },
   {
    "duration": 408,
    "start_time": "2022-05-13T13:50:18.992Z"
   },
   {
    "duration": 305,
    "start_time": "2022-05-13T13:50:19.403Z"
   },
   {
    "duration": 213,
    "start_time": "2022-05-13T13:50:19.711Z"
   },
   {
    "duration": 237,
    "start_time": "2022-05-13T13:50:19.926Z"
   },
   {
    "duration": 325,
    "start_time": "2022-05-13T13:50:20.165Z"
   },
   {
    "duration": 358,
    "start_time": "2022-05-13T13:50:20.492Z"
   },
   {
    "duration": 333,
    "start_time": "2022-05-13T13:50:20.852Z"
   },
   {
    "duration": 277,
    "start_time": "2022-05-13T13:50:21.187Z"
   },
   {
    "duration": 282,
    "start_time": "2022-05-13T13:50:21.466Z"
   },
   {
    "duration": 21,
    "start_time": "2022-05-13T13:50:21.750Z"
   },
   {
    "duration": 39,
    "start_time": "2022-05-13T13:50:21.775Z"
   },
   {
    "duration": 14,
    "start_time": "2022-05-13T13:50:21.816Z"
   },
   {
    "duration": 3,
    "start_time": "2022-05-13T13:50:21.833Z"
   },
   {
    "duration": 17,
    "start_time": "2022-05-13T13:50:21.838Z"
   },
   {
    "duration": 1262,
    "start_time": "2022-05-13T13:54:03.383Z"
   },
   {
    "duration": 55,
    "start_time": "2022-05-13T13:54:04.647Z"
   },
   {
    "duration": 264,
    "start_time": "2022-05-13T13:54:04.704Z"
   },
   {
    "duration": 151,
    "start_time": "2022-05-13T13:54:04.970Z"
   },
   {
    "duration": 229,
    "start_time": "2022-05-13T13:54:05.123Z"
   },
   {
    "duration": 82,
    "start_time": "2022-05-13T13:54:05.361Z"
   },
   {
    "duration": 108,
    "start_time": "2022-05-13T13:54:05.444Z"
   },
   {
    "duration": 16,
    "start_time": "2022-05-13T13:54:05.554Z"
   },
   {
    "duration": 44,
    "start_time": "2022-05-13T13:54:05.572Z"
   },
   {
    "duration": 7,
    "start_time": "2022-05-13T13:54:05.619Z"
   },
   {
    "duration": 11,
    "start_time": "2022-05-13T13:54:05.627Z"
   },
   {
    "duration": 4,
    "start_time": "2022-05-13T13:54:05.640Z"
   },
   {
    "duration": 114,
    "start_time": "2022-05-13T13:54:05.646Z"
   },
   {
    "duration": 35,
    "start_time": "2022-05-13T13:54:05.763Z"
   },
   {
    "duration": 15,
    "start_time": "2022-05-13T13:54:05.800Z"
   },
   {
    "duration": 49,
    "start_time": "2022-05-13T13:54:05.817Z"
   },
   {
    "duration": 39,
    "start_time": "2022-05-13T13:54:05.868Z"
   },
   {
    "duration": 70,
    "start_time": "2022-05-13T13:54:05.909Z"
   },
   {
    "duration": 26,
    "start_time": "2022-05-13T13:54:05.980Z"
   },
   {
    "duration": 39,
    "start_time": "2022-05-13T13:54:06.008Z"
   },
   {
    "duration": 53,
    "start_time": "2022-05-13T13:54:06.063Z"
   },
   {
    "duration": 38,
    "start_time": "2022-05-13T13:54:06.117Z"
   },
   {
    "duration": 49,
    "start_time": "2022-05-13T13:54:06.162Z"
   },
   {
    "duration": 9,
    "start_time": "2022-05-13T13:54:06.212Z"
   },
   {
    "duration": 19,
    "start_time": "2022-05-13T13:54:06.222Z"
   },
   {
    "duration": 13,
    "start_time": "2022-05-13T13:54:06.243Z"
   },
   {
    "duration": 66,
    "start_time": "2022-05-13T13:54:06.258Z"
   },
   {
    "duration": 25,
    "start_time": "2022-05-13T13:54:06.329Z"
   },
   {
    "duration": 4,
    "start_time": "2022-05-13T13:54:06.356Z"
   },
   {
    "duration": 133,
    "start_time": "2022-05-13T13:54:06.369Z"
   },
   {
    "duration": 5,
    "start_time": "2022-05-13T13:54:06.503Z"
   },
   {
    "duration": 82,
    "start_time": "2022-05-13T13:54:06.509Z"
   },
   {
    "duration": 5,
    "start_time": "2022-05-13T13:54:06.593Z"
   },
   {
    "duration": 125,
    "start_time": "2022-05-13T13:54:06.600Z"
   },
   {
    "duration": 4,
    "start_time": "2022-05-13T13:54:06.727Z"
   },
   {
    "duration": 124,
    "start_time": "2022-05-13T13:54:06.733Z"
   },
   {
    "duration": 31,
    "start_time": "2022-05-13T13:54:06.859Z"
   },
   {
    "duration": 53,
    "start_time": "2022-05-13T13:54:06.891Z"
   },
   {
    "duration": 21,
    "start_time": "2022-05-13T13:54:06.946Z"
   },
   {
    "duration": 9,
    "start_time": "2022-05-13T13:54:06.969Z"
   },
   {
    "duration": 48,
    "start_time": "2022-05-13T13:54:06.980Z"
   },
   {
    "duration": 11,
    "start_time": "2022-05-13T13:54:07.030Z"
   },
   {
    "duration": 14,
    "start_time": "2022-05-13T13:54:07.043Z"
   },
   {
    "duration": 71,
    "start_time": "2022-05-13T13:54:07.059Z"
   },
   {
    "duration": 59,
    "start_time": "2022-05-13T13:54:07.131Z"
   },
   {
    "duration": 299,
    "start_time": "2022-05-13T13:54:07.192Z"
   },
   {
    "duration": 328,
    "start_time": "2022-05-13T13:54:07.493Z"
   },
   {
    "duration": 203,
    "start_time": "2022-05-13T13:54:07.823Z"
   },
   {
    "duration": 244,
    "start_time": "2022-05-13T13:54:08.028Z"
   },
   {
    "duration": 347,
    "start_time": "2022-05-13T13:54:08.274Z"
   },
   {
    "duration": 250,
    "start_time": "2022-05-13T13:54:08.623Z"
   },
   {
    "duration": 333,
    "start_time": "2022-05-13T13:54:08.875Z"
   },
   {
    "duration": 303,
    "start_time": "2022-05-13T13:54:09.209Z"
   },
   {
    "duration": 352,
    "start_time": "2022-05-13T13:54:09.514Z"
   },
   {
    "duration": 13,
    "start_time": "2022-05-13T13:54:09.869Z"
   },
   {
    "duration": 46,
    "start_time": "2022-05-13T13:54:09.884Z"
   },
   {
    "duration": 9,
    "start_time": "2022-05-13T13:54:09.932Z"
   },
   {
    "duration": 3,
    "start_time": "2022-05-13T13:54:09.943Z"
   },
   {
    "duration": 13,
    "start_time": "2022-05-13T13:54:09.947Z"
   },
   {
    "duration": 1322,
    "start_time": "2022-05-14T14:32:23.528Z"
   },
   {
    "duration": 53,
    "start_time": "2022-05-14T14:32:24.852Z"
   },
   {
    "duration": 185,
    "start_time": "2022-05-14T14:32:24.906Z"
   },
   {
    "duration": 98,
    "start_time": "2022-05-14T14:32:25.094Z"
   },
   {
    "duration": 164,
    "start_time": "2022-05-14T14:32:25.194Z"
   },
   {
    "duration": 49,
    "start_time": "2022-05-14T14:32:25.360Z"
   },
   {
    "duration": 66,
    "start_time": "2022-05-14T14:32:25.411Z"
   },
   {
    "duration": 4,
    "start_time": "2022-05-14T14:32:25.479Z"
   },
   {
    "duration": 4,
    "start_time": "2022-05-14T14:32:25.500Z"
   },
   {
    "duration": 5,
    "start_time": "2022-05-14T14:32:25.506Z"
   },
   {
    "duration": 6,
    "start_time": "2022-05-14T14:32:25.513Z"
   },
   {
    "duration": 5,
    "start_time": "2022-05-14T14:32:25.521Z"
   },
   {
    "duration": 90,
    "start_time": "2022-05-14T14:32:25.527Z"
   },
   {
    "duration": 19,
    "start_time": "2022-05-14T14:32:25.618Z"
   },
   {
    "duration": 3,
    "start_time": "2022-05-14T14:32:25.638Z"
   },
   {
    "duration": 41,
    "start_time": "2022-05-14T14:32:25.643Z"
   },
   {
    "duration": 27,
    "start_time": "2022-05-14T14:32:25.699Z"
   },
   {
    "duration": 55,
    "start_time": "2022-05-14T14:32:25.728Z"
   },
   {
    "duration": 30,
    "start_time": "2022-05-14T14:32:25.785Z"
   },
   {
    "duration": 31,
    "start_time": "2022-05-14T14:32:25.817Z"
   },
   {
    "duration": 54,
    "start_time": "2022-05-14T14:32:25.849Z"
   },
   {
    "duration": 34,
    "start_time": "2022-05-14T14:32:25.904Z"
   },
   {
    "duration": 23,
    "start_time": "2022-05-14T14:32:25.940Z"
   },
   {
    "duration": 4,
    "start_time": "2022-05-14T14:32:25.965Z"
   },
   {
    "duration": 13,
    "start_time": "2022-05-14T14:32:25.970Z"
   },
   {
    "duration": 21,
    "start_time": "2022-05-14T14:32:25.984Z"
   },
   {
    "duration": 13,
    "start_time": "2022-05-14T14:32:26.007Z"
   },
   {
    "duration": 22,
    "start_time": "2022-05-14T14:32:26.024Z"
   },
   {
    "duration": 3,
    "start_time": "2022-05-14T14:32:26.048Z"
   },
   {
    "duration": 76,
    "start_time": "2022-05-14T14:32:26.052Z"
   },
   {
    "duration": 3,
    "start_time": "2022-05-14T14:32:26.129Z"
   },
   {
    "duration": 52,
    "start_time": "2022-05-14T14:32:26.134Z"
   },
   {
    "duration": 12,
    "start_time": "2022-05-14T14:32:26.188Z"
   },
   {
    "duration": 68,
    "start_time": "2022-05-14T14:32:26.201Z"
   },
   {
    "duration": 4,
    "start_time": "2022-05-14T14:32:26.270Z"
   },
   {
    "duration": 85,
    "start_time": "2022-05-14T14:32:26.275Z"
   },
   {
    "duration": 15,
    "start_time": "2022-05-14T14:32:26.361Z"
   },
   {
    "duration": 34,
    "start_time": "2022-05-14T14:32:26.377Z"
   },
   {
    "duration": 12,
    "start_time": "2022-05-14T14:32:26.412Z"
   },
   {
    "duration": 7,
    "start_time": "2022-05-14T14:32:26.425Z"
   },
   {
    "duration": 12,
    "start_time": "2022-05-14T14:32:26.433Z"
   },
   {
    "duration": 8,
    "start_time": "2022-05-14T14:32:26.446Z"
   },
   {
    "duration": 46,
    "start_time": "2022-05-14T14:32:26.455Z"
   },
   {
    "duration": 26,
    "start_time": "2022-05-14T14:32:26.503Z"
   },
   {
    "duration": 30,
    "start_time": "2022-05-14T14:32:26.531Z"
   },
   {
    "duration": 241,
    "start_time": "2022-05-14T14:32:26.562Z"
   },
   {
    "duration": 247,
    "start_time": "2022-05-14T14:32:26.805Z"
   },
   {
    "duration": 162,
    "start_time": "2022-05-14T14:32:27.053Z"
   },
   {
    "duration": 216,
    "start_time": "2022-05-14T14:32:27.216Z"
   },
   {
    "duration": 260,
    "start_time": "2022-05-14T14:32:27.434Z"
   },
   {
    "duration": 207,
    "start_time": "2022-05-14T14:32:27.700Z"
   },
   {
    "duration": 266,
    "start_time": "2022-05-14T14:32:27.909Z"
   },
   {
    "duration": 244,
    "start_time": "2022-05-14T14:32:28.177Z"
   },
   {
    "duration": 227,
    "start_time": "2022-05-14T14:32:28.423Z"
   },
   {
    "duration": 11,
    "start_time": "2022-05-14T14:32:28.651Z"
   },
   {
    "duration": 13,
    "start_time": "2022-05-14T14:32:28.663Z"
   },
   {
    "duration": 104,
    "start_time": "2022-05-14T14:32:28.677Z"
   },
   {
    "duration": 0,
    "start_time": "2022-05-14T14:32:28.782Z"
   },
   {
    "duration": 0,
    "start_time": "2022-05-14T14:32:28.783Z"
   },
   {
    "duration": 0,
    "start_time": "2022-05-14T14:32:28.784Z"
   },
   {
    "duration": 10,
    "start_time": "2022-05-14T14:32:37.916Z"
   },
   {
    "duration": 2,
    "start_time": "2022-05-14T14:32:38.425Z"
   },
   {
    "duration": 13,
    "start_time": "2022-05-14T14:32:39.114Z"
   },
   {
    "duration": 3059,
    "start_time": "2022-05-14T14:33:22.201Z"
   },
   {
    "duration": 8,
    "start_time": "2022-05-14T14:33:34.436Z"
   },
   {
    "duration": 7,
    "start_time": "2022-05-14T14:34:11.461Z"
   },
   {
    "duration": 8,
    "start_time": "2022-05-14T14:34:13.174Z"
   },
   {
    "duration": 5,
    "start_time": "2022-05-14T14:35:02.556Z"
   },
   {
    "duration": 4,
    "start_time": "2022-05-14T14:35:15.690Z"
   },
   {
    "duration": 5,
    "start_time": "2022-05-14T14:35:28.279Z"
   },
   {
    "duration": 3,
    "start_time": "2022-05-14T14:35:31.123Z"
   },
   {
    "duration": 11,
    "start_time": "2022-05-14T14:35:34.309Z"
   },
   {
    "duration": 3,
    "start_time": "2022-05-14T14:35:34.867Z"
   },
   {
    "duration": 3,
    "start_time": "2022-05-14T14:36:14.357Z"
   },
   {
    "duration": 6,
    "start_time": "2022-05-14T14:36:16.657Z"
   },
   {
    "duration": 4,
    "start_time": "2022-05-14T14:36:24.028Z"
   },
   {
    "duration": 5,
    "start_time": "2022-05-14T14:36:37.386Z"
   },
   {
    "duration": 5,
    "start_time": "2022-05-14T14:41:19.401Z"
   },
   {
    "duration": 3,
    "start_time": "2022-05-14T14:41:32.459Z"
   },
   {
    "duration": 8,
    "start_time": "2022-05-14T14:41:35.132Z"
   },
   {
    "duration": 3,
    "start_time": "2022-05-14T14:41:41.250Z"
   },
   {
    "duration": 3,
    "start_time": "2022-05-14T14:41:43.439Z"
   },
   {
    "duration": 8,
    "start_time": "2022-05-14T14:41:44.366Z"
   },
   {
    "duration": 3,
    "start_time": "2022-05-14T14:41:44.567Z"
   },
   {
    "duration": 8,
    "start_time": "2022-05-14T14:42:02.333Z"
   },
   {
    "duration": 8,
    "start_time": "2022-05-14T14:42:08.721Z"
   },
   {
    "duration": 52,
    "start_time": "2022-05-14T14:42:09.897Z"
   },
   {
    "duration": 2,
    "start_time": "2022-05-14T14:42:17.988Z"
   },
   {
    "duration": 5,
    "start_time": "2022-05-14T14:42:22.533Z"
   },
   {
    "duration": 8,
    "start_time": "2022-05-14T14:42:53.291Z"
   },
   {
    "duration": 242,
    "start_time": "2022-05-14T14:42:57.815Z"
   },
   {
    "duration": 790,
    "start_time": "2022-05-14T14:43:06.361Z"
   },
   {
    "duration": 4,
    "start_time": "2022-05-14T14:43:22.199Z"
   },
   {
    "duration": 25,
    "start_time": "2022-05-14T14:43:41.037Z"
   },
   {
    "duration": 4,
    "start_time": "2022-05-14T14:43:44.858Z"
   },
   {
    "duration": 67,
    "start_time": "2022-05-14T14:43:56.080Z"
   },
   {
    "duration": 60,
    "start_time": "2022-05-14T14:44:03.653Z"
   },
   {
    "duration": 42,
    "start_time": "2022-05-14T14:44:15.989Z"
   },
   {
    "duration": 244,
    "start_time": "2022-05-14T14:44:23.704Z"
   },
   {
    "duration": 4,
    "start_time": "2022-05-14T14:44:26.421Z"
   },
   {
    "duration": 5,
    "start_time": "2022-05-14T14:44:41.390Z"
   },
   {
    "duration": 10,
    "start_time": "2022-05-14T14:45:29.617Z"
   },
   {
    "duration": 7,
    "start_time": "2022-05-14T14:46:46.512Z"
   },
   {
    "duration": 10,
    "start_time": "2022-05-14T14:47:11.340Z"
   },
   {
    "duration": 8,
    "start_time": "2022-05-14T14:47:21.733Z"
   },
   {
    "duration": 8,
    "start_time": "2022-05-14T14:47:38.433Z"
   },
   {
    "duration": 7,
    "start_time": "2022-05-14T14:48:53.400Z"
   },
   {
    "duration": 7,
    "start_time": "2022-05-14T14:48:58.715Z"
   },
   {
    "duration": 2,
    "start_time": "2022-05-14T14:49:56.406Z"
   },
   {
    "duration": 5,
    "start_time": "2022-05-14T14:50:00.632Z"
   },
   {
    "duration": 8,
    "start_time": "2022-05-14T14:50:04.207Z"
   },
   {
    "duration": 8,
    "start_time": "2022-05-14T14:50:06.069Z"
   },
   {
    "duration": 8,
    "start_time": "2022-05-14T14:50:09.886Z"
   },
   {
    "duration": 8,
    "start_time": "2022-05-14T14:50:23.091Z"
   },
   {
    "duration": 8,
    "start_time": "2022-05-14T14:50:27.112Z"
   },
   {
    "duration": 8,
    "start_time": "2022-05-14T14:50:32.612Z"
   },
   {
    "duration": 8,
    "start_time": "2022-05-14T14:50:36.093Z"
   },
   {
    "duration": 8,
    "start_time": "2022-05-14T14:51:13.932Z"
   },
   {
    "duration": 7,
    "start_time": "2022-05-14T14:51:20.421Z"
   },
   {
    "duration": 8,
    "start_time": "2022-05-14T14:51:57.367Z"
   },
   {
    "duration": 1252,
    "start_time": "2022-05-15T08:05:19.602Z"
   },
   {
    "duration": 77,
    "start_time": "2022-05-15T08:05:20.857Z"
   },
   {
    "duration": 192,
    "start_time": "2022-05-15T08:05:20.936Z"
   },
   {
    "duration": 111,
    "start_time": "2022-05-15T08:05:21.131Z"
   },
   {
    "duration": 168,
    "start_time": "2022-05-15T08:05:21.244Z"
   },
   {
    "duration": 58,
    "start_time": "2022-05-15T08:05:21.414Z"
   },
   {
    "duration": 70,
    "start_time": "2022-05-15T08:05:21.473Z"
   },
   {
    "duration": 6,
    "start_time": "2022-05-15T08:05:21.545Z"
   },
   {
    "duration": 22,
    "start_time": "2022-05-15T08:05:21.553Z"
   },
   {
    "duration": 6,
    "start_time": "2022-05-15T08:05:21.577Z"
   },
   {
    "duration": 8,
    "start_time": "2022-05-15T08:05:21.584Z"
   },
   {
    "duration": 3,
    "start_time": "2022-05-15T08:05:21.594Z"
   },
   {
    "duration": 97,
    "start_time": "2022-05-15T08:05:21.598Z"
   },
   {
    "duration": 19,
    "start_time": "2022-05-15T08:05:21.697Z"
   },
   {
    "duration": 3,
    "start_time": "2022-05-15T08:05:21.718Z"
   },
   {
    "duration": 65,
    "start_time": "2022-05-15T08:05:21.722Z"
   },
   {
    "duration": 27,
    "start_time": "2022-05-15T08:05:21.788Z"
   },
   {
    "duration": 70,
    "start_time": "2022-05-15T08:05:21.817Z"
   },
   {
    "duration": 18,
    "start_time": "2022-05-15T08:05:21.888Z"
   },
   {
    "duration": 32,
    "start_time": "2022-05-15T08:05:21.907Z"
   },
   {
    "duration": 53,
    "start_time": "2022-05-15T08:05:21.941Z"
   },
   {
    "duration": 36,
    "start_time": "2022-05-15T08:05:21.995Z"
   },
   {
    "duration": 40,
    "start_time": "2022-05-15T08:05:22.033Z"
   },
   {
    "duration": 4,
    "start_time": "2022-05-15T08:05:22.075Z"
   },
   {
    "duration": 7,
    "start_time": "2022-05-15T08:05:22.081Z"
   },
   {
    "duration": 8,
    "start_time": "2022-05-15T08:05:22.089Z"
   },
   {
    "duration": 15,
    "start_time": "2022-05-15T08:05:22.098Z"
   },
   {
    "duration": 54,
    "start_time": "2022-05-15T08:05:22.118Z"
   },
   {
    "duration": 4,
    "start_time": "2022-05-15T08:05:22.173Z"
   },
   {
    "duration": 56,
    "start_time": "2022-05-15T08:05:22.178Z"
   },
   {
    "duration": 3,
    "start_time": "2022-05-15T08:05:22.235Z"
   },
   {
    "duration": 68,
    "start_time": "2022-05-15T08:05:22.240Z"
   },
   {
    "duration": 3,
    "start_time": "2022-05-15T08:05:22.310Z"
   },
   {
    "duration": 75,
    "start_time": "2022-05-15T08:05:22.315Z"
   },
   {
    "duration": 4,
    "start_time": "2022-05-15T08:05:22.392Z"
   },
   {
    "duration": 85,
    "start_time": "2022-05-15T08:05:22.398Z"
   },
   {
    "duration": 16,
    "start_time": "2022-05-15T08:05:22.484Z"
   },
   {
    "duration": 22,
    "start_time": "2022-05-15T08:05:22.502Z"
   },
   {
    "duration": 12,
    "start_time": "2022-05-15T08:05:22.525Z"
   },
   {
    "duration": 7,
    "start_time": "2022-05-15T08:05:22.539Z"
   },
   {
    "duration": 13,
    "start_time": "2022-05-15T08:05:22.571Z"
   },
   {
    "duration": 8,
    "start_time": "2022-05-15T08:05:22.585Z"
   },
   {
    "duration": 8,
    "start_time": "2022-05-15T08:05:22.595Z"
   },
   {
    "duration": 25,
    "start_time": "2022-05-15T08:05:22.605Z"
   },
   {
    "duration": 60,
    "start_time": "2022-05-15T08:05:22.632Z"
   },
   {
    "duration": 217,
    "start_time": "2022-05-15T08:05:22.694Z"
   },
   {
    "duration": 239,
    "start_time": "2022-05-15T08:05:22.913Z"
   },
   {
    "duration": 149,
    "start_time": "2022-05-15T08:05:23.154Z"
   },
   {
    "duration": 204,
    "start_time": "2022-05-15T08:05:23.305Z"
   },
   {
    "duration": 263,
    "start_time": "2022-05-15T08:05:23.510Z"
   },
   {
    "duration": 208,
    "start_time": "2022-05-15T08:05:23.774Z"
   },
   {
    "duration": 266,
    "start_time": "2022-05-15T08:05:23.983Z"
   },
   {
    "duration": 241,
    "start_time": "2022-05-15T08:05:24.251Z"
   },
   {
    "duration": 242,
    "start_time": "2022-05-15T08:05:24.494Z"
   },
   {
    "duration": 10,
    "start_time": "2022-05-15T08:05:24.738Z"
   },
   {
    "duration": 22,
    "start_time": "2022-05-15T08:05:24.749Z"
   },
   {
    "duration": 3,
    "start_time": "2022-05-15T08:05:24.773Z"
   },
   {
    "duration": 14,
    "start_time": "2022-05-15T08:05:24.777Z"
   },
   {
    "duration": 6,
    "start_time": "2022-05-15T08:05:24.793Z"
   },
   {
    "duration": 1129,
    "start_time": "2022-05-15T08:06:24.247Z"
   },
   {
    "duration": 45,
    "start_time": "2022-05-15T08:06:25.377Z"
   },
   {
    "duration": 183,
    "start_time": "2022-05-15T08:06:25.424Z"
   },
   {
    "duration": 103,
    "start_time": "2022-05-15T08:06:25.609Z"
   },
   {
    "duration": 167,
    "start_time": "2022-05-15T08:06:25.714Z"
   },
   {
    "duration": 43,
    "start_time": "2022-05-15T08:06:25.882Z"
   },
   {
    "duration": 91,
    "start_time": "2022-05-15T08:06:25.927Z"
   },
   {
    "duration": 6,
    "start_time": "2022-05-15T08:06:26.020Z"
   },
   {
    "duration": 5,
    "start_time": "2022-05-15T08:06:26.028Z"
   },
   {
    "duration": 4,
    "start_time": "2022-05-15T08:06:26.037Z"
   },
   {
    "duration": 32,
    "start_time": "2022-05-15T08:06:26.043Z"
   },
   {
    "duration": 3,
    "start_time": "2022-05-15T08:06:26.077Z"
   },
   {
    "duration": 90,
    "start_time": "2022-05-15T08:06:26.082Z"
   },
   {
    "duration": 21,
    "start_time": "2022-05-15T08:06:26.173Z"
   },
   {
    "duration": 3,
    "start_time": "2022-05-15T08:06:26.196Z"
   },
   {
    "duration": 42,
    "start_time": "2022-05-15T08:06:26.201Z"
   },
   {
    "duration": 47,
    "start_time": "2022-05-15T08:06:26.245Z"
   },
   {
    "duration": 58,
    "start_time": "2022-05-15T08:06:26.294Z"
   },
   {
    "duration": 19,
    "start_time": "2022-05-15T08:06:26.370Z"
   },
   {
    "duration": 32,
    "start_time": "2022-05-15T08:06:26.391Z"
   },
   {
    "duration": 54,
    "start_time": "2022-05-15T08:06:26.425Z"
   },
   {
    "duration": 36,
    "start_time": "2022-05-15T08:06:26.480Z"
   },
   {
    "duration": 23,
    "start_time": "2022-05-15T08:06:26.517Z"
   },
   {
    "duration": 5,
    "start_time": "2022-05-15T08:06:26.542Z"
   },
   {
    "duration": 6,
    "start_time": "2022-05-15T08:06:26.571Z"
   },
   {
    "duration": 8,
    "start_time": "2022-05-15T08:06:26.578Z"
   },
   {
    "duration": 13,
    "start_time": "2022-05-15T08:06:26.587Z"
   },
   {
    "duration": 23,
    "start_time": "2022-05-15T08:06:26.604Z"
   },
   {
    "duration": 4,
    "start_time": "2022-05-15T08:06:26.628Z"
   },
   {
    "duration": 82,
    "start_time": "2022-05-15T08:06:26.633Z"
   },
   {
    "duration": 4,
    "start_time": "2022-05-15T08:06:26.716Z"
   },
   {
    "duration": 63,
    "start_time": "2022-05-15T08:06:26.721Z"
   },
   {
    "duration": 4,
    "start_time": "2022-05-15T08:06:26.785Z"
   },
   {
    "duration": 82,
    "start_time": "2022-05-15T08:06:26.791Z"
   },
   {
    "duration": 5,
    "start_time": "2022-05-15T08:06:26.874Z"
   },
   {
    "duration": 69,
    "start_time": "2022-05-15T08:06:26.881Z"
   },
   {
    "duration": 99,
    "start_time": "2022-05-15T08:06:26.952Z"
   },
   {
    "duration": 0,
    "start_time": "2022-05-15T08:06:27.053Z"
   },
   {
    "duration": 0,
    "start_time": "2022-05-15T08:06:27.054Z"
   },
   {
    "duration": 0,
    "start_time": "2022-05-15T08:06:27.056Z"
   },
   {
    "duration": 0,
    "start_time": "2022-05-15T08:06:27.057Z"
   },
   {
    "duration": 0,
    "start_time": "2022-05-15T08:06:27.058Z"
   },
   {
    "duration": 0,
    "start_time": "2022-05-15T08:06:27.071Z"
   },
   {
    "duration": 0,
    "start_time": "2022-05-15T08:06:27.072Z"
   },
   {
    "duration": 0,
    "start_time": "2022-05-15T08:06:27.074Z"
   },
   {
    "duration": 0,
    "start_time": "2022-05-15T08:06:27.075Z"
   },
   {
    "duration": 0,
    "start_time": "2022-05-15T08:06:27.076Z"
   },
   {
    "duration": 0,
    "start_time": "2022-05-15T08:06:27.078Z"
   },
   {
    "duration": 0,
    "start_time": "2022-05-15T08:06:27.079Z"
   },
   {
    "duration": 0,
    "start_time": "2022-05-15T08:06:27.080Z"
   },
   {
    "duration": 0,
    "start_time": "2022-05-15T08:06:27.082Z"
   },
   {
    "duration": 0,
    "start_time": "2022-05-15T08:06:27.083Z"
   },
   {
    "duration": 0,
    "start_time": "2022-05-15T08:06:27.084Z"
   },
   {
    "duration": 0,
    "start_time": "2022-05-15T08:06:27.085Z"
   },
   {
    "duration": 0,
    "start_time": "2022-05-15T08:06:27.087Z"
   },
   {
    "duration": 0,
    "start_time": "2022-05-15T08:06:27.088Z"
   },
   {
    "duration": 0,
    "start_time": "2022-05-15T08:06:27.090Z"
   },
   {
    "duration": 0,
    "start_time": "2022-05-15T08:06:27.091Z"
   },
   {
    "duration": 0,
    "start_time": "2022-05-15T08:06:27.092Z"
   },
   {
    "duration": 0,
    "start_time": "2022-05-15T08:06:27.093Z"
   },
   {
    "duration": 109,
    "start_time": "2022-05-15T08:07:47.213Z"
   },
   {
    "duration": 9,
    "start_time": "2022-05-15T08:08:14.718Z"
   },
   {
    "duration": 25,
    "start_time": "2022-05-15T08:08:18.541Z"
   },
   {
    "duration": 1129,
    "start_time": "2022-05-15T08:08:58.151Z"
   },
   {
    "duration": 43,
    "start_time": "2022-05-15T08:08:59.282Z"
   },
   {
    "duration": 180,
    "start_time": "2022-05-15T08:08:59.326Z"
   },
   {
    "duration": 103,
    "start_time": "2022-05-15T08:08:59.508Z"
   },
   {
    "duration": 166,
    "start_time": "2022-05-15T08:08:59.612Z"
   },
   {
    "duration": 40,
    "start_time": "2022-05-15T08:08:59.779Z"
   },
   {
    "duration": 80,
    "start_time": "2022-05-15T08:08:59.821Z"
   },
   {
    "duration": 5,
    "start_time": "2022-05-15T08:08:59.903Z"
   },
   {
    "duration": 7,
    "start_time": "2022-05-15T08:08:59.909Z"
   },
   {
    "duration": 6,
    "start_time": "2022-05-15T08:08:59.919Z"
   },
   {
    "duration": 9,
    "start_time": "2022-05-15T08:08:59.926Z"
   },
   {
    "duration": 4,
    "start_time": "2022-05-15T08:08:59.936Z"
   },
   {
    "duration": 98,
    "start_time": "2022-05-15T08:08:59.941Z"
   },
   {
    "duration": 32,
    "start_time": "2022-05-15T08:09:00.040Z"
   },
   {
    "duration": 3,
    "start_time": "2022-05-15T08:09:00.073Z"
   },
   {
    "duration": 43,
    "start_time": "2022-05-15T08:09:00.077Z"
   },
   {
    "duration": 27,
    "start_time": "2022-05-15T08:09:00.121Z"
   },
   {
    "duration": 76,
    "start_time": "2022-05-15T08:09:00.149Z"
   },
   {
    "duration": 18,
    "start_time": "2022-05-15T08:09:00.226Z"
   },
   {
    "duration": 48,
    "start_time": "2022-05-15T08:09:00.246Z"
   },
   {
    "duration": 33,
    "start_time": "2022-05-15T08:09:00.295Z"
   },
   {
    "duration": 52,
    "start_time": "2022-05-15T08:09:00.330Z"
   },
   {
    "duration": 24,
    "start_time": "2022-05-15T08:09:00.383Z"
   },
   {
    "duration": 5,
    "start_time": "2022-05-15T08:09:00.408Z"
   },
   {
    "duration": 10,
    "start_time": "2022-05-15T08:09:00.414Z"
   },
   {
    "duration": 9,
    "start_time": "2022-05-15T08:09:00.425Z"
   },
   {
    "duration": 38,
    "start_time": "2022-05-15T08:09:00.436Z"
   },
   {
    "duration": 23,
    "start_time": "2022-05-15T08:09:00.478Z"
   },
   {
    "duration": 3,
    "start_time": "2022-05-15T08:09:00.503Z"
   },
   {
    "duration": 69,
    "start_time": "2022-05-15T08:09:00.508Z"
   },
   {
    "duration": 4,
    "start_time": "2022-05-15T08:09:00.578Z"
   },
   {
    "duration": 62,
    "start_time": "2022-05-15T08:09:00.583Z"
   },
   {
    "duration": 3,
    "start_time": "2022-05-15T08:09:00.647Z"
   },
   {
    "duration": 77,
    "start_time": "2022-05-15T08:09:00.652Z"
   },
   {
    "duration": 4,
    "start_time": "2022-05-15T08:09:00.731Z"
   },
   {
    "duration": 80,
    "start_time": "2022-05-15T08:09:00.736Z"
   },
   {
    "duration": 2,
    "start_time": "2022-05-15T08:09:00.817Z"
   },
   {
    "duration": 8,
    "start_time": "2022-05-15T08:09:00.821Z"
   },
   {
    "duration": 102,
    "start_time": "2022-05-15T08:09:00.830Z"
   },
   {
    "duration": 0,
    "start_time": "2022-05-15T08:09:00.933Z"
   },
   {
    "duration": 0,
    "start_time": "2022-05-15T08:09:00.934Z"
   },
   {
    "duration": 0,
    "start_time": "2022-05-15T08:09:00.935Z"
   },
   {
    "duration": 0,
    "start_time": "2022-05-15T08:09:00.936Z"
   },
   {
    "duration": 0,
    "start_time": "2022-05-15T08:09:00.937Z"
   },
   {
    "duration": 0,
    "start_time": "2022-05-15T08:09:00.938Z"
   },
   {
    "duration": 0,
    "start_time": "2022-05-15T08:09:00.940Z"
   },
   {
    "duration": 0,
    "start_time": "2022-05-15T08:09:00.940Z"
   },
   {
    "duration": 0,
    "start_time": "2022-05-15T08:09:00.941Z"
   },
   {
    "duration": 0,
    "start_time": "2022-05-15T08:09:00.942Z"
   },
   {
    "duration": 0,
    "start_time": "2022-05-15T08:09:00.943Z"
   },
   {
    "duration": 0,
    "start_time": "2022-05-15T08:09:00.944Z"
   },
   {
    "duration": 0,
    "start_time": "2022-05-15T08:09:00.945Z"
   },
   {
    "duration": 0,
    "start_time": "2022-05-15T08:09:00.946Z"
   },
   {
    "duration": 0,
    "start_time": "2022-05-15T08:09:00.971Z"
   },
   {
    "duration": 0,
    "start_time": "2022-05-15T08:09:00.972Z"
   },
   {
    "duration": 0,
    "start_time": "2022-05-15T08:09:00.973Z"
   },
   {
    "duration": 0,
    "start_time": "2022-05-15T08:09:00.974Z"
   },
   {
    "duration": 0,
    "start_time": "2022-05-15T08:09:00.975Z"
   },
   {
    "duration": 0,
    "start_time": "2022-05-15T08:09:00.976Z"
   },
   {
    "duration": 0,
    "start_time": "2022-05-15T08:09:00.978Z"
   },
   {
    "duration": 0,
    "start_time": "2022-05-15T08:09:00.979Z"
   },
   {
    "duration": 0,
    "start_time": "2022-05-15T08:09:00.980Z"
   },
   {
    "duration": 4,
    "start_time": "2022-05-15T08:09:22.813Z"
   },
   {
    "duration": 11,
    "start_time": "2022-05-15T08:09:40.212Z"
   },
   {
    "duration": 5,
    "start_time": "2022-05-15T08:10:38.294Z"
   },
   {
    "duration": 5,
    "start_time": "2022-05-15T08:10:48.306Z"
   },
   {
    "duration": 1123,
    "start_time": "2022-05-15T08:11:01.282Z"
   },
   {
    "duration": 43,
    "start_time": "2022-05-15T08:11:02.407Z"
   },
   {
    "duration": 188,
    "start_time": "2022-05-15T08:11:02.452Z"
   },
   {
    "duration": 105,
    "start_time": "2022-05-15T08:11:02.642Z"
   },
   {
    "duration": 170,
    "start_time": "2022-05-15T08:11:02.748Z"
   },
   {
    "duration": 54,
    "start_time": "2022-05-15T08:11:02.919Z"
   },
   {
    "duration": 71,
    "start_time": "2022-05-15T08:11:02.974Z"
   },
   {
    "duration": 5,
    "start_time": "2022-05-15T08:11:03.047Z"
   },
   {
    "duration": 19,
    "start_time": "2022-05-15T08:11:03.053Z"
   },
   {
    "duration": 5,
    "start_time": "2022-05-15T08:11:03.075Z"
   },
   {
    "duration": 10,
    "start_time": "2022-05-15T08:11:03.082Z"
   },
   {
    "duration": 6,
    "start_time": "2022-05-15T08:11:03.093Z"
   },
   {
    "duration": 94,
    "start_time": "2022-05-15T08:11:03.100Z"
   },
   {
    "duration": 20,
    "start_time": "2022-05-15T08:11:03.196Z"
   },
   {
    "duration": 3,
    "start_time": "2022-05-15T08:11:03.217Z"
   },
   {
    "duration": 56,
    "start_time": "2022-05-15T08:11:03.221Z"
   },
   {
    "duration": 28,
    "start_time": "2022-05-15T08:11:03.278Z"
   },
   {
    "duration": 73,
    "start_time": "2022-05-15T08:11:03.308Z"
   },
   {
    "duration": 18,
    "start_time": "2022-05-15T08:11:03.382Z"
   },
   {
    "duration": 34,
    "start_time": "2022-05-15T08:11:03.401Z"
   },
   {
    "duration": 54,
    "start_time": "2022-05-15T08:11:03.436Z"
   },
   {
    "duration": 37,
    "start_time": "2022-05-15T08:11:03.492Z"
   },
   {
    "duration": 39,
    "start_time": "2022-05-15T08:11:03.531Z"
   },
   {
    "duration": 5,
    "start_time": "2022-05-15T08:11:03.572Z"
   },
   {
    "duration": 9,
    "start_time": "2022-05-15T08:11:03.578Z"
   },
   {
    "duration": 11,
    "start_time": "2022-05-15T08:11:03.588Z"
   },
   {
    "duration": 16,
    "start_time": "2022-05-15T08:11:03.601Z"
   },
   {
    "duration": 25,
    "start_time": "2022-05-15T08:11:03.621Z"
   },
   {
    "duration": 24,
    "start_time": "2022-05-15T08:11:03.647Z"
   },
   {
    "duration": 56,
    "start_time": "2022-05-15T08:11:03.673Z"
   },
   {
    "duration": 4,
    "start_time": "2022-05-15T08:11:03.731Z"
   },
   {
    "duration": 73,
    "start_time": "2022-05-15T08:11:03.736Z"
   },
   {
    "duration": 4,
    "start_time": "2022-05-15T08:11:03.811Z"
   },
   {
    "duration": 82,
    "start_time": "2022-05-15T08:11:03.816Z"
   },
   {
    "duration": 5,
    "start_time": "2022-05-15T08:11:03.899Z"
   },
   {
    "duration": 82,
    "start_time": "2022-05-15T08:11:03.905Z"
   },
   {
    "duration": 2,
    "start_time": "2022-05-15T08:11:03.989Z"
   },
   {
    "duration": 7,
    "start_time": "2022-05-15T08:11:03.993Z"
   },
   {
    "duration": 10,
    "start_time": "2022-05-15T08:11:04.001Z"
   },
   {
    "duration": 13,
    "start_time": "2022-05-15T08:11:04.013Z"
   },
   {
    "duration": 5,
    "start_time": "2022-05-15T08:11:04.027Z"
   },
   {
    "duration": 7,
    "start_time": "2022-05-15T08:11:04.033Z"
   },
   {
    "duration": 114,
    "start_time": "2022-05-15T08:11:04.042Z"
   },
   {
    "duration": 0,
    "start_time": "2022-05-15T08:11:04.157Z"
   },
   {
    "duration": 0,
    "start_time": "2022-05-15T08:11:04.158Z"
   },
   {
    "duration": 0,
    "start_time": "2022-05-15T08:11:04.159Z"
   },
   {
    "duration": 0,
    "start_time": "2022-05-15T08:11:04.160Z"
   },
   {
    "duration": 0,
    "start_time": "2022-05-15T08:11:04.161Z"
   },
   {
    "duration": 0,
    "start_time": "2022-05-15T08:11:04.162Z"
   },
   {
    "duration": 0,
    "start_time": "2022-05-15T08:11:04.170Z"
   },
   {
    "duration": 0,
    "start_time": "2022-05-15T08:11:04.172Z"
   },
   {
    "duration": 0,
    "start_time": "2022-05-15T08:11:04.173Z"
   },
   {
    "duration": 0,
    "start_time": "2022-05-15T08:11:04.174Z"
   },
   {
    "duration": 0,
    "start_time": "2022-05-15T08:11:04.175Z"
   },
   {
    "duration": 0,
    "start_time": "2022-05-15T08:11:04.176Z"
   },
   {
    "duration": 0,
    "start_time": "2022-05-15T08:11:04.177Z"
   },
   {
    "duration": 0,
    "start_time": "2022-05-15T08:11:04.178Z"
   },
   {
    "duration": 0,
    "start_time": "2022-05-15T08:11:04.179Z"
   },
   {
    "duration": 0,
    "start_time": "2022-05-15T08:11:04.180Z"
   },
   {
    "duration": 0,
    "start_time": "2022-05-15T08:11:04.181Z"
   },
   {
    "duration": 0,
    "start_time": "2022-05-15T08:11:04.182Z"
   },
   {
    "duration": 0,
    "start_time": "2022-05-15T08:11:04.183Z"
   },
   {
    "duration": 0,
    "start_time": "2022-05-15T08:11:04.185Z"
   },
   {
    "duration": 0,
    "start_time": "2022-05-15T08:11:04.185Z"
   },
   {
    "duration": 0,
    "start_time": "2022-05-15T08:11:04.186Z"
   },
   {
    "duration": 0,
    "start_time": "2022-05-15T08:11:04.187Z"
   },
   {
    "duration": 21,
    "start_time": "2022-05-15T08:11:43.005Z"
   },
   {
    "duration": 5,
    "start_time": "2022-05-15T08:11:47.454Z"
   },
   {
    "duration": 16,
    "start_time": "2022-05-15T08:12:29.262Z"
   },
   {
    "duration": 5,
    "start_time": "2022-05-15T08:12:32.880Z"
   },
   {
    "duration": 1129,
    "start_time": "2022-05-15T08:12:37.564Z"
   },
   {
    "duration": 43,
    "start_time": "2022-05-15T08:12:38.695Z"
   },
   {
    "duration": 182,
    "start_time": "2022-05-15T08:12:38.739Z"
   },
   {
    "duration": 105,
    "start_time": "2022-05-15T08:12:38.922Z"
   },
   {
    "duration": 174,
    "start_time": "2022-05-15T08:12:39.028Z"
   },
   {
    "duration": 40,
    "start_time": "2022-05-15T08:12:39.203Z"
   },
   {
    "duration": 83,
    "start_time": "2022-05-15T08:12:39.245Z"
   },
   {
    "duration": 5,
    "start_time": "2022-05-15T08:12:39.330Z"
   },
   {
    "duration": 6,
    "start_time": "2022-05-15T08:12:39.337Z"
   },
   {
    "duration": 4,
    "start_time": "2022-05-15T08:12:39.346Z"
   },
   {
    "duration": 6,
    "start_time": "2022-05-15T08:12:39.371Z"
   },
   {
    "duration": 4,
    "start_time": "2022-05-15T08:12:39.378Z"
   },
   {
    "duration": 88,
    "start_time": "2022-05-15T08:12:39.384Z"
   },
   {
    "duration": 20,
    "start_time": "2022-05-15T08:12:39.474Z"
   },
   {
    "duration": 3,
    "start_time": "2022-05-15T08:12:39.495Z"
   },
   {
    "duration": 44,
    "start_time": "2022-05-15T08:12:39.500Z"
   },
   {
    "duration": 43,
    "start_time": "2022-05-15T08:12:39.546Z"
   },
   {
    "duration": 60,
    "start_time": "2022-05-15T08:12:39.591Z"
   },
   {
    "duration": 34,
    "start_time": "2022-05-15T08:12:39.653Z"
   },
   {
    "duration": 33,
    "start_time": "2022-05-15T08:12:39.688Z"
   },
   {
    "duration": 55,
    "start_time": "2022-05-15T08:12:39.723Z"
   },
   {
    "duration": 37,
    "start_time": "2022-05-15T08:12:39.780Z"
   },
   {
    "duration": 25,
    "start_time": "2022-05-15T08:12:39.819Z"
   },
   {
    "duration": 5,
    "start_time": "2022-05-15T08:12:39.845Z"
   },
   {
    "duration": 6,
    "start_time": "2022-05-15T08:12:39.871Z"
   },
   {
    "duration": 18,
    "start_time": "2022-05-15T08:12:39.878Z"
   },
   {
    "duration": 14,
    "start_time": "2022-05-15T08:12:39.897Z"
   },
   {
    "duration": 24,
    "start_time": "2022-05-15T08:12:39.915Z"
   },
   {
    "duration": 3,
    "start_time": "2022-05-15T08:12:39.941Z"
   },
   {
    "duration": 53,
    "start_time": "2022-05-15T08:12:39.970Z"
   },
   {
    "duration": 4,
    "start_time": "2022-05-15T08:12:40.025Z"
   },
   {
    "duration": 69,
    "start_time": "2022-05-15T08:12:40.030Z"
   },
   {
    "duration": 4,
    "start_time": "2022-05-15T08:12:40.101Z"
   },
   {
    "duration": 79,
    "start_time": "2022-05-15T08:12:40.107Z"
   },
   {
    "duration": 4,
    "start_time": "2022-05-15T08:12:40.188Z"
   },
   {
    "duration": 78,
    "start_time": "2022-05-15T08:12:40.193Z"
   },
   {
    "duration": 2,
    "start_time": "2022-05-15T08:12:40.273Z"
   },
   {
    "duration": 6,
    "start_time": "2022-05-15T08:12:40.277Z"
   },
   {
    "duration": 9,
    "start_time": "2022-05-15T08:12:40.285Z"
   },
   {
    "duration": 14,
    "start_time": "2022-05-15T08:12:40.296Z"
   },
   {
    "duration": 4,
    "start_time": "2022-05-15T08:12:40.312Z"
   },
   {
    "duration": 9,
    "start_time": "2022-05-15T08:12:40.318Z"
   },
   {
    "duration": 23,
    "start_time": "2022-05-15T08:12:40.328Z"
   },
   {
    "duration": 22,
    "start_time": "2022-05-15T08:12:40.352Z"
   },
   {
    "duration": 98,
    "start_time": "2022-05-15T08:12:40.375Z"
   },
   {
    "duration": 0,
    "start_time": "2022-05-15T08:12:40.474Z"
   },
   {
    "duration": 0,
    "start_time": "2022-05-15T08:12:40.476Z"
   },
   {
    "duration": 0,
    "start_time": "2022-05-15T08:12:40.477Z"
   },
   {
    "duration": 0,
    "start_time": "2022-05-15T08:12:40.477Z"
   },
   {
    "duration": 0,
    "start_time": "2022-05-15T08:12:40.479Z"
   },
   {
    "duration": 0,
    "start_time": "2022-05-15T08:12:40.480Z"
   },
   {
    "duration": 0,
    "start_time": "2022-05-15T08:12:40.480Z"
   },
   {
    "duration": 0,
    "start_time": "2022-05-15T08:12:40.481Z"
   },
   {
    "duration": 0,
    "start_time": "2022-05-15T08:12:40.482Z"
   },
   {
    "duration": 0,
    "start_time": "2022-05-15T08:12:40.483Z"
   },
   {
    "duration": 0,
    "start_time": "2022-05-15T08:12:40.484Z"
   },
   {
    "duration": 0,
    "start_time": "2022-05-15T08:12:40.485Z"
   },
   {
    "duration": 0,
    "start_time": "2022-05-15T08:12:40.486Z"
   },
   {
    "duration": 0,
    "start_time": "2022-05-15T08:12:40.487Z"
   },
   {
    "duration": 0,
    "start_time": "2022-05-15T08:12:40.488Z"
   },
   {
    "duration": 0,
    "start_time": "2022-05-15T08:12:40.489Z"
   },
   {
    "duration": 0,
    "start_time": "2022-05-15T08:12:40.490Z"
   },
   {
    "duration": 0,
    "start_time": "2022-05-15T08:12:40.491Z"
   },
   {
    "duration": 0,
    "start_time": "2022-05-15T08:12:40.492Z"
   },
   {
    "duration": 0,
    "start_time": "2022-05-15T08:12:40.493Z"
   },
   {
    "duration": 0,
    "start_time": "2022-05-15T08:12:40.494Z"
   },
   {
    "duration": 0,
    "start_time": "2022-05-15T08:12:40.495Z"
   },
   {
    "duration": 0,
    "start_time": "2022-05-15T08:12:40.496Z"
   },
   {
    "duration": 1129,
    "start_time": "2022-05-15T08:14:40.746Z"
   },
   {
    "duration": 44,
    "start_time": "2022-05-15T08:14:41.876Z"
   },
   {
    "duration": 179,
    "start_time": "2022-05-15T08:14:41.921Z"
   },
   {
    "duration": 104,
    "start_time": "2022-05-15T08:14:42.102Z"
   },
   {
    "duration": 168,
    "start_time": "2022-05-15T08:14:42.207Z"
   },
   {
    "duration": 41,
    "start_time": "2022-05-15T08:14:42.376Z"
   },
   {
    "duration": 88,
    "start_time": "2022-05-15T08:14:42.419Z"
   },
   {
    "duration": 6,
    "start_time": "2022-05-15T08:14:42.508Z"
   },
   {
    "duration": 6,
    "start_time": "2022-05-15T08:14:42.515Z"
   },
   {
    "duration": 5,
    "start_time": "2022-05-15T08:14:42.524Z"
   },
   {
    "duration": 7,
    "start_time": "2022-05-15T08:14:42.530Z"
   },
   {
    "duration": 3,
    "start_time": "2022-05-15T08:14:42.538Z"
   },
   {
    "duration": 100,
    "start_time": "2022-05-15T08:14:42.542Z"
   },
   {
    "duration": 32,
    "start_time": "2022-05-15T08:14:42.644Z"
   },
   {
    "duration": 3,
    "start_time": "2022-05-15T08:14:42.677Z"
   },
   {
    "duration": 45,
    "start_time": "2022-05-15T08:14:42.682Z"
   },
   {
    "duration": 48,
    "start_time": "2022-05-15T08:14:42.729Z"
   },
   {
    "duration": 59,
    "start_time": "2022-05-15T08:14:42.779Z"
   },
   {
    "duration": 36,
    "start_time": "2022-05-15T08:14:42.840Z"
   },
   {
    "duration": 33,
    "start_time": "2022-05-15T08:14:42.878Z"
   },
   {
    "duration": 33,
    "start_time": "2022-05-15T08:14:42.913Z"
   },
   {
    "duration": 58,
    "start_time": "2022-05-15T08:14:42.948Z"
   },
   {
    "duration": 24,
    "start_time": "2022-05-15T08:14:43.008Z"
   },
   {
    "duration": 5,
    "start_time": "2022-05-15T08:14:43.034Z"
   },
   {
    "duration": 31,
    "start_time": "2022-05-15T08:14:43.041Z"
   },
   {
    "duration": 8,
    "start_time": "2022-05-15T08:14:43.074Z"
   },
   {
    "duration": 15,
    "start_time": "2022-05-15T08:14:43.084Z"
   },
   {
    "duration": 24,
    "start_time": "2022-05-15T08:14:43.104Z"
   },
   {
    "duration": 5,
    "start_time": "2022-05-15T08:14:43.129Z"
   },
   {
    "duration": 52,
    "start_time": "2022-05-15T08:14:43.171Z"
   },
   {
    "duration": 4,
    "start_time": "2022-05-15T08:14:43.225Z"
   },
   {
    "duration": 65,
    "start_time": "2022-05-15T08:14:43.230Z"
   },
   {
    "duration": 4,
    "start_time": "2022-05-15T08:14:43.296Z"
   },
   {
    "duration": 86,
    "start_time": "2022-05-15T08:14:43.301Z"
   },
   {
    "duration": 5,
    "start_time": "2022-05-15T08:14:43.388Z"
   },
   {
    "duration": 80,
    "start_time": "2022-05-15T08:14:43.394Z"
   },
   {
    "duration": 3,
    "start_time": "2022-05-15T08:14:43.475Z"
   },
   {
    "duration": 5,
    "start_time": "2022-05-15T08:14:43.479Z"
   },
   {
    "duration": 5,
    "start_time": "2022-05-15T08:14:43.485Z"
   },
   {
    "duration": 18,
    "start_time": "2022-05-15T08:14:43.491Z"
   },
   {
    "duration": 18,
    "start_time": "2022-05-15T08:14:43.510Z"
   },
   {
    "duration": 12,
    "start_time": "2022-05-15T08:14:43.530Z"
   },
   {
    "duration": 9,
    "start_time": "2022-05-15T08:14:43.570Z"
   },
   {
    "duration": 13,
    "start_time": "2022-05-15T08:14:43.581Z"
   },
   {
    "duration": 9,
    "start_time": "2022-05-15T08:14:43.595Z"
   },
   {
    "duration": 9,
    "start_time": "2022-05-15T08:14:43.605Z"
   },
   {
    "duration": 60,
    "start_time": "2022-05-15T08:14:43.615Z"
   },
   {
    "duration": 29,
    "start_time": "2022-05-15T08:14:43.677Z"
   },
   {
    "duration": 228,
    "start_time": "2022-05-15T08:14:43.708Z"
   },
   {
    "duration": 240,
    "start_time": "2022-05-15T08:14:43.937Z"
   },
   {
    "duration": 157,
    "start_time": "2022-05-15T08:14:44.178Z"
   },
   {
    "duration": 213,
    "start_time": "2022-05-15T08:14:44.336Z"
   },
   {
    "duration": 289,
    "start_time": "2022-05-15T08:14:44.551Z"
   },
   {
    "duration": 225,
    "start_time": "2022-05-15T08:14:44.842Z"
   },
   {
    "duration": 282,
    "start_time": "2022-05-15T08:14:45.071Z"
   },
   {
    "duration": 256,
    "start_time": "2022-05-15T08:14:45.355Z"
   },
   {
    "duration": 264,
    "start_time": "2022-05-15T08:14:45.612Z"
   },
   {
    "duration": 11,
    "start_time": "2022-05-15T08:14:45.878Z"
   },
   {
    "duration": 18,
    "start_time": "2022-05-15T08:14:45.891Z"
   },
   {
    "duration": 4,
    "start_time": "2022-05-15T08:14:45.911Z"
   },
   {
    "duration": 15,
    "start_time": "2022-05-15T08:14:45.916Z"
   },
   {
    "duration": 42,
    "start_time": "2022-05-15T08:14:45.932Z"
   },
   {
    "duration": 1141,
    "start_time": "2022-05-15T08:17:11.839Z"
   },
   {
    "duration": 42,
    "start_time": "2022-05-15T08:17:12.981Z"
   },
   {
    "duration": 185,
    "start_time": "2022-05-15T08:17:13.025Z"
   },
   {
    "duration": 98,
    "start_time": "2022-05-15T08:17:13.212Z"
   },
   {
    "duration": 171,
    "start_time": "2022-05-15T08:17:13.312Z"
   },
   {
    "duration": 40,
    "start_time": "2022-05-15T08:17:13.485Z"
   },
   {
    "duration": 86,
    "start_time": "2022-05-15T08:17:13.526Z"
   },
   {
    "duration": 5,
    "start_time": "2022-05-15T08:17:13.614Z"
   },
   {
    "duration": 8,
    "start_time": "2022-05-15T08:17:13.620Z"
   },
   {
    "duration": 7,
    "start_time": "2022-05-15T08:17:13.630Z"
   },
   {
    "duration": 8,
    "start_time": "2022-05-15T08:17:13.638Z"
   },
   {
    "duration": 6,
    "start_time": "2022-05-15T08:17:13.647Z"
   },
   {
    "duration": 86,
    "start_time": "2022-05-15T08:17:13.654Z"
   },
   {
    "duration": 32,
    "start_time": "2022-05-15T08:17:13.742Z"
   },
   {
    "duration": 3,
    "start_time": "2022-05-15T08:17:13.775Z"
   },
   {
    "duration": 45,
    "start_time": "2022-05-15T08:17:13.779Z"
   },
   {
    "duration": 27,
    "start_time": "2022-05-15T08:17:13.825Z"
   },
   {
    "duration": 59,
    "start_time": "2022-05-15T08:17:13.871Z"
   },
   {
    "duration": 18,
    "start_time": "2022-05-15T08:17:13.932Z"
   },
   {
    "duration": 50,
    "start_time": "2022-05-15T08:17:13.951Z"
   },
   {
    "duration": 34,
    "start_time": "2022-05-15T08:17:14.002Z"
   },
   {
    "duration": 53,
    "start_time": "2022-05-15T08:17:14.037Z"
   },
   {
    "duration": 25,
    "start_time": "2022-05-15T08:17:14.092Z"
   },
   {
    "duration": 5,
    "start_time": "2022-05-15T08:17:14.119Z"
   },
   {
    "duration": 9,
    "start_time": "2022-05-15T08:17:14.125Z"
   },
   {
    "duration": 8,
    "start_time": "2022-05-15T08:17:14.136Z"
   },
   {
    "duration": 37,
    "start_time": "2022-05-15T08:17:14.146Z"
   },
   {
    "duration": 24,
    "start_time": "2022-05-15T08:17:14.187Z"
   },
   {
    "duration": 4,
    "start_time": "2022-05-15T08:17:14.212Z"
   },
   {
    "duration": 68,
    "start_time": "2022-05-15T08:17:14.217Z"
   },
   {
    "duration": 4,
    "start_time": "2022-05-15T08:17:14.287Z"
   },
   {
    "duration": 52,
    "start_time": "2022-05-15T08:17:14.292Z"
   },
   {
    "duration": 4,
    "start_time": "2022-05-15T08:17:14.346Z"
   },
   {
    "duration": 90,
    "start_time": "2022-05-15T08:17:14.351Z"
   },
   {
    "duration": 4,
    "start_time": "2022-05-15T08:17:14.442Z"
   },
   {
    "duration": 75,
    "start_time": "2022-05-15T08:17:14.447Z"
   },
   {
    "duration": 3,
    "start_time": "2022-05-15T08:17:14.523Z"
   },
   {
    "duration": 20,
    "start_time": "2022-05-15T08:17:14.527Z"
   },
   {
    "duration": 107,
    "start_time": "2022-05-15T08:17:14.549Z"
   },
   {
    "duration": 0,
    "start_time": "2022-05-15T08:17:14.658Z"
   },
   {
    "duration": 0,
    "start_time": "2022-05-15T08:17:14.659Z"
   },
   {
    "duration": 0,
    "start_time": "2022-05-15T08:17:14.660Z"
   },
   {
    "duration": 0,
    "start_time": "2022-05-15T08:17:14.661Z"
   },
   {
    "duration": 0,
    "start_time": "2022-05-15T08:17:14.670Z"
   },
   {
    "duration": 0,
    "start_time": "2022-05-15T08:17:14.671Z"
   },
   {
    "duration": 0,
    "start_time": "2022-05-15T08:17:14.672Z"
   },
   {
    "duration": 0,
    "start_time": "2022-05-15T08:17:14.673Z"
   },
   {
    "duration": 0,
    "start_time": "2022-05-15T08:17:14.674Z"
   },
   {
    "duration": 0,
    "start_time": "2022-05-15T08:17:14.675Z"
   },
   {
    "duration": 0,
    "start_time": "2022-05-15T08:17:14.676Z"
   },
   {
    "duration": 0,
    "start_time": "2022-05-15T08:17:14.677Z"
   },
   {
    "duration": 0,
    "start_time": "2022-05-15T08:17:14.677Z"
   },
   {
    "duration": 0,
    "start_time": "2022-05-15T08:17:14.678Z"
   },
   {
    "duration": 0,
    "start_time": "2022-05-15T08:17:14.679Z"
   },
   {
    "duration": 0,
    "start_time": "2022-05-15T08:17:14.680Z"
   },
   {
    "duration": 0,
    "start_time": "2022-05-15T08:17:14.681Z"
   },
   {
    "duration": 0,
    "start_time": "2022-05-15T08:17:14.681Z"
   },
   {
    "duration": 0,
    "start_time": "2022-05-15T08:17:14.682Z"
   },
   {
    "duration": 0,
    "start_time": "2022-05-15T08:17:14.683Z"
   },
   {
    "duration": 0,
    "start_time": "2022-05-15T08:17:14.684Z"
   },
   {
    "duration": 0,
    "start_time": "2022-05-15T08:17:14.685Z"
   },
   {
    "duration": 0,
    "start_time": "2022-05-15T08:17:14.686Z"
   },
   {
    "duration": 1064,
    "start_time": "2022-05-15T08:17:36.725Z"
   },
   {
    "duration": 54,
    "start_time": "2022-05-15T08:17:37.791Z"
   },
   {
    "duration": 189,
    "start_time": "2022-05-15T08:17:37.846Z"
   },
   {
    "duration": 108,
    "start_time": "2022-05-15T08:17:38.037Z"
   },
   {
    "duration": 168,
    "start_time": "2022-05-15T08:17:38.147Z"
   },
   {
    "duration": 58,
    "start_time": "2022-05-15T08:17:38.317Z"
   },
   {
    "duration": 72,
    "start_time": "2022-05-15T08:17:38.376Z"
   },
   {
    "duration": 5,
    "start_time": "2022-05-15T08:17:38.450Z"
   },
   {
    "duration": 5,
    "start_time": "2022-05-15T08:17:38.471Z"
   },
   {
    "duration": 5,
    "start_time": "2022-05-15T08:17:38.479Z"
   },
   {
    "duration": 10,
    "start_time": "2022-05-15T08:17:38.485Z"
   },
   {
    "duration": 4,
    "start_time": "2022-05-15T08:17:38.496Z"
   },
   {
    "duration": 98,
    "start_time": "2022-05-15T08:17:38.501Z"
   },
   {
    "duration": 19,
    "start_time": "2022-05-15T08:17:38.601Z"
   },
   {
    "duration": 3,
    "start_time": "2022-05-15T08:17:38.622Z"
   },
   {
    "duration": 55,
    "start_time": "2022-05-15T08:17:38.626Z"
   },
   {
    "duration": 27,
    "start_time": "2022-05-15T08:17:38.683Z"
   },
   {
    "duration": 76,
    "start_time": "2022-05-15T08:17:38.712Z"
   },
   {
    "duration": 19,
    "start_time": "2022-05-15T08:17:38.789Z"
   },
   {
    "duration": 33,
    "start_time": "2022-05-15T08:17:38.810Z"
   },
   {
    "duration": 54,
    "start_time": "2022-05-15T08:17:38.845Z"
   },
   {
    "duration": 35,
    "start_time": "2022-05-15T08:17:38.900Z"
   },
   {
    "duration": 44,
    "start_time": "2022-05-15T08:17:38.937Z"
   },
   {
    "duration": 4,
    "start_time": "2022-05-15T08:17:38.983Z"
   },
   {
    "duration": 6,
    "start_time": "2022-05-15T08:17:38.989Z"
   },
   {
    "duration": 7,
    "start_time": "2022-05-15T08:17:38.996Z"
   },
   {
    "duration": 13,
    "start_time": "2022-05-15T08:17:39.004Z"
   },
   {
    "duration": 51,
    "start_time": "2022-05-15T08:17:39.021Z"
   },
   {
    "duration": 4,
    "start_time": "2022-05-15T08:17:39.073Z"
   },
   {
    "duration": 55,
    "start_time": "2022-05-15T08:17:39.078Z"
   },
   {
    "duration": 3,
    "start_time": "2022-05-15T08:17:39.135Z"
   },
   {
    "duration": 64,
    "start_time": "2022-05-15T08:17:39.140Z"
   },
   {
    "duration": 4,
    "start_time": "2022-05-15T08:17:39.205Z"
   },
   {
    "duration": 82,
    "start_time": "2022-05-15T08:17:39.210Z"
   },
   {
    "duration": 4,
    "start_time": "2022-05-15T08:17:39.294Z"
   },
   {
    "duration": 81,
    "start_time": "2022-05-15T08:17:39.299Z"
   },
   {
    "duration": 5,
    "start_time": "2022-05-15T08:17:39.381Z"
   },
   {
    "duration": 23,
    "start_time": "2022-05-15T08:17:39.388Z"
   },
   {
    "duration": 107,
    "start_time": "2022-05-15T08:17:39.412Z"
   },
   {
    "duration": 0,
    "start_time": "2022-05-15T08:17:39.521Z"
   },
   {
    "duration": 0,
    "start_time": "2022-05-15T08:17:39.522Z"
   },
   {
    "duration": 0,
    "start_time": "2022-05-15T08:17:39.523Z"
   },
   {
    "duration": 0,
    "start_time": "2022-05-15T08:17:39.523Z"
   },
   {
    "duration": 0,
    "start_time": "2022-05-15T08:17:39.525Z"
   },
   {
    "duration": 0,
    "start_time": "2022-05-15T08:17:39.526Z"
   },
   {
    "duration": 0,
    "start_time": "2022-05-15T08:17:39.527Z"
   },
   {
    "duration": 0,
    "start_time": "2022-05-15T08:17:39.528Z"
   },
   {
    "duration": 0,
    "start_time": "2022-05-15T08:17:39.529Z"
   },
   {
    "duration": 0,
    "start_time": "2022-05-15T08:17:39.530Z"
   },
   {
    "duration": 0,
    "start_time": "2022-05-15T08:17:39.531Z"
   },
   {
    "duration": 0,
    "start_time": "2022-05-15T08:17:39.532Z"
   },
   {
    "duration": 0,
    "start_time": "2022-05-15T08:17:39.533Z"
   },
   {
    "duration": 0,
    "start_time": "2022-05-15T08:17:39.534Z"
   },
   {
    "duration": 0,
    "start_time": "2022-05-15T08:17:39.535Z"
   },
   {
    "duration": 0,
    "start_time": "2022-05-15T08:17:39.536Z"
   },
   {
    "duration": 0,
    "start_time": "2022-05-15T08:17:39.537Z"
   },
   {
    "duration": 0,
    "start_time": "2022-05-15T08:17:39.538Z"
   },
   {
    "duration": 0,
    "start_time": "2022-05-15T08:17:39.570Z"
   },
   {
    "duration": 0,
    "start_time": "2022-05-15T08:17:39.572Z"
   },
   {
    "duration": 0,
    "start_time": "2022-05-15T08:17:39.573Z"
   },
   {
    "duration": 0,
    "start_time": "2022-05-15T08:17:39.575Z"
   },
   {
    "duration": 0,
    "start_time": "2022-05-15T08:17:39.576Z"
   },
   {
    "duration": 12,
    "start_time": "2022-05-15T08:19:36.047Z"
   },
   {
    "duration": 5,
    "start_time": "2022-05-15T08:20:01.110Z"
   },
   {
    "duration": 17,
    "start_time": "2022-05-15T08:20:03.422Z"
   },
   {
    "duration": 12,
    "start_time": "2022-05-15T08:20:13.620Z"
   },
   {
    "duration": 1119,
    "start_time": "2022-05-15T08:20:31.134Z"
   },
   {
    "duration": 45,
    "start_time": "2022-05-15T08:20:32.255Z"
   },
   {
    "duration": 197,
    "start_time": "2022-05-15T08:20:32.302Z"
   },
   {
    "duration": 102,
    "start_time": "2022-05-15T08:20:32.501Z"
   },
   {
    "duration": 171,
    "start_time": "2022-05-15T08:20:32.605Z"
   },
   {
    "duration": 41,
    "start_time": "2022-05-15T08:20:32.777Z"
   },
   {
    "duration": 88,
    "start_time": "2022-05-15T08:20:32.819Z"
   },
   {
    "duration": 5,
    "start_time": "2022-05-15T08:20:32.909Z"
   },
   {
    "duration": 7,
    "start_time": "2022-05-15T08:20:32.915Z"
   },
   {
    "duration": 10,
    "start_time": "2022-05-15T08:20:32.925Z"
   },
   {
    "duration": 7,
    "start_time": "2022-05-15T08:20:32.937Z"
   },
   {
    "duration": 5,
    "start_time": "2022-05-15T08:20:32.945Z"
   },
   {
    "duration": 93,
    "start_time": "2022-05-15T08:20:32.951Z"
   },
   {
    "duration": 29,
    "start_time": "2022-05-15T08:20:33.045Z"
   },
   {
    "duration": 3,
    "start_time": "2022-05-15T08:20:33.075Z"
   },
   {
    "duration": 44,
    "start_time": "2022-05-15T08:20:33.080Z"
   },
   {
    "duration": 27,
    "start_time": "2022-05-15T08:20:33.126Z"
   },
   {
    "duration": 61,
    "start_time": "2022-05-15T08:20:33.171Z"
   },
   {
    "duration": 18,
    "start_time": "2022-05-15T08:20:33.233Z"
   },
   {
    "duration": 50,
    "start_time": "2022-05-15T08:20:33.252Z"
   },
   {
    "duration": 33,
    "start_time": "2022-05-15T08:20:33.304Z"
   },
   {
    "duration": 53,
    "start_time": "2022-05-15T08:20:33.339Z"
   },
   {
    "duration": 23,
    "start_time": "2022-05-15T08:20:33.394Z"
   },
   {
    "duration": 4,
    "start_time": "2022-05-15T08:20:33.419Z"
   },
   {
    "duration": 6,
    "start_time": "2022-05-15T08:20:33.425Z"
   },
   {
    "duration": 6,
    "start_time": "2022-05-15T08:20:33.433Z"
   },
   {
    "duration": 38,
    "start_time": "2022-05-15T08:20:33.441Z"
   },
   {
    "duration": 24,
    "start_time": "2022-05-15T08:20:33.484Z"
   },
   {
    "duration": 3,
    "start_time": "2022-05-15T08:20:33.510Z"
   },
   {
    "duration": 73,
    "start_time": "2022-05-15T08:20:33.515Z"
   },
   {
    "duration": 4,
    "start_time": "2022-05-15T08:20:33.589Z"
   },
   {
    "duration": 54,
    "start_time": "2022-05-15T08:20:33.595Z"
   },
   {
    "duration": 4,
    "start_time": "2022-05-15T08:20:33.650Z"
   },
   {
    "duration": 83,
    "start_time": "2022-05-15T08:20:33.655Z"
   },
   {
    "duration": 4,
    "start_time": "2022-05-15T08:20:33.739Z"
   },
   {
    "duration": 87,
    "start_time": "2022-05-15T08:20:33.745Z"
   },
   {
    "duration": 3,
    "start_time": "2022-05-15T08:20:33.834Z"
   },
   {
    "duration": 32,
    "start_time": "2022-05-15T08:20:33.839Z"
   },
   {
    "duration": 5,
    "start_time": "2022-05-15T08:20:33.873Z"
   },
   {
    "duration": 20,
    "start_time": "2022-05-15T08:20:33.879Z"
   },
   {
    "duration": 2,
    "start_time": "2022-05-15T08:20:33.900Z"
   },
   {
    "duration": 20,
    "start_time": "2022-05-15T08:20:33.904Z"
   },
   {
    "duration": 12,
    "start_time": "2022-05-15T08:20:33.925Z"
   },
   {
    "duration": 33,
    "start_time": "2022-05-15T08:20:33.939Z"
   },
   {
    "duration": 13,
    "start_time": "2022-05-15T08:20:33.973Z"
   },
   {
    "duration": 7,
    "start_time": "2022-05-15T08:20:33.988Z"
   },
   {
    "duration": 9,
    "start_time": "2022-05-15T08:20:33.997Z"
   },
   {
    "duration": 26,
    "start_time": "2022-05-15T08:20:34.007Z"
   },
   {
    "duration": 62,
    "start_time": "2022-05-15T08:20:34.034Z"
   },
   {
    "duration": 220,
    "start_time": "2022-05-15T08:20:34.097Z"
   },
   {
    "duration": 248,
    "start_time": "2022-05-15T08:20:34.318Z"
   },
   {
    "duration": 156,
    "start_time": "2022-05-15T08:20:34.570Z"
   },
   {
    "duration": 213,
    "start_time": "2022-05-15T08:20:34.728Z"
   },
   {
    "duration": 285,
    "start_time": "2022-05-15T08:20:34.943Z"
   },
   {
    "duration": 204,
    "start_time": "2022-05-15T08:20:35.229Z"
   },
   {
    "duration": 282,
    "start_time": "2022-05-15T08:20:35.435Z"
   },
   {
    "duration": 259,
    "start_time": "2022-05-15T08:20:35.719Z"
   },
   {
    "duration": 246,
    "start_time": "2022-05-15T08:20:35.980Z"
   },
   {
    "duration": 11,
    "start_time": "2022-05-15T08:20:36.228Z"
   },
   {
    "duration": 14,
    "start_time": "2022-05-15T08:20:36.241Z"
   },
   {
    "duration": 3,
    "start_time": "2022-05-15T08:20:36.271Z"
   },
   {
    "duration": 14,
    "start_time": "2022-05-15T08:20:36.275Z"
   },
   {
    "duration": 7,
    "start_time": "2022-05-15T08:20:36.291Z"
   },
   {
    "duration": 10,
    "start_time": "2022-05-15T08:21:59.052Z"
   },
   {
    "duration": 98,
    "start_time": "2022-05-15T08:22:14.445Z"
   },
   {
    "duration": 19,
    "start_time": "2022-05-15T08:22:37.917Z"
   },
   {
    "duration": 16,
    "start_time": "2022-05-15T08:22:45.388Z"
   },
   {
    "duration": 20,
    "start_time": "2022-05-15T08:22:52.402Z"
   },
   {
    "duration": 19,
    "start_time": "2022-05-15T08:23:21.113Z"
   },
   {
    "duration": 1122,
    "start_time": "2022-05-15T08:26:31.160Z"
   },
   {
    "duration": 42,
    "start_time": "2022-05-15T08:26:32.284Z"
   },
   {
    "duration": 187,
    "start_time": "2022-05-15T08:26:32.327Z"
   },
   {
    "duration": 110,
    "start_time": "2022-05-15T08:26:32.516Z"
   },
   {
    "duration": 168,
    "start_time": "2022-05-15T08:26:32.628Z"
   },
   {
    "duration": 41,
    "start_time": "2022-05-15T08:26:32.797Z"
   },
   {
    "duration": 88,
    "start_time": "2022-05-15T08:26:32.839Z"
   },
   {
    "duration": 5,
    "start_time": "2022-05-15T08:26:32.929Z"
   },
   {
    "duration": 6,
    "start_time": "2022-05-15T08:26:32.935Z"
   },
   {
    "duration": 5,
    "start_time": "2022-05-15T08:26:32.943Z"
   },
   {
    "duration": 25,
    "start_time": "2022-05-15T08:26:32.949Z"
   },
   {
    "duration": 3,
    "start_time": "2022-05-15T08:26:32.975Z"
   },
   {
    "duration": 79,
    "start_time": "2022-05-15T08:26:32.980Z"
   },
   {
    "duration": 29,
    "start_time": "2022-05-15T08:26:33.060Z"
   },
   {
    "duration": 3,
    "start_time": "2022-05-15T08:26:33.090Z"
   },
   {
    "duration": 45,
    "start_time": "2022-05-15T08:26:33.095Z"
   },
   {
    "duration": 48,
    "start_time": "2022-05-15T08:26:33.141Z"
   },
   {
    "duration": 61,
    "start_time": "2022-05-15T08:26:33.191Z"
   },
   {
    "duration": 26,
    "start_time": "2022-05-15T08:26:33.253Z"
   },
   {
    "duration": 32,
    "start_time": "2022-05-15T08:26:33.281Z"
   },
   {
    "duration": 57,
    "start_time": "2022-05-15T08:26:33.314Z"
   },
   {
    "duration": 38,
    "start_time": "2022-05-15T08:26:33.373Z"
   },
   {
    "duration": 25,
    "start_time": "2022-05-15T08:26:33.412Z"
   },
   {
    "duration": 5,
    "start_time": "2022-05-15T08:26:33.439Z"
   },
   {
    "duration": 6,
    "start_time": "2022-05-15T08:26:33.470Z"
   },
   {
    "duration": 7,
    "start_time": "2022-05-15T08:26:33.478Z"
   },
   {
    "duration": 17,
    "start_time": "2022-05-15T08:26:33.487Z"
   },
   {
    "duration": 25,
    "start_time": "2022-05-15T08:26:33.509Z"
   },
   {
    "duration": 5,
    "start_time": "2022-05-15T08:26:33.535Z"
   },
   {
    "duration": 83,
    "start_time": "2022-05-15T08:26:33.541Z"
   },
   {
    "duration": 4,
    "start_time": "2022-05-15T08:26:33.625Z"
   },
   {
    "duration": 67,
    "start_time": "2022-05-15T08:26:33.631Z"
   },
   {
    "duration": 4,
    "start_time": "2022-05-15T08:26:33.700Z"
   },
   {
    "duration": 86,
    "start_time": "2022-05-15T08:26:33.705Z"
   },
   {
    "duration": 5,
    "start_time": "2022-05-15T08:26:33.792Z"
   },
   {
    "duration": 81,
    "start_time": "2022-05-15T08:26:33.798Z"
   },
   {
    "duration": 16,
    "start_time": "2022-05-15T08:26:33.881Z"
   },
   {
    "duration": 18,
    "start_time": "2022-05-15T08:26:33.899Z"
   },
   {
    "duration": 13,
    "start_time": "2022-05-15T08:26:33.919Z"
   },
   {
    "duration": 8,
    "start_time": "2022-05-15T08:26:33.933Z"
   },
   {
    "duration": 39,
    "start_time": "2022-05-15T08:26:33.942Z"
   },
   {
    "duration": 10,
    "start_time": "2022-05-15T08:26:33.983Z"
   },
   {
    "duration": 10,
    "start_time": "2022-05-15T08:26:33.994Z"
   },
   {
    "duration": 27,
    "start_time": "2022-05-15T08:26:34.005Z"
   },
   {
    "duration": 65,
    "start_time": "2022-05-15T08:26:34.033Z"
   },
   {
    "duration": 220,
    "start_time": "2022-05-15T08:26:34.099Z"
   },
   {
    "duration": 246,
    "start_time": "2022-05-15T08:26:34.320Z"
   },
   {
    "duration": 159,
    "start_time": "2022-05-15T08:26:34.571Z"
   },
   {
    "duration": 206,
    "start_time": "2022-05-15T08:26:34.732Z"
   },
   {
    "duration": 280,
    "start_time": "2022-05-15T08:26:34.940Z"
   },
   {
    "duration": 202,
    "start_time": "2022-05-15T08:26:35.221Z"
   },
   {
    "duration": 270,
    "start_time": "2022-05-15T08:26:35.425Z"
   },
   {
    "duration": 241,
    "start_time": "2022-05-15T08:26:35.697Z"
   },
   {
    "duration": 241,
    "start_time": "2022-05-15T08:26:35.940Z"
   },
   {
    "duration": 12,
    "start_time": "2022-05-15T08:26:36.182Z"
   },
   {
    "duration": 15,
    "start_time": "2022-05-15T08:26:36.195Z"
   },
   {
    "duration": 4,
    "start_time": "2022-05-15T08:26:36.211Z"
   },
   {
    "duration": 14,
    "start_time": "2022-05-15T08:26:36.217Z"
   },
   {
    "duration": 7,
    "start_time": "2022-05-15T08:26:36.232Z"
   },
   {
    "duration": 1209,
    "start_time": "2022-05-15T09:12:15.853Z"
   },
   {
    "duration": 45,
    "start_time": "2022-05-15T09:12:17.063Z"
   },
   {
    "duration": 197,
    "start_time": "2022-05-15T09:12:17.109Z"
   },
   {
    "duration": 105,
    "start_time": "2022-05-15T09:12:17.308Z"
   },
   {
    "duration": 182,
    "start_time": "2022-05-15T09:12:17.414Z"
   },
   {
    "duration": 43,
    "start_time": "2022-05-15T09:12:17.598Z"
   },
   {
    "duration": 87,
    "start_time": "2022-05-15T09:12:17.643Z"
   },
   {
    "duration": 5,
    "start_time": "2022-05-15T09:12:17.731Z"
   },
   {
    "duration": 6,
    "start_time": "2022-05-15T09:12:17.738Z"
   },
   {
    "duration": 25,
    "start_time": "2022-05-15T09:12:17.747Z"
   },
   {
    "duration": 7,
    "start_time": "2022-05-15T09:12:17.773Z"
   },
   {
    "duration": 4,
    "start_time": "2022-05-15T09:12:17.782Z"
   },
   {
    "duration": 96,
    "start_time": "2022-05-15T09:12:17.787Z"
   },
   {
    "duration": 22,
    "start_time": "2022-05-15T09:12:17.885Z"
   },
   {
    "duration": 3,
    "start_time": "2022-05-15T09:12:17.909Z"
   },
   {
    "duration": 62,
    "start_time": "2022-05-15T09:12:17.913Z"
   },
   {
    "duration": 27,
    "start_time": "2022-05-15T09:12:17.977Z"
   },
   {
    "duration": 77,
    "start_time": "2022-05-15T09:12:18.006Z"
   },
   {
    "duration": 18,
    "start_time": "2022-05-15T09:12:18.085Z"
   },
   {
    "duration": 34,
    "start_time": "2022-05-15T09:12:18.105Z"
   },
   {
    "duration": 56,
    "start_time": "2022-05-15T09:12:18.140Z"
   },
   {
    "duration": 38,
    "start_time": "2022-05-15T09:12:18.198Z"
   },
   {
    "duration": 35,
    "start_time": "2022-05-15T09:12:18.238Z"
   },
   {
    "duration": 5,
    "start_time": "2022-05-15T09:12:18.275Z"
   },
   {
    "duration": 7,
    "start_time": "2022-05-15T09:12:18.281Z"
   },
   {
    "duration": 7,
    "start_time": "2022-05-15T09:12:18.289Z"
   },
   {
    "duration": 15,
    "start_time": "2022-05-15T09:12:18.298Z"
   },
   {
    "duration": 56,
    "start_time": "2022-05-15T09:12:18.317Z"
   },
   {
    "duration": 3,
    "start_time": "2022-05-15T09:12:18.375Z"
   },
   {
    "duration": 54,
    "start_time": "2022-05-15T09:12:18.379Z"
   },
   {
    "duration": 3,
    "start_time": "2022-05-15T09:12:18.435Z"
   },
   {
    "duration": 69,
    "start_time": "2022-05-15T09:12:18.440Z"
   },
   {
    "duration": 3,
    "start_time": "2022-05-15T09:12:18.511Z"
   },
   {
    "duration": 80,
    "start_time": "2022-05-15T09:12:18.516Z"
   },
   {
    "duration": 4,
    "start_time": "2022-05-15T09:12:18.598Z"
   },
   {
    "duration": 79,
    "start_time": "2022-05-15T09:12:18.603Z"
   },
   {
    "duration": 17,
    "start_time": "2022-05-15T09:12:18.684Z"
   },
   {
    "duration": 19,
    "start_time": "2022-05-15T09:12:18.703Z"
   },
   {
    "duration": 14,
    "start_time": "2022-05-15T09:12:18.724Z"
   },
   {
    "duration": 38,
    "start_time": "2022-05-15T09:12:18.740Z"
   },
   {
    "duration": 13,
    "start_time": "2022-05-15T09:12:18.779Z"
   },
   {
    "duration": 10,
    "start_time": "2022-05-15T09:12:18.794Z"
   },
   {
    "duration": 11,
    "start_time": "2022-05-15T09:12:18.806Z"
   },
   {
    "duration": 72,
    "start_time": "2022-05-15T09:12:18.818Z"
   },
   {
    "duration": 30,
    "start_time": "2022-05-15T09:12:18.892Z"
   },
   {
    "duration": 231,
    "start_time": "2022-05-15T09:12:18.924Z"
   },
   {
    "duration": 261,
    "start_time": "2022-05-15T09:12:19.158Z"
   },
   {
    "duration": 160,
    "start_time": "2022-05-15T09:12:19.421Z"
   },
   {
    "duration": 210,
    "start_time": "2022-05-15T09:12:19.583Z"
   },
   {
    "duration": 298,
    "start_time": "2022-05-15T09:12:19.795Z"
   },
   {
    "duration": 212,
    "start_time": "2022-05-15T09:12:20.094Z"
   },
   {
    "duration": 284,
    "start_time": "2022-05-15T09:12:20.308Z"
   },
   {
    "duration": 255,
    "start_time": "2022-05-15T09:12:20.594Z"
   },
   {
    "duration": 253,
    "start_time": "2022-05-15T09:12:20.850Z"
   },
   {
    "duration": 12,
    "start_time": "2022-05-15T09:12:21.104Z"
   },
   {
    "duration": 13,
    "start_time": "2022-05-15T09:12:21.117Z"
   },
   {
    "duration": 3,
    "start_time": "2022-05-15T09:12:21.132Z"
   },
   {
    "duration": 36,
    "start_time": "2022-05-15T09:12:21.136Z"
   },
   {
    "duration": 8,
    "start_time": "2022-05-15T09:12:21.175Z"
   }
  ],
  "kernelspec": {
   "display_name": "Python 3 (ipykernel)",
   "language": "python",
   "name": "python3"
  },
  "language_info": {
   "codemirror_mode": {
    "name": "ipython",
    "version": 3
   },
   "file_extension": ".py",
   "mimetype": "text/x-python",
   "name": "python",
   "nbconvert_exporter": "python",
   "pygments_lexer": "ipython3",
   "version": "3.9.12"
  },
  "toc": {
   "base_numbering": 1,
   "nav_menu": {},
   "number_sections": true,
   "sideBar": true,
   "skip_h1_title": true,
   "title_cell": "Table of Contents",
   "title_sidebar": "Contents",
   "toc_cell": false,
   "toc_position": {},
   "toc_section_display": true,
   "toc_window_display": false
  }
 },
 "nbformat": 4,
 "nbformat_minor": 2
}
