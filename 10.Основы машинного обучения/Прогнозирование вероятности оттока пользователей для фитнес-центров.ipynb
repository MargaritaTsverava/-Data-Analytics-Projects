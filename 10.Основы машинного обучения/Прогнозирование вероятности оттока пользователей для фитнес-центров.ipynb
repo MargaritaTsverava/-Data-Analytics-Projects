{
 "cells": [
  {
   "cell_type": "markdown",
   "metadata": {},
   "source": [
    "# Прогнозирование вероятности оттока пользователей для фитнес-центров"
   ]
  },
  {
   "cell_type": "markdown",
   "metadata": {},
   "source": [
    "**Описание проекта:**\n",
    "\n",
    "Сеть фитнес-центров «Культурист-датасаентист» разрабатывает стратегию взаимодействия с клиентами на основе аналитических данных.\n",
    "Распространённая проблема фитнес-клубов и других сервисов — отток клиентов.\n",
    "Чтобы бороться с оттоком, отдел по работе с клиентами «Культуриста-датасаентиста» перевёл в электронный вид множество клиентских анкет. Наша задача — провести анализ и подготовить план действий по удержанию клиентов.\n",
    "А именно:\n",
    "* научиться прогнозировать вероятность оттока (на уровне следующего месяца) для каждого клиента;\n",
    "* сформировать типичные портреты клиентов: выделить несколько наиболее ярких групп и охарактеризовать их основные свойства;\n",
    "* проанализировать основные признаки, наиболее сильно влияющие на отток;\n",
    "* сформулировать основные выводы и разработать рекомендации по повышению качества работы с клиентами:\n",
    "1) выделить целевые группы клиентов;\n",
    "2) предложить меры по снижению оттока;\n",
    "3) определить другие особенности взаимодействия с клиентами."
   ]
  },
  {
   "cell_type": "markdown",
   "metadata": {},
   "source": [
    "## Загрузка даннх"
   ]
  },
  {
   "cell_type": "markdown",
   "metadata": {},
   "source": [
    "Импортируем необходимые библиотеки."
   ]
  },
  {
   "cell_type": "code",
   "execution_count": 1,
   "metadata": {},
   "outputs": [],
   "source": [
    "import pandas as pd\n",
    "import seaborn as sns\n",
    "import matplotlib.pyplot as plt\n",
    "from sklearn.preprocessing import StandardScaler\n",
    "from sklearn.model_selection import train_test_split\n",
    "from sklearn.linear_model import LogisticRegression\n",
    "from sklearn.metrics import accuracy_score, precision_score, recall_score, f1_score\n",
    "from sklearn.tree import DecisionTreeClassifier\n",
    "from sklearn.ensemble import RandomForestClassifier, GradientBoostingClassifier\n",
    "from scipy.cluster.hierarchy import dendrogram, linkage \n",
    "from sklearn.cluster import KMeans"
   ]
  },
  {
   "cell_type": "markdown",
   "metadata": {},
   "source": [
    "Для обзора данных воспользуемся методами head() и info()."
   ]
  },
  {
   "cell_type": "code",
   "execution_count": 2,
   "metadata": {},
   "outputs": [
    {
     "data": {
      "text/html": [
       "<div>\n",
       "<style scoped>\n",
       "    .dataframe tbody tr th:only-of-type {\n",
       "        vertical-align: middle;\n",
       "    }\n",
       "\n",
       "    .dataframe tbody tr th {\n",
       "        vertical-align: top;\n",
       "    }\n",
       "\n",
       "    .dataframe thead th {\n",
       "        text-align: right;\n",
       "    }\n",
       "</style>\n",
       "<table border=\"1\" class=\"dataframe\">\n",
       "  <thead>\n",
       "    <tr style=\"text-align: right;\">\n",
       "      <th></th>\n",
       "      <th>gender</th>\n",
       "      <th>Near_Location</th>\n",
       "      <th>Partner</th>\n",
       "      <th>Promo_friends</th>\n",
       "      <th>Phone</th>\n",
       "      <th>Contract_period</th>\n",
       "      <th>Group_visits</th>\n",
       "      <th>Age</th>\n",
       "      <th>Avg_additional_charges_total</th>\n",
       "      <th>Month_to_end_contract</th>\n",
       "      <th>Lifetime</th>\n",
       "      <th>Avg_class_frequency_total</th>\n",
       "      <th>Avg_class_frequency_current_month</th>\n",
       "      <th>Churn</th>\n",
       "    </tr>\n",
       "  </thead>\n",
       "  <tbody>\n",
       "    <tr>\n",
       "      <th>0</th>\n",
       "      <td>1</td>\n",
       "      <td>1</td>\n",
       "      <td>1</td>\n",
       "      <td>1</td>\n",
       "      <td>0</td>\n",
       "      <td>6</td>\n",
       "      <td>1</td>\n",
       "      <td>29</td>\n",
       "      <td>14.227470</td>\n",
       "      <td>5.0</td>\n",
       "      <td>3</td>\n",
       "      <td>0.020398</td>\n",
       "      <td>0.000000</td>\n",
       "      <td>0</td>\n",
       "    </tr>\n",
       "    <tr>\n",
       "      <th>1</th>\n",
       "      <td>0</td>\n",
       "      <td>1</td>\n",
       "      <td>0</td>\n",
       "      <td>0</td>\n",
       "      <td>1</td>\n",
       "      <td>12</td>\n",
       "      <td>1</td>\n",
       "      <td>31</td>\n",
       "      <td>113.202938</td>\n",
       "      <td>12.0</td>\n",
       "      <td>7</td>\n",
       "      <td>1.922936</td>\n",
       "      <td>1.910244</td>\n",
       "      <td>0</td>\n",
       "    </tr>\n",
       "    <tr>\n",
       "      <th>2</th>\n",
       "      <td>0</td>\n",
       "      <td>1</td>\n",
       "      <td>1</td>\n",
       "      <td>0</td>\n",
       "      <td>1</td>\n",
       "      <td>1</td>\n",
       "      <td>0</td>\n",
       "      <td>28</td>\n",
       "      <td>129.448479</td>\n",
       "      <td>1.0</td>\n",
       "      <td>2</td>\n",
       "      <td>1.859098</td>\n",
       "      <td>1.736502</td>\n",
       "      <td>0</td>\n",
       "    </tr>\n",
       "    <tr>\n",
       "      <th>3</th>\n",
       "      <td>0</td>\n",
       "      <td>1</td>\n",
       "      <td>1</td>\n",
       "      <td>1</td>\n",
       "      <td>1</td>\n",
       "      <td>12</td>\n",
       "      <td>1</td>\n",
       "      <td>33</td>\n",
       "      <td>62.669863</td>\n",
       "      <td>12.0</td>\n",
       "      <td>2</td>\n",
       "      <td>3.205633</td>\n",
       "      <td>3.357215</td>\n",
       "      <td>0</td>\n",
       "    </tr>\n",
       "    <tr>\n",
       "      <th>4</th>\n",
       "      <td>1</td>\n",
       "      <td>1</td>\n",
       "      <td>1</td>\n",
       "      <td>1</td>\n",
       "      <td>1</td>\n",
       "      <td>1</td>\n",
       "      <td>0</td>\n",
       "      <td>26</td>\n",
       "      <td>198.362265</td>\n",
       "      <td>1.0</td>\n",
       "      <td>3</td>\n",
       "      <td>1.113884</td>\n",
       "      <td>1.120078</td>\n",
       "      <td>0</td>\n",
       "    </tr>\n",
       "  </tbody>\n",
       "</table>\n",
       "</div>"
      ],
      "text/plain": [
       "   gender  Near_Location  Partner  Promo_friends  Phone  Contract_period  \\\n",
       "0       1              1        1              1      0                6   \n",
       "1       0              1        0              0      1               12   \n",
       "2       0              1        1              0      1                1   \n",
       "3       0              1        1              1      1               12   \n",
       "4       1              1        1              1      1                1   \n",
       "\n",
       "   Group_visits  Age  Avg_additional_charges_total  Month_to_end_contract  \\\n",
       "0             1   29                     14.227470                    5.0   \n",
       "1             1   31                    113.202938                   12.0   \n",
       "2             0   28                    129.448479                    1.0   \n",
       "3             1   33                     62.669863                   12.0   \n",
       "4             0   26                    198.362265                    1.0   \n",
       "\n",
       "   Lifetime  Avg_class_frequency_total  Avg_class_frequency_current_month  \\\n",
       "0         3                   0.020398                           0.000000   \n",
       "1         7                   1.922936                           1.910244   \n",
       "2         2                   1.859098                           1.736502   \n",
       "3         2                   3.205633                           3.357215   \n",
       "4         3                   1.113884                           1.120078   \n",
       "\n",
       "   Churn  \n",
       "0      0  \n",
       "1      0  \n",
       "2      0  \n",
       "3      0  \n",
       "4      0  "
      ]
     },
     "execution_count": 2,
     "metadata": {},
     "output_type": "execute_result"
    }
   ],
   "source": [
    "data = pd.read_csv('gym_churn.csv')\n",
    "data.head()"
   ]
  },
  {
   "cell_type": "code",
   "execution_count": 3,
   "metadata": {},
   "outputs": [
    {
     "name": "stdout",
     "output_type": "stream",
     "text": [
      "<class 'pandas.core.frame.DataFrame'>\n",
      "RangeIndex: 4000 entries, 0 to 3999\n",
      "Data columns (total 14 columns):\n",
      " #   Column                             Non-Null Count  Dtype  \n",
      "---  ------                             --------------  -----  \n",
      " 0   gender                             4000 non-null   int64  \n",
      " 1   Near_Location                      4000 non-null   int64  \n",
      " 2   Partner                            4000 non-null   int64  \n",
      " 3   Promo_friends                      4000 non-null   int64  \n",
      " 4   Phone                              4000 non-null   int64  \n",
      " 5   Contract_period                    4000 non-null   int64  \n",
      " 6   Group_visits                       4000 non-null   int64  \n",
      " 7   Age                                4000 non-null   int64  \n",
      " 8   Avg_additional_charges_total       4000 non-null   float64\n",
      " 9   Month_to_end_contract              4000 non-null   float64\n",
      " 10  Lifetime                           4000 non-null   int64  \n",
      " 11  Avg_class_frequency_total          4000 non-null   float64\n",
      " 12  Avg_class_frequency_current_month  4000 non-null   float64\n",
      " 13  Churn                              4000 non-null   int64  \n",
      "dtypes: float64(4), int64(10)\n",
      "memory usage: 437.6 KB\n"
     ]
    }
   ],
   "source": [
    "data.info()"
   ]
  },
  {
   "cell_type": "markdown",
   "metadata": {},
   "source": [
    "После первого знакомства с данными, можно сделать выводы:\n",
    "\n",
    "* В данных нет пропусков, но нужно проверить на наличие дубликатов;\n",
    "* Для удобства необходимо привести данные к нижнему регистру;\n",
    "\n",
    "Это только первоначальные наблюдения. Проведем подробную предобработку данных, чтобы выявить наличие аномалий. "
   ]
  },
  {
   "cell_type": "markdown",
   "metadata": {},
   "source": [
    "## Провести исследовательский анализ данных (EDA)"
   ]
  },
  {
   "cell_type": "markdown",
   "metadata": {},
   "source": [
    "1. Проверим данные на дубликаты. "
   ]
  },
  {
   "cell_type": "code",
   "execution_count": 4,
   "metadata": {},
   "outputs": [
    {
     "data": {
      "text/plain": [
       "0"
      ]
     },
     "execution_count": 4,
     "metadata": {},
     "output_type": "execute_result"
    }
   ],
   "source": [
    "data.duplicated().sum() "
   ]
  },
  {
   "cell_type": "markdown",
   "metadata": {},
   "source": [
    "Дубликатов нет. "
   ]
  },
  {
   "cell_type": "markdown",
   "metadata": {},
   "source": [
    "2. Приведем данные к нижнему регистру. "
   ]
  },
  {
   "cell_type": "code",
   "execution_count": 5,
   "metadata": {},
   "outputs": [
    {
     "data": {
      "text/plain": [
       "Index(['gender', 'near_location', 'partner', 'promo_friends', 'phone',\n",
       "       'contract_period', 'group_visits', 'age',\n",
       "       'avg_additional_charges_total', 'month_to_end_contract', 'lifetime',\n",
       "       'avg_class_frequency_total', 'avg_class_frequency_current_month',\n",
       "       'churn'],\n",
       "      dtype='object')"
      ]
     },
     "execution_count": 5,
     "metadata": {},
     "output_type": "execute_result"
    }
   ],
   "source": [
    "data.columns = data.columns.str.lower()\n",
    "data.columns"
   ]
  },
  {
   "cell_type": "markdown",
   "metadata": {},
   "source": [
    "3. Применим метод describe(). Он используется для предоставления всей необходимой информации о набор данных. "
   ]
  },
  {
   "cell_type": "code",
   "execution_count": 6,
   "metadata": {
    "scrolled": false
   },
   "outputs": [
    {
     "data": {
      "text/html": [
       "<div>\n",
       "<style scoped>\n",
       "    .dataframe tbody tr th:only-of-type {\n",
       "        vertical-align: middle;\n",
       "    }\n",
       "\n",
       "    .dataframe tbody tr th {\n",
       "        vertical-align: top;\n",
       "    }\n",
       "\n",
       "    .dataframe thead th {\n",
       "        text-align: right;\n",
       "    }\n",
       "</style>\n",
       "<table border=\"1\" class=\"dataframe\">\n",
       "  <thead>\n",
       "    <tr style=\"text-align: right;\">\n",
       "      <th></th>\n",
       "      <th>count</th>\n",
       "      <th>mean</th>\n",
       "      <th>std</th>\n",
       "      <th>min</th>\n",
       "      <th>25%</th>\n",
       "      <th>50%</th>\n",
       "      <th>75%</th>\n",
       "      <th>max</th>\n",
       "    </tr>\n",
       "  </thead>\n",
       "  <tbody>\n",
       "    <tr>\n",
       "      <th>gender</th>\n",
       "      <td>4000.0</td>\n",
       "      <td>0.510250</td>\n",
       "      <td>0.499957</td>\n",
       "      <td>0.000000</td>\n",
       "      <td>0.000000</td>\n",
       "      <td>1.000000</td>\n",
       "      <td>1.000000</td>\n",
       "      <td>1.000000</td>\n",
       "    </tr>\n",
       "    <tr>\n",
       "      <th>near_location</th>\n",
       "      <td>4000.0</td>\n",
       "      <td>0.845250</td>\n",
       "      <td>0.361711</td>\n",
       "      <td>0.000000</td>\n",
       "      <td>1.000000</td>\n",
       "      <td>1.000000</td>\n",
       "      <td>1.000000</td>\n",
       "      <td>1.000000</td>\n",
       "    </tr>\n",
       "    <tr>\n",
       "      <th>partner</th>\n",
       "      <td>4000.0</td>\n",
       "      <td>0.486750</td>\n",
       "      <td>0.499887</td>\n",
       "      <td>0.000000</td>\n",
       "      <td>0.000000</td>\n",
       "      <td>0.000000</td>\n",
       "      <td>1.000000</td>\n",
       "      <td>1.000000</td>\n",
       "    </tr>\n",
       "    <tr>\n",
       "      <th>promo_friends</th>\n",
       "      <td>4000.0</td>\n",
       "      <td>0.308500</td>\n",
       "      <td>0.461932</td>\n",
       "      <td>0.000000</td>\n",
       "      <td>0.000000</td>\n",
       "      <td>0.000000</td>\n",
       "      <td>1.000000</td>\n",
       "      <td>1.000000</td>\n",
       "    </tr>\n",
       "    <tr>\n",
       "      <th>phone</th>\n",
       "      <td>4000.0</td>\n",
       "      <td>0.903500</td>\n",
       "      <td>0.295313</td>\n",
       "      <td>0.000000</td>\n",
       "      <td>1.000000</td>\n",
       "      <td>1.000000</td>\n",
       "      <td>1.000000</td>\n",
       "      <td>1.000000</td>\n",
       "    </tr>\n",
       "    <tr>\n",
       "      <th>contract_period</th>\n",
       "      <td>4000.0</td>\n",
       "      <td>4.681250</td>\n",
       "      <td>4.549706</td>\n",
       "      <td>1.000000</td>\n",
       "      <td>1.000000</td>\n",
       "      <td>1.000000</td>\n",
       "      <td>6.000000</td>\n",
       "      <td>12.000000</td>\n",
       "    </tr>\n",
       "    <tr>\n",
       "      <th>group_visits</th>\n",
       "      <td>4000.0</td>\n",
       "      <td>0.412250</td>\n",
       "      <td>0.492301</td>\n",
       "      <td>0.000000</td>\n",
       "      <td>0.000000</td>\n",
       "      <td>0.000000</td>\n",
       "      <td>1.000000</td>\n",
       "      <td>1.000000</td>\n",
       "    </tr>\n",
       "    <tr>\n",
       "      <th>age</th>\n",
       "      <td>4000.0</td>\n",
       "      <td>29.184250</td>\n",
       "      <td>3.258367</td>\n",
       "      <td>18.000000</td>\n",
       "      <td>27.000000</td>\n",
       "      <td>29.000000</td>\n",
       "      <td>31.000000</td>\n",
       "      <td>41.000000</td>\n",
       "    </tr>\n",
       "    <tr>\n",
       "      <th>avg_additional_charges_total</th>\n",
       "      <td>4000.0</td>\n",
       "      <td>146.943728</td>\n",
       "      <td>96.355602</td>\n",
       "      <td>0.148205</td>\n",
       "      <td>68.868830</td>\n",
       "      <td>136.220159</td>\n",
       "      <td>210.949625</td>\n",
       "      <td>552.590740</td>\n",
       "    </tr>\n",
       "    <tr>\n",
       "      <th>month_to_end_contract</th>\n",
       "      <td>4000.0</td>\n",
       "      <td>4.322750</td>\n",
       "      <td>4.191297</td>\n",
       "      <td>1.000000</td>\n",
       "      <td>1.000000</td>\n",
       "      <td>1.000000</td>\n",
       "      <td>6.000000</td>\n",
       "      <td>12.000000</td>\n",
       "    </tr>\n",
       "    <tr>\n",
       "      <th>lifetime</th>\n",
       "      <td>4000.0</td>\n",
       "      <td>3.724750</td>\n",
       "      <td>3.749267</td>\n",
       "      <td>0.000000</td>\n",
       "      <td>1.000000</td>\n",
       "      <td>3.000000</td>\n",
       "      <td>5.000000</td>\n",
       "      <td>31.000000</td>\n",
       "    </tr>\n",
       "    <tr>\n",
       "      <th>avg_class_frequency_total</th>\n",
       "      <td>4000.0</td>\n",
       "      <td>1.879020</td>\n",
       "      <td>0.972245</td>\n",
       "      <td>0.000000</td>\n",
       "      <td>1.180875</td>\n",
       "      <td>1.832768</td>\n",
       "      <td>2.536078</td>\n",
       "      <td>6.023668</td>\n",
       "    </tr>\n",
       "    <tr>\n",
       "      <th>avg_class_frequency_current_month</th>\n",
       "      <td>4000.0</td>\n",
       "      <td>1.767052</td>\n",
       "      <td>1.052906</td>\n",
       "      <td>0.000000</td>\n",
       "      <td>0.963003</td>\n",
       "      <td>1.719574</td>\n",
       "      <td>2.510336</td>\n",
       "      <td>6.146783</td>\n",
       "    </tr>\n",
       "    <tr>\n",
       "      <th>churn</th>\n",
       "      <td>4000.0</td>\n",
       "      <td>0.265250</td>\n",
       "      <td>0.441521</td>\n",
       "      <td>0.000000</td>\n",
       "      <td>0.000000</td>\n",
       "      <td>0.000000</td>\n",
       "      <td>1.000000</td>\n",
       "      <td>1.000000</td>\n",
       "    </tr>\n",
       "  </tbody>\n",
       "</table>\n",
       "</div>"
      ],
      "text/plain": [
       "                                    count        mean        std        min  \\\n",
       "gender                             4000.0    0.510250   0.499957   0.000000   \n",
       "near_location                      4000.0    0.845250   0.361711   0.000000   \n",
       "partner                            4000.0    0.486750   0.499887   0.000000   \n",
       "promo_friends                      4000.0    0.308500   0.461932   0.000000   \n",
       "phone                              4000.0    0.903500   0.295313   0.000000   \n",
       "contract_period                    4000.0    4.681250   4.549706   1.000000   \n",
       "group_visits                       4000.0    0.412250   0.492301   0.000000   \n",
       "age                                4000.0   29.184250   3.258367  18.000000   \n",
       "avg_additional_charges_total       4000.0  146.943728  96.355602   0.148205   \n",
       "month_to_end_contract              4000.0    4.322750   4.191297   1.000000   \n",
       "lifetime                           4000.0    3.724750   3.749267   0.000000   \n",
       "avg_class_frequency_total          4000.0    1.879020   0.972245   0.000000   \n",
       "avg_class_frequency_current_month  4000.0    1.767052   1.052906   0.000000   \n",
       "churn                              4000.0    0.265250   0.441521   0.000000   \n",
       "\n",
       "                                         25%         50%         75%  \\\n",
       "gender                              0.000000    1.000000    1.000000   \n",
       "near_location                       1.000000    1.000000    1.000000   \n",
       "partner                             0.000000    0.000000    1.000000   \n",
       "promo_friends                       0.000000    0.000000    1.000000   \n",
       "phone                               1.000000    1.000000    1.000000   \n",
       "contract_period                     1.000000    1.000000    6.000000   \n",
       "group_visits                        0.000000    0.000000    1.000000   \n",
       "age                                27.000000   29.000000   31.000000   \n",
       "avg_additional_charges_total       68.868830  136.220159  210.949625   \n",
       "month_to_end_contract               1.000000    1.000000    6.000000   \n",
       "lifetime                            1.000000    3.000000    5.000000   \n",
       "avg_class_frequency_total           1.180875    1.832768    2.536078   \n",
       "avg_class_frequency_current_month   0.963003    1.719574    2.510336   \n",
       "churn                               0.000000    0.000000    1.000000   \n",
       "\n",
       "                                          max  \n",
       "gender                               1.000000  \n",
       "near_location                        1.000000  \n",
       "partner                              1.000000  \n",
       "promo_friends                        1.000000  \n",
       "phone                                1.000000  \n",
       "contract_period                     12.000000  \n",
       "group_visits                         1.000000  \n",
       "age                                 41.000000  \n",
       "avg_additional_charges_total       552.590740  \n",
       "month_to_end_contract               12.000000  \n",
       "lifetime                            31.000000  \n",
       "avg_class_frequency_total            6.023668  \n",
       "avg_class_frequency_current_month    6.146783  \n",
       "churn                                1.000000  "
      ]
     },
     "execution_count": 6,
     "metadata": {},
     "output_type": "execute_result"
    }
   ],
   "source": [
    "data.describe().T"
   ]
  },
  {
   "cell_type": "markdown",
   "metadata": {},
   "source": [
    "Из данных выше можно сделать выводы, что:\n",
    "* По полу посетители распределены примерно одинаково;\n",
    "* Почти 85% посетителей проживают или работают в районе, где находится фитнес-центр;\n",
    "* Почти половина всех посетителей являются сотрудниками компании-партнеров клуба; \n",
    "* 30% посетителей первоначально записались на посещение клуба в рамках акции «приведи друга»; \n",
    "* 90% посетители оставили свой контактный телефон;             \n",
    "* Средняя длительность текущих действующих абонементов чуть меньше 4.6 месяцев;\n",
    "* 41% посетителей посещают групповые занятия;\n",
    "* Средний возрасти посетителей составляет 29 лет;\n",
    "* В среднем суммарная выручка от других услуг фитнес-центра составляет 146.9;\n",
    "* Средний срок до окончания текущих действующих абонементов составляет чуть больше 4 месяцев;\n",
    "* Среднее время с момента первого обращения в фитнес-центр составляет 3.7 месяцев;\n",
    "* Средняя частота посещений в неделю за все время с начала действия абонемента составляет 1.87 раз в неделю; \n",
    "* Средняя частота посещений в неделю за предыдущий месяц составляет 1.76 раз в неделю; \n",
    "* Среднее значение оттока составляет 26.5%."
   ]
  },
  {
   "cell_type": "markdown",
   "metadata": {},
   "source": [
    "Посмотрим на средние значения признаков в двух группах — тех, кто ушел в отток и тех, кто остался. Для этой цели создадим 2 датафрейма: churn_yes - для тех, кто ушел, churn_no - для тех, кто остался. "
   ]
  },
  {
   "cell_type": "code",
   "execution_count": 7,
   "metadata": {},
   "outputs": [
    {
     "data": {
      "text/html": [
       "<div>\n",
       "<style scoped>\n",
       "    .dataframe tbody tr th:only-of-type {\n",
       "        vertical-align: middle;\n",
       "    }\n",
       "\n",
       "    .dataframe tbody tr th {\n",
       "        vertical-align: top;\n",
       "    }\n",
       "\n",
       "    .dataframe thead th {\n",
       "        text-align: right;\n",
       "    }\n",
       "</style>\n",
       "<table border=\"1\" class=\"dataframe\">\n",
       "  <thead>\n",
       "    <tr style=\"text-align: right;\">\n",
       "      <th></th>\n",
       "      <th>count</th>\n",
       "      <th>mean</th>\n",
       "      <th>std</th>\n",
       "      <th>min</th>\n",
       "      <th>25%</th>\n",
       "      <th>50%</th>\n",
       "      <th>75%</th>\n",
       "      <th>max</th>\n",
       "    </tr>\n",
       "  </thead>\n",
       "  <tbody>\n",
       "    <tr>\n",
       "      <th>gender</th>\n",
       "      <td>1061.0</td>\n",
       "      <td>0.510839</td>\n",
       "      <td>0.500118</td>\n",
       "      <td>0.000000</td>\n",
       "      <td>0.000000</td>\n",
       "      <td>1.000000</td>\n",
       "      <td>1.000000</td>\n",
       "      <td>1.000000</td>\n",
       "    </tr>\n",
       "    <tr>\n",
       "      <th>near_location</th>\n",
       "      <td>1061.0</td>\n",
       "      <td>0.768143</td>\n",
       "      <td>0.422217</td>\n",
       "      <td>0.000000</td>\n",
       "      <td>1.000000</td>\n",
       "      <td>1.000000</td>\n",
       "      <td>1.000000</td>\n",
       "      <td>1.000000</td>\n",
       "    </tr>\n",
       "    <tr>\n",
       "      <th>partner</th>\n",
       "      <td>1061.0</td>\n",
       "      <td>0.355325</td>\n",
       "      <td>0.478837</td>\n",
       "      <td>0.000000</td>\n",
       "      <td>0.000000</td>\n",
       "      <td>0.000000</td>\n",
       "      <td>1.000000</td>\n",
       "      <td>1.000000</td>\n",
       "    </tr>\n",
       "    <tr>\n",
       "      <th>promo_friends</th>\n",
       "      <td>1061.0</td>\n",
       "      <td>0.183789</td>\n",
       "      <td>0.387495</td>\n",
       "      <td>0.000000</td>\n",
       "      <td>0.000000</td>\n",
       "      <td>0.000000</td>\n",
       "      <td>0.000000</td>\n",
       "      <td>1.000000</td>\n",
       "    </tr>\n",
       "    <tr>\n",
       "      <th>phone</th>\n",
       "      <td>1061.0</td>\n",
       "      <td>0.902922</td>\n",
       "      <td>0.296204</td>\n",
       "      <td>0.000000</td>\n",
       "      <td>1.000000</td>\n",
       "      <td>1.000000</td>\n",
       "      <td>1.000000</td>\n",
       "      <td>1.000000</td>\n",
       "    </tr>\n",
       "    <tr>\n",
       "      <th>contract_period</th>\n",
       "      <td>1061.0</td>\n",
       "      <td>1.728558</td>\n",
       "      <td>2.132371</td>\n",
       "      <td>1.000000</td>\n",
       "      <td>1.000000</td>\n",
       "      <td>1.000000</td>\n",
       "      <td>1.000000</td>\n",
       "      <td>12.000000</td>\n",
       "    </tr>\n",
       "    <tr>\n",
       "      <th>group_visits</th>\n",
       "      <td>1061.0</td>\n",
       "      <td>0.268615</td>\n",
       "      <td>0.443448</td>\n",
       "      <td>0.000000</td>\n",
       "      <td>0.000000</td>\n",
       "      <td>0.000000</td>\n",
       "      <td>1.000000</td>\n",
       "      <td>1.000000</td>\n",
       "    </tr>\n",
       "    <tr>\n",
       "      <th>age</th>\n",
       "      <td>1061.0</td>\n",
       "      <td>26.989632</td>\n",
       "      <td>2.895163</td>\n",
       "      <td>18.000000</td>\n",
       "      <td>25.000000</td>\n",
       "      <td>27.000000</td>\n",
       "      <td>29.000000</td>\n",
       "      <td>38.000000</td>\n",
       "    </tr>\n",
       "    <tr>\n",
       "      <th>avg_additional_charges_total</th>\n",
       "      <td>1061.0</td>\n",
       "      <td>115.082899</td>\n",
       "      <td>77.696419</td>\n",
       "      <td>0.148205</td>\n",
       "      <td>50.629127</td>\n",
       "      <td>103.814686</td>\n",
       "      <td>165.616858</td>\n",
       "      <td>425.535220</td>\n",
       "    </tr>\n",
       "    <tr>\n",
       "      <th>month_to_end_contract</th>\n",
       "      <td>1061.0</td>\n",
       "      <td>1.662582</td>\n",
       "      <td>1.964593</td>\n",
       "      <td>1.000000</td>\n",
       "      <td>1.000000</td>\n",
       "      <td>1.000000</td>\n",
       "      <td>1.000000</td>\n",
       "      <td>12.000000</td>\n",
       "    </tr>\n",
       "    <tr>\n",
       "      <th>lifetime</th>\n",
       "      <td>1061.0</td>\n",
       "      <td>0.990575</td>\n",
       "      <td>1.110799</td>\n",
       "      <td>0.000000</td>\n",
       "      <td>0.000000</td>\n",
       "      <td>1.000000</td>\n",
       "      <td>1.000000</td>\n",
       "      <td>9.000000</td>\n",
       "    </tr>\n",
       "    <tr>\n",
       "      <th>avg_class_frequency_total</th>\n",
       "      <td>1061.0</td>\n",
       "      <td>1.474995</td>\n",
       "      <td>0.694705</td>\n",
       "      <td>0.000000</td>\n",
       "      <td>1.010771</td>\n",
       "      <td>1.491187</td>\n",
       "      <td>1.956438</td>\n",
       "      <td>3.478646</td>\n",
       "    </tr>\n",
       "    <tr>\n",
       "      <th>avg_class_frequency_current_month</th>\n",
       "      <td>1061.0</td>\n",
       "      <td>1.044546</td>\n",
       "      <td>0.770237</td>\n",
       "      <td>0.000000</td>\n",
       "      <td>0.421337</td>\n",
       "      <td>0.979445</td>\n",
       "      <td>1.588576</td>\n",
       "      <td>3.540271</td>\n",
       "    </tr>\n",
       "    <tr>\n",
       "      <th>churn</th>\n",
       "      <td>1061.0</td>\n",
       "      <td>1.000000</td>\n",
       "      <td>0.000000</td>\n",
       "      <td>1.000000</td>\n",
       "      <td>1.000000</td>\n",
       "      <td>1.000000</td>\n",
       "      <td>1.000000</td>\n",
       "      <td>1.000000</td>\n",
       "    </tr>\n",
       "  </tbody>\n",
       "</table>\n",
       "</div>"
      ],
      "text/plain": [
       "                                    count        mean        std        min  \\\n",
       "gender                             1061.0    0.510839   0.500118   0.000000   \n",
       "near_location                      1061.0    0.768143   0.422217   0.000000   \n",
       "partner                            1061.0    0.355325   0.478837   0.000000   \n",
       "promo_friends                      1061.0    0.183789   0.387495   0.000000   \n",
       "phone                              1061.0    0.902922   0.296204   0.000000   \n",
       "contract_period                    1061.0    1.728558   2.132371   1.000000   \n",
       "group_visits                       1061.0    0.268615   0.443448   0.000000   \n",
       "age                                1061.0   26.989632   2.895163  18.000000   \n",
       "avg_additional_charges_total       1061.0  115.082899  77.696419   0.148205   \n",
       "month_to_end_contract              1061.0    1.662582   1.964593   1.000000   \n",
       "lifetime                           1061.0    0.990575   1.110799   0.000000   \n",
       "avg_class_frequency_total          1061.0    1.474995   0.694705   0.000000   \n",
       "avg_class_frequency_current_month  1061.0    1.044546   0.770237   0.000000   \n",
       "churn                              1061.0    1.000000   0.000000   1.000000   \n",
       "\n",
       "                                         25%         50%         75%  \\\n",
       "gender                              0.000000    1.000000    1.000000   \n",
       "near_location                       1.000000    1.000000    1.000000   \n",
       "partner                             0.000000    0.000000    1.000000   \n",
       "promo_friends                       0.000000    0.000000    0.000000   \n",
       "phone                               1.000000    1.000000    1.000000   \n",
       "contract_period                     1.000000    1.000000    1.000000   \n",
       "group_visits                        0.000000    0.000000    1.000000   \n",
       "age                                25.000000   27.000000   29.000000   \n",
       "avg_additional_charges_total       50.629127  103.814686  165.616858   \n",
       "month_to_end_contract               1.000000    1.000000    1.000000   \n",
       "lifetime                            0.000000    1.000000    1.000000   \n",
       "avg_class_frequency_total           1.010771    1.491187    1.956438   \n",
       "avg_class_frequency_current_month   0.421337    0.979445    1.588576   \n",
       "churn                               1.000000    1.000000    1.000000   \n",
       "\n",
       "                                          max  \n",
       "gender                               1.000000  \n",
       "near_location                        1.000000  \n",
       "partner                              1.000000  \n",
       "promo_friends                        1.000000  \n",
       "phone                                1.000000  \n",
       "contract_period                     12.000000  \n",
       "group_visits                         1.000000  \n",
       "age                                 38.000000  \n",
       "avg_additional_charges_total       425.535220  \n",
       "month_to_end_contract               12.000000  \n",
       "lifetime                             9.000000  \n",
       "avg_class_frequency_total            3.478646  \n",
       "avg_class_frequency_current_month    3.540271  \n",
       "churn                                1.000000  "
      ]
     },
     "metadata": {},
     "output_type": "display_data"
    },
    {
     "data": {
      "text/html": [
       "<div>\n",
       "<style scoped>\n",
       "    .dataframe tbody tr th:only-of-type {\n",
       "        vertical-align: middle;\n",
       "    }\n",
       "\n",
       "    .dataframe tbody tr th {\n",
       "        vertical-align: top;\n",
       "    }\n",
       "\n",
       "    .dataframe thead th {\n",
       "        text-align: right;\n",
       "    }\n",
       "</style>\n",
       "<table border=\"1\" class=\"dataframe\">\n",
       "  <thead>\n",
       "    <tr style=\"text-align: right;\">\n",
       "      <th></th>\n",
       "      <th>count</th>\n",
       "      <th>mean</th>\n",
       "      <th>std</th>\n",
       "      <th>min</th>\n",
       "      <th>25%</th>\n",
       "      <th>50%</th>\n",
       "      <th>75%</th>\n",
       "      <th>max</th>\n",
       "    </tr>\n",
       "  </thead>\n",
       "  <tbody>\n",
       "    <tr>\n",
       "      <th>gender</th>\n",
       "      <td>2939.0</td>\n",
       "      <td>0.510037</td>\n",
       "      <td>0.499984</td>\n",
       "      <td>0.000000</td>\n",
       "      <td>0.000000</td>\n",
       "      <td>1.000000</td>\n",
       "      <td>1.000000</td>\n",
       "      <td>1.000000</td>\n",
       "    </tr>\n",
       "    <tr>\n",
       "      <th>near_location</th>\n",
       "      <td>2939.0</td>\n",
       "      <td>0.873086</td>\n",
       "      <td>0.332933</td>\n",
       "      <td>0.000000</td>\n",
       "      <td>1.000000</td>\n",
       "      <td>1.000000</td>\n",
       "      <td>1.000000</td>\n",
       "      <td>1.000000</td>\n",
       "    </tr>\n",
       "    <tr>\n",
       "      <th>partner</th>\n",
       "      <td>2939.0</td>\n",
       "      <td>0.534195</td>\n",
       "      <td>0.498914</td>\n",
       "      <td>0.000000</td>\n",
       "      <td>0.000000</td>\n",
       "      <td>1.000000</td>\n",
       "      <td>1.000000</td>\n",
       "      <td>1.000000</td>\n",
       "    </tr>\n",
       "    <tr>\n",
       "      <th>promo_friends</th>\n",
       "      <td>2939.0</td>\n",
       "      <td>0.353522</td>\n",
       "      <td>0.478144</td>\n",
       "      <td>0.000000</td>\n",
       "      <td>0.000000</td>\n",
       "      <td>0.000000</td>\n",
       "      <td>1.000000</td>\n",
       "      <td>1.000000</td>\n",
       "    </tr>\n",
       "    <tr>\n",
       "      <th>phone</th>\n",
       "      <td>2939.0</td>\n",
       "      <td>0.903709</td>\n",
       "      <td>0.295040</td>\n",
       "      <td>0.000000</td>\n",
       "      <td>1.000000</td>\n",
       "      <td>1.000000</td>\n",
       "      <td>1.000000</td>\n",
       "      <td>1.000000</td>\n",
       "    </tr>\n",
       "    <tr>\n",
       "      <th>contract_period</th>\n",
       "      <td>2939.0</td>\n",
       "      <td>5.747193</td>\n",
       "      <td>4.716942</td>\n",
       "      <td>1.000000</td>\n",
       "      <td>1.000000</td>\n",
       "      <td>6.000000</td>\n",
       "      <td>12.000000</td>\n",
       "      <td>12.000000</td>\n",
       "    </tr>\n",
       "    <tr>\n",
       "      <th>group_visits</th>\n",
       "      <td>2939.0</td>\n",
       "      <td>0.464103</td>\n",
       "      <td>0.498795</td>\n",
       "      <td>0.000000</td>\n",
       "      <td>0.000000</td>\n",
       "      <td>0.000000</td>\n",
       "      <td>1.000000</td>\n",
       "      <td>1.000000</td>\n",
       "    </tr>\n",
       "    <tr>\n",
       "      <th>age</th>\n",
       "      <td>2939.0</td>\n",
       "      <td>29.976523</td>\n",
       "      <td>3.009933</td>\n",
       "      <td>19.000000</td>\n",
       "      <td>28.000000</td>\n",
       "      <td>30.000000</td>\n",
       "      <td>32.000000</td>\n",
       "      <td>41.000000</td>\n",
       "    </tr>\n",
       "    <tr>\n",
       "      <th>avg_additional_charges_total</th>\n",
       "      <td>2939.0</td>\n",
       "      <td>158.445715</td>\n",
       "      <td>99.801599</td>\n",
       "      <td>0.171862</td>\n",
       "      <td>76.920993</td>\n",
       "      <td>149.881171</td>\n",
       "      <td>224.448274</td>\n",
       "      <td>552.590740</td>\n",
       "    </tr>\n",
       "    <tr>\n",
       "      <th>month_to_end_contract</th>\n",
       "      <td>2939.0</td>\n",
       "      <td>5.283089</td>\n",
       "      <td>4.363522</td>\n",
       "      <td>1.000000</td>\n",
       "      <td>1.000000</td>\n",
       "      <td>6.000000</td>\n",
       "      <td>10.000000</td>\n",
       "      <td>12.000000</td>\n",
       "    </tr>\n",
       "    <tr>\n",
       "      <th>lifetime</th>\n",
       "      <td>2939.0</td>\n",
       "      <td>4.711807</td>\n",
       "      <td>3.874780</td>\n",
       "      <td>0.000000</td>\n",
       "      <td>2.000000</td>\n",
       "      <td>4.000000</td>\n",
       "      <td>6.000000</td>\n",
       "      <td>31.000000</td>\n",
       "    </tr>\n",
       "    <tr>\n",
       "      <th>avg_class_frequency_total</th>\n",
       "      <td>2939.0</td>\n",
       "      <td>2.024876</td>\n",
       "      <td>1.016006</td>\n",
       "      <td>0.000000</td>\n",
       "      <td>1.283137</td>\n",
       "      <td>2.043252</td>\n",
       "      <td>2.732944</td>\n",
       "      <td>6.023668</td>\n",
       "    </tr>\n",
       "    <tr>\n",
       "      <th>avg_class_frequency_current_month</th>\n",
       "      <td>2939.0</td>\n",
       "      <td>2.027882</td>\n",
       "      <td>1.018994</td>\n",
       "      <td>0.000000</td>\n",
       "      <td>1.297021</td>\n",
       "      <td>2.046697</td>\n",
       "      <td>2.740648</td>\n",
       "      <td>6.146783</td>\n",
       "    </tr>\n",
       "    <tr>\n",
       "      <th>churn</th>\n",
       "      <td>2939.0</td>\n",
       "      <td>0.000000</td>\n",
       "      <td>0.000000</td>\n",
       "      <td>0.000000</td>\n",
       "      <td>0.000000</td>\n",
       "      <td>0.000000</td>\n",
       "      <td>0.000000</td>\n",
       "      <td>0.000000</td>\n",
       "    </tr>\n",
       "  </tbody>\n",
       "</table>\n",
       "</div>"
      ],
      "text/plain": [
       "                                    count        mean        std        min  \\\n",
       "gender                             2939.0    0.510037   0.499984   0.000000   \n",
       "near_location                      2939.0    0.873086   0.332933   0.000000   \n",
       "partner                            2939.0    0.534195   0.498914   0.000000   \n",
       "promo_friends                      2939.0    0.353522   0.478144   0.000000   \n",
       "phone                              2939.0    0.903709   0.295040   0.000000   \n",
       "contract_period                    2939.0    5.747193   4.716942   1.000000   \n",
       "group_visits                       2939.0    0.464103   0.498795   0.000000   \n",
       "age                                2939.0   29.976523   3.009933  19.000000   \n",
       "avg_additional_charges_total       2939.0  158.445715  99.801599   0.171862   \n",
       "month_to_end_contract              2939.0    5.283089   4.363522   1.000000   \n",
       "lifetime                           2939.0    4.711807   3.874780   0.000000   \n",
       "avg_class_frequency_total          2939.0    2.024876   1.016006   0.000000   \n",
       "avg_class_frequency_current_month  2939.0    2.027882   1.018994   0.000000   \n",
       "churn                              2939.0    0.000000   0.000000   0.000000   \n",
       "\n",
       "                                         25%         50%         75%  \\\n",
       "gender                              0.000000    1.000000    1.000000   \n",
       "near_location                       1.000000    1.000000    1.000000   \n",
       "partner                             0.000000    1.000000    1.000000   \n",
       "promo_friends                       0.000000    0.000000    1.000000   \n",
       "phone                               1.000000    1.000000    1.000000   \n",
       "contract_period                     1.000000    6.000000   12.000000   \n",
       "group_visits                        0.000000    0.000000    1.000000   \n",
       "age                                28.000000   30.000000   32.000000   \n",
       "avg_additional_charges_total       76.920993  149.881171  224.448274   \n",
       "month_to_end_contract               1.000000    6.000000   10.000000   \n",
       "lifetime                            2.000000    4.000000    6.000000   \n",
       "avg_class_frequency_total           1.283137    2.043252    2.732944   \n",
       "avg_class_frequency_current_month   1.297021    2.046697    2.740648   \n",
       "churn                               0.000000    0.000000    0.000000   \n",
       "\n",
       "                                          max  \n",
       "gender                               1.000000  \n",
       "near_location                        1.000000  \n",
       "partner                              1.000000  \n",
       "promo_friends                        1.000000  \n",
       "phone                                1.000000  \n",
       "contract_period                     12.000000  \n",
       "group_visits                         1.000000  \n",
       "age                                 41.000000  \n",
       "avg_additional_charges_total       552.590740  \n",
       "month_to_end_contract               12.000000  \n",
       "lifetime                            31.000000  \n",
       "avg_class_frequency_total            6.023668  \n",
       "avg_class_frequency_current_month    6.146783  \n",
       "churn                                0.000000  "
      ]
     },
     "execution_count": 7,
     "metadata": {},
     "output_type": "execute_result"
    }
   ],
   "source": [
    "churn_yes = data[data['churn'] == 1] #факт оттока - да\n",
    "churn_no = data[data['churn'] == 0] #факт оттока - нет\n",
    "display(churn_yes.describe().T)\n",
    "churn_no.describe().T"
   ]
  },
  {
   "cell_type": "markdown",
   "metadata": {},
   "source": [
    "Клиентов, продолжающих посещать фитнес-центр почти в 3 раза больше, чем тех, кто ушел в отток. Сделали следующие выводы: \n",
    "\n",
    "* Распределение по полу в обеих группах примерно одинаково;\n",
    "* В обеих группах большинство посетителей живут или работают в районе, где находится фитнес-центр. Также стоит заметить, что ближе живущие или работающие клиенты реже попадают в отток; \n",
    "* Для **группы оставшихся** (не попавших в отток) половина всех посетителей являются сотрудниками компаний-партнеров клуба. В **группе \"оттока\"** их всего 35%; \n",
    "* **Группа оставшихся** (не попавших в отток) - 35% посетителей первоначально записались на посещение клуба в рамках акции «приведи друга». **Группа \"оттока\"** - всего 18% посетителей первоначально записались по данной акции;\n",
    "* В обеих группах 90% посетители оставили свой контактный телефон; \n",
    "* **Группа оставшихся** -- средняя длительность текущих действующих абонементов 5.7 месяцев. **Группа \"оттока\"** - 1.7 месяцев; \n",
    "* **Группа оставшихся** -- 46% клиентов посещают групповые занятия. **Группа \"оттока\"** - всего 26% клиентов; \n",
    "* Средний возраст в **Группе оставшихся** около 30 лет. В **группе \"оттока\"** посетители чуть младше, средний возраст 27 лет; \n",
    "* **Группа оставшихся** -- в среднем суммарная выручка от других услуг фитнес-центра составляет 158.4. **Группа \"оттока\"** всего 115; \n",
    "* **Группа оставшихся** -- средний срок до окончания текущих действующих абонементов составляет 5.2 месяца. Для **группы \"оттока\"** всего 1.6 месяцев;\n",
    "* **Группа оставшихся** -- среднее время с момента первого обращения в фитнес-центр составляет 4.7 месяцев. Для **группы \"оттока\"** менее 1 месяца;\n",
    "* **Группа оставшихся** - средняя частота посещений в неделю за все время с начала действия абонемента составляет 2 раз в неделю; Для **группы \"оттока\"** -- 1.4 раз в неделю;\n",
    "* **Группа оставшихся** -- средняя частота посещений в неделю за предыдущий месяц составляет 2 раз в неделю; Для **группы \"оттока\"** - 1 раз в неделю. "
   ]
  },
  {
   "cell_type": "markdown",
   "metadata": {},
   "source": [
    "Построим столбчатые гистограммы и распределения признаков для тех, кто ушёл (отток) и тех, кто остался (не попали в отток). В наших данных встречаются категориальные и числовые данные. Построим для них разные типы графиков. "
   ]
  },
  {
   "cell_type": "code",
   "execution_count": 8,
   "metadata": {
    "scrolled": false
   },
   "outputs": [
    {
     "data": {
      "image/png": "[encoded data removed]",
      "text/plain": [
       "<Figure size 432x288 with 1 Axes>"
      ]
     },
     "metadata": {
      "needs_background": "light"
     },
     "output_type": "display_data"
    },
    {
     "data": {
      "image/png": "[encoded data removed]",
      "text/plain": [
       "<Figure size 432x288 with 1 Axes>"
      ]
     },
     "metadata": {
      "needs_background": "light"
     },
     "output_type": "display_data"
    },
    {
     "data": {
      "image/png": "[encoded data removed]",
      "text/plain": [
       "<Figure size 432x288 with 1 Axes>"
      ]
     },
     "metadata": {
      "needs_background": "light"
     },
     "output_type": "display_data"
    },
    {
     "data": {
      "image/png": "[encoded data removed]",
      "text/plain": [
       "<Figure size 432x288 with 1 Axes>"
      ]
     },
     "metadata": {
      "needs_background": "light"
     },
     "output_type": "display_data"
    },
    {
     "data": {
      "image/png": "[encoded data removed]",
      "text/plain": [
       "<Figure size 432x288 with 1 Axes>"
      ]
     },
     "metadata": {
      "needs_background": "light"
     },
     "output_type": "display_data"
    },
    {
     "data": {
      "image/png": "[encoded data removed]",
      "text/plain": [
       "<Figure size 432x288 with 1 Axes>"
      ]
     },
     "metadata": {
      "needs_background": "light"
     },
     "output_type": "display_data"
    },
    {
     "data": {
      "image/png": "[encoded data removed]",
      "text/plain": [
       "<Figure size 432x288 with 1 Axes>"
      ]
     },
     "metadata": {
      "needs_background": "light"
     },
     "output_type": "display_data"
    }
   ],
   "source": [
    "numerical_features = ['contract_period', 'age', 'avg_additional_charges_total', 'month_to_end_contract', 'lifetime', \n",
    "                      'avg_class_frequency_total', 'avg_class_frequency_current_month']\n",
    "for n in numerical_features:\n",
    "    sns.histplot(churn_no[n], color=\"green\", kde=True, stat=\"density\", linewidth=0)\n",
    "    sns.histplot(churn_yes[n], color=\"red\", kde=True, stat=\"density\", linewidth=0)\n",
    "    plt.title(n)\n",
    "    plt.legend(['Группа оставшихся', 'Группа оттока'])\n",
    "    plt.show()"
   ]
  },
  {
   "cell_type": "code",
   "execution_count": 9,
   "metadata": {
    "scrolled": false
   },
   "outputs": [
    {
     "data": {
      "image/png": "[encoded data removed]",
      "text/plain": [
       "<Figure size 432x288 with 1 Axes>"
      ]
     },
     "metadata": {
      "needs_background": "light"
     },
     "output_type": "display_data"
    },
    {
     "data": {
      "image/png": "[encoded data removed]",
      "text/plain": [
       "<Figure size 432x288 with 1 Axes>"
      ]
     },
     "metadata": {
      "needs_background": "light"
     },
     "output_type": "display_data"
    },
    {
     "data": {
      "image/png": "[encoded data removed]",
      "text/plain": [
       "<Figure size 432x288 with 1 Axes>"
      ]
     },
     "metadata": {
      "needs_background": "light"
     },
     "output_type": "display_data"
    },
    {
     "data": {
      "image/png": "[encoded data removed]",
      "text/plain": [
       "<Figure size 432x288 with 1 Axes>"
      ]
     },
     "metadata": {
      "needs_background": "light"
     },
     "output_type": "display_data"
    },
    {
     "data": {
      "image/png": "[encoded data removed]",
      "text/plain": [
       "<Figure size 432x288 with 1 Axes>"
      ]
     },
     "metadata": {
      "needs_background": "light"
     },
     "output_type": "display_data"
    },
    {
     "data": {
      "image/png": "[encoded data removed]",
      "text/plain": [
       "<Figure size 432x288 with 1 Axes>"
      ]
     },
     "metadata": {
      "needs_background": "light"
     },
     "output_type": "display_data"
    }
   ],
   "source": [
    "categorical_features = ['gender', 'near_location', 'partner', 'promo_friends', 'phone', 'group_visits']\n",
    "\n",
    "for c in categorical_features:\n",
    "    sns.countplot(x = data[c], hue='churn', data=data)\n",
    "    plt.title(c)\n",
    "    plt.show()"
   ]
  },
  {
   "cell_type": "markdown",
   "metadata": {},
   "source": [
    "Построим матрицу корреляций."
   ]
  },
  {
   "cell_type": "code",
   "execution_count": 10,
   "metadata": {
    "scrolled": false
   },
   "outputs": [
    {
     "data": {
      "image/png": "[encoded data removed]",
      "text/plain": [
       "<Figure size 1080x936 with 2 Axes>"
      ]
     },
     "metadata": {
      "needs_background": "light"
     },
     "output_type": "display_data"
    }
   ],
   "source": [
    "data_corr = data.corr() \n",
    "plt.figure(figsize=(15,13))\n",
    "sns.heatmap(data_corr, annot=True, square=True, cmap='coolwarm' )\n",
    "plt.title('Матрица корреляций')\n",
    "plt.show()"
   ]
  },
  {
   "cell_type": "markdown",
   "metadata": {},
   "source": [
    "Из графика видно, что:\n",
    "\n",
    "* сильной корреляционной связи между признак-таргет нет. \n",
    "* на графике встречается высокая корреляция между признаками (мультиколлинеарность) - month_to_end_contact и contract_period, avg_class_frequency_total и avg_class_frequency_current_month. \n",
    "* признаки gender и phone не влияют на отток.\n",
    "* признаки lifetime, avg_class_frequency_current_month, age, contract_period, month_to_end_contract имеют наибольшее влияние на отток."
   ]
  },
  {
   "cell_type": "markdown",
   "metadata": {},
   "source": [
    "## Построить модель прогнозирования оттока клиентов"
   ]
  },
  {
   "cell_type": "markdown",
   "metadata": {},
   "source": [
    "Построим модель бинарной классификации клиентов, где целевой признак — факт оттока клиента в следующем месяце. Первостепенной задачей является разбивка данных на обучающую и вариационную выборки. Используем функцию train_test_split(). "
   ]
  },
  {
   "cell_type": "code",
   "execution_count": 11,
   "metadata": {},
   "outputs": [],
   "source": [
    "# разделим данные на признаки (матрица X) и целевую переменную (y)\n",
    "X = data.drop('churn', axis=1) \n",
    "y = data['churn'] "
   ]
  },
  {
   "cell_type": "code",
   "execution_count": 12,
   "metadata": {},
   "outputs": [],
   "source": [
    "# разделяем модель на обучающую и валидационную выборки\n",
    "X_train, X_test, y_train, y_test = train_test_split(X, y, test_size=0.2, random_state=0) "
   ]
  },
  {
   "cell_type": "markdown",
   "metadata": {},
   "source": [
    "Далее нам необходимо создать объект класса StandardScaler и применить его к обучающей выборке. "
   ]
  },
  {
   "cell_type": "code",
   "execution_count": 13,
   "metadata": {},
   "outputs": [],
   "source": [
    "scaler = StandardScaler()\n",
    "X_train_st = scaler.fit_transform(X_train)"
   ]
  },
  {
   "cell_type": "markdown",
   "metadata": {},
   "source": [
    "Применим стандартизацию к матрице признаков для тестовой выборки. "
   ]
  },
  {
   "cell_type": "code",
   "execution_count": 14,
   "metadata": {},
   "outputs": [],
   "source": [
    "X_test_st = scaler.transform(X_test)"
   ]
  },
  {
   "cell_type": "markdown",
   "metadata": {},
   "source": [
    "Нам необходимо обучить модель на train-выборке двумя моделями: логистической регрессией и случайным лесом. Начнем по порядку, с логистической регрессии, она реализована как класс LogisticRegression(). "
   ]
  },
  {
   "cell_type": "code",
   "execution_count": 15,
   "metadata": {},
   "outputs": [
    {
     "data": {
      "text/plain": [
       "LogisticRegression(random_state=0, solver='liblinear')"
      ]
     },
     "execution_count": 15,
     "metadata": {},
     "output_type": "execute_result"
    }
   ],
   "source": [
    "model = LogisticRegression(solver='liblinear', random_state=0)\n",
    "model.fit(X_train_st, y_train)"
   ]
  },
  {
   "cell_type": "markdown",
   "metadata": {},
   "source": [
    "Воспользуемся обученной моделью, чтобы сделать прогнозы. "
   ]
  },
  {
   "cell_type": "code",
   "execution_count": 16,
   "metadata": {},
   "outputs": [],
   "source": [
    "predictions = model.predict(X_test_st) \n",
    "probabilities = model.predict_proba(X_test_st)[:,1]"
   ]
  },
  {
   "cell_type": "markdown",
   "metadata": {},
   "source": [
    "Выведем метрики accuracy, precision и recall для модели логистической регрессии для обеих моделей на вариационной выборке для полученного прогноза. "
   ]
  },
  {
   "cell_type": "code",
   "execution_count": 17,
   "metadata": {},
   "outputs": [
    {
     "data": {
      "text/plain": [
       "'Accuracy: 0.922'"
      ]
     },
     "metadata": {},
     "output_type": "display_data"
    },
    {
     "data": {
      "text/plain": [
       "'Precision: 0.854'"
      ]
     },
     "metadata": {},
     "output_type": "display_data"
    },
    {
     "data": {
      "text/plain": [
       "'Recall: 0.828'"
      ]
     },
     "metadata": {},
     "output_type": "display_data"
    }
   ],
   "source": [
    "display('Accuracy: {:.3f}'.format(accuracy_score(y_test, predictions)))\n",
    "display('Precision: {:.3f}'.format(precision_score (y_test, predictions)))\n",
    "display('Recall: {:.3f}'.format(recall_score(y_test, predictions)))"
   ]
  },
  {
   "cell_type": "markdown",
   "metadata": {},
   "source": [
    "Теперь обучим модель способом случайный лес (зададим алгоритм на основе случайного леса). "
   ]
  },
  {
   "cell_type": "code",
   "execution_count": 18,
   "metadata": {},
   "outputs": [
    {
     "data": {
      "text/plain": [
       "RandomForestClassifier(random_state=0)"
      ]
     },
     "execution_count": 18,
     "metadata": {},
     "output_type": "execute_result"
    }
   ],
   "source": [
    "rf_model = RandomForestClassifier(n_estimators=100, random_state=0)\n",
    "rf_model.fit(X_train_st, y_train)"
   ]
  },
  {
   "cell_type": "markdown",
   "metadata": {},
   "source": [
    "Воспользуемся обученной моделью, чтобы сделать прогнозы. "
   ]
  },
  {
   "cell_type": "code",
   "execution_count": 19,
   "metadata": {},
   "outputs": [],
   "source": [
    "rf_predictions = rf_model.predict(X_test_st) \n",
    "rf_probabilities = rf_model.predict_proba(X_test_st)[:, 1] "
   ]
  },
  {
   "cell_type": "markdown",
   "metadata": {},
   "source": [
    "Выведем метрики accuracy, precision и recall для полученного прогноза."
   ]
  },
  {
   "cell_type": "code",
   "execution_count": 20,
   "metadata": {},
   "outputs": [
    {
     "data": {
      "text/plain": [
       "'Accuracy: 0.915'"
      ]
     },
     "metadata": {},
     "output_type": "display_data"
    },
    {
     "data": {
      "text/plain": [
       "'Precision: 0.839'"
      ]
     },
     "metadata": {},
     "output_type": "display_data"
    },
    {
     "data": {
      "text/plain": [
       "'Recall: 0.813'"
      ]
     },
     "metadata": {},
     "output_type": "display_data"
    }
   ],
   "source": [
    "display('Accuracy: {:.3f}'.format(accuracy_score(y_test, rf_predictions)))\n",
    "display('Precision: {:.3f}'.format(precision_score (y_test, rf_predictions)))\n",
    "display('Recall: {:.3f}'.format(recall_score(y_test, rf_predictions)))"
   ]
  },
  {
   "cell_type": "markdown",
   "metadata": {},
   "source": [
    "Полученные данные выше говорят, что доля правильных ответов (accuracy), точность (precision) и полнота (recall) чуть выше в модели логистической регрессии. Это говорит, что модель логистической регрессии показала себя лучше."
   ]
  },
  {
   "cell_type": "markdown",
   "metadata": {},
   "source": [
    "## Сделать кластеризацию клиентов"
   ]
  },
  {
   "cell_type": "markdown",
   "metadata": {},
   "source": [
    "Вначале необходимо привести признаки к единому масштабу методом стандартизации. "
   ]
  },
  {
   "cell_type": "code",
   "execution_count": 21,
   "metadata": {},
   "outputs": [
    {
     "data": {
      "text/plain": [
       "array([[ 0.97970588,  0.42788074,  1.02686062,  1.49716101, -3.05985201,\n",
       "         0.28989014,  1.19403206, -0.0565538 , -1.37753121,  0.16160501,\n",
       "        -0.19332863, -1.91191971, -1.67847198],\n",
       "       [-1.0207145 ,  0.42788074, -0.973842  , -0.66793083,  0.32681319,\n",
       "         1.60882159,  1.19403206,  0.55732732, -0.35021325,  1.83194105,\n",
       "         0.87368001,  0.04517569,  0.1360137 ],\n",
       "       [-1.0207145 ,  0.42788074,  1.02686062, -0.66793083,  0.32681319,\n",
       "        -0.8092194 , -0.83749845, -0.36349436, -0.1815923 , -0.79287273,\n",
       "        -0.46008079, -0.02049263, -0.02901851],\n",
       "       [-1.0207145 ,  0.42788074,  1.02686062,  1.49716101,  0.32681319,\n",
       "         1.60882159,  1.19403206,  1.17120844, -0.87472237,  1.83194105,\n",
       "        -0.46008079,  1.36465509,  1.51045005],\n",
       "       [ 0.97970588,  0.42788074,  1.02686062,  1.49716101,  0.32681319,\n",
       "        -0.8092194 , -0.83749845, -0.97737548,  0.5336998 , -0.79287273,\n",
       "        -0.19332863, -0.78707638, -0.61454183],\n",
       "       [ 0.97970588,  0.42788074, -0.973842  , -0.66793083,  0.32681319,\n",
       "        -0.8092194 ,  1.19403206,  1.478149  ,  3.15330097, -0.79287273,\n",
       "        -0.19332863,  0.76580519,  0.82634551],\n",
       "       [ 0.97970588,  0.42788074,  1.02686062,  1.49716101, -3.05985201,\n",
       "         0.28989014,  1.19403206,  0.86426788, -0.54676556,  0.40022445,\n",
       "        -0.46008079, -0.76130102, -0.46525669],\n",
       "       [-1.0207145 ,  0.42788074, -0.973842  , -0.66793083,  0.32681319,\n",
       "        -0.8092194 , -0.83749845,  0.25038676,  0.73531552, -0.79287273,\n",
       "        -0.99358511, -0.68460218, -0.68168915],\n",
       "       [ 0.97970588,  0.42788074,  1.02686062,  1.49716101,  0.32681319,\n",
       "        -0.8092194 ,  1.19403206, -1.89819716, -1.05387243, -0.79287273,\n",
       "        -0.72683295, -0.79494109, -0.67224189],\n",
       "       [-1.0207145 ,  0.42788074, -0.973842  , -0.66793083,  0.32681319,\n",
       "        -0.8092194 , -0.83749845,  0.55732732, -0.84731033, -0.79287273,\n",
       "         1.94068865, -0.07012259,  0.17507634]])"
      ]
     },
     "metadata": {},
     "output_type": "display_data"
    }
   ],
   "source": [
    "x_sc = scaler.fit_transform(X)\n",
    "display(x_sc[:10])"
   ]
  },
  {
   "cell_type": "markdown",
   "metadata": {},
   "source": [
    "Построим матрицу расстояний функцией linkage() на стандартизованной матрице признаков и нарисуем дендрограмму."
   ]
  },
  {
   "cell_type": "code",
   "execution_count": 22,
   "metadata": {},
   "outputs": [
    {
     "data": {
      "image/png": "[encoded data removed]",
      "text/plain": [
       "<Figure size 1080x720 with 1 Axes>"
      ]
     },
     "metadata": {
      "needs_background": "light"
     },
     "output_type": "display_data"
    }
   ],
   "source": [
    "linked = linkage(x_sc, method = 'ward') \n",
    "\n",
    "plt.figure(figsize=(15, 10))  \n",
    "dendrogram(linked, orientation='top')\n",
    "plt.title('Иерархическая кластеризация')\n",
    "plt.show()"
   ]
  },
  {
   "cell_type": "markdown",
   "metadata": {},
   "source": [
    "График показал, что оптимальное число кластеров 4, но по условиям задания мы используем 5. "
   ]
  },
  {
   "cell_type": "markdown",
   "metadata": {},
   "source": [
    "Обучим модель кластеризации на основании алгоритма K-Means, и спрогнозируем кластеры клиентов. Задаем модель k_means с числом кластеров 5 и фиксируем значение random_state. Далее прогнозируем кластеры для наблюдений и сохраняем метки кластера в поле нашего датасета. "
   ]
  },
  {
   "cell_type": "code",
   "execution_count": 23,
   "metadata": {},
   "outputs": [],
   "source": [
    "km = KMeans(n_clusters=5, random_state=0)\n",
    "labels = km.fit_predict(x_sc)\n",
    "data['cluster_km'] = labels"
   ]
  },
  {
   "cell_type": "markdown",
   "metadata": {},
   "source": [
    "Посмотрим на средние значения признаков для кластеров. Выведем их. "
   ]
  },
  {
   "cell_type": "code",
   "execution_count": 24,
   "metadata": {},
   "outputs": [
    {
     "data": {
      "text/html": [
       "<div>\n",
       "<style scoped>\n",
       "    .dataframe tbody tr th:only-of-type {\n",
       "        vertical-align: middle;\n",
       "    }\n",
       "\n",
       "    .dataframe tbody tr th {\n",
       "        vertical-align: top;\n",
       "    }\n",
       "\n",
       "    .dataframe thead th {\n",
       "        text-align: right;\n",
       "    }\n",
       "</style>\n",
       "<table border=\"1\" class=\"dataframe\">\n",
       "  <thead>\n",
       "    <tr style=\"text-align: right;\">\n",
       "      <th>cluster_km</th>\n",
       "      <th>0</th>\n",
       "      <th>1</th>\n",
       "      <th>2</th>\n",
       "      <th>3</th>\n",
       "      <th>4</th>\n",
       "    </tr>\n",
       "  </thead>\n",
       "  <tbody>\n",
       "    <tr>\n",
       "      <th>gender</th>\n",
       "      <td>0.502970</td>\n",
       "      <td>0.522078</td>\n",
       "      <td>0.495050</td>\n",
       "      <td>0.485737</td>\n",
       "      <td>0.559666</td>\n",
       "    </tr>\n",
       "    <tr>\n",
       "      <th>near_location</th>\n",
       "      <td>0.959406</td>\n",
       "      <td>0.862338</td>\n",
       "      <td>0.000000</td>\n",
       "      <td>1.000000</td>\n",
       "      <td>0.976134</td>\n",
       "    </tr>\n",
       "    <tr>\n",
       "      <th>partner</th>\n",
       "      <td>0.783168</td>\n",
       "      <td>0.470130</td>\n",
       "      <td>0.463366</td>\n",
       "      <td>0.350238</td>\n",
       "      <td>0.356802</td>\n",
       "    </tr>\n",
       "    <tr>\n",
       "      <th>promo_friends</th>\n",
       "      <td>0.574257</td>\n",
       "      <td>0.306494</td>\n",
       "      <td>0.079208</td>\n",
       "      <td>0.240095</td>\n",
       "      <td>0.230310</td>\n",
       "    </tr>\n",
       "    <tr>\n",
       "      <th>phone</th>\n",
       "      <td>1.000000</td>\n",
       "      <td>0.000000</td>\n",
       "      <td>1.000000</td>\n",
       "      <td>1.000000</td>\n",
       "      <td>0.998807</td>\n",
       "    </tr>\n",
       "    <tr>\n",
       "      <th>contract_period</th>\n",
       "      <td>10.889109</td>\n",
       "      <td>4.787013</td>\n",
       "      <td>2.352475</td>\n",
       "      <td>1.948494</td>\n",
       "      <td>2.669451</td>\n",
       "    </tr>\n",
       "    <tr>\n",
       "      <th>group_visits</th>\n",
       "      <td>0.542574</td>\n",
       "      <td>0.425974</td>\n",
       "      <td>0.215842</td>\n",
       "      <td>0.341521</td>\n",
       "      <td>0.473747</td>\n",
       "    </tr>\n",
       "    <tr>\n",
       "      <th>age</th>\n",
       "      <td>29.982178</td>\n",
       "      <td>29.301299</td>\n",
       "      <td>28.477228</td>\n",
       "      <td>28.167987</td>\n",
       "      <td>30.125298</td>\n",
       "    </tr>\n",
       "    <tr>\n",
       "      <th>avg_additional_charges_total</th>\n",
       "      <td>160.761016</td>\n",
       "      <td>143.957664</td>\n",
       "      <td>135.457501</td>\n",
       "      <td>131.622204</td>\n",
       "      <td>161.657905</td>\n",
       "    </tr>\n",
       "    <tr>\n",
       "      <th>month_to_end_contract</th>\n",
       "      <td>9.954455</td>\n",
       "      <td>4.475325</td>\n",
       "      <td>2.198020</td>\n",
       "      <td>1.856577</td>\n",
       "      <td>2.459427</td>\n",
       "    </tr>\n",
       "    <tr>\n",
       "      <th>lifetime</th>\n",
       "      <td>4.736634</td>\n",
       "      <td>3.924675</td>\n",
       "      <td>2.809901</td>\n",
       "      <td>2.440571</td>\n",
       "      <td>4.898568</td>\n",
       "    </tr>\n",
       "    <tr>\n",
       "      <th>avg_class_frequency_total</th>\n",
       "      <td>1.982055</td>\n",
       "      <td>1.847220</td>\n",
       "      <td>1.660461</td>\n",
       "      <td>1.247634</td>\n",
       "      <td>2.852002</td>\n",
       "    </tr>\n",
       "    <tr>\n",
       "      <th>avg_class_frequency_current_month</th>\n",
       "      <td>1.974789</td>\n",
       "      <td>1.716369</td>\n",
       "      <td>1.477324</td>\n",
       "      <td>1.012983</td>\n",
       "      <td>2.850161</td>\n",
       "    </tr>\n",
       "    <tr>\n",
       "      <th>churn</th>\n",
       "      <td>0.027723</td>\n",
       "      <td>0.267532</td>\n",
       "      <td>0.443564</td>\n",
       "      <td>0.514263</td>\n",
       "      <td>0.068019</td>\n",
       "    </tr>\n",
       "  </tbody>\n",
       "</table>\n",
       "</div>"
      ],
      "text/plain": [
       "cluster_km                                  0           1           2  \\\n",
       "gender                               0.502970    0.522078    0.495050   \n",
       "near_location                        0.959406    0.862338    0.000000   \n",
       "partner                              0.783168    0.470130    0.463366   \n",
       "promo_friends                        0.574257    0.306494    0.079208   \n",
       "phone                                1.000000    0.000000    1.000000   \n",
       "contract_period                     10.889109    4.787013    2.352475   \n",
       "group_visits                         0.542574    0.425974    0.215842   \n",
       "age                                 29.982178   29.301299   28.477228   \n",
       "avg_additional_charges_total       160.761016  143.957664  135.457501   \n",
       "month_to_end_contract                9.954455    4.475325    2.198020   \n",
       "lifetime                             4.736634    3.924675    2.809901   \n",
       "avg_class_frequency_total            1.982055    1.847220    1.660461   \n",
       "avg_class_frequency_current_month    1.974789    1.716369    1.477324   \n",
       "churn                                0.027723    0.267532    0.443564   \n",
       "\n",
       "cluster_km                                  3           4  \n",
       "gender                               0.485737    0.559666  \n",
       "near_location                        1.000000    0.976134  \n",
       "partner                              0.350238    0.356802  \n",
       "promo_friends                        0.240095    0.230310  \n",
       "phone                                1.000000    0.998807  \n",
       "contract_period                      1.948494    2.669451  \n",
       "group_visits                         0.341521    0.473747  \n",
       "age                                 28.167987   30.125298  \n",
       "avg_additional_charges_total       131.622204  161.657905  \n",
       "month_to_end_contract                1.856577    2.459427  \n",
       "lifetime                             2.440571    4.898568  \n",
       "avg_class_frequency_total            1.247634    2.852002  \n",
       "avg_class_frequency_current_month    1.012983    2.850161  \n",
       "churn                                0.514263    0.068019  "
      ]
     },
     "execution_count": 24,
     "metadata": {},
     "output_type": "execute_result"
    }
   ],
   "source": [
    "cluster = data.groupby('cluster_km').mean().T\n",
    "cluster"
   ]
  },
  {
   "cell_type": "markdown",
   "metadata": {},
   "source": [
    "Кластер 0: \n",
    "* самый низкий процент оттока (3%)\n",
    "* живут или работают недалеко от фитнес-центра\n",
    "* 78% являются сотрудниками компаний-партнерами клуба\n",
    "* 57% первоначально пришли в рамках акции «приведи друга» \n",
    "* самая высокая длительность текущего действующего абонемента\n",
    "* самый высокий процент посещений групповых занятий (54%)\n",
    "* средняя частота посещений в неделю за предыдущий месяц - 2 раза"
   ]
  },
  {
   "cell_type": "markdown",
   "metadata": {},
   "source": [
    "Кластер 1:\n",
    "* процент оттока - 26%\n",
    "* живут или работают недалеко от фитнес-центра\n",
    "* 47% являются сотрудниками компаний-партнерами клуба\n",
    "* 30% первоначально пришли в рамках акции «приведи друга»\n",
    "* не оставили свой номер телефона \n",
    "* 42% посещают групповые занятия\n",
    "* средний срок до окончания текущего действующего абонемента - 4,5 месяцев"
   ]
  },
  {
   "cell_type": "markdown",
   "metadata": {},
   "source": [
    "Кластер 2:\n",
    "* процент оттока - 44%\n",
    "* предположительно живут или работают в другом районе относительно фитнес-центра\n",
    "* всего 8% первоначально пришли в рамках акции «приведи друга» \n",
    "* самый низкий показатель посещения групповых занятий (21%)"
   ]
  },
  {
   "cell_type": "markdown",
   "metadata": {},
   "source": [
    "Кластер 3:\n",
    "* самый высокий процент оттока (51%)\n",
    "* живут или работают рядом с фитнес-центром\n",
    "* всего 35% являются сотрудниками компаний-партнерами клуба (это самый низкий показатель)\n",
    "* самый низкий показатель длительности текущего действующего абонемента \n",
    "* самый низкий показатель суммарная выручка от других услуг фитнес-центра\n",
    "* самый низкий показатель срока до окончания текущего действующего абонемента\n",
    "* клиенты этой группы реже всего посещают фитнес-центр (за всё время и в последний месяц)"
   ]
  },
  {
   "cell_type": "markdown",
   "metadata": {},
   "source": [
    "Кластер 4:\n",
    "* процент оттока - 7%\n",
    "* живут или работают недалеко от фитнес-центра\n",
    "* самое высокое значение суммарной выручки от других услуг фитнес-центра (161,6)\n",
    "* чаще всех посещают клуб - 2.8 раз в неделю\n",
    "* время с момента первого обращения в фитнес-центр - 4.8 месяцев (самое высокое значение)"
   ]
  },
  {
   "cell_type": "markdown",
   "metadata": {},
   "source": [
    "Построим распределения признаков для кластеров по категориальным и числовым данным. "
   ]
  },
  {
   "cell_type": "code",
   "execution_count": 25,
   "metadata": {
    "scrolled": false
   },
   "outputs": [
    {
     "data": {
      "image/png": "[encoded data removed]",
      "text/plain": [
       "<Figure size 1080x360 with 1 Axes>"
      ]
     },
     "metadata": {
      "needs_background": "light"
     },
     "output_type": "display_data"
    },
    {
     "data": {
      "image/png": "[encoded data removed]",
      "text/plain": [
       "<Figure size 1080x360 with 1 Axes>"
      ]
     },
     "metadata": {
      "needs_background": "light"
     },
     "output_type": "display_data"
    },
    {
     "data": {
      "image/png": "[encoded data removed]",
      "text/plain": [
       "<Figure size 1080x360 with 1 Axes>"
      ]
     },
     "metadata": {
      "needs_background": "light"
     },
     "output_type": "display_data"
    },
    {
     "data": {
      "image/png": "[encoded data removed]",
      "text/plain": [
       "<Figure size 1080x360 with 1 Axes>"
      ]
     },
     "metadata": {
      "needs_background": "light"
     },
     "output_type": "display_data"
    },
    {
     "data": {
      "image/png": "[encoded data removed]",
      "text/plain": [
       "<Figure size 1080x360 with 1 Axes>"
      ]
     },
     "metadata": {
      "needs_background": "light"
     },
     "output_type": "display_data"
    },
    {
     "data": {
      "image/png": "[encoded data removed]",
      "text/plain": [
       "<Figure size 1080x360 with 1 Axes>"
      ]
     },
     "metadata": {
      "needs_background": "light"
     },
     "output_type": "display_data"
    },
    {
     "data": {
      "image/png": "[encoded data removed]",
      "text/plain": [
       "<Figure size 1080x360 with 1 Axes>"
      ]
     },
     "metadata": {
      "needs_background": "light"
     },
     "output_type": "display_data"
    }
   ],
   "source": [
    "numerical_features = ['contract_period', 'age', 'avg_additional_charges_total', 'month_to_end_contract', 'lifetime', \n",
    "                      'avg_class_frequency_total', 'avg_class_frequency_current_month']\n",
    "for n in numerical_features:\n",
    "    plt.figure(figsize=(15, 5))\n",
    "    sns.histplot(data=data, x=n, hue=\"cluster_km\", multiple=\"stack\")\n",
    "    plt.title(n)\n",
    "    plt.show()"
   ]
  },
  {
   "cell_type": "code",
   "execution_count": 26,
   "metadata": {},
   "outputs": [
    {
     "data": {
      "image/png": "[encoded data removed]",
      "text/plain": [
       "<Figure size 432x288 with 1 Axes>"
      ]
     },
     "metadata": {
      "needs_background": "light"
     },
     "output_type": "display_data"
    },
    {
     "data": {
      "image/png": "[encoded data removed]",
      "text/plain": [
       "<Figure size 432x288 with 1 Axes>"
      ]
     },
     "metadata": {
      "needs_background": "light"
     },
     "output_type": "display_data"
    },
    {
     "data": {
      "image/png": "[encoded data removed]",
      "text/plain": [
       "<Figure size 432x288 with 1 Axes>"
      ]
     },
     "metadata": {
      "needs_background": "light"
     },
     "output_type": "display_data"
    },
    {
     "data": {
      "image/png": "[encoded data removed]",
      "text/plain": [
       "<Figure size 432x288 with 1 Axes>"
      ]
     },
     "metadata": {
      "needs_background": "light"
     },
     "output_type": "display_data"
    },
    {
     "data": {
      "image/png": "[encoded data removed]",
      "text/plain": [
       "<Figure size 432x288 with 1 Axes>"
      ]
     },
     "metadata": {
      "needs_background": "light"
     },
     "output_type": "display_data"
    },
    {
     "data": {
      "image/png": "[encoded data removed]",
      "text/plain": [
       "<Figure size 432x288 with 1 Axes>"
      ]
     },
     "metadata": {
      "needs_background": "light"
     },
     "output_type": "display_data"
    }
   ],
   "source": [
    "categorical_features = ['gender', 'near_location', 'partner', 'promo_friends', 'phone', 'group_visits']\n",
    "\n",
    "for c in categorical_features:\n",
    "    sns.countplot(x = data[c], hue='cluster_km', data=data)\n",
    "    plt.title(c)\n",
    "    plt.show()"
   ]
  },
  {
   "cell_type": "markdown",
   "metadata": {},
   "source": [
    "## Сформулировать выводы и дадим рекомендации по работе с клиентами"
   ]
  },
  {
   "cell_type": "markdown",
   "metadata": {},
   "source": [
    "В наше распоряжение попали множество клиентских анкет фитнес-клуба «Культуриста-датасаентиста». После предобработки данных мы провели анализ и подготовили план действий по удержанию клиентов. \n",
    "\n",
    "Нам были предоставлены сведения в csv-файле. По предоставленным данным мы сделали следующие выводы:\n",
    "* По полу посетители распределены примерно одинаково;\n",
    "* Почти 85% посетителей проживают или работают в районе, где находится фитнес-центр;\n",
    "* Почти половина всех посетителей являются сотрудниками компаний-партнеров клуба; \n",
    "* 30% посетителей первоначально записались на посещение клуба в рамках акции «приведи друга»; \n",
    "* 90% посетители оставили свой контактный телефон;             \n",
    "* Средняя длительность текущих действующих абонементов чуть меньше 4,6 месяцев;\n",
    "* 41% посетителей посещают групповые занятия;\n",
    "* Средний возрасти посетителей составляет 29 лет;\n",
    "* В среднем суммарная выручка от других услуг фитнес-центра составляет 146,9;\n",
    "* Средний срок до окончания текущих действующих абонементов составляет чуть больше 4 месяцев;\n",
    "* Среднее время с момента первого обращения в фитнес-центр составляет 3.7 месяцев;\n",
    "* Средняя частота посещений в неделю за все время с начала действия абонемента составляет 1,87 раз в неделю; \n",
    "* Средняя частота посещений в неделю за предыдущий месяц составляет 1,76 раз в неделю; \n",
    "* Среднее значение оттока составляет 26,5%.\n",
    "\n",
    "После разделения клинтов на 2 группы (те, что попали в отток, и те что остались), мы сделали вывод, что клиентов, продолжающих посещать фитнес-центр почти в 3 раза больше чем тех, кто ушел в отток. Получили следующие выводы: \n",
    "* Распределение по полу в обеих группах примерно одинаково;\n",
    "* В обеих группах большинство посетителей живут или работают в районе, где находится фитнес-центр. Также стоит заметить, что ближе живущие или работающие клиенты реже попадают в отток; \n",
    "* Для **группы оставшихся** (не попавших в отток) половина всех посетителей являются сотрудниками компаний-партнеров клуба. В **группе \"оттока\"** их всего 35%; \n",
    "* **Группа оставшихся** (не попавших в отток) - 35% посетителей первоначально записались на посещение клуба в рамках акции «приведи друга». **Группа \"оттока\"** - всего 18% посетителей первоначально записались по данной акции;\n",
    "* В обеих группах 90% посетители оставили свой контактный телефон; \n",
    "* **Группа оставшихся** -- средняя длительность текущих действующих абонементов 5,7 месяцев. **Группа \"оттока\"** - 1,7 месяцев; \n",
    "* **Группа оставшихся** -- 46% клиентов посещают групповые занятия. **Группа \"оттока\"** - всего 26% клиентов; \n",
    "* Средний возраст в **Группе оставшихся** около 30 лет. В **группе \"оттока\"** посетители чуть младше, средний возраст 27 лет; \n",
    "* **Группа оставшихся** -- в среднем суммарная выручка от других услуг фитнес-центра составляет 158,4. **Группа \"оттока\"** всего 115; \n",
    "* **Группа оставшихся** -- средний срок до окончания текущих действующих абонементов составляет 5,2 месяца. Для **группы \"оттока\"** всего 1,6 месяцев;\n",
    "* **Группа оставшихся** -- среднее время с момента первого обращения в фитнес-центр составляет 4,7 месяцев. Для **группы \"оттока\"** менее 1 месяца;\n",
    "* **Группа оставшихся** - средняя частота посещений в неделю за все время с начала действия абонемента составляет 2 раз в неделю; Для **группы \"оттока\"** -- 1,4 раз в неделю;\n",
    "* **Группа оставшихся** - средняя частота посещений в неделю за предыдущий месяц составляет 2 раз в неделю; Для **группы \"оттока\"** -- 1 раз в неделю. \n",
    "\n",
    "После мы нарисовали дендрограмму и узнали количество кластеров. Разделили посетителей на 5 групп. Проанализировав информацию мы пришли к следующим выводам:\n",
    "\n",
    "**Кластер 0:** \n",
    "* самый низкий процент оттока (3%)\n",
    "* живут или работают недалеко от фитнес-центра\n",
    "* 78% являются сотрудниками компаний-партнерами клуба\n",
    "* 57% первоначально пришли в рамках акции «приведи друга» \n",
    "* самая высокая длительность текущего действующего абонемента\n",
    "* самый высокий процент посещений групповых занятий (54%)\n",
    "* средняя частота посещений в неделю за предыдущий месяц - 2 раза\n",
    "\n",
    "**Кластер 1:**\n",
    "* процент оттока - 26%\n",
    "* живут или работают недалеко от фитнес-центра\n",
    "* 47% являются сотрудниками компаний-партнерами клуба\n",
    "* 30% первоначально пришли в рамках акции «приведи друга»\n",
    "* не оставили свой номер телефона \n",
    "* 42% посещают групповые занятия\n",
    "* средний срок до окончания текущего действующего абонемента - 4,5 месяцев\n",
    "\n",
    "**Кластер 2:**\n",
    "* процент оттока - 44%\n",
    "* предположительно живут или работают в другом районе относительно фитнес-центра\n",
    "* всего 8% первоначально пришли в рамках акции «приведи друга» \n",
    "* самый низкий показатель посещения групповых занятий (21%)\n",
    "\n",
    "**Кластер 3:**\n",
    "* самый высокий процент оттока (51%)\n",
    "* живут или работают рядом с фитнес-центром\n",
    "* всего 35% являются сотрудниками компаний-партнерами клуба (это самый низкий показатель)\n",
    "* самый низкий показатель длительности текущего действующего абонемента \n",
    "* самый низкий показатель суммарной выручка от других услуг фитнес-центра\n",
    "* самый низкий показатель срока до окончания текущего действующего абонемента\n",
    "* клиенты этой группы реже всего посещают фитнес-центр (за всё время и в последний месяц)\n",
    "\n",
    "**Кластер 4:**\n",
    "* процент оттока - 7%\n",
    "* живут или работают недалеко от фитнес-центра\n",
    "* самое высокое значение суммарной выручки от других услуг фитнес-центра (161,6)\n",
    "* чаще всех посещают клуб - 2.8 раз в неделю\n",
    "* время с момента первого обращения в фитнес-центр - 4,8 месяцев (самое высокое значение)"
   ]
  },
  {
   "cell_type": "markdown",
   "metadata": {},
   "source": [
    "Взглянув на данные и полученные графики, можно составить портрет ушедшего клиента. Они чаще всего не являются сотрудниками компаний-партнеров клуба, они редко посещают тренировки (в том числе групповые), они приобретают абонементы на маленький срок (1-2 месяца). Можем предположить, что данных клиентов что-то не устроило и они не стали продолжать посещения. На основе этих данных можно рекомендовать следящее: \n",
    "* повысить интерес к групповым занятиям (предложить скидки на посещения; групповые занятия -- занятия для единомышленников, клиенты смогут найти новых знакомых/друзей что приведет к повышению интереса к занятиям)\n",
    "* предложить заниматься с индивидуальным тренером по сниженной цене (это побудит чаще посещать зал, так как у клиента будет мотивация отходить все скидочные занятия)\n",
    "* предложить хорошие цены за абонементы на 6 и 12 месяцев.  "
   ]
  }
 ],
 "metadata": {
  "ExecuteTimeLog": [
   {
    "duration": 335,
    "start_time": "2022-09-01T15:48:35.707Z"
   },
   {
    "duration": 159,
    "start_time": "2022-09-01T15:49:31.877Z"
   },
   {
    "duration": 406,
    "start_time": "2022-09-02T10:46:21.325Z"
   },
   {
    "duration": 89,
    "start_time": "2022-09-02T10:46:21.732Z"
   },
   {
    "duration": 42,
    "start_time": "2022-09-02T10:46:27.289Z"
   },
   {
    "duration": 3,
    "start_time": "2022-09-02T10:47:01.793Z"
   },
   {
    "duration": 10,
    "start_time": "2022-09-02T10:48:14.165Z"
   },
   {
    "duration": 52,
    "start_time": "2022-09-02T10:48:18.967Z"
   },
   {
    "duration": 60,
    "start_time": "2022-09-02T10:48:47.138Z"
   },
   {
    "duration": 11,
    "start_time": "2022-09-02T10:48:51.639Z"
   },
   {
    "duration": 403,
    "start_time": "2022-09-02T11:44:08.552Z"
   },
   {
    "duration": 56,
    "start_time": "2022-09-02T11:44:08.957Z"
   },
   {
    "duration": 6,
    "start_time": "2022-09-02T11:44:09.015Z"
   },
   {
    "duration": 15,
    "start_time": "2022-09-02T11:44:09.023Z"
   },
   {
    "duration": 46,
    "start_time": "2022-09-02T11:44:09.040Z"
   },
   {
    "duration": 7,
    "start_time": "2022-09-02T11:54:44.334Z"
   },
   {
    "duration": 5,
    "start_time": "2022-09-02T11:56:16.416Z"
   },
   {
    "duration": 38,
    "start_time": "2022-09-02T11:57:06.713Z"
   },
   {
    "duration": 42,
    "start_time": "2022-09-02T12:05:31.500Z"
   },
   {
    "duration": 11,
    "start_time": "2022-09-02T12:35:04.051Z"
   },
   {
    "duration": 31,
    "start_time": "2022-09-02T12:50:03.870Z"
   },
   {
    "duration": 8,
    "start_time": "2022-09-02T12:50:08.623Z"
   },
   {
    "duration": 8,
    "start_time": "2022-09-02T12:50:18.047Z"
   },
   {
    "duration": 6,
    "start_time": "2022-09-02T12:53:45.076Z"
   },
   {
    "duration": 17,
    "start_time": "2022-09-02T14:05:00.261Z"
   },
   {
    "duration": 12,
    "start_time": "2022-09-02T14:06:34.780Z"
   },
   {
    "duration": 12,
    "start_time": "2022-09-02T14:06:40.061Z"
   },
   {
    "duration": 26,
    "start_time": "2022-09-02T14:06:56.246Z"
   },
   {
    "duration": 12,
    "start_time": "2022-09-02T14:07:02.622Z"
   },
   {
    "duration": 41,
    "start_time": "2022-09-02T14:08:46.724Z"
   },
   {
    "duration": 41,
    "start_time": "2022-09-02T14:08:54.763Z"
   },
   {
    "duration": 81,
    "start_time": "2022-09-02T14:10:38.214Z"
   },
   {
    "duration": 75,
    "start_time": "2022-09-02T14:18:05.207Z"
   },
   {
    "duration": 2681,
    "start_time": "2022-09-02T14:54:32.281Z"
   },
   {
    "duration": 882,
    "start_time": "2022-09-02T14:54:41.729Z"
   },
   {
    "duration": 2599,
    "start_time": "2022-09-02T14:55:03.299Z"
   },
   {
    "duration": 2678,
    "start_time": "2022-09-02T14:55:10.091Z"
   },
   {
    "duration": 1120,
    "start_time": "2022-09-02T15:07:54.277Z"
   },
   {
    "duration": 1339,
    "start_time": "2022-09-02T15:08:03.619Z"
   },
   {
    "duration": 68,
    "start_time": "2022-09-02T15:13:02.168Z"
   },
   {
    "duration": 473,
    "start_time": "2022-09-02T15:13:15.813Z"
   },
   {
    "duration": 343,
    "start_time": "2022-09-02T15:13:20.383Z"
   },
   {
    "duration": 402,
    "start_time": "2022-09-02T15:13:34.270Z"
   },
   {
    "duration": 2163,
    "start_time": "2022-09-02T15:19:26.951Z"
   },
   {
    "duration": 817,
    "start_time": "2022-09-02T15:19:43.766Z"
   },
   {
    "duration": 831,
    "start_time": "2022-09-02T15:19:54.965Z"
   },
   {
    "duration": 144,
    "start_time": "2022-09-02T15:20:07.900Z"
   },
   {
    "duration": 130,
    "start_time": "2022-09-02T15:20:10.794Z"
   },
   {
    "duration": 130,
    "start_time": "2022-09-02T15:20:20.180Z"
   },
   {
    "duration": 482,
    "start_time": "2022-09-02T15:20:46.021Z"
   },
   {
    "duration": 1042,
    "start_time": "2022-09-02T15:20:55.204Z"
   },
   {
    "duration": 1284,
    "start_time": "2022-09-02T15:22:25.010Z"
   },
   {
    "duration": 965,
    "start_time": "2022-09-02T15:22:32.802Z"
   },
   {
    "duration": 1018,
    "start_time": "2022-09-02T15:22:37.793Z"
   },
   {
    "duration": 11,
    "start_time": "2022-09-02T15:30:15.616Z"
   },
   {
    "duration": 4,
    "start_time": "2022-09-02T15:35:59.814Z"
   },
   {
    "duration": 9,
    "start_time": "2022-09-02T15:37:00.065Z"
   },
   {
    "duration": 11,
    "start_time": "2022-09-02T15:37:23.322Z"
   },
   {
    "duration": 3681,
    "start_time": "2022-09-02T15:37:34.734Z"
   },
   {
    "duration": 3,
    "start_time": "2022-09-02T15:38:03.734Z"
   },
   {
    "duration": 3873,
    "start_time": "2022-09-02T15:39:49.034Z"
   },
   {
    "duration": 4072,
    "start_time": "2022-09-02T15:40:00.094Z"
   },
   {
    "duration": 114,
    "start_time": "2022-09-02T15:40:41.061Z"
   },
   {
    "duration": 126,
    "start_time": "2022-09-02T15:41:59.818Z"
   },
   {
    "duration": 1758,
    "start_time": "2022-09-02T15:42:32.330Z"
   },
   {
    "duration": 1126,
    "start_time": "2022-09-02T15:43:00.625Z"
   },
   {
    "duration": 1125,
    "start_time": "2022-09-02T15:43:17.333Z"
   },
   {
    "duration": 45,
    "start_time": "2022-09-02T15:43:18.460Z"
   },
   {
    "duration": 3,
    "start_time": "2022-09-02T15:43:18.509Z"
   },
   {
    "duration": 13,
    "start_time": "2022-09-02T15:43:18.514Z"
   },
   {
    "duration": 6,
    "start_time": "2022-09-02T15:43:18.528Z"
   },
   {
    "duration": 19,
    "start_time": "2022-09-02T15:43:18.535Z"
   },
   {
    "duration": 43,
    "start_time": "2022-09-02T15:43:18.555Z"
   },
   {
    "duration": 73,
    "start_time": "2022-09-02T15:43:18.599Z"
   },
   {
    "duration": 9,
    "start_time": "2022-09-02T15:43:18.674Z"
   },
   {
    "duration": 120,
    "start_time": "2022-09-02T15:43:18.684Z"
   },
   {
    "duration": 0,
    "start_time": "2022-09-02T15:43:18.806Z"
   },
   {
    "duration": 0,
    "start_time": "2022-09-02T15:43:18.807Z"
   },
   {
    "duration": 0,
    "start_time": "2022-09-02T15:43:18.808Z"
   },
   {
    "duration": 0,
    "start_time": "2022-09-02T15:43:18.809Z"
   },
   {
    "duration": 1260,
    "start_time": "2022-09-02T15:43:38.025Z"
   },
   {
    "duration": 1189,
    "start_time": "2022-09-02T15:44:02.632Z"
   },
   {
    "duration": 58,
    "start_time": "2022-09-02T15:44:03.823Z"
   },
   {
    "duration": 4,
    "start_time": "2022-09-02T15:44:03.883Z"
   },
   {
    "duration": 21,
    "start_time": "2022-09-02T15:44:03.889Z"
   },
   {
    "duration": 8,
    "start_time": "2022-09-02T15:44:03.911Z"
   },
   {
    "duration": 12,
    "start_time": "2022-09-02T15:44:03.920Z"
   },
   {
    "duration": 82,
    "start_time": "2022-09-02T15:44:03.934Z"
   },
   {
    "duration": 89,
    "start_time": "2022-09-02T15:44:04.018Z"
   },
   {
    "duration": 10,
    "start_time": "2022-09-02T15:44:04.109Z"
   },
   {
    "duration": 3903,
    "start_time": "2022-09-02T15:44:04.121Z"
   },
   {
    "duration": 113,
    "start_time": "2022-09-02T15:44:08.026Z"
   },
   {
    "duration": 0,
    "start_time": "2022-09-02T15:44:08.140Z"
   },
   {
    "duration": 0,
    "start_time": "2022-09-02T15:44:08.142Z"
   },
   {
    "duration": 0,
    "start_time": "2022-09-02T15:44:08.144Z"
   },
   {
    "duration": 3665,
    "start_time": "2022-09-02T15:44:27.128Z"
   },
   {
    "duration": 3999,
    "start_time": "2022-09-02T15:44:33.176Z"
   },
   {
    "duration": 3350,
    "start_time": "2022-09-02T15:45:31.959Z"
   },
   {
    "duration": 3101,
    "start_time": "2022-09-02T15:46:23.590Z"
   },
   {
    "duration": 3300,
    "start_time": "2022-09-02T15:46:36.605Z"
   },
   {
    "duration": 3365,
    "start_time": "2022-09-02T15:46:58.405Z"
   },
   {
    "duration": 179,
    "start_time": "2022-09-02T15:47:05.675Z"
   },
   {
    "duration": 3352,
    "start_time": "2022-09-02T15:47:08.847Z"
   },
   {
    "duration": 186,
    "start_time": "2022-09-02T15:47:35.236Z"
   },
   {
    "duration": 1104,
    "start_time": "2022-09-02T15:47:43.456Z"
   },
   {
    "duration": 46,
    "start_time": "2022-09-02T15:47:44.562Z"
   },
   {
    "duration": 4,
    "start_time": "2022-09-02T15:47:44.610Z"
   },
   {
    "duration": 25,
    "start_time": "2022-09-02T15:47:44.616Z"
   },
   {
    "duration": 17,
    "start_time": "2022-09-02T15:47:44.644Z"
   },
   {
    "duration": 10,
    "start_time": "2022-09-02T15:47:44.663Z"
   },
   {
    "duration": 54,
    "start_time": "2022-09-02T15:47:44.674Z"
   },
   {
    "duration": 81,
    "start_time": "2022-09-02T15:47:44.730Z"
   },
   {
    "duration": 12,
    "start_time": "2022-09-02T15:47:44.813Z"
   },
   {
    "duration": 271,
    "start_time": "2022-09-02T15:47:44.826Z"
   },
   {
    "duration": 0,
    "start_time": "2022-09-02T15:47:45.099Z"
   },
   {
    "duration": 0,
    "start_time": "2022-09-02T15:47:45.100Z"
   },
   {
    "duration": 0,
    "start_time": "2022-09-02T15:47:45.102Z"
   },
   {
    "duration": 0,
    "start_time": "2022-09-02T15:47:45.103Z"
   },
   {
    "duration": 153,
    "start_time": "2022-09-02T15:48:31.279Z"
   },
   {
    "duration": 1179,
    "start_time": "2022-09-02T15:48:34.940Z"
   },
   {
    "duration": 49,
    "start_time": "2022-09-02T15:48:36.121Z"
   },
   {
    "duration": 6,
    "start_time": "2022-09-02T15:48:36.172Z"
   },
   {
    "duration": 25,
    "start_time": "2022-09-02T15:48:36.180Z"
   },
   {
    "duration": 7,
    "start_time": "2022-09-02T15:48:36.207Z"
   },
   {
    "duration": 23,
    "start_time": "2022-09-02T15:48:36.216Z"
   },
   {
    "duration": 45,
    "start_time": "2022-09-02T15:48:36.241Z"
   },
   {
    "duration": 87,
    "start_time": "2022-09-02T15:48:36.287Z"
   },
   {
    "duration": 11,
    "start_time": "2022-09-02T15:48:36.376Z"
   },
   {
    "duration": 3282,
    "start_time": "2022-09-02T15:48:36.390Z"
   },
   {
    "duration": 100,
    "start_time": "2022-09-02T15:48:39.674Z"
   },
   {
    "duration": 0,
    "start_time": "2022-09-02T15:48:39.775Z"
   },
   {
    "duration": 0,
    "start_time": "2022-09-02T15:48:39.776Z"
   },
   {
    "duration": 0,
    "start_time": "2022-09-02T15:48:39.777Z"
   },
   {
    "duration": 3142,
    "start_time": "2022-09-02T15:49:05.383Z"
   },
   {
    "duration": 2836,
    "start_time": "2022-09-02T15:49:49.086Z"
   },
   {
    "duration": 2816,
    "start_time": "2022-09-02T15:50:05.981Z"
   },
   {
    "duration": 9,
    "start_time": "2022-09-02T15:50:17.100Z"
   },
   {
    "duration": 211,
    "start_time": "2022-09-02T15:50:22.315Z"
   },
   {
    "duration": 7,
    "start_time": "2022-09-02T15:50:42.309Z"
   },
   {
    "duration": 540,
    "start_time": "2022-09-02T15:50:48.135Z"
   },
   {
    "duration": 7,
    "start_time": "2022-09-02T15:50:54.780Z"
   },
   {
    "duration": 986,
    "start_time": "2022-09-02T15:51:00.935Z"
   },
   {
    "duration": 1271,
    "start_time": "2022-09-02T15:59:41.554Z"
   },
   {
    "duration": 1253,
    "start_time": "2022-09-02T16:00:05.704Z"
   },
   {
    "duration": 1272,
    "start_time": "2022-09-02T16:04:05.277Z"
   },
   {
    "duration": 79,
    "start_time": "2022-09-02T16:04:29.400Z"
   },
   {
    "duration": 51,
    "start_time": "2022-09-02T16:04:38.660Z"
   },
   {
    "duration": 1282,
    "start_time": "2022-09-02T16:04:44.260Z"
   },
   {
    "duration": 1397,
    "start_time": "2022-09-02T16:04:50.325Z"
   },
   {
    "duration": 70,
    "start_time": "2022-09-02T16:04:53.756Z"
   },
   {
    "duration": 1288,
    "start_time": "2022-09-02T16:05:07.116Z"
   },
   {
    "duration": 50,
    "start_time": "2022-09-02T16:05:19.616Z"
   },
   {
    "duration": 1424,
    "start_time": "2022-09-02T16:05:22.632Z"
   },
   {
    "duration": 1072,
    "start_time": "2022-09-02T16:05:36.152Z"
   },
   {
    "duration": 44,
    "start_time": "2022-09-02T16:05:37.226Z"
   },
   {
    "duration": 4,
    "start_time": "2022-09-02T16:05:37.271Z"
   },
   {
    "duration": 13,
    "start_time": "2022-09-02T16:05:37.277Z"
   },
   {
    "duration": 7,
    "start_time": "2022-09-02T16:05:37.292Z"
   },
   {
    "duration": 4,
    "start_time": "2022-09-02T16:05:37.300Z"
   },
   {
    "duration": 47,
    "start_time": "2022-09-02T16:05:37.305Z"
   },
   {
    "duration": 94,
    "start_time": "2022-09-02T16:05:37.354Z"
   },
   {
    "duration": 2905,
    "start_time": "2022-09-02T16:05:37.450Z"
   },
   {
    "duration": 1400,
    "start_time": "2022-09-02T16:05:40.357Z"
   },
   {
    "duration": 131,
    "start_time": "2022-09-02T16:05:41.759Z"
   },
   {
    "duration": 0,
    "start_time": "2022-09-02T16:05:41.892Z"
   },
   {
    "duration": 0,
    "start_time": "2022-09-02T16:05:41.893Z"
   },
   {
    "duration": 1436,
    "start_time": "2022-09-02T16:05:52.653Z"
   },
   {
    "duration": 1304,
    "start_time": "2022-09-02T16:06:11.073Z"
   },
   {
    "duration": 3,
    "start_time": "2022-09-02T16:06:36.389Z"
   },
   {
    "duration": 1340,
    "start_time": "2022-09-02T16:07:23.661Z"
   },
   {
    "duration": 1400,
    "start_time": "2022-09-02T16:07:31.901Z"
   },
   {
    "duration": 1380,
    "start_time": "2022-09-02T16:07:38.015Z"
   },
   {
    "duration": 1308,
    "start_time": "2022-09-02T16:07:43.035Z"
   },
   {
    "duration": 1441,
    "start_time": "2022-09-02T16:07:48.991Z"
   },
   {
    "duration": 1418,
    "start_time": "2022-09-02T16:07:57.882Z"
   },
   {
    "duration": 1336,
    "start_time": "2022-09-02T16:08:04.938Z"
   },
   {
    "duration": 1376,
    "start_time": "2022-09-02T16:08:09.963Z"
   },
   {
    "duration": 1282,
    "start_time": "2022-09-02T16:08:22.823Z"
   },
   {
    "duration": 1435,
    "start_time": "2022-09-02T16:08:27.113Z"
   },
   {
    "duration": 1284,
    "start_time": "2022-09-02T16:08:37.077Z"
   },
   {
    "duration": 1274,
    "start_time": "2022-09-02T16:08:41.163Z"
   },
   {
    "duration": 1397,
    "start_time": "2022-09-02T16:08:46.905Z"
   },
   {
    "duration": 1127,
    "start_time": "2022-09-02T16:08:57.953Z"
   },
   {
    "duration": 45,
    "start_time": "2022-09-02T16:08:59.082Z"
   },
   {
    "duration": 3,
    "start_time": "2022-09-02T16:08:59.129Z"
   },
   {
    "duration": 12,
    "start_time": "2022-09-02T16:08:59.134Z"
   },
   {
    "duration": 6,
    "start_time": "2022-09-02T16:08:59.147Z"
   },
   {
    "duration": 4,
    "start_time": "2022-09-02T16:08:59.154Z"
   },
   {
    "duration": 44,
    "start_time": "2022-09-02T16:08:59.159Z"
   },
   {
    "duration": 90,
    "start_time": "2022-09-02T16:08:59.204Z"
   },
   {
    "duration": 2995,
    "start_time": "2022-09-02T16:08:59.295Z"
   },
   {
    "duration": 1397,
    "start_time": "2022-09-02T16:09:02.292Z"
   },
   {
    "duration": 2,
    "start_time": "2022-09-02T16:09:03.691Z"
   },
   {
    "duration": 22,
    "start_time": "2022-09-02T16:09:03.695Z"
   },
   {
    "duration": 1431,
    "start_time": "2022-09-02T16:09:29.366Z"
   },
   {
    "duration": 1087,
    "start_time": "2022-09-02T16:10:30.461Z"
   },
   {
    "duration": 46,
    "start_time": "2022-09-02T16:10:31.550Z"
   },
   {
    "duration": 5,
    "start_time": "2022-09-02T16:10:31.597Z"
   },
   {
    "duration": 35,
    "start_time": "2022-09-02T16:10:31.604Z"
   },
   {
    "duration": 21,
    "start_time": "2022-09-02T16:10:31.641Z"
   },
   {
    "duration": 22,
    "start_time": "2022-09-02T16:10:31.663Z"
   },
   {
    "duration": 48,
    "start_time": "2022-09-02T16:10:31.687Z"
   },
   {
    "duration": 73,
    "start_time": "2022-09-02T16:10:31.737Z"
   },
   {
    "duration": 2901,
    "start_time": "2022-09-02T16:10:31.812Z"
   },
   {
    "duration": 1401,
    "start_time": "2022-09-02T16:10:34.716Z"
   },
   {
    "duration": 3,
    "start_time": "2022-09-02T16:10:36.119Z"
   },
   {
    "duration": 30,
    "start_time": "2022-09-02T16:10:36.123Z"
   },
   {
    "duration": 1233,
    "start_time": "2022-09-06T09:39:58.633Z"
   },
   {
    "duration": 90,
    "start_time": "2022-09-06T09:39:59.868Z"
   },
   {
    "duration": 4,
    "start_time": "2022-09-06T09:39:59.959Z"
   },
   {
    "duration": 18,
    "start_time": "2022-09-06T09:39:59.965Z"
   },
   {
    "duration": 8,
    "start_time": "2022-09-06T09:39:59.985Z"
   },
   {
    "duration": 5,
    "start_time": "2022-09-06T09:39:59.994Z"
   },
   {
    "duration": 39,
    "start_time": "2022-09-06T09:40:00.000Z"
   },
   {
    "duration": 86,
    "start_time": "2022-09-06T09:40:00.041Z"
   },
   {
    "duration": 2836,
    "start_time": "2022-09-06T09:40:00.128Z"
   },
   {
    "duration": 1335,
    "start_time": "2022-09-06T09:40:02.966Z"
   },
   {
    "duration": 2,
    "start_time": "2022-09-06T09:40:04.303Z"
   },
   {
    "duration": 14,
    "start_time": "2022-09-06T09:40:04.306Z"
   },
   {
    "duration": 4,
    "start_time": "2022-09-06T09:54:25.429Z"
   },
   {
    "duration": 104,
    "start_time": "2022-09-06T09:54:26.830Z"
   },
   {
    "duration": 294,
    "start_time": "2022-09-06T09:54:57.832Z"
   },
   {
    "duration": 6,
    "start_time": "2022-09-06T09:55:01.929Z"
   },
   {
    "duration": 2,
    "start_time": "2022-09-06T10:04:54.040Z"
   },
   {
    "duration": 7,
    "start_time": "2022-09-06T10:06:59.530Z"
   },
   {
    "duration": 5,
    "start_time": "2022-09-06T10:07:20.863Z"
   },
   {
    "duration": 4,
    "start_time": "2022-09-06T10:09:55.429Z"
   },
   {
    "duration": 8,
    "start_time": "2022-09-06T10:09:56.242Z"
   },
   {
    "duration": 5,
    "start_time": "2022-09-06T10:09:57.020Z"
   },
   {
    "duration": 16,
    "start_time": "2022-09-06T10:14:05.879Z"
   },
   {
    "duration": 19,
    "start_time": "2022-09-06T10:14:24.107Z"
   },
   {
    "duration": 3,
    "start_time": "2022-09-06T10:14:27.879Z"
   },
   {
    "duration": 2,
    "start_time": "2022-09-06T10:14:32.270Z"
   },
   {
    "duration": 3,
    "start_time": "2022-09-06T10:14:35.134Z"
   },
   {
    "duration": 1404,
    "start_time": "2022-09-06T10:14:41.418Z"
   },
   {
    "duration": 0,
    "start_time": "2022-09-06T10:14:42.824Z"
   },
   {
    "duration": 0,
    "start_time": "2022-09-06T10:14:42.825Z"
   },
   {
    "duration": 0,
    "start_time": "2022-09-06T10:14:42.825Z"
   },
   {
    "duration": 0,
    "start_time": "2022-09-06T10:14:42.826Z"
   },
   {
    "duration": 0,
    "start_time": "2022-09-06T10:14:42.827Z"
   },
   {
    "duration": 0,
    "start_time": "2022-09-06T10:14:42.829Z"
   },
   {
    "duration": 0,
    "start_time": "2022-09-06T10:14:42.830Z"
   },
   {
    "duration": 0,
    "start_time": "2022-09-06T10:14:42.831Z"
   },
   {
    "duration": 0,
    "start_time": "2022-09-06T10:14:42.832Z"
   },
   {
    "duration": 0,
    "start_time": "2022-09-06T10:14:42.833Z"
   },
   {
    "duration": 0,
    "start_time": "2022-09-06T10:14:42.834Z"
   },
   {
    "duration": 0,
    "start_time": "2022-09-06T10:14:42.835Z"
   },
   {
    "duration": 0,
    "start_time": "2022-09-06T10:14:42.836Z"
   },
   {
    "duration": 0,
    "start_time": "2022-09-06T10:14:42.837Z"
   },
   {
    "duration": 0,
    "start_time": "2022-09-06T10:14:42.837Z"
   },
   {
    "duration": 1472,
    "start_time": "2022-09-06T10:15:03.755Z"
   },
   {
    "duration": 57,
    "start_time": "2022-09-06T10:15:05.229Z"
   },
   {
    "duration": 5,
    "start_time": "2022-09-06T10:15:05.288Z"
   },
   {
    "duration": 16,
    "start_time": "2022-09-06T10:15:05.295Z"
   },
   {
    "duration": 9,
    "start_time": "2022-09-06T10:15:05.313Z"
   },
   {
    "duration": 5,
    "start_time": "2022-09-06T10:15:05.324Z"
   },
   {
    "duration": 40,
    "start_time": "2022-09-06T10:15:05.331Z"
   },
   {
    "duration": 88,
    "start_time": "2022-09-06T10:15:05.373Z"
   },
   {
    "duration": 2864,
    "start_time": "2022-09-06T10:15:05.462Z"
   },
   {
    "duration": 1375,
    "start_time": "2022-09-06T10:15:08.327Z"
   },
   {
    "duration": 5,
    "start_time": "2022-09-06T10:15:09.703Z"
   },
   {
    "duration": 12,
    "start_time": "2022-09-06T10:15:09.709Z"
   },
   {
    "duration": 10,
    "start_time": "2022-09-06T10:15:09.722Z"
   },
   {
    "duration": 5,
    "start_time": "2022-09-06T10:15:09.734Z"
   },
   {
    "duration": 7,
    "start_time": "2022-09-06T10:15:09.740Z"
   },
   {
    "duration": 13,
    "start_time": "2022-09-06T10:15:09.748Z"
   },
   {
    "duration": 116,
    "start_time": "2022-09-06T10:16:08.049Z"
   },
   {
    "duration": 1333,
    "start_time": "2022-09-06T10:16:18.719Z"
   },
   {
    "duration": 45,
    "start_time": "2022-09-06T10:16:20.054Z"
   },
   {
    "duration": 4,
    "start_time": "2022-09-06T10:16:20.100Z"
   },
   {
    "duration": 25,
    "start_time": "2022-09-06T10:16:20.106Z"
   },
   {
    "duration": 8,
    "start_time": "2022-09-06T10:16:20.134Z"
   },
   {
    "duration": 10,
    "start_time": "2022-09-06T10:16:20.144Z"
   },
   {
    "duration": 47,
    "start_time": "2022-09-06T10:16:20.156Z"
   },
   {
    "duration": 67,
    "start_time": "2022-09-06T10:16:20.204Z"
   },
   {
    "duration": 2886,
    "start_time": "2022-09-06T10:16:20.273Z"
   },
   {
    "duration": 1388,
    "start_time": "2022-09-06T10:16:23.161Z"
   },
   {
    "duration": 5,
    "start_time": "2022-09-06T10:16:24.551Z"
   },
   {
    "duration": 14,
    "start_time": "2022-09-06T10:16:24.558Z"
   },
   {
    "duration": 11,
    "start_time": "2022-09-06T10:16:24.574Z"
   },
   {
    "duration": 10,
    "start_time": "2022-09-06T10:16:24.588Z"
   },
   {
    "duration": 140,
    "start_time": "2022-09-06T10:16:24.600Z"
   },
   {
    "duration": 0,
    "start_time": "2022-09-06T10:16:24.741Z"
   },
   {
    "duration": 13,
    "start_time": "2022-09-06T10:16:32.356Z"
   },
   {
    "duration": 2,
    "start_time": "2022-09-06T10:18:11.120Z"
   },
   {
    "duration": 14,
    "start_time": "2022-09-06T10:18:37.889Z"
   },
   {
    "duration": 3,
    "start_time": "2022-09-06T10:27:50.391Z"
   },
   {
    "duration": 9,
    "start_time": "2022-09-06T10:32:55.594Z"
   },
   {
    "duration": 3,
    "start_time": "2022-09-06T10:33:41.522Z"
   },
   {
    "duration": 6,
    "start_time": "2022-09-06T10:33:46.697Z"
   },
   {
    "duration": 8,
    "start_time": "2022-09-06T10:40:17.922Z"
   },
   {
    "duration": 19,
    "start_time": "2022-09-06T10:41:28.123Z"
   },
   {
    "duration": 11,
    "start_time": "2022-09-06T10:41:36.929Z"
   },
   {
    "duration": 1350,
    "start_time": "2022-09-06T10:41:44.691Z"
   },
   {
    "duration": 43,
    "start_time": "2022-09-06T10:41:46.043Z"
   },
   {
    "duration": 4,
    "start_time": "2022-09-06T10:41:46.087Z"
   },
   {
    "duration": 12,
    "start_time": "2022-09-06T10:41:46.092Z"
   },
   {
    "duration": 7,
    "start_time": "2022-09-06T10:41:46.105Z"
   },
   {
    "duration": 6,
    "start_time": "2022-09-06T10:41:46.113Z"
   },
   {
    "duration": 38,
    "start_time": "2022-09-06T10:41:46.121Z"
   },
   {
    "duration": 87,
    "start_time": "2022-09-06T10:41:46.161Z"
   },
   {
    "duration": 2791,
    "start_time": "2022-09-06T10:41:46.249Z"
   },
   {
    "duration": 1330,
    "start_time": "2022-09-06T10:41:49.043Z"
   },
   {
    "duration": 5,
    "start_time": "2022-09-06T10:41:50.375Z"
   },
   {
    "duration": 15,
    "start_time": "2022-09-06T10:41:50.382Z"
   },
   {
    "duration": 16,
    "start_time": "2022-09-06T10:41:50.398Z"
   },
   {
    "duration": 8,
    "start_time": "2022-09-06T10:41:50.416Z"
   },
   {
    "duration": 19,
    "start_time": "2022-09-06T10:41:50.426Z"
   },
   {
    "duration": 8,
    "start_time": "2022-09-06T10:41:50.447Z"
   },
   {
    "duration": 142,
    "start_time": "2022-09-06T10:41:50.456Z"
   },
   {
    "duration": 122,
    "start_time": "2022-09-06T10:41:50.600Z"
   },
   {
    "duration": 0,
    "start_time": "2022-09-06T10:41:50.724Z"
   },
   {
    "duration": 0,
    "start_time": "2022-09-06T10:41:50.725Z"
   },
   {
    "duration": 0,
    "start_time": "2022-09-06T10:41:50.726Z"
   },
   {
    "duration": 0,
    "start_time": "2022-09-06T10:41:50.727Z"
   },
   {
    "duration": 10,
    "start_time": "2022-09-06T10:42:13.119Z"
   },
   {
    "duration": 1341,
    "start_time": "2022-09-06T10:42:18.439Z"
   },
   {
    "duration": 43,
    "start_time": "2022-09-06T10:42:19.782Z"
   },
   {
    "duration": 5,
    "start_time": "2022-09-06T10:42:19.826Z"
   },
   {
    "duration": 11,
    "start_time": "2022-09-06T10:42:19.832Z"
   },
   {
    "duration": 7,
    "start_time": "2022-09-06T10:42:19.846Z"
   },
   {
    "duration": 4,
    "start_time": "2022-09-06T10:42:19.855Z"
   },
   {
    "duration": 56,
    "start_time": "2022-09-06T10:42:19.860Z"
   },
   {
    "duration": 82,
    "start_time": "2022-09-06T10:42:19.917Z"
   },
   {
    "duration": 2880,
    "start_time": "2022-09-06T10:42:20.001Z"
   },
   {
    "duration": 1259,
    "start_time": "2022-09-06T10:42:22.882Z"
   },
   {
    "duration": 4,
    "start_time": "2022-09-06T10:42:24.143Z"
   },
   {
    "duration": 7,
    "start_time": "2022-09-06T10:42:24.148Z"
   },
   {
    "duration": 9,
    "start_time": "2022-09-06T10:42:24.157Z"
   },
   {
    "duration": 3,
    "start_time": "2022-09-06T10:42:24.169Z"
   },
   {
    "duration": 16,
    "start_time": "2022-09-06T10:42:24.174Z"
   },
   {
    "duration": 9,
    "start_time": "2022-09-06T10:42:24.192Z"
   },
   {
    "duration": 96,
    "start_time": "2022-09-06T10:42:24.204Z"
   },
   {
    "duration": 466,
    "start_time": "2022-09-06T10:42:24.302Z"
   },
   {
    "duration": 41,
    "start_time": "2022-09-06T10:42:24.769Z"
   },
   {
    "duration": 126,
    "start_time": "2022-09-06T10:42:24.811Z"
   },
   {
    "duration": 0,
    "start_time": "2022-09-06T10:42:24.938Z"
   },
   {
    "duration": 1,
    "start_time": "2022-09-06T10:42:24.939Z"
   },
   {
    "duration": 7,
    "start_time": "2022-09-06T10:43:58.160Z"
   },
   {
    "duration": 1416,
    "start_time": "2022-09-06T10:45:01.536Z"
   },
   {
    "duration": 42,
    "start_time": "2022-09-06T10:45:02.954Z"
   },
   {
    "duration": 4,
    "start_time": "2022-09-06T10:45:02.997Z"
   },
   {
    "duration": 12,
    "start_time": "2022-09-06T10:45:03.003Z"
   },
   {
    "duration": 7,
    "start_time": "2022-09-06T10:45:03.016Z"
   },
   {
    "duration": 6,
    "start_time": "2022-09-06T10:45:03.024Z"
   },
   {
    "duration": 47,
    "start_time": "2022-09-06T10:45:03.031Z"
   },
   {
    "duration": 89,
    "start_time": "2022-09-06T10:45:03.080Z"
   },
   {
    "duration": 3024,
    "start_time": "2022-09-06T10:45:03.170Z"
   },
   {
    "duration": 1274,
    "start_time": "2022-09-06T10:45:06.195Z"
   },
   {
    "duration": 3,
    "start_time": "2022-09-06T10:45:07.472Z"
   },
   {
    "duration": 8,
    "start_time": "2022-09-06T10:45:07.477Z"
   },
   {
    "duration": 7,
    "start_time": "2022-09-06T10:45:07.487Z"
   },
   {
    "duration": 4,
    "start_time": "2022-09-06T10:45:07.495Z"
   },
   {
    "duration": 14,
    "start_time": "2022-09-06T10:45:07.500Z"
   },
   {
    "duration": 4,
    "start_time": "2022-09-06T10:45:07.515Z"
   },
   {
    "duration": 187,
    "start_time": "2022-09-06T10:45:07.523Z"
   },
   {
    "duration": 332,
    "start_time": "2022-09-06T10:45:07.711Z"
   },
   {
    "duration": 37,
    "start_time": "2022-09-06T10:45:08.044Z"
   },
   {
    "duration": 15,
    "start_time": "2022-09-06T10:45:08.083Z"
   },
   {
    "duration": 117,
    "start_time": "2022-09-06T10:45:08.100Z"
   },
   {
    "duration": 0,
    "start_time": "2022-09-06T10:45:08.219Z"
   },
   {
    "duration": 3409,
    "start_time": "2022-09-06T10:50:20.699Z"
   },
   {
    "duration": 3399,
    "start_time": "2022-09-06T10:51:38.215Z"
   },
   {
    "duration": 2798,
    "start_time": "2022-09-06T10:52:18.097Z"
   },
   {
    "duration": 2758,
    "start_time": "2022-09-06T10:54:20.562Z"
   },
   {
    "duration": 2827,
    "start_time": "2022-09-06T10:54:49.122Z"
   },
   {
    "duration": 2984,
    "start_time": "2022-09-06T10:55:12.589Z"
   },
   {
    "duration": 1288,
    "start_time": "2022-09-06T10:55:38.648Z"
   },
   {
    "duration": 43,
    "start_time": "2022-09-06T10:55:39.937Z"
   },
   {
    "duration": 5,
    "start_time": "2022-09-06T10:55:39.981Z"
   },
   {
    "duration": 12,
    "start_time": "2022-09-06T10:55:39.988Z"
   },
   {
    "duration": 8,
    "start_time": "2022-09-06T10:55:40.001Z"
   },
   {
    "duration": 7,
    "start_time": "2022-09-06T10:55:40.010Z"
   },
   {
    "duration": 37,
    "start_time": "2022-09-06T10:55:40.018Z"
   },
   {
    "duration": 89,
    "start_time": "2022-09-06T10:55:40.057Z"
   },
   {
    "duration": 3146,
    "start_time": "2022-09-06T10:55:40.148Z"
   },
   {
    "duration": 3041,
    "start_time": "2022-09-06T10:55:43.299Z"
   },
   {
    "duration": 1272,
    "start_time": "2022-09-06T10:55:46.341Z"
   },
   {
    "duration": 4,
    "start_time": "2022-09-06T10:55:47.615Z"
   },
   {
    "duration": 8,
    "start_time": "2022-09-06T10:55:47.620Z"
   },
   {
    "duration": 9,
    "start_time": "2022-09-06T10:55:47.629Z"
   },
   {
    "duration": 4,
    "start_time": "2022-09-06T10:55:47.639Z"
   },
   {
    "duration": 15,
    "start_time": "2022-09-06T10:55:47.644Z"
   },
   {
    "duration": 42,
    "start_time": "2022-09-06T10:55:47.660Z"
   },
   {
    "duration": 101,
    "start_time": "2022-09-06T10:55:47.703Z"
   },
   {
    "duration": 426,
    "start_time": "2022-09-06T10:55:47.806Z"
   },
   {
    "duration": 35,
    "start_time": "2022-09-06T10:55:48.234Z"
   },
   {
    "duration": 6,
    "start_time": "2022-09-06T10:55:48.270Z"
   },
   {
    "duration": 25,
    "start_time": "2022-09-06T10:55:48.278Z"
   },
   {
    "duration": 2954,
    "start_time": "2022-09-06T10:56:32.284Z"
   },
   {
    "duration": 2,
    "start_time": "2022-09-06T10:56:48.277Z"
   },
   {
    "duration": 1291,
    "start_time": "2022-09-06T10:56:52.345Z"
   },
   {
    "duration": 42,
    "start_time": "2022-09-06T10:56:53.638Z"
   },
   {
    "duration": 4,
    "start_time": "2022-09-06T10:56:53.681Z"
   },
   {
    "duration": 14,
    "start_time": "2022-09-06T10:56:53.687Z"
   },
   {
    "duration": 6,
    "start_time": "2022-09-06T10:56:53.703Z"
   },
   {
    "duration": 4,
    "start_time": "2022-09-06T10:56:53.710Z"
   },
   {
    "duration": 37,
    "start_time": "2022-09-06T10:56:53.715Z"
   },
   {
    "duration": 80,
    "start_time": "2022-09-06T10:56:53.753Z"
   },
   {
    "duration": 2,
    "start_time": "2022-09-06T10:56:53.835Z"
   },
   {
    "duration": 3018,
    "start_time": "2022-09-06T10:56:53.839Z"
   },
   {
    "duration": 1435,
    "start_time": "2022-09-06T10:56:56.859Z"
   },
   {
    "duration": 5,
    "start_time": "2022-09-06T10:56:58.295Z"
   },
   {
    "duration": 12,
    "start_time": "2022-09-06T10:56:58.301Z"
   },
   {
    "duration": 8,
    "start_time": "2022-09-06T10:56:58.314Z"
   },
   {
    "duration": 4,
    "start_time": "2022-09-06T10:56:58.324Z"
   },
   {
    "duration": 15,
    "start_time": "2022-09-06T10:56:58.329Z"
   },
   {
    "duration": 56,
    "start_time": "2022-09-06T10:56:58.345Z"
   },
   {
    "duration": 101,
    "start_time": "2022-09-06T10:56:58.403Z"
   },
   {
    "duration": 334,
    "start_time": "2022-09-06T10:56:58.506Z"
   },
   {
    "duration": 36,
    "start_time": "2022-09-06T10:56:58.842Z"
   },
   {
    "duration": 6,
    "start_time": "2022-09-06T10:56:58.879Z"
   },
   {
    "duration": 9,
    "start_time": "2022-09-06T10:56:58.898Z"
   },
   {
    "duration": 7,
    "start_time": "2022-09-06T11:01:29.215Z"
   },
   {
    "duration": 6,
    "start_time": "2022-09-06T11:01:37.721Z"
   },
   {
    "duration": 9,
    "start_time": "2022-09-06T11:15:33.919Z"
   },
   {
    "duration": 9,
    "start_time": "2022-09-06T11:17:22.330Z"
   },
   {
    "duration": 3,
    "start_time": "2022-09-06T11:28:07.422Z"
   },
   {
    "duration": 93365,
    "start_time": "2022-09-06T11:32:36.690Z"
   },
   {
    "duration": 113,
    "start_time": "2022-09-06T11:41:53.153Z"
   },
   {
    "duration": 42,
    "start_time": "2022-09-06T11:42:05.905Z"
   },
   {
    "duration": 1027,
    "start_time": "2022-09-06T11:42:09.672Z"
   },
   {
    "duration": 11,
    "start_time": "2022-09-06T11:43:16.272Z"
   },
   {
    "duration": 9,
    "start_time": "2022-09-06T11:44:28.036Z"
   },
   {
    "duration": 20,
    "start_time": "2022-09-06T11:44:34.933Z"
   },
   {
    "duration": 15,
    "start_time": "2022-09-06T11:50:04.805Z"
   },
   {
    "duration": 12,
    "start_time": "2022-09-06T12:11:48.984Z"
   },
   {
    "duration": 12,
    "start_time": "2022-09-06T12:45:33.318Z"
   },
   {
    "duration": 14,
    "start_time": "2022-09-06T12:45:51.880Z"
   },
   {
    "duration": 11,
    "start_time": "2022-09-06T12:46:07.836Z"
   },
   {
    "duration": 13,
    "start_time": "2022-09-06T12:47:15.380Z"
   },
   {
    "duration": 67,
    "start_time": "2022-09-06T12:49:05.602Z"
   },
   {
    "duration": 12,
    "start_time": "2022-09-06T12:49:14.306Z"
   },
   {
    "duration": 9,
    "start_time": "2022-09-06T12:49:22.204Z"
   },
   {
    "duration": 2913,
    "start_time": "2022-09-06T12:49:39.601Z"
   },
   {
    "duration": 2795,
    "start_time": "2022-09-06T12:51:09.950Z"
   },
   {
    "duration": 1531,
    "start_time": "2022-09-06T12:51:30.814Z"
   },
   {
    "duration": 44,
    "start_time": "2022-09-06T12:51:32.347Z"
   },
   {
    "duration": 4,
    "start_time": "2022-09-06T12:51:32.392Z"
   },
   {
    "duration": 15,
    "start_time": "2022-09-06T12:51:32.397Z"
   },
   {
    "duration": 7,
    "start_time": "2022-09-06T12:51:32.414Z"
   },
   {
    "duration": 17,
    "start_time": "2022-09-06T12:51:32.422Z"
   },
   {
    "duration": 46,
    "start_time": "2022-09-06T12:51:32.440Z"
   },
   {
    "duration": 70,
    "start_time": "2022-09-06T12:51:32.487Z"
   },
   {
    "duration": 2,
    "start_time": "2022-09-06T12:51:32.558Z"
   },
   {
    "duration": 3062,
    "start_time": "2022-09-06T12:51:32.561Z"
   },
   {
    "duration": 1368,
    "start_time": "2022-09-06T12:51:35.625Z"
   },
   {
    "duration": 3,
    "start_time": "2022-09-06T12:51:36.995Z"
   },
   {
    "duration": 7,
    "start_time": "2022-09-06T12:51:36.999Z"
   },
   {
    "duration": 8,
    "start_time": "2022-09-06T12:51:37.008Z"
   },
   {
    "duration": 4,
    "start_time": "2022-09-06T12:51:37.017Z"
   },
   {
    "duration": 14,
    "start_time": "2022-09-06T12:51:37.022Z"
   },
   {
    "duration": 5,
    "start_time": "2022-09-06T12:51:37.037Z"
   },
   {
    "duration": 160,
    "start_time": "2022-09-06T12:51:37.043Z"
   },
   {
    "duration": 333,
    "start_time": "2022-09-06T12:51:37.205Z"
   },
   {
    "duration": 36,
    "start_time": "2022-09-06T12:51:37.539Z"
   },
   {
    "duration": 6,
    "start_time": "2022-09-06T12:51:37.576Z"
   },
   {
    "duration": 21,
    "start_time": "2022-09-06T12:51:37.584Z"
   },
   {
    "duration": 94866,
    "start_time": "2022-09-06T12:51:37.606Z"
   },
   {
    "duration": 1129,
    "start_time": "2022-09-06T12:53:12.473Z"
   },
   {
    "duration": 100,
    "start_time": "2022-09-06T12:53:13.604Z"
   },
   {
    "duration": 130,
    "start_time": "2022-09-06T12:53:13.706Z"
   },
   {
    "duration": 1,
    "start_time": "2022-09-06T12:53:13.837Z"
   },
   {
    "duration": 0,
    "start_time": "2022-09-06T12:53:13.839Z"
   },
   {
    "duration": 0,
    "start_time": "2022-09-06T12:53:13.840Z"
   },
   {
    "duration": 0,
    "start_time": "2022-09-06T12:53:13.841Z"
   },
   {
    "duration": 0,
    "start_time": "2022-09-06T12:53:13.842Z"
   },
   {
    "duration": 0,
    "start_time": "2022-09-06T12:53:13.843Z"
   },
   {
    "duration": 6985,
    "start_time": "2022-09-06T12:55:09.852Z"
   },
   {
    "duration": 2768,
    "start_time": "2022-09-06T12:55:30.182Z"
   },
   {
    "duration": 2752,
    "start_time": "2022-09-06T12:59:39.463Z"
   },
   {
    "duration": 11,
    "start_time": "2022-09-06T13:00:27.328Z"
   },
   {
    "duration": 14,
    "start_time": "2022-09-06T13:00:35.332Z"
   },
   {
    "duration": 10,
    "start_time": "2022-09-06T13:02:37.396Z"
   },
   {
    "duration": 3,
    "start_time": "2022-09-06T13:02:49.347Z"
   },
   {
    "duration": 7,
    "start_time": "2022-09-06T13:02:53.868Z"
   },
   {
    "duration": 6771,
    "start_time": "2022-09-06T13:05:53.619Z"
   },
   {
    "duration": 22,
    "start_time": "2022-09-06T13:06:44.523Z"
   },
   {
    "duration": 1383,
    "start_time": "2022-09-06T13:07:29.379Z"
   },
   {
    "duration": 1385,
    "start_time": "2022-09-06T13:07:43.198Z"
   },
   {
    "duration": 1260,
    "start_time": "2022-09-06T13:08:22.141Z"
   },
   {
    "duration": 1368,
    "start_time": "2022-09-06T13:08:55.718Z"
   },
   {
    "duration": 1401,
    "start_time": "2022-09-06T13:09:50.997Z"
   },
   {
    "duration": 1294,
    "start_time": "2022-09-06T13:10:31.043Z"
   },
   {
    "duration": 1432,
    "start_time": "2022-09-06T13:11:17.321Z"
   },
   {
    "duration": 1337,
    "start_time": "2022-09-06T13:12:06.201Z"
   },
   {
    "duration": 909,
    "start_time": "2022-09-06T13:12:30.024Z"
   },
   {
    "duration": 1150,
    "start_time": "2022-09-06T13:12:36.151Z"
   },
   {
    "duration": 1379,
    "start_time": "2022-09-06T13:12:46.960Z"
   },
   {
    "duration": 1303,
    "start_time": "2022-09-06T13:13:08.031Z"
   },
   {
    "duration": 1524,
    "start_time": "2022-09-06T13:13:17.024Z"
   },
   {
    "duration": 1415,
    "start_time": "2022-09-06T13:13:22.798Z"
   },
   {
    "duration": 1445,
    "start_time": "2022-09-06T13:13:28.996Z"
   },
   {
    "duration": 2,
    "start_time": "2022-09-06T13:16:51.660Z"
   },
   {
    "duration": 2,
    "start_time": "2022-09-06T13:56:47.334Z"
   },
   {
    "duration": 1405,
    "start_time": "2022-09-06T14:08:13.437Z"
   },
   {
    "duration": 43,
    "start_time": "2022-09-06T14:08:14.844Z"
   },
   {
    "duration": 4,
    "start_time": "2022-09-06T14:08:14.889Z"
   },
   {
    "duration": 19,
    "start_time": "2022-09-06T14:08:14.895Z"
   },
   {
    "duration": 12,
    "start_time": "2022-09-06T14:08:14.915Z"
   },
   {
    "duration": 31,
    "start_time": "2022-09-06T14:08:14.928Z"
   },
   {
    "duration": 38,
    "start_time": "2022-09-06T14:08:14.961Z"
   },
   {
    "duration": 69,
    "start_time": "2022-09-06T14:08:15.001Z"
   },
   {
    "duration": 2950,
    "start_time": "2022-09-06T14:08:15.071Z"
   },
   {
    "duration": 2,
    "start_time": "2022-09-06T14:08:18.024Z"
   },
   {
    "duration": 1449,
    "start_time": "2022-09-06T14:08:18.028Z"
   },
   {
    "duration": 4,
    "start_time": "2022-09-06T14:08:19.479Z"
   },
   {
    "duration": 61,
    "start_time": "2022-09-06T14:08:19.484Z"
   },
   {
    "duration": 25,
    "start_time": "2022-09-06T14:08:19.547Z"
   },
   {
    "duration": 32,
    "start_time": "2022-09-06T14:08:19.573Z"
   },
   {
    "duration": 47,
    "start_time": "2022-09-06T14:08:19.607Z"
   },
   {
    "duration": 3,
    "start_time": "2022-09-06T14:08:19.655Z"
   },
   {
    "duration": 43,
    "start_time": "2022-09-06T14:08:19.660Z"
   },
   {
    "duration": 420,
    "start_time": "2022-09-06T14:08:19.706Z"
   },
   {
    "duration": 37,
    "start_time": "2022-09-06T14:08:20.127Z"
   },
   {
    "duration": 7,
    "start_time": "2022-09-06T14:08:20.165Z"
   },
   {
    "duration": 18,
    "start_time": "2022-09-06T14:08:20.173Z"
   },
   {
    "duration": 92417,
    "start_time": "2022-09-06T14:08:20.198Z"
   },
   {
    "duration": 1183,
    "start_time": "2022-09-06T14:09:52.616Z"
   },
   {
    "duration": 105,
    "start_time": "2022-09-06T14:09:53.800Z"
   },
   {
    "duration": 1682,
    "start_time": "2022-09-06T14:09:53.907Z"
   },
   {
    "duration": 1307,
    "start_time": "2022-09-06T14:09:55.590Z"
   },
   {
    "duration": 1418,
    "start_time": "2022-09-06T14:09:56.900Z"
   },
   {
    "duration": 1372,
    "start_time": "2022-09-06T14:09:58.319Z"
   },
   {
    "duration": 1465,
    "start_time": "2022-09-06T14:09:59.692Z"
   },
   {
    "duration": 8,
    "start_time": "2022-09-06T14:14:58.897Z"
   },
   {
    "duration": 10,
    "start_time": "2022-09-06T14:15:10.393Z"
   },
   {
    "duration": 1275,
    "start_time": "2022-09-06T14:15:15.688Z"
   },
   {
    "duration": 1451,
    "start_time": "2022-09-06T14:15:25.239Z"
   },
   {
    "duration": 1409,
    "start_time": "2022-09-06T14:15:33.449Z"
   },
   {
    "duration": 1355,
    "start_time": "2022-09-06T14:16:15.913Z"
   },
   {
    "duration": 44,
    "start_time": "2022-09-06T14:16:17.270Z"
   },
   {
    "duration": 3,
    "start_time": "2022-09-06T14:16:17.315Z"
   },
   {
    "duration": 15,
    "start_time": "2022-09-06T14:16:17.320Z"
   },
   {
    "duration": 6,
    "start_time": "2022-09-06T14:16:17.336Z"
   },
   {
    "duration": 6,
    "start_time": "2022-09-06T14:16:17.343Z"
   },
   {
    "duration": 48,
    "start_time": "2022-09-06T14:16:17.351Z"
   },
   {
    "duration": 72,
    "start_time": "2022-09-06T14:16:17.400Z"
   },
   {
    "duration": 2928,
    "start_time": "2022-09-06T14:16:17.473Z"
   },
   {
    "duration": 3,
    "start_time": "2022-09-06T14:16:20.403Z"
   },
   {
    "duration": 1354,
    "start_time": "2022-09-06T14:16:20.407Z"
   },
   {
    "duration": 3,
    "start_time": "2022-09-06T14:16:21.763Z"
   },
   {
    "duration": 21,
    "start_time": "2022-09-06T14:16:21.768Z"
   },
   {
    "duration": 13,
    "start_time": "2022-09-06T14:16:21.791Z"
   },
   {
    "duration": 6,
    "start_time": "2022-09-06T14:16:21.805Z"
   },
   {
    "duration": 17,
    "start_time": "2022-09-06T14:16:21.812Z"
   },
   {
    "duration": 10,
    "start_time": "2022-09-06T14:16:21.831Z"
   },
   {
    "duration": 105,
    "start_time": "2022-09-06T14:16:21.899Z"
   },
   {
    "duration": 348,
    "start_time": "2022-09-06T14:16:22.005Z"
   },
   {
    "duration": 36,
    "start_time": "2022-09-06T14:16:22.354Z"
   },
   {
    "duration": 8,
    "start_time": "2022-09-06T14:16:22.398Z"
   },
   {
    "duration": 8,
    "start_time": "2022-09-06T14:16:22.407Z"
   },
   {
    "duration": 91511,
    "start_time": "2022-09-06T14:16:22.417Z"
   },
   {
    "duration": 1171,
    "start_time": "2022-09-06T14:17:53.930Z"
   },
   {
    "duration": 13,
    "start_time": "2022-09-06T14:17:55.102Z"
   },
   {
    "duration": 1553,
    "start_time": "2022-09-06T14:17:55.116Z"
   },
   {
    "duration": 1297,
    "start_time": "2022-09-06T14:17:56.670Z"
   },
   {
    "duration": 1408,
    "start_time": "2022-09-06T14:17:57.970Z"
   },
   {
    "duration": 1430,
    "start_time": "2022-09-06T14:17:59.380Z"
   },
   {
    "duration": 1442,
    "start_time": "2022-09-06T14:18:00.812Z"
   },
   {
    "duration": 1680,
    "start_time": "2022-09-06T16:18:27.089Z"
   },
   {
    "duration": 46,
    "start_time": "2022-09-06T16:18:28.771Z"
   },
   {
    "duration": 4,
    "start_time": "2022-09-06T16:18:28.819Z"
   },
   {
    "duration": 15,
    "start_time": "2022-09-06T16:18:28.825Z"
   },
   {
    "duration": 6,
    "start_time": "2022-09-06T16:18:28.841Z"
   },
   {
    "duration": 5,
    "start_time": "2022-09-06T16:18:28.848Z"
   },
   {
    "duration": 56,
    "start_time": "2022-09-06T16:18:28.854Z"
   },
   {
    "duration": 68,
    "start_time": "2022-09-06T16:18:28.911Z"
   },
   {
    "duration": 3079,
    "start_time": "2022-09-06T16:18:28.981Z"
   },
   {
    "duration": 2,
    "start_time": "2022-09-06T16:18:32.063Z"
   },
   {
    "duration": 1369,
    "start_time": "2022-09-06T16:18:32.066Z"
   },
   {
    "duration": 4,
    "start_time": "2022-09-06T16:18:33.437Z"
   },
   {
    "duration": 11,
    "start_time": "2022-09-06T16:18:33.442Z"
   },
   {
    "duration": 14,
    "start_time": "2022-09-06T16:18:33.454Z"
   },
   {
    "duration": 4,
    "start_time": "2022-09-06T16:18:33.470Z"
   },
   {
    "duration": 16,
    "start_time": "2022-09-06T16:18:33.475Z"
   },
   {
    "duration": 19,
    "start_time": "2022-09-06T16:18:33.498Z"
   },
   {
    "duration": 104,
    "start_time": "2022-09-06T16:18:33.519Z"
   },
   {
    "duration": 340,
    "start_time": "2022-09-06T16:18:33.709Z"
   },
   {
    "duration": 35,
    "start_time": "2022-09-06T16:18:34.051Z"
   },
   {
    "duration": 29,
    "start_time": "2022-09-06T16:18:34.088Z"
   },
   {
    "duration": 10,
    "start_time": "2022-09-06T16:18:34.118Z"
   },
   {
    "duration": 94261,
    "start_time": "2022-09-06T16:18:34.130Z"
   },
   {
    "duration": 722,
    "start_time": "2022-09-06T16:20:08.393Z"
   },
   {
    "duration": 91,
    "start_time": "2022-09-06T16:20:09.121Z"
   },
   {
    "duration": 1530,
    "start_time": "2022-09-06T16:20:09.214Z"
   },
   {
    "duration": 1314,
    "start_time": "2022-09-06T16:20:10.746Z"
   },
   {
    "duration": 1453,
    "start_time": "2022-09-06T16:20:12.064Z"
   },
   {
    "duration": 1496,
    "start_time": "2022-09-06T16:20:13.518Z"
   },
   {
    "duration": 1450,
    "start_time": "2022-09-06T16:20:15.015Z"
   },
   {
    "duration": 51,
    "start_time": "2022-09-06T17:11:23.857Z"
   },
   {
    "duration": 3,
    "start_time": "2022-09-06T17:18:16.823Z"
   },
   {
    "duration": 43,
    "start_time": "2022-09-06T17:18:52.831Z"
   },
   {
    "duration": 1547,
    "start_time": "2022-09-06T17:18:59.899Z"
   },
   {
    "duration": 86,
    "start_time": "2022-09-06T17:19:01.448Z"
   },
   {
    "duration": 3,
    "start_time": "2022-09-06T17:19:01.536Z"
   },
   {
    "duration": 14,
    "start_time": "2022-09-06T17:19:01.541Z"
   },
   {
    "duration": 15,
    "start_time": "2022-09-06T17:19:01.556Z"
   },
   {
    "duration": 25,
    "start_time": "2022-09-06T17:19:01.572Z"
   },
   {
    "duration": 51,
    "start_time": "2022-09-06T17:19:01.598Z"
   },
   {
    "duration": 76,
    "start_time": "2022-09-06T17:19:01.650Z"
   },
   {
    "duration": 3,
    "start_time": "2022-09-06T17:19:01.728Z"
   },
   {
    "duration": 28,
    "start_time": "2022-09-06T17:19:01.734Z"
   },
   {
    "duration": 1397,
    "start_time": "2022-09-06T17:19:01.764Z"
   },
   {
    "duration": 4,
    "start_time": "2022-09-06T17:19:03.163Z"
   },
   {
    "duration": 14,
    "start_time": "2022-09-06T17:19:03.168Z"
   },
   {
    "duration": 14,
    "start_time": "2022-09-06T17:19:03.184Z"
   },
   {
    "duration": 39,
    "start_time": "2022-09-06T17:19:03.199Z"
   },
   {
    "duration": 20,
    "start_time": "2022-09-06T17:19:03.240Z"
   },
   {
    "duration": 5,
    "start_time": "2022-09-06T17:19:03.261Z"
   },
   {
    "duration": 61,
    "start_time": "2022-09-06T17:19:03.268Z"
   },
   {
    "duration": 429,
    "start_time": "2022-09-06T17:19:03.330Z"
   },
   {
    "duration": 37,
    "start_time": "2022-09-06T17:19:03.761Z"
   },
   {
    "duration": 27,
    "start_time": "2022-09-06T17:19:03.799Z"
   },
   {
    "duration": 8,
    "start_time": "2022-09-06T17:19:03.828Z"
   },
   {
    "duration": 93672,
    "start_time": "2022-09-06T17:19:03.838Z"
   },
   {
    "duration": 797,
    "start_time": "2022-09-06T17:20:37.523Z"
   },
   {
    "duration": 96,
    "start_time": "2022-09-06T17:20:38.321Z"
   },
   {
    "duration": 1309,
    "start_time": "2022-09-06T17:20:38.418Z"
   },
   {
    "duration": 1506,
    "start_time": "2022-09-06T17:20:39.729Z"
   },
   {
    "duration": 1451,
    "start_time": "2022-09-06T17:20:41.238Z"
   },
   {
    "duration": 1336,
    "start_time": "2022-09-06T17:20:42.691Z"
   },
   {
    "duration": 1430,
    "start_time": "2022-09-06T17:20:44.028Z"
   },
   {
    "duration": 18,
    "start_time": "2022-09-06T17:21:40.024Z"
   },
   {
    "duration": 11,
    "start_time": "2022-09-06T17:21:46.676Z"
   },
   {
    "duration": 1470,
    "start_time": "2022-09-07T07:14:31.075Z"
   },
   {
    "duration": 144,
    "start_time": "2022-09-07T07:14:32.547Z"
   },
   {
    "duration": 3,
    "start_time": "2022-09-07T07:14:32.692Z"
   },
   {
    "duration": 11,
    "start_time": "2022-09-07T07:14:32.697Z"
   },
   {
    "duration": 6,
    "start_time": "2022-09-07T07:14:32.709Z"
   },
   {
    "duration": 4,
    "start_time": "2022-09-07T07:14:32.716Z"
   },
   {
    "duration": 42,
    "start_time": "2022-09-07T07:14:32.722Z"
   },
   {
    "duration": 71,
    "start_time": "2022-09-07T07:14:32.766Z"
   },
   {
    "duration": 2,
    "start_time": "2022-09-07T07:14:32.838Z"
   },
   {
    "duration": 2,
    "start_time": "2022-09-07T07:14:32.854Z"
   },
   {
    "duration": 15,
    "start_time": "2022-09-07T07:14:32.858Z"
   },
   {
    "duration": 6,
    "start_time": "2022-09-07T07:14:32.875Z"
   },
   {
    "duration": 103,
    "start_time": "2022-09-07T07:14:32.883Z"
   },
   {
    "duration": 0,
    "start_time": "2022-09-07T07:14:32.988Z"
   },
   {
    "duration": 0,
    "start_time": "2022-09-07T07:14:32.989Z"
   },
   {
    "duration": 0,
    "start_time": "2022-09-07T07:14:32.990Z"
   },
   {
    "duration": 0,
    "start_time": "2022-09-07T07:14:32.991Z"
   },
   {
    "duration": 0,
    "start_time": "2022-09-07T07:14:32.993Z"
   },
   {
    "duration": 0,
    "start_time": "2022-09-07T07:14:32.994Z"
   },
   {
    "duration": 0,
    "start_time": "2022-09-07T07:14:32.995Z"
   },
   {
    "duration": 0,
    "start_time": "2022-09-07T07:14:32.997Z"
   },
   {
    "duration": 0,
    "start_time": "2022-09-07T07:14:32.998Z"
   },
   {
    "duration": 0,
    "start_time": "2022-09-07T07:14:32.999Z"
   },
   {
    "duration": 0,
    "start_time": "2022-09-07T07:14:32.999Z"
   },
   {
    "duration": 0,
    "start_time": "2022-09-07T07:14:33.000Z"
   },
   {
    "duration": 0,
    "start_time": "2022-09-07T07:14:33.001Z"
   },
   {
    "duration": 0,
    "start_time": "2022-09-07T07:14:33.002Z"
   },
   {
    "duration": 0,
    "start_time": "2022-09-07T07:14:33.002Z"
   },
   {
    "duration": 0,
    "start_time": "2022-09-07T07:14:33.003Z"
   },
   {
    "duration": 0,
    "start_time": "2022-09-07T07:14:33.006Z"
   },
   {
    "duration": 0,
    "start_time": "2022-09-07T07:14:33.007Z"
   },
   {
    "duration": 0,
    "start_time": "2022-09-07T07:14:33.009Z"
   },
   {
    "duration": 0,
    "start_time": "2022-09-07T07:14:33.010Z"
   },
   {
    "duration": 4,
    "start_time": "2022-09-07T07:16:15.525Z"
   },
   {
    "duration": 2931,
    "start_time": "2022-09-07T07:23:51.147Z"
   },
   {
    "duration": 2495,
    "start_time": "2022-09-07T07:24:15.933Z"
   },
   {
    "duration": 2851,
    "start_time": "2022-09-07T07:25:33.193Z"
   },
   {
    "duration": 1543,
    "start_time": "2022-09-07T07:33:04.669Z"
   },
   {
    "duration": 1295,
    "start_time": "2022-09-07T07:33:29.018Z"
   },
   {
    "duration": 3978,
    "start_time": "2022-09-07T07:33:56.558Z"
   },
   {
    "duration": 4134,
    "start_time": "2022-09-07T07:34:06.295Z"
   },
   {
    "duration": 1361,
    "start_time": "2022-09-07T07:34:21.070Z"
   },
   {
    "duration": 1489,
    "start_time": "2022-09-07T07:34:45.973Z"
   },
   {
    "duration": 1452,
    "start_time": "2022-09-07T07:34:59.973Z"
   },
   {
    "duration": 1370,
    "start_time": "2022-09-07T07:35:13.220Z"
   },
   {
    "duration": 1393,
    "start_time": "2022-09-07T07:36:11.340Z"
   },
   {
    "duration": 1434,
    "start_time": "2022-09-07T07:37:51.354Z"
   },
   {
    "duration": 1807,
    "start_time": "2022-09-07T07:38:01.650Z"
   },
   {
    "duration": 1353,
    "start_time": "2022-09-07T07:39:39.504Z"
   },
   {
    "duration": 1694,
    "start_time": "2022-09-07T07:40:23.399Z"
   },
   {
    "duration": 1747,
    "start_time": "2022-09-07T07:40:45.847Z"
   },
   {
    "duration": 1623,
    "start_time": "2022-09-07T07:41:24.942Z"
   },
   {
    "duration": 1636,
    "start_time": "2022-09-07T07:41:42.621Z"
   },
   {
    "duration": 1662,
    "start_time": "2022-09-07T07:42:03.350Z"
   },
   {
    "duration": 1754,
    "start_time": "2022-09-07T07:42:35.325Z"
   },
   {
    "duration": 1652,
    "start_time": "2022-09-07T07:43:28.555Z"
   },
   {
    "duration": 1657,
    "start_time": "2022-09-07T07:43:52.803Z"
   },
   {
    "duration": 1596,
    "start_time": "2022-09-07T07:44:34.794Z"
   },
   {
    "duration": 1649,
    "start_time": "2022-09-07T07:45:23.361Z"
   },
   {
    "duration": 1686,
    "start_time": "2022-09-07T07:57:23.538Z"
   },
   {
    "duration": 15,
    "start_time": "2022-09-07T07:58:50.360Z"
   },
   {
    "duration": 327623,
    "start_time": "2022-09-07T07:58:59.969Z"
   },
   {
    "duration": 15,
    "start_time": "2022-09-07T08:04:27.595Z"
   },
   {
    "duration": 0,
    "start_time": "2022-09-07T08:04:27.612Z"
   },
   {
    "duration": 0,
    "start_time": "2022-09-07T08:04:27.614Z"
   },
   {
    "duration": 10,
    "start_time": "2022-09-07T08:04:49.441Z"
   },
   {
    "duration": 817,
    "start_time": "2022-09-07T08:04:58.553Z"
   },
   {
    "duration": 788,
    "start_time": "2022-09-07T08:05:43.814Z"
   },
   {
    "duration": 101,
    "start_time": "2022-09-07T08:06:29.143Z"
   },
   {
    "duration": 787,
    "start_time": "2022-09-07T08:06:32.983Z"
   },
   {
    "duration": 1330,
    "start_time": "2022-09-07T08:09:14.091Z"
   },
   {
    "duration": 1336,
    "start_time": "2022-09-07T08:09:22.962Z"
   },
   {
    "duration": 43,
    "start_time": "2022-09-07T08:09:24.300Z"
   },
   {
    "duration": 3,
    "start_time": "2022-09-07T08:09:24.345Z"
   },
   {
    "duration": 16,
    "start_time": "2022-09-07T08:09:24.350Z"
   },
   {
    "duration": 9,
    "start_time": "2022-09-07T08:09:24.368Z"
   },
   {
    "duration": 5,
    "start_time": "2022-09-07T08:09:24.379Z"
   },
   {
    "duration": 69,
    "start_time": "2022-09-07T08:09:24.386Z"
   },
   {
    "duration": 71,
    "start_time": "2022-09-07T08:09:24.457Z"
   },
   {
    "duration": 1725,
    "start_time": "2022-09-07T08:09:24.530Z"
   },
   {
    "duration": 899,
    "start_time": "2022-09-07T08:09:26.257Z"
   },
   {
    "duration": 1363,
    "start_time": "2022-09-07T08:09:27.158Z"
   },
   {
    "duration": 3,
    "start_time": "2022-09-07T08:09:28.523Z"
   },
   {
    "duration": 28,
    "start_time": "2022-09-07T08:09:28.528Z"
   },
   {
    "duration": 31,
    "start_time": "2022-09-07T08:09:28.559Z"
   },
   {
    "duration": 17,
    "start_time": "2022-09-07T08:09:28.592Z"
   },
   {
    "duration": 38,
    "start_time": "2022-09-07T08:09:28.611Z"
   },
   {
    "duration": 6,
    "start_time": "2022-09-07T08:09:28.651Z"
   },
   {
    "duration": 101,
    "start_time": "2022-09-07T08:09:28.658Z"
   },
   {
    "duration": 383,
    "start_time": "2022-09-07T08:09:28.763Z"
   },
   {
    "duration": 47,
    "start_time": "2022-09-07T08:09:29.148Z"
   },
   {
    "duration": 8,
    "start_time": "2022-09-07T08:09:29.197Z"
   },
   {
    "duration": 23,
    "start_time": "2022-09-07T08:09:29.207Z"
   },
   {
    "duration": 99684,
    "start_time": "2022-09-07T08:09:29.231Z"
   },
   {
    "duration": 943,
    "start_time": "2022-09-07T08:11:08.916Z"
   },
   {
    "duration": 96,
    "start_time": "2022-09-07T08:11:09.861Z"
   },
   {
    "duration": 1581,
    "start_time": "2022-09-07T08:11:09.958Z"
   },
   {
    "duration": 1419,
    "start_time": "2022-09-07T08:11:11.541Z"
   },
   {
    "duration": 1347,
    "start_time": "2022-09-07T08:11:12.962Z"
   },
   {
    "duration": 1413,
    "start_time": "2022-09-07T08:11:14.310Z"
   },
   {
    "duration": 1532,
    "start_time": "2022-09-07T08:11:15.725Z"
   },
   {
    "duration": 1478,
    "start_time": "2022-09-07T08:13:17.522Z"
   },
   {
    "duration": 1432,
    "start_time": "2022-09-07T08:17:40.268Z"
   },
   {
    "duration": 1624,
    "start_time": "2022-09-07T08:17:47.018Z"
   },
   {
    "duration": 1527,
    "start_time": "2022-09-07T08:17:56.766Z"
   },
   {
    "duration": 1498,
    "start_time": "2022-09-07T08:18:05.221Z"
   },
   {
    "duration": 150,
    "start_time": "2022-09-07T08:24:56.748Z"
   },
   {
    "duration": 1540,
    "start_time": "2022-09-07T08:25:02.053Z"
   },
   {
    "duration": 1439,
    "start_time": "2022-09-07T08:25:31.226Z"
   },
   {
    "duration": 1456,
    "start_time": "2022-09-07T08:25:42.162Z"
   },
   {
    "duration": 3,
    "start_time": "2022-09-07T08:34:15.850Z"
   },
   {
    "duration": 93,
    "start_time": "2022-09-07T08:49:32.133Z"
   },
   {
    "duration": 898,
    "start_time": "2022-09-07T08:57:02.476Z"
   },
   {
    "duration": 747,
    "start_time": "2022-09-07T08:57:33.315Z"
   },
   {
    "duration": 1037,
    "start_time": "2022-09-07T08:57:56.418Z"
   },
   {
    "duration": 783,
    "start_time": "2022-09-07T08:58:16.402Z"
   },
   {
    "duration": 832,
    "start_time": "2022-09-07T08:59:22.041Z"
   },
   {
    "duration": 767,
    "start_time": "2022-09-07T09:02:46.909Z"
   },
   {
    "duration": 106,
    "start_time": "2022-09-07T09:04:04.803Z"
   },
   {
    "duration": 842,
    "start_time": "2022-09-07T09:05:54.121Z"
   },
   {
    "duration": 680,
    "start_time": "2022-09-07T09:06:06.024Z"
   },
   {
    "duration": 11,
    "start_time": "2022-09-07T09:07:42.184Z"
   },
   {
    "duration": 749,
    "start_time": "2022-09-07T09:07:57.695Z"
   },
   {
    "duration": 930,
    "start_time": "2022-09-07T09:08:24.509Z"
   },
   {
    "duration": 16,
    "start_time": "2022-09-07T09:11:11.353Z"
   },
   {
    "duration": 947,
    "start_time": "2022-09-07T09:11:14.851Z"
   },
   {
    "duration": 2,
    "start_time": "2022-09-07T09:12:04.713Z"
   },
   {
    "duration": 2,
    "start_time": "2022-09-07T09:12:10.018Z"
   },
   {
    "duration": 2,
    "start_time": "2022-09-07T09:12:14.338Z"
   },
   {
    "duration": 2,
    "start_time": "2022-09-07T09:12:19.264Z"
   },
   {
    "duration": 3,
    "start_time": "2022-09-07T09:12:26.776Z"
   },
   {
    "duration": 909,
    "start_time": "2022-09-07T09:13:27.071Z"
   },
   {
    "duration": 1315,
    "start_time": "2022-09-07T09:14:53.309Z"
   },
   {
    "duration": 44,
    "start_time": "2022-09-07T09:14:54.626Z"
   },
   {
    "duration": 3,
    "start_time": "2022-09-07T09:14:54.672Z"
   },
   {
    "duration": 34,
    "start_time": "2022-09-07T09:14:54.677Z"
   },
   {
    "duration": 6,
    "start_time": "2022-09-07T09:14:54.712Z"
   },
   {
    "duration": 11,
    "start_time": "2022-09-07T09:14:54.720Z"
   },
   {
    "duration": 40,
    "start_time": "2022-09-07T09:14:54.733Z"
   },
   {
    "duration": 73,
    "start_time": "2022-09-07T09:14:54.775Z"
   },
   {
    "duration": 1653,
    "start_time": "2022-09-07T09:14:54.855Z"
   },
   {
    "duration": 116,
    "start_time": "2022-09-07T09:14:56.511Z"
   },
   {
    "duration": 0,
    "start_time": "2022-09-07T09:14:56.629Z"
   },
   {
    "duration": 0,
    "start_time": "2022-09-07T09:14:56.630Z"
   },
   {
    "duration": 0,
    "start_time": "2022-09-07T09:14:56.631Z"
   },
   {
    "duration": 0,
    "start_time": "2022-09-07T09:14:56.632Z"
   },
   {
    "duration": 0,
    "start_time": "2022-09-07T09:14:56.633Z"
   },
   {
    "duration": 0,
    "start_time": "2022-09-07T09:14:56.634Z"
   },
   {
    "duration": 0,
    "start_time": "2022-09-07T09:14:56.635Z"
   },
   {
    "duration": 0,
    "start_time": "2022-09-07T09:14:56.636Z"
   },
   {
    "duration": 0,
    "start_time": "2022-09-07T09:14:56.637Z"
   },
   {
    "duration": 0,
    "start_time": "2022-09-07T09:14:56.638Z"
   },
   {
    "duration": 0,
    "start_time": "2022-09-07T09:14:56.638Z"
   },
   {
    "duration": 0,
    "start_time": "2022-09-07T09:14:56.655Z"
   },
   {
    "duration": 0,
    "start_time": "2022-09-07T09:14:56.656Z"
   },
   {
    "duration": 0,
    "start_time": "2022-09-07T09:14:56.658Z"
   },
   {
    "duration": 0,
    "start_time": "2022-09-07T09:14:56.659Z"
   },
   {
    "duration": 0,
    "start_time": "2022-09-07T09:14:56.660Z"
   },
   {
    "duration": 0,
    "start_time": "2022-09-07T09:14:56.662Z"
   },
   {
    "duration": 0,
    "start_time": "2022-09-07T09:14:56.663Z"
   },
   {
    "duration": 0,
    "start_time": "2022-09-07T09:14:56.664Z"
   },
   {
    "duration": 0,
    "start_time": "2022-09-07T09:14:56.665Z"
   },
   {
    "duration": 0,
    "start_time": "2022-09-07T09:14:56.667Z"
   },
   {
    "duration": 0,
    "start_time": "2022-09-07T09:14:56.678Z"
   },
   {
    "duration": 0,
    "start_time": "2022-09-07T09:14:56.679Z"
   },
   {
    "duration": 746,
    "start_time": "2022-09-07T09:16:32.021Z"
   },
   {
    "duration": 1298,
    "start_time": "2022-09-07T09:19:08.302Z"
   },
   {
    "duration": 43,
    "start_time": "2022-09-07T09:19:09.602Z"
   },
   {
    "duration": 4,
    "start_time": "2022-09-07T09:19:09.646Z"
   },
   {
    "duration": 11,
    "start_time": "2022-09-07T09:19:09.652Z"
   },
   {
    "duration": 6,
    "start_time": "2022-09-07T09:19:09.664Z"
   },
   {
    "duration": 7,
    "start_time": "2022-09-07T09:19:09.672Z"
   },
   {
    "duration": 41,
    "start_time": "2022-09-07T09:19:09.680Z"
   },
   {
    "duration": 84,
    "start_time": "2022-09-07T09:19:09.723Z"
   },
   {
    "duration": 1723,
    "start_time": "2022-09-07T09:19:09.809Z"
   },
   {
    "duration": 769,
    "start_time": "2022-09-07T09:19:11.535Z"
   },
   {
    "duration": 1376,
    "start_time": "2022-09-07T09:19:12.306Z"
   },
   {
    "duration": 4,
    "start_time": "2022-09-07T09:19:13.684Z"
   },
   {
    "duration": 8,
    "start_time": "2022-09-07T09:19:13.689Z"
   },
   {
    "duration": 13,
    "start_time": "2022-09-07T09:19:13.699Z"
   },
   {
    "duration": 8,
    "start_time": "2022-09-07T09:19:13.713Z"
   },
   {
    "duration": 15,
    "start_time": "2022-09-07T09:19:13.723Z"
   },
   {
    "duration": 24,
    "start_time": "2022-09-07T09:19:13.740Z"
   },
   {
    "duration": 196,
    "start_time": "2022-09-07T09:19:13.766Z"
   },
   {
    "duration": 294,
    "start_time": "2022-09-07T09:19:13.964Z"
   },
   {
    "duration": 44,
    "start_time": "2022-09-07T09:19:14.259Z"
   },
   {
    "duration": 9,
    "start_time": "2022-09-07T09:19:14.305Z"
   },
   {
    "duration": 9,
    "start_time": "2022-09-07T09:19:14.315Z"
   },
   {
    "duration": 97794,
    "start_time": "2022-09-07T09:19:14.325Z"
   },
   {
    "duration": 1235,
    "start_time": "2022-09-07T09:20:52.121Z"
   },
   {
    "duration": 100,
    "start_time": "2022-09-07T09:20:53.358Z"
   },
   {
    "duration": 2,
    "start_time": "2022-09-07T09:20:53.460Z"
   },
   {
    "duration": 5,
    "start_time": "2022-09-07T09:20:53.463Z"
   },
   {
    "duration": 3,
    "start_time": "2022-09-07T09:20:53.471Z"
   },
   {
    "duration": 5,
    "start_time": "2022-09-07T09:20:53.475Z"
   },
   {
    "duration": 4,
    "start_time": "2022-09-07T09:20:53.481Z"
   },
   {
    "duration": 122,
    "start_time": "2022-09-07T09:20:53.486Z"
   },
   {
    "duration": 0,
    "start_time": "2022-09-07T09:20:53.609Z"
   },
   {
    "duration": 0,
    "start_time": "2022-09-07T09:20:53.610Z"
   },
   {
    "duration": 1011,
    "start_time": "2022-09-07T09:23:45.724Z"
   },
   {
    "duration": 1654,
    "start_time": "2022-09-07T09:24:22.427Z"
   },
   {
    "duration": 1333,
    "start_time": "2022-09-07T09:26:41.992Z"
   },
   {
    "duration": 14,
    "start_time": "2022-09-07T09:28:42.582Z"
   },
   {
    "duration": 2865,
    "start_time": "2022-09-07T09:29:10.533Z"
   },
   {
    "duration": 3028,
    "start_time": "2022-09-07T09:29:37.678Z"
   },
   {
    "duration": 2977,
    "start_time": "2022-09-07T09:30:40.988Z"
   },
   {
    "duration": 3037,
    "start_time": "2022-09-07T09:31:39.143Z"
   },
   {
    "duration": 3236,
    "start_time": "2022-09-07T09:31:45.557Z"
   },
   {
    "duration": 3034,
    "start_time": "2022-09-07T09:31:51.531Z"
   },
   {
    "duration": 3095,
    "start_time": "2022-09-07T09:31:58.581Z"
   },
   {
    "duration": 3340,
    "start_time": "2022-09-07T09:32:17.538Z"
   },
   {
    "duration": 124,
    "start_time": "2022-09-07T09:33:14.138Z"
   },
   {
    "duration": 3400,
    "start_time": "2022-09-07T09:33:17.320Z"
   },
   {
    "duration": 119,
    "start_time": "2022-09-07T09:33:32.445Z"
   },
   {
    "duration": 3225,
    "start_time": "2022-09-07T09:33:36.576Z"
   },
   {
    "duration": 850,
    "start_time": "2022-09-07T09:34:27.096Z"
   },
   {
    "duration": 3067,
    "start_time": "2022-09-07T09:34:34.038Z"
   },
   {
    "duration": 3200,
    "start_time": "2022-09-07T09:35:01.646Z"
   },
   {
    "duration": 3286,
    "start_time": "2022-09-07T09:35:15.382Z"
   },
   {
    "duration": 3170,
    "start_time": "2022-09-07T09:35:39.853Z"
   },
   {
    "duration": 16,
    "start_time": "2022-09-07T09:58:23.834Z"
   },
   {
    "duration": 8,
    "start_time": "2022-09-07T09:58:40.072Z"
   },
   {
    "duration": 9,
    "start_time": "2022-09-07T09:58:44.342Z"
   },
   {
    "duration": 14,
    "start_time": "2022-09-07T09:58:51.975Z"
   },
   {
    "duration": 10,
    "start_time": "2022-09-07T10:01:45.880Z"
   },
   {
    "duration": 38,
    "start_time": "2022-09-07T10:01:49.918Z"
   },
   {
    "duration": 12,
    "start_time": "2022-09-07T10:02:11.284Z"
   },
   {
    "duration": 11,
    "start_time": "2022-09-07T10:16:21.099Z"
   },
   {
    "duration": 168,
    "start_time": "2022-09-07T10:22:23.684Z"
   },
   {
    "duration": 1538,
    "start_time": "2022-09-07T10:25:56.045Z"
   },
   {
    "duration": 54,
    "start_time": "2022-09-07T10:25:57.585Z"
   },
   {
    "duration": 7,
    "start_time": "2022-09-07T10:25:57.641Z"
   },
   {
    "duration": 11,
    "start_time": "2022-09-07T10:25:57.649Z"
   },
   {
    "duration": 6,
    "start_time": "2022-09-07T10:25:57.661Z"
   },
   {
    "duration": 4,
    "start_time": "2022-09-07T10:25:57.668Z"
   },
   {
    "duration": 48,
    "start_time": "2022-09-07T10:25:57.673Z"
   },
   {
    "duration": 107,
    "start_time": "2022-09-07T10:25:57.723Z"
   },
   {
    "duration": 24,
    "start_time": "2022-09-07T10:25:57.832Z"
   },
   {
    "duration": 1764,
    "start_time": "2022-09-07T10:25:57.858Z"
   },
   {
    "duration": 801,
    "start_time": "2022-09-07T10:25:59.623Z"
   },
   {
    "duration": 1403,
    "start_time": "2022-09-07T10:26:00.426Z"
   },
   {
    "duration": 4,
    "start_time": "2022-09-07T10:26:01.830Z"
   },
   {
    "duration": 23,
    "start_time": "2022-09-07T10:26:01.836Z"
   },
   {
    "duration": 12,
    "start_time": "2022-09-07T10:26:01.861Z"
   },
   {
    "duration": 40,
    "start_time": "2022-09-07T10:26:01.875Z"
   },
   {
    "duration": 38,
    "start_time": "2022-09-07T10:26:01.917Z"
   },
   {
    "duration": 100,
    "start_time": "2022-09-07T10:26:01.956Z"
   },
   {
    "duration": 105,
    "start_time": "2022-09-07T10:26:02.061Z"
   },
   {
    "duration": 295,
    "start_time": "2022-09-07T10:26:02.168Z"
   },
   {
    "duration": 42,
    "start_time": "2022-09-07T10:26:02.464Z"
   },
   {
    "duration": 9,
    "start_time": "2022-09-07T10:26:02.507Z"
   },
   {
    "duration": 12,
    "start_time": "2022-09-07T10:26:02.517Z"
   },
   {
    "duration": 98270,
    "start_time": "2022-09-07T10:26:02.530Z"
   },
   {
    "duration": 1060,
    "start_time": "2022-09-07T10:27:40.802Z"
   },
   {
    "duration": 14,
    "start_time": "2022-09-07T10:27:41.954Z"
   },
   {
    "duration": 3218,
    "start_time": "2022-09-07T10:27:41.970Z"
   },
   {
    "duration": 935,
    "start_time": "2022-09-07T10:27:45.190Z"
   },
   {
    "duration": 4,
    "start_time": "2022-09-07T10:31:12.598Z"
   },
   {
    "duration": 4,
    "start_time": "2022-09-07T10:31:16.367Z"
   },
   {
    "duration": 1667,
    "start_time": "2022-09-07T12:46:28.651Z"
   },
   {
    "duration": 79,
    "start_time": "2022-09-07T12:46:30.320Z"
   },
   {
    "duration": 4,
    "start_time": "2022-09-07T12:46:30.400Z"
   },
   {
    "duration": 21,
    "start_time": "2022-09-07T12:46:30.405Z"
   },
   {
    "duration": 24,
    "start_time": "2022-09-07T12:46:30.428Z"
   },
   {
    "duration": 18,
    "start_time": "2022-09-07T12:46:30.453Z"
   },
   {
    "duration": 64,
    "start_time": "2022-09-07T12:46:30.473Z"
   },
   {
    "duration": 71,
    "start_time": "2022-09-07T12:46:30.539Z"
   },
   {
    "duration": 9,
    "start_time": "2022-09-07T12:46:30.612Z"
   },
   {
    "duration": 1726,
    "start_time": "2022-09-07T12:46:30.639Z"
   },
   {
    "duration": 787,
    "start_time": "2022-09-07T12:46:32.367Z"
   },
   {
    "duration": 1385,
    "start_time": "2022-09-07T12:46:33.156Z"
   },
   {
    "duration": 4,
    "start_time": "2022-09-07T12:46:34.543Z"
   },
   {
    "duration": 17,
    "start_time": "2022-09-07T12:46:34.548Z"
   },
   {
    "duration": 21,
    "start_time": "2022-09-07T12:46:34.566Z"
   },
   {
    "duration": 18,
    "start_time": "2022-09-07T12:46:34.589Z"
   },
   {
    "duration": 33,
    "start_time": "2022-09-07T12:46:34.608Z"
   },
   {
    "duration": 11,
    "start_time": "2022-09-07T12:46:34.643Z"
   },
   {
    "duration": 190,
    "start_time": "2022-09-07T12:46:34.655Z"
   },
   {
    "duration": 306,
    "start_time": "2022-09-07T12:46:34.848Z"
   },
   {
    "duration": 46,
    "start_time": "2022-09-07T12:46:35.156Z"
   },
   {
    "duration": 9,
    "start_time": "2022-09-07T12:46:35.204Z"
   },
   {
    "duration": 29,
    "start_time": "2022-09-07T12:46:35.214Z"
   },
   {
    "duration": 103561,
    "start_time": "2022-09-07T12:46:35.244Z"
   },
   {
    "duration": 1238,
    "start_time": "2022-09-07T12:48:18.806Z"
   },
   {
    "duration": 104,
    "start_time": "2022-09-07T12:48:20.047Z"
   },
   {
    "duration": 3319,
    "start_time": "2022-09-07T12:48:20.152Z"
   },
   {
    "duration": 976,
    "start_time": "2022-09-07T12:48:23.474Z"
   },
   {
    "duration": 261,
    "start_time": "2022-09-07T12:48:24.452Z"
   },
   {
    "duration": 283,
    "start_time": "2022-09-07T12:48:24.714Z"
   },
   {
    "duration": 710,
    "start_time": "2022-09-07T12:48:24.999Z"
   },
   {
    "duration": 742,
    "start_time": "2022-09-07T12:48:47.755Z"
   },
   {
    "duration": 648,
    "start_time": "2022-09-07T12:49:00.765Z"
   },
   {
    "duration": 843,
    "start_time": "2022-09-07T12:49:07.692Z"
   },
   {
    "duration": 838,
    "start_time": "2022-09-07T12:49:21.524Z"
   },
   {
    "duration": 461,
    "start_time": "2022-09-07T12:49:46.164Z"
   },
   {
    "duration": 10,
    "start_time": "2022-09-07T12:50:04.155Z"
   },
   {
    "duration": 9,
    "start_time": "2022-09-07T12:50:14.891Z"
   },
   {
    "duration": 19,
    "start_time": "2022-09-07T12:50:21.115Z"
   },
   {
    "duration": 772,
    "start_time": "2022-09-07T12:50:37.552Z"
   }
  ],
  "kernelspec": {
   "display_name": "Python 3 (ipykernel)",
   "language": "python",
   "name": "python3"
  },
  "language_info": {
   "codemirror_mode": {
    "name": "ipython",
    "version": 3
   },
   "file_extension": ".py",
   "mimetype": "text/x-python",
   "name": "python",
   "nbconvert_exporter": "python",
   "pygments_lexer": "ipython3",
   "version": "3.9.12"
  },
  "toc": {
   "base_numbering": 1,
   "nav_menu": {},
   "number_sections": true,
   "sideBar": true,
   "skip_h1_title": true,
   "title_cell": "Table of Contents",
   "title_sidebar": "Contents",
   "toc_cell": false,
   "toc_position": {},
   "toc_section_display": true,
   "toc_window_display": false
  }
 },
 "nbformat": 4,
 "nbformat_minor": 2
}
