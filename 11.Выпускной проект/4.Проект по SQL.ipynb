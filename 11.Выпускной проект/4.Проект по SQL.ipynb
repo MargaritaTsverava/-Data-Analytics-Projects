{
 "cells": [
  {
   "cell_type": "markdown",
   "metadata": {},
   "source": [
    "**Описание проекта**"
   ]
  },
  {
   "cell_type": "markdown",
   "metadata": {},
   "source": [
    "Коронавирус застал мир врасплох, изменив привычный порядок вещей. В свободное время жители городов больше не выходят на улицу, не посещают кафе и торговые центры. Зато стало больше времени для книг. Это заметили стартаперы — и бросились создавать приложения для тех, кто любит читать.\n",
    "\n",
    "Наша компания решила быть на волне и купила крупный сервис для чтения книг по подписке. Наша первая задача как аналитика — проанализировать базу данных.\n",
    "В ней — информация о книгах, издательствах, авторах, а также пользовательские обзоры книг. Эти данные помогут сформулировать ценностное предложение для нового продукта."
   ]
  },
  {
   "cell_type": "markdown",
   "metadata": {},
   "source": [
    "**Задачи**:\n",
    "- Посчитайте, сколько книг вышло после 1 января 2000 года;\n",
    "- Для каждой книги посчитайте количество обзоров и среднюю оценку;\n",
    "- Определите издательство, которое выпустило наибольшее число книг толще 50 страниц — так вы исключите из анализа брошюры;\n",
    "- Определите автора с самой высокой средней оценкой книг — учитывайте только книги с 50 и более оценками;\n",
    "- Посчитайте среднее количество обзоров от пользователей, которые поставили больше 50 оценок."
   ]
  },
  {
   "cell_type": "markdown",
   "metadata": {},
   "source": [
    "**Подключение к базе данных**"
   ]
  },
  {
   "cell_type": "code",
   "execution_count": 1,
   "metadata": {},
   "outputs": [],
   "source": [
    "import pandas as pd"
   ]
  },
  {
   "cell_type": "code",
   "execution_count": 2,
   "metadata": {},
   "outputs": [],
   "source": [
    "# импортируем библиотеки\n",
    "import pandas as pd\n",
    "from sqlalchemy import create_engine\n",
    "# устанавливаем параметры\n",
    "db_config = {'user': 'praktikum_student', # имя пользователя\n",
    "'pwd': 'Sdf4$2;d-d30pp', # пароль\n",
    "'host': 'rc1b-wcoijxj3yxfsf3fs.mdb.yandexcloud.net',\n",
    "'port': 6432, # порт подключения\n",
    "'db': 'data-analyst-final-project-db'} # название базы данных\n",
    "connection_string = 'postgresql://{}:{}@{}:{}/{}'.format(db_config['user'],\n",
    " db_config['pwd'],\n",
    " db_config['host'],\n",
    " db_config['port'],\n",
    " db_config['db'])\n",
    "# сохраняем коннектор\n",
    "engine = create_engine(connection_string, connect_args={'sslmode':'require'})"
   ]
  },
  {
   "cell_type": "markdown",
   "metadata": {},
   "source": [
    "**Исследование таблиц — вывести первые строки.** "
   ]
  },
  {
   "cell_type": "code",
   "execution_count": 3,
   "metadata": {},
   "outputs": [
    {
     "data": {
      "text/html": [
       "<div>\n",
       "<style scoped>\n",
       "    .dataframe tbody tr th:only-of-type {\n",
       "        vertical-align: middle;\n",
       "    }\n",
       "\n",
       "    .dataframe tbody tr th {\n",
       "        vertical-align: top;\n",
       "    }\n",
       "\n",
       "    .dataframe thead th {\n",
       "        text-align: right;\n",
       "    }\n",
       "</style>\n",
       "<table border=\"1\" class=\"dataframe\">\n",
       "  <thead>\n",
       "    <tr style=\"text-align: right;\">\n",
       "      <th></th>\n",
       "      <th>book_id</th>\n",
       "      <th>author_id</th>\n",
       "      <th>title</th>\n",
       "      <th>num_pages</th>\n",
       "      <th>publication_date</th>\n",
       "      <th>publisher_id</th>\n",
       "    </tr>\n",
       "  </thead>\n",
       "  <tbody>\n",
       "    <tr>\n",
       "      <th>0</th>\n",
       "      <td>1</td>\n",
       "      <td>546</td>\n",
       "      <td>'Salem's Lot</td>\n",
       "      <td>594</td>\n",
       "      <td>2005-11-01</td>\n",
       "      <td>93</td>\n",
       "    </tr>\n",
       "  </tbody>\n",
       "</table>\n",
       "</div>"
      ],
      "text/plain": [
       "   book_id  author_id         title  num_pages publication_date  publisher_id\n",
       "0        1        546  'Salem's Lot        594       2005-11-01            93"
      ]
     },
     "execution_count": 3,
     "metadata": {},
     "output_type": "execute_result"
    }
   ],
   "source": [
    "query = ''' SELECT * FROM books LIMIT 1'''\n",
    "books = pd.io.sql.read_sql(query, con = engine) \n",
    "books"
   ]
  },
  {
   "cell_type": "code",
   "execution_count": 4,
   "metadata": {},
   "outputs": [
    {
     "data": {
      "text/html": [
       "<div>\n",
       "<style scoped>\n",
       "    .dataframe tbody tr th:only-of-type {\n",
       "        vertical-align: middle;\n",
       "    }\n",
       "\n",
       "    .dataframe tbody tr th {\n",
       "        vertical-align: top;\n",
       "    }\n",
       "\n",
       "    .dataframe thead th {\n",
       "        text-align: right;\n",
       "    }\n",
       "</style>\n",
       "<table border=\"1\" class=\"dataframe\">\n",
       "  <thead>\n",
       "    <tr style=\"text-align: right;\">\n",
       "      <th></th>\n",
       "      <th>author_id</th>\n",
       "      <th>author</th>\n",
       "    </tr>\n",
       "  </thead>\n",
       "  <tbody>\n",
       "    <tr>\n",
       "      <th>0</th>\n",
       "      <td>1</td>\n",
       "      <td>A.S. Byatt</td>\n",
       "    </tr>\n",
       "  </tbody>\n",
       "</table>\n",
       "</div>"
      ],
      "text/plain": [
       "   author_id      author\n",
       "0          1  A.S. Byatt"
      ]
     },
     "execution_count": 4,
     "metadata": {},
     "output_type": "execute_result"
    }
   ],
   "source": [
    "query = ''' SELECT * FROM authors LIMIT 1'''\n",
    "authors = pd.io.sql.read_sql(query, con = engine) \n",
    "authors"
   ]
  },
  {
   "cell_type": "code",
   "execution_count": 5,
   "metadata": {},
   "outputs": [
    {
     "data": {
      "text/html": [
       "<div>\n",
       "<style scoped>\n",
       "    .dataframe tbody tr th:only-of-type {\n",
       "        vertical-align: middle;\n",
       "    }\n",
       "\n",
       "    .dataframe tbody tr th {\n",
       "        vertical-align: top;\n",
       "    }\n",
       "\n",
       "    .dataframe thead th {\n",
       "        text-align: right;\n",
       "    }\n",
       "</style>\n",
       "<table border=\"1\" class=\"dataframe\">\n",
       "  <thead>\n",
       "    <tr style=\"text-align: right;\">\n",
       "      <th></th>\n",
       "      <th>publisher_id</th>\n",
       "      <th>publisher</th>\n",
       "    </tr>\n",
       "  </thead>\n",
       "  <tbody>\n",
       "    <tr>\n",
       "      <th>0</th>\n",
       "      <td>1</td>\n",
       "      <td>Ace</td>\n",
       "    </tr>\n",
       "  </tbody>\n",
       "</table>\n",
       "</div>"
      ],
      "text/plain": [
       "   publisher_id publisher\n",
       "0             1       Ace"
      ]
     },
     "execution_count": 5,
     "metadata": {},
     "output_type": "execute_result"
    }
   ],
   "source": [
    "query = ''' SELECT * FROM publishers LIMIT 1'''\n",
    "publishers = pd.io.sql.read_sql(query, con = engine) \n",
    "publishers"
   ]
  },
  {
   "cell_type": "code",
   "execution_count": 6,
   "metadata": {},
   "outputs": [
    {
     "data": {
      "text/html": [
       "<div>\n",
       "<style scoped>\n",
       "    .dataframe tbody tr th:only-of-type {\n",
       "        vertical-align: middle;\n",
       "    }\n",
       "\n",
       "    .dataframe tbody tr th {\n",
       "        vertical-align: top;\n",
       "    }\n",
       "\n",
       "    .dataframe thead th {\n",
       "        text-align: right;\n",
       "    }\n",
       "</style>\n",
       "<table border=\"1\" class=\"dataframe\">\n",
       "  <thead>\n",
       "    <tr style=\"text-align: right;\">\n",
       "      <th></th>\n",
       "      <th>rating_id</th>\n",
       "      <th>book_id</th>\n",
       "      <th>username</th>\n",
       "      <th>rating</th>\n",
       "    </tr>\n",
       "  </thead>\n",
       "  <tbody>\n",
       "    <tr>\n",
       "      <th>0</th>\n",
       "      <td>1</td>\n",
       "      <td>1</td>\n",
       "      <td>ryanfranco</td>\n",
       "      <td>4</td>\n",
       "    </tr>\n",
       "  </tbody>\n",
       "</table>\n",
       "</div>"
      ],
      "text/plain": [
       "   rating_id  book_id    username  rating\n",
       "0          1        1  ryanfranco       4"
      ]
     },
     "execution_count": 6,
     "metadata": {},
     "output_type": "execute_result"
    }
   ],
   "source": [
    "query = ''' SELECT * FROM ratings LIMIT 1'''\n",
    "ratings = pd.io.sql.read_sql(query, con = engine) \n",
    "ratings"
   ]
  },
  {
   "cell_type": "code",
   "execution_count": 7,
   "metadata": {},
   "outputs": [
    {
     "data": {
      "text/html": [
       "<div>\n",
       "<style scoped>\n",
       "    .dataframe tbody tr th:only-of-type {\n",
       "        vertical-align: middle;\n",
       "    }\n",
       "\n",
       "    .dataframe tbody tr th {\n",
       "        vertical-align: top;\n",
       "    }\n",
       "\n",
       "    .dataframe thead th {\n",
       "        text-align: right;\n",
       "    }\n",
       "</style>\n",
       "<table border=\"1\" class=\"dataframe\">\n",
       "  <thead>\n",
       "    <tr style=\"text-align: right;\">\n",
       "      <th></th>\n",
       "      <th>review_id</th>\n",
       "      <th>book_id</th>\n",
       "      <th>username</th>\n",
       "      <th>text</th>\n",
       "    </tr>\n",
       "  </thead>\n",
       "  <tbody>\n",
       "    <tr>\n",
       "      <th>0</th>\n",
       "      <td>1</td>\n",
       "      <td>1</td>\n",
       "      <td>brandtandrea</td>\n",
       "      <td>Mention society tell send professor analysis. ...</td>\n",
       "    </tr>\n",
       "  </tbody>\n",
       "</table>\n",
       "</div>"
      ],
      "text/plain": [
       "   review_id  book_id      username  \\\n",
       "0          1        1  brandtandrea   \n",
       "\n",
       "                                                text  \n",
       "0  Mention society tell send professor analysis. ...  "
      ]
     },
     "execution_count": 7,
     "metadata": {},
     "output_type": "execute_result"
    }
   ],
   "source": [
    "query = ''' SELECT * FROM reviews LIMIT 1'''\n",
    "reviews = pd.io.sql.read_sql(query, con = engine) \n",
    "reviews"
   ]
  },
  {
   "cell_type": "markdown",
   "metadata": {},
   "source": [
    "**Выполнение задач**"
   ]
  },
  {
   "cell_type": "markdown",
   "metadata": {},
   "source": [
    "**1. Посчитайте, сколько книг вышло после 1 января 2000 года.**"
   ]
  },
  {
   "cell_type": "code",
   "execution_count": 8,
   "metadata": {},
   "outputs": [
    {
     "data": {
      "text/html": [
       "<div>\n",
       "<style scoped>\n",
       "    .dataframe tbody tr th:only-of-type {\n",
       "        vertical-align: middle;\n",
       "    }\n",
       "\n",
       "    .dataframe tbody tr th {\n",
       "        vertical-align: top;\n",
       "    }\n",
       "\n",
       "    .dataframe thead th {\n",
       "        text-align: right;\n",
       "    }\n",
       "</style>\n",
       "<table border=\"1\" class=\"dataframe\">\n",
       "  <thead>\n",
       "    <tr style=\"text-align: right;\">\n",
       "      <th></th>\n",
       "      <th>count</th>\n",
       "    </tr>\n",
       "  </thead>\n",
       "  <tbody>\n",
       "    <tr>\n",
       "      <th>0</th>\n",
       "      <td>819</td>\n",
       "    </tr>\n",
       "  </tbody>\n",
       "</table>\n",
       "</div>"
      ],
      "text/plain": [
       "   count\n",
       "0    819"
      ]
     },
     "execution_count": 8,
     "metadata": {},
     "output_type": "execute_result"
    }
   ],
   "source": [
    "query = ''' \n",
    "SELECT COUNT(book_id) \n",
    "  FROM books \n",
    " WHERE publication_date > '2000-01-01' \n",
    " '''\n",
    "books1 = pd.io.sql.read_sql(query, con = engine) \n",
    "books1"
   ]
  },
  {
   "cell_type": "markdown",
   "metadata": {},
   "source": [
    "После 1 января 2000 года вышло 819 книг. "
   ]
  },
  {
   "cell_type": "markdown",
   "metadata": {},
   "source": [
    "**2. Для каждой книги посчитайте количество обзоров и среднюю оценку.**"
   ]
  },
  {
   "cell_type": "code",
   "execution_count": 9,
   "metadata": {},
   "outputs": [
    {
     "data": {
      "text/html": [
       "<div>\n",
       "<style scoped>\n",
       "    .dataframe tbody tr th:only-of-type {\n",
       "        vertical-align: middle;\n",
       "    }\n",
       "\n",
       "    .dataframe tbody tr th {\n",
       "        vertical-align: top;\n",
       "    }\n",
       "\n",
       "    .dataframe thead th {\n",
       "        text-align: right;\n",
       "    }\n",
       "</style>\n",
       "<table border=\"1\" class=\"dataframe\">\n",
       "  <thead>\n",
       "    <tr style=\"text-align: right;\">\n",
       "      <th></th>\n",
       "      <th>title</th>\n",
       "      <th>count_reviews</th>\n",
       "      <th>avg_ratings</th>\n",
       "    </tr>\n",
       "  </thead>\n",
       "  <tbody>\n",
       "    <tr>\n",
       "      <th>0</th>\n",
       "      <td>The Natural Way to Draw</td>\n",
       "      <td>0</td>\n",
       "      <td>3.000000</td>\n",
       "    </tr>\n",
       "    <tr>\n",
       "      <th>1</th>\n",
       "      <td>Anne Rice's The Vampire Lestat: A Graphic Novel</td>\n",
       "      <td>0</td>\n",
       "      <td>3.666667</td>\n",
       "    </tr>\n",
       "    <tr>\n",
       "      <th>2</th>\n",
       "      <td>Leonardo's Notebooks</td>\n",
       "      <td>0</td>\n",
       "      <td>4.000000</td>\n",
       "    </tr>\n",
       "    <tr>\n",
       "      <th>3</th>\n",
       "      <td>Essential Tales and Poems</td>\n",
       "      <td>0</td>\n",
       "      <td>4.000000</td>\n",
       "    </tr>\n",
       "    <tr>\n",
       "      <th>4</th>\n",
       "      <td>Disney's Beauty and the Beast (A Little Golden...</td>\n",
       "      <td>0</td>\n",
       "      <td>4.000000</td>\n",
       "    </tr>\n",
       "    <tr>\n",
       "      <th>...</th>\n",
       "      <td>...</td>\n",
       "      <td>...</td>\n",
       "      <td>...</td>\n",
       "    </tr>\n",
       "    <tr>\n",
       "      <th>995</th>\n",
       "      <td>The Glass Castle</td>\n",
       "      <td>6</td>\n",
       "      <td>4.206897</td>\n",
       "    </tr>\n",
       "    <tr>\n",
       "      <th>996</th>\n",
       "      <td>The Book Thief</td>\n",
       "      <td>6</td>\n",
       "      <td>4.264151</td>\n",
       "    </tr>\n",
       "    <tr>\n",
       "      <th>997</th>\n",
       "      <td>Harry Potter and the Chamber of Secrets (Harry...</td>\n",
       "      <td>6</td>\n",
       "      <td>4.287500</td>\n",
       "    </tr>\n",
       "    <tr>\n",
       "      <th>998</th>\n",
       "      <td>Harry Potter and the Prisoner of Azkaban (Harr...</td>\n",
       "      <td>6</td>\n",
       "      <td>4.414634</td>\n",
       "    </tr>\n",
       "    <tr>\n",
       "      <th>999</th>\n",
       "      <td>Twilight (Twilight  #1)</td>\n",
       "      <td>7</td>\n",
       "      <td>3.662500</td>\n",
       "    </tr>\n",
       "  </tbody>\n",
       "</table>\n",
       "<p>1000 rows × 3 columns</p>\n",
       "</div>"
      ],
      "text/plain": [
       "                                                 title  count_reviews  \\\n",
       "0                              The Natural Way to Draw              0   \n",
       "1      Anne Rice's The Vampire Lestat: A Graphic Novel              0   \n",
       "2                                 Leonardo's Notebooks              0   \n",
       "3                            Essential Tales and Poems              0   \n",
       "4    Disney's Beauty and the Beast (A Little Golden...              0   \n",
       "..                                                 ...            ...   \n",
       "995                                   The Glass Castle              6   \n",
       "996                                     The Book Thief              6   \n",
       "997  Harry Potter and the Chamber of Secrets (Harry...              6   \n",
       "998  Harry Potter and the Prisoner of Azkaban (Harr...              6   \n",
       "999                            Twilight (Twilight  #1)              7   \n",
       "\n",
       "     avg_ratings  \n",
       "0       3.000000  \n",
       "1       3.666667  \n",
       "2       4.000000  \n",
       "3       4.000000  \n",
       "4       4.000000  \n",
       "..           ...  \n",
       "995     4.206897  \n",
       "996     4.264151  \n",
       "997     4.287500  \n",
       "998     4.414634  \n",
       "999     3.662500  \n",
       "\n",
       "[1000 rows x 3 columns]"
      ]
     },
     "execution_count": 9,
     "metadata": {},
     "output_type": "execute_result"
    }
   ],
   "source": [
    "query = '''\n",
    "with \n",
    "a as \n",
    "(\n",
    "SELECT books.book_id\n",
    "     , books.title\n",
    "     , COUNT(reviews.review_id) AS count_reviews\n",
    "  FROM books \n",
    "LEFT JOIN reviews \n",
    "    ON books.book_id = reviews.book_id\n",
    "GROUP BY(books.book_id, books.title)), \n",
    "\n",
    "b as \n",
    "(\n",
    "SELECT books.book_id\n",
    "     , books.title\n",
    "     , AVG(ratings.rating) AS avg_ratings\n",
    "  FROM books \n",
    "LEFT JOIN ratings \n",
    "    ON books.book_id = ratings.book_id\n",
    "GROUP BY(books.book_id, books.title))\n",
    "\n",
    "SELECT a.title\n",
    "     , a.count_reviews\n",
    "     , b.avg_ratings\n",
    "  FROM a\n",
    "INNER JOIN b on a.book_id = b.book_id \n",
    "ORDER BY a.count_reviews, avg_ratings\n",
    "'''\n",
    "\n",
    "books2 = pd.io.sql.read_sql(query, con = engine)\n",
    "books2"
   ]
  },
  {
   "cell_type": "markdown",
   "metadata": {},
   "source": [
    "Для каждой книги мы посчитали количество обзоров и среднюю оценку. Самое большое количество обзоров (7 штук) у книги Twilight (Twilight #1).\n",
    "Для книги с нулевым количеством обзоров минимальный средний рейтинг 3.0.\n",
    "Для книги с максимальным количеством обзоров максимальный средний рейтинг 3.6."
   ]
  },
  {
   "cell_type": "markdown",
   "metadata": {},
   "source": [
    "**3. Определите издательство, которое выпустило наибольшее число книг толще 50 страниц — так вы исключите из анализа брошюры.**"
   ]
  },
  {
   "cell_type": "code",
   "execution_count": 10,
   "metadata": {},
   "outputs": [
    {
     "data": {
      "text/html": [
       "<div>\n",
       "<style scoped>\n",
       "    .dataframe tbody tr th:only-of-type {\n",
       "        vertical-align: middle;\n",
       "    }\n",
       "\n",
       "    .dataframe tbody tr th {\n",
       "        vertical-align: top;\n",
       "    }\n",
       "\n",
       "    .dataframe thead th {\n",
       "        text-align: right;\n",
       "    }\n",
       "</style>\n",
       "<table border=\"1\" class=\"dataframe\">\n",
       "  <thead>\n",
       "    <tr style=\"text-align: right;\">\n",
       "      <th></th>\n",
       "      <th>publisher_id</th>\n",
       "      <th>publisher</th>\n",
       "      <th>max_count_books</th>\n",
       "    </tr>\n",
       "  </thead>\n",
       "  <tbody>\n",
       "    <tr>\n",
       "      <th>0</th>\n",
       "      <td>212</td>\n",
       "      <td>Penguin Books</td>\n",
       "      <td>42</td>\n",
       "    </tr>\n",
       "  </tbody>\n",
       "</table>\n",
       "</div>"
      ],
      "text/plain": [
       "   publisher_id      publisher  max_count_books\n",
       "0           212  Penguin Books               42"
      ]
     },
     "execution_count": 10,
     "metadata": {},
     "output_type": "execute_result"
    }
   ],
   "source": [
    "query = ''' \n",
    "with a \n",
    "as\n",
    "(\n",
    "SELECT publishers.publisher_id\n",
    "     , publisher\n",
    "     , COUNT(book_id) AS count_books\n",
    "  FROM books \n",
    "INNER JOIN publishers \n",
    "    ON books.publisher_id = publishers.publisher_id \n",
    "WHERE num_pages > 50\n",
    "GROUP BY publisher, publishers.publisher_id)\n",
    "\n",
    ", b as\n",
    "(\n",
    "SELECT max(count_books) as max_count_books\n",
    "  FROM a\n",
    ")\n",
    "  \n",
    "SELECT a.publisher_id\n",
    "     , a.publisher\n",
    "     , b.max_count_books\n",
    "  FROM a \n",
    "INNER JOIN b\n",
    "    ON 1=1\n",
    "WHERE a.count_books = b.max_count_books\n",
    "'''\n",
    "books3 = pd.io.sql.read_sql(query, con = engine) \n",
    "books3"
   ]
  },
  {
   "cell_type": "markdown",
   "metadata": {},
   "source": [
    "Издательство, которое выпустило наибольшее число книг толще 50 страниц -- Penguin Books."
   ]
  },
  {
   "cell_type": "markdown",
   "metadata": {},
   "source": [
    "**4. Определите автора с самой высокой средней оценкой книг — учитывайте только книги с 50 и более оценками.**"
   ]
  },
  {
   "cell_type": "code",
   "execution_count": 11,
   "metadata": {},
   "outputs": [
    {
     "data": {
      "text/html": [
       "<div>\n",
       "<style scoped>\n",
       "    .dataframe tbody tr th:only-of-type {\n",
       "        vertical-align: middle;\n",
       "    }\n",
       "\n",
       "    .dataframe tbody tr th {\n",
       "        vertical-align: top;\n",
       "    }\n",
       "\n",
       "    .dataframe thead th {\n",
       "        text-align: right;\n",
       "    }\n",
       "</style>\n",
       "<table border=\"1\" class=\"dataframe\">\n",
       "  <thead>\n",
       "    <tr style=\"text-align: right;\">\n",
       "      <th></th>\n",
       "      <th>author_id</th>\n",
       "      <th>author</th>\n",
       "      <th>max_rating</th>\n",
       "    </tr>\n",
       "  </thead>\n",
       "  <tbody>\n",
       "    <tr>\n",
       "      <th>0</th>\n",
       "      <td>236</td>\n",
       "      <td>J.K. Rowling/Mary GrandPré</td>\n",
       "      <td>4.288462</td>\n",
       "    </tr>\n",
       "  </tbody>\n",
       "</table>\n",
       "</div>"
      ],
      "text/plain": [
       "   author_id                      author  max_rating\n",
       "0        236  J.K. Rowling/Mary GrandPré    4.288462"
      ]
     },
     "execution_count": 11,
     "metadata": {},
     "output_type": "execute_result"
    }
   ],
   "source": [
    "query = ''' \n",
    "with a \n",
    "as\n",
    "(\n",
    "SELECT authors.author_id\n",
    "     , author\n",
    "     , AVG(rating) AS avg_rating\n",
    " FROM books \n",
    "LEFT JOIN ratings \n",
    "   ON books.book_id = ratings.book_id \n",
    "LEFT JOIN authors \n",
    "   ON books.author_id = authors.author_id \n",
    "GROUP BY authors.author_id, author\n",
    "HAVING COUNT(rating) > 50\n",
    ")\n",
    "\n",
    ", b as\n",
    "(\n",
    "SELECT max(avg_rating) as max_rating\n",
    "  FROM a\n",
    ")\n",
    "\n",
    "SELECT a.author_id\n",
    "     , a.author\n",
    "     , b.max_rating\n",
    "  FROM a\n",
    "INNER JOIN b\n",
    "    on 1 = 1\n",
    " WHERE a.avg_rating = b.max_rating\n",
    "'''\n",
    "books4 = pd.io.sql.read_sql(query, con = engine) \n",
    "books4"
   ]
  },
  {
   "cell_type": "markdown",
   "metadata": {},
   "source": [
    "Автор с самой высокой средней оценкой книг (учитывая только книги с 50 и более оценками) -- J.K. Rowling/Mary GrandPré. "
   ]
  },
  {
   "cell_type": "markdown",
   "metadata": {},
   "source": [
    "**5. Посчитайте среднее количество обзоров от пользователей, которые поставили больше 50 оценок.**"
   ]
  },
  {
   "cell_type": "code",
   "execution_count": 12,
   "metadata": {},
   "outputs": [
    {
     "data": {
      "text/html": [
       "<div>\n",
       "<style scoped>\n",
       "    .dataframe tbody tr th:only-of-type {\n",
       "        vertical-align: middle;\n",
       "    }\n",
       "\n",
       "    .dataframe tbody tr th {\n",
       "        vertical-align: top;\n",
       "    }\n",
       "\n",
       "    .dataframe thead th {\n",
       "        text-align: right;\n",
       "    }\n",
       "</style>\n",
       "<table border=\"1\" class=\"dataframe\">\n",
       "  <thead>\n",
       "    <tr style=\"text-align: right;\">\n",
       "      <th></th>\n",
       "      <th>avg</th>\n",
       "    </tr>\n",
       "  </thead>\n",
       "  <tbody>\n",
       "    <tr>\n",
       "      <th>0</th>\n",
       "      <td>24.333333</td>\n",
       "    </tr>\n",
       "  </tbody>\n",
       "</table>\n",
       "</div>"
      ],
      "text/plain": [
       "         avg\n",
       "0  24.333333"
      ]
     },
     "execution_count": 12,
     "metadata": {},
     "output_type": "execute_result"
    }
   ],
   "source": [
    "query = ''' \n",
    "with \n",
    "a as \n",
    "(\n",
    "SELECT username, COUNT(rating) AS count_rating\n",
    "  FROM ratings \n",
    "GROUP BY username\n",
    "HAVING COUNT(rating) > 50\n",
    ")\n",
    "\n",
    ",b as\n",
    "(\n",
    "SELECT reviews.username\n",
    "     , count(review_id) as review_count\n",
    "  FROM reviews\n",
    "INNER JOIN a on a.username = reviews.username\n",
    "GROUP BY reviews.username\n",
    ")\n",
    "\n",
    "SELECT avg(review_count)\n",
    "FROM b\n",
    "'''\n",
    "\n",
    "books5 = pd.io.sql.read_sql(query, con = engine)\n",
    "books5"
   ]
  },
  {
   "cell_type": "markdown",
   "metadata": {},
   "source": [
    "Среднее количество обзоров от пользователей, которые поставили больше 50 оценок -- 24.33."
   ]
  },
  {
   "cell_type": "markdown",
   "metadata": {},
   "source": [
    "В условиях изоляции из-за коронавируса люди стали реже выходить из дома, но стали больше читать. В связи с этим наша компания решила купила крупный сервис для чтения книг по подписке. Нашей задачей было проанализировали базу данных. Наши действия: \n",
    "- Мы исследовали базу данных, вывели первую строку из всех таблиц;\n",
    "- Выяснили сколько книг вышло после 1 января 2000 года (их 819);\n",
    "- Для каждой книги посчитали количество обзоров и среднюю оценку. Выяснили, что самое большое количество обзоров (7 штук) у книги Twilight (Twilight #1). Для книги с нулевым количеством обзоров минимальный средний рейтинг 3.0. Для книги с максимальным количеством обзоров максимальный средний рейтинг 3.6.\n",
    "- Определили издательство, которое выпустило наибольшее число книг толще 50 страниц (издательство Penguin Books);\n",
    "- Определили автора с самой высокой средней оценкой книг, учитывая только книги с 50 и более оценками (автор -- J.K. Rowling/Mary GrandPré).\n",
    "- Посчитали среднее количество обзоров от пользователей, которые поставили больше 50 оценок (среднее количество обзоров -- 24.3)."
   ]
  }
 ],
 "metadata": {
  "ExecuteTimeLog": [
   {
    "duration": 4,
    "start_time": "2022-09-30T08:52:19.254Z"
   },
   {
    "duration": 406,
    "start_time": "2022-09-30T08:52:19.261Z"
   },
   {
    "duration": 14578,
    "start_time": "2022-09-30T08:52:19.669Z"
   },
   {
    "duration": 351,
    "start_time": "2022-09-30T08:52:34.248Z"
   },
   {
    "duration": 111,
    "start_time": "2022-09-30T08:52:34.602Z"
   },
   {
    "duration": 116,
    "start_time": "2022-09-30T08:52:34.715Z"
   },
   {
    "duration": 107,
    "start_time": "2022-09-30T08:52:34.832Z"
   },
   {
    "duration": 112,
    "start_time": "2022-09-30T08:52:34.941Z"
   },
   {
    "duration": 103,
    "start_time": "2022-09-30T08:52:35.055Z"
   },
   {
    "duration": 171,
    "start_time": "2022-09-30T08:52:35.160Z"
   },
   {
    "duration": 103,
    "start_time": "2022-09-30T08:52:35.333Z"
   },
   {
    "duration": 107,
    "start_time": "2022-09-30T08:52:35.438Z"
   },
   {
    "duration": 111,
    "start_time": "2022-09-30T08:52:35.548Z"
   },
   {
    "duration": 437,
    "start_time": "2022-09-30T08:52:50.431Z"
   },
   {
    "duration": 13897,
    "start_time": "2022-09-30T08:52:50.869Z"
   },
   {
    "duration": 380,
    "start_time": "2022-09-30T08:53:04.768Z"
   },
   {
    "duration": 110,
    "start_time": "2022-09-30T08:53:05.150Z"
   },
   {
    "duration": 103,
    "start_time": "2022-09-30T08:53:05.263Z"
   },
   {
    "duration": 96,
    "start_time": "2022-09-30T08:53:05.368Z"
   },
   {
    "duration": 146,
    "start_time": "2022-09-30T08:53:05.466Z"
   },
   {
    "duration": 105,
    "start_time": "2022-09-30T08:53:05.614Z"
   },
   {
    "duration": 137,
    "start_time": "2022-09-30T08:53:05.720Z"
   },
   {
    "duration": 113,
    "start_time": "2022-09-30T08:53:05.859Z"
   },
   {
    "duration": 112,
    "start_time": "2022-09-30T08:53:05.973Z"
   },
   {
    "duration": 132,
    "start_time": "2022-09-30T08:53:06.086Z"
   },
   {
    "duration": 413,
    "start_time": "2022-09-30T09:11:45.895Z"
   },
   {
    "duration": 15036,
    "start_time": "2022-09-30T09:11:46.310Z"
   },
   {
    "duration": 324,
    "start_time": "2022-09-30T09:12:01.347Z"
   },
   {
    "duration": 93,
    "start_time": "2022-09-30T09:12:01.672Z"
   },
   {
    "duration": 84,
    "start_time": "2022-09-30T09:12:01.768Z"
   },
   {
    "duration": 84,
    "start_time": "2022-09-30T09:12:01.854Z"
   },
   {
    "duration": 93,
    "start_time": "2022-09-30T09:12:01.939Z"
   },
   {
    "duration": 95,
    "start_time": "2022-09-30T09:12:02.034Z"
   },
   {
    "duration": 135,
    "start_time": "2022-09-30T09:12:02.131Z"
   },
   {
    "duration": 91,
    "start_time": "2022-09-30T09:12:02.267Z"
   },
   {
    "duration": 101,
    "start_time": "2022-09-30T09:12:02.359Z"
   },
   {
    "duration": 91,
    "start_time": "2022-09-30T09:12:02.462Z"
   },
   {
    "duration": 370,
    "start_time": "2022-09-30T09:29:57.946Z"
   },
   {
    "duration": 12280,
    "start_time": "2022-09-30T09:29:58.318Z"
   },
   {
    "duration": 305,
    "start_time": "2022-09-30T09:30:10.602Z"
   },
   {
    "duration": 86,
    "start_time": "2022-09-30T09:30:10.909Z"
   },
   {
    "duration": 120,
    "start_time": "2022-09-30T09:30:10.997Z"
   },
   {
    "duration": 92,
    "start_time": "2022-09-30T09:30:11.119Z"
   },
   {
    "duration": 96,
    "start_time": "2022-09-30T09:30:11.213Z"
   },
   {
    "duration": 97,
    "start_time": "2022-09-30T09:30:11.310Z"
   },
   {
    "duration": 131,
    "start_time": "2022-09-30T09:30:11.409Z"
   },
   {
    "duration": 109,
    "start_time": "2022-09-30T09:30:11.542Z"
   },
   {
    "duration": 100,
    "start_time": "2022-09-30T09:30:11.653Z"
   },
   {
    "duration": 104,
    "start_time": "2022-09-30T09:30:11.755Z"
   },
   {
    "duration": 460,
    "start_time": "2022-09-30T10:30:46.788Z"
   },
   {
    "duration": 9575,
    "start_time": "2022-09-30T10:30:47.250Z"
   },
   {
    "duration": 337,
    "start_time": "2022-09-30T10:30:56.827Z"
   },
   {
    "duration": 100,
    "start_time": "2022-09-30T10:30:57.166Z"
   },
   {
    "duration": 84,
    "start_time": "2022-09-30T10:30:57.269Z"
   },
   {
    "duration": 101,
    "start_time": "2022-09-30T10:30:57.355Z"
   },
   {
    "duration": 112,
    "start_time": "2022-09-30T10:30:57.458Z"
   },
   {
    "duration": 91,
    "start_time": "2022-09-30T10:30:57.572Z"
   },
   {
    "duration": 127,
    "start_time": "2022-09-30T10:30:57.665Z"
   },
   {
    "duration": 128,
    "start_time": "2022-09-30T10:30:57.799Z"
   },
   {
    "duration": 112,
    "start_time": "2022-09-30T10:30:57.929Z"
   },
   {
    "duration": 109,
    "start_time": "2022-09-30T10:30:58.043Z"
   }
  ],
  "kernelspec": {
   "display_name": "Python 3 (ipykernel)",
   "language": "python",
   "name": "python3"
  },
  "language_info": {
   "codemirror_mode": {
    "name": "ipython",
    "version": 3
   },
   "file_extension": ".py",
   "mimetype": "text/x-python",
   "name": "python",
   "nbconvert_exporter": "python",
   "pygments_lexer": "ipython3",
   "version": "3.9.12"
  },
  "toc": {
   "base_numbering": 1,
   "nav_menu": {},
   "number_sections": true,
   "sideBar": true,
   "skip_h1_title": true,
   "title_cell": "Table of Contents",
   "title_sidebar": "Contents",
   "toc_cell": false,
   "toc_position": {},
   "toc_section_display": true,
   "toc_window_display": false
  }
 },
 "nbformat": 4,
 "nbformat_minor": 2
}
