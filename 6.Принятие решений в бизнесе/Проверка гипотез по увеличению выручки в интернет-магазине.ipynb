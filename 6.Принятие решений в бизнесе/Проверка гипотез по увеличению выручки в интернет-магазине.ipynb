{
 "cells": [
  {
   "cell_type": "markdown",
   "metadata": {},
   "source": [
    "# Проверка гипотез по увеличению выручки в интернет-магазине"
   ]
  },
  {
   "cell_type": "markdown",
   "metadata": {},
   "source": [
    "**Описание проекта:** \n",
    "\n",
    "В нашем распоряжении данные интернет-магазине. Наша задача проверить ряд гипотез, при которых интернет-магазин сможет увеличить свою выручку. Для этого нам необходимо  приоритизировать гипотезы, запустить A/B-тест и проанализировать результаты."
   ]
  },
  {
   "cell_type": "markdown",
   "metadata": {},
   "source": [
    "## Шаг 1. Обзор данных"
   ]
  },
  {
   "cell_type": "markdown",
   "metadata": {},
   "source": [
    "Импортируем необходимые библиотеки."
   ]
  },
  {
   "cell_type": "code",
   "execution_count": 1,
   "metadata": {},
   "outputs": [],
   "source": [
    "import pandas as pd\n",
    "import datetime as dt\n",
    "import numpy as np\n",
    "import matplotlib.pyplot as plt\n",
    "import scipy.stats as stats"
   ]
  },
  {
   "cell_type": "markdown",
   "metadata": {},
   "source": [
    "Для обзора данных воспользуемся методами head(), info() и describe()."
   ]
  },
  {
   "cell_type": "code",
   "execution_count": 2,
   "metadata": {},
   "outputs": [
    {
     "data": {
      "text/html": [
       "<div>\n",
       "<style scoped>\n",
       "    .dataframe tbody tr th:only-of-type {\n",
       "        vertical-align: middle;\n",
       "    }\n",
       "\n",
       "    .dataframe tbody tr th {\n",
       "        vertical-align: top;\n",
       "    }\n",
       "\n",
       "    .dataframe thead th {\n",
       "        text-align: right;\n",
       "    }\n",
       "</style>\n",
       "<table border=\"1\" class=\"dataframe\">\n",
       "  <thead>\n",
       "    <tr style=\"text-align: right;\">\n",
       "      <th></th>\n",
       "      <th>Hypothesis</th>\n",
       "      <th>Reach</th>\n",
       "      <th>Impact</th>\n",
       "      <th>Confidence</th>\n",
       "      <th>Efforts</th>\n",
       "    </tr>\n",
       "  </thead>\n",
       "  <tbody>\n",
       "    <tr>\n",
       "      <th>0</th>\n",
       "      <td>Добавить два новых канала привлечения трафика,...</td>\n",
       "      <td>3</td>\n",
       "      <td>10</td>\n",
       "      <td>8</td>\n",
       "      <td>6</td>\n",
       "    </tr>\n",
       "    <tr>\n",
       "      <th>1</th>\n",
       "      <td>Запустить собственную службу доставки, что сок...</td>\n",
       "      <td>2</td>\n",
       "      <td>5</td>\n",
       "      <td>4</td>\n",
       "      <td>10</td>\n",
       "    </tr>\n",
       "    <tr>\n",
       "      <th>2</th>\n",
       "      <td>Добавить блоки рекомендаций товаров на сайт ин...</td>\n",
       "      <td>8</td>\n",
       "      <td>3</td>\n",
       "      <td>7</td>\n",
       "      <td>3</td>\n",
       "    </tr>\n",
       "    <tr>\n",
       "      <th>3</th>\n",
       "      <td>Изменить структура категорий, что увеличит кон...</td>\n",
       "      <td>8</td>\n",
       "      <td>3</td>\n",
       "      <td>3</td>\n",
       "      <td>8</td>\n",
       "    </tr>\n",
       "    <tr>\n",
       "      <th>4</th>\n",
       "      <td>Изменить цвет фона главной страницы, чтобы уве...</td>\n",
       "      <td>3</td>\n",
       "      <td>1</td>\n",
       "      <td>1</td>\n",
       "      <td>1</td>\n",
       "    </tr>\n",
       "    <tr>\n",
       "      <th>5</th>\n",
       "      <td>Добавить страницу отзывов клиентов о магазине,...</td>\n",
       "      <td>3</td>\n",
       "      <td>2</td>\n",
       "      <td>2</td>\n",
       "      <td>3</td>\n",
       "    </tr>\n",
       "    <tr>\n",
       "      <th>6</th>\n",
       "      <td>Показать на главной странице баннеры с актуаль...</td>\n",
       "      <td>5</td>\n",
       "      <td>3</td>\n",
       "      <td>8</td>\n",
       "      <td>3</td>\n",
       "    </tr>\n",
       "    <tr>\n",
       "      <th>7</th>\n",
       "      <td>Добавить форму подписки на все основные страни...</td>\n",
       "      <td>10</td>\n",
       "      <td>7</td>\n",
       "      <td>8</td>\n",
       "      <td>5</td>\n",
       "    </tr>\n",
       "    <tr>\n",
       "      <th>8</th>\n",
       "      <td>Запустить акцию, дающую скидку на товар в день...</td>\n",
       "      <td>1</td>\n",
       "      <td>9</td>\n",
       "      <td>9</td>\n",
       "      <td>5</td>\n",
       "    </tr>\n",
       "  </tbody>\n",
       "</table>\n",
       "</div>"
      ],
      "text/plain": [
       "                                          Hypothesis  Reach  Impact  \\\n",
       "0  Добавить два новых канала привлечения трафика,...      3      10   \n",
       "1  Запустить собственную службу доставки, что сок...      2       5   \n",
       "2  Добавить блоки рекомендаций товаров на сайт ин...      8       3   \n",
       "3  Изменить структура категорий, что увеличит кон...      8       3   \n",
       "4  Изменить цвет фона главной страницы, чтобы уве...      3       1   \n",
       "5  Добавить страницу отзывов клиентов о магазине,...      3       2   \n",
       "6  Показать на главной странице баннеры с актуаль...      5       3   \n",
       "7  Добавить форму подписки на все основные страни...     10       7   \n",
       "8  Запустить акцию, дающую скидку на товар в день...      1       9   \n",
       "\n",
       "   Confidence  Efforts  \n",
       "0           8        6  \n",
       "1           4       10  \n",
       "2           7        3  \n",
       "3           3        8  \n",
       "4           1        1  \n",
       "5           2        3  \n",
       "6           8        3  \n",
       "7           8        5  \n",
       "8           9        5  "
      ]
     },
     "metadata": {},
     "output_type": "display_data"
    },
    {
     "name": "stdout",
     "output_type": "stream",
     "text": [
      "<class 'pandas.core.frame.DataFrame'>\n",
      "RangeIndex: 9 entries, 0 to 8\n",
      "Data columns (total 5 columns):\n",
      " #   Column      Non-Null Count  Dtype \n",
      "---  ------      --------------  ----- \n",
      " 0   Hypothesis  9 non-null      object\n",
      " 1   Reach       9 non-null      int64 \n",
      " 2   Impact      9 non-null      int64 \n",
      " 3   Confidence  9 non-null      int64 \n",
      " 4   Efforts     9 non-null      int64 \n",
      "dtypes: int64(4), object(1)\n",
      "memory usage: 488.0+ bytes\n"
     ]
    },
    {
     "data": {
      "text/plain": [
       "None"
      ]
     },
     "metadata": {},
     "output_type": "display_data"
    },
    {
     "data": {
      "text/html": [
       "<div>\n",
       "<style scoped>\n",
       "    .dataframe tbody tr th:only-of-type {\n",
       "        vertical-align: middle;\n",
       "    }\n",
       "\n",
       "    .dataframe tbody tr th {\n",
       "        vertical-align: top;\n",
       "    }\n",
       "\n",
       "    .dataframe thead th {\n",
       "        text-align: right;\n",
       "    }\n",
       "</style>\n",
       "<table border=\"1\" class=\"dataframe\">\n",
       "  <thead>\n",
       "    <tr style=\"text-align: right;\">\n",
       "      <th></th>\n",
       "      <th>Reach</th>\n",
       "      <th>Impact</th>\n",
       "      <th>Confidence</th>\n",
       "      <th>Efforts</th>\n",
       "    </tr>\n",
       "  </thead>\n",
       "  <tbody>\n",
       "    <tr>\n",
       "      <th>count</th>\n",
       "      <td>9.000000</td>\n",
       "      <td>9.000000</td>\n",
       "      <td>9.000000</td>\n",
       "      <td>9.000000</td>\n",
       "    </tr>\n",
       "    <tr>\n",
       "      <th>mean</th>\n",
       "      <td>4.777778</td>\n",
       "      <td>4.777778</td>\n",
       "      <td>5.555556</td>\n",
       "      <td>4.888889</td>\n",
       "    </tr>\n",
       "    <tr>\n",
       "      <th>std</th>\n",
       "      <td>3.153481</td>\n",
       "      <td>3.192874</td>\n",
       "      <td>3.045944</td>\n",
       "      <td>2.803767</td>\n",
       "    </tr>\n",
       "    <tr>\n",
       "      <th>min</th>\n",
       "      <td>1.000000</td>\n",
       "      <td>1.000000</td>\n",
       "      <td>1.000000</td>\n",
       "      <td>1.000000</td>\n",
       "    </tr>\n",
       "    <tr>\n",
       "      <th>25%</th>\n",
       "      <td>3.000000</td>\n",
       "      <td>3.000000</td>\n",
       "      <td>3.000000</td>\n",
       "      <td>3.000000</td>\n",
       "    </tr>\n",
       "    <tr>\n",
       "      <th>50%</th>\n",
       "      <td>3.000000</td>\n",
       "      <td>3.000000</td>\n",
       "      <td>7.000000</td>\n",
       "      <td>5.000000</td>\n",
       "    </tr>\n",
       "    <tr>\n",
       "      <th>75%</th>\n",
       "      <td>8.000000</td>\n",
       "      <td>7.000000</td>\n",
       "      <td>8.000000</td>\n",
       "      <td>6.000000</td>\n",
       "    </tr>\n",
       "    <tr>\n",
       "      <th>max</th>\n",
       "      <td>10.000000</td>\n",
       "      <td>10.000000</td>\n",
       "      <td>9.000000</td>\n",
       "      <td>10.000000</td>\n",
       "    </tr>\n",
       "  </tbody>\n",
       "</table>\n",
       "</div>"
      ],
      "text/plain": [
       "           Reach     Impact  Confidence    Efforts\n",
       "count   9.000000   9.000000    9.000000   9.000000\n",
       "mean    4.777778   4.777778    5.555556   4.888889\n",
       "std     3.153481   3.192874    3.045944   2.803767\n",
       "min     1.000000   1.000000    1.000000   1.000000\n",
       "25%     3.000000   3.000000    3.000000   3.000000\n",
       "50%     3.000000   3.000000    7.000000   5.000000\n",
       "75%     8.000000   7.000000    8.000000   6.000000\n",
       "max    10.000000  10.000000    9.000000  10.000000"
      ]
     },
     "execution_count": 2,
     "metadata": {},
     "output_type": "execute_result"
    }
   ],
   "source": [
    "hypothesis = pd.read_csv('hypothesis.csv')\n",
    "display(hypothesis.head(10))\n",
    "display(hypothesis.info())\n",
    "hypothesis.describe()"
   ]
  },
  {
   "cell_type": "code",
   "execution_count": 3,
   "metadata": {},
   "outputs": [
    {
     "data": {
      "text/html": [
       "<div>\n",
       "<style scoped>\n",
       "    .dataframe tbody tr th:only-of-type {\n",
       "        vertical-align: middle;\n",
       "    }\n",
       "\n",
       "    .dataframe tbody tr th {\n",
       "        vertical-align: top;\n",
       "    }\n",
       "\n",
       "    .dataframe thead th {\n",
       "        text-align: right;\n",
       "    }\n",
       "</style>\n",
       "<table border=\"1\" class=\"dataframe\">\n",
       "  <thead>\n",
       "    <tr style=\"text-align: right;\">\n",
       "      <th></th>\n",
       "      <th>transactionId</th>\n",
       "      <th>visitorId</th>\n",
       "      <th>date</th>\n",
       "      <th>revenue</th>\n",
       "      <th>group</th>\n",
       "    </tr>\n",
       "  </thead>\n",
       "  <tbody>\n",
       "    <tr>\n",
       "      <th>0</th>\n",
       "      <td>3667963787</td>\n",
       "      <td>3312258926</td>\n",
       "      <td>2019-08-15</td>\n",
       "      <td>1650</td>\n",
       "      <td>B</td>\n",
       "    </tr>\n",
       "    <tr>\n",
       "      <th>1</th>\n",
       "      <td>2804400009</td>\n",
       "      <td>3642806036</td>\n",
       "      <td>2019-08-15</td>\n",
       "      <td>730</td>\n",
       "      <td>B</td>\n",
       "    </tr>\n",
       "    <tr>\n",
       "      <th>2</th>\n",
       "      <td>2961555356</td>\n",
       "      <td>4069496402</td>\n",
       "      <td>2019-08-15</td>\n",
       "      <td>400</td>\n",
       "      <td>A</td>\n",
       "    </tr>\n",
       "    <tr>\n",
       "      <th>3</th>\n",
       "      <td>3797467345</td>\n",
       "      <td>1196621759</td>\n",
       "      <td>2019-08-15</td>\n",
       "      <td>9759</td>\n",
       "      <td>B</td>\n",
       "    </tr>\n",
       "    <tr>\n",
       "      <th>4</th>\n",
       "      <td>2282983706</td>\n",
       "      <td>2322279887</td>\n",
       "      <td>2019-08-15</td>\n",
       "      <td>2308</td>\n",
       "      <td>B</td>\n",
       "    </tr>\n",
       "  </tbody>\n",
       "</table>\n",
       "</div>"
      ],
      "text/plain": [
       "   transactionId   visitorId        date  revenue group\n",
       "0     3667963787  3312258926  2019-08-15     1650     B\n",
       "1     2804400009  3642806036  2019-08-15      730     B\n",
       "2     2961555356  4069496402  2019-08-15      400     A\n",
       "3     3797467345  1196621759  2019-08-15     9759     B\n",
       "4     2282983706  2322279887  2019-08-15     2308     B"
      ]
     },
     "metadata": {},
     "output_type": "display_data"
    },
    {
     "name": "stdout",
     "output_type": "stream",
     "text": [
      "<class 'pandas.core.frame.DataFrame'>\n",
      "RangeIndex: 1197 entries, 0 to 1196\n",
      "Data columns (total 5 columns):\n",
      " #   Column         Non-Null Count  Dtype \n",
      "---  ------         --------------  ----- \n",
      " 0   transactionId  1197 non-null   int64 \n",
      " 1   visitorId      1197 non-null   int64 \n",
      " 2   date           1197 non-null   object\n",
      " 3   revenue        1197 non-null   int64 \n",
      " 4   group          1197 non-null   object\n",
      "dtypes: int64(3), object(2)\n",
      "memory usage: 46.9+ KB\n"
     ]
    },
    {
     "data": {
      "text/plain": [
       "None"
      ]
     },
     "metadata": {},
     "output_type": "display_data"
    },
    {
     "data": {
      "text/plain": [
       "count    1.197000e+03\n",
       "mean     8.348006e+03\n",
       "std      3.919113e+04\n",
       "min      5.000000e+01\n",
       "25%      1.220000e+03\n",
       "50%      2.978000e+03\n",
       "75%      8.290000e+03\n",
       "max      1.294500e+06\n",
       "Name: revenue, dtype: float64"
      ]
     },
     "execution_count": 3,
     "metadata": {},
     "output_type": "execute_result"
    }
   ],
   "source": [
    "orders = pd.read_csv('orders.csv')\n",
    "display(orders.head())\n",
    "display(orders.info())\n",
    "orders['revenue'].describe()"
   ]
  },
  {
   "cell_type": "code",
   "execution_count": 4,
   "metadata": {},
   "outputs": [
    {
     "data": {
      "text/html": [
       "<div>\n",
       "<style scoped>\n",
       "    .dataframe tbody tr th:only-of-type {\n",
       "        vertical-align: middle;\n",
       "    }\n",
       "\n",
       "    .dataframe tbody tr th {\n",
       "        vertical-align: top;\n",
       "    }\n",
       "\n",
       "    .dataframe thead th {\n",
       "        text-align: right;\n",
       "    }\n",
       "</style>\n",
       "<table border=\"1\" class=\"dataframe\">\n",
       "  <thead>\n",
       "    <tr style=\"text-align: right;\">\n",
       "      <th></th>\n",
       "      <th>date</th>\n",
       "      <th>group</th>\n",
       "      <th>visitors</th>\n",
       "    </tr>\n",
       "  </thead>\n",
       "  <tbody>\n",
       "    <tr>\n",
       "      <th>0</th>\n",
       "      <td>2019-08-01</td>\n",
       "      <td>A</td>\n",
       "      <td>719</td>\n",
       "    </tr>\n",
       "    <tr>\n",
       "      <th>1</th>\n",
       "      <td>2019-08-02</td>\n",
       "      <td>A</td>\n",
       "      <td>619</td>\n",
       "    </tr>\n",
       "    <tr>\n",
       "      <th>2</th>\n",
       "      <td>2019-08-03</td>\n",
       "      <td>A</td>\n",
       "      <td>507</td>\n",
       "    </tr>\n",
       "    <tr>\n",
       "      <th>3</th>\n",
       "      <td>2019-08-04</td>\n",
       "      <td>A</td>\n",
       "      <td>717</td>\n",
       "    </tr>\n",
       "    <tr>\n",
       "      <th>4</th>\n",
       "      <td>2019-08-05</td>\n",
       "      <td>A</td>\n",
       "      <td>756</td>\n",
       "    </tr>\n",
       "  </tbody>\n",
       "</table>\n",
       "</div>"
      ],
      "text/plain": [
       "         date group  visitors\n",
       "0  2019-08-01     A       719\n",
       "1  2019-08-02     A       619\n",
       "2  2019-08-03     A       507\n",
       "3  2019-08-04     A       717\n",
       "4  2019-08-05     A       756"
      ]
     },
     "metadata": {},
     "output_type": "display_data"
    },
    {
     "name": "stdout",
     "output_type": "stream",
     "text": [
      "<class 'pandas.core.frame.DataFrame'>\n",
      "RangeIndex: 62 entries, 0 to 61\n",
      "Data columns (total 3 columns):\n",
      " #   Column    Non-Null Count  Dtype \n",
      "---  ------    --------------  ----- \n",
      " 0   date      62 non-null     object\n",
      " 1   group     62 non-null     object\n",
      " 2   visitors  62 non-null     int64 \n",
      "dtypes: int64(1), object(2)\n",
      "memory usage: 1.6+ KB\n"
     ]
    }
   ],
   "source": [
    "visitors = pd.read_csv('visitors.csv')\n",
    "display(visitors.head())\n",
    "visitors.info()"
   ]
  },
  {
   "cell_type": "markdown",
   "metadata": {},
   "source": [
    "**Вывод:** \n",
    "\n",
    "В данных встречаются следующие проблем:\n",
    "\n",
    "* Местами указан некорректный тип данных;\n",
    "* Разные регистры в названиях колонок;\n",
    "* Возможно присутствуют дубликаты.\n",
    "\n",
    "Это только первоначальные наблюдения. Проведем подробную предобработку данных, чтобы выявить все аномалии."
   ]
  },
  {
   "cell_type": "markdown",
   "metadata": {},
   "source": [
    "## Шаг 2. Предобработка данных"
   ]
  },
  {
   "cell_type": "markdown",
   "metadata": {},
   "source": [
    "1. Изменим типы данных в необходимых колонках."
   ]
  },
  {
   "cell_type": "code",
   "execution_count": 5,
   "metadata": {},
   "outputs": [],
   "source": [
    "orders['date'] = orders['date'].map(lambda x: dt.datetime.strptime(x, '%Y-%m-%d'))"
   ]
  },
  {
   "cell_type": "code",
   "execution_count": 6,
   "metadata": {},
   "outputs": [],
   "source": [
    "visitors['date'] = visitors['date'].map(lambda x: dt.datetime.strptime(x, '%Y-%m-%d'))"
   ]
  },
  {
   "cell_type": "markdown",
   "metadata": {},
   "source": [
    "2. Приведем названия колонок к нижнему регистру."
   ]
  },
  {
   "cell_type": "code",
   "execution_count": 7,
   "metadata": {},
   "outputs": [
    {
     "data": {
      "text/plain": [
       "Index(['hypothesis', 'reach', 'impact', 'confidence', 'efforts'], dtype='object')"
      ]
     },
     "execution_count": 7,
     "metadata": {},
     "output_type": "execute_result"
    }
   ],
   "source": [
    "hypothesis.columns = hypothesis.columns.str.lower()\n",
    "hypothesis.rename(columns = {'Hypothesis': 'hypothesis','Reach' : 'reach', 'Impact' : 'impact', \n",
    "                             'Confidence' : 'confidence', 'Efforts' : 'efforts'}, inplace = True)\n",
    "hypothesis.columns"
   ]
  },
  {
   "cell_type": "markdown",
   "metadata": {},
   "source": [
    "3. Проверим таблицы на наличие дубликатов."
   ]
  },
  {
   "cell_type": "code",
   "execution_count": 8,
   "metadata": {},
   "outputs": [
    {
     "data": {
      "text/plain": [
       "0"
      ]
     },
     "metadata": {},
     "output_type": "display_data"
    },
    {
     "data": {
      "text/plain": [
       "0"
      ]
     },
     "metadata": {},
     "output_type": "display_data"
    },
    {
     "data": {
      "text/plain": [
       "0"
      ]
     },
     "metadata": {},
     "output_type": "display_data"
    }
   ],
   "source": [
    "display(orders.duplicated().sum())\n",
    "display(visitors.duplicated().sum())\n",
    "display(hypothesis.duplicated().sum())"
   ]
  },
  {
   "cell_type": "markdown",
   "metadata": {},
   "source": [
    "Данные подготовлены к анализу."
   ]
  },
  {
   "cell_type": "markdown",
   "metadata": {},
   "source": [
    "## Шаг 2. Приоритизация гипотез"
   ]
  },
  {
   "cell_type": "markdown",
   "metadata": {},
   "source": [
    "Применим фреймворк ICE для приоритизации гипотез. Результат отсортируем по убыванию приоритета. "
   ]
  },
  {
   "cell_type": "code",
   "execution_count": 9,
   "metadata": {},
   "outputs": [],
   "source": [
    "# для того, чтобы гипотезы отобразились целиком используем параметр: \n",
    "\n",
    "pd.options.display.max_colwidth = 120 "
   ]
  },
  {
   "cell_type": "code",
   "execution_count": 10,
   "metadata": {},
   "outputs": [
    {
     "data": {
      "text/html": [
       "<div>\n",
       "<style scoped>\n",
       "    .dataframe tbody tr th:only-of-type {\n",
       "        vertical-align: middle;\n",
       "    }\n",
       "\n",
       "    .dataframe tbody tr th {\n",
       "        vertical-align: top;\n",
       "    }\n",
       "\n",
       "    .dataframe thead th {\n",
       "        text-align: right;\n",
       "    }\n",
       "</style>\n",
       "<table border=\"1\" class=\"dataframe\">\n",
       "  <thead>\n",
       "    <tr style=\"text-align: right;\">\n",
       "      <th></th>\n",
       "      <th>hypothesis</th>\n",
       "      <th>ICE</th>\n",
       "    </tr>\n",
       "  </thead>\n",
       "  <tbody>\n",
       "    <tr>\n",
       "      <th>8</th>\n",
       "      <td>Запустить акцию, дающую скидку на товар в день рождения</td>\n",
       "      <td>16.200000</td>\n",
       "    </tr>\n",
       "    <tr>\n",
       "      <th>0</th>\n",
       "      <td>Добавить два новых канала привлечения трафика, что позволит привлекать на 30% больше пользователей</td>\n",
       "      <td>13.333333</td>\n",
       "    </tr>\n",
       "    <tr>\n",
       "      <th>7</th>\n",
       "      <td>Добавить форму подписки на все основные страницы, чтобы собрать базу клиентов для email-рассылок</td>\n",
       "      <td>11.200000</td>\n",
       "    </tr>\n",
       "    <tr>\n",
       "      <th>6</th>\n",
       "      <td>Показать на главной странице баннеры с актуальными акциями и распродажами, чтобы увеличить конверсию</td>\n",
       "      <td>8.000000</td>\n",
       "    </tr>\n",
       "    <tr>\n",
       "      <th>2</th>\n",
       "      <td>Добавить блоки рекомендаций товаров на сайт интернет магазина, чтобы повысить конверсию и средний чек заказа</td>\n",
       "      <td>7.000000</td>\n",
       "    </tr>\n",
       "    <tr>\n",
       "      <th>1</th>\n",
       "      <td>Запустить собственную службу доставки, что сократит срок доставки заказов</td>\n",
       "      <td>2.000000</td>\n",
       "    </tr>\n",
       "    <tr>\n",
       "      <th>5</th>\n",
       "      <td>Добавить страницу отзывов клиентов о магазине, что позволит увеличить количество заказов</td>\n",
       "      <td>1.333333</td>\n",
       "    </tr>\n",
       "    <tr>\n",
       "      <th>3</th>\n",
       "      <td>Изменить структура категорий, что увеличит конверсию, т.к. пользователи быстрее найдут нужный товар</td>\n",
       "      <td>1.125000</td>\n",
       "    </tr>\n",
       "    <tr>\n",
       "      <th>4</th>\n",
       "      <td>Изменить цвет фона главной страницы, чтобы увеличить вовлеченность пользователей</td>\n",
       "      <td>1.000000</td>\n",
       "    </tr>\n",
       "  </tbody>\n",
       "</table>\n",
       "</div>"
      ],
      "text/plain": [
       "                                                                                                     hypothesis  \\\n",
       "8                                                       Запустить акцию, дающую скидку на товар в день рождения   \n",
       "0            Добавить два новых канала привлечения трафика, что позволит привлекать на 30% больше пользователей   \n",
       "7              Добавить форму подписки на все основные страницы, чтобы собрать базу клиентов для email-рассылок   \n",
       "6          Показать на главной странице баннеры с актуальными акциями и распродажами, чтобы увеличить конверсию   \n",
       "2  Добавить блоки рекомендаций товаров на сайт интернет магазина, чтобы повысить конверсию и средний чек заказа   \n",
       "1                                     Запустить собственную службу доставки, что сократит срок доставки заказов   \n",
       "5                      Добавить страницу отзывов клиентов о магазине, что позволит увеличить количество заказов   \n",
       "3           Изменить структура категорий, что увеличит конверсию, т.к. пользователи быстрее найдут нужный товар   \n",
       "4                              Изменить цвет фона главной страницы, чтобы увеличить вовлеченность пользователей   \n",
       "\n",
       "         ICE  \n",
       "8  16.200000  \n",
       "0  13.333333  \n",
       "7  11.200000  \n",
       "6   8.000000  \n",
       "2   7.000000  \n",
       "1   2.000000  \n",
       "5   1.333333  \n",
       "3   1.125000  \n",
       "4   1.000000  "
      ]
     },
     "execution_count": 10,
     "metadata": {},
     "output_type": "execute_result"
    }
   ],
   "source": [
    "hypothesis['ICE'] = (hypothesis['impact'] * hypothesis['confidence']) / hypothesis['efforts']\n",
    "hypothesis[['hypothesis', 'ICE']].sort_values(by='ICE', ascending=False)"
   ]
  },
  {
   "cell_type": "markdown",
   "metadata": {},
   "source": [
    "Наиболее перспективные гипотезы по ICE это гипотезы с индексами 8, 0, 7, 6, 2"
   ]
  },
  {
   "cell_type": "markdown",
   "metadata": {},
   "source": [
    "Применим фреймворк RICE для приоритизации гипотез. Результат отсортируем по убыванию приоритета. "
   ]
  },
  {
   "cell_type": "code",
   "execution_count": 11,
   "metadata": {},
   "outputs": [
    {
     "data": {
      "text/html": [
       "<div>\n",
       "<style scoped>\n",
       "    .dataframe tbody tr th:only-of-type {\n",
       "        vertical-align: middle;\n",
       "    }\n",
       "\n",
       "    .dataframe tbody tr th {\n",
       "        vertical-align: top;\n",
       "    }\n",
       "\n",
       "    .dataframe thead th {\n",
       "        text-align: right;\n",
       "    }\n",
       "</style>\n",
       "<table border=\"1\" class=\"dataframe\">\n",
       "  <thead>\n",
       "    <tr style=\"text-align: right;\">\n",
       "      <th></th>\n",
       "      <th>hypothesis</th>\n",
       "      <th>RICE</th>\n",
       "    </tr>\n",
       "  </thead>\n",
       "  <tbody>\n",
       "    <tr>\n",
       "      <th>7</th>\n",
       "      <td>Добавить форму подписки на все основные страницы, чтобы собрать базу клиентов для email-рассылок</td>\n",
       "      <td>112.0</td>\n",
       "    </tr>\n",
       "    <tr>\n",
       "      <th>2</th>\n",
       "      <td>Добавить блоки рекомендаций товаров на сайт интернет магазина, чтобы повысить конверсию и средний чек заказа</td>\n",
       "      <td>56.0</td>\n",
       "    </tr>\n",
       "    <tr>\n",
       "      <th>0</th>\n",
       "      <td>Добавить два новых канала привлечения трафика, что позволит привлекать на 30% больше пользователей</td>\n",
       "      <td>40.0</td>\n",
       "    </tr>\n",
       "    <tr>\n",
       "      <th>6</th>\n",
       "      <td>Показать на главной странице баннеры с актуальными акциями и распродажами, чтобы увеличить конверсию</td>\n",
       "      <td>40.0</td>\n",
       "    </tr>\n",
       "    <tr>\n",
       "      <th>8</th>\n",
       "      <td>Запустить акцию, дающую скидку на товар в день рождения</td>\n",
       "      <td>16.2</td>\n",
       "    </tr>\n",
       "    <tr>\n",
       "      <th>3</th>\n",
       "      <td>Изменить структура категорий, что увеличит конверсию, т.к. пользователи быстрее найдут нужный товар</td>\n",
       "      <td>9.0</td>\n",
       "    </tr>\n",
       "    <tr>\n",
       "      <th>1</th>\n",
       "      <td>Запустить собственную службу доставки, что сократит срок доставки заказов</td>\n",
       "      <td>4.0</td>\n",
       "    </tr>\n",
       "    <tr>\n",
       "      <th>5</th>\n",
       "      <td>Добавить страницу отзывов клиентов о магазине, что позволит увеличить количество заказов</td>\n",
       "      <td>4.0</td>\n",
       "    </tr>\n",
       "    <tr>\n",
       "      <th>4</th>\n",
       "      <td>Изменить цвет фона главной страницы, чтобы увеличить вовлеченность пользователей</td>\n",
       "      <td>3.0</td>\n",
       "    </tr>\n",
       "  </tbody>\n",
       "</table>\n",
       "</div>"
      ],
      "text/plain": [
       "                                                                                                     hypothesis  \\\n",
       "7              Добавить форму подписки на все основные страницы, чтобы собрать базу клиентов для email-рассылок   \n",
       "2  Добавить блоки рекомендаций товаров на сайт интернет магазина, чтобы повысить конверсию и средний чек заказа   \n",
       "0            Добавить два новых канала привлечения трафика, что позволит привлекать на 30% больше пользователей   \n",
       "6          Показать на главной странице баннеры с актуальными акциями и распродажами, чтобы увеличить конверсию   \n",
       "8                                                       Запустить акцию, дающую скидку на товар в день рождения   \n",
       "3           Изменить структура категорий, что увеличит конверсию, т.к. пользователи быстрее найдут нужный товар   \n",
       "1                                     Запустить собственную службу доставки, что сократит срок доставки заказов   \n",
       "5                      Добавить страницу отзывов клиентов о магазине, что позволит увеличить количество заказов   \n",
       "4                              Изменить цвет фона главной страницы, чтобы увеличить вовлеченность пользователей   \n",
       "\n",
       "    RICE  \n",
       "7  112.0  \n",
       "2   56.0  \n",
       "0   40.0  \n",
       "6   40.0  \n",
       "8   16.2  \n",
       "3    9.0  \n",
       "1    4.0  \n",
       "5    4.0  \n",
       "4    3.0  "
      ]
     },
     "execution_count": 11,
     "metadata": {},
     "output_type": "execute_result"
    }
   ],
   "source": [
    "hypothesis['RICE'] = (hypothesis['reach'] * hypothesis['impact'] * hypothesis['confidence']) / hypothesis['efforts']\n",
    "pd.options.display.max_colwidth = 120\n",
    "hypothesis[['hypothesis', 'RICE']].sort_values(by='RICE', ascending = False)"
   ]
  },
  {
   "cell_type": "markdown",
   "metadata": {},
   "source": [
    "Наиболее перспективные гипотезы по ICE это гипотезы с индексами 7, 2, 0, 6, 8."
   ]
  },
  {
   "cell_type": "markdown",
   "metadata": {},
   "source": [
    "**Вывод**:\n",
    "Мы подсчитали ICE и RICE для 9 гипотез. В обоих случаях наиболее перспективными стали гипотезы с индексами 0, 2, 6, 7, 8. Однако при подсчете ICE на первом месте оказалась гипотеза 9, а при подсчете RICE на первое место вышла гипотеза 8. Это произошло из-за того, что параметр reach (количество пользователей которых затронет изменения) у гипотезы 8 больше, чем у других гипотез (10 против 8, 3, 5 и 1). "
   ]
  },
  {
   "cell_type": "markdown",
   "metadata": {},
   "source": [
    "## Шаг 3. Анализ A/B-теста"
   ]
  },
  {
   "cell_type": "markdown",
   "metadata": {},
   "source": [
    "Перед началом анализа обозначим важные факты:\n",
    "* В тесте участвуют 2 группы - A и B;\n",
    "* Дата начала теста - 2019-08-01, дата окончания теста - 2019-08-31;\n",
    "* В группе А участвуют 31 пользователь, в группе В их 30;\n",
    "* В таблице есть пользователи попавшие в обе группы. "
   ]
  },
  {
   "cell_type": "markdown",
   "metadata": {},
   "source": [
    "Определим пользователей входящих в обе группы. "
   ]
  },
  {
   "cell_type": "code",
   "execution_count": 12,
   "metadata": {
    "scrolled": true
   },
   "outputs": [
    {
     "data": {
      "text/plain": [
       "2          8300375\n",
       "44       199603092\n",
       "51       232979603\n",
       "55       237748145\n",
       "66       276558944\n",
       "84       351125977\n",
       "97       393266494\n",
       "114      457167155\n",
       "119      471551937\n",
       "122      477780734\n",
       "192      818047933\n",
       "236      963407295\n",
       "299     1230306981\n",
       "311     1294878855\n",
       "316     1316129916\n",
       "318     1333886533\n",
       "340     1404934699\n",
       "386     1602967004\n",
       "393     1614305549\n",
       "402     1648269707\n",
       "406     1668030113\n",
       "422     1738359350\n",
       "436     1801183820\n",
       "469     1959144690\n",
       "487     2038680547\n",
       "491     2044997962\n",
       "569     2378935119\n",
       "591     2458001652\n",
       "614     2579882178\n",
       "619     2587333274\n",
       "622     2600415354\n",
       "639     2654030115\n",
       "648     2686716486\n",
       "661     2712142231\n",
       "662     2716752286\n",
       "677     2780786433\n",
       "710     2927087541\n",
       "715     2949041841\n",
       "718     2954449915\n",
       "744     3062433592\n",
       "784     3202540741\n",
       "792     3234906277\n",
       "884     3656415546\n",
       "897     3717692402\n",
       "909     3766097110\n",
       "917     3803269165\n",
       "932     3891541246\n",
       "950     3941795274\n",
       "954     3951559397\n",
       "957     3957174400\n",
       "958     3963646447\n",
       "960     3972127743\n",
       "963     3984495233\n",
       "984     4069496402\n",
       "992     4120364173\n",
       "1009    4186807279\n",
       "1023    4256040402\n",
       "1026    4266935830\n",
       "Name: visitorId, dtype: int64"
      ]
     },
     "execution_count": 12,
     "metadata": {},
     "output_type": "execute_result"
    }
   ],
   "source": [
    "orders.groupby('visitorId').agg({'group' : 'nunique'}).reset_index().query('group>1')['visitorId']"
   ]
  },
  {
   "cell_type": "markdown",
   "metadata": {},
   "source": [
    "Перед проведением анализа A/B-теста необходимо собрать кумулятивные данные. Для начала создадим массив уникальных пар значений дат и групп теста. "
   ]
  },
  {
   "cell_type": "code",
   "execution_count": 13,
   "metadata": {},
   "outputs": [
    {
     "data": {
      "text/html": [
       "<div>\n",
       "<style scoped>\n",
       "    .dataframe tbody tr th:only-of-type {\n",
       "        vertical-align: middle;\n",
       "    }\n",
       "\n",
       "    .dataframe tbody tr th {\n",
       "        vertical-align: top;\n",
       "    }\n",
       "\n",
       "    .dataframe thead th {\n",
       "        text-align: right;\n",
       "    }\n",
       "</style>\n",
       "<table border=\"1\" class=\"dataframe\">\n",
       "  <thead>\n",
       "    <tr style=\"text-align: right;\">\n",
       "      <th></th>\n",
       "      <th>date</th>\n",
       "      <th>group</th>\n",
       "    </tr>\n",
       "  </thead>\n",
       "  <tbody>\n",
       "    <tr>\n",
       "      <th>0</th>\n",
       "      <td>2019-08-15</td>\n",
       "      <td>B</td>\n",
       "    </tr>\n",
       "    <tr>\n",
       "      <th>2</th>\n",
       "      <td>2019-08-15</td>\n",
       "      <td>A</td>\n",
       "    </tr>\n",
       "    <tr>\n",
       "      <th>45</th>\n",
       "      <td>2019-08-16</td>\n",
       "      <td>A</td>\n",
       "    </tr>\n",
       "    <tr>\n",
       "      <th>47</th>\n",
       "      <td>2019-08-16</td>\n",
       "      <td>B</td>\n",
       "    </tr>\n",
       "    <tr>\n",
       "      <th>55</th>\n",
       "      <td>2019-08-01</td>\n",
       "      <td>A</td>\n",
       "    </tr>\n",
       "    <tr>\n",
       "      <th>66</th>\n",
       "      <td>2019-08-01</td>\n",
       "      <td>B</td>\n",
       "    </tr>\n",
       "  </tbody>\n",
       "</table>\n",
       "</div>"
      ],
      "text/plain": [
       "         date group\n",
       "0  2019-08-15     B\n",
       "2  2019-08-15     A\n",
       "45 2019-08-16     A\n",
       "47 2019-08-16     B\n",
       "55 2019-08-01     A\n",
       "66 2019-08-01     B"
      ]
     },
     "execution_count": 13,
     "metadata": {},
     "output_type": "execute_result"
    }
   ],
   "source": [
    "datesGroups = orders[['date','group']].drop_duplicates() \n",
    "datesGroups.head(6)"
   ]
  },
  {
   "cell_type": "markdown",
   "metadata": {},
   "source": [
    "Объявим переменную ordersAggregated. Она будет содержать агрегированные кумулятивные по дням данные о заказах. "
   ]
  },
  {
   "cell_type": "code",
   "execution_count": 14,
   "metadata": {},
   "outputs": [],
   "source": [
    "ordersAggregated = datesGroups.apply(\n",
    "    lambda x: orders[np.logical_and(orders['date'] <= x['date'], orders['group'] == x['group'])]\n",
    "    .agg({'date':'max', 'group':'max', 'transactionId' : 'nunique', 'visitorId' : 'nunique', 'revenue' : 'sum'}), \n",
    "    axis=1).sort_values(by=['date', 'group'])"
   ]
  },
  {
   "cell_type": "code",
   "execution_count": 15,
   "metadata": {},
   "outputs": [
    {
     "data": {
      "text/html": [
       "<div>\n",
       "<style scoped>\n",
       "    .dataframe tbody tr th:only-of-type {\n",
       "        vertical-align: middle;\n",
       "    }\n",
       "\n",
       "    .dataframe tbody tr th {\n",
       "        vertical-align: top;\n",
       "    }\n",
       "\n",
       "    .dataframe thead th {\n",
       "        text-align: right;\n",
       "    }\n",
       "</style>\n",
       "<table border=\"1\" class=\"dataframe\">\n",
       "  <thead>\n",
       "    <tr style=\"text-align: right;\">\n",
       "      <th></th>\n",
       "      <th>date</th>\n",
       "      <th>group</th>\n",
       "      <th>transactionId</th>\n",
       "      <th>visitorId</th>\n",
       "      <th>revenue</th>\n",
       "    </tr>\n",
       "  </thead>\n",
       "  <tbody>\n",
       "    <tr>\n",
       "      <th>55</th>\n",
       "      <td>2019-08-01</td>\n",
       "      <td>A</td>\n",
       "      <td>24</td>\n",
       "      <td>20</td>\n",
       "      <td>148579</td>\n",
       "    </tr>\n",
       "    <tr>\n",
       "      <th>66</th>\n",
       "      <td>2019-08-01</td>\n",
       "      <td>B</td>\n",
       "      <td>21</td>\n",
       "      <td>20</td>\n",
       "      <td>101217</td>\n",
       "    </tr>\n",
       "    <tr>\n",
       "      <th>175</th>\n",
       "      <td>2019-08-02</td>\n",
       "      <td>A</td>\n",
       "      <td>44</td>\n",
       "      <td>38</td>\n",
       "      <td>242401</td>\n",
       "    </tr>\n",
       "    <tr>\n",
       "      <th>173</th>\n",
       "      <td>2019-08-02</td>\n",
       "      <td>B</td>\n",
       "      <td>45</td>\n",
       "      <td>43</td>\n",
       "      <td>266748</td>\n",
       "    </tr>\n",
       "    <tr>\n",
       "      <th>291</th>\n",
       "      <td>2019-08-03</td>\n",
       "      <td>A</td>\n",
       "      <td>68</td>\n",
       "      <td>62</td>\n",
       "      <td>354874</td>\n",
       "    </tr>\n",
       "  </tbody>\n",
       "</table>\n",
       "</div>"
      ],
      "text/plain": [
       "          date group  transactionId  visitorId  revenue\n",
       "55  2019-08-01     A             24         20   148579\n",
       "66  2019-08-01     B             21         20   101217\n",
       "175 2019-08-02     A             44         38   242401\n",
       "173 2019-08-02     B             45         43   266748\n",
       "291 2019-08-03     A             68         62   354874"
      ]
     },
     "execution_count": 15,
     "metadata": {},
     "output_type": "execute_result"
    }
   ],
   "source": [
    "ordersAggregated.head()"
   ]
  },
  {
   "cell_type": "markdown",
   "metadata": {},
   "source": [
    "Таким же образом объявим еще одну переменную, содержащую агрегированные кумулятивные по дням данные о посетителях интернет-магазина. Назовет эту переменную visitorsAggregated. "
   ]
  },
  {
   "cell_type": "code",
   "execution_count": 16,
   "metadata": {},
   "outputs": [],
   "source": [
    "visitorsAggregated = datesGroups.apply(\n",
    "    lambda x: visitors[np.logical_and(visitors['date'] <= x['date'], visitors['group'] == x['group'])]\n",
    "    .agg({'date' : 'max', 'group' : 'max', 'visitors' : 'sum'}), \n",
    "    axis=1).sort_values(by=['date','group'])"
   ]
  },
  {
   "cell_type": "code",
   "execution_count": 17,
   "metadata": {},
   "outputs": [
    {
     "data": {
      "text/html": [
       "<div>\n",
       "<style scoped>\n",
       "    .dataframe tbody tr th:only-of-type {\n",
       "        vertical-align: middle;\n",
       "    }\n",
       "\n",
       "    .dataframe tbody tr th {\n",
       "        vertical-align: top;\n",
       "    }\n",
       "\n",
       "    .dataframe thead th {\n",
       "        text-align: right;\n",
       "    }\n",
       "</style>\n",
       "<table border=\"1\" class=\"dataframe\">\n",
       "  <thead>\n",
       "    <tr style=\"text-align: right;\">\n",
       "      <th></th>\n",
       "      <th>date</th>\n",
       "      <th>group</th>\n",
       "      <th>visitors</th>\n",
       "    </tr>\n",
       "  </thead>\n",
       "  <tbody>\n",
       "    <tr>\n",
       "      <th>55</th>\n",
       "      <td>2019-08-01</td>\n",
       "      <td>A</td>\n",
       "      <td>719</td>\n",
       "    </tr>\n",
       "    <tr>\n",
       "      <th>66</th>\n",
       "      <td>2019-08-01</td>\n",
       "      <td>B</td>\n",
       "      <td>713</td>\n",
       "    </tr>\n",
       "    <tr>\n",
       "      <th>175</th>\n",
       "      <td>2019-08-02</td>\n",
       "      <td>A</td>\n",
       "      <td>1338</td>\n",
       "    </tr>\n",
       "    <tr>\n",
       "      <th>173</th>\n",
       "      <td>2019-08-02</td>\n",
       "      <td>B</td>\n",
       "      <td>1294</td>\n",
       "    </tr>\n",
       "    <tr>\n",
       "      <th>291</th>\n",
       "      <td>2019-08-03</td>\n",
       "      <td>A</td>\n",
       "      <td>1845</td>\n",
       "    </tr>\n",
       "  </tbody>\n",
       "</table>\n",
       "</div>"
      ],
      "text/plain": [
       "          date group  visitors\n",
       "55  2019-08-01     A       719\n",
       "66  2019-08-01     B       713\n",
       "175 2019-08-02     A      1338\n",
       "173 2019-08-02     B      1294\n",
       "291 2019-08-03     A      1845"
      ]
     },
     "execution_count": 17,
     "metadata": {},
     "output_type": "execute_result"
    }
   ],
   "source": [
    "visitorsAggregated.head()"
   ]
  },
  {
   "cell_type": "markdown",
   "metadata": {},
   "source": [
    "Объединяем кумулятивные данные в одной общей таблице, назовем ее cumulativeData. Для удобства присвоим ее столбцам понятные названия. "
   ]
  },
  {
   "cell_type": "code",
   "execution_count": 18,
   "metadata": {},
   "outputs": [],
   "source": [
    "cumulativeData = ordersAggregated.merge(visitorsAggregated, left_on=['date', 'group'], right_on=['date', 'group'])\n",
    "cumulativeData.columns = ['date', 'group', 'orders', 'buyers', 'revenue', 'visitors']"
   ]
  },
  {
   "cell_type": "code",
   "execution_count": 19,
   "metadata": {},
   "outputs": [
    {
     "data": {
      "text/html": [
       "<div>\n",
       "<style scoped>\n",
       "    .dataframe tbody tr th:only-of-type {\n",
       "        vertical-align: middle;\n",
       "    }\n",
       "\n",
       "    .dataframe tbody tr th {\n",
       "        vertical-align: top;\n",
       "    }\n",
       "\n",
       "    .dataframe thead th {\n",
       "        text-align: right;\n",
       "    }\n",
       "</style>\n",
       "<table border=\"1\" class=\"dataframe\">\n",
       "  <thead>\n",
       "    <tr style=\"text-align: right;\">\n",
       "      <th></th>\n",
       "      <th>date</th>\n",
       "      <th>group</th>\n",
       "      <th>orders</th>\n",
       "      <th>buyers</th>\n",
       "      <th>revenue</th>\n",
       "      <th>visitors</th>\n",
       "    </tr>\n",
       "  </thead>\n",
       "  <tbody>\n",
       "    <tr>\n",
       "      <th>0</th>\n",
       "      <td>2019-08-01</td>\n",
       "      <td>A</td>\n",
       "      <td>24</td>\n",
       "      <td>20</td>\n",
       "      <td>148579</td>\n",
       "      <td>719</td>\n",
       "    </tr>\n",
       "    <tr>\n",
       "      <th>1</th>\n",
       "      <td>2019-08-01</td>\n",
       "      <td>B</td>\n",
       "      <td>21</td>\n",
       "      <td>20</td>\n",
       "      <td>101217</td>\n",
       "      <td>713</td>\n",
       "    </tr>\n",
       "    <tr>\n",
       "      <th>2</th>\n",
       "      <td>2019-08-02</td>\n",
       "      <td>A</td>\n",
       "      <td>44</td>\n",
       "      <td>38</td>\n",
       "      <td>242401</td>\n",
       "      <td>1338</td>\n",
       "    </tr>\n",
       "    <tr>\n",
       "      <th>3</th>\n",
       "      <td>2019-08-02</td>\n",
       "      <td>B</td>\n",
       "      <td>45</td>\n",
       "      <td>43</td>\n",
       "      <td>266748</td>\n",
       "      <td>1294</td>\n",
       "    </tr>\n",
       "    <tr>\n",
       "      <th>4</th>\n",
       "      <td>2019-08-03</td>\n",
       "      <td>A</td>\n",
       "      <td>68</td>\n",
       "      <td>62</td>\n",
       "      <td>354874</td>\n",
       "      <td>1845</td>\n",
       "    </tr>\n",
       "  </tbody>\n",
       "</table>\n",
       "</div>"
      ],
      "text/plain": [
       "        date group  orders  buyers  revenue  visitors\n",
       "0 2019-08-01     A      24      20   148579       719\n",
       "1 2019-08-01     B      21      20   101217       713\n",
       "2 2019-08-02     A      44      38   242401      1338\n",
       "3 2019-08-02     B      45      43   266748      1294\n",
       "4 2019-08-03     A      68      62   354874      1845"
      ]
     },
     "execution_count": 19,
     "metadata": {},
     "output_type": "execute_result"
    }
   ],
   "source": [
    "cumulativeData.head()"
   ]
  },
  {
   "cell_type": "markdown",
   "metadata": {},
   "source": [
    "Мы собрали кумулятивные данные. "
   ]
  },
  {
   "cell_type": "markdown",
   "metadata": {},
   "source": [
    "**1. Построим график кумулятивной выручки по группам.**"
   ]
  },
  {
   "cell_type": "markdown",
   "metadata": {},
   "source": [
    "Создадим два датафрейма в которых сохраним кумулятивное количество заказов и кумулятивную выручку по дням по двум группам A и B. Назовем их cumulativeRevenueA и cumulativeRevenueB. "
   ]
  },
  {
   "cell_type": "code",
   "execution_count": 20,
   "metadata": {},
   "outputs": [],
   "source": [
    "cumulativeRevenueA = cumulativeData[cumulativeData['group']=='A'][['date','revenue', 'orders']]\n",
    "\n",
    "cumulativeRevenueB = cumulativeData[cumulativeData['group']=='B'][['date','revenue', 'orders']]"
   ]
  },
  {
   "cell_type": "markdown",
   "metadata": {},
   "source": [
    "Можем приступить к построению графика выручки для группы A и группы B."
   ]
  },
  {
   "cell_type": "code",
   "execution_count": 21,
   "metadata": {},
   "outputs": [
    {
     "data": {
      "image/png": "[encoded data removed]",
      "text/plain": [
       "<Figure size 432x288 with 1 Axes>"
      ]
     },
     "metadata": {
      "needs_background": "light"
     },
     "output_type": "display_data"
    }
   ],
   "source": [
    "plt.plot(cumulativeRevenueA['date'], cumulativeRevenueA['revenue'], label='A')\n",
    "plt.plot(cumulativeRevenueB['date'], cumulativeRevenueB['revenue'], label='B')\n",
    "plt.legend()\n",
    "\n",
    "plt.title('Графики кумулятивной выручки по группам A/B-тестирования')\n",
    "plt.xlabel(\"Дата\")\n",
    "plt.ylabel(\"Выручка\")\n",
    "\n",
    "plt.xticks(rotation=20) \n",
    "\n",
    "plt.show()"
   ]
  },
  {
   "cell_type": "markdown",
   "metadata": {},
   "source": [
    "**Вывод:** Из полученного графика видно, что часть времени выручка почти равномерно увеличивается. Однако график выручки для группы B в какой-то момент резко растет. Это могут быть выбросы. "
   ]
  },
  {
   "cell_type": "markdown",
   "metadata": {},
   "source": [
    "**2. Построим график кумулятивного среднего чека по группам.**"
   ]
  },
  {
   "cell_type": "markdown",
   "metadata": {},
   "source": [
    "Для построения такого графика разделим кумулятивную выручку на кумулятивное число заказов. "
   ]
  },
  {
   "cell_type": "code",
   "execution_count": 22,
   "metadata": {},
   "outputs": [
    {
     "data": {
      "text/plain": [
       "<matplotlib.legend.Legend at 0x1c391f4e2b0>"
      ]
     },
     "execution_count": 22,
     "metadata": {},
     "output_type": "execute_result"
    },
    {
     "data": {
      "image/png": "[encoded data removed]",
      "text/plain": [
       "<Figure size 432x288 with 1 Axes>"
      ]
     },
     "metadata": {
      "needs_background": "light"
     },
     "output_type": "display_data"
    }
   ],
   "source": [
    "plt.plot(cumulativeRevenueA['date'], cumulativeRevenueA['revenue']/cumulativeRevenueA['orders'], label='A')\n",
    "plt.plot(cumulativeRevenueB['date'], cumulativeRevenueB['revenue']/cumulativeRevenueB['orders'], label='B')\n",
    "\n",
    "plt.title('Графики кумулятивного среднего чека по группам A/B-тестирования')\n",
    "plt.xlabel(\"Дата\")\n",
    "plt.ylabel(\"Средний чек\")\n",
    "plt.xticks(rotation=20) \n",
    "\n",
    "plt.legend()"
   ]
  },
  {
   "cell_type": "markdown",
   "metadata": {},
   "source": [
    "**Вывод:** Средний чек для группы B также неравномерен. Возможными причинами появления выбросов --  аномально крупные заказы. Средний чек для группы A становится более-менее равномерным начиная примерно с половины исследования. "
   ]
  },
  {
   "cell_type": "markdown",
   "metadata": {},
   "source": [
    "**3. Построим график относительного изменения кумулятивного среднего чека группы B к группе A.**"
   ]
  },
  {
   "cell_type": "markdown",
   "metadata": {},
   "source": [
    "Создадим новый датафрейм mergedCumulativeRevenue и внесем в него данные по двум группам. "
   ]
  },
  {
   "cell_type": "code",
   "execution_count": 23,
   "metadata": {},
   "outputs": [],
   "source": [
    "mergedCumulativeRevenue = cumulativeRevenueA.merge(\n",
    "    cumulativeRevenueB, left_on='date', right_on='date', how='left', suffixes=['A', 'B'])"
   ]
  },
  {
   "cell_type": "code",
   "execution_count": 24,
   "metadata": {},
   "outputs": [
    {
     "data": {
      "text/html": [
       "<div>\n",
       "<style scoped>\n",
       "    .dataframe tbody tr th:only-of-type {\n",
       "        vertical-align: middle;\n",
       "    }\n",
       "\n",
       "    .dataframe tbody tr th {\n",
       "        vertical-align: top;\n",
       "    }\n",
       "\n",
       "    .dataframe thead th {\n",
       "        text-align: right;\n",
       "    }\n",
       "</style>\n",
       "<table border=\"1\" class=\"dataframe\">\n",
       "  <thead>\n",
       "    <tr style=\"text-align: right;\">\n",
       "      <th></th>\n",
       "      <th>date</th>\n",
       "      <th>revenueA</th>\n",
       "      <th>ordersA</th>\n",
       "      <th>revenueB</th>\n",
       "      <th>ordersB</th>\n",
       "    </tr>\n",
       "  </thead>\n",
       "  <tbody>\n",
       "    <tr>\n",
       "      <th>0</th>\n",
       "      <td>2019-08-01</td>\n",
       "      <td>148579</td>\n",
       "      <td>24</td>\n",
       "      <td>101217</td>\n",
       "      <td>21</td>\n",
       "    </tr>\n",
       "    <tr>\n",
       "      <th>1</th>\n",
       "      <td>2019-08-02</td>\n",
       "      <td>242401</td>\n",
       "      <td>44</td>\n",
       "      <td>266748</td>\n",
       "      <td>45</td>\n",
       "    </tr>\n",
       "    <tr>\n",
       "      <th>2</th>\n",
       "      <td>2019-08-03</td>\n",
       "      <td>354874</td>\n",
       "      <td>68</td>\n",
       "      <td>380996</td>\n",
       "      <td>61</td>\n",
       "    </tr>\n",
       "    <tr>\n",
       "      <th>3</th>\n",
       "      <td>2019-08-04</td>\n",
       "      <td>425699</td>\n",
       "      <td>84</td>\n",
       "      <td>489567</td>\n",
       "      <td>78</td>\n",
       "    </tr>\n",
       "    <tr>\n",
       "      <th>4</th>\n",
       "      <td>2019-08-05</td>\n",
       "      <td>549917</td>\n",
       "      <td>109</td>\n",
       "      <td>581995</td>\n",
       "      <td>101</td>\n",
       "    </tr>\n",
       "  </tbody>\n",
       "</table>\n",
       "</div>"
      ],
      "text/plain": [
       "        date  revenueA  ordersA  revenueB  ordersB\n",
       "0 2019-08-01    148579       24    101217       21\n",
       "1 2019-08-02    242401       44    266748       45\n",
       "2 2019-08-03    354874       68    380996       61\n",
       "3 2019-08-04    425699       84    489567       78\n",
       "4 2019-08-05    549917      109    581995      101"
      ]
     },
     "execution_count": 24,
     "metadata": {},
     "output_type": "execute_result"
    }
   ],
   "source": [
    "mergedCumulativeRevenue.head()"
   ]
  },
  {
   "cell_type": "markdown",
   "metadata": {},
   "source": [
    "Построим отношение средних чеков. Воспользуемся методом axhline(). "
   ]
  },
  {
   "cell_type": "code",
   "execution_count": 25,
   "metadata": {},
   "outputs": [
    {
     "data": {
      "text/plain": [
       "<matplotlib.lines.Line2D at 0x1c392b8cb50>"
      ]
     },
     "execution_count": 25,
     "metadata": {},
     "output_type": "execute_result"
    },
    {
     "data": {
      "image/png": "[encoded data removed]",
      "text/plain": [
       "<Figure size 432x288 with 1 Axes>"
      ]
     },
     "metadata": {
      "needs_background": "light"
     },
     "output_type": "display_data"
    }
   ],
   "source": [
    "plt.plot(mergedCumulativeRevenue['date'], \n",
    "         (mergedCumulativeRevenue['revenueB']/mergedCumulativeRevenue['ordersB'])/\n",
    "         (mergedCumulativeRevenue['revenueA']/mergedCumulativeRevenue['ordersA'])-1)\n",
    "\n",
    "plt.title('Графики относительного изменения кумулятивного среднего чека группы B к группе A')\n",
    "plt.xlabel(\"Дата\")\n",
    "plt.xticks(rotation=20)\n",
    "\n",
    "plt.axhline(y=0, color='black', linestyle='--')"
   ]
  },
  {
   "cell_type": "markdown",
   "metadata": {},
   "source": [
    "**Вывод:** На графике видно, что в некоторых точках он имеет резкие подъемы. Это однозначно говорит о выбросах. "
   ]
  },
  {
   "cell_type": "markdown",
   "metadata": {},
   "source": [
    "**4. Построим график кумулятивной конверсии по группам.**"
   ]
  },
  {
   "cell_type": "markdown",
   "metadata": {},
   "source": [
    "Добавим в датафрейм cumulativeData столбец conversion c отношением числа заказов к количеству пользователей в указанной группе в указанный день."
   ]
  },
  {
   "cell_type": "code",
   "execution_count": 26,
   "metadata": {},
   "outputs": [],
   "source": [
    "cumulativeData['conversion'] = cumulativeData['orders']/cumulativeData['visitors']"
   ]
  },
  {
   "cell_type": "markdown",
   "metadata": {},
   "source": [
    "Отделим данные группы A от группы B. "
   ]
  },
  {
   "cell_type": "code",
   "execution_count": 27,
   "metadata": {},
   "outputs": [],
   "source": [
    "cumulativeDataA = cumulativeData[cumulativeData['group']=='A']\n",
    "\n",
    "cumulativeDataB = cumulativeData[cumulativeData['group']=='B']"
   ]
  },
  {
   "cell_type": "markdown",
   "metadata": {},
   "source": [
    "Для построения графика воспользуемся методом plt.axis(). Передадим ему минимальное и максимальное значения оси x и, минимальное и максимальное значения оси y — [\"2019-08-01\", '2019-08-31', 0, 0.015]"
   ]
  },
  {
   "cell_type": "code",
   "execution_count": 28,
   "metadata": {},
   "outputs": [
    {
     "data": {
      "text/plain": [
       "(18109.0, 18139.0, 0.0, 0.05)"
      ]
     },
     "execution_count": 28,
     "metadata": {},
     "output_type": "execute_result"
    },
    {
     "data": {
      "image/png": "[encoded data removed]",
      "text/plain": [
       "<Figure size 432x288 with 1 Axes>"
      ]
     },
     "metadata": {
      "needs_background": "light"
     },
     "output_type": "display_data"
    }
   ],
   "source": [
    "plt.plot(cumulativeDataA['date'], cumulativeDataA['conversion'], label='A')\n",
    "plt.plot(cumulativeDataB['date'], cumulativeDataB['conversion'], label='B')\n",
    "\n",
    "plt.title('Графики кумулятивной конверсии по группам A/B-тестирования')\n",
    "plt.xlabel(\"Дата\")\n",
    "plt.ylabel(\"Конверсия\")\n",
    "plt.xticks(rotation=20) \n",
    "\n",
    "plt.legend()\n",
    "\n",
    "plt.axis([dt.datetime(2019, 8, 1), dt.datetime(2019, 8, 31), 0, 0.05])"
   ]
  },
  {
   "cell_type": "markdown",
   "metadata": {},
   "source": [
    "**Вывод:** По полученному графику видно, что вначале конверсия сегмента A была выше конверсии сегмента B. Но, довольно быстро сегмент B выровнялся и зафиксировался примерно около одного значения. Сегмент A также довольно быстро зафиксировался примерно около одного значения, но ниже сегмента B."
   ]
  },
  {
   "cell_type": "markdown",
   "metadata": {},
   "source": [
    "**5. Построим график относительного изменения кумулятивной конверсии группы B к группе A.**"
   ]
  },
  {
   "cell_type": "markdown",
   "metadata": {},
   "source": [
    "Создадим новый датафрейм mergedCumulativeConversions и объединим в нем необходимые данные из cumulativeDataA и cumulativeDataB."
   ]
  },
  {
   "cell_type": "code",
   "execution_count": 29,
   "metadata": {},
   "outputs": [
    {
     "data": {
      "image/png": "[encoded data removed]",
      "text/plain": [
       "<Figure size 432x288 with 1 Axes>"
      ]
     },
     "metadata": {
      "needs_background": "light"
     },
     "output_type": "display_data"
    }
   ],
   "source": [
    "mergedCumulativeConversions = cumulativeDataA[['date','conversion']].merge(\n",
    "    cumulativeDataB[['date','conversion']], left_on='date', right_on='date', how='left', suffixes=['A', 'B'])\n",
    "\n",
    "plt.plot(mergedCumulativeConversions['date'], \n",
    "         mergedCumulativeConversions['conversionB']/mergedCumulativeConversions['conversionA']-1)\n",
    "\n",
    "plt.title('Графики относительного изменения кумулятивной конверсии группы B к группе A')\n",
    "plt.xlabel(\"Дата\")\n",
    "plt.xticks(rotation=20) \n",
    "\n",
    "plt.axhline(y=0, color='black', linestyle='--')\n",
    "plt.axhline(y=0.1, color='grey', linestyle='--')\n",
    "\n",
    "plt.show()"
   ]
  },
  {
   "cell_type": "markdown",
   "metadata": {},
   "source": [
    "**Вывод**: Почти с самого начала группа B лидировала по сравнению с группой A. Конверсия группы B начала падать, но к концу исследования постепенно начала расти. "
   ]
  },
  {
   "cell_type": "markdown",
   "metadata": {},
   "source": [
    "**6. Построим точечный график количества заказов по пользователям.**"
   ]
  },
  {
   "cell_type": "markdown",
   "metadata": {},
   "source": [
    "Для начала найдите число заказов по пользователям. Для этого необходимо создать новый датафрейм orders_users с двумя столбцами visitorId (идентификатор пользователя) и transactionId (идентификатор заказа). "
   ]
  },
  {
   "cell_type": "code",
   "execution_count": 30,
   "metadata": {},
   "outputs": [
    {
     "data": {
      "text/html": [
       "<div>\n",
       "<style scoped>\n",
       "    .dataframe tbody tr th:only-of-type {\n",
       "        vertical-align: middle;\n",
       "    }\n",
       "\n",
       "    .dataframe tbody tr th {\n",
       "        vertical-align: top;\n",
       "    }\n",
       "\n",
       "    .dataframe thead th {\n",
       "        text-align: right;\n",
       "    }\n",
       "</style>\n",
       "<table border=\"1\" class=\"dataframe\">\n",
       "  <thead>\n",
       "    <tr style=\"text-align: right;\">\n",
       "      <th></th>\n",
       "      <th>userId</th>\n",
       "      <th>orders</th>\n",
       "    </tr>\n",
       "  </thead>\n",
       "  <tbody>\n",
       "    <tr>\n",
       "      <th>1023</th>\n",
       "      <td>4256040402</td>\n",
       "      <td>11</td>\n",
       "    </tr>\n",
       "    <tr>\n",
       "      <th>591</th>\n",
       "      <td>2458001652</td>\n",
       "      <td>11</td>\n",
       "    </tr>\n",
       "    <tr>\n",
       "      <th>569</th>\n",
       "      <td>2378935119</td>\n",
       "      <td>9</td>\n",
       "    </tr>\n",
       "    <tr>\n",
       "      <th>487</th>\n",
       "      <td>2038680547</td>\n",
       "      <td>8</td>\n",
       "    </tr>\n",
       "    <tr>\n",
       "      <th>44</th>\n",
       "      <td>199603092</td>\n",
       "      <td>5</td>\n",
       "    </tr>\n",
       "    <tr>\n",
       "      <th>744</th>\n",
       "      <td>3062433592</td>\n",
       "      <td>5</td>\n",
       "    </tr>\n",
       "    <tr>\n",
       "      <th>55</th>\n",
       "      <td>237748145</td>\n",
       "      <td>5</td>\n",
       "    </tr>\n",
       "    <tr>\n",
       "      <th>917</th>\n",
       "      <td>3803269165</td>\n",
       "      <td>5</td>\n",
       "    </tr>\n",
       "    <tr>\n",
       "      <th>299</th>\n",
       "      <td>1230306981</td>\n",
       "      <td>5</td>\n",
       "    </tr>\n",
       "    <tr>\n",
       "      <th>897</th>\n",
       "      <td>3717692402</td>\n",
       "      <td>5</td>\n",
       "    </tr>\n",
       "  </tbody>\n",
       "</table>\n",
       "</div>"
      ],
      "text/plain": [
       "          userId  orders\n",
       "1023  4256040402      11\n",
       "591   2458001652      11\n",
       "569   2378935119       9\n",
       "487   2038680547       8\n",
       "44     199603092       5\n",
       "744   3062433592       5\n",
       "55     237748145       5\n",
       "917   3803269165       5\n",
       "299   1230306981       5\n",
       "897   3717692402       5"
      ]
     },
     "execution_count": 30,
     "metadata": {},
     "output_type": "execute_result"
    }
   ],
   "source": [
    "orders_users = (orders.groupby('visitorId', as_index=False).agg({'transactionId' : 'nunique',}))\n",
    "orders_users.columns = ['userId', 'orders']\n",
    "orders_users.sort_values(by='orders',ascending=False).head(10)"
   ]
  },
  {
   "cell_type": "markdown",
   "metadata": {},
   "source": [
    "Мы получили число заказов по пользователям. Можем перейти к визуализации. "
   ]
  },
  {
   "cell_type": "code",
   "execution_count": 31,
   "metadata": {},
   "outputs": [
    {
     "data": {
      "text/plain": [
       "Text(0, 0.5, 'Стоимость')"
      ]
     },
     "execution_count": 31,
     "metadata": {},
     "output_type": "execute_result"
    },
    {
     "data": {
      "image/png": "[encoded data removed]",
      "text/plain": [
       "<Figure size 432x288 with 1 Axes>"
      ]
     },
     "metadata": {
      "needs_background": "light"
     },
     "output_type": "display_data"
    }
   ],
   "source": [
    "plt.hist(orders_users['orders'])\n",
    "\n",
    "plt.title('Гистрограмма распределения количества заказов на одного пользователя')\n",
    "plt.xlabel(\"Количество заказов\")\n",
    "plt.ylabel(\"Стоимость\")"
   ]
  },
  {
   "cell_type": "markdown",
   "metadata": {},
   "source": [
    "Большинство пользователей совершают 1 заказ. Однако есть пользователи, которые совершают больше заказов. Для того чтобы узнать сколько таких пользователей, построим точечный график."
   ]
  },
  {
   "cell_type": "code",
   "execution_count": 32,
   "metadata": {},
   "outputs": [
    {
     "data": {
      "text/plain": [
       "Text(0, 0.5, 'Стоимость')"
      ]
     },
     "execution_count": 32,
     "metadata": {},
     "output_type": "execute_result"
    },
    {
     "data": {
      "image/png": "[encoded data removed]",
      "text/plain": [
       "<Figure size 432x288 with 1 Axes>"
      ]
     },
     "metadata": {
      "needs_background": "light"
     },
     "output_type": "display_data"
    }
   ],
   "source": [
    "x_values = pd.Series(range(0, len(orders_users)))\n",
    "plt.scatter(x_values, orders_users['orders'])\n",
    "\n",
    "plt.title('Точечный график распределения количества заказов на одного пользователя')\n",
    "plt.xlabel(\"Количество заказов\")\n",
    "plt.ylabel(\"Стоимость\")"
   ]
  },
  {
   "cell_type": "markdown",
   "metadata": {},
   "source": [
    "**Вывод:** График показал, что встречаются пользователи, совершившие 5, 8 и даже 12 заказов, однако это случается крайне редко, в связи с чем можем назвать их аномалиями. Чаще всего пользователи оформляют 1-2 заказа. Чтобы понять 2 заказа это много или мало, нам необходимо посчитать выборочные перцентили. "
   ]
  },
  {
   "cell_type": "markdown",
   "metadata": {},
   "source": [
    "**7. Посчитаем 95-й и 99-й перцентили количества заказов на пользователя.**"
   ]
  },
  {
   "cell_type": "markdown",
   "metadata": {},
   "source": [
    "Для подсчёта перцентилей применим метод percentile(). "
   ]
  },
  {
   "cell_type": "code",
   "execution_count": 33,
   "metadata": {},
   "outputs": [
    {
     "data": {
      "text/plain": [
       "array([2., 4.])"
      ]
     },
     "execution_count": 33,
     "metadata": {},
     "output_type": "execute_result"
    }
   ],
   "source": [
    "np.percentile(orders_users['orders'], [95, 99])"
   ]
  },
  {
   "cell_type": "markdown",
   "metadata": {},
   "source": [
    "**Вывод:** Только 5% пользователей заказываю больше 2 заказов, и всего 1% пользователей заказывают больше 4 заказов. "
   ]
  },
  {
   "cell_type": "markdown",
   "metadata": {},
   "source": [
    "**8. Построим точечный график стоимостей заказов.**"
   ]
  },
  {
   "cell_type": "markdown",
   "metadata": {},
   "source": [
    "Посмотрим на распределение стоимостей заказов. "
   ]
  },
  {
   "cell_type": "code",
   "execution_count": 34,
   "metadata": {},
   "outputs": [
    {
     "data": {
      "text/html": [
       "<div>\n",
       "<style scoped>\n",
       "    .dataframe tbody tr th:only-of-type {\n",
       "        vertical-align: middle;\n",
       "    }\n",
       "\n",
       "    .dataframe tbody tr th {\n",
       "        vertical-align: top;\n",
       "    }\n",
       "\n",
       "    .dataframe thead th {\n",
       "        text-align: right;\n",
       "    }\n",
       "</style>\n",
       "<table border=\"1\" class=\"dataframe\">\n",
       "  <thead>\n",
       "    <tr style=\"text-align: right;\">\n",
       "      <th></th>\n",
       "      <th>transactionId</th>\n",
       "      <th>visitorId</th>\n",
       "      <th>date</th>\n",
       "      <th>revenue</th>\n",
       "      <th>group</th>\n",
       "    </tr>\n",
       "  </thead>\n",
       "  <tbody>\n",
       "    <tr>\n",
       "      <th>425</th>\n",
       "      <td>590470918</td>\n",
       "      <td>1920142716</td>\n",
       "      <td>2019-08-19</td>\n",
       "      <td>1294500</td>\n",
       "      <td>B</td>\n",
       "    </tr>\n",
       "    <tr>\n",
       "      <th>1196</th>\n",
       "      <td>3936777065</td>\n",
       "      <td>2108080724</td>\n",
       "      <td>2019-08-15</td>\n",
       "      <td>202740</td>\n",
       "      <td>B</td>\n",
       "    </tr>\n",
       "    <tr>\n",
       "      <th>858</th>\n",
       "      <td>192721366</td>\n",
       "      <td>1316129916</td>\n",
       "      <td>2019-08-27</td>\n",
       "      <td>93940</td>\n",
       "      <td>A</td>\n",
       "    </tr>\n",
       "    <tr>\n",
       "      <th>1136</th>\n",
       "      <td>666610489</td>\n",
       "      <td>1307669133</td>\n",
       "      <td>2019-08-13</td>\n",
       "      <td>92550</td>\n",
       "      <td>A</td>\n",
       "    </tr>\n",
       "    <tr>\n",
       "      <th>744</th>\n",
       "      <td>3668308183</td>\n",
       "      <td>888512513</td>\n",
       "      <td>2019-08-27</td>\n",
       "      <td>86620</td>\n",
       "      <td>B</td>\n",
       "    </tr>\n",
       "    <tr>\n",
       "      <th>682</th>\n",
       "      <td>1216533772</td>\n",
       "      <td>4266935830</td>\n",
       "      <td>2019-08-29</td>\n",
       "      <td>78990</td>\n",
       "      <td>B</td>\n",
       "    </tr>\n",
       "    <tr>\n",
       "      <th>662</th>\n",
       "      <td>1811671147</td>\n",
       "      <td>4266935830</td>\n",
       "      <td>2019-08-29</td>\n",
       "      <td>78990</td>\n",
       "      <td>A</td>\n",
       "    </tr>\n",
       "    <tr>\n",
       "      <th>743</th>\n",
       "      <td>3603576309</td>\n",
       "      <td>4133034833</td>\n",
       "      <td>2019-08-09</td>\n",
       "      <td>67990</td>\n",
       "      <td>A</td>\n",
       "    </tr>\n",
       "    <tr>\n",
       "      <th>1103</th>\n",
       "      <td>1348774318</td>\n",
       "      <td>1164614297</td>\n",
       "      <td>2019-08-12</td>\n",
       "      <td>66350</td>\n",
       "      <td>A</td>\n",
       "    </tr>\n",
       "    <tr>\n",
       "      <th>1099</th>\n",
       "      <td>316924019</td>\n",
       "      <td>148427295</td>\n",
       "      <td>2019-08-12</td>\n",
       "      <td>65710</td>\n",
       "      <td>A</td>\n",
       "    </tr>\n",
       "  </tbody>\n",
       "</table>\n",
       "</div>"
      ],
      "text/plain": [
       "      transactionId   visitorId       date  revenue group\n",
       "425       590470918  1920142716 2019-08-19  1294500     B\n",
       "1196     3936777065  2108080724 2019-08-15   202740     B\n",
       "858       192721366  1316129916 2019-08-27    93940     A\n",
       "1136      666610489  1307669133 2019-08-13    92550     A\n",
       "744      3668308183   888512513 2019-08-27    86620     B\n",
       "682      1216533772  4266935830 2019-08-29    78990     B\n",
       "662      1811671147  4266935830 2019-08-29    78990     A\n",
       "743      3603576309  4133034833 2019-08-09    67990     A\n",
       "1103     1348774318  1164614297 2019-08-12    66350     A\n",
       "1099      316924019   148427295 2019-08-12    65710     A"
      ]
     },
     "metadata": {},
     "output_type": "display_data"
    }
   ],
   "source": [
    "display(orders.sort_values(by='revenue', ascending=False).head(10)) "
   ]
  },
  {
   "cell_type": "markdown",
   "metadata": {},
   "source": [
    "Среди выведенных 10 строк цены варьируются от 65710 до 93940. Однако встречаются 2 особо дорогих заказа на суммы 202740 и 1294500. Такие аномально дорогие заказы искажают результат и делают победителем ту группу, где оказались."
   ]
  },
  {
   "cell_type": "markdown",
   "metadata": {},
   "source": [
    "Посмотрим на гистограмму распределения стоимостей заказов."
   ]
  },
  {
   "cell_type": "code",
   "execution_count": 35,
   "metadata": {},
   "outputs": [
    {
     "data": {
      "text/plain": [
       "Text(0, 0.5, 'Количество заказов')"
      ]
     },
     "execution_count": 35,
     "metadata": {},
     "output_type": "execute_result"
    },
    {
     "data": {
      "image/png": "[encoded data removed]",
      "text/plain": [
       "<Figure size 432x288 with 1 Axes>"
      ]
     },
     "metadata": {
      "needs_background": "light"
     },
     "output_type": "display_data"
    }
   ],
   "source": [
    "plt.hist(orders['revenue'])\n",
    "\n",
    "plt.title('Гистрограмма распределения стоимостей заказов')\n",
    "plt.xlabel(\"Стоимость\")\n",
    "plt.ylabel(\"Количество заказов\")"
   ]
  },
  {
   "cell_type": "markdown",
   "metadata": {},
   "source": [
    "Сумма большинства заказов меньше 200 000 рублей. Построим точечный график для более тщательной визуализации распространения стоимостей заказов."
   ]
  },
  {
   "cell_type": "code",
   "execution_count": 36,
   "metadata": {},
   "outputs": [
    {
     "data": {
      "text/plain": [
       "Text(0, 0.5, 'Стоимость')"
      ]
     },
     "execution_count": 36,
     "metadata": {},
     "output_type": "execute_result"
    },
    {
     "data": {
      "image/png": "[encoded data removed]",
      "text/plain": [
       "<Figure size 432x288 with 1 Axes>"
      ]
     },
     "metadata": {
      "needs_background": "light"
     },
     "output_type": "display_data"
    }
   ],
   "source": [
    "x_values = pd.Series(range(0,len(orders['revenue'])))\n",
    "plt.scatter(x_values, orders['revenue']) \n",
    "\n",
    "plt.title('Точечный график распределения стоимостей заказов')\n",
    "plt.xlabel(\"Количество заказов\")\n",
    "plt.ylabel(\"Стоимость\")"
   ]
  },
  {
   "cell_type": "markdown",
   "metadata": {},
   "source": [
    "Из-за одного явного выброса все значения слились в одну прямую. Для получения более визуально понятного результата построим еще один график без учета выброса."
   ]
  },
  {
   "cell_type": "code",
   "execution_count": 37,
   "metadata": {},
   "outputs": [
    {
     "data": {
      "text/plain": [
       "Text(0, 0.5, 'Стоимость')"
      ]
     },
     "execution_count": 37,
     "metadata": {},
     "output_type": "execute_result"
    },
    {
     "data": {
      "image/png": "[encoded data removed]",
      "text/plain": [
       "<Figure size 432x288 with 1 Axes>"
      ]
     },
     "metadata": {
      "needs_background": "light"
     },
     "output_type": "display_data"
    }
   ],
   "source": [
    "orders_new = orders[orders['revenue'] != 1294500]\n",
    "\n",
    "x_values = pd.Series(range(0,len(orders_new['revenue'])))\n",
    "plt.scatter(x_values, orders_new['revenue']) \n",
    "\n",
    "plt.title('Точечный график распределения стоимостей заказов')\n",
    "plt.xlabel(\"Количество заказов\")\n",
    "plt.ylabel(\"Стоимость\")"
   ]
  },
  {
   "cell_type": "markdown",
   "metadata": {},
   "source": [
    "**Вывод**: Точечный график подтвердил наше предположение об аномалиях. На графике видны 2 аномально дорогих заказа. Остальные же не выходят за рамки 100 000. "
   ]
  },
  {
   "cell_type": "markdown",
   "metadata": {},
   "source": [
    "**9. Посчитаем 95-й и 99-й перцентили стоимости заказов.**"
   ]
  },
  {
   "cell_type": "code",
   "execution_count": 38,
   "metadata": {},
   "outputs": [
    {
     "data": {
      "text/plain": [
       "array([28000. , 58233.2])"
      ]
     },
     "execution_count": 38,
     "metadata": {},
     "output_type": "execute_result"
    }
   ],
   "source": [
    "np.percentile(orders['revenue'], [95, 99])"
   ]
  },
  {
   "cell_type": "markdown",
   "metadata": {},
   "source": [
    "**Вывод:** Только 5% пользователей совершают заказ дороже 28 000, и всего 1% пользователей совершают заказ дороже 58 233. В качестве границы аномалий будем брать заказы дороже 28 000. "
   ]
  },
  {
   "cell_type": "markdown",
   "metadata": {},
   "source": [
    "**10. Посчитаем статистическую значимость различий в конверсии между группами по «сырым» данным.**"
   ]
  },
  {
   "cell_type": "markdown",
   "metadata": {},
   "source": [
    "Сформируем нулевую и альтернативную гипотезы: \n",
    "* Нулевая гипотеза: различий в среднем количестве заказов между группами нет;\n",
    "* Альтернативная гипотеза: различия в среднем количестве заказов между группами есть."
   ]
  },
  {
   "cell_type": "markdown",
   "metadata": {},
   "source": [
    "Подготовим данные. Создадим 2 новых датафрейма visitorsADaily и visitorsBDaily для группы A и группы B. Сохраним в них данные по дате и количестве пользователей. После, создадим 2 датафрейма visitorsACummulative и visitorsBCummulative в которых сохраним кумулятивные данные. Для удобства переименуем столбцы.  "
   ]
  },
  {
   "cell_type": "code",
   "execution_count": 39,
   "metadata": {},
   "outputs": [],
   "source": [
    "visitorsADaily = visitors[visitors['group'] == 'A'][['date', 'visitors']]\n",
    "visitorsADaily.columns = ['date', 'visitorsPerDateA']\n",
    "\n",
    "visitorsACummulative = visitorsADaily.apply(\n",
    "    lambda x: visitorsADaily[visitorsADaily['date'] <= x['date']].agg(\n",
    "        {'date': 'max', 'visitorsPerDateA': 'sum'}\n",
    "    ),\n",
    "    axis=1,\n",
    ")\n",
    "visitorsACummulative.columns = ['date', 'visitorsCummulativeA']\n",
    "\n",
    "visitorsBDaily = visitors[visitors['group'] == 'B'][['date', 'visitors']]\n",
    "visitorsBDaily.columns = ['date', 'visitorsPerDateB']\n",
    "\n",
    "visitorsBCummulative = visitorsBDaily.apply(\n",
    "    lambda x: visitorsBDaily[visitorsBDaily['date'] <= x['date']].agg(\n",
    "        {'date': 'max', 'visitorsPerDateB': 'sum'}\n",
    "    ),\n",
    "    axis=1,\n",
    ")\n",
    "visitorsBCummulative.columns = ['date', 'visitorsCummulativeB']"
   ]
  },
  {
   "cell_type": "markdown",
   "metadata": {},
   "source": [
    "Проведем те же манипуляции с таблицей orders. "
   ]
  },
  {
   "cell_type": "code",
   "execution_count": 40,
   "metadata": {},
   "outputs": [],
   "source": [
    "ordersADaily = (\n",
    "    orders[orders['group'] == 'A'][['date', 'transactionId', 'visitorId', 'revenue']]\n",
    "    .groupby('date', as_index=False)\n",
    "    .agg({'transactionId': pd.Series.nunique, 'revenue': 'sum'})\n",
    ")\n",
    "ordersADaily.columns = ['date', 'ordersPerDateA', 'revenuePerDateA']\n",
    "\n",
    "ordersACummulative = ordersADaily.apply(\n",
    "    lambda x: ordersADaily[ordersADaily['date'] <= x['date']].agg(\n",
    "        {'date': 'max', 'ordersPerDateA': 'sum', 'revenuePerDateA': 'sum'}\n",
    "    ),\n",
    "    axis=1,\n",
    ").sort_values(by=['date'])\n",
    "\n",
    "ordersACummulative.columns = [\n",
    "    'date',\n",
    "    'ordersCummulativeA',\n",
    "    'revenueCummulativeA',\n",
    "]\n",
    "\n",
    "ordersBDaily = (\n",
    "    orders[orders['group'] == 'B'][['date', 'transactionId', 'visitorId', 'revenue']]\n",
    "    .groupby('date', as_index=False)\n",
    "    .agg({'transactionId': pd.Series.nunique, 'revenue': 'sum'})\n",
    ")\n",
    "ordersBDaily.columns = ['date', 'ordersPerDateB', 'revenuePerDateB']\n",
    "\n",
    "ordersBCummulative = ordersBDaily.apply(\n",
    "    lambda x: ordersBDaily[ordersBDaily['date'] <= x['date']].agg(\n",
    "        {'date': 'max', 'ordersPerDateB': 'sum', 'revenuePerDateB': 'sum'}\n",
    "    ),\n",
    "    axis=1,\n",
    ").sort_values(by=['date'])\n",
    "ordersBCummulative.columns = [\n",
    "    'date',\n",
    "    'ordersCummulativeB',\n",
    "    'revenueCummulativeB',\n",
    "]"
   ]
  },
  {
   "cell_type": "markdown",
   "metadata": {},
   "source": [
    "Объединим все датафреймы в один. Присвоим ему название total_data. "
   ]
  },
  {
   "cell_type": "code",
   "execution_count": 41,
   "metadata": {},
   "outputs": [
    {
     "data": {
      "text/html": [
       "<div>\n",
       "<style scoped>\n",
       "    .dataframe tbody tr th:only-of-type {\n",
       "        vertical-align: middle;\n",
       "    }\n",
       "\n",
       "    .dataframe tbody tr th {\n",
       "        vertical-align: top;\n",
       "    }\n",
       "\n",
       "    .dataframe thead th {\n",
       "        text-align: right;\n",
       "    }\n",
       "</style>\n",
       "<table border=\"1\" class=\"dataframe\">\n",
       "  <thead>\n",
       "    <tr style=\"text-align: right;\">\n",
       "      <th></th>\n",
       "      <th>date</th>\n",
       "      <th>ordersPerDateA</th>\n",
       "      <th>revenuePerDateA</th>\n",
       "      <th>ordersPerDateB</th>\n",
       "      <th>revenuePerDateB</th>\n",
       "      <th>ordersCummulativeA</th>\n",
       "      <th>revenueCummulativeA</th>\n",
       "      <th>ordersCummulativeB</th>\n",
       "      <th>revenueCummulativeB</th>\n",
       "      <th>visitorsPerDateA</th>\n",
       "      <th>visitorsPerDateB</th>\n",
       "      <th>visitorsCummulativeA</th>\n",
       "      <th>visitorsCummulativeB</th>\n",
       "    </tr>\n",
       "  </thead>\n",
       "  <tbody>\n",
       "    <tr>\n",
       "      <th>0</th>\n",
       "      <td>2019-08-01</td>\n",
       "      <td>24</td>\n",
       "      <td>148579</td>\n",
       "      <td>21</td>\n",
       "      <td>101217</td>\n",
       "      <td>24</td>\n",
       "      <td>148579</td>\n",
       "      <td>21</td>\n",
       "      <td>101217</td>\n",
       "      <td>719</td>\n",
       "      <td>713</td>\n",
       "      <td>719</td>\n",
       "      <td>713</td>\n",
       "    </tr>\n",
       "    <tr>\n",
       "      <th>1</th>\n",
       "      <td>2019-08-02</td>\n",
       "      <td>20</td>\n",
       "      <td>93822</td>\n",
       "      <td>24</td>\n",
       "      <td>165531</td>\n",
       "      <td>44</td>\n",
       "      <td>242401</td>\n",
       "      <td>45</td>\n",
       "      <td>266748</td>\n",
       "      <td>619</td>\n",
       "      <td>581</td>\n",
       "      <td>1338</td>\n",
       "      <td>1294</td>\n",
       "    </tr>\n",
       "    <tr>\n",
       "      <th>2</th>\n",
       "      <td>2019-08-03</td>\n",
       "      <td>24</td>\n",
       "      <td>112473</td>\n",
       "      <td>16</td>\n",
       "      <td>114248</td>\n",
       "      <td>68</td>\n",
       "      <td>354874</td>\n",
       "      <td>61</td>\n",
       "      <td>380996</td>\n",
       "      <td>507</td>\n",
       "      <td>509</td>\n",
       "      <td>1845</td>\n",
       "      <td>1803</td>\n",
       "    </tr>\n",
       "    <tr>\n",
       "      <th>3</th>\n",
       "      <td>2019-08-04</td>\n",
       "      <td>16</td>\n",
       "      <td>70825</td>\n",
       "      <td>17</td>\n",
       "      <td>108571</td>\n",
       "      <td>84</td>\n",
       "      <td>425699</td>\n",
       "      <td>78</td>\n",
       "      <td>489567</td>\n",
       "      <td>717</td>\n",
       "      <td>770</td>\n",
       "      <td>2562</td>\n",
       "      <td>2573</td>\n",
       "    </tr>\n",
       "    <tr>\n",
       "      <th>4</th>\n",
       "      <td>2019-08-05</td>\n",
       "      <td>25</td>\n",
       "      <td>124218</td>\n",
       "      <td>23</td>\n",
       "      <td>92428</td>\n",
       "      <td>109</td>\n",
       "      <td>549917</td>\n",
       "      <td>101</td>\n",
       "      <td>581995</td>\n",
       "      <td>756</td>\n",
       "      <td>707</td>\n",
       "      <td>3318</td>\n",
       "      <td>3280</td>\n",
       "    </tr>\n",
       "  </tbody>\n",
       "</table>\n",
       "</div>"
      ],
      "text/plain": [
       "        date  ordersPerDateA  revenuePerDateA  ordersPerDateB  \\\n",
       "0 2019-08-01              24           148579              21   \n",
       "1 2019-08-02              20            93822              24   \n",
       "2 2019-08-03              24           112473              16   \n",
       "3 2019-08-04              16            70825              17   \n",
       "4 2019-08-05              25           124218              23   \n",
       "\n",
       "   revenuePerDateB  ordersCummulativeA  revenueCummulativeA  \\\n",
       "0           101217                  24               148579   \n",
       "1           165531                  44               242401   \n",
       "2           114248                  68               354874   \n",
       "3           108571                  84               425699   \n",
       "4            92428                 109               549917   \n",
       "\n",
       "   ordersCummulativeB  revenueCummulativeB  visitorsPerDateA  \\\n",
       "0                  21               101217               719   \n",
       "1                  45               266748               619   \n",
       "2                  61               380996               507   \n",
       "3                  78               489567               717   \n",
       "4                 101               581995               756   \n",
       "\n",
       "   visitorsPerDateB  visitorsCummulativeA  visitorsCummulativeB  \n",
       "0               713                   719                   713  \n",
       "1               581                  1338                  1294  \n",
       "2               509                  1845                  1803  \n",
       "3               770                  2562                  2573  \n",
       "4               707                  3318                  3280  "
      ]
     },
     "execution_count": 41,
     "metadata": {},
     "output_type": "execute_result"
    }
   ],
   "source": [
    "total_data = (\n",
    "    ordersADaily.merge(\n",
    "        ordersBDaily, left_on='date', right_on='date', how='left'\n",
    "    )\n",
    "    .merge(ordersACummulative, left_on='date', right_on='date', how='left')\n",
    "    .merge(ordersBCummulative, left_on='date', right_on='date', how='left')\n",
    "    .merge(visitorsADaily, left_on='date', right_on='date', how='left')\n",
    "    .merge(visitorsBDaily, left_on='date', right_on='date', how='left')\n",
    "    .merge(visitorsACummulative, left_on='date', right_on='date', how='left')\n",
    "    .merge(visitorsBCummulative, left_on='date', right_on='date', how='left')\n",
    ")\n",
    "\n",
    "total_data.head()"
   ]
  },
  {
   "cell_type": "markdown",
   "metadata": {},
   "source": [
    "Объявим переменные sampleA и sampleB, в которых будут отображаться пользователи и их число заказов. У пользователей без заказов будут нули.  "
   ]
  },
  {
   "cell_type": "code",
   "execution_count": 42,
   "metadata": {},
   "outputs": [],
   "source": [
    "ordersByUsersA = (\n",
    "    orders[orders['group'] == 'A']\n",
    "    .groupby('visitorId', as_index=False)\n",
    "    .agg({'transactionId': pd.Series.nunique})\n",
    ")\n",
    "\n",
    "ordersByUsersA.columns = ['userId', 'orders']\n",
    "\n",
    "ordersByUsersB = (\n",
    "    orders[orders['group'] == 'B']\n",
    "    .groupby('visitorId', as_index=False)\n",
    "    .agg({'transactionId': pd.Series.nunique})\n",
    ")\n",
    "\n",
    "ordersByUsersB.columns = ['userId', 'orders']\n",
    "\n",
    "sampleA = pd.concat([ordersByUsersA['orders'],pd.Series(\n",
    "    0, index=np.arange(total_data['visitorsPerDateA'].sum() - len(ordersByUsersA['orders'])), name='orders')],axis=0)\n",
    "\n",
    "sampleB = pd.concat([ordersByUsersB['orders'],pd.Series(\n",
    "    0, index=np.arange(total_data['visitorsPerDateB'].sum() - len(ordersByUsersB['orders'])), name='orders')],axis=0)\n"
   ]
  },
  {
   "cell_type": "markdown",
   "metadata": {},
   "source": [
    "Посчитаем статистическую значимость."
   ]
  },
  {
   "cell_type": "code",
   "execution_count": 43,
   "metadata": {},
   "outputs": [
    {
     "data": {
      "text/plain": [
       "'p-value: 0.01679'"
      ]
     },
     "metadata": {},
     "output_type": "display_data"
    },
    {
     "data": {
      "text/plain": [
       "'Относительный прирост среднего группы B по отношению к группе A: 0.138'"
      ]
     },
     "metadata": {},
     "output_type": "display_data"
    }
   ],
   "source": [
    "display('p-value: ' \"{0:.5f}\".format(stats.mannwhitneyu(sampleA, sampleB)[1]))\n",
    "\n",
    "\n",
    "display('Относительный прирост среднего группы B по отношению к группе A: '\n",
    "    \"{0:.3f}\".format(\n",
    "        (total_data['ordersPerDateB'].sum() / total_data['visitorsPerDateB'].sum())\n",
    "        / (total_data['ordersPerDateA'].sum() / total_data['visitorsPerDateA'].sum())\n",
    "        - 1\n",
    "    )\n",
    ")"
   ]
  },
  {
   "cell_type": "markdown",
   "metadata": {},
   "source": [
    "**Вывод:** Проанализировав \"сырые данные\" по различиям в конверсии между группами выяснили, что: p-value меньше 5%, в связи с чем принимаем решение отвергнуть нулевую гипотезу. Анализ показал, что между группами есть статистическая значимость. Относительный прирост среднего группы B по отношению к группе A составило почти 14%. "
   ]
  },
  {
   "cell_type": "markdown",
   "metadata": {},
   "source": [
    "**11. Посчитаем статистическую значимость различий в среднем чеке заказа между группами по «сырым» данным.**"
   ]
  },
  {
   "cell_type": "markdown",
   "metadata": {},
   "source": [
    "Определим нулевую и альтернативную гипотезы: \n",
    "* Нулевая гипотеза: различий в среднем чеке между группами нет. \n",
    "* Альтернативная гипотеза: различия в среднем чеке между группами есть."
   ]
  },
  {
   "cell_type": "markdown",
   "metadata": {},
   "source": [
    "Рассчитаем статистическую значимость различий в среднем чеке заказа между группами по \"сырым\" данным.  "
   ]
  },
  {
   "cell_type": "code",
   "execution_count": 44,
   "metadata": {},
   "outputs": [
    {
     "data": {
      "text/plain": [
       "'p-value: 0.729'"
      ]
     },
     "metadata": {},
     "output_type": "display_data"
    },
    {
     "data": {
      "text/plain": [
       "'Относительное различие среднего чека между группами: 0.259'"
      ]
     },
     "metadata": {},
     "output_type": "display_data"
    }
   ],
   "source": [
    "display('p-value: ' '{0:.3f}'.format(stats.mannwhitneyu(\n",
    "    orders[orders['group']=='A']['revenue'], orders[orders['group']=='B']['revenue'])[1]))\n",
    "display('Относительное различие среднего чека между группами: ' '{0:.3f}'.format(\n",
    "    orders[orders['group']=='B']['revenue'].mean()/orders[orders['group']=='A']['revenue'].mean()-1))"
   ]
  },
  {
   "cell_type": "markdown",
   "metadata": {},
   "source": [
    "**Вывод:** Проанализировав \"сырые данные\" различий в среднем чеке заказа между группами мы выяснили, что p-value больше 0.05 (0.729). Это означает, что статистически значимых отличий в среднем чеке между группами нет, следовательно, нулевую гипотезу мы не отвергаем. Относительное различие среднего чека между группами составило почти 26%."
   ]
  },
  {
   "cell_type": "markdown",
   "metadata": {},
   "source": [
    "**12. Посчитаем статистическую значимость различий в конверсии между группами по «очищенным» данным.**"
   ]
  },
  {
   "cell_type": "markdown",
   "metadata": {},
   "source": [
    "Чтобы посчитать статистическую значимость по очищенным данным, для начала нам нужно избавиться от аномалий.\n",
    "\n",
    "Рассчитав 95-й и 99-й перцентили нам стали известны выбивающиеся из общего массива заказы. Примем за аномальных пользователей тех, кто совершил 3 заказа и более, или совершил заказ на сумму свыше 28 000 рублей.\n",
    "\n",
    "Создадим 2 датафрейма, в которых сохраним пользователей с числом заказов больше 2 (many_orders), и пользователей, совершивших заказы дороже 28 000 (expensive_orders). Объединим всех аномальных пользователей в одну общую таблицу - not_normal_users, и удалим их."
   ]
  },
  {
   "cell_type": "code",
   "execution_count": 45,
   "metadata": {},
   "outputs": [],
   "source": [
    "many_orders = pd.concat(\n",
    "    [\n",
    "        ordersByUsersA[ordersByUsersA['orders'] > 2]['userId'],\n",
    "        ordersByUsersB[ordersByUsersB['orders'] > 2]['userId'],\n",
    "    ],\n",
    "    axis=0,\n",
    ")\n",
    "expensive_orders = orders[orders['revenue'] > 28000]['visitorId']\n",
    "not_normal_users = (\n",
    "    pd.concat([many_orders, expensive_orders], axis=0)\n",
    "    .drop_duplicates()\n",
    "    .sort_values()\n",
    ")"
   ]
  },
  {
   "cell_type": "markdown",
   "metadata": {},
   "source": [
    "Теперь можно приступить к расчету статистическую значимость различий в конверсии между группами по \"очищенным\" данным. Создадим 2 датафрейма в которых сохраним очищенные данные."
   ]
  },
  {
   "cell_type": "code",
   "execution_count": 46,
   "metadata": {},
   "outputs": [
    {
     "data": {
      "text/plain": [
       "'p-value: 0.01304'"
      ]
     },
     "metadata": {},
     "output_type": "display_data"
    },
    {
     "data": {
      "text/plain": [
       "'Относительный прирост среднего группы B по отношению к группе A: 0.173'"
      ]
     },
     "metadata": {},
     "output_type": "display_data"
    }
   ],
   "source": [
    "filtered_A_group = pd.concat(\n",
    "    [\n",
    "        ordersByUsersA[\n",
    "            np.logical_not(ordersByUsersA['userId'].isin(not_normal_users))\n",
    "        ]['orders'],\n",
    "        pd.Series(\n",
    "            0,\n",
    "            index=np.arange(\n",
    "                total_data['visitorsPerDateA'].sum() - len(ordersByUsersA['orders'])\n",
    "            ),\n",
    "            name='orders',\n",
    "        ),\n",
    "    ],\n",
    "    axis=0,\n",
    ")\n",
    "\n",
    "filtered_B_group = pd.concat(\n",
    "    [\n",
    "        ordersByUsersB[\n",
    "            np.logical_not(ordersByUsersB['userId'].isin(not_normal_users))\n",
    "        ]['orders'],\n",
    "        pd.Series(\n",
    "            0,\n",
    "            index=np.arange(\n",
    "                total_data['visitorsPerDateB'].sum() - len(ordersByUsersB['orders'])\n",
    "            ),\n",
    "            name='orders',\n",
    "        ),\n",
    "    ],\n",
    "    axis=0,\n",
    ")\n",
    "\n",
    "\n",
    "display('p-value: ' '{0:.5f}'.format(stats.mannwhitneyu(filtered_A_group, filtered_B_group)[1]))\n",
    "display('Относительный прирост среднего группы B по отношению к группе A: ' '{0:.3f}'.format(\n",
    "    filtered_B_group.mean()/filtered_A_group.mean()-1))"
   ]
  },
  {
   "cell_type": "markdown",
   "metadata": {},
   "source": [
    "**Вывод:** Проанализировав \"очищенные данные\" по различиям в конверсии между группами выяснили, что результаты практически не отличаются. p-value также меньше 5%, в связи с чем принимаем решение отвергнуть нулевую гипотезу. Анализ показал, что между группами есть статистическая значимость. Сегмент В лучше сегмента А. "
   ]
  },
  {
   "cell_type": "markdown",
   "metadata": {},
   "source": [
    "**13. Посчитаем статистическую значимость различий в среднем чеке заказа между группами по «очищенным» данным.**"
   ]
  },
  {
   "cell_type": "code",
   "execution_count": 47,
   "metadata": {},
   "outputs": [
    {
     "data": {
      "text/plain": [
       "'p-value: 0.738'"
      ]
     },
     "metadata": {},
     "output_type": "display_data"
    },
    {
     "data": {
      "text/plain": [
       "'Относительное различие среднего чека между группами: -0.020'"
      ]
     },
     "metadata": {},
     "output_type": "display_data"
    }
   ],
   "source": [
    "display('p-value: ' \n",
    "    '{0:.3f}'.format(\n",
    "        stats.mannwhitneyu(\n",
    "            orders[\n",
    "                np.logical_and(\n",
    "                    orders['group'] == 'A',\n",
    "                    np.logical_not(orders['visitorId'].isin(not_normal_users)),\n",
    "                )\n",
    "            ]['revenue'],\n",
    "            orders[\n",
    "                np.logical_and(\n",
    "                    orders['group'] == 'B',\n",
    "                    np.logical_not(orders['visitorId'].isin(not_normal_users)),\n",
    "                )\n",
    "            ]['revenue'],\n",
    "        )[1]\n",
    "    )\n",
    ")\n",
    "\n",
    "display('Относительное различие среднего чека между группами: ' \n",
    "    \"{0:.3f}\".format(\n",
    "        orders[\n",
    "            np.logical_and(\n",
    "                orders['group'] == 'B',\n",
    "                np.logical_not(orders['visitorId'].isin(not_normal_users)),\n",
    "            )\n",
    "        ]['revenue'].mean()\n",
    "        / orders[\n",
    "            np.logical_and(\n",
    "                orders['group'] == 'A',\n",
    "                np.logical_not(orders['visitorId'].isin(not_normal_users)),\n",
    "            )\n",
    "        ]['revenue'].mean()\n",
    "        - 1\n",
    "    )\n",
    ")"
   ]
  },
  {
   "cell_type": "markdown",
   "metadata": {},
   "source": [
    "**Вывод:** Проанализировав \"очищенные данные\" различий в среднем чеке заказа между группами мы выяснили, что p-value остался практически без изменений, он также больше 0.05. Следовательно, статистически значимых отличий в среднем чеке между группами нет, нулевую гипотезу мы не отвергаем. Однако разница между сегментами сократилась с 25% до 2%. "
   ]
  },
  {
   "cell_type": "markdown",
   "metadata": {},
   "source": [
    "## Шаг 4. Общий вывод"
   ]
  },
  {
   "cell_type": "markdown",
   "metadata": {},
   "source": [
    "В нашем распоряжении данные интернет-магазине. Нашей задачей было проверить ряд гипотез, при которых интернет-магазин сможет увеличить свою выручку. Мы провели предобработку данных: изменили типы данных и названия колонок, проверили на наличие дубликатов. Мы приоритизировали гипотезы, запустили A/B-тест и проанализировали результаты. "
   ]
  },
  {
   "cell_type": "markdown",
   "metadata": {},
   "source": [
    "По проведенному анализу можно определить следующие факты:\n",
    "* Есть статистически значимое различие по конверсии между группами как по сырым данным, так и после фильтрации аномалий;\n",
    "* По сырым и очищенным данным статистически значимых отличий в среднем чеке между группами нет. Однако после удаления аномалий разница между сегментами сократилась с 25% до 2%;\n",
    "* График различия конверсии между группами сообщает, что результаты группы B лучше группы A: конверсия группы B падала и поднималась, но ближе к концу анализа она начала расти вверх;\n",
    "* График различия среднего чека натолкнул на мысль об аномалиях: график колебался, имел резкие подъемы и резкие падения. "
   ]
  },
  {
   "cell_type": "markdown",
   "metadata": {},
   "source": [
    "Исходя из обнаруженных фактов, тест следует остановить и зафиксировать победу группы В. Продолжать смысла нет, потому как вероятность, что при имеющихся данных сегмент А на самом деле лучше сегмента В крайне мала. "
   ]
  }
 ],
 "metadata": {
  "ExecuteTimeLog": [
   {
    "duration": 413,
    "start_time": "2022-07-06T10:13:40.181Z"
   },
   {
    "duration": 72,
    "start_time": "2022-07-06T10:14:10.658Z"
   },
   {
    "duration": 65,
    "start_time": "2022-07-06T10:14:33.311Z"
   },
   {
    "duration": 54,
    "start_time": "2022-07-06T10:15:32.767Z"
   },
   {
    "duration": 106,
    "start_time": "2022-07-06T10:18:03.255Z"
   },
   {
    "duration": 46,
    "start_time": "2022-07-06T10:18:08.655Z"
   },
   {
    "duration": 38,
    "start_time": "2022-07-06T10:25:15.609Z"
   },
   {
    "duration": 13,
    "start_time": "2022-07-06T10:31:34.961Z"
   },
   {
    "duration": 15,
    "start_time": "2022-07-06T10:31:44.817Z"
   },
   {
    "duration": 10,
    "start_time": "2022-07-06T10:31:48.611Z"
   },
   {
    "duration": 6,
    "start_time": "2022-07-06T10:32:13.207Z"
   },
   {
    "duration": 8,
    "start_time": "2022-07-06T10:32:19.756Z"
   },
   {
    "duration": 13,
    "start_time": "2022-07-06T10:32:27.598Z"
   },
   {
    "duration": 29,
    "start_time": "2022-07-06T10:33:24.240Z"
   },
   {
    "duration": 8,
    "start_time": "2022-07-06T10:34:05.053Z"
   },
   {
    "duration": 26,
    "start_time": "2022-07-06T10:34:05.657Z"
   },
   {
    "duration": 9,
    "start_time": "2022-07-06T10:34:49.107Z"
   },
   {
    "duration": 15,
    "start_time": "2022-07-06T10:34:50.819Z"
   },
   {
    "duration": 6,
    "start_time": "2022-07-06T10:34:58.065Z"
   },
   {
    "duration": 402,
    "start_time": "2022-07-06T10:35:37.555Z"
   },
   {
    "duration": 35,
    "start_time": "2022-07-06T10:35:37.959Z"
   },
   {
    "duration": 42,
    "start_time": "2022-07-06T10:35:37.997Z"
   },
   {
    "duration": 34,
    "start_time": "2022-07-06T10:35:38.041Z"
   },
   {
    "duration": 10,
    "start_time": "2022-07-06T10:35:38.078Z"
   },
   {
    "duration": 28,
    "start_time": "2022-07-06T10:35:38.090Z"
   },
   {
    "duration": 9,
    "start_time": "2022-07-06T10:35:38.120Z"
   },
   {
    "duration": 43,
    "start_time": "2022-07-06T10:35:38.130Z"
   },
   {
    "duration": 3,
    "start_time": "2022-07-06T10:36:17.693Z"
   },
   {
    "duration": 11,
    "start_time": "2022-07-06T10:50:35.295Z"
   },
   {
    "duration": 13,
    "start_time": "2022-07-06T10:53:05.890Z"
   },
   {
    "duration": 15,
    "start_time": "2022-07-06T10:54:19.314Z"
   },
   {
    "duration": 13,
    "start_time": "2022-07-06T10:54:22.565Z"
   },
   {
    "duration": 19,
    "start_time": "2022-07-06T10:54:33.066Z"
   },
   {
    "duration": 18,
    "start_time": "2022-07-06T10:54:53.567Z"
   },
   {
    "duration": 185,
    "start_time": "2022-07-06T10:55:24.911Z"
   },
   {
    "duration": 23,
    "start_time": "2022-07-06T10:55:25.421Z"
   },
   {
    "duration": 90,
    "start_time": "2022-07-06T10:55:38.999Z"
   },
   {
    "duration": 37,
    "start_time": "2022-07-06T10:55:57.950Z"
   },
   {
    "duration": 51,
    "start_time": "2022-07-06T10:56:14.515Z"
   },
   {
    "duration": 35,
    "start_time": "2022-07-06T10:56:23.006Z"
   },
   {
    "duration": 25,
    "start_time": "2022-07-06T10:57:06.396Z"
   },
   {
    "duration": 23,
    "start_time": "2022-07-06T10:59:04.936Z"
   },
   {
    "duration": 15,
    "start_time": "2022-07-06T10:59:07.884Z"
   },
   {
    "duration": 24,
    "start_time": "2022-07-06T10:59:36.614Z"
   },
   {
    "duration": 14,
    "start_time": "2022-07-06T10:59:50.079Z"
   },
   {
    "duration": 16,
    "start_time": "2022-07-06T11:00:06.191Z"
   },
   {
    "duration": 31,
    "start_time": "2022-07-06T11:02:19.416Z"
   },
   {
    "duration": 580,
    "start_time": "2022-07-06T11:02:25.603Z"
   },
   {
    "duration": 57,
    "start_time": "2022-07-06T11:02:26.185Z"
   },
   {
    "duration": 57,
    "start_time": "2022-07-06T11:02:26.251Z"
   },
   {
    "duration": 36,
    "start_time": "2022-07-06T11:02:26.311Z"
   },
   {
    "duration": 11,
    "start_time": "2022-07-06T11:02:26.350Z"
   },
   {
    "duration": 39,
    "start_time": "2022-07-06T11:02:26.363Z"
   },
   {
    "duration": 8,
    "start_time": "2022-07-06T11:02:26.404Z"
   },
   {
    "duration": 56,
    "start_time": "2022-07-06T11:02:26.431Z"
   },
   {
    "duration": 12,
    "start_time": "2022-07-06T11:02:26.490Z"
   },
   {
    "duration": 11,
    "start_time": "2022-07-06T11:02:26.506Z"
   },
   {
    "duration": 163,
    "start_time": "2022-07-06T11:02:26.520Z"
   },
   {
    "duration": 41,
    "start_time": "2022-07-06T11:02:30.410Z"
   },
   {
    "duration": 11,
    "start_time": "2022-07-06T11:05:54.520Z"
   },
   {
    "duration": 13,
    "start_time": "2022-07-06T11:06:43.608Z"
   },
   {
    "duration": 30,
    "start_time": "2022-07-06T11:06:48.957Z"
   },
   {
    "duration": 470,
    "start_time": "2022-07-06T11:06:55.500Z"
   },
   {
    "duration": 56,
    "start_time": "2022-07-06T11:06:55.977Z"
   },
   {
    "duration": 81,
    "start_time": "2022-07-06T11:06:56.035Z"
   },
   {
    "duration": 29,
    "start_time": "2022-07-06T11:06:56.118Z"
   },
   {
    "duration": 26,
    "start_time": "2022-07-06T11:06:56.152Z"
   },
   {
    "duration": 49,
    "start_time": "2022-07-06T11:06:56.181Z"
   },
   {
    "duration": 60,
    "start_time": "2022-07-06T11:06:56.233Z"
   },
   {
    "duration": 23,
    "start_time": "2022-07-06T11:06:56.296Z"
   },
   {
    "duration": 12,
    "start_time": "2022-07-06T11:06:56.321Z"
   },
   {
    "duration": 44,
    "start_time": "2022-07-06T11:06:56.336Z"
   },
   {
    "duration": 28,
    "start_time": "2022-07-06T11:06:56.382Z"
   },
   {
    "duration": 23,
    "start_time": "2022-07-06T11:06:56.412Z"
   },
   {
    "duration": 18,
    "start_time": "2022-07-06T11:07:02.395Z"
   },
   {
    "duration": 9,
    "start_time": "2022-07-06T11:22:12.982Z"
   },
   {
    "duration": 7,
    "start_time": "2022-07-06T11:22:26.459Z"
   },
   {
    "duration": 5,
    "start_time": "2022-07-06T11:24:45.765Z"
   },
   {
    "duration": 5,
    "start_time": "2022-07-06T11:25:21.556Z"
   },
   {
    "duration": 106,
    "start_time": "2022-07-06T11:25:49.981Z"
   },
   {
    "duration": 22,
    "start_time": "2022-07-06T11:25:55.259Z"
   },
   {
    "duration": 9,
    "start_time": "2022-07-06T11:26:23.182Z"
   },
   {
    "duration": 13,
    "start_time": "2022-07-06T11:58:58.891Z"
   },
   {
    "duration": 14,
    "start_time": "2022-07-06T12:32:32.076Z"
   },
   {
    "duration": 25,
    "start_time": "2022-07-06T12:32:43.616Z"
   },
   {
    "duration": 283,
    "start_time": "2022-07-06T12:32:47.319Z"
   },
   {
    "duration": 426,
    "start_time": "2022-07-06T12:33:12.573Z"
   },
   {
    "duration": 51,
    "start_time": "2022-07-06T12:33:13.001Z"
   },
   {
    "duration": 33,
    "start_time": "2022-07-06T12:33:13.059Z"
   },
   {
    "duration": 22,
    "start_time": "2022-07-06T12:33:13.095Z"
   },
   {
    "duration": 17,
    "start_time": "2022-07-06T12:33:13.119Z"
   },
   {
    "duration": 45,
    "start_time": "2022-07-06T12:33:13.139Z"
   },
   {
    "duration": 7,
    "start_time": "2022-07-06T12:33:13.187Z"
   },
   {
    "duration": 11,
    "start_time": "2022-07-06T12:33:13.196Z"
   },
   {
    "duration": 26,
    "start_time": "2022-07-06T12:33:13.210Z"
   },
   {
    "duration": 24,
    "start_time": "2022-07-06T12:33:13.239Z"
   },
   {
    "duration": 29,
    "start_time": "2022-07-06T12:33:13.264Z"
   },
   {
    "duration": 11,
    "start_time": "2022-07-06T12:33:13.294Z"
   },
   {
    "duration": 14,
    "start_time": "2022-07-06T12:33:13.307Z"
   },
   {
    "duration": 404,
    "start_time": "2022-07-06T12:33:13.322Z"
   },
   {
    "duration": 0,
    "start_time": "2022-07-06T12:33:13.727Z"
   },
   {
    "duration": 0,
    "start_time": "2022-07-06T12:33:13.728Z"
   },
   {
    "duration": 18,
    "start_time": "2022-07-06T12:33:30.269Z"
   },
   {
    "duration": 488,
    "start_time": "2022-07-06T12:34:18.912Z"
   },
   {
    "duration": 59,
    "start_time": "2022-07-06T12:34:19.403Z"
   },
   {
    "duration": 34,
    "start_time": "2022-07-06T12:34:19.464Z"
   },
   {
    "duration": 24,
    "start_time": "2022-07-06T12:34:19.500Z"
   },
   {
    "duration": 6,
    "start_time": "2022-07-06T12:34:19.532Z"
   },
   {
    "duration": 47,
    "start_time": "2022-07-06T12:34:19.541Z"
   },
   {
    "duration": 8,
    "start_time": "2022-07-06T12:34:19.590Z"
   },
   {
    "duration": 19,
    "start_time": "2022-07-06T12:34:19.600Z"
   },
   {
    "duration": 39,
    "start_time": "2022-07-06T12:34:19.622Z"
   },
   {
    "duration": 6,
    "start_time": "2022-07-06T12:34:19.663Z"
   },
   {
    "duration": 17,
    "start_time": "2022-07-06T12:34:19.671Z"
   },
   {
    "duration": 11,
    "start_time": "2022-07-06T12:34:19.690Z"
   },
   {
    "duration": 13,
    "start_time": "2022-07-06T12:34:19.703Z"
   },
   {
    "duration": 46,
    "start_time": "2022-07-06T12:34:19.724Z"
   },
   {
    "duration": 17,
    "start_time": "2022-07-06T12:34:19.772Z"
   },
   {
    "duration": 11,
    "start_time": "2022-07-06T12:34:19.791Z"
   },
   {
    "duration": 441,
    "start_time": "2022-07-06T12:35:50.197Z"
   },
   {
    "duration": 47,
    "start_time": "2022-07-06T12:35:50.642Z"
   },
   {
    "duration": 34,
    "start_time": "2022-07-06T12:35:50.691Z"
   },
   {
    "duration": 40,
    "start_time": "2022-07-06T12:35:50.728Z"
   },
   {
    "duration": 14,
    "start_time": "2022-07-06T12:35:50.769Z"
   },
   {
    "duration": 339,
    "start_time": "2022-07-06T12:35:50.785Z"
   },
   {
    "duration": 0,
    "start_time": "2022-07-06T12:35:51.141Z"
   },
   {
    "duration": 0,
    "start_time": "2022-07-06T12:35:51.145Z"
   },
   {
    "duration": 0,
    "start_time": "2022-07-06T12:35:51.145Z"
   },
   {
    "duration": 0,
    "start_time": "2022-07-06T12:35:51.146Z"
   },
   {
    "duration": 0,
    "start_time": "2022-07-06T12:35:51.151Z"
   },
   {
    "duration": 0,
    "start_time": "2022-07-06T12:35:51.154Z"
   },
   {
    "duration": 0,
    "start_time": "2022-07-06T12:35:51.155Z"
   },
   {
    "duration": 0,
    "start_time": "2022-07-06T12:35:51.155Z"
   },
   {
    "duration": 0,
    "start_time": "2022-07-06T12:35:51.156Z"
   },
   {
    "duration": 0,
    "start_time": "2022-07-06T12:35:51.157Z"
   },
   {
    "duration": 0,
    "start_time": "2022-07-06T12:35:51.158Z"
   },
   {
    "duration": 0,
    "start_time": "2022-07-06T12:35:51.159Z"
   },
   {
    "duration": 4,
    "start_time": "2022-07-06T12:36:42.053Z"
   },
   {
    "duration": 418,
    "start_time": "2022-07-06T12:36:46.479Z"
   },
   {
    "duration": 52,
    "start_time": "2022-07-06T12:36:46.900Z"
   },
   {
    "duration": 35,
    "start_time": "2022-07-06T12:36:46.954Z"
   },
   {
    "duration": 23,
    "start_time": "2022-07-06T12:36:46.992Z"
   },
   {
    "duration": 19,
    "start_time": "2022-07-06T12:36:47.016Z"
   },
   {
    "duration": 4,
    "start_time": "2022-07-06T12:36:47.037Z"
   },
   {
    "duration": 2,
    "start_time": "2022-07-06T12:36:47.043Z"
   },
   {
    "duration": 25,
    "start_time": "2022-07-06T12:36:47.046Z"
   },
   {
    "duration": 6,
    "start_time": "2022-07-06T12:36:47.073Z"
   },
   {
    "duration": 9,
    "start_time": "2022-07-06T12:36:47.082Z"
   },
   {
    "duration": 12,
    "start_time": "2022-07-06T12:36:47.136Z"
   },
   {
    "duration": 14,
    "start_time": "2022-07-06T12:36:47.151Z"
   },
   {
    "duration": 17,
    "start_time": "2022-07-06T12:36:47.167Z"
   },
   {
    "duration": 10,
    "start_time": "2022-07-06T12:36:47.186Z"
   },
   {
    "duration": 33,
    "start_time": "2022-07-06T12:36:47.198Z"
   },
   {
    "duration": 373,
    "start_time": "2022-07-06T12:36:47.233Z"
   },
   {
    "duration": 0,
    "start_time": "2022-07-06T12:36:47.609Z"
   },
   {
    "duration": 0,
    "start_time": "2022-07-06T12:36:47.610Z"
   },
   {
    "duration": 7,
    "start_time": "2022-07-06T12:39:26.309Z"
   },
   {
    "duration": 11,
    "start_time": "2022-07-06T12:39:29.698Z"
   },
   {
    "duration": 13,
    "start_time": "2022-07-06T12:39:35.153Z"
   },
   {
    "duration": 12,
    "start_time": "2022-07-06T12:39:47.853Z"
   },
   {
    "duration": 26,
    "start_time": "2022-07-06T12:43:39.104Z"
   },
   {
    "duration": 18,
    "start_time": "2022-07-06T12:43:50.385Z"
   },
   {
    "duration": 15,
    "start_time": "2022-07-06T12:44:05.250Z"
   },
   {
    "duration": 10,
    "start_time": "2022-07-06T12:44:05.792Z"
   },
   {
    "duration": 22,
    "start_time": "2022-07-06T12:44:38.816Z"
   },
   {
    "duration": 28,
    "start_time": "2022-07-06T12:44:44.455Z"
   },
   {
    "duration": 304,
    "start_time": "2022-07-06T12:48:41.959Z"
   },
   {
    "duration": 35,
    "start_time": "2022-07-06T12:50:17.692Z"
   },
   {
    "duration": 220,
    "start_time": "2022-07-06T12:50:34.220Z"
   },
   {
    "duration": 17,
    "start_time": "2022-07-06T12:50:40.883Z"
   },
   {
    "duration": 207,
    "start_time": "2022-07-06T12:51:04.556Z"
   },
   {
    "duration": 283,
    "start_time": "2022-07-06T12:51:10.211Z"
   },
   {
    "duration": 252,
    "start_time": "2022-07-06T12:51:31.978Z"
   },
   {
    "duration": 241,
    "start_time": "2022-07-06T12:51:34.964Z"
   },
   {
    "duration": 216,
    "start_time": "2022-07-06T12:55:03.192Z"
   },
   {
    "duration": 15,
    "start_time": "2022-07-06T12:57:34.153Z"
   },
   {
    "duration": 15,
    "start_time": "2022-07-06T12:57:45.669Z"
   },
   {
    "duration": 13,
    "start_time": "2022-07-06T12:57:53.063Z"
   },
   {
    "duration": 9,
    "start_time": "2022-07-06T12:59:30.558Z"
   },
   {
    "duration": 12,
    "start_time": "2022-07-06T12:59:42.356Z"
   },
   {
    "duration": 10,
    "start_time": "2022-07-06T14:13:38.789Z"
   },
   {
    "duration": 9,
    "start_time": "2022-07-06T14:22:11.179Z"
   },
   {
    "duration": 656,
    "start_time": "2022-07-06T14:22:19.922Z"
   },
   {
    "duration": 33,
    "start_time": "2022-07-06T14:22:20.580Z"
   },
   {
    "duration": 34,
    "start_time": "2022-07-06T14:22:20.615Z"
   },
   {
    "duration": 24,
    "start_time": "2022-07-06T14:22:20.652Z"
   },
   {
    "duration": 16,
    "start_time": "2022-07-06T14:22:20.677Z"
   },
   {
    "duration": 39,
    "start_time": "2022-07-06T14:22:20.695Z"
   },
   {
    "duration": 12,
    "start_time": "2022-07-06T14:22:20.736Z"
   },
   {
    "duration": 28,
    "start_time": "2022-07-06T14:22:20.750Z"
   },
   {
    "duration": 8,
    "start_time": "2022-07-06T14:22:20.780Z"
   },
   {
    "duration": 15,
    "start_time": "2022-07-06T14:22:20.791Z"
   },
   {
    "duration": 16,
    "start_time": "2022-07-06T14:22:20.808Z"
   },
   {
    "duration": 15,
    "start_time": "2022-07-06T14:22:20.826Z"
   },
   {
    "duration": 23,
    "start_time": "2022-07-06T14:22:20.845Z"
   },
   {
    "duration": 12,
    "start_time": "2022-07-06T14:22:20.870Z"
   },
   {
    "duration": 26,
    "start_time": "2022-07-06T14:22:20.883Z"
   },
   {
    "duration": 22,
    "start_time": "2022-07-06T14:22:20.911Z"
   },
   {
    "duration": 190,
    "start_time": "2022-07-06T14:22:20.935Z"
   },
   {
    "duration": 137,
    "start_time": "2022-07-06T14:22:21.127Z"
   },
   {
    "duration": 17,
    "start_time": "2022-07-06T14:22:21.266Z"
   },
   {
    "duration": 15,
    "start_time": "2022-07-06T14:22:21.284Z"
   },
   {
    "duration": 280,
    "start_time": "2022-07-06T14:22:21.301Z"
   },
   {
    "duration": 8,
    "start_time": "2022-07-06T14:22:21.583Z"
   },
   {
    "duration": 19,
    "start_time": "2022-07-06T14:22:21.593Z"
   },
   {
    "duration": 10,
    "start_time": "2022-07-06T14:22:21.623Z"
   },
   {
    "duration": 188,
    "start_time": "2022-07-06T14:28:05.760Z"
   },
   {
    "duration": 7,
    "start_time": "2022-07-06T14:39:32.794Z"
   },
   {
    "duration": 6,
    "start_time": "2022-07-06T14:39:45.130Z"
   },
   {
    "duration": 283,
    "start_time": "2022-07-06T14:40:34.944Z"
   },
   {
    "duration": 7,
    "start_time": "2022-07-06T14:57:26.252Z"
   },
   {
    "duration": 7,
    "start_time": "2022-07-06T14:57:26.947Z"
   },
   {
    "duration": 6,
    "start_time": "2022-07-06T14:57:54.336Z"
   },
   {
    "duration": 5,
    "start_time": "2022-07-06T14:57:54.746Z"
   },
   {
    "duration": 6,
    "start_time": "2022-07-06T15:02:10.773Z"
   },
   {
    "duration": 5,
    "start_time": "2022-07-06T15:03:08.388Z"
   },
   {
    "duration": 372,
    "start_time": "2022-07-06T15:03:23.987Z"
   },
   {
    "duration": 224,
    "start_time": "2022-07-06T15:10:21.715Z"
   },
   {
    "duration": 203,
    "start_time": "2022-07-06T15:10:35.681Z"
   },
   {
    "duration": 229,
    "start_time": "2022-07-06T15:10:45.538Z"
   },
   {
    "duration": 14,
    "start_time": "2022-07-06T15:11:44.856Z"
   },
   {
    "duration": 15,
    "start_time": "2022-07-06T15:12:30.328Z"
   },
   {
    "duration": 17,
    "start_time": "2022-07-06T15:13:04.214Z"
   },
   {
    "duration": 219,
    "start_time": "2022-07-06T15:13:09.935Z"
   },
   {
    "duration": 233,
    "start_time": "2022-07-06T15:13:47.622Z"
   },
   {
    "duration": 246,
    "start_time": "2022-07-06T15:13:53.077Z"
   },
   {
    "duration": 227,
    "start_time": "2022-07-06T15:14:40.611Z"
   },
   {
    "duration": 6,
    "start_time": "2022-07-06T15:14:46.917Z"
   },
   {
    "duration": 226,
    "start_time": "2022-07-06T15:14:55.412Z"
   },
   {
    "duration": 227,
    "start_time": "2022-07-06T15:16:36.818Z"
   },
   {
    "duration": 192,
    "start_time": "2022-07-06T15:16:47.050Z"
   },
   {
    "duration": 256,
    "start_time": "2022-07-06T15:17:31.417Z"
   },
   {
    "duration": 765,
    "start_time": "2022-07-07T09:29:27.692Z"
   },
   {
    "duration": 69,
    "start_time": "2022-07-07T09:29:28.461Z"
   },
   {
    "duration": 55,
    "start_time": "2022-07-07T09:29:28.532Z"
   },
   {
    "duration": 46,
    "start_time": "2022-07-07T09:29:28.590Z"
   },
   {
    "duration": 13,
    "start_time": "2022-07-07T09:29:28.637Z"
   },
   {
    "duration": 12,
    "start_time": "2022-07-07T09:29:28.652Z"
   },
   {
    "duration": 6,
    "start_time": "2022-07-07T09:29:28.666Z"
   },
   {
    "duration": 22,
    "start_time": "2022-07-07T09:29:28.674Z"
   },
   {
    "duration": 6,
    "start_time": "2022-07-07T09:29:28.698Z"
   },
   {
    "duration": 13,
    "start_time": "2022-07-07T09:29:28.706Z"
   },
   {
    "duration": 29,
    "start_time": "2022-07-07T09:29:28.721Z"
   },
   {
    "duration": 6,
    "start_time": "2022-07-07T09:29:28.752Z"
   },
   {
    "duration": 18,
    "start_time": "2022-07-07T09:29:28.760Z"
   },
   {
    "duration": 11,
    "start_time": "2022-07-07T09:29:28.780Z"
   },
   {
    "duration": 17,
    "start_time": "2022-07-07T09:29:28.792Z"
   },
   {
    "duration": 45,
    "start_time": "2022-07-07T09:29:28.811Z"
   },
   {
    "duration": 178,
    "start_time": "2022-07-07T09:29:28.858Z"
   },
   {
    "duration": 167,
    "start_time": "2022-07-07T09:29:29.038Z"
   },
   {
    "duration": 14,
    "start_time": "2022-07-07T09:29:29.209Z"
   },
   {
    "duration": 25,
    "start_time": "2022-07-07T09:29:29.225Z"
   },
   {
    "duration": 284,
    "start_time": "2022-07-07T09:29:29.252Z"
   },
   {
    "duration": 189,
    "start_time": "2022-07-07T09:29:29.538Z"
   },
   {
    "duration": 7,
    "start_time": "2022-07-07T09:29:29.728Z"
   },
   {
    "duration": 329,
    "start_time": "2022-07-07T09:29:29.746Z"
   },
   {
    "duration": 4,
    "start_time": "2022-07-07T09:29:30.078Z"
   },
   {
    "duration": 34,
    "start_time": "2022-07-07T09:29:30.084Z"
   },
   {
    "duration": 251,
    "start_time": "2022-07-07T09:29:30.120Z"
   },
   {
    "duration": 9,
    "start_time": "2022-07-07T09:29:30.374Z"
   },
   {
    "duration": 23,
    "start_time": "2022-07-07T09:29:30.385Z"
   },
   {
    "duration": 18,
    "start_time": "2022-07-07T09:29:30.409Z"
   },
   {
    "duration": 379,
    "start_time": "2022-07-07T09:39:09.292Z"
   },
   {
    "duration": 149,
    "start_time": "2022-07-07T09:41:00.153Z"
   },
   {
    "duration": 163,
    "start_time": "2022-07-07T09:41:33.039Z"
   },
   {
    "duration": 236,
    "start_time": "2022-07-07T09:42:19.689Z"
   },
   {
    "duration": 242,
    "start_time": "2022-07-07T09:42:47.967Z"
   },
   {
    "duration": 225,
    "start_time": "2022-07-07T09:42:59.686Z"
   },
   {
    "duration": 244,
    "start_time": "2022-07-07T09:44:26.461Z"
   },
   {
    "duration": 268,
    "start_time": "2022-07-07T09:45:42.744Z"
   },
   {
    "duration": 225,
    "start_time": "2022-07-07T09:45:55.986Z"
   },
   {
    "duration": 254,
    "start_time": "2022-07-07T09:46:07.851Z"
   },
   {
    "duration": 340,
    "start_time": "2022-07-07T09:46:19.635Z"
   },
   {
    "duration": 257,
    "start_time": "2022-07-07T09:49:25.062Z"
   },
   {
    "duration": 288,
    "start_time": "2022-07-07T09:49:31.637Z"
   },
   {
    "duration": 310,
    "start_time": "2022-07-07T09:49:44.529Z"
   },
   {
    "duration": 288,
    "start_time": "2022-07-07T09:49:56.446Z"
   },
   {
    "duration": 298,
    "start_time": "2022-07-07T09:50:13.855Z"
   },
   {
    "duration": 314,
    "start_time": "2022-07-07T09:50:20.447Z"
   },
   {
    "duration": 705,
    "start_time": "2022-07-07T09:50:24.733Z"
   },
   {
    "duration": 36,
    "start_time": "2022-07-07T09:50:25.441Z"
   },
   {
    "duration": 37,
    "start_time": "2022-07-07T09:50:25.479Z"
   },
   {
    "duration": 26,
    "start_time": "2022-07-07T09:50:25.518Z"
   },
   {
    "duration": 13,
    "start_time": "2022-07-07T09:50:25.547Z"
   },
   {
    "duration": 10,
    "start_time": "2022-07-07T09:50:25.562Z"
   },
   {
    "duration": 6,
    "start_time": "2022-07-07T09:50:25.573Z"
   },
   {
    "duration": 25,
    "start_time": "2022-07-07T09:50:25.581Z"
   },
   {
    "duration": 6,
    "start_time": "2022-07-07T09:50:25.608Z"
   },
   {
    "duration": 8,
    "start_time": "2022-07-07T09:50:25.646Z"
   },
   {
    "duration": 9,
    "start_time": "2022-07-07T09:50:25.655Z"
   },
   {
    "duration": 14,
    "start_time": "2022-07-07T09:50:25.666Z"
   },
   {
    "duration": 16,
    "start_time": "2022-07-07T09:50:25.682Z"
   },
   {
    "duration": 9,
    "start_time": "2022-07-07T09:50:25.702Z"
   },
   {
    "duration": 46,
    "start_time": "2022-07-07T09:50:25.713Z"
   },
   {
    "duration": 16,
    "start_time": "2022-07-07T09:50:25.760Z"
   },
   {
    "duration": 199,
    "start_time": "2022-07-07T09:50:25.778Z"
   },
   {
    "duration": 148,
    "start_time": "2022-07-07T09:50:25.979Z"
   },
   {
    "duration": 24,
    "start_time": "2022-07-07T09:50:26.130Z"
   },
   {
    "duration": 12,
    "start_time": "2022-07-07T09:50:26.157Z"
   },
   {
    "duration": 278,
    "start_time": "2022-07-07T09:50:26.171Z"
   },
   {
    "duration": 200,
    "start_time": "2022-07-07T09:50:26.451Z"
   },
   {
    "duration": 7,
    "start_time": "2022-07-07T09:50:26.654Z"
   },
   {
    "duration": 287,
    "start_time": "2022-07-07T09:50:26.663Z"
   },
   {
    "duration": 4,
    "start_time": "2022-07-07T09:50:26.952Z"
   },
   {
    "duration": 14,
    "start_time": "2022-07-07T09:50:26.958Z"
   },
   {
    "duration": 242,
    "start_time": "2022-07-07T09:50:26.974Z"
   },
   {
    "duration": 409,
    "start_time": "2022-07-07T09:50:27.218Z"
   },
   {
    "duration": 1,
    "start_time": "2022-07-07T09:50:27.628Z"
   },
   {
    "duration": 0,
    "start_time": "2022-07-07T09:50:27.631Z"
   },
   {
    "duration": 0,
    "start_time": "2022-07-07T09:50:27.646Z"
   },
   {
    "duration": 288,
    "start_time": "2022-07-07T09:50:51.741Z"
   },
   {
    "duration": 292,
    "start_time": "2022-07-07T09:51:02.538Z"
   },
   {
    "duration": 260,
    "start_time": "2022-07-07T09:51:11.753Z"
   },
   {
    "duration": 258,
    "start_time": "2022-07-07T09:53:40.955Z"
   },
   {
    "duration": 273,
    "start_time": "2022-07-07T09:53:53.636Z"
   },
   {
    "duration": 267,
    "start_time": "2022-07-07T09:53:59.154Z"
   },
   {
    "duration": 280,
    "start_time": "2022-07-07T09:54:04.034Z"
   },
   {
    "duration": 287,
    "start_time": "2022-07-07T09:54:08.505Z"
   },
   {
    "duration": 281,
    "start_time": "2022-07-07T09:54:52.538Z"
   },
   {
    "duration": 341,
    "start_time": "2022-07-07T09:55:25.407Z"
   },
   {
    "duration": 283,
    "start_time": "2022-07-07T10:00:32.881Z"
   },
   {
    "duration": 264,
    "start_time": "2022-07-07T10:00:39.673Z"
   },
   {
    "duration": 293,
    "start_time": "2022-07-07T10:03:11.032Z"
   },
   {
    "duration": 242,
    "start_time": "2022-07-07T10:03:25.791Z"
   },
   {
    "duration": 268,
    "start_time": "2022-07-07T10:05:08.101Z"
   },
   {
    "duration": 315,
    "start_time": "2022-07-07T10:10:24.523Z"
   },
   {
    "duration": 289,
    "start_time": "2022-07-07T10:10:31.959Z"
   },
   {
    "duration": 236,
    "start_time": "2022-07-07T10:10:36.590Z"
   },
   {
    "duration": 289,
    "start_time": "2022-07-07T10:10:42.742Z"
   },
   {
    "duration": 248,
    "start_time": "2022-07-07T10:10:53.685Z"
   },
   {
    "duration": 385,
    "start_time": "2022-07-07T10:13:48.794Z"
   },
   {
    "duration": 14,
    "start_time": "2022-07-07T10:29:59.671Z"
   },
   {
    "duration": 9,
    "start_time": "2022-07-07T10:30:09.183Z"
   },
   {
    "duration": 14,
    "start_time": "2022-07-07T10:30:43.444Z"
   },
   {
    "duration": 9,
    "start_time": "2022-07-07T10:38:56.690Z"
   },
   {
    "duration": 9,
    "start_time": "2022-07-07T10:39:08.393Z"
   },
   {
    "duration": 9,
    "start_time": "2022-07-07T10:39:56.134Z"
   },
   {
    "duration": 9,
    "start_time": "2022-07-07T10:40:43.440Z"
   },
   {
    "duration": 9,
    "start_time": "2022-07-07T10:40:54.295Z"
   },
   {
    "duration": 8,
    "start_time": "2022-07-07T10:41:04.525Z"
   },
   {
    "duration": 8,
    "start_time": "2022-07-07T10:41:09.191Z"
   },
   {
    "duration": 9,
    "start_time": "2022-07-07T10:41:15.678Z"
   },
   {
    "duration": 10,
    "start_time": "2022-07-07T10:42:01.566Z"
   },
   {
    "duration": 10,
    "start_time": "2022-07-07T10:42:18.198Z"
   },
   {
    "duration": 9,
    "start_time": "2022-07-07T10:42:23.808Z"
   },
   {
    "duration": 10,
    "start_time": "2022-07-07T10:42:32.485Z"
   },
   {
    "duration": 13,
    "start_time": "2022-07-07T10:43:52.341Z"
   },
   {
    "duration": 10,
    "start_time": "2022-07-07T10:44:53.362Z"
   },
   {
    "duration": 7,
    "start_time": "2022-07-07T10:49:55.873Z"
   },
   {
    "duration": 13,
    "start_time": "2022-07-07T10:50:02.707Z"
   },
   {
    "duration": 14,
    "start_time": "2022-07-07T10:50:25.339Z"
   },
   {
    "duration": 11,
    "start_time": "2022-07-07T10:50:58.098Z"
   },
   {
    "duration": 999,
    "start_time": "2022-07-07T10:51:04.935Z"
   },
   {
    "duration": 122,
    "start_time": "2022-07-07T10:51:12.147Z"
   },
   {
    "duration": 112,
    "start_time": "2022-07-07T10:53:55.094Z"
   },
   {
    "duration": 3,
    "start_time": "2022-07-07T10:59:43.531Z"
   },
   {
    "duration": 5,
    "start_time": "2022-07-07T11:00:27.633Z"
   },
   {
    "duration": 10,
    "start_time": "2022-07-07T11:06:11.401Z"
   },
   {
    "duration": 10,
    "start_time": "2022-07-07T11:06:26.954Z"
   },
   {
    "duration": 134,
    "start_time": "2022-07-07T11:06:33.264Z"
   },
   {
    "duration": 173,
    "start_time": "2022-07-07T11:07:29.563Z"
   },
   {
    "duration": 12,
    "start_time": "2022-07-07T11:11:59.050Z"
   },
   {
    "duration": 138,
    "start_time": "2022-07-07T11:12:22.978Z"
   },
   {
    "duration": 116,
    "start_time": "2022-07-07T11:14:43.167Z"
   },
   {
    "duration": 6,
    "start_time": "2022-07-07T11:18:45.867Z"
   },
   {
    "duration": 6,
    "start_time": "2022-07-07T11:18:48.690Z"
   },
   {
    "duration": 5,
    "start_time": "2022-07-07T11:25:16.202Z"
   },
   {
    "duration": 9,
    "start_time": "2022-07-07T13:54:32.658Z"
   },
   {
    "duration": 95,
    "start_time": "2022-07-07T14:47:51.805Z"
   },
   {
    "duration": 112,
    "start_time": "2022-07-07T14:52:49.567Z"
   },
   {
    "duration": 23,
    "start_time": "2022-07-07T14:55:50.690Z"
   },
   {
    "duration": 9,
    "start_time": "2022-07-07T14:57:52.872Z"
   },
   {
    "duration": 1015,
    "start_time": "2022-07-07T14:58:10.898Z"
   },
   {
    "duration": 32,
    "start_time": "2022-07-07T14:58:11.916Z"
   },
   {
    "duration": 33,
    "start_time": "2022-07-07T14:58:11.950Z"
   },
   {
    "duration": 20,
    "start_time": "2022-07-07T14:58:11.985Z"
   },
   {
    "duration": 13,
    "start_time": "2022-07-07T14:58:12.007Z"
   },
   {
    "duration": 12,
    "start_time": "2022-07-07T14:58:12.022Z"
   },
   {
    "duration": 22,
    "start_time": "2022-07-07T14:58:12.035Z"
   },
   {
    "duration": 9,
    "start_time": "2022-07-07T14:58:12.059Z"
   },
   {
    "duration": 18,
    "start_time": "2022-07-07T14:58:12.070Z"
   },
   {
    "duration": 17,
    "start_time": "2022-07-07T14:58:12.091Z"
   },
   {
    "duration": 5,
    "start_time": "2022-07-07T14:58:12.110Z"
   },
   {
    "duration": 15,
    "start_time": "2022-07-07T14:58:12.117Z"
   },
   {
    "duration": 20,
    "start_time": "2022-07-07T14:58:12.133Z"
   },
   {
    "duration": 13,
    "start_time": "2022-07-07T14:58:12.155Z"
   },
   {
    "duration": 14,
    "start_time": "2022-07-07T14:58:12.170Z"
   },
   {
    "duration": 178,
    "start_time": "2022-07-07T14:58:12.186Z"
   },
   {
    "duration": 121,
    "start_time": "2022-07-07T14:58:12.366Z"
   },
   {
    "duration": 7,
    "start_time": "2022-07-07T14:58:12.489Z"
   },
   {
    "duration": 12,
    "start_time": "2022-07-07T14:58:12.498Z"
   },
   {
    "duration": 252,
    "start_time": "2022-07-07T14:58:12.512Z"
   },
   {
    "duration": 181,
    "start_time": "2022-07-07T14:58:12.766Z"
   },
   {
    "duration": 6,
    "start_time": "2022-07-07T14:58:12.949Z"
   },
   {
    "duration": 279,
    "start_time": "2022-07-07T14:58:12.956Z"
   },
   {
    "duration": 11,
    "start_time": "2022-07-07T14:58:13.237Z"
   },
   {
    "duration": 12,
    "start_time": "2022-07-07T14:58:13.249Z"
   },
   {
    "duration": 178,
    "start_time": "2022-07-07T14:58:13.263Z"
   },
   {
    "duration": 314,
    "start_time": "2022-07-07T14:58:13.443Z"
   },
   {
    "duration": 12,
    "start_time": "2022-07-07T14:58:13.761Z"
   },
   {
    "duration": 126,
    "start_time": "2022-07-07T14:58:13.774Z"
   },
   {
    "duration": 131,
    "start_time": "2022-07-07T14:58:13.902Z"
   },
   {
    "duration": 12,
    "start_time": "2022-07-07T14:58:14.035Z"
   },
   {
    "duration": 12,
    "start_time": "2022-07-07T14:58:14.049Z"
   },
   {
    "duration": 147,
    "start_time": "2022-07-07T14:58:14.063Z"
   },
   {
    "duration": 140,
    "start_time": "2022-07-07T14:58:14.212Z"
   },
   {
    "duration": 6,
    "start_time": "2022-07-07T14:58:14.354Z"
   },
   {
    "duration": 197,
    "start_time": "2022-07-07T14:58:14.361Z"
   },
   {
    "duration": 122,
    "start_time": "2022-07-07T14:58:14.559Z"
   },
   {
    "duration": 20,
    "start_time": "2022-07-07T14:58:14.683Z"
   },
   {
    "duration": 11,
    "start_time": "2022-07-07T14:58:14.704Z"
   },
   {
    "duration": 29,
    "start_time": "2022-07-07T14:58:14.717Z"
   },
   {
    "duration": 9,
    "start_time": "2022-07-07T14:58:14.748Z"
   },
   {
    "duration": 11,
    "start_time": "2022-07-07T14:58:14.759Z"
   },
   {
    "duration": 102,
    "start_time": "2022-07-07T15:17:14.871Z"
   },
   {
    "duration": 9,
    "start_time": "2022-07-07T15:17:28.047Z"
   },
   {
    "duration": 1235,
    "start_time": "2022-07-08T11:11:01.661Z"
   },
   {
    "duration": 52,
    "start_time": "2022-07-08T11:11:02.898Z"
   },
   {
    "duration": 58,
    "start_time": "2022-07-08T11:11:02.952Z"
   },
   {
    "duration": 45,
    "start_time": "2022-07-08T11:11:03.013Z"
   },
   {
    "duration": 13,
    "start_time": "2022-07-08T11:11:03.060Z"
   },
   {
    "duration": 36,
    "start_time": "2022-07-08T11:11:03.074Z"
   },
   {
    "duration": 32,
    "start_time": "2022-07-08T11:11:03.112Z"
   },
   {
    "duration": 23,
    "start_time": "2022-07-08T11:11:03.146Z"
   },
   {
    "duration": 42,
    "start_time": "2022-07-08T11:11:03.171Z"
   },
   {
    "duration": 48,
    "start_time": "2022-07-08T11:11:03.215Z"
   },
   {
    "duration": 37,
    "start_time": "2022-07-08T11:11:03.265Z"
   },
   {
    "duration": 46,
    "start_time": "2022-07-08T11:11:03.305Z"
   },
   {
    "duration": 35,
    "start_time": "2022-07-08T11:11:03.352Z"
   },
   {
    "duration": 27,
    "start_time": "2022-07-08T11:11:03.389Z"
   },
   {
    "duration": 28,
    "start_time": "2022-07-08T11:11:03.418Z"
   },
   {
    "duration": 188,
    "start_time": "2022-07-08T11:11:03.448Z"
   },
   {
    "duration": 133,
    "start_time": "2022-07-08T11:11:03.638Z"
   },
   {
    "duration": 8,
    "start_time": "2022-07-08T11:11:03.773Z"
   },
   {
    "duration": 46,
    "start_time": "2022-07-08T11:11:03.782Z"
   },
   {
    "duration": 301,
    "start_time": "2022-07-08T11:11:03.829Z"
   },
   {
    "duration": 182,
    "start_time": "2022-07-08T11:11:04.132Z"
   },
   {
    "duration": 6,
    "start_time": "2022-07-08T11:11:04.316Z"
   },
   {
    "duration": 311,
    "start_time": "2022-07-08T11:11:04.323Z"
   },
   {
    "duration": 4,
    "start_time": "2022-07-08T11:11:04.635Z"
   },
   {
    "duration": 17,
    "start_time": "2022-07-08T11:11:04.641Z"
   },
   {
    "duration": 195,
    "start_time": "2022-07-08T11:11:04.660Z"
   },
   {
    "duration": 287,
    "start_time": "2022-07-08T11:11:04.856Z"
   },
   {
    "duration": 12,
    "start_time": "2022-07-08T11:11:05.146Z"
   },
   {
    "duration": 166,
    "start_time": "2022-07-08T11:11:05.159Z"
   },
   {
    "duration": 150,
    "start_time": "2022-07-08T11:11:05.327Z"
   },
   {
    "duration": 5,
    "start_time": "2022-07-08T11:11:05.479Z"
   },
   {
    "duration": 18,
    "start_time": "2022-07-08T11:11:05.486Z"
   },
   {
    "duration": 153,
    "start_time": "2022-07-08T11:11:05.506Z"
   },
   {
    "duration": 149,
    "start_time": "2022-07-08T11:11:05.661Z"
   },
   {
    "duration": 5,
    "start_time": "2022-07-08T11:11:05.812Z"
   },
   {
    "duration": 183,
    "start_time": "2022-07-08T11:11:05.818Z"
   },
   {
    "duration": 118,
    "start_time": "2022-07-08T11:11:06.003Z"
   },
   {
    "duration": 21,
    "start_time": "2022-07-08T11:11:06.122Z"
   },
   {
    "duration": 12,
    "start_time": "2022-07-08T11:11:06.145Z"
   },
   {
    "duration": 6,
    "start_time": "2022-07-08T11:11:06.159Z"
   },
   {
    "duration": 57,
    "start_time": "2022-07-08T11:11:06.167Z"
   },
   {
    "duration": 0,
    "start_time": "2022-07-08T11:11:06.226Z"
   },
   {
    "duration": 0,
    "start_time": "2022-07-08T11:11:06.227Z"
   },
   {
    "duration": 0,
    "start_time": "2022-07-08T11:11:06.228Z"
   },
   {
    "duration": 1014,
    "start_time": "2022-07-08T11:18:58.623Z"
   },
   {
    "duration": 138,
    "start_time": "2022-07-08T11:19:37.647Z"
   },
   {
    "duration": 13,
    "start_time": "2022-07-08T11:20:20.297Z"
   },
   {
    "duration": 109,
    "start_time": "2022-07-08T12:05:12.835Z"
   },
   {
    "duration": 24,
    "start_time": "2022-07-08T12:05:21.589Z"
   },
   {
    "duration": 139,
    "start_time": "2022-07-08T12:06:11.253Z"
   },
   {
    "duration": 143,
    "start_time": "2022-07-08T12:06:39.745Z"
   },
   {
    "duration": 23,
    "start_time": "2022-07-08T12:06:53.227Z"
   },
   {
    "duration": 893,
    "start_time": "2022-07-08T12:29:12.892Z"
   },
   {
    "duration": 1105,
    "start_time": "2022-07-08T12:29:35.462Z"
   },
   {
    "duration": 45,
    "start_time": "2022-07-08T12:29:36.570Z"
   },
   {
    "duration": 40,
    "start_time": "2022-07-08T12:29:36.617Z"
   },
   {
    "duration": 22,
    "start_time": "2022-07-08T12:29:36.660Z"
   },
   {
    "duration": 17,
    "start_time": "2022-07-08T12:29:36.684Z"
   },
   {
    "duration": 8,
    "start_time": "2022-07-08T12:29:36.703Z"
   },
   {
    "duration": 28,
    "start_time": "2022-07-08T12:29:36.713Z"
   },
   {
    "duration": 7,
    "start_time": "2022-07-08T12:29:36.743Z"
   },
   {
    "duration": 16,
    "start_time": "2022-07-08T12:29:36.752Z"
   },
   {
    "duration": 34,
    "start_time": "2022-07-08T12:29:36.772Z"
   },
   {
    "duration": 8,
    "start_time": "2022-07-08T12:29:36.808Z"
   },
   {
    "duration": 15,
    "start_time": "2022-07-08T12:29:36.818Z"
   },
   {
    "duration": 11,
    "start_time": "2022-07-08T12:29:36.835Z"
   },
   {
    "duration": 13,
    "start_time": "2022-07-08T12:29:36.848Z"
   },
   {
    "duration": 45,
    "start_time": "2022-07-08T12:29:36.863Z"
   },
   {
    "duration": 174,
    "start_time": "2022-07-08T12:29:36.909Z"
   },
   {
    "duration": 140,
    "start_time": "2022-07-08T12:29:37.085Z"
   },
   {
    "duration": 6,
    "start_time": "2022-07-08T12:29:37.227Z"
   },
   {
    "duration": 12,
    "start_time": "2022-07-08T12:29:37.235Z"
   },
   {
    "duration": 288,
    "start_time": "2022-07-08T12:29:37.249Z"
   },
   {
    "duration": 191,
    "start_time": "2022-07-08T12:29:37.539Z"
   },
   {
    "duration": 6,
    "start_time": "2022-07-08T12:29:37.732Z"
   },
   {
    "duration": 276,
    "start_time": "2022-07-08T12:29:37.740Z"
   },
   {
    "duration": 4,
    "start_time": "2022-07-08T12:29:38.018Z"
   },
   {
    "duration": 9,
    "start_time": "2022-07-08T12:29:38.024Z"
   },
   {
    "duration": 167,
    "start_time": "2022-07-08T12:29:38.034Z"
   },
   {
    "duration": 307,
    "start_time": "2022-07-08T12:29:38.203Z"
   },
   {
    "duration": 13,
    "start_time": "2022-07-08T12:29:38.513Z"
   },
   {
    "duration": 128,
    "start_time": "2022-07-08T12:29:38.527Z"
   },
   {
    "duration": 134,
    "start_time": "2022-07-08T12:29:38.657Z"
   },
   {
    "duration": 10,
    "start_time": "2022-07-08T12:29:38.793Z"
   },
   {
    "duration": 15,
    "start_time": "2022-07-08T12:29:38.805Z"
   },
   {
    "duration": 145,
    "start_time": "2022-07-08T12:29:38.821Z"
   },
   {
    "duration": 149,
    "start_time": "2022-07-08T12:29:38.968Z"
   },
   {
    "duration": 6,
    "start_time": "2022-07-08T12:29:39.119Z"
   },
   {
    "duration": 187,
    "start_time": "2022-07-08T12:29:39.127Z"
   },
   {
    "duration": 130,
    "start_time": "2022-07-08T12:29:39.316Z"
   },
   {
    "duration": 25,
    "start_time": "2022-07-08T12:29:39.447Z"
   },
   {
    "duration": 162,
    "start_time": "2022-07-08T12:29:39.475Z"
   },
   {
    "duration": 22,
    "start_time": "2022-07-08T12:29:39.639Z"
   },
   {
    "duration": 11,
    "start_time": "2022-07-08T12:29:39.662Z"
   },
   {
    "duration": 1010,
    "start_time": "2022-07-08T12:29:39.675Z"
   },
   {
    "duration": 0,
    "start_time": "2022-07-08T12:29:40.687Z"
   },
   {
    "duration": 0,
    "start_time": "2022-07-08T12:29:40.688Z"
   },
   {
    "duration": 0,
    "start_time": "2022-07-08T12:29:40.689Z"
   },
   {
    "duration": 9,
    "start_time": "2022-07-08T12:30:11.545Z"
   },
   {
    "duration": 10,
    "start_time": "2022-07-08T12:30:59.545Z"
   },
   {
    "duration": 9,
    "start_time": "2022-07-08T12:31:02.792Z"
   },
   {
    "duration": 44,
    "start_time": "2022-07-08T12:35:32.483Z"
   },
   {
    "duration": 1210,
    "start_time": "2022-07-08T12:40:02.853Z"
   },
   {
    "duration": 17,
    "start_time": "2022-07-08T12:41:17.097Z"
   },
   {
    "duration": 1046,
    "start_time": "2022-07-08T13:19:07.616Z"
   },
   {
    "duration": 32,
    "start_time": "2022-07-08T13:19:08.664Z"
   },
   {
    "duration": 35,
    "start_time": "2022-07-08T13:19:08.697Z"
   },
   {
    "duration": 22,
    "start_time": "2022-07-08T13:19:08.735Z"
   },
   {
    "duration": 14,
    "start_time": "2022-07-08T13:19:08.760Z"
   },
   {
    "duration": 16,
    "start_time": "2022-07-08T13:19:08.776Z"
   },
   {
    "duration": 27,
    "start_time": "2022-07-08T13:19:08.794Z"
   },
   {
    "duration": 6,
    "start_time": "2022-07-08T13:19:08.823Z"
   },
   {
    "duration": 15,
    "start_time": "2022-07-08T13:19:08.832Z"
   },
   {
    "duration": 8,
    "start_time": "2022-07-08T13:19:08.850Z"
   },
   {
    "duration": 6,
    "start_time": "2022-07-08T13:19:08.860Z"
   },
   {
    "duration": 15,
    "start_time": "2022-07-08T13:19:08.901Z"
   },
   {
    "duration": 10,
    "start_time": "2022-07-08T13:19:08.918Z"
   },
   {
    "duration": 11,
    "start_time": "2022-07-08T13:19:08.930Z"
   },
   {
    "duration": 12,
    "start_time": "2022-07-08T13:19:08.943Z"
   },
   {
    "duration": 204,
    "start_time": "2022-07-08T13:19:08.957Z"
   },
   {
    "duration": 141,
    "start_time": "2022-07-08T13:19:09.163Z"
   },
   {
    "duration": 7,
    "start_time": "2022-07-08T13:19:09.307Z"
   },
   {
    "duration": 14,
    "start_time": "2022-07-08T13:19:09.316Z"
   },
   {
    "duration": 287,
    "start_time": "2022-07-08T13:19:09.333Z"
   },
   {
    "duration": 200,
    "start_time": "2022-07-08T13:19:09.622Z"
   },
   {
    "duration": 6,
    "start_time": "2022-07-08T13:19:09.824Z"
   },
   {
    "duration": 296,
    "start_time": "2022-07-08T13:19:09.832Z"
   },
   {
    "duration": 4,
    "start_time": "2022-07-08T13:19:10.129Z"
   },
   {
    "duration": 7,
    "start_time": "2022-07-08T13:19:10.135Z"
   },
   {
    "duration": 191,
    "start_time": "2022-07-08T13:19:10.144Z"
   },
   {
    "duration": 268,
    "start_time": "2022-07-08T13:19:10.337Z"
   },
   {
    "duration": 12,
    "start_time": "2022-07-08T13:19:10.609Z"
   },
   {
    "duration": 131,
    "start_time": "2022-07-08T13:19:10.623Z"
   },
   {
    "duration": 125,
    "start_time": "2022-07-08T13:19:10.755Z"
   },
   {
    "duration": 4,
    "start_time": "2022-07-08T13:19:10.882Z"
   },
   {
    "duration": 10,
    "start_time": "2022-07-08T13:19:10.901Z"
   },
   {
    "duration": 143,
    "start_time": "2022-07-08T13:19:10.912Z"
   },
   {
    "duration": 143,
    "start_time": "2022-07-08T13:19:11.057Z"
   },
   {
    "duration": 5,
    "start_time": "2022-07-08T13:19:11.202Z"
   },
   {
    "duration": 178,
    "start_time": "2022-07-08T13:19:11.209Z"
   },
   {
    "duration": 123,
    "start_time": "2022-07-08T13:19:11.389Z"
   },
   {
    "duration": 24,
    "start_time": "2022-07-08T13:19:11.514Z"
   },
   {
    "duration": 144,
    "start_time": "2022-07-08T13:19:11.540Z"
   },
   {
    "duration": 31,
    "start_time": "2022-07-08T13:19:11.685Z"
   },
   {
    "duration": 10,
    "start_time": "2022-07-08T13:19:11.717Z"
   },
   {
    "duration": 22,
    "start_time": "2022-07-08T13:19:11.729Z"
   },
   {
    "duration": 45,
    "start_time": "2022-07-08T13:19:11.752Z"
   },
   {
    "duration": 23,
    "start_time": "2022-07-08T13:19:11.799Z"
   },
   {
    "duration": 17,
    "start_time": "2022-07-08T13:19:11.823Z"
   },
   {
    "duration": 24,
    "start_time": "2022-07-08T13:19:11.841Z"
   },
   {
    "duration": 15,
    "start_time": "2022-07-08T13:19:11.867Z"
   },
   {
    "duration": 1046,
    "start_time": "2022-07-08T14:23:29.651Z"
   },
   {
    "duration": 32,
    "start_time": "2022-07-08T14:23:30.701Z"
   },
   {
    "duration": 31,
    "start_time": "2022-07-08T14:23:30.735Z"
   },
   {
    "duration": 20,
    "start_time": "2022-07-08T14:23:30.768Z"
   },
   {
    "duration": 16,
    "start_time": "2022-07-08T14:23:30.790Z"
   },
   {
    "duration": 27,
    "start_time": "2022-07-08T14:23:30.808Z"
   },
   {
    "duration": 25,
    "start_time": "2022-07-08T14:23:30.837Z"
   },
   {
    "duration": 17,
    "start_time": "2022-07-08T14:23:30.864Z"
   },
   {
    "duration": 32,
    "start_time": "2022-07-08T14:23:30.882Z"
   },
   {
    "duration": 18,
    "start_time": "2022-07-08T14:23:30.916Z"
   },
   {
    "duration": 13,
    "start_time": "2022-07-08T14:23:30.936Z"
   },
   {
    "duration": 18,
    "start_time": "2022-07-08T14:23:30.951Z"
   },
   {
    "duration": 20,
    "start_time": "2022-07-08T14:23:30.970Z"
   },
   {
    "duration": 33,
    "start_time": "2022-07-08T14:23:30.992Z"
   },
   {
    "duration": 38,
    "start_time": "2022-07-08T14:23:31.027Z"
   },
   {
    "duration": 176,
    "start_time": "2022-07-08T14:23:31.067Z"
   },
   {
    "duration": 123,
    "start_time": "2022-07-08T14:23:31.245Z"
   },
   {
    "duration": 6,
    "start_time": "2022-07-08T14:23:31.370Z"
   },
   {
    "duration": 14,
    "start_time": "2022-07-08T14:23:31.377Z"
   },
   {
    "duration": 281,
    "start_time": "2022-07-08T14:23:31.400Z"
   },
   {
    "duration": 184,
    "start_time": "2022-07-08T14:23:31.684Z"
   },
   {
    "duration": 6,
    "start_time": "2022-07-08T14:23:31.869Z"
   },
   {
    "duration": 299,
    "start_time": "2022-07-08T14:23:31.876Z"
   },
   {
    "duration": 3,
    "start_time": "2022-07-08T14:23:32.177Z"
   },
   {
    "duration": 19,
    "start_time": "2022-07-08T14:23:32.182Z"
   },
   {
    "duration": 174,
    "start_time": "2022-07-08T14:23:32.203Z"
   },
   {
    "duration": 325,
    "start_time": "2022-07-08T14:23:32.379Z"
   },
   {
    "duration": 13,
    "start_time": "2022-07-08T14:23:32.707Z"
   },
   {
    "duration": 127,
    "start_time": "2022-07-08T14:23:32.721Z"
   },
   {
    "duration": 119,
    "start_time": "2022-07-08T14:23:32.850Z"
   },
   {
    "duration": 4,
    "start_time": "2022-07-08T14:23:32.971Z"
   },
   {
    "duration": 15,
    "start_time": "2022-07-08T14:23:32.977Z"
   },
   {
    "duration": 140,
    "start_time": "2022-07-08T14:23:32.993Z"
   },
   {
    "duration": 140,
    "start_time": "2022-07-08T14:23:33.135Z"
   },
   {
    "duration": 4,
    "start_time": "2022-07-08T14:23:33.277Z"
   },
   {
    "duration": 176,
    "start_time": "2022-07-08T14:23:33.283Z"
   },
   {
    "duration": 120,
    "start_time": "2022-07-08T14:23:33.461Z"
   },
   {
    "duration": 33,
    "start_time": "2022-07-08T14:23:33.582Z"
   },
   {
    "duration": 147,
    "start_time": "2022-07-08T14:23:33.617Z"
   },
   {
    "duration": 21,
    "start_time": "2022-07-08T14:23:33.766Z"
   },
   {
    "duration": 17,
    "start_time": "2022-07-08T14:23:33.789Z"
   },
   {
    "duration": 8,
    "start_time": "2022-07-08T14:23:33.808Z"
   },
   {
    "duration": 30,
    "start_time": "2022-07-08T14:23:33.817Z"
   },
   {
    "duration": 14,
    "start_time": "2022-07-08T14:23:33.849Z"
   },
   {
    "duration": 1059,
    "start_time": "2022-07-08T14:25:06.715Z"
   },
   {
    "duration": 36,
    "start_time": "2022-07-08T14:25:07.777Z"
   },
   {
    "duration": 34,
    "start_time": "2022-07-08T14:25:07.815Z"
   },
   {
    "duration": 22,
    "start_time": "2022-07-08T14:25:07.851Z"
   },
   {
    "duration": 26,
    "start_time": "2022-07-08T14:25:07.875Z"
   },
   {
    "duration": 9,
    "start_time": "2022-07-08T14:25:07.903Z"
   },
   {
    "duration": 22,
    "start_time": "2022-07-08T14:25:07.913Z"
   },
   {
    "duration": 6,
    "start_time": "2022-07-08T14:25:07.937Z"
   },
   {
    "duration": 10,
    "start_time": "2022-07-08T14:25:07.945Z"
   },
   {
    "duration": 9,
    "start_time": "2022-07-08T14:25:07.959Z"
   },
   {
    "duration": 34,
    "start_time": "2022-07-08T14:25:07.970Z"
   },
   {
    "duration": 16,
    "start_time": "2022-07-08T14:25:08.005Z"
   },
   {
    "duration": 9,
    "start_time": "2022-07-08T14:25:08.023Z"
   },
   {
    "duration": 13,
    "start_time": "2022-07-08T14:25:08.033Z"
   },
   {
    "duration": 15,
    "start_time": "2022-07-08T14:25:08.048Z"
   },
   {
    "duration": 199,
    "start_time": "2022-07-08T14:25:08.064Z"
   },
   {
    "duration": 126,
    "start_time": "2022-07-08T14:25:08.265Z"
   },
   {
    "duration": 10,
    "start_time": "2022-07-08T14:25:08.392Z"
   },
   {
    "duration": 13,
    "start_time": "2022-07-08T14:25:08.403Z"
   },
   {
    "duration": 269,
    "start_time": "2022-07-08T14:25:08.418Z"
   },
   {
    "duration": 209,
    "start_time": "2022-07-08T14:25:08.689Z"
   },
   {
    "duration": 7,
    "start_time": "2022-07-08T14:25:08.900Z"
   },
   {
    "duration": 295,
    "start_time": "2022-07-08T14:25:08.909Z"
   },
   {
    "duration": 4,
    "start_time": "2022-07-08T14:25:09.206Z"
   },
   {
    "duration": 9,
    "start_time": "2022-07-08T14:25:09.212Z"
   },
   {
    "duration": 181,
    "start_time": "2022-07-08T14:25:09.223Z"
   },
   {
    "duration": 309,
    "start_time": "2022-07-08T14:25:09.405Z"
   },
   {
    "duration": 11,
    "start_time": "2022-07-08T14:25:09.717Z"
   },
   {
    "duration": 130,
    "start_time": "2022-07-08T14:25:09.730Z"
   },
   {
    "duration": 129,
    "start_time": "2022-07-08T14:25:09.862Z"
   },
   {
    "duration": 6,
    "start_time": "2022-07-08T14:25:10.004Z"
   },
   {
    "duration": 24,
    "start_time": "2022-07-08T14:25:10.012Z"
   },
   {
    "duration": 148,
    "start_time": "2022-07-08T14:25:10.038Z"
   },
   {
    "duration": 146,
    "start_time": "2022-07-08T14:25:10.188Z"
   },
   {
    "duration": 5,
    "start_time": "2022-07-08T14:25:10.336Z"
   },
   {
    "duration": 178,
    "start_time": "2022-07-08T14:25:10.342Z"
   },
   {
    "duration": 136,
    "start_time": "2022-07-08T14:25:10.521Z"
   },
   {
    "duration": 28,
    "start_time": "2022-07-08T14:25:10.659Z"
   },
   {
    "duration": 144,
    "start_time": "2022-07-08T14:25:10.701Z"
   },
   {
    "duration": 22,
    "start_time": "2022-07-08T14:25:10.846Z"
   },
   {
    "duration": 8,
    "start_time": "2022-07-08T14:25:10.870Z"
   },
   {
    "duration": 25,
    "start_time": "2022-07-08T14:25:10.880Z"
   },
   {
    "duration": 26,
    "start_time": "2022-07-08T14:25:10.906Z"
   },
   {
    "duration": 12,
    "start_time": "2022-07-08T14:25:10.933Z"
   },
   {
    "duration": 1065,
    "start_time": "2022-07-08T14:57:32.482Z"
   },
   {
    "duration": 31,
    "start_time": "2022-07-08T14:57:33.549Z"
   },
   {
    "duration": 31,
    "start_time": "2022-07-08T14:57:33.583Z"
   },
   {
    "duration": 21,
    "start_time": "2022-07-08T14:57:33.617Z"
   },
   {
    "duration": 17,
    "start_time": "2022-07-08T14:57:33.640Z"
   },
   {
    "duration": 32,
    "start_time": "2022-07-08T14:57:33.659Z"
   },
   {
    "duration": 40,
    "start_time": "2022-07-08T14:57:33.693Z"
   },
   {
    "duration": 24,
    "start_time": "2022-07-08T14:57:33.735Z"
   },
   {
    "duration": 31,
    "start_time": "2022-07-08T14:57:33.761Z"
   },
   {
    "duration": 32,
    "start_time": "2022-07-08T14:57:33.794Z"
   },
   {
    "duration": 57,
    "start_time": "2022-07-08T14:57:33.828Z"
   },
   {
    "duration": 29,
    "start_time": "2022-07-08T14:57:33.887Z"
   },
   {
    "duration": 25,
    "start_time": "2022-07-08T14:57:33.920Z"
   },
   {
    "duration": 40,
    "start_time": "2022-07-08T14:57:33.946Z"
   },
   {
    "duration": 45,
    "start_time": "2022-07-08T14:57:33.988Z"
   },
   {
    "duration": 183,
    "start_time": "2022-07-08T14:57:34.035Z"
   },
   {
    "duration": 128,
    "start_time": "2022-07-08T14:57:34.219Z"
   },
   {
    "duration": 8,
    "start_time": "2022-07-08T14:57:34.348Z"
   },
   {
    "duration": 16,
    "start_time": "2022-07-08T14:57:34.357Z"
   },
   {
    "duration": 272,
    "start_time": "2022-07-08T14:57:34.375Z"
   },
   {
    "duration": 175,
    "start_time": "2022-07-08T14:57:34.649Z"
   },
   {
    "duration": 6,
    "start_time": "2022-07-08T14:57:34.826Z"
   },
   {
    "duration": 293,
    "start_time": "2022-07-08T14:57:34.833Z"
   },
   {
    "duration": 4,
    "start_time": "2022-07-08T14:57:35.128Z"
   },
   {
    "duration": 9,
    "start_time": "2022-07-08T14:57:35.133Z"
   },
   {
    "duration": 208,
    "start_time": "2022-07-08T14:57:35.144Z"
   },
   {
    "duration": 275,
    "start_time": "2022-07-08T14:57:35.355Z"
   },
   {
    "duration": 12,
    "start_time": "2022-07-08T14:57:35.631Z"
   },
   {
    "duration": 125,
    "start_time": "2022-07-08T14:57:35.645Z"
   },
   {
    "duration": 122,
    "start_time": "2022-07-08T14:57:35.771Z"
   },
   {
    "duration": 10,
    "start_time": "2022-07-08T14:57:35.894Z"
   },
   {
    "duration": 31,
    "start_time": "2022-07-08T14:57:35.905Z"
   },
   {
    "duration": 140,
    "start_time": "2022-07-08T14:57:35.937Z"
   },
   {
    "duration": 130,
    "start_time": "2022-07-08T14:57:36.079Z"
   },
   {
    "duration": 6,
    "start_time": "2022-07-08T14:57:36.210Z"
   },
   {
    "duration": 183,
    "start_time": "2022-07-08T14:57:36.217Z"
   },
   {
    "duration": 132,
    "start_time": "2022-07-08T14:57:36.402Z"
   },
   {
    "duration": 26,
    "start_time": "2022-07-08T14:57:36.536Z"
   },
   {
    "duration": 159,
    "start_time": "2022-07-08T14:57:36.564Z"
   },
   {
    "duration": 21,
    "start_time": "2022-07-08T14:57:36.727Z"
   },
   {
    "duration": 11,
    "start_time": "2022-07-08T14:57:36.749Z"
   },
   {
    "duration": 19,
    "start_time": "2022-07-08T14:57:36.762Z"
   },
   {
    "duration": 37,
    "start_time": "2022-07-08T14:57:36.782Z"
   },
   {
    "duration": 14,
    "start_time": "2022-07-08T14:57:36.821Z"
   },
   {
    "duration": 23,
    "start_time": "2022-07-08T14:59:20.804Z"
   },
   {
    "duration": 995,
    "start_time": "2022-07-08T16:07:37.440Z"
   },
   {
    "duration": 33,
    "start_time": "2022-07-08T16:07:38.437Z"
   },
   {
    "duration": 32,
    "start_time": "2022-07-08T16:07:38.472Z"
   },
   {
    "duration": 20,
    "start_time": "2022-07-08T16:07:38.506Z"
   },
   {
    "duration": 11,
    "start_time": "2022-07-08T16:07:38.528Z"
   },
   {
    "duration": 8,
    "start_time": "2022-07-08T16:07:38.541Z"
   },
   {
    "duration": 27,
    "start_time": "2022-07-08T16:07:38.551Z"
   },
   {
    "duration": 5,
    "start_time": "2022-07-08T16:07:38.580Z"
   },
   {
    "duration": 21,
    "start_time": "2022-07-08T16:07:38.587Z"
   },
   {
    "duration": 9,
    "start_time": "2022-07-08T16:07:38.611Z"
   },
   {
    "duration": 8,
    "start_time": "2022-07-08T16:07:38.621Z"
   },
   {
    "duration": 16,
    "start_time": "2022-07-08T16:07:38.630Z"
   },
   {
    "duration": 9,
    "start_time": "2022-07-08T16:07:38.648Z"
   },
   {
    "duration": 10,
    "start_time": "2022-07-08T16:07:38.658Z"
   },
   {
    "duration": 39,
    "start_time": "2022-07-08T16:07:38.670Z"
   },
   {
    "duration": 196,
    "start_time": "2022-07-08T16:07:38.711Z"
   },
   {
    "duration": 133,
    "start_time": "2022-07-08T16:07:38.909Z"
   },
   {
    "duration": 6,
    "start_time": "2022-07-08T16:07:39.044Z"
   },
   {
    "duration": 10,
    "start_time": "2022-07-08T16:07:39.052Z"
   },
   {
    "duration": 269,
    "start_time": "2022-07-08T16:07:39.063Z"
   },
   {
    "duration": 184,
    "start_time": "2022-07-08T16:07:39.334Z"
   },
   {
    "duration": 6,
    "start_time": "2022-07-08T16:07:39.519Z"
   },
   {
    "duration": 259,
    "start_time": "2022-07-08T16:07:39.527Z"
   },
   {
    "duration": 13,
    "start_time": "2022-07-08T16:07:39.788Z"
   },
   {
    "duration": 13,
    "start_time": "2022-07-08T16:07:39.803Z"
   },
   {
    "duration": 165,
    "start_time": "2022-07-08T16:07:39.818Z"
   },
   {
    "duration": 309,
    "start_time": "2022-07-08T16:07:39.985Z"
   },
   {
    "duration": 11,
    "start_time": "2022-07-08T16:07:40.302Z"
   },
   {
    "duration": 123,
    "start_time": "2022-07-08T16:07:40.315Z"
   },
   {
    "duration": 121,
    "start_time": "2022-07-08T16:07:40.439Z"
   },
   {
    "duration": 4,
    "start_time": "2022-07-08T16:07:40.562Z"
   },
   {
    "duration": 12,
    "start_time": "2022-07-08T16:07:40.568Z"
   },
   {
    "duration": 147,
    "start_time": "2022-07-08T16:07:40.582Z"
   },
   {
    "duration": 137,
    "start_time": "2022-07-08T16:07:40.730Z"
   },
   {
    "duration": 4,
    "start_time": "2022-07-08T16:07:40.869Z"
   },
   {
    "duration": 172,
    "start_time": "2022-07-08T16:07:40.875Z"
   },
   {
    "duration": 119,
    "start_time": "2022-07-08T16:07:41.049Z"
   },
   {
    "duration": 41,
    "start_time": "2022-07-08T16:07:41.170Z"
   },
   {
    "duration": 159,
    "start_time": "2022-07-08T16:07:41.212Z"
   },
   {
    "duration": 40,
    "start_time": "2022-07-08T16:07:41.372Z"
   },
   {
    "duration": 11,
    "start_time": "2022-07-08T16:07:41.414Z"
   },
   {
    "duration": 11,
    "start_time": "2022-07-08T16:07:41.426Z"
   },
   {
    "duration": 29,
    "start_time": "2022-07-08T16:07:41.438Z"
   },
   {
    "duration": 38,
    "start_time": "2022-07-08T16:07:41.469Z"
   },
   {
    "duration": 1140,
    "start_time": "2022-07-08T16:08:31.979Z"
   },
   {
    "duration": 37,
    "start_time": "2022-07-08T16:08:33.121Z"
   },
   {
    "duration": 40,
    "start_time": "2022-07-08T16:08:33.161Z"
   },
   {
    "duration": 37,
    "start_time": "2022-07-08T16:08:33.204Z"
   },
   {
    "duration": 18,
    "start_time": "2022-07-08T16:08:33.243Z"
   },
   {
    "duration": 9,
    "start_time": "2022-07-08T16:08:33.263Z"
   },
   {
    "duration": 45,
    "start_time": "2022-07-08T16:08:33.274Z"
   },
   {
    "duration": 8,
    "start_time": "2022-07-08T16:08:33.321Z"
   },
   {
    "duration": 12,
    "start_time": "2022-07-08T16:08:33.331Z"
   },
   {
    "duration": 11,
    "start_time": "2022-07-08T16:08:33.346Z"
   },
   {
    "duration": 6,
    "start_time": "2022-07-08T16:08:33.359Z"
   },
   {
    "duration": 48,
    "start_time": "2022-07-08T16:08:33.368Z"
   },
   {
    "duration": 10,
    "start_time": "2022-07-08T16:08:33.419Z"
   },
   {
    "duration": 16,
    "start_time": "2022-07-08T16:08:33.431Z"
   },
   {
    "duration": 36,
    "start_time": "2022-07-08T16:08:33.449Z"
   },
   {
    "duration": 261,
    "start_time": "2022-07-08T16:08:33.504Z"
   },
   {
    "duration": 167,
    "start_time": "2022-07-08T16:08:33.768Z"
   },
   {
    "duration": 8,
    "start_time": "2022-07-08T16:08:33.938Z"
   },
   {
    "duration": 25,
    "start_time": "2022-07-08T16:08:33.948Z"
   },
   {
    "duration": 269,
    "start_time": "2022-07-08T16:08:33.975Z"
   },
   {
    "duration": 186,
    "start_time": "2022-07-08T16:08:34.246Z"
   },
   {
    "duration": 6,
    "start_time": "2022-07-08T16:08:34.434Z"
   },
   {
    "duration": 282,
    "start_time": "2022-07-08T16:08:34.442Z"
   },
   {
    "duration": 4,
    "start_time": "2022-07-08T16:08:34.726Z"
   },
   {
    "duration": 9,
    "start_time": "2022-07-08T16:08:34.732Z"
   },
   {
    "duration": 177,
    "start_time": "2022-07-08T16:08:34.742Z"
   },
   {
    "duration": 294,
    "start_time": "2022-07-08T16:08:34.921Z"
   },
   {
    "duration": 14,
    "start_time": "2022-07-08T16:08:35.219Z"
   },
   {
    "duration": 155,
    "start_time": "2022-07-08T16:08:35.235Z"
   },
   {
    "duration": 164,
    "start_time": "2022-07-08T16:08:35.393Z"
   },
   {
    "duration": 7,
    "start_time": "2022-07-08T16:08:35.559Z"
   },
   {
    "duration": 34,
    "start_time": "2022-07-08T16:08:35.568Z"
   },
   {
    "duration": 207,
    "start_time": "2022-07-08T16:08:35.605Z"
   },
   {
    "duration": 173,
    "start_time": "2022-07-08T16:08:35.814Z"
   },
   {
    "duration": 13,
    "start_time": "2022-07-08T16:08:35.989Z"
   },
   {
    "duration": 210,
    "start_time": "2022-07-08T16:08:36.004Z"
   },
   {
    "duration": 138,
    "start_time": "2022-07-08T16:08:36.215Z"
   },
   {
    "duration": 30,
    "start_time": "2022-07-08T16:08:36.355Z"
   },
   {
    "duration": 221,
    "start_time": "2022-07-08T16:08:36.387Z"
   },
   {
    "duration": 27,
    "start_time": "2022-07-08T16:08:36.610Z"
   },
   {
    "duration": 15,
    "start_time": "2022-07-08T16:08:36.639Z"
   },
   {
    "duration": 17,
    "start_time": "2022-07-08T16:08:36.657Z"
   },
   {
    "duration": 55,
    "start_time": "2022-07-08T16:08:36.676Z"
   },
   {
    "duration": 17,
    "start_time": "2022-07-08T16:08:36.732Z"
   },
   {
    "duration": 1053,
    "start_time": "2022-07-08T16:09:30.871Z"
   },
   {
    "duration": 34,
    "start_time": "2022-07-08T16:09:31.926Z"
   },
   {
    "duration": 32,
    "start_time": "2022-07-08T16:09:31.961Z"
   },
   {
    "duration": 21,
    "start_time": "2022-07-08T16:09:31.995Z"
   },
   {
    "duration": 13,
    "start_time": "2022-07-08T16:09:32.017Z"
   },
   {
    "duration": 13,
    "start_time": "2022-07-08T16:09:32.031Z"
   },
   {
    "duration": 24,
    "start_time": "2022-07-08T16:09:32.045Z"
   },
   {
    "duration": 5,
    "start_time": "2022-07-08T16:09:32.071Z"
   },
   {
    "duration": 30,
    "start_time": "2022-07-08T16:09:32.078Z"
   },
   {
    "duration": 7,
    "start_time": "2022-07-08T16:09:32.111Z"
   },
   {
    "duration": 10,
    "start_time": "2022-07-08T16:09:32.120Z"
   },
   {
    "duration": 36,
    "start_time": "2022-07-08T16:09:32.132Z"
   },
   {
    "duration": 14,
    "start_time": "2022-07-08T16:09:32.170Z"
   },
   {
    "duration": 27,
    "start_time": "2022-07-08T16:09:32.185Z"
   },
   {
    "duration": 14,
    "start_time": "2022-07-08T16:09:32.214Z"
   },
   {
    "duration": 176,
    "start_time": "2022-07-08T16:09:32.229Z"
   },
   {
    "duration": 131,
    "start_time": "2022-07-08T16:09:32.407Z"
   },
   {
    "duration": 7,
    "start_time": "2022-07-08T16:09:32.540Z"
   },
   {
    "duration": 10,
    "start_time": "2022-07-08T16:09:32.549Z"
   },
   {
    "duration": 308,
    "start_time": "2022-07-08T16:09:32.561Z"
   },
   {
    "duration": 192,
    "start_time": "2022-07-08T16:09:32.870Z"
   },
   {
    "duration": 10,
    "start_time": "2022-07-08T16:09:33.066Z"
   },
   {
    "duration": 323,
    "start_time": "2022-07-08T16:09:33.079Z"
   },
   {
    "duration": 5,
    "start_time": "2022-07-08T16:09:33.404Z"
   },
   {
    "duration": 32,
    "start_time": "2022-07-08T16:09:33.411Z"
   },
   {
    "duration": 178,
    "start_time": "2022-07-08T16:09:33.445Z"
   },
   {
    "duration": 293,
    "start_time": "2022-07-08T16:09:33.624Z"
   },
   {
    "duration": 16,
    "start_time": "2022-07-08T16:09:33.921Z"
   },
   {
    "duration": 137,
    "start_time": "2022-07-08T16:09:33.939Z"
   },
   {
    "duration": 125,
    "start_time": "2022-07-08T16:09:34.077Z"
   },
   {
    "duration": 6,
    "start_time": "2022-07-08T16:09:34.204Z"
   },
   {
    "duration": 15,
    "start_time": "2022-07-08T16:09:34.212Z"
   },
   {
    "duration": 144,
    "start_time": "2022-07-08T16:09:34.229Z"
   },
   {
    "duration": 189,
    "start_time": "2022-07-08T16:09:34.374Z"
   },
   {
    "duration": 5,
    "start_time": "2022-07-08T16:09:34.565Z"
   },
   {
    "duration": 172,
    "start_time": "2022-07-08T16:09:34.572Z"
   },
   {
    "duration": 117,
    "start_time": "2022-07-08T16:09:34.746Z"
   },
   {
    "duration": 40,
    "start_time": "2022-07-08T16:09:34.865Z"
   },
   {
    "duration": 146,
    "start_time": "2022-07-08T16:09:34.907Z"
   },
   {
    "duration": 25,
    "start_time": "2022-07-08T16:09:35.055Z"
   },
   {
    "duration": 31,
    "start_time": "2022-07-08T16:09:35.081Z"
   },
   {
    "duration": 11,
    "start_time": "2022-07-08T16:09:35.113Z"
   },
   {
    "duration": 44,
    "start_time": "2022-07-08T16:09:35.126Z"
   },
   {
    "duration": 41,
    "start_time": "2022-07-08T16:09:35.175Z"
   },
   {
    "duration": 1382,
    "start_time": "2022-07-08T18:27:40.856Z"
   },
   {
    "duration": 83,
    "start_time": "2022-07-08T18:27:42.242Z"
   },
   {
    "duration": 66,
    "start_time": "2022-07-08T18:27:42.327Z"
   },
   {
    "duration": 48,
    "start_time": "2022-07-08T18:27:42.395Z"
   },
   {
    "duration": 13,
    "start_time": "2022-07-08T18:27:42.446Z"
   },
   {
    "duration": 18,
    "start_time": "2022-07-08T18:27:42.462Z"
   },
   {
    "duration": 27,
    "start_time": "2022-07-08T18:27:42.482Z"
   },
   {
    "duration": 6,
    "start_time": "2022-07-08T18:27:42.511Z"
   },
   {
    "duration": 11,
    "start_time": "2022-07-08T18:27:42.518Z"
   },
   {
    "duration": 8,
    "start_time": "2022-07-08T18:27:42.530Z"
   },
   {
    "duration": 27,
    "start_time": "2022-07-08T18:27:42.540Z"
   },
   {
    "duration": 24,
    "start_time": "2022-07-08T18:27:42.569Z"
   },
   {
    "duration": 9,
    "start_time": "2022-07-08T18:27:42.594Z"
   },
   {
    "duration": 13,
    "start_time": "2022-07-08T18:27:42.608Z"
   },
   {
    "duration": 44,
    "start_time": "2022-07-08T18:27:42.623Z"
   },
   {
    "duration": 188,
    "start_time": "2022-07-08T18:27:42.669Z"
   },
   {
    "duration": 141,
    "start_time": "2022-07-08T18:27:42.859Z"
   },
   {
    "duration": 7,
    "start_time": "2022-07-08T18:27:43.002Z"
   },
   {
    "duration": 8,
    "start_time": "2022-07-08T18:27:43.011Z"
   },
   {
    "duration": 299,
    "start_time": "2022-07-08T18:27:43.021Z"
   },
   {
    "duration": 204,
    "start_time": "2022-07-08T18:27:43.322Z"
   },
   {
    "duration": 6,
    "start_time": "2022-07-08T18:27:43.528Z"
   },
   {
    "duration": 362,
    "start_time": "2022-07-08T18:27:43.535Z"
   },
   {
    "duration": 4,
    "start_time": "2022-07-08T18:27:43.898Z"
   },
   {
    "duration": 9,
    "start_time": "2022-07-08T18:27:43.904Z"
   },
   {
    "duration": 191,
    "start_time": "2022-07-08T18:27:43.915Z"
   },
   {
    "duration": 299,
    "start_time": "2022-07-08T18:27:44.108Z"
   },
   {
    "duration": 11,
    "start_time": "2022-07-08T18:27:44.409Z"
   },
   {
    "duration": 172,
    "start_time": "2022-07-08T18:27:44.421Z"
   },
   {
    "duration": 152,
    "start_time": "2022-07-08T18:27:44.595Z"
   },
   {
    "duration": 13,
    "start_time": "2022-07-08T18:27:44.749Z"
   },
   {
    "duration": 43,
    "start_time": "2022-07-08T18:27:44.765Z"
   },
   {
    "duration": 142,
    "start_time": "2022-07-08T18:27:44.810Z"
   },
   {
    "duration": 167,
    "start_time": "2022-07-08T18:27:44.954Z"
   },
   {
    "duration": 6,
    "start_time": "2022-07-08T18:27:45.122Z"
   },
   {
    "duration": 203,
    "start_time": "2022-07-08T18:27:45.129Z"
   },
   {
    "duration": 171,
    "start_time": "2022-07-08T18:27:45.334Z"
   },
   {
    "duration": 30,
    "start_time": "2022-07-08T18:27:45.507Z"
   },
   {
    "duration": 176,
    "start_time": "2022-07-08T18:27:45.539Z"
   },
   {
    "duration": 25,
    "start_time": "2022-07-08T18:27:45.717Z"
   },
   {
    "duration": 26,
    "start_time": "2022-07-08T18:27:45.747Z"
   },
   {
    "duration": 41,
    "start_time": "2022-07-08T18:27:45.776Z"
   },
   {
    "duration": 73,
    "start_time": "2022-07-08T18:27:45.819Z"
   },
   {
    "duration": 23,
    "start_time": "2022-07-08T18:27:45.894Z"
   },
   {
    "duration": 4,
    "start_time": "2022-07-08T19:46:57.612Z"
   },
   {
    "duration": 1371,
    "start_time": "2022-07-11T06:43:06.511Z"
   },
   {
    "duration": 109,
    "start_time": "2022-07-11T06:43:07.884Z"
   },
   {
    "duration": 135,
    "start_time": "2022-07-11T06:43:07.995Z"
   },
   {
    "duration": 95,
    "start_time": "2022-07-11T06:43:08.132Z"
   },
   {
    "duration": 15,
    "start_time": "2022-07-11T06:43:08.228Z"
   },
   {
    "duration": 8,
    "start_time": "2022-07-11T06:43:08.245Z"
   },
   {
    "duration": 23,
    "start_time": "2022-07-11T06:43:08.255Z"
   },
   {
    "duration": 6,
    "start_time": "2022-07-11T06:43:08.279Z"
   },
   {
    "duration": 18,
    "start_time": "2022-07-11T06:43:08.287Z"
   },
   {
    "duration": 8,
    "start_time": "2022-07-11T06:43:08.308Z"
   },
   {
    "duration": 6,
    "start_time": "2022-07-11T06:43:08.318Z"
   },
   {
    "duration": 14,
    "start_time": "2022-07-11T06:43:08.325Z"
   },
   {
    "duration": 9,
    "start_time": "2022-07-11T06:43:08.341Z"
   },
   {
    "duration": 54,
    "start_time": "2022-07-11T06:43:08.351Z"
   },
   {
    "duration": 14,
    "start_time": "2022-07-11T06:43:08.407Z"
   },
   {
    "duration": 194,
    "start_time": "2022-07-11T06:43:08.423Z"
   },
   {
    "duration": 140,
    "start_time": "2022-07-11T06:43:08.619Z"
   },
   {
    "duration": 8,
    "start_time": "2022-07-11T06:43:08.760Z"
   },
   {
    "duration": 11,
    "start_time": "2022-07-11T06:43:08.769Z"
   },
   {
    "duration": 311,
    "start_time": "2022-07-11T06:43:08.782Z"
   },
   {
    "duration": 187,
    "start_time": "2022-07-11T06:43:09.098Z"
   },
   {
    "duration": 12,
    "start_time": "2022-07-11T06:43:09.286Z"
   },
   {
    "duration": 336,
    "start_time": "2022-07-11T06:43:09.300Z"
   },
   {
    "duration": 5,
    "start_time": "2022-07-11T06:43:09.637Z"
   },
   {
    "duration": 9,
    "start_time": "2022-07-11T06:43:09.643Z"
   },
   {
    "duration": 178,
    "start_time": "2022-07-11T06:43:09.654Z"
   },
   {
    "duration": 270,
    "start_time": "2022-07-11T06:43:09.833Z"
   },
   {
    "duration": 12,
    "start_time": "2022-07-11T06:43:10.107Z"
   },
   {
    "duration": 130,
    "start_time": "2022-07-11T06:43:10.121Z"
   },
   {
    "duration": 123,
    "start_time": "2022-07-11T06:43:10.253Z"
   },
   {
    "duration": 5,
    "start_time": "2022-07-11T06:43:10.378Z"
   },
   {
    "duration": 23,
    "start_time": "2022-07-11T06:43:10.384Z"
   },
   {
    "duration": 154,
    "start_time": "2022-07-11T06:43:10.408Z"
   },
   {
    "duration": 139,
    "start_time": "2022-07-11T06:43:10.564Z"
   },
   {
    "duration": 5,
    "start_time": "2022-07-11T06:43:10.706Z"
   },
   {
    "duration": 174,
    "start_time": "2022-07-11T06:43:10.712Z"
   },
   {
    "duration": 132,
    "start_time": "2022-07-11T06:43:10.888Z"
   },
   {
    "duration": 31,
    "start_time": "2022-07-11T06:43:11.022Z"
   },
   {
    "duration": 173,
    "start_time": "2022-07-11T06:43:11.055Z"
   },
   {
    "duration": 24,
    "start_time": "2022-07-11T06:43:11.230Z"
   },
   {
    "duration": 13,
    "start_time": "2022-07-11T06:43:11.256Z"
   },
   {
    "duration": 32,
    "start_time": "2022-07-11T06:43:11.270Z"
   },
   {
    "duration": 31,
    "start_time": "2022-07-11T06:43:11.304Z"
   },
   {
    "duration": 17,
    "start_time": "2022-07-11T06:43:11.337Z"
   },
   {
    "duration": 104,
    "start_time": "2022-07-11T06:44:14.730Z"
   },
   {
    "duration": 1276,
    "start_time": "2022-07-11T11:22:55.945Z"
   },
   {
    "duration": 46,
    "start_time": "2022-07-11T11:22:57.223Z"
   },
   {
    "duration": 53,
    "start_time": "2022-07-11T11:22:57.271Z"
   },
   {
    "duration": 34,
    "start_time": "2022-07-11T11:22:57.326Z"
   },
   {
    "duration": 13,
    "start_time": "2022-07-11T11:22:57.362Z"
   },
   {
    "duration": 7,
    "start_time": "2022-07-11T11:22:57.377Z"
   },
   {
    "duration": 32,
    "start_time": "2022-07-11T11:22:57.386Z"
   },
   {
    "duration": 11,
    "start_time": "2022-07-11T11:22:57.421Z"
   },
   {
    "duration": 15,
    "start_time": "2022-07-11T11:22:57.434Z"
   },
   {
    "duration": 7,
    "start_time": "2022-07-11T11:22:57.451Z"
   },
   {
    "duration": 6,
    "start_time": "2022-07-11T11:22:57.459Z"
   },
   {
    "duration": 45,
    "start_time": "2022-07-11T11:22:57.467Z"
   },
   {
    "duration": 10,
    "start_time": "2022-07-11T11:22:57.516Z"
   },
   {
    "duration": 13,
    "start_time": "2022-07-11T11:22:57.528Z"
   },
   {
    "duration": 12,
    "start_time": "2022-07-11T11:22:57.543Z"
   },
   {
    "duration": 237,
    "start_time": "2022-07-11T11:22:57.557Z"
   },
   {
    "duration": 141,
    "start_time": "2022-07-11T11:22:57.796Z"
   },
   {
    "duration": 7,
    "start_time": "2022-07-11T11:22:57.940Z"
   },
   {
    "duration": 9,
    "start_time": "2022-07-11T11:22:57.948Z"
   },
   {
    "duration": 295,
    "start_time": "2022-07-11T11:22:57.959Z"
   },
   {
    "duration": 203,
    "start_time": "2022-07-11T11:22:58.255Z"
   },
   {
    "duration": 6,
    "start_time": "2022-07-11T11:22:58.460Z"
   },
   {
    "duration": 337,
    "start_time": "2022-07-11T11:22:58.468Z"
   },
   {
    "duration": 10,
    "start_time": "2022-07-11T11:22:58.806Z"
   },
   {
    "duration": 15,
    "start_time": "2022-07-11T11:22:58.822Z"
   },
   {
    "duration": 217,
    "start_time": "2022-07-11T11:22:58.840Z"
   },
   {
    "duration": 369,
    "start_time": "2022-07-11T11:22:59.059Z"
   },
   {
    "duration": 14,
    "start_time": "2022-07-11T11:22:59.432Z"
   },
   {
    "duration": 176,
    "start_time": "2022-07-11T11:22:59.448Z"
   },
   {
    "duration": 143,
    "start_time": "2022-07-11T11:22:59.626Z"
   },
   {
    "duration": 5,
    "start_time": "2022-07-11T11:22:59.773Z"
   },
   {
    "duration": 21,
    "start_time": "2022-07-11T11:22:59.779Z"
   },
   {
    "duration": 165,
    "start_time": "2022-07-11T11:22:59.803Z"
   },
   {
    "duration": 149,
    "start_time": "2022-07-11T11:22:59.970Z"
   },
   {
    "duration": 7,
    "start_time": "2022-07-11T11:23:00.122Z"
   },
   {
    "duration": 226,
    "start_time": "2022-07-11T11:23:00.131Z"
   },
   {
    "duration": 174,
    "start_time": "2022-07-11T11:23:00.359Z"
   },
   {
    "duration": 46,
    "start_time": "2022-07-11T11:23:00.535Z"
   },
   {
    "duration": 226,
    "start_time": "2022-07-11T11:23:00.583Z"
   },
   {
    "duration": 31,
    "start_time": "2022-07-11T11:23:00.812Z"
   },
   {
    "duration": 15,
    "start_time": "2022-07-11T11:23:00.845Z"
   },
   {
    "duration": 36,
    "start_time": "2022-07-11T11:23:00.862Z"
   },
   {
    "duration": 40,
    "start_time": "2022-07-11T11:23:00.900Z"
   },
   {
    "duration": 17,
    "start_time": "2022-07-11T11:23:00.942Z"
   },
   {
    "duration": 197,
    "start_time": "2022-07-11T11:25:31.929Z"
   },
   {
    "duration": 221,
    "start_time": "2022-07-11T11:28:13.659Z"
   },
   {
    "duration": 205,
    "start_time": "2022-07-11T11:31:14.730Z"
   },
   {
    "duration": 253,
    "start_time": "2022-07-11T11:31:45.688Z"
   },
   {
    "duration": 200,
    "start_time": "2022-07-11T11:31:52.227Z"
   },
   {
    "duration": 166,
    "start_time": "2022-07-11T11:32:49.247Z"
   },
   {
    "duration": 162,
    "start_time": "2022-07-11T11:32:57.231Z"
   },
   {
    "duration": 169,
    "start_time": "2022-07-11T11:33:27.735Z"
   },
   {
    "duration": 301,
    "start_time": "2022-07-11T11:33:53.310Z"
   },
   {
    "duration": 316,
    "start_time": "2022-07-11T11:34:08.269Z"
   },
   {
    "duration": 216,
    "start_time": "2022-07-11T11:36:39.563Z"
   },
   {
    "duration": 210,
    "start_time": "2022-07-11T11:36:49.242Z"
   },
   {
    "duration": 259,
    "start_time": "2022-07-11T11:37:06.227Z"
   },
   {
    "duration": 256,
    "start_time": "2022-07-11T11:37:16.642Z"
   },
   {
    "duration": 212,
    "start_time": "2022-07-11T11:37:40.672Z"
   },
   {
    "duration": 169,
    "start_time": "2022-07-11T11:38:12.984Z"
   },
   {
    "duration": 156,
    "start_time": "2022-07-11T11:38:27.171Z"
   },
   {
    "duration": 224,
    "start_time": "2022-07-11T11:38:33.865Z"
   },
   {
    "duration": 227,
    "start_time": "2022-07-11T11:48:08.892Z"
   },
   {
    "duration": 200,
    "start_time": "2022-07-11T11:49:12.100Z"
   },
   {
    "duration": 221,
    "start_time": "2022-07-11T11:53:28.719Z"
   },
   {
    "duration": 202,
    "start_time": "2022-07-11T12:00:34.410Z"
   },
   {
    "duration": 156,
    "start_time": "2022-07-11T12:01:18.603Z"
   },
   {
    "duration": 178,
    "start_time": "2022-07-11T12:01:33.323Z"
   },
   {
    "duration": 192,
    "start_time": "2022-07-11T12:02:20.690Z"
   },
   {
    "duration": 184,
    "start_time": "2022-07-11T12:02:27.263Z"
   },
   {
    "duration": 177,
    "start_time": "2022-07-11T12:02:32.090Z"
   },
   {
    "duration": 173,
    "start_time": "2022-07-11T12:02:39.244Z"
   },
   {
    "duration": 187,
    "start_time": "2022-07-11T12:02:44.483Z"
   },
   {
    "duration": 412,
    "start_time": "2022-07-11T12:02:56.042Z"
   },
   {
    "duration": 278,
    "start_time": "2022-07-11T12:03:04.273Z"
   },
   {
    "duration": 175,
    "start_time": "2022-07-11T12:03:12.074Z"
   },
   {
    "duration": 214,
    "start_time": "2022-07-11T12:03:20.001Z"
   },
   {
    "duration": 195,
    "start_time": "2022-07-11T12:10:32.234Z"
   },
   {
    "duration": 195,
    "start_time": "2022-07-11T12:13:11.818Z"
   },
   {
    "duration": 200,
    "start_time": "2022-07-11T12:14:38.244Z"
   },
   {
    "duration": 196,
    "start_time": "2022-07-11T12:14:56.074Z"
   },
   {
    "duration": 219,
    "start_time": "2022-07-11T12:15:04.565Z"
   },
   {
    "duration": 207,
    "start_time": "2022-07-11T12:15:11.186Z"
   },
   {
    "duration": 201,
    "start_time": "2022-07-11T12:15:25.940Z"
   },
   {
    "duration": 250,
    "start_time": "2022-07-11T12:15:36.890Z"
   },
   {
    "duration": 336,
    "start_time": "2022-07-11T12:15:47.618Z"
   },
   {
    "duration": 194,
    "start_time": "2022-07-11T12:15:54.139Z"
   },
   {
    "duration": 206,
    "start_time": "2022-07-11T12:16:02.648Z"
   },
   {
    "duration": 307,
    "start_time": "2022-07-11T12:16:36.657Z"
   },
   {
    "duration": 246,
    "start_time": "2022-07-11T12:17:27.160Z"
   },
   {
    "duration": 347,
    "start_time": "2022-07-11T12:18:47.918Z"
   },
   {
    "duration": 329,
    "start_time": "2022-07-11T12:18:55.816Z"
   },
   {
    "duration": 248,
    "start_time": "2022-07-11T12:20:30.388Z"
   },
   {
    "duration": 320,
    "start_time": "2022-07-11T12:21:16.115Z"
   },
   {
    "duration": 313,
    "start_time": "2022-07-11T12:21:27.244Z"
   },
   {
    "duration": 148,
    "start_time": "2022-07-11T12:22:13.123Z"
   },
   {
    "duration": 163,
    "start_time": "2022-07-11T12:24:05.805Z"
   },
   {
    "duration": 185,
    "start_time": "2022-07-11T12:24:15.663Z"
   },
   {
    "duration": 177,
    "start_time": "2022-07-11T12:24:23.611Z"
   },
   {
    "duration": 278,
    "start_time": "2022-07-11T12:25:07.843Z"
   },
   {
    "duration": 1173,
    "start_time": "2022-07-11T12:26:44.306Z"
   },
   {
    "duration": 53,
    "start_time": "2022-07-11T12:26:45.481Z"
   },
   {
    "duration": 50,
    "start_time": "2022-07-11T12:26:45.536Z"
   },
   {
    "duration": 49,
    "start_time": "2022-07-11T12:26:45.588Z"
   },
   {
    "duration": 14,
    "start_time": "2022-07-11T12:26:45.640Z"
   },
   {
    "duration": 12,
    "start_time": "2022-07-11T12:26:45.656Z"
   },
   {
    "duration": 32,
    "start_time": "2022-07-11T12:26:45.670Z"
   },
   {
    "duration": 7,
    "start_time": "2022-07-11T12:26:45.704Z"
   },
   {
    "duration": 26,
    "start_time": "2022-07-11T12:26:45.713Z"
   },
   {
    "duration": 10,
    "start_time": "2022-07-11T12:26:45.742Z"
   },
   {
    "duration": 16,
    "start_time": "2022-07-11T12:26:45.754Z"
   },
   {
    "duration": 21,
    "start_time": "2022-07-11T12:26:45.772Z"
   },
   {
    "duration": 13,
    "start_time": "2022-07-11T12:26:45.795Z"
   },
   {
    "duration": 23,
    "start_time": "2022-07-11T12:26:45.809Z"
   },
   {
    "duration": 12,
    "start_time": "2022-07-11T12:26:45.834Z"
   },
   {
    "duration": 350,
    "start_time": "2022-07-11T12:26:45.848Z"
   },
   {
    "duration": 156,
    "start_time": "2022-07-11T12:26:46.200Z"
   },
   {
    "duration": 7,
    "start_time": "2022-07-11T12:26:46.357Z"
   },
   {
    "duration": 14,
    "start_time": "2022-07-11T12:26:46.366Z"
   },
   {
    "duration": 368,
    "start_time": "2022-07-11T12:26:46.382Z"
   },
   {
    "duration": 280,
    "start_time": "2022-07-11T12:26:46.752Z"
   },
   {
    "duration": 9,
    "start_time": "2022-07-11T12:26:47.034Z"
   },
   {
    "duration": 379,
    "start_time": "2022-07-11T12:26:47.046Z"
   },
   {
    "duration": 5,
    "start_time": "2022-07-11T12:26:47.427Z"
   },
   {
    "duration": 7,
    "start_time": "2022-07-11T12:26:47.434Z"
   },
   {
    "duration": 241,
    "start_time": "2022-07-11T12:26:47.443Z"
   },
   {
    "duration": 356,
    "start_time": "2022-07-11T12:26:47.686Z"
   },
   {
    "duration": 12,
    "start_time": "2022-07-11T12:26:48.045Z"
   },
   {
    "duration": 169,
    "start_time": "2022-07-11T12:26:48.059Z"
   },
   {
    "duration": 154,
    "start_time": "2022-07-11T12:26:48.230Z"
   },
   {
    "duration": 5,
    "start_time": "2022-07-11T12:26:48.386Z"
   },
   {
    "duration": 13,
    "start_time": "2022-07-11T12:26:48.402Z"
   },
   {
    "duration": 167,
    "start_time": "2022-07-11T12:26:48.417Z"
   },
   {
    "duration": 186,
    "start_time": "2022-07-11T12:26:48.586Z"
   },
   {
    "duration": 6,
    "start_time": "2022-07-11T12:26:48.774Z"
   },
   {
    "duration": 206,
    "start_time": "2022-07-11T12:26:48.781Z"
   },
   {
    "duration": 144,
    "start_time": "2022-07-11T12:26:48.989Z"
   },
   {
    "duration": 32,
    "start_time": "2022-07-11T12:26:49.135Z"
   },
   {
    "duration": 196,
    "start_time": "2022-07-11T12:26:49.169Z"
   },
   {
    "duration": 31,
    "start_time": "2022-07-11T12:26:49.367Z"
   },
   {
    "duration": 18,
    "start_time": "2022-07-11T12:26:49.401Z"
   },
   {
    "duration": 8,
    "start_time": "2022-07-11T12:26:49.421Z"
   },
   {
    "duration": 33,
    "start_time": "2022-07-11T12:26:49.431Z"
   },
   {
    "duration": 52,
    "start_time": "2022-07-11T12:26:49.466Z"
   },
   {
    "duration": 197,
    "start_time": "2022-07-11T12:28:56.084Z"
   },
   {
    "duration": 165,
    "start_time": "2022-07-11T12:29:54.723Z"
   },
   {
    "duration": 160,
    "start_time": "2022-07-11T12:30:41.521Z"
   },
   {
    "duration": 8,
    "start_time": "2022-07-11T12:32:53.705Z"
   },
   {
    "duration": 20,
    "start_time": "2022-07-11T12:33:10.800Z"
   },
   {
    "duration": 4,
    "start_time": "2022-07-11T12:38:09.548Z"
   },
   {
    "duration": 6,
    "start_time": "2022-07-11T12:38:18.521Z"
   },
   {
    "duration": 5,
    "start_time": "2022-07-11T12:38:44.657Z"
   },
   {
    "duration": 5,
    "start_time": "2022-07-11T12:38:50.366Z"
   },
   {
    "duration": 6,
    "start_time": "2022-07-11T12:39:28.861Z"
   },
   {
    "duration": 7,
    "start_time": "2022-07-11T12:39:56.422Z"
   },
   {
    "duration": 9,
    "start_time": "2022-07-11T12:40:08.973Z"
   },
   {
    "duration": 12,
    "start_time": "2022-07-11T12:40:53.459Z"
   },
   {
    "duration": 4,
    "start_time": "2022-07-11T12:41:02.965Z"
   },
   {
    "duration": 18,
    "start_time": "2022-07-11T12:41:12.094Z"
   },
   {
    "duration": 109,
    "start_time": "2022-07-11T12:41:41.064Z"
   },
   {
    "duration": 10,
    "start_time": "2022-07-11T12:41:44.723Z"
   },
   {
    "duration": 6,
    "start_time": "2022-07-11T12:41:53.451Z"
   },
   {
    "duration": 5,
    "start_time": "2022-07-11T12:42:49.864Z"
   },
   {
    "duration": 5,
    "start_time": "2022-07-11T12:42:58.452Z"
   },
   {
    "duration": 13,
    "start_time": "2022-07-11T12:43:41.602Z"
   },
   {
    "duration": 6,
    "start_time": "2022-07-11T12:45:20.279Z"
   },
   {
    "duration": 6,
    "start_time": "2022-07-11T12:45:20.885Z"
   },
   {
    "duration": 11,
    "start_time": "2022-07-11T12:45:41.583Z"
   },
   {
    "duration": 5,
    "start_time": "2022-07-11T12:45:45.843Z"
   },
   {
    "duration": 10,
    "start_time": "2022-07-11T13:04:56.078Z"
   },
   {
    "duration": 5,
    "start_time": "2022-07-11T13:05:04.970Z"
   },
   {
    "duration": 5,
    "start_time": "2022-07-11T13:05:30.142Z"
   },
   {
    "duration": 85,
    "start_time": "2022-07-11T13:05:44.600Z"
   },
   {
    "duration": 78,
    "start_time": "2022-07-11T13:06:38.174Z"
   },
   {
    "duration": 14,
    "start_time": "2022-07-11T13:06:42.633Z"
   },
   {
    "duration": 15,
    "start_time": "2022-07-11T13:06:56.223Z"
   },
   {
    "duration": 9,
    "start_time": "2022-07-11T13:07:12.949Z"
   },
   {
    "duration": 5,
    "start_time": "2022-07-11T13:07:36.266Z"
   },
   {
    "duration": 7,
    "start_time": "2022-07-11T13:07:40.850Z"
   },
   {
    "duration": 8,
    "start_time": "2022-07-11T13:08:14.546Z"
   },
   {
    "duration": 13,
    "start_time": "2022-07-11T13:09:03.105Z"
   },
   {
    "duration": 10,
    "start_time": "2022-07-11T13:10:08.713Z"
   },
   {
    "duration": 7,
    "start_time": "2022-07-11T13:10:13.919Z"
   },
   {
    "duration": 7,
    "start_time": "2022-07-11T13:11:27.189Z"
   },
   {
    "duration": 8,
    "start_time": "2022-07-11T13:11:28.133Z"
   },
   {
    "duration": 22,
    "start_time": "2022-07-11T13:11:28.934Z"
   },
   {
    "duration": 7,
    "start_time": "2022-07-11T13:11:52.970Z"
   },
   {
    "duration": 8,
    "start_time": "2022-07-11T13:12:07.997Z"
   },
   {
    "duration": 5,
    "start_time": "2022-07-11T13:17:04.890Z"
   },
   {
    "duration": 8,
    "start_time": "2022-07-11T13:17:13.695Z"
   },
   {
    "duration": 6,
    "start_time": "2022-07-11T13:17:32.829Z"
   },
   {
    "duration": 5,
    "start_time": "2022-07-11T13:17:40.484Z"
   },
   {
    "duration": 9,
    "start_time": "2022-07-11T13:18:52.435Z"
   },
   {
    "duration": 15,
    "start_time": "2022-07-11T13:19:12.734Z"
   },
   {
    "duration": 6,
    "start_time": "2022-07-11T13:19:44.001Z"
   },
   {
    "duration": 7,
    "start_time": "2022-07-11T13:19:48.515Z"
   },
   {
    "duration": 10,
    "start_time": "2022-07-11T13:20:05.554Z"
   },
   {
    "duration": 170,
    "start_time": "2022-07-11T13:20:30.812Z"
   },
   {
    "duration": 182,
    "start_time": "2022-07-11T13:21:07.999Z"
   },
   {
    "duration": 107,
    "start_time": "2022-07-11T13:23:41.504Z"
   },
   {
    "duration": 26,
    "start_time": "2022-07-11T13:28:00.264Z"
   },
   {
    "duration": 29,
    "start_time": "2022-07-11T13:28:05.048Z"
   },
   {
    "duration": 23,
    "start_time": "2022-07-11T13:28:10.415Z"
   },
   {
    "duration": 29,
    "start_time": "2022-07-11T13:28:17.048Z"
   },
   {
    "duration": 26,
    "start_time": "2022-07-11T13:28:53.022Z"
   },
   {
    "duration": 14,
    "start_time": "2022-07-11T13:30:08.189Z"
   },
   {
    "duration": 12,
    "start_time": "2022-07-11T13:31:10.140Z"
   },
   {
    "duration": 110,
    "start_time": "2022-07-11T13:33:08.785Z"
   },
   {
    "duration": 1140,
    "start_time": "2022-07-11T13:44:24.437Z"
   },
   {
    "duration": 47,
    "start_time": "2022-07-11T13:44:25.579Z"
   },
   {
    "duration": 52,
    "start_time": "2022-07-11T13:44:25.628Z"
   },
   {
    "duration": 29,
    "start_time": "2022-07-11T13:44:25.682Z"
   },
   {
    "duration": 14,
    "start_time": "2022-07-11T13:44:25.713Z"
   },
   {
    "duration": 11,
    "start_time": "2022-07-11T13:44:25.729Z"
   },
   {
    "duration": 24,
    "start_time": "2022-07-11T13:44:25.742Z"
   },
   {
    "duration": 7,
    "start_time": "2022-07-11T13:44:25.768Z"
   },
   {
    "duration": 29,
    "start_time": "2022-07-11T13:44:25.776Z"
   },
   {
    "duration": 8,
    "start_time": "2022-07-11T13:44:25.806Z"
   },
   {
    "duration": 5,
    "start_time": "2022-07-11T13:44:25.815Z"
   },
   {
    "duration": 15,
    "start_time": "2022-07-11T13:44:25.822Z"
   },
   {
    "duration": 13,
    "start_time": "2022-07-11T13:44:25.839Z"
   },
   {
    "duration": 12,
    "start_time": "2022-07-11T13:44:25.898Z"
   },
   {
    "duration": 12,
    "start_time": "2022-07-11T13:44:25.912Z"
   },
   {
    "duration": 14,
    "start_time": "2022-07-11T13:44:25.926Z"
   },
   {
    "duration": 24,
    "start_time": "2022-07-11T13:44:25.943Z"
   },
   {
    "duration": 34,
    "start_time": "2022-07-11T13:44:25.968Z"
   },
   {
    "duration": 195,
    "start_time": "2022-07-11T13:44:26.003Z"
   },
   {
    "duration": 154,
    "start_time": "2022-07-11T13:44:26.200Z"
   },
   {
    "duration": 8,
    "start_time": "2022-07-11T13:44:26.356Z"
   },
   {
    "duration": 9,
    "start_time": "2022-07-11T13:44:26.366Z"
   },
   {
    "duration": 342,
    "start_time": "2022-07-11T13:44:26.377Z"
   },
   {
    "duration": 244,
    "start_time": "2022-07-11T13:44:26.721Z"
   },
   {
    "duration": 7,
    "start_time": "2022-07-11T13:44:26.967Z"
   },
   {
    "duration": 331,
    "start_time": "2022-07-11T13:44:26.975Z"
   },
   {
    "duration": 4,
    "start_time": "2022-07-11T13:44:27.308Z"
   },
   {
    "duration": 12,
    "start_time": "2022-07-11T13:44:27.314Z"
   },
   {
    "duration": 223,
    "start_time": "2022-07-11T13:44:27.327Z"
   },
   {
    "duration": 336,
    "start_time": "2022-07-11T13:44:27.552Z"
   },
   {
    "duration": 18,
    "start_time": "2022-07-11T13:44:27.890Z"
   },
   {
    "duration": 162,
    "start_time": "2022-07-11T13:44:27.910Z"
   },
   {
    "duration": 171,
    "start_time": "2022-07-11T13:44:28.074Z"
   },
   {
    "duration": 5,
    "start_time": "2022-07-11T13:44:28.247Z"
   },
   {
    "duration": 14,
    "start_time": "2022-07-11T13:44:28.254Z"
   },
   {
    "duration": 184,
    "start_time": "2022-07-11T13:44:28.270Z"
   },
   {
    "duration": 254,
    "start_time": "2022-07-11T13:44:28.457Z"
   },
   {
    "duration": 189,
    "start_time": "2022-07-11T13:44:28.713Z"
   },
   {
    "duration": 7,
    "start_time": "2022-07-11T13:44:28.904Z"
   },
   {
    "duration": 124,
    "start_time": "2022-07-11T13:44:28.912Z"
   },
   {
    "duration": 131,
    "start_time": "2022-07-11T13:44:29.040Z"
   },
   {
    "duration": 43,
    "start_time": "2022-07-11T13:44:29.173Z"
   },
   {
    "duration": 184,
    "start_time": "2022-07-11T13:44:29.218Z"
   },
   {
    "duration": 27,
    "start_time": "2022-07-11T13:44:29.404Z"
   },
   {
    "duration": 13,
    "start_time": "2022-07-11T13:44:29.433Z"
   },
   {
    "duration": 9,
    "start_time": "2022-07-11T13:44:29.448Z"
   },
   {
    "duration": 59,
    "start_time": "2022-07-11T13:44:29.459Z"
   },
   {
    "duration": 18,
    "start_time": "2022-07-11T13:44:29.520Z"
   },
   {
    "duration": 30,
    "start_time": "2022-07-11T13:45:13.800Z"
   },
   {
    "duration": 30,
    "start_time": "2022-07-11T13:46:18.799Z"
   },
   {
    "duration": 16,
    "start_time": "2022-07-11T13:46:49.190Z"
   },
   {
    "duration": 1118,
    "start_time": "2022-07-11T13:46:52.948Z"
   },
   {
    "duration": 57,
    "start_time": "2022-07-11T13:46:54.068Z"
   },
   {
    "duration": 49,
    "start_time": "2022-07-11T13:46:54.127Z"
   },
   {
    "duration": 29,
    "start_time": "2022-07-11T13:46:54.178Z"
   },
   {
    "duration": 12,
    "start_time": "2022-07-11T13:46:54.210Z"
   },
   {
    "duration": 8,
    "start_time": "2022-07-11T13:46:54.224Z"
   },
   {
    "duration": 23,
    "start_time": "2022-07-11T13:46:54.234Z"
   },
   {
    "duration": 7,
    "start_time": "2022-07-11T13:46:54.258Z"
   },
   {
    "duration": 33,
    "start_time": "2022-07-11T13:46:54.266Z"
   },
   {
    "duration": 6,
    "start_time": "2022-07-11T13:46:54.302Z"
   },
   {
    "duration": 10,
    "start_time": "2022-07-11T13:46:54.309Z"
   },
   {
    "duration": 17,
    "start_time": "2022-07-11T13:46:54.320Z"
   },
   {
    "duration": 9,
    "start_time": "2022-07-11T13:46:54.340Z"
   },
   {
    "duration": 15,
    "start_time": "2022-07-11T13:46:54.350Z"
   },
   {
    "duration": 37,
    "start_time": "2022-07-11T13:46:54.367Z"
   },
   {
    "duration": 12,
    "start_time": "2022-07-11T13:46:54.405Z"
   },
   {
    "duration": 16,
    "start_time": "2022-07-11T13:46:54.419Z"
   },
   {
    "duration": 11,
    "start_time": "2022-07-11T13:46:54.437Z"
   },
   {
    "duration": 215,
    "start_time": "2022-07-11T13:46:54.450Z"
   },
   {
    "duration": 141,
    "start_time": "2022-07-11T13:46:54.666Z"
   },
   {
    "duration": 9,
    "start_time": "2022-07-11T13:46:54.808Z"
   },
   {
    "duration": 9,
    "start_time": "2022-07-11T13:46:54.818Z"
   },
   {
    "duration": 317,
    "start_time": "2022-07-11T13:46:54.829Z"
   },
   {
    "duration": 225,
    "start_time": "2022-07-11T13:46:55.148Z"
   },
   {
    "duration": 7,
    "start_time": "2022-07-11T13:46:55.375Z"
   },
   {
    "duration": 340,
    "start_time": "2022-07-11T13:46:55.383Z"
   },
   {
    "duration": 4,
    "start_time": "2022-07-11T13:46:55.725Z"
   },
   {
    "duration": 6,
    "start_time": "2022-07-11T13:46:55.732Z"
   },
   {
    "duration": 206,
    "start_time": "2022-07-11T13:46:55.740Z"
   },
   {
    "duration": 334,
    "start_time": "2022-07-11T13:46:55.948Z"
   },
   {
    "duration": 22,
    "start_time": "2022-07-11T13:46:56.283Z"
   },
   {
    "duration": 149,
    "start_time": "2022-07-11T13:46:56.306Z"
   },
   {
    "duration": 164,
    "start_time": "2022-07-11T13:46:56.457Z"
   },
   {
    "duration": 5,
    "start_time": "2022-07-11T13:46:56.623Z"
   },
   {
    "duration": 14,
    "start_time": "2022-07-11T13:46:56.630Z"
   },
   {
    "duration": 173,
    "start_time": "2022-07-11T13:46:56.646Z"
   },
   {
    "duration": 219,
    "start_time": "2022-07-11T13:46:56.821Z"
   },
   {
    "duration": 260,
    "start_time": "2022-07-11T13:46:57.042Z"
   },
   {
    "duration": 6,
    "start_time": "2022-07-11T13:46:57.303Z"
   },
   {
    "duration": 111,
    "start_time": "2022-07-11T13:46:57.310Z"
   },
   {
    "duration": 142,
    "start_time": "2022-07-11T13:46:57.423Z"
   },
   {
    "duration": 42,
    "start_time": "2022-07-11T13:46:57.567Z"
   },
   {
    "duration": 169,
    "start_time": "2022-07-11T13:46:57.611Z"
   },
   {
    "duration": 33,
    "start_time": "2022-07-11T13:46:57.782Z"
   },
   {
    "duration": 12,
    "start_time": "2022-07-11T13:46:57.817Z"
   },
   {
    "duration": 8,
    "start_time": "2022-07-11T13:46:57.831Z"
   },
   {
    "duration": 33,
    "start_time": "2022-07-11T13:46:57.841Z"
   },
   {
    "duration": 37,
    "start_time": "2022-07-11T13:46:57.875Z"
   },
   {
    "duration": 1161,
    "start_time": "2022-07-11T13:49:30.517Z"
   },
   {
    "duration": 49,
    "start_time": "2022-07-11T13:49:31.680Z"
   },
   {
    "duration": 50,
    "start_time": "2022-07-11T13:49:31.730Z"
   },
   {
    "duration": 30,
    "start_time": "2022-07-11T13:49:31.782Z"
   },
   {
    "duration": 13,
    "start_time": "2022-07-11T13:49:31.814Z"
   },
   {
    "duration": 11,
    "start_time": "2022-07-11T13:49:31.829Z"
   },
   {
    "duration": 23,
    "start_time": "2022-07-11T13:49:31.842Z"
   },
   {
    "duration": 6,
    "start_time": "2022-07-11T13:49:31.867Z"
   },
   {
    "duration": 8,
    "start_time": "2022-07-11T13:49:31.899Z"
   },
   {
    "duration": 13,
    "start_time": "2022-07-11T13:49:31.910Z"
   },
   {
    "duration": 7,
    "start_time": "2022-07-11T13:49:31.925Z"
   },
   {
    "duration": 19,
    "start_time": "2022-07-11T13:49:31.934Z"
   },
   {
    "duration": 10,
    "start_time": "2022-07-11T13:49:31.955Z"
   },
   {
    "duration": 40,
    "start_time": "2022-07-11T13:49:31.966Z"
   },
   {
    "duration": 8,
    "start_time": "2022-07-11T13:49:32.008Z"
   },
   {
    "duration": 10,
    "start_time": "2022-07-11T13:49:32.018Z"
   },
   {
    "duration": 13,
    "start_time": "2022-07-11T13:49:32.030Z"
   },
   {
    "duration": 10,
    "start_time": "2022-07-11T13:49:32.045Z"
   },
   {
    "duration": 206,
    "start_time": "2022-07-11T13:49:32.057Z"
   },
   {
    "duration": 142,
    "start_time": "2022-07-11T13:49:32.265Z"
   },
   {
    "duration": 6,
    "start_time": "2022-07-11T13:49:32.409Z"
   },
   {
    "duration": 12,
    "start_time": "2022-07-11T13:49:32.417Z"
   },
   {
    "duration": 309,
    "start_time": "2022-07-11T13:49:32.431Z"
   },
   {
    "duration": 217,
    "start_time": "2022-07-11T13:49:32.742Z"
   },
   {
    "duration": 7,
    "start_time": "2022-07-11T13:49:32.961Z"
   },
   {
    "duration": 343,
    "start_time": "2022-07-11T13:49:32.969Z"
   },
   {
    "duration": 5,
    "start_time": "2022-07-11T13:49:33.314Z"
   },
   {
    "duration": 6,
    "start_time": "2022-07-11T13:49:33.324Z"
   },
   {
    "duration": 236,
    "start_time": "2022-07-11T13:49:33.332Z"
   },
   {
    "duration": 352,
    "start_time": "2022-07-11T13:49:33.570Z"
   },
   {
    "duration": 12,
    "start_time": "2022-07-11T13:49:33.924Z"
   },
   {
    "duration": 172,
    "start_time": "2022-07-11T13:49:33.938Z"
   },
   {
    "duration": 160,
    "start_time": "2022-07-11T13:49:34.112Z"
   },
   {
    "duration": 5,
    "start_time": "2022-07-11T13:49:34.274Z"
   },
   {
    "duration": 25,
    "start_time": "2022-07-11T13:49:34.281Z"
   },
   {
    "duration": 168,
    "start_time": "2022-07-11T13:49:34.308Z"
   },
   {
    "duration": 171,
    "start_time": "2022-07-11T13:49:34.478Z"
   },
   {
    "duration": 271,
    "start_time": "2022-07-11T13:49:34.651Z"
   },
   {
    "duration": 6,
    "start_time": "2022-07-11T13:49:34.924Z"
   },
   {
    "duration": 114,
    "start_time": "2022-07-11T13:49:34.931Z"
   },
   {
    "duration": 132,
    "start_time": "2022-07-11T13:49:35.047Z"
   },
   {
    "duration": 37,
    "start_time": "2022-07-11T13:49:35.181Z"
   },
   {
    "duration": 178,
    "start_time": "2022-07-11T13:49:35.220Z"
   },
   {
    "duration": 25,
    "start_time": "2022-07-11T13:49:35.400Z"
   },
   {
    "duration": 13,
    "start_time": "2022-07-11T13:49:35.426Z"
   },
   {
    "duration": 9,
    "start_time": "2022-07-11T13:49:35.440Z"
   },
   {
    "duration": 57,
    "start_time": "2022-07-11T13:49:35.450Z"
   },
   {
    "duration": 17,
    "start_time": "2022-07-11T13:49:35.508Z"
   },
   {
    "duration": 43,
    "start_time": "2022-08-08T15:20:02.169Z"
   },
   {
    "duration": 1090,
    "start_time": "2022-08-08T15:20:16.171Z"
   },
   {
    "duration": 90,
    "start_time": "2022-08-08T15:20:17.263Z"
   },
   {
    "duration": 106,
    "start_time": "2022-08-08T15:20:17.354Z"
   },
   {
    "duration": 73,
    "start_time": "2022-08-08T15:20:17.471Z"
   },
   {
    "duration": 13,
    "start_time": "2022-08-08T15:20:17.546Z"
   },
   {
    "duration": 21,
    "start_time": "2022-08-08T15:20:17.561Z"
   },
   {
    "duration": 35,
    "start_time": "2022-08-08T15:20:17.584Z"
   },
   {
    "duration": 6,
    "start_time": "2022-08-08T15:20:17.621Z"
   },
   {
    "duration": 18,
    "start_time": "2022-08-08T15:20:17.629Z"
   },
   {
    "duration": 22,
    "start_time": "2022-08-08T15:20:17.649Z"
   },
   {
    "duration": 12,
    "start_time": "2022-08-08T15:20:17.674Z"
   },
   {
    "duration": 25,
    "start_time": "2022-08-08T15:20:17.687Z"
   },
   {
    "duration": 11,
    "start_time": "2022-08-08T15:20:17.713Z"
   },
   {
    "duration": 26,
    "start_time": "2022-08-08T15:20:17.729Z"
   },
   {
    "duration": 22,
    "start_time": "2022-08-08T15:20:17.757Z"
   },
   {
    "duration": 16,
    "start_time": "2022-08-08T15:20:17.780Z"
   },
   {
    "duration": 14,
    "start_time": "2022-08-08T15:20:17.797Z"
   },
   {
    "duration": 10,
    "start_time": "2022-08-08T15:20:17.812Z"
   },
   {
    "duration": 93,
    "start_time": "2022-08-08T15:20:17.823Z"
   },
   {
    "duration": 0,
    "start_time": "2022-08-08T15:20:17.918Z"
   },
   {
    "duration": 0,
    "start_time": "2022-08-08T15:20:17.919Z"
   },
   {
    "duration": 0,
    "start_time": "2022-08-08T15:20:17.921Z"
   },
   {
    "duration": 0,
    "start_time": "2022-08-08T15:20:17.922Z"
   },
   {
    "duration": 0,
    "start_time": "2022-08-08T15:20:17.923Z"
   },
   {
    "duration": 0,
    "start_time": "2022-08-08T15:20:17.925Z"
   },
   {
    "duration": 0,
    "start_time": "2022-08-08T15:20:17.926Z"
   },
   {
    "duration": 0,
    "start_time": "2022-08-08T15:20:17.927Z"
   },
   {
    "duration": 0,
    "start_time": "2022-08-08T15:20:17.929Z"
   },
   {
    "duration": 0,
    "start_time": "2022-08-08T15:20:17.930Z"
   },
   {
    "duration": 0,
    "start_time": "2022-08-08T15:20:17.931Z"
   },
   {
    "duration": 0,
    "start_time": "2022-08-08T15:20:17.932Z"
   },
   {
    "duration": 0,
    "start_time": "2022-08-08T15:20:17.955Z"
   },
   {
    "duration": 0,
    "start_time": "2022-08-08T15:20:17.956Z"
   },
   {
    "duration": 0,
    "start_time": "2022-08-08T15:20:17.957Z"
   },
   {
    "duration": 0,
    "start_time": "2022-08-08T15:20:17.959Z"
   },
   {
    "duration": 0,
    "start_time": "2022-08-08T15:20:17.960Z"
   },
   {
    "duration": 0,
    "start_time": "2022-08-08T15:20:17.961Z"
   },
   {
    "duration": 0,
    "start_time": "2022-08-08T15:20:17.962Z"
   },
   {
    "duration": 0,
    "start_time": "2022-08-08T15:20:17.964Z"
   },
   {
    "duration": 0,
    "start_time": "2022-08-08T15:20:17.965Z"
   },
   {
    "duration": 0,
    "start_time": "2022-08-08T15:20:17.967Z"
   },
   {
    "duration": 0,
    "start_time": "2022-08-08T15:20:17.969Z"
   },
   {
    "duration": 0,
    "start_time": "2022-08-08T15:20:17.970Z"
   },
   {
    "duration": 1,
    "start_time": "2022-08-08T15:20:17.971Z"
   },
   {
    "duration": 0,
    "start_time": "2022-08-08T15:20:17.973Z"
   },
   {
    "duration": 0,
    "start_time": "2022-08-08T15:20:17.975Z"
   },
   {
    "duration": 0,
    "start_time": "2022-08-08T15:20:17.976Z"
   },
   {
    "duration": 0,
    "start_time": "2022-08-08T15:20:17.977Z"
   },
   {
    "duration": 0,
    "start_time": "2022-08-08T15:20:17.978Z"
   },
   {
    "duration": 0,
    "start_time": "2022-08-08T15:20:17.980Z"
   },
   {
    "duration": 10,
    "start_time": "2022-08-08T15:20:29.266Z"
   },
   {
    "duration": 1022,
    "start_time": "2022-08-08T15:20:42.513Z"
   },
   {
    "duration": 51,
    "start_time": "2022-08-08T15:20:43.537Z"
   },
   {
    "duration": 48,
    "start_time": "2022-08-08T15:20:43.590Z"
   },
   {
    "duration": 27,
    "start_time": "2022-08-08T15:20:43.640Z"
   },
   {
    "duration": 12,
    "start_time": "2022-08-08T15:20:43.669Z"
   },
   {
    "duration": 7,
    "start_time": "2022-08-08T15:20:43.682Z"
   },
   {
    "duration": 19,
    "start_time": "2022-08-08T15:20:43.690Z"
   },
   {
    "duration": 5,
    "start_time": "2022-08-08T15:20:43.710Z"
   },
   {
    "duration": 38,
    "start_time": "2022-08-08T15:20:43.717Z"
   },
   {
    "duration": 8,
    "start_time": "2022-08-08T15:20:43.759Z"
   },
   {
    "duration": 12,
    "start_time": "2022-08-08T15:20:43.769Z"
   },
   {
    "duration": 17,
    "start_time": "2022-08-08T15:20:43.783Z"
   },
   {
    "duration": 12,
    "start_time": "2022-08-08T15:20:43.802Z"
   },
   {
    "duration": 41,
    "start_time": "2022-08-08T15:20:43.815Z"
   },
   {
    "duration": 8,
    "start_time": "2022-08-08T15:20:43.858Z"
   },
   {
    "duration": 15,
    "start_time": "2022-08-08T15:20:43.868Z"
   },
   {
    "duration": 13,
    "start_time": "2022-08-08T15:20:43.884Z"
   },
   {
    "duration": 9,
    "start_time": "2022-08-08T15:20:43.898Z"
   },
   {
    "duration": 181,
    "start_time": "2022-08-08T15:20:43.909Z"
   },
   {
    "duration": 129,
    "start_time": "2022-08-08T15:20:44.092Z"
   },
   {
    "duration": 7,
    "start_time": "2022-08-08T15:20:44.223Z"
   },
   {
    "duration": 23,
    "start_time": "2022-08-08T15:20:44.232Z"
   },
   {
    "duration": 257,
    "start_time": "2022-08-08T15:20:44.257Z"
   },
   {
    "duration": 182,
    "start_time": "2022-08-08T15:20:44.516Z"
   },
   {
    "duration": 6,
    "start_time": "2022-08-08T15:20:44.699Z"
   },
   {
    "duration": 273,
    "start_time": "2022-08-08T15:20:44.706Z"
   },
   {
    "duration": 4,
    "start_time": "2022-08-08T15:20:44.980Z"
   },
   {
    "duration": 6,
    "start_time": "2022-08-08T15:20:44.987Z"
   },
   {
    "duration": 191,
    "start_time": "2022-08-08T15:20:44.994Z"
   },
   {
    "duration": 257,
    "start_time": "2022-08-08T15:20:45.186Z"
   },
   {
    "duration": 18,
    "start_time": "2022-08-08T15:20:45.445Z"
   },
   {
    "duration": 127,
    "start_time": "2022-08-08T15:20:45.465Z"
   },
   {
    "duration": 141,
    "start_time": "2022-08-08T15:20:45.593Z"
   },
   {
    "duration": 4,
    "start_time": "2022-08-08T15:20:45.736Z"
   },
   {
    "duration": 18,
    "start_time": "2022-08-08T15:20:45.742Z"
   },
   {
    "duration": 145,
    "start_time": "2022-08-08T15:20:45.763Z"
   },
   {
    "duration": 134,
    "start_time": "2022-08-08T15:20:45.909Z"
   },
   {
    "duration": 215,
    "start_time": "2022-08-08T15:20:46.045Z"
   },
   {
    "duration": 9,
    "start_time": "2022-08-08T15:20:46.261Z"
   },
   {
    "duration": 104,
    "start_time": "2022-08-08T15:20:46.271Z"
   },
   {
    "duration": 104,
    "start_time": "2022-08-08T15:20:46.377Z"
   },
   {
    "duration": 30,
    "start_time": "2022-08-08T15:20:46.483Z"
   },
   {
    "duration": 140,
    "start_time": "2022-08-08T15:20:46.515Z"
   },
   {
    "duration": 29,
    "start_time": "2022-08-08T15:20:46.657Z"
   },
   {
    "duration": 14,
    "start_time": "2022-08-08T15:20:46.688Z"
   },
   {
    "duration": 10,
    "start_time": "2022-08-08T15:20:46.704Z"
   },
   {
    "duration": 60,
    "start_time": "2022-08-08T15:20:46.716Z"
   },
   {
    "duration": 17,
    "start_time": "2022-08-08T15:20:46.778Z"
   }
  ],
  "kernelspec": {
   "display_name": "Python 3 (ipykernel)",
   "language": "python",
   "name": "python3"
  },
  "language_info": {
   "codemirror_mode": {
    "name": "ipython",
    "version": 3
   },
   "file_extension": ".py",
   "mimetype": "text/x-python",
   "name": "python",
   "nbconvert_exporter": "python",
   "pygments_lexer": "ipython3",
   "version": "3.9.12"
  },
  "toc": {
   "base_numbering": 1,
   "nav_menu": {},
   "number_sections": false,
   "sideBar": true,
   "skip_h1_title": false,
   "title_cell": "Table of Contents",
   "title_sidebar": "Contents",
   "toc_cell": false,
   "toc_position": {},
   "toc_section_display": true,
   "toc_window_display": true
  }
 },
 "nbformat": 4,
 "nbformat_minor": 2
}
